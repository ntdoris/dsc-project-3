{
 "cells": [
  {
   "cell_type": "markdown",
   "id": "175b7ae5",
   "metadata": {},
   "source": [
    "# Data Science Project 3"
   ]
  },
  {
   "cell_type": "markdown",
   "id": "cd5aec70",
   "metadata": {},
   "source": [
    "- Student Name: Natalya Doris\n",
    "- Student Pace: Flex / 40 weeks\n",
    "- Scheduled Project Review Date / Time: \n",
    "- Instructor Name: Abhineet Kulkarni\n",
    "- Blog Post URL: "
   ]
  },
  {
   "cell_type": "markdown",
   "id": "cec3a221",
   "metadata": {},
   "source": [
    "## Import Statments & Setup"
   ]
  },
  {
   "cell_type": "code",
   "execution_count": 1,
   "id": "2c9dd57c",
   "metadata": {
    "ExecuteTime": {
     "end_time": "2022-09-08T14:42:04.171640Z",
     "start_time": "2022-09-08T14:41:57.335468Z"
    }
   },
   "outputs": [],
   "source": [
    "import pandas as pd\n",
    "import numpy as np\n",
    "import matplotlib.pyplot as plt\n",
    "%matplotlib inline\n",
    "import seaborn as sns\n",
    "from datetime import datetime\n",
    "\n",
    "from sklearn.model_selection import train_test_split, GridSearchCV, \\\n",
    "cross_val_score\n",
    "from sklearn.impute import SimpleImputer\n",
    "from sklearn.tree import DecisionTreeClassifier\n",
    "from sklearn.neighbors import KNeighborsClassifier\n",
    "from sklearn.ensemble import RandomForestClassifier, AdaBoostClassifier, \\\n",
    "BaggingClassifier\n",
    "from sklearn.linear_model import LogisticRegression\n",
    "from sklearn.metrics import accuracy_score, f1_score, recall_score, \\\n",
    "precision_score, confusion_matrix, classification_report\n",
    "from sklearn.preprocessing import StandardScaler, LabelEncoder, \\\n",
    "MinMaxScaler, OneHotEncoder\n",
    "from sklearn.pipeline import Pipeline\n",
    "from xgboost import XGBClassifier\n",
    "from imblearn.over_sampling import SMOTE\n",
    "\n",
    "import warnings\n",
    "warnings.filterwarnings('ignore')"
   ]
  },
  {
   "cell_type": "markdown",
   "id": "b61e0d24",
   "metadata": {
    "heading_collapsed": true
   },
   "source": [
    "### Possible Data Sources"
   ]
  },
  {
   "cell_type": "markdown",
   "id": "d07e481a",
   "metadata": {
    "hidden": true
   },
   "source": [
    "Startup data - predict success / failure\n",
    "- https://www.kaggle.com/datasets/chhinna/crunchbase-data?select=round.csv\n",
    "- https://www.kaggle.com/code/mohammadfikri/startup-success-prediction-precision-recall-94/data?select=startup+data.csv\n",
    "- https://www.kaggle.com/datasets/arindam235/startup-investments-crunchbase"
   ]
  },
  {
   "cell_type": "markdown",
   "id": "61e09705",
   "metadata": {
    "hidden": true
   },
   "source": [
    "This dataset is too short, though nice and clean."
   ]
  },
  {
   "cell_type": "code",
   "execution_count": 2,
   "id": "d398adef",
   "metadata": {
    "ExecuteTime": {
     "end_time": "2022-09-06T16:20:24.836311Z",
     "start_time": "2022-09-06T16:20:24.780035Z"
    },
    "hidden": true
   },
   "outputs": [
    {
     "data": {
      "text/html": [
       "<div>\n",
       "<style scoped>\n",
       "    .dataframe tbody tr th:only-of-type {\n",
       "        vertical-align: middle;\n",
       "    }\n",
       "\n",
       "    .dataframe tbody tr th {\n",
       "        vertical-align: top;\n",
       "    }\n",
       "\n",
       "    .dataframe thead th {\n",
       "        text-align: right;\n",
       "    }\n",
       "</style>\n",
       "<table border=\"1\" class=\"dataframe\">\n",
       "  <thead>\n",
       "    <tr style=\"text-align: right;\">\n",
       "      <th></th>\n",
       "      <th>Unnamed: 0</th>\n",
       "      <th>state_code</th>\n",
       "      <th>latitude</th>\n",
       "      <th>longitude</th>\n",
       "      <th>zip_code</th>\n",
       "      <th>id</th>\n",
       "      <th>city</th>\n",
       "      <th>Unnamed: 6</th>\n",
       "      <th>name</th>\n",
       "      <th>labels</th>\n",
       "      <th>...</th>\n",
       "      <th>object_id</th>\n",
       "      <th>has_VC</th>\n",
       "      <th>has_angel</th>\n",
       "      <th>has_roundA</th>\n",
       "      <th>has_roundB</th>\n",
       "      <th>has_roundC</th>\n",
       "      <th>has_roundD</th>\n",
       "      <th>avg_participants</th>\n",
       "      <th>is_top500</th>\n",
       "      <th>status</th>\n",
       "    </tr>\n",
       "  </thead>\n",
       "  <tbody>\n",
       "    <tr>\n",
       "      <th>0</th>\n",
       "      <td>1005</td>\n",
       "      <td>CA</td>\n",
       "      <td>42.358880</td>\n",
       "      <td>-71.056820</td>\n",
       "      <td>92101</td>\n",
       "      <td>c:6669</td>\n",
       "      <td>San Diego</td>\n",
       "      <td>NaN</td>\n",
       "      <td>Bandsintown</td>\n",
       "      <td>1</td>\n",
       "      <td>...</td>\n",
       "      <td>c:6669</td>\n",
       "      <td>0</td>\n",
       "      <td>1</td>\n",
       "      <td>0</td>\n",
       "      <td>0</td>\n",
       "      <td>0</td>\n",
       "      <td>0</td>\n",
       "      <td>1.0000</td>\n",
       "      <td>0</td>\n",
       "      <td>acquired</td>\n",
       "    </tr>\n",
       "    <tr>\n",
       "      <th>1</th>\n",
       "      <td>204</td>\n",
       "      <td>CA</td>\n",
       "      <td>37.238916</td>\n",
       "      <td>-121.973718</td>\n",
       "      <td>95032</td>\n",
       "      <td>c:16283</td>\n",
       "      <td>Los Gatos</td>\n",
       "      <td>NaN</td>\n",
       "      <td>TriCipher</td>\n",
       "      <td>1</td>\n",
       "      <td>...</td>\n",
       "      <td>c:16283</td>\n",
       "      <td>1</td>\n",
       "      <td>0</td>\n",
       "      <td>0</td>\n",
       "      <td>1</td>\n",
       "      <td>1</td>\n",
       "      <td>1</td>\n",
       "      <td>4.7500</td>\n",
       "      <td>1</td>\n",
       "      <td>acquired</td>\n",
       "    </tr>\n",
       "    <tr>\n",
       "      <th>2</th>\n",
       "      <td>1001</td>\n",
       "      <td>CA</td>\n",
       "      <td>32.901049</td>\n",
       "      <td>-117.192656</td>\n",
       "      <td>92121</td>\n",
       "      <td>c:65620</td>\n",
       "      <td>San Diego</td>\n",
       "      <td>San Diego CA 92121</td>\n",
       "      <td>Plixi</td>\n",
       "      <td>1</td>\n",
       "      <td>...</td>\n",
       "      <td>c:65620</td>\n",
       "      <td>0</td>\n",
       "      <td>0</td>\n",
       "      <td>1</td>\n",
       "      <td>0</td>\n",
       "      <td>0</td>\n",
       "      <td>0</td>\n",
       "      <td>4.0000</td>\n",
       "      <td>1</td>\n",
       "      <td>acquired</td>\n",
       "    </tr>\n",
       "    <tr>\n",
       "      <th>3</th>\n",
       "      <td>738</td>\n",
       "      <td>CA</td>\n",
       "      <td>37.320309</td>\n",
       "      <td>-122.050040</td>\n",
       "      <td>95014</td>\n",
       "      <td>c:42668</td>\n",
       "      <td>Cupertino</td>\n",
       "      <td>Cupertino CA 95014</td>\n",
       "      <td>Solidcore Systems</td>\n",
       "      <td>1</td>\n",
       "      <td>...</td>\n",
       "      <td>c:42668</td>\n",
       "      <td>0</td>\n",
       "      <td>0</td>\n",
       "      <td>0</td>\n",
       "      <td>1</td>\n",
       "      <td>1</td>\n",
       "      <td>1</td>\n",
       "      <td>3.3333</td>\n",
       "      <td>1</td>\n",
       "      <td>acquired</td>\n",
       "    </tr>\n",
       "    <tr>\n",
       "      <th>4</th>\n",
       "      <td>1002</td>\n",
       "      <td>CA</td>\n",
       "      <td>37.779281</td>\n",
       "      <td>-122.419236</td>\n",
       "      <td>94105</td>\n",
       "      <td>c:65806</td>\n",
       "      <td>San Francisco</td>\n",
       "      <td>San Francisco CA 94105</td>\n",
       "      <td>Inhale Digital</td>\n",
       "      <td>0</td>\n",
       "      <td>...</td>\n",
       "      <td>c:65806</td>\n",
       "      <td>1</td>\n",
       "      <td>1</td>\n",
       "      <td>0</td>\n",
       "      <td>0</td>\n",
       "      <td>0</td>\n",
       "      <td>0</td>\n",
       "      <td>1.0000</td>\n",
       "      <td>1</td>\n",
       "      <td>closed</td>\n",
       "    </tr>\n",
       "  </tbody>\n",
       "</table>\n",
       "<p>5 rows × 49 columns</p>\n",
       "</div>"
      ],
      "text/plain": [
       "   Unnamed: 0 state_code   latitude   longitude zip_code       id  \\\n",
       "0        1005         CA  42.358880  -71.056820    92101   c:6669   \n",
       "1         204         CA  37.238916 -121.973718    95032  c:16283   \n",
       "2        1001         CA  32.901049 -117.192656    92121  c:65620   \n",
       "3         738         CA  37.320309 -122.050040    95014  c:42668   \n",
       "4        1002         CA  37.779281 -122.419236    94105  c:65806   \n",
       "\n",
       "            city              Unnamed: 6               name  labels  ...  \\\n",
       "0      San Diego                     NaN        Bandsintown       1  ...   \n",
       "1      Los Gatos                     NaN          TriCipher       1  ...   \n",
       "2      San Diego      San Diego CA 92121              Plixi       1  ...   \n",
       "3      Cupertino      Cupertino CA 95014  Solidcore Systems       1  ...   \n",
       "4  San Francisco  San Francisco CA 94105     Inhale Digital       0  ...   \n",
       "\n",
       "  object_id has_VC has_angel has_roundA  has_roundB  has_roundC  has_roundD  \\\n",
       "0    c:6669      0         1          0           0           0           0   \n",
       "1   c:16283      1         0          0           1           1           1   \n",
       "2   c:65620      0         0          1           0           0           0   \n",
       "3   c:42668      0         0          0           1           1           1   \n",
       "4   c:65806      1         1          0           0           0           0   \n",
       "\n",
       "   avg_participants  is_top500    status  \n",
       "0            1.0000          0  acquired  \n",
       "1            4.7500          1  acquired  \n",
       "2            4.0000          1  acquired  \n",
       "3            3.3333          1  acquired  \n",
       "4            1.0000          1    closed  \n",
       "\n",
       "[5 rows x 49 columns]"
      ]
     },
     "execution_count": 2,
     "metadata": {},
     "output_type": "execute_result"
    }
   ],
   "source": [
    "df1 = pd.read_csv('data/startup data.csv')\n",
    "df1.head()"
   ]
  },
  {
   "cell_type": "code",
   "execution_count": 3,
   "id": "5713b575",
   "metadata": {
    "ExecuteTime": {
     "end_time": "2022-09-06T16:20:24.963342Z",
     "start_time": "2022-09-06T16:20:24.841819Z"
    },
    "hidden": true
   },
   "outputs": [
    {
     "name": "stdout",
     "output_type": "stream",
     "text": [
      "<class 'pandas.core.frame.DataFrame'>\n",
      "RangeIndex: 923 entries, 0 to 922\n",
      "Data columns (total 49 columns):\n",
      " #   Column                    Non-Null Count  Dtype  \n",
      "---  ------                    --------------  -----  \n",
      " 0   Unnamed: 0                923 non-null    int64  \n",
      " 1   state_code                923 non-null    object \n",
      " 2   latitude                  923 non-null    float64\n",
      " 3   longitude                 923 non-null    float64\n",
      " 4   zip_code                  923 non-null    object \n",
      " 5   id                        923 non-null    object \n",
      " 6   city                      923 non-null    object \n",
      " 7   Unnamed: 6                430 non-null    object \n",
      " 8   name                      923 non-null    object \n",
      " 9   labels                    923 non-null    int64  \n",
      " 10  founded_at                923 non-null    object \n",
      " 11  closed_at                 335 non-null    object \n",
      " 12  first_funding_at          923 non-null    object \n",
      " 13  last_funding_at           923 non-null    object \n",
      " 14  age_first_funding_year    923 non-null    float64\n",
      " 15  age_last_funding_year     923 non-null    float64\n",
      " 16  age_first_milestone_year  771 non-null    float64\n",
      " 17  age_last_milestone_year   771 non-null    float64\n",
      " 18  relationships             923 non-null    int64  \n",
      " 19  funding_rounds            923 non-null    int64  \n",
      " 20  funding_total_usd         923 non-null    int64  \n",
      " 21  milestones                923 non-null    int64  \n",
      " 22  state_code.1              922 non-null    object \n",
      " 23  is_CA                     923 non-null    int64  \n",
      " 24  is_NY                     923 non-null    int64  \n",
      " 25  is_MA                     923 non-null    int64  \n",
      " 26  is_TX                     923 non-null    int64  \n",
      " 27  is_otherstate             923 non-null    int64  \n",
      " 28  category_code             923 non-null    object \n",
      " 29  is_software               923 non-null    int64  \n",
      " 30  is_web                    923 non-null    int64  \n",
      " 31  is_mobile                 923 non-null    int64  \n",
      " 32  is_enterprise             923 non-null    int64  \n",
      " 33  is_advertising            923 non-null    int64  \n",
      " 34  is_gamesvideo             923 non-null    int64  \n",
      " 35  is_ecommerce              923 non-null    int64  \n",
      " 36  is_biotech                923 non-null    int64  \n",
      " 37  is_consulting             923 non-null    int64  \n",
      " 38  is_othercategory          923 non-null    int64  \n",
      " 39  object_id                 923 non-null    object \n",
      " 40  has_VC                    923 non-null    int64  \n",
      " 41  has_angel                 923 non-null    int64  \n",
      " 42  has_roundA                923 non-null    int64  \n",
      " 43  has_roundB                923 non-null    int64  \n",
      " 44  has_roundC                923 non-null    int64  \n",
      " 45  has_roundD                923 non-null    int64  \n",
      " 46  avg_participants          923 non-null    float64\n",
      " 47  is_top500                 923 non-null    int64  \n",
      " 48  status                    923 non-null    object \n",
      "dtypes: float64(7), int64(28), object(14)\n",
      "memory usage: 353.5+ KB\n",
      "None\n"
     ]
    },
    {
     "data": {
      "text/html": [
       "<div>\n",
       "<style scoped>\n",
       "    .dataframe tbody tr th:only-of-type {\n",
       "        vertical-align: middle;\n",
       "    }\n",
       "\n",
       "    .dataframe tbody tr th {\n",
       "        vertical-align: top;\n",
       "    }\n",
       "\n",
       "    .dataframe thead th {\n",
       "        text-align: right;\n",
       "    }\n",
       "</style>\n",
       "<table border=\"1\" class=\"dataframe\">\n",
       "  <thead>\n",
       "    <tr style=\"text-align: right;\">\n",
       "      <th></th>\n",
       "      <th>Unnamed: 0</th>\n",
       "      <th>latitude</th>\n",
       "      <th>longitude</th>\n",
       "      <th>labels</th>\n",
       "      <th>age_first_funding_year</th>\n",
       "      <th>age_last_funding_year</th>\n",
       "      <th>age_first_milestone_year</th>\n",
       "      <th>age_last_milestone_year</th>\n",
       "      <th>relationships</th>\n",
       "      <th>funding_rounds</th>\n",
       "      <th>...</th>\n",
       "      <th>is_consulting</th>\n",
       "      <th>is_othercategory</th>\n",
       "      <th>has_VC</th>\n",
       "      <th>has_angel</th>\n",
       "      <th>has_roundA</th>\n",
       "      <th>has_roundB</th>\n",
       "      <th>has_roundC</th>\n",
       "      <th>has_roundD</th>\n",
       "      <th>avg_participants</th>\n",
       "      <th>is_top500</th>\n",
       "    </tr>\n",
       "  </thead>\n",
       "  <tbody>\n",
       "    <tr>\n",
       "      <th>count</th>\n",
       "      <td>923.000000</td>\n",
       "      <td>923.000000</td>\n",
       "      <td>923.000000</td>\n",
       "      <td>923.000000</td>\n",
       "      <td>923.000000</td>\n",
       "      <td>923.000000</td>\n",
       "      <td>771.000000</td>\n",
       "      <td>771.000000</td>\n",
       "      <td>923.000000</td>\n",
       "      <td>923.000000</td>\n",
       "      <td>...</td>\n",
       "      <td>923.000000</td>\n",
       "      <td>923.000000</td>\n",
       "      <td>923.000000</td>\n",
       "      <td>923.000000</td>\n",
       "      <td>923.000000</td>\n",
       "      <td>923.000000</td>\n",
       "      <td>923.000000</td>\n",
       "      <td>923.000000</td>\n",
       "      <td>923.000000</td>\n",
       "      <td>923.000000</td>\n",
       "    </tr>\n",
       "    <tr>\n",
       "      <th>mean</th>\n",
       "      <td>572.297941</td>\n",
       "      <td>38.517442</td>\n",
       "      <td>-103.539212</td>\n",
       "      <td>0.646804</td>\n",
       "      <td>2.235630</td>\n",
       "      <td>3.931456</td>\n",
       "      <td>3.055353</td>\n",
       "      <td>4.754423</td>\n",
       "      <td>7.710726</td>\n",
       "      <td>2.310943</td>\n",
       "      <td>...</td>\n",
       "      <td>0.003250</td>\n",
       "      <td>0.322860</td>\n",
       "      <td>0.326111</td>\n",
       "      <td>0.254605</td>\n",
       "      <td>0.508126</td>\n",
       "      <td>0.392199</td>\n",
       "      <td>0.232936</td>\n",
       "      <td>0.099675</td>\n",
       "      <td>2.838586</td>\n",
       "      <td>0.809317</td>\n",
       "    </tr>\n",
       "    <tr>\n",
       "      <th>std</th>\n",
       "      <td>333.585431</td>\n",
       "      <td>3.741497</td>\n",
       "      <td>22.394167</td>\n",
       "      <td>0.478222</td>\n",
       "      <td>2.510449</td>\n",
       "      <td>2.967910</td>\n",
       "      <td>2.977057</td>\n",
       "      <td>3.212107</td>\n",
       "      <td>7.265776</td>\n",
       "      <td>1.390922</td>\n",
       "      <td>...</td>\n",
       "      <td>0.056949</td>\n",
       "      <td>0.467823</td>\n",
       "      <td>0.469042</td>\n",
       "      <td>0.435875</td>\n",
       "      <td>0.500205</td>\n",
       "      <td>0.488505</td>\n",
       "      <td>0.422931</td>\n",
       "      <td>0.299729</td>\n",
       "      <td>1.874601</td>\n",
       "      <td>0.393052</td>\n",
       "    </tr>\n",
       "    <tr>\n",
       "      <th>min</th>\n",
       "      <td>1.000000</td>\n",
       "      <td>25.752358</td>\n",
       "      <td>-122.756956</td>\n",
       "      <td>0.000000</td>\n",
       "      <td>-9.046600</td>\n",
       "      <td>-9.046600</td>\n",
       "      <td>-14.169900</td>\n",
       "      <td>-7.005500</td>\n",
       "      <td>0.000000</td>\n",
       "      <td>1.000000</td>\n",
       "      <td>...</td>\n",
       "      <td>0.000000</td>\n",
       "      <td>0.000000</td>\n",
       "      <td>0.000000</td>\n",
       "      <td>0.000000</td>\n",
       "      <td>0.000000</td>\n",
       "      <td>0.000000</td>\n",
       "      <td>0.000000</td>\n",
       "      <td>0.000000</td>\n",
       "      <td>1.000000</td>\n",
       "      <td>0.000000</td>\n",
       "    </tr>\n",
       "    <tr>\n",
       "      <th>25%</th>\n",
       "      <td>283.500000</td>\n",
       "      <td>37.388869</td>\n",
       "      <td>-122.198732</td>\n",
       "      <td>0.000000</td>\n",
       "      <td>0.576700</td>\n",
       "      <td>1.669850</td>\n",
       "      <td>1.000000</td>\n",
       "      <td>2.411000</td>\n",
       "      <td>3.000000</td>\n",
       "      <td>1.000000</td>\n",
       "      <td>...</td>\n",
       "      <td>0.000000</td>\n",
       "      <td>0.000000</td>\n",
       "      <td>0.000000</td>\n",
       "      <td>0.000000</td>\n",
       "      <td>0.000000</td>\n",
       "      <td>0.000000</td>\n",
       "      <td>0.000000</td>\n",
       "      <td>0.000000</td>\n",
       "      <td>1.500000</td>\n",
       "      <td>1.000000</td>\n",
       "    </tr>\n",
       "    <tr>\n",
       "      <th>50%</th>\n",
       "      <td>577.000000</td>\n",
       "      <td>37.779281</td>\n",
       "      <td>-118.374037</td>\n",
       "      <td>1.000000</td>\n",
       "      <td>1.446600</td>\n",
       "      <td>3.528800</td>\n",
       "      <td>2.520500</td>\n",
       "      <td>4.476700</td>\n",
       "      <td>5.000000</td>\n",
       "      <td>2.000000</td>\n",
       "      <td>...</td>\n",
       "      <td>0.000000</td>\n",
       "      <td>0.000000</td>\n",
       "      <td>0.000000</td>\n",
       "      <td>0.000000</td>\n",
       "      <td>1.000000</td>\n",
       "      <td>0.000000</td>\n",
       "      <td>0.000000</td>\n",
       "      <td>0.000000</td>\n",
       "      <td>2.500000</td>\n",
       "      <td>1.000000</td>\n",
       "    </tr>\n",
       "    <tr>\n",
       "      <th>75%</th>\n",
       "      <td>866.500000</td>\n",
       "      <td>40.730646</td>\n",
       "      <td>-77.214731</td>\n",
       "      <td>1.000000</td>\n",
       "      <td>3.575350</td>\n",
       "      <td>5.560250</td>\n",
       "      <td>4.686300</td>\n",
       "      <td>6.753400</td>\n",
       "      <td>10.000000</td>\n",
       "      <td>3.000000</td>\n",
       "      <td>...</td>\n",
       "      <td>0.000000</td>\n",
       "      <td>1.000000</td>\n",
       "      <td>1.000000</td>\n",
       "      <td>1.000000</td>\n",
       "      <td>1.000000</td>\n",
       "      <td>1.000000</td>\n",
       "      <td>0.000000</td>\n",
       "      <td>0.000000</td>\n",
       "      <td>3.800000</td>\n",
       "      <td>1.000000</td>\n",
       "    </tr>\n",
       "    <tr>\n",
       "      <th>max</th>\n",
       "      <td>1153.000000</td>\n",
       "      <td>59.335232</td>\n",
       "      <td>18.057121</td>\n",
       "      <td>1.000000</td>\n",
       "      <td>21.895900</td>\n",
       "      <td>21.895900</td>\n",
       "      <td>24.684900</td>\n",
       "      <td>24.684900</td>\n",
       "      <td>63.000000</td>\n",
       "      <td>10.000000</td>\n",
       "      <td>...</td>\n",
       "      <td>1.000000</td>\n",
       "      <td>1.000000</td>\n",
       "      <td>1.000000</td>\n",
       "      <td>1.000000</td>\n",
       "      <td>1.000000</td>\n",
       "      <td>1.000000</td>\n",
       "      <td>1.000000</td>\n",
       "      <td>1.000000</td>\n",
       "      <td>16.000000</td>\n",
       "      <td>1.000000</td>\n",
       "    </tr>\n",
       "  </tbody>\n",
       "</table>\n",
       "<p>8 rows × 35 columns</p>\n",
       "</div>"
      ],
      "text/plain": [
       "        Unnamed: 0    latitude   longitude      labels  \\\n",
       "count   923.000000  923.000000  923.000000  923.000000   \n",
       "mean    572.297941   38.517442 -103.539212    0.646804   \n",
       "std     333.585431    3.741497   22.394167    0.478222   \n",
       "min       1.000000   25.752358 -122.756956    0.000000   \n",
       "25%     283.500000   37.388869 -122.198732    0.000000   \n",
       "50%     577.000000   37.779281 -118.374037    1.000000   \n",
       "75%     866.500000   40.730646  -77.214731    1.000000   \n",
       "max    1153.000000   59.335232   18.057121    1.000000   \n",
       "\n",
       "       age_first_funding_year  age_last_funding_year  \\\n",
       "count              923.000000             923.000000   \n",
       "mean                 2.235630               3.931456   \n",
       "std                  2.510449               2.967910   \n",
       "min                 -9.046600              -9.046600   \n",
       "25%                  0.576700               1.669850   \n",
       "50%                  1.446600               3.528800   \n",
       "75%                  3.575350               5.560250   \n",
       "max                 21.895900              21.895900   \n",
       "\n",
       "       age_first_milestone_year  age_last_milestone_year  relationships  \\\n",
       "count                771.000000               771.000000     923.000000   \n",
       "mean                   3.055353                 4.754423       7.710726   \n",
       "std                    2.977057                 3.212107       7.265776   \n",
       "min                  -14.169900                -7.005500       0.000000   \n",
       "25%                    1.000000                 2.411000       3.000000   \n",
       "50%                    2.520500                 4.476700       5.000000   \n",
       "75%                    4.686300                 6.753400      10.000000   \n",
       "max                   24.684900                24.684900      63.000000   \n",
       "\n",
       "       funding_rounds  ...  is_consulting  is_othercategory      has_VC  \\\n",
       "count      923.000000  ...     923.000000        923.000000  923.000000   \n",
       "mean         2.310943  ...       0.003250          0.322860    0.326111   \n",
       "std          1.390922  ...       0.056949          0.467823    0.469042   \n",
       "min          1.000000  ...       0.000000          0.000000    0.000000   \n",
       "25%          1.000000  ...       0.000000          0.000000    0.000000   \n",
       "50%          2.000000  ...       0.000000          0.000000    0.000000   \n",
       "75%          3.000000  ...       0.000000          1.000000    1.000000   \n",
       "max         10.000000  ...       1.000000          1.000000    1.000000   \n",
       "\n",
       "        has_angel  has_roundA  has_roundB  has_roundC  has_roundD  \\\n",
       "count  923.000000  923.000000  923.000000  923.000000  923.000000   \n",
       "mean     0.254605    0.508126    0.392199    0.232936    0.099675   \n",
       "std      0.435875    0.500205    0.488505    0.422931    0.299729   \n",
       "min      0.000000    0.000000    0.000000    0.000000    0.000000   \n",
       "25%      0.000000    0.000000    0.000000    0.000000    0.000000   \n",
       "50%      0.000000    1.000000    0.000000    0.000000    0.000000   \n",
       "75%      1.000000    1.000000    1.000000    0.000000    0.000000   \n",
       "max      1.000000    1.000000    1.000000    1.000000    1.000000   \n",
       "\n",
       "       avg_participants   is_top500  \n",
       "count        923.000000  923.000000  \n",
       "mean           2.838586    0.809317  \n",
       "std            1.874601    0.393052  \n",
       "min            1.000000    0.000000  \n",
       "25%            1.500000    1.000000  \n",
       "50%            2.500000    1.000000  \n",
       "75%            3.800000    1.000000  \n",
       "max           16.000000    1.000000  \n",
       "\n",
       "[8 rows x 35 columns]"
      ]
     },
     "execution_count": 3,
     "metadata": {},
     "output_type": "execute_result"
    }
   ],
   "source": [
    "print(df1.info())\n",
    "df1.describe()"
   ]
  },
  {
   "cell_type": "code",
   "execution_count": 4,
   "id": "5e058cb1",
   "metadata": {
    "ExecuteTime": {
     "end_time": "2022-09-06T16:20:24.986324Z",
     "start_time": "2022-09-06T16:20:24.977352Z"
    },
    "hidden": true
   },
   "outputs": [
    {
     "data": {
      "text/plain": [
       "acquired    597\n",
       "closed      326\n",
       "Name: status, dtype: int64"
      ]
     },
     "execution_count": 4,
     "metadata": {},
     "output_type": "execute_result"
    }
   ],
   "source": [
    "df1['status'].value_counts()"
   ]
  },
  {
   "cell_type": "code",
   "execution_count": 3,
   "id": "ed33d3c2",
   "metadata": {
    "ExecuteTime": {
     "end_time": "2022-09-08T14:42:15.960323Z",
     "start_time": "2022-09-08T14:42:15.406384Z"
    },
    "hidden": true
   },
   "outputs": [
    {
     "data": {
      "text/html": [
       "<div>\n",
       "<style scoped>\n",
       "    .dataframe tbody tr th:only-of-type {\n",
       "        vertical-align: middle;\n",
       "    }\n",
       "\n",
       "    .dataframe tbody tr th {\n",
       "        vertical-align: top;\n",
       "    }\n",
       "\n",
       "    .dataframe thead th {\n",
       "        text-align: right;\n",
       "    }\n",
       "</style>\n",
       "<table border=\"1\" class=\"dataframe\">\n",
       "  <thead>\n",
       "    <tr style=\"text-align: right;\">\n",
       "      <th></th>\n",
       "      <th>permalink</th>\n",
       "      <th>name</th>\n",
       "      <th>homepage_url</th>\n",
       "      <th>category_list</th>\n",
       "      <th>market</th>\n",
       "      <th>funding_total_usd</th>\n",
       "      <th>status</th>\n",
       "      <th>country_code</th>\n",
       "      <th>state_code</th>\n",
       "      <th>region</th>\n",
       "      <th>...</th>\n",
       "      <th>secondary_market</th>\n",
       "      <th>product_crowdfunding</th>\n",
       "      <th>round_A</th>\n",
       "      <th>round_B</th>\n",
       "      <th>round_C</th>\n",
       "      <th>round_D</th>\n",
       "      <th>round_E</th>\n",
       "      <th>round_F</th>\n",
       "      <th>round_G</th>\n",
       "      <th>round_H</th>\n",
       "    </tr>\n",
       "  </thead>\n",
       "  <tbody>\n",
       "    <tr>\n",
       "      <th>0</th>\n",
       "      <td>/organization/waywire</td>\n",
       "      <td>#waywire</td>\n",
       "      <td>http://www.waywire.com</td>\n",
       "      <td>|Entertainment|Politics|Social Media|News|</td>\n",
       "      <td>News</td>\n",
       "      <td>17,50,000</td>\n",
       "      <td>acquired</td>\n",
       "      <td>USA</td>\n",
       "      <td>NY</td>\n",
       "      <td>New York City</td>\n",
       "      <td>...</td>\n",
       "      <td>0.0</td>\n",
       "      <td>0.0</td>\n",
       "      <td>0.0</td>\n",
       "      <td>0.0</td>\n",
       "      <td>0.0</td>\n",
       "      <td>0.0</td>\n",
       "      <td>0.0</td>\n",
       "      <td>0.0</td>\n",
       "      <td>0.0</td>\n",
       "      <td>0.0</td>\n",
       "    </tr>\n",
       "    <tr>\n",
       "      <th>1</th>\n",
       "      <td>/organization/tv-communications</td>\n",
       "      <td>&amp;TV Communications</td>\n",
       "      <td>http://enjoyandtv.com</td>\n",
       "      <td>|Games|</td>\n",
       "      <td>Games</td>\n",
       "      <td>40,00,000</td>\n",
       "      <td>operating</td>\n",
       "      <td>USA</td>\n",
       "      <td>CA</td>\n",
       "      <td>Los Angeles</td>\n",
       "      <td>...</td>\n",
       "      <td>0.0</td>\n",
       "      <td>0.0</td>\n",
       "      <td>0.0</td>\n",
       "      <td>0.0</td>\n",
       "      <td>0.0</td>\n",
       "      <td>0.0</td>\n",
       "      <td>0.0</td>\n",
       "      <td>0.0</td>\n",
       "      <td>0.0</td>\n",
       "      <td>0.0</td>\n",
       "    </tr>\n",
       "    <tr>\n",
       "      <th>2</th>\n",
       "      <td>/organization/rock-your-paper</td>\n",
       "      <td>'Rock' Your Paper</td>\n",
       "      <td>http://www.rockyourpaper.org</td>\n",
       "      <td>|Publishing|Education|</td>\n",
       "      <td>Publishing</td>\n",
       "      <td>40,000</td>\n",
       "      <td>operating</td>\n",
       "      <td>EST</td>\n",
       "      <td>NaN</td>\n",
       "      <td>Tallinn</td>\n",
       "      <td>...</td>\n",
       "      <td>0.0</td>\n",
       "      <td>0.0</td>\n",
       "      <td>0.0</td>\n",
       "      <td>0.0</td>\n",
       "      <td>0.0</td>\n",
       "      <td>0.0</td>\n",
       "      <td>0.0</td>\n",
       "      <td>0.0</td>\n",
       "      <td>0.0</td>\n",
       "      <td>0.0</td>\n",
       "    </tr>\n",
       "    <tr>\n",
       "      <th>3</th>\n",
       "      <td>/organization/in-touch-network</td>\n",
       "      <td>(In)Touch Network</td>\n",
       "      <td>http://www.InTouchNetwork.com</td>\n",
       "      <td>|Electronics|Guides|Coffee|Restaurants|Music|i...</td>\n",
       "      <td>Electronics</td>\n",
       "      <td>15,00,000</td>\n",
       "      <td>operating</td>\n",
       "      <td>GBR</td>\n",
       "      <td>NaN</td>\n",
       "      <td>London</td>\n",
       "      <td>...</td>\n",
       "      <td>0.0</td>\n",
       "      <td>0.0</td>\n",
       "      <td>0.0</td>\n",
       "      <td>0.0</td>\n",
       "      <td>0.0</td>\n",
       "      <td>0.0</td>\n",
       "      <td>0.0</td>\n",
       "      <td>0.0</td>\n",
       "      <td>0.0</td>\n",
       "      <td>0.0</td>\n",
       "    </tr>\n",
       "    <tr>\n",
       "      <th>4</th>\n",
       "      <td>/organization/r-ranch-and-mine</td>\n",
       "      <td>-R- Ranch and Mine</td>\n",
       "      <td>NaN</td>\n",
       "      <td>|Tourism|Entertainment|Games|</td>\n",
       "      <td>Tourism</td>\n",
       "      <td>60,000</td>\n",
       "      <td>operating</td>\n",
       "      <td>USA</td>\n",
       "      <td>TX</td>\n",
       "      <td>Dallas</td>\n",
       "      <td>...</td>\n",
       "      <td>0.0</td>\n",
       "      <td>0.0</td>\n",
       "      <td>0.0</td>\n",
       "      <td>0.0</td>\n",
       "      <td>0.0</td>\n",
       "      <td>0.0</td>\n",
       "      <td>0.0</td>\n",
       "      <td>0.0</td>\n",
       "      <td>0.0</td>\n",
       "      <td>0.0</td>\n",
       "    </tr>\n",
       "  </tbody>\n",
       "</table>\n",
       "<p>5 rows × 39 columns</p>\n",
       "</div>"
      ],
      "text/plain": [
       "                         permalink                name  \\\n",
       "0            /organization/waywire            #waywire   \n",
       "1  /organization/tv-communications  &TV Communications   \n",
       "2    /organization/rock-your-paper   'Rock' Your Paper   \n",
       "3   /organization/in-touch-network   (In)Touch Network   \n",
       "4   /organization/r-ranch-and-mine  -R- Ranch and Mine   \n",
       "\n",
       "                    homepage_url  \\\n",
       "0         http://www.waywire.com   \n",
       "1          http://enjoyandtv.com   \n",
       "2   http://www.rockyourpaper.org   \n",
       "3  http://www.InTouchNetwork.com   \n",
       "4                            NaN   \n",
       "\n",
       "                                       category_list        market   \\\n",
       "0         |Entertainment|Politics|Social Media|News|          News    \n",
       "1                                            |Games|         Games    \n",
       "2                             |Publishing|Education|    Publishing    \n",
       "3  |Electronics|Guides|Coffee|Restaurants|Music|i...   Electronics    \n",
       "4                      |Tourism|Entertainment|Games|       Tourism    \n",
       "\n",
       "   funding_total_usd      status country_code state_code         region  ...  \\\n",
       "0          17,50,000    acquired          USA         NY  New York City  ...   \n",
       "1          40,00,000   operating          USA         CA    Los Angeles  ...   \n",
       "2             40,000   operating          EST        NaN        Tallinn  ...   \n",
       "3          15,00,000   operating          GBR        NaN         London  ...   \n",
       "4             60,000   operating          USA         TX         Dallas  ...   \n",
       "\n",
       "  secondary_market  product_crowdfunding round_A round_B round_C  round_D  \\\n",
       "0              0.0                   0.0     0.0     0.0     0.0      0.0   \n",
       "1              0.0                   0.0     0.0     0.0     0.0      0.0   \n",
       "2              0.0                   0.0     0.0     0.0     0.0      0.0   \n",
       "3              0.0                   0.0     0.0     0.0     0.0      0.0   \n",
       "4              0.0                   0.0     0.0     0.0     0.0      0.0   \n",
       "\n",
       "  round_E round_F  round_G  round_H  \n",
       "0     0.0     0.0      0.0      0.0  \n",
       "1     0.0     0.0      0.0      0.0  \n",
       "2     0.0     0.0      0.0      0.0  \n",
       "3     0.0     0.0      0.0      0.0  \n",
       "4     0.0     0.0      0.0      0.0  \n",
       "\n",
       "[5 rows x 39 columns]"
      ]
     },
     "execution_count": 3,
     "metadata": {},
     "output_type": "execute_result"
    }
   ],
   "source": [
    "df2 = pd.read_csv('data/investments_VC.csv', encoding = \"ISO-8859-1\")\n",
    "df2.head()"
   ]
  },
  {
   "cell_type": "code",
   "execution_count": 6,
   "id": "6ccab063",
   "metadata": {
    "ExecuteTime": {
     "end_time": "2022-09-06T16:20:25.615769Z",
     "start_time": "2022-09-06T16:20:25.441226Z"
    },
    "hidden": true
   },
   "outputs": [
    {
     "name": "stdout",
     "output_type": "stream",
     "text": [
      "<class 'pandas.core.frame.DataFrame'>\n",
      "RangeIndex: 54294 entries, 0 to 54293\n",
      "Data columns (total 39 columns):\n",
      " #   Column                Non-Null Count  Dtype  \n",
      "---  ------                --------------  -----  \n",
      " 0   permalink             49438 non-null  object \n",
      " 1   name                  49437 non-null  object \n",
      " 2   homepage_url          45989 non-null  object \n",
      " 3   category_list         45477 non-null  object \n",
      " 4    market               45470 non-null  object \n",
      " 5    funding_total_usd    49438 non-null  object \n",
      " 6   status                48124 non-null  object \n",
      " 7   country_code          44165 non-null  object \n",
      " 8   state_code            30161 non-null  object \n",
      " 9   region                44165 non-null  object \n",
      " 10  city                  43322 non-null  object \n",
      " 11  funding_rounds        49438 non-null  float64\n",
      " 12  founded_at            38554 non-null  object \n",
      " 13  founded_month         38482 non-null  object \n",
      " 14  founded_quarter       38482 non-null  object \n",
      " 15  founded_year          38482 non-null  float64\n",
      " 16  first_funding_at      49438 non-null  object \n",
      " 17  last_funding_at       49438 non-null  object \n",
      " 18  seed                  49438 non-null  float64\n",
      " 19  venture               49438 non-null  float64\n",
      " 20  equity_crowdfunding   49438 non-null  float64\n",
      " 21  undisclosed           49438 non-null  float64\n",
      " 22  convertible_note      49438 non-null  float64\n",
      " 23  debt_financing        49438 non-null  float64\n",
      " 24  angel                 49438 non-null  float64\n",
      " 25  grant                 49438 non-null  float64\n",
      " 26  private_equity        49438 non-null  float64\n",
      " 27  post_ipo_equity       49438 non-null  float64\n",
      " 28  post_ipo_debt         49438 non-null  float64\n",
      " 29  secondary_market      49438 non-null  float64\n",
      " 30  product_crowdfunding  49438 non-null  float64\n",
      " 31  round_A               49438 non-null  float64\n",
      " 32  round_B               49438 non-null  float64\n",
      " 33  round_C               49438 non-null  float64\n",
      " 34  round_D               49438 non-null  float64\n",
      " 35  round_E               49438 non-null  float64\n",
      " 36  round_F               49438 non-null  float64\n",
      " 37  round_G               49438 non-null  float64\n",
      " 38  round_H               49438 non-null  float64\n",
      "dtypes: float64(23), object(16)\n",
      "memory usage: 16.2+ MB\n",
      "None\n"
     ]
    },
    {
     "data": {
      "text/html": [
       "<div>\n",
       "<style scoped>\n",
       "    .dataframe tbody tr th:only-of-type {\n",
       "        vertical-align: middle;\n",
       "    }\n",
       "\n",
       "    .dataframe tbody tr th {\n",
       "        vertical-align: top;\n",
       "    }\n",
       "\n",
       "    .dataframe thead th {\n",
       "        text-align: right;\n",
       "    }\n",
       "</style>\n",
       "<table border=\"1\" class=\"dataframe\">\n",
       "  <thead>\n",
       "    <tr style=\"text-align: right;\">\n",
       "      <th></th>\n",
       "      <th>funding_rounds</th>\n",
       "      <th>founded_year</th>\n",
       "      <th>seed</th>\n",
       "      <th>venture</th>\n",
       "      <th>equity_crowdfunding</th>\n",
       "      <th>undisclosed</th>\n",
       "      <th>convertible_note</th>\n",
       "      <th>debt_financing</th>\n",
       "      <th>angel</th>\n",
       "      <th>grant</th>\n",
       "      <th>...</th>\n",
       "      <th>secondary_market</th>\n",
       "      <th>product_crowdfunding</th>\n",
       "      <th>round_A</th>\n",
       "      <th>round_B</th>\n",
       "      <th>round_C</th>\n",
       "      <th>round_D</th>\n",
       "      <th>round_E</th>\n",
       "      <th>round_F</th>\n",
       "      <th>round_G</th>\n",
       "      <th>round_H</th>\n",
       "    </tr>\n",
       "  </thead>\n",
       "  <tbody>\n",
       "    <tr>\n",
       "      <th>count</th>\n",
       "      <td>49438.000000</td>\n",
       "      <td>38482.000000</td>\n",
       "      <td>4.943800e+04</td>\n",
       "      <td>4.943800e+04</td>\n",
       "      <td>4.943800e+04</td>\n",
       "      <td>4.943800e+04</td>\n",
       "      <td>4.943800e+04</td>\n",
       "      <td>4.943800e+04</td>\n",
       "      <td>4.943800e+04</td>\n",
       "      <td>4.943800e+04</td>\n",
       "      <td>...</td>\n",
       "      <td>4.943800e+04</td>\n",
       "      <td>4.943800e+04</td>\n",
       "      <td>4.943800e+04</td>\n",
       "      <td>4.943800e+04</td>\n",
       "      <td>4.943800e+04</td>\n",
       "      <td>4.943800e+04</td>\n",
       "      <td>4.943800e+04</td>\n",
       "      <td>4.943800e+04</td>\n",
       "      <td>4.943800e+04</td>\n",
       "      <td>4.943800e+04</td>\n",
       "    </tr>\n",
       "    <tr>\n",
       "      <th>mean</th>\n",
       "      <td>1.696205</td>\n",
       "      <td>2007.359129</td>\n",
       "      <td>2.173215e+05</td>\n",
       "      <td>7.501051e+06</td>\n",
       "      <td>6.163322e+03</td>\n",
       "      <td>1.302213e+05</td>\n",
       "      <td>2.336410e+04</td>\n",
       "      <td>1.888157e+06</td>\n",
       "      <td>6.541898e+04</td>\n",
       "      <td>1.628453e+05</td>\n",
       "      <td>...</td>\n",
       "      <td>3.845592e+04</td>\n",
       "      <td>7.074227e+03</td>\n",
       "      <td>1.243955e+06</td>\n",
       "      <td>1.492891e+06</td>\n",
       "      <td>1.205356e+06</td>\n",
       "      <td>7.375261e+05</td>\n",
       "      <td>3.424682e+05</td>\n",
       "      <td>1.697692e+05</td>\n",
       "      <td>5.767067e+04</td>\n",
       "      <td>1.423197e+04</td>\n",
       "    </tr>\n",
       "    <tr>\n",
       "      <th>std</th>\n",
       "      <td>1.294213</td>\n",
       "      <td>7.579203</td>\n",
       "      <td>1.056985e+06</td>\n",
       "      <td>2.847112e+07</td>\n",
       "      <td>1.999048e+05</td>\n",
       "      <td>2.981404e+06</td>\n",
       "      <td>1.432046e+06</td>\n",
       "      <td>1.382046e+08</td>\n",
       "      <td>6.582908e+05</td>\n",
       "      <td>5.612088e+06</td>\n",
       "      <td>...</td>\n",
       "      <td>3.864461e+06</td>\n",
       "      <td>4.282166e+05</td>\n",
       "      <td>5.531974e+06</td>\n",
       "      <td>7.472704e+06</td>\n",
       "      <td>7.993592e+06</td>\n",
       "      <td>9.815218e+06</td>\n",
       "      <td>5.406915e+06</td>\n",
       "      <td>6.277905e+06</td>\n",
       "      <td>5.252312e+06</td>\n",
       "      <td>2.716865e+06</td>\n",
       "    </tr>\n",
       "    <tr>\n",
       "      <th>min</th>\n",
       "      <td>1.000000</td>\n",
       "      <td>1902.000000</td>\n",
       "      <td>0.000000e+00</td>\n",
       "      <td>0.000000e+00</td>\n",
       "      <td>0.000000e+00</td>\n",
       "      <td>0.000000e+00</td>\n",
       "      <td>0.000000e+00</td>\n",
       "      <td>0.000000e+00</td>\n",
       "      <td>0.000000e+00</td>\n",
       "      <td>0.000000e+00</td>\n",
       "      <td>...</td>\n",
       "      <td>0.000000e+00</td>\n",
       "      <td>0.000000e+00</td>\n",
       "      <td>0.000000e+00</td>\n",
       "      <td>0.000000e+00</td>\n",
       "      <td>0.000000e+00</td>\n",
       "      <td>0.000000e+00</td>\n",
       "      <td>0.000000e+00</td>\n",
       "      <td>0.000000e+00</td>\n",
       "      <td>0.000000e+00</td>\n",
       "      <td>0.000000e+00</td>\n",
       "    </tr>\n",
       "    <tr>\n",
       "      <th>25%</th>\n",
       "      <td>1.000000</td>\n",
       "      <td>2006.000000</td>\n",
       "      <td>0.000000e+00</td>\n",
       "      <td>0.000000e+00</td>\n",
       "      <td>0.000000e+00</td>\n",
       "      <td>0.000000e+00</td>\n",
       "      <td>0.000000e+00</td>\n",
       "      <td>0.000000e+00</td>\n",
       "      <td>0.000000e+00</td>\n",
       "      <td>0.000000e+00</td>\n",
       "      <td>...</td>\n",
       "      <td>0.000000e+00</td>\n",
       "      <td>0.000000e+00</td>\n",
       "      <td>0.000000e+00</td>\n",
       "      <td>0.000000e+00</td>\n",
       "      <td>0.000000e+00</td>\n",
       "      <td>0.000000e+00</td>\n",
       "      <td>0.000000e+00</td>\n",
       "      <td>0.000000e+00</td>\n",
       "      <td>0.000000e+00</td>\n",
       "      <td>0.000000e+00</td>\n",
       "    </tr>\n",
       "    <tr>\n",
       "      <th>50%</th>\n",
       "      <td>1.000000</td>\n",
       "      <td>2010.000000</td>\n",
       "      <td>0.000000e+00</td>\n",
       "      <td>0.000000e+00</td>\n",
       "      <td>0.000000e+00</td>\n",
       "      <td>0.000000e+00</td>\n",
       "      <td>0.000000e+00</td>\n",
       "      <td>0.000000e+00</td>\n",
       "      <td>0.000000e+00</td>\n",
       "      <td>0.000000e+00</td>\n",
       "      <td>...</td>\n",
       "      <td>0.000000e+00</td>\n",
       "      <td>0.000000e+00</td>\n",
       "      <td>0.000000e+00</td>\n",
       "      <td>0.000000e+00</td>\n",
       "      <td>0.000000e+00</td>\n",
       "      <td>0.000000e+00</td>\n",
       "      <td>0.000000e+00</td>\n",
       "      <td>0.000000e+00</td>\n",
       "      <td>0.000000e+00</td>\n",
       "      <td>0.000000e+00</td>\n",
       "    </tr>\n",
       "    <tr>\n",
       "      <th>75%</th>\n",
       "      <td>2.000000</td>\n",
       "      <td>2012.000000</td>\n",
       "      <td>2.500000e+04</td>\n",
       "      <td>5.000000e+06</td>\n",
       "      <td>0.000000e+00</td>\n",
       "      <td>0.000000e+00</td>\n",
       "      <td>0.000000e+00</td>\n",
       "      <td>0.000000e+00</td>\n",
       "      <td>0.000000e+00</td>\n",
       "      <td>0.000000e+00</td>\n",
       "      <td>...</td>\n",
       "      <td>0.000000e+00</td>\n",
       "      <td>0.000000e+00</td>\n",
       "      <td>0.000000e+00</td>\n",
       "      <td>0.000000e+00</td>\n",
       "      <td>0.000000e+00</td>\n",
       "      <td>0.000000e+00</td>\n",
       "      <td>0.000000e+00</td>\n",
       "      <td>0.000000e+00</td>\n",
       "      <td>0.000000e+00</td>\n",
       "      <td>0.000000e+00</td>\n",
       "    </tr>\n",
       "    <tr>\n",
       "      <th>max</th>\n",
       "      <td>18.000000</td>\n",
       "      <td>2014.000000</td>\n",
       "      <td>1.300000e+08</td>\n",
       "      <td>2.351000e+09</td>\n",
       "      <td>2.500000e+07</td>\n",
       "      <td>2.924328e+08</td>\n",
       "      <td>3.000000e+08</td>\n",
       "      <td>3.007950e+10</td>\n",
       "      <td>6.359026e+07</td>\n",
       "      <td>7.505000e+08</td>\n",
       "      <td>...</td>\n",
       "      <td>6.806116e+08</td>\n",
       "      <td>7.200000e+07</td>\n",
       "      <td>3.190000e+08</td>\n",
       "      <td>5.420000e+08</td>\n",
       "      <td>4.900000e+08</td>\n",
       "      <td>1.200000e+09</td>\n",
       "      <td>4.000000e+08</td>\n",
       "      <td>1.060000e+09</td>\n",
       "      <td>1.000000e+09</td>\n",
       "      <td>6.000000e+08</td>\n",
       "    </tr>\n",
       "  </tbody>\n",
       "</table>\n",
       "<p>8 rows × 23 columns</p>\n",
       "</div>"
      ],
      "text/plain": [
       "       funding_rounds  founded_year          seed       venture  \\\n",
       "count    49438.000000  38482.000000  4.943800e+04  4.943800e+04   \n",
       "mean         1.696205   2007.359129  2.173215e+05  7.501051e+06   \n",
       "std          1.294213      7.579203  1.056985e+06  2.847112e+07   \n",
       "min          1.000000   1902.000000  0.000000e+00  0.000000e+00   \n",
       "25%          1.000000   2006.000000  0.000000e+00  0.000000e+00   \n",
       "50%          1.000000   2010.000000  0.000000e+00  0.000000e+00   \n",
       "75%          2.000000   2012.000000  2.500000e+04  5.000000e+06   \n",
       "max         18.000000   2014.000000  1.300000e+08  2.351000e+09   \n",
       "\n",
       "       equity_crowdfunding   undisclosed  convertible_note  debt_financing  \\\n",
       "count         4.943800e+04  4.943800e+04      4.943800e+04    4.943800e+04   \n",
       "mean          6.163322e+03  1.302213e+05      2.336410e+04    1.888157e+06   \n",
       "std           1.999048e+05  2.981404e+06      1.432046e+06    1.382046e+08   \n",
       "min           0.000000e+00  0.000000e+00      0.000000e+00    0.000000e+00   \n",
       "25%           0.000000e+00  0.000000e+00      0.000000e+00    0.000000e+00   \n",
       "50%           0.000000e+00  0.000000e+00      0.000000e+00    0.000000e+00   \n",
       "75%           0.000000e+00  0.000000e+00      0.000000e+00    0.000000e+00   \n",
       "max           2.500000e+07  2.924328e+08      3.000000e+08    3.007950e+10   \n",
       "\n",
       "              angel         grant  ...  secondary_market  \\\n",
       "count  4.943800e+04  4.943800e+04  ...      4.943800e+04   \n",
       "mean   6.541898e+04  1.628453e+05  ...      3.845592e+04   \n",
       "std    6.582908e+05  5.612088e+06  ...      3.864461e+06   \n",
       "min    0.000000e+00  0.000000e+00  ...      0.000000e+00   \n",
       "25%    0.000000e+00  0.000000e+00  ...      0.000000e+00   \n",
       "50%    0.000000e+00  0.000000e+00  ...      0.000000e+00   \n",
       "75%    0.000000e+00  0.000000e+00  ...      0.000000e+00   \n",
       "max    6.359026e+07  7.505000e+08  ...      6.806116e+08   \n",
       "\n",
       "       product_crowdfunding       round_A       round_B       round_C  \\\n",
       "count          4.943800e+04  4.943800e+04  4.943800e+04  4.943800e+04   \n",
       "mean           7.074227e+03  1.243955e+06  1.492891e+06  1.205356e+06   \n",
       "std            4.282166e+05  5.531974e+06  7.472704e+06  7.993592e+06   \n",
       "min            0.000000e+00  0.000000e+00  0.000000e+00  0.000000e+00   \n",
       "25%            0.000000e+00  0.000000e+00  0.000000e+00  0.000000e+00   \n",
       "50%            0.000000e+00  0.000000e+00  0.000000e+00  0.000000e+00   \n",
       "75%            0.000000e+00  0.000000e+00  0.000000e+00  0.000000e+00   \n",
       "max            7.200000e+07  3.190000e+08  5.420000e+08  4.900000e+08   \n",
       "\n",
       "            round_D       round_E       round_F       round_G       round_H  \n",
       "count  4.943800e+04  4.943800e+04  4.943800e+04  4.943800e+04  4.943800e+04  \n",
       "mean   7.375261e+05  3.424682e+05  1.697692e+05  5.767067e+04  1.423197e+04  \n",
       "std    9.815218e+06  5.406915e+06  6.277905e+06  5.252312e+06  2.716865e+06  \n",
       "min    0.000000e+00  0.000000e+00  0.000000e+00  0.000000e+00  0.000000e+00  \n",
       "25%    0.000000e+00  0.000000e+00  0.000000e+00  0.000000e+00  0.000000e+00  \n",
       "50%    0.000000e+00  0.000000e+00  0.000000e+00  0.000000e+00  0.000000e+00  \n",
       "75%    0.000000e+00  0.000000e+00  0.000000e+00  0.000000e+00  0.000000e+00  \n",
       "max    1.200000e+09  4.000000e+08  1.060000e+09  1.000000e+09  6.000000e+08  \n",
       "\n",
       "[8 rows x 23 columns]"
      ]
     },
     "execution_count": 6,
     "metadata": {},
     "output_type": "execute_result"
    }
   ],
   "source": [
    "print(df2.info())\n",
    "df2.describe()"
   ]
  },
  {
   "cell_type": "code",
   "execution_count": 7,
   "id": "0b897fd8",
   "metadata": {
    "ExecuteTime": {
     "end_time": "2022-09-06T16:20:25.633324Z",
     "start_time": "2022-09-06T16:20:25.618820Z"
    },
    "hidden": true
   },
   "outputs": [
    {
     "data": {
      "text/plain": [
       "operating    41829\n",
       "acquired      3692\n",
       "closed        2603\n",
       "Name: status, dtype: int64"
      ]
     },
     "execution_count": 7,
     "metadata": {},
     "output_type": "execute_result"
    }
   ],
   "source": [
    "df2['status'].value_counts()"
   ]
  },
  {
   "cell_type": "code",
   "execution_count": 8,
   "id": "84e52753",
   "metadata": {
    "ExecuteTime": {
     "end_time": "2022-09-06T16:20:25.666350Z",
     "start_time": "2022-09-06T16:20:25.642311Z"
    },
    "hidden": true
   },
   "outputs": [
    {
     "data": {
      "text/plain": [
       "CA    9917\n",
       "NY    2914\n",
       "MA    1969\n",
       "TX    1466\n",
       "WA     974\n",
       "      ... \n",
       "MB      13\n",
       "AK      12\n",
       "NB       8\n",
       "SK       4\n",
       "PE       2\n",
       "Name: state_code, Length: 61, dtype: int64"
      ]
     },
     "execution_count": 8,
     "metadata": {},
     "output_type": "execute_result"
    }
   ],
   "source": [
    "df2['state_code'].value_counts()"
   ]
  },
  {
   "cell_type": "markdown",
   "id": "cf0cc6a5",
   "metadata": {
    "hidden": true
   },
   "source": [
    "I am going to use this dataset, as it has many features I can play with and enough rows. It is also decently clean and interpretable from the start."
   ]
  },
  {
   "cell_type": "markdown",
   "id": "c5b74049",
   "metadata": {},
   "source": [
    "### Exploratory Analysis"
   ]
  },
  {
   "cell_type": "code",
   "execution_count": 711,
   "id": "1115cc97",
   "metadata": {
    "ExecuteTime": {
     "end_time": "2022-09-12T02:00:51.887268Z",
     "start_time": "2022-09-12T02:00:51.728892Z"
    }
   },
   "outputs": [
    {
     "name": "stdout",
     "output_type": "stream",
     "text": [
      "<class 'pandas.core.frame.DataFrame'>\n",
      "RangeIndex: 54294 entries, 0 to 54293\n",
      "Data columns (total 39 columns):\n",
      " #   Column                Non-Null Count  Dtype  \n",
      "---  ------                --------------  -----  \n",
      " 0   permalink             49438 non-null  object \n",
      " 1   name                  49437 non-null  object \n",
      " 2   homepage_url          45989 non-null  object \n",
      " 3   category_list         45477 non-null  object \n",
      " 4    market               45470 non-null  object \n",
      " 5    funding_total_usd    49438 non-null  object \n",
      " 6   status                48124 non-null  object \n",
      " 7   country_code          44165 non-null  object \n",
      " 8   state_code            30161 non-null  object \n",
      " 9   region                44165 non-null  object \n",
      " 10  city                  43322 non-null  object \n",
      " 11  funding_rounds        49438 non-null  float64\n",
      " 12  founded_at            38554 non-null  object \n",
      " 13  founded_month         38482 non-null  object \n",
      " 14  founded_quarter       38482 non-null  object \n",
      " 15  founded_year          38482 non-null  float64\n",
      " 16  first_funding_at      49438 non-null  object \n",
      " 17  last_funding_at       49438 non-null  object \n",
      " 18  seed                  49438 non-null  float64\n",
      " 19  venture               49438 non-null  float64\n",
      " 20  equity_crowdfunding   49438 non-null  float64\n",
      " 21  undisclosed           49438 non-null  float64\n",
      " 22  convertible_note      49438 non-null  float64\n",
      " 23  debt_financing        49438 non-null  float64\n",
      " 24  angel                 49438 non-null  float64\n",
      " 25  grant                 49438 non-null  float64\n",
      " 26  private_equity        49438 non-null  float64\n",
      " 27  post_ipo_equity       49438 non-null  float64\n",
      " 28  post_ipo_debt         49438 non-null  float64\n",
      " 29  secondary_market      49438 non-null  float64\n",
      " 30  product_crowdfunding  49438 non-null  float64\n",
      " 31  round_A               49438 non-null  float64\n",
      " 32  round_B               49438 non-null  float64\n",
      " 33  round_C               49438 non-null  float64\n",
      " 34  round_D               49438 non-null  float64\n",
      " 35  round_E               49438 non-null  float64\n",
      " 36  round_F               49438 non-null  float64\n",
      " 37  round_G               49438 non-null  float64\n",
      " 38  round_H               49438 non-null  float64\n",
      "dtypes: float64(23), object(16)\n",
      "memory usage: 16.2+ MB\n",
      "None\n"
     ]
    },
    {
     "data": {
      "text/html": [
       "<div>\n",
       "<style scoped>\n",
       "    .dataframe tbody tr th:only-of-type {\n",
       "        vertical-align: middle;\n",
       "    }\n",
       "\n",
       "    .dataframe tbody tr th {\n",
       "        vertical-align: top;\n",
       "    }\n",
       "\n",
       "    .dataframe thead th {\n",
       "        text-align: right;\n",
       "    }\n",
       "</style>\n",
       "<table border=\"1\" class=\"dataframe\">\n",
       "  <thead>\n",
       "    <tr style=\"text-align: right;\">\n",
       "      <th></th>\n",
       "      <th>permalink</th>\n",
       "      <th>name</th>\n",
       "      <th>homepage_url</th>\n",
       "      <th>category_list</th>\n",
       "      <th>market</th>\n",
       "      <th>funding_total_usd</th>\n",
       "      <th>status</th>\n",
       "      <th>country_code</th>\n",
       "      <th>state_code</th>\n",
       "      <th>region</th>\n",
       "      <th>...</th>\n",
       "      <th>secondary_market</th>\n",
       "      <th>product_crowdfunding</th>\n",
       "      <th>round_A</th>\n",
       "      <th>round_B</th>\n",
       "      <th>round_C</th>\n",
       "      <th>round_D</th>\n",
       "      <th>round_E</th>\n",
       "      <th>round_F</th>\n",
       "      <th>round_G</th>\n",
       "      <th>round_H</th>\n",
       "    </tr>\n",
       "  </thead>\n",
       "  <tbody>\n",
       "    <tr>\n",
       "      <th>0</th>\n",
       "      <td>/organization/waywire</td>\n",
       "      <td>#waywire</td>\n",
       "      <td>http://www.waywire.com</td>\n",
       "      <td>|Entertainment|Politics|Social Media|News|</td>\n",
       "      <td>News</td>\n",
       "      <td>17,50,000</td>\n",
       "      <td>acquired</td>\n",
       "      <td>USA</td>\n",
       "      <td>NY</td>\n",
       "      <td>New York City</td>\n",
       "      <td>...</td>\n",
       "      <td>0.0</td>\n",
       "      <td>0.0</td>\n",
       "      <td>0.0</td>\n",
       "      <td>0.0</td>\n",
       "      <td>0.0</td>\n",
       "      <td>0.0</td>\n",
       "      <td>0.0</td>\n",
       "      <td>0.0</td>\n",
       "      <td>0.0</td>\n",
       "      <td>0.0</td>\n",
       "    </tr>\n",
       "    <tr>\n",
       "      <th>1</th>\n",
       "      <td>/organization/tv-communications</td>\n",
       "      <td>&amp;TV Communications</td>\n",
       "      <td>http://enjoyandtv.com</td>\n",
       "      <td>|Games|</td>\n",
       "      <td>Games</td>\n",
       "      <td>40,00,000</td>\n",
       "      <td>operating</td>\n",
       "      <td>USA</td>\n",
       "      <td>CA</td>\n",
       "      <td>Los Angeles</td>\n",
       "      <td>...</td>\n",
       "      <td>0.0</td>\n",
       "      <td>0.0</td>\n",
       "      <td>0.0</td>\n",
       "      <td>0.0</td>\n",
       "      <td>0.0</td>\n",
       "      <td>0.0</td>\n",
       "      <td>0.0</td>\n",
       "      <td>0.0</td>\n",
       "      <td>0.0</td>\n",
       "      <td>0.0</td>\n",
       "    </tr>\n",
       "    <tr>\n",
       "      <th>2</th>\n",
       "      <td>/organization/rock-your-paper</td>\n",
       "      <td>'Rock' Your Paper</td>\n",
       "      <td>http://www.rockyourpaper.org</td>\n",
       "      <td>|Publishing|Education|</td>\n",
       "      <td>Publishing</td>\n",
       "      <td>40,000</td>\n",
       "      <td>operating</td>\n",
       "      <td>EST</td>\n",
       "      <td>NaN</td>\n",
       "      <td>Tallinn</td>\n",
       "      <td>...</td>\n",
       "      <td>0.0</td>\n",
       "      <td>0.0</td>\n",
       "      <td>0.0</td>\n",
       "      <td>0.0</td>\n",
       "      <td>0.0</td>\n",
       "      <td>0.0</td>\n",
       "      <td>0.0</td>\n",
       "      <td>0.0</td>\n",
       "      <td>0.0</td>\n",
       "      <td>0.0</td>\n",
       "    </tr>\n",
       "    <tr>\n",
       "      <th>3</th>\n",
       "      <td>/organization/in-touch-network</td>\n",
       "      <td>(In)Touch Network</td>\n",
       "      <td>http://www.InTouchNetwork.com</td>\n",
       "      <td>|Electronics|Guides|Coffee|Restaurants|Music|i...</td>\n",
       "      <td>Electronics</td>\n",
       "      <td>15,00,000</td>\n",
       "      <td>operating</td>\n",
       "      <td>GBR</td>\n",
       "      <td>NaN</td>\n",
       "      <td>London</td>\n",
       "      <td>...</td>\n",
       "      <td>0.0</td>\n",
       "      <td>0.0</td>\n",
       "      <td>0.0</td>\n",
       "      <td>0.0</td>\n",
       "      <td>0.0</td>\n",
       "      <td>0.0</td>\n",
       "      <td>0.0</td>\n",
       "      <td>0.0</td>\n",
       "      <td>0.0</td>\n",
       "      <td>0.0</td>\n",
       "    </tr>\n",
       "    <tr>\n",
       "      <th>4</th>\n",
       "      <td>/organization/r-ranch-and-mine</td>\n",
       "      <td>-R- Ranch and Mine</td>\n",
       "      <td>NaN</td>\n",
       "      <td>|Tourism|Entertainment|Games|</td>\n",
       "      <td>Tourism</td>\n",
       "      <td>60,000</td>\n",
       "      <td>operating</td>\n",
       "      <td>USA</td>\n",
       "      <td>TX</td>\n",
       "      <td>Dallas</td>\n",
       "      <td>...</td>\n",
       "      <td>0.0</td>\n",
       "      <td>0.0</td>\n",
       "      <td>0.0</td>\n",
       "      <td>0.0</td>\n",
       "      <td>0.0</td>\n",
       "      <td>0.0</td>\n",
       "      <td>0.0</td>\n",
       "      <td>0.0</td>\n",
       "      <td>0.0</td>\n",
       "      <td>0.0</td>\n",
       "    </tr>\n",
       "  </tbody>\n",
       "</table>\n",
       "<p>5 rows × 39 columns</p>\n",
       "</div>"
      ],
      "text/plain": [
       "                         permalink                name  \\\n",
       "0            /organization/waywire            #waywire   \n",
       "1  /organization/tv-communications  &TV Communications   \n",
       "2    /organization/rock-your-paper   'Rock' Your Paper   \n",
       "3   /organization/in-touch-network   (In)Touch Network   \n",
       "4   /organization/r-ranch-and-mine  -R- Ranch and Mine   \n",
       "\n",
       "                    homepage_url  \\\n",
       "0         http://www.waywire.com   \n",
       "1          http://enjoyandtv.com   \n",
       "2   http://www.rockyourpaper.org   \n",
       "3  http://www.InTouchNetwork.com   \n",
       "4                            NaN   \n",
       "\n",
       "                                       category_list        market   \\\n",
       "0         |Entertainment|Politics|Social Media|News|          News    \n",
       "1                                            |Games|         Games    \n",
       "2                             |Publishing|Education|    Publishing    \n",
       "3  |Electronics|Guides|Coffee|Restaurants|Music|i...   Electronics    \n",
       "4                      |Tourism|Entertainment|Games|       Tourism    \n",
       "\n",
       "   funding_total_usd      status country_code state_code         region  ...  \\\n",
       "0          17,50,000    acquired          USA         NY  New York City  ...   \n",
       "1          40,00,000   operating          USA         CA    Los Angeles  ...   \n",
       "2             40,000   operating          EST        NaN        Tallinn  ...   \n",
       "3          15,00,000   operating          GBR        NaN         London  ...   \n",
       "4             60,000   operating          USA         TX         Dallas  ...   \n",
       "\n",
       "  secondary_market  product_crowdfunding round_A round_B round_C  round_D  \\\n",
       "0              0.0                   0.0     0.0     0.0     0.0      0.0   \n",
       "1              0.0                   0.0     0.0     0.0     0.0      0.0   \n",
       "2              0.0                   0.0     0.0     0.0     0.0      0.0   \n",
       "3              0.0                   0.0     0.0     0.0     0.0      0.0   \n",
       "4              0.0                   0.0     0.0     0.0     0.0      0.0   \n",
       "\n",
       "  round_E round_F  round_G  round_H  \n",
       "0     0.0     0.0      0.0      0.0  \n",
       "1     0.0     0.0      0.0      0.0  \n",
       "2     0.0     0.0      0.0      0.0  \n",
       "3     0.0     0.0      0.0      0.0  \n",
       "4     0.0     0.0      0.0      0.0  \n",
       "\n",
       "[5 rows x 39 columns]"
      ]
     },
     "execution_count": 711,
     "metadata": {},
     "output_type": "execute_result"
    }
   ],
   "source": [
    "data = df2\n",
    "print(data.info())\n",
    "data.head()"
   ]
  },
  {
   "cell_type": "code",
   "execution_count": 712,
   "id": "c614e27f",
   "metadata": {
    "ExecuteTime": {
     "end_time": "2022-09-12T02:00:55.581949Z",
     "start_time": "2022-09-12T02:00:55.533684Z"
    }
   },
   "outputs": [],
   "source": [
    "# getting rid of extra spaces in market and funding_total_usd\n",
    "data = data.rename(columns={' market ': 'market', \n",
    "                            ' funding_total_usd ': 'funding_total_usd'})"
   ]
  },
  {
   "cell_type": "code",
   "execution_count": 594,
   "id": "e8d265df",
   "metadata": {
    "ExecuteTime": {
     "end_time": "2022-09-12T00:44:59.567396Z",
     "start_time": "2022-09-12T00:44:59.523915Z"
    }
   },
   "outputs": [
    {
     "data": {
      "text/plain": [
       "permalink                4856\n",
       "name                     4857\n",
       "homepage_url             8305\n",
       "category_list            8817\n",
       "market                   8824\n",
       "funding_total_usd        4856\n",
       "status                   6170\n",
       "country_code            10129\n",
       "state_code              24133\n",
       "region                  10129\n",
       "city                    10972\n",
       "funding_rounds           4856\n",
       "founded_at              15740\n",
       "founded_month           15812\n",
       "founded_quarter         15812\n",
       "founded_year            15812\n",
       "first_funding_at         4856\n",
       "last_funding_at          4856\n",
       "seed                     4856\n",
       "venture                  4856\n",
       "equity_crowdfunding      4856\n",
       "undisclosed              4856\n",
       "convertible_note         4856\n",
       "debt_financing           4856\n",
       "angel                    4856\n",
       "grant                    4856\n",
       "private_equity           4856\n",
       "post_ipo_equity          4856\n",
       "post_ipo_debt            4856\n",
       "secondary_market         4856\n",
       "product_crowdfunding     4856\n",
       "round_A                  4856\n",
       "round_B                  4856\n",
       "round_C                  4856\n",
       "round_D                  4856\n",
       "round_E                  4856\n",
       "round_F                  4856\n",
       "round_G                  4856\n",
       "round_H                  4856\n",
       "dtype: int64"
      ]
     },
     "execution_count": 594,
     "metadata": {},
     "output_type": "execute_result"
    }
   ],
   "source": [
    "data.isnull().sum()"
   ]
  },
  {
   "cell_type": "code",
   "execution_count": 482,
   "id": "69b3cf7c",
   "metadata": {
    "ExecuteTime": {
     "end_time": "2022-09-11T17:20:51.521608Z",
     "start_time": "2022-09-11T17:20:51.515182Z"
    }
   },
   "outputs": [
    {
     "data": {
      "text/plain": [
       "0    2012-06-01\n",
       "1           NaN\n",
       "2    2012-10-26\n",
       "3    2011-04-01\n",
       "4    2014-01-01\n",
       "Name: founded_at, dtype: object"
      ]
     },
     "execution_count": 482,
     "metadata": {},
     "output_type": "execute_result"
    }
   ],
   "source": [
    "data['founded_at'].head()"
   ]
  },
  {
   "cell_type": "code",
   "execution_count": 12,
   "id": "67c8f681",
   "metadata": {
    "ExecuteTime": {
     "end_time": "2022-09-06T16:20:25.831073Z",
     "start_time": "2022-09-06T16:20:25.816814Z"
    }
   },
   "outputs": [
    {
     "data": {
      "text/plain": [
       "SF Bay Area      6804\n",
       "New York City    2577\n",
       "Boston           1837\n",
       "London           1588\n",
       "Los Angeles      1389\n",
       "                 ... \n",
       "Wetzlar             1\n",
       "West End            1\n",
       "Enfield Lock        1\n",
       "GTM - Other         1\n",
       "Ilford              1\n",
       "Name: region, Length: 1089, dtype: int64"
      ]
     },
     "execution_count": 12,
     "metadata": {},
     "output_type": "execute_result"
    }
   ],
   "source": [
    "data['region'].value_counts()"
   ]
  },
  {
   "cell_type": "code",
   "execution_count": 171,
   "id": "6fd88844",
   "metadata": {
    "ExecuteTime": {
     "end_time": "2022-09-07T20:13:38.327632Z",
     "start_time": "2022-09-07T20:13:38.012951Z"
    }
   },
   "outputs": [
    {
     "data": {
      "text/plain": [
       "na                      5856\n",
       "San Francisco           2576\n",
       "New York                2291\n",
       "London                  1227\n",
       "Palo Alto                586\n",
       "                        ... \n",
       "Cantemir                   1\n",
       "Laupheim                   1\n",
       "Richmond Upon Thames       1\n",
       "Cave City                  1\n",
       "Barrowford                 1\n",
       "Name: city, Length: 4128, dtype: int64"
      ]
     },
     "execution_count": 171,
     "metadata": {},
     "output_type": "execute_result"
    }
   ],
   "source": [
    "data['city'].value_counts()"
   ]
  },
  {
   "cell_type": "code",
   "execution_count": 172,
   "id": "c7f31b6c",
   "metadata": {
    "ExecuteTime": {
     "end_time": "2022-09-07T20:14:08.642381Z",
     "start_time": "2022-09-07T20:14:08.583538Z"
    }
   },
   "outputs": [
    {
     "data": {
      "text/plain": [
       "na    18573\n",
       "CA     9732\n",
       "NY     2858\n",
       "MA     1937\n",
       "TX     1436\n",
       "      ...  \n",
       "MB       13\n",
       "AK       12\n",
       "NB        8\n",
       "SK        4\n",
       "PE        2\n",
       "Name: state_code, Length: 62, dtype: int64"
      ]
     },
     "execution_count": 172,
     "metadata": {},
     "output_type": "execute_result"
    }
   ],
   "source": [
    "data['state_code'].value_counts()"
   ]
  },
  {
   "cell_type": "code",
   "execution_count": 173,
   "id": "ff234b0f",
   "metadata": {
    "ExecuteTime": {
     "end_time": "2022-09-07T20:15:41.888596Z",
     "start_time": "2022-09-07T20:15:41.828177Z"
    }
   },
   "outputs": [
    {
     "data": {
      "text/plain": [
       "USA    28233\n",
       "na      5066\n",
       "GBR     2595\n",
       "CAN     1351\n",
       "CHN     1229\n",
       "       ...  \n",
       "LIE        1\n",
       "JAM        1\n",
       "UZB        1\n",
       "MAF        1\n",
       "MUS        1\n",
       "Name: country_code, Length: 116, dtype: int64"
      ]
     },
     "execution_count": 173,
     "metadata": {},
     "output_type": "execute_result"
    }
   ],
   "source": [
    "data['country_code'].value_counts()"
   ]
  },
  {
   "cell_type": "code",
   "execution_count": 13,
   "id": "959d11f8",
   "metadata": {
    "ExecuteTime": {
     "end_time": "2022-09-06T16:20:25.865501Z",
     "start_time": "2022-09-06T16:20:25.845499Z"
    }
   },
   "outputs": [
    {
     "data": {
      "text/plain": [
       "0.0            49419\n",
       "200000000.0        1\n",
       "7343789.0          1\n",
       "20000000.0         1\n",
       "12500000.0         1\n",
       "126700000.0        1\n",
       "680611554.0        1\n",
       "400000000.0        1\n",
       "63750000.0         1\n",
       "19300000.0         1\n",
       "4700000.0          1\n",
       "78800355.0         1\n",
       "210000000.0        1\n",
       "2500000.0          1\n",
       "156929.0           1\n",
       "700000.0           1\n",
       "7718867.0          1\n",
       "6192396.0          1\n",
       "210000.0           1\n",
       "60000000.0         1\n",
       "Name: secondary_market, dtype: int64"
      ]
     },
     "execution_count": 13,
     "metadata": {},
     "output_type": "execute_result"
    }
   ],
   "source": [
    "data['secondary_market'].value_counts()"
   ]
  },
  {
   "cell_type": "code",
   "execution_count": 441,
   "id": "82ad17b7",
   "metadata": {
    "ExecuteTime": {
     "end_time": "2022-09-11T16:24:27.587191Z",
     "start_time": "2022-09-11T16:24:27.562964Z"
    }
   },
   "outputs": [
    {
     "name": "stdout",
     "output_type": "stream",
     "text": [
      "Number of unique markets:  754\n",
      "Markets with more than 200 companies:  39\n"
     ]
    }
   ],
   "source": [
    "# inspecting market feature - lots of catgories\n",
    "print(\"Number of unique markets: \", len(set(data['market'])))\n",
    "#sum(data['market'].value_counts() == 5)\n",
    "print(\"Markets with more than 200 companies: \",      \n",
    "      str(sum(data['market'].value_counts() >= 200)))"
   ]
  },
  {
   "cell_type": "code",
   "execution_count": 446,
   "id": "a4ee406a",
   "metadata": {
    "ExecuteTime": {
     "end_time": "2022-09-11T16:25:24.120184Z",
     "start_time": "2022-09-11T16:25:23.715490Z"
    }
   },
   "outputs": [
    {
     "data": {
      "text/plain": [
       "<AxesSubplot:>"
      ]
     },
     "execution_count": 446,
     "metadata": {},
     "output_type": "execute_result"
    },
    {
     "data": {
      "image/png": "[encoded data removed]",
      "text/plain": [
       "<Figure size 720x720 with 1 Axes>"
      ]
     },
     "metadata": {
      "needs_background": "light"
     },
     "output_type": "display_data"
    }
   ],
   "source": [
    "fig, ax = plt.subplots(figsize = (10,10))\n",
    "data['market'].value_counts()[:30].plot(kind='barh')"
   ]
  },
  {
   "cell_type": "code",
   "execution_count": 444,
   "id": "1edceedf",
   "metadata": {
    "ExecuteTime": {
     "end_time": "2022-09-11T16:24:58.123970Z",
     "start_time": "2022-09-11T16:24:58.102188Z"
    }
   },
   "outputs": [
    {
     "name": "stdout",
     "output_type": "stream",
     "text": [
      "Number of unique regions:  1090\n",
      "Regions with more than 200 companies:  44\n"
     ]
    }
   ],
   "source": [
    "# same with region\n",
    "print(\"Number of unique regions: \", len(set(data['region'])))\n",
    "#sum(data['region'].value_counts() == 5)\n",
    "print(\"Regions with more than 200 companies: \",      \n",
    "      str(sum(data['region'].value_counts() >= 200)))"
   ]
  },
  {
   "cell_type": "code",
   "execution_count": 447,
   "id": "d28f665c",
   "metadata": {
    "ExecuteTime": {
     "end_time": "2022-09-11T16:25:55.230319Z",
     "start_time": "2022-09-11T16:25:54.867298Z"
    }
   },
   "outputs": [
    {
     "data": {
      "text/plain": [
       "<AxesSubplot:>"
      ]
     },
     "execution_count": 447,
     "metadata": {},
     "output_type": "execute_result"
    },
    {
     "data": {
      "image/png": "[encoded data removed]",
      "text/plain": [
       "<Figure size 720x720 with 1 Axes>"
      ]
     },
     "metadata": {
      "needs_background": "light"
     },
     "output_type": "display_data"
    }
   ],
   "source": [
    "fig, ax = plt.subplots(figsize = (10,10))\n",
    "data['region'].value_counts()[:30].plot(kind='barh')"
   ]
  },
  {
   "cell_type": "code",
   "execution_count": 14,
   "id": "dae7c22b",
   "metadata": {
    "ExecuteTime": {
     "end_time": "2022-09-06T16:20:25.882061Z",
     "start_time": "2022-09-06T16:20:25.868324Z"
    }
   },
   "outputs": [
    {
     "data": {
      "text/plain": [
       "operating    247\n",
       "acquired       7\n",
       "closed         2\n",
       "Name: status, dtype: int64"
      ]
     },
     "execution_count": 14,
     "metadata": {},
     "output_type": "execute_result"
    }
   ],
   "source": [
    "# very few companies with post ipo equity\n",
    "data['status'][data['post_ipo_equity'] > 0].value_counts()"
   ]
  },
  {
   "cell_type": "code",
   "execution_count": 15,
   "id": "5e806dca",
   "metadata": {
    "ExecuteTime": {
     "end_time": "2022-09-06T16:20:25.906257Z",
     "start_time": "2022-09-06T16:20:25.888194Z"
    }
   },
   "outputs": [
    {
     "data": {
      "text/plain": [
       "operating    59\n",
       "acquired      2\n",
       "Name: status, dtype: int64"
      ]
     },
     "execution_count": 15,
     "metadata": {},
     "output_type": "execute_result"
    }
   ],
   "source": [
    "# if a company got equity post ipo, that means they did not close\n",
    "# therefore this variable probably not helpful to my model\n",
    "data['status'][data['post_ipo_debt'] > 0].value_counts()"
   ]
  },
  {
   "cell_type": "code",
   "execution_count": 16,
   "id": "60f31bd5",
   "metadata": {
    "ExecuteTime": {
     "end_time": "2022-09-06T16:20:25.932438Z",
     "start_time": "2022-09-06T16:20:25.912876Z"
    }
   },
   "outputs": [
    {
     "data": {
      "text/plain": [
       "2012-Q1    2904\n",
       "2011-Q1    2768\n",
       "2010-Q1    2259\n",
       "2013-Q1    2206\n",
       "2009-Q1    1852\n",
       "           ... \n",
       "1988-Q2       1\n",
       "1973-Q4       1\n",
       "1919-Q2       1\n",
       "1992-Q4       1\n",
       "1939-Q1       1\n",
       "Name: founded_quarter, Length: 218, dtype: int64"
      ]
     },
     "execution_count": 16,
     "metadata": {},
     "output_type": "execute_result"
    }
   ],
   "source": [
    "data['founded_quarter'].value_counts()"
   ]
  },
  {
   "cell_type": "code",
   "execution_count": 17,
   "id": "afa737db",
   "metadata": {
    "ExecuteTime": {
     "end_time": "2022-09-06T16:20:26.355313Z",
     "start_time": "2022-09-06T16:20:25.940496Z"
    }
   },
   "outputs": [
    {
     "data": {
      "text/plain": [
       "array([[<AxesSubplot:title={'center':'equity_crowdfunding'}>]],\n",
       "      dtype=object)"
      ]
     },
     "execution_count": 17,
     "metadata": {},
     "output_type": "execute_result"
    },
    {
     "data": {
      "image/png": "[encoded data removed]",
      "text/plain": [
       "<Figure size 432x288 with 1 Axes>"
      ]
     },
     "metadata": {
      "needs_background": "light"
     },
     "output_type": "display_data"
    }
   ],
   "source": [
    "data.hist('equity_crowdfunding', bins=40)"
   ]
  },
  {
   "cell_type": "markdown",
   "id": "b846f2e1",
   "metadata": {},
   "source": [
    "### Preprocessing & Feature Engineering"
   ]
  },
  {
   "cell_type": "code",
   "execution_count": 485,
   "id": "34130d8f",
   "metadata": {
    "ExecuteTime": {
     "end_time": "2022-09-11T17:21:16.423582Z",
     "start_time": "2022-09-11T17:21:16.401327Z"
    }
   },
   "outputs": [
    {
     "data": {
      "text/plain": [
       "Index(['permalink', 'name', 'homepage_url', 'category_list', 'market',\n",
       "       'funding_total_usd', 'status', 'country_code', 'state_code', 'region',\n",
       "       'city', 'funding_rounds', 'founded_at', 'founded_month',\n",
       "       'founded_quarter', 'founded_year', 'first_funding_at',\n",
       "       'last_funding_at', 'seed', 'venture', 'equity_crowdfunding',\n",
       "       'undisclosed', 'convertible_note', 'debt_financing', 'angel', 'grant',\n",
       "       'private_equity', 'post_ipo_equity', 'post_ipo_debt',\n",
       "       'secondary_market', 'product_crowdfunding', 'round_A', 'round_B',\n",
       "       'round_C', 'round_D', 'round_E', 'round_F', 'round_G', 'round_H'],\n",
       "      dtype='object')"
      ]
     },
     "execution_count": 485,
     "metadata": {},
     "output_type": "execute_result"
    }
   ],
   "source": [
    "data.columns"
   ]
  },
  {
   "cell_type": "markdown",
   "id": "37cea7d1",
   "metadata": {},
   "source": [
    "Dropping irrelevant columns:"
   ]
  },
  {
   "cell_type": "code",
   "execution_count": 713,
   "id": "4195eae6",
   "metadata": {
    "ExecuteTime": {
     "end_time": "2022-09-12T02:01:01.342724Z",
     "start_time": "2022-09-12T02:01:01.303891Z"
    }
   },
   "outputs": [],
   "source": [
    "data = data.drop(columns=['permalink', 'homepage_url', 'category_list', \n",
    "                          'founded_month', 'founded_quarter', 'post_ipo_equity',  \n",
    "                          'post_ipo_debt', 'secondary_market'],\n",
    "                          #'first_funding_at', 'last_funding_at', 'founded_at'], \n",
    "                 axis=1)"
   ]
  },
  {
   "cell_type": "markdown",
   "id": "ff045520",
   "metadata": {},
   "source": [
    "Dropping duplicates, if any:"
   ]
  },
  {
   "cell_type": "code",
   "execution_count": 714,
   "id": "9e4ba5fd",
   "metadata": {
    "ExecuteTime": {
     "end_time": "2022-09-12T02:01:03.186310Z",
     "start_time": "2022-09-12T02:01:03.020538Z"
    }
   },
   "outputs": [],
   "source": [
    "data = data.drop_duplicates()"
   ]
  },
  {
   "cell_type": "markdown",
   "id": "3d640e7c",
   "metadata": {},
   "source": [
    "#### Missing Values"
   ]
  },
  {
   "cell_type": "markdown",
   "id": "09ec2fcc",
   "metadata": {},
   "source": [
    "Consider deleting rows with multiple missing columns????"
   ]
  },
  {
   "cell_type": "code",
   "execution_count": 715,
   "id": "5f18b250",
   "metadata": {
    "ExecuteTime": {
     "end_time": "2022-09-12T02:01:05.314480Z",
     "start_time": "2022-09-12T02:01:05.256791Z"
    }
   },
   "outputs": [
    {
     "data": {
      "text/plain": [
       "name                        0\n",
       "market                   3589\n",
       "funding_total_usd           0\n",
       "status                      0\n",
       "country_code             5066\n",
       "state_code              18573\n",
       "region                   5066\n",
       "city                     5856\n",
       "funding_rounds              0\n",
       "founded_at              10488\n",
       "founded_year            10560\n",
       "first_funding_at            0\n",
       "last_funding_at             0\n",
       "seed                        0\n",
       "venture                     0\n",
       "equity_crowdfunding         0\n",
       "undisclosed                 0\n",
       "convertible_note            0\n",
       "debt_financing              0\n",
       "angel                       0\n",
       "grant                       0\n",
       "private_equity              0\n",
       "product_crowdfunding        0\n",
       "round_A                     0\n",
       "round_B                     0\n",
       "round_C                     0\n",
       "round_D                     0\n",
       "round_E                     0\n",
       "round_F                     0\n",
       "round_G                     0\n",
       "round_H                     0\n",
       "dtype: int64"
      ]
     },
     "execution_count": 715,
     "metadata": {},
     "output_type": "execute_result"
    }
   ],
   "source": [
    "data = data.dropna(subset=['status', 'name'])\n",
    "data.isnull().sum()"
   ]
  },
  {
   "cell_type": "code",
   "execution_count": 242,
   "id": "37c336ae",
   "metadata": {
    "ExecuteTime": {
     "end_time": "2022-09-07T21:03:37.587564Z",
     "start_time": "2022-09-07T21:03:37.581411Z"
    }
   },
   "outputs": [
    {
     "data": {
      "text/plain": [
       "48123"
      ]
     },
     "execution_count": 242,
     "metadata": {},
     "output_type": "execute_result"
    }
   ],
   "source": [
    "len(data)"
   ]
  },
  {
   "cell_type": "code",
   "execution_count": 716,
   "id": "bb788f7b",
   "metadata": {
    "ExecuteTime": {
     "end_time": "2022-09-12T02:01:08.096523Z",
     "start_time": "2022-09-12T02:01:08.067495Z"
    }
   },
   "outputs": [],
   "source": [
    "# filling categoricals\n",
    "data = data.fillna(value={'market': 'other', 'country_code': 'other', \n",
    "                          'region': 'other', 'city': 'other', \n",
    "                          'state_code': 'other'})\n",
    "#'founded_year': 0, 'founded_at': 'na'"
   ]
  },
  {
   "cell_type": "code",
   "execution_count": 717,
   "id": "e8727c91",
   "metadata": {
    "ExecuteTime": {
     "end_time": "2022-09-12T02:01:10.774530Z",
     "start_time": "2022-09-12T02:01:10.273599Z"
    }
   },
   "outputs": [
    {
     "name": "stdout",
     "output_type": "stream",
     "text": [
      "Num of rows with 10th percentile of founded_year:  2000.0\n",
      "3518\n"
     ]
    },
    {
     "data": {
      "image/png": "[encoded data removed]",
      "text/plain": [
       "<Figure size 432x288 with 1 Axes>"
      ]
     },
     "metadata": {
      "needs_background": "light"
     },
     "output_type": "display_data"
    }
   ],
   "source": [
    "# distribution of non NA years \n",
    "plt.hist(data['founded_year'][~data['founded_year'].isnull()], bins=30)\n",
    "plt.axvline(x=np.nanmean(data['founded_year']), color='r')\n",
    "plt.axvline(x=np.nanmedian(data['founded_year']), color='y')\n",
    "\n",
    "p10 = np.percentile(data['founded_year'][~data['founded_year'].isnull()], 10)\n",
    "print(\"Num of rows with 10th percentile of founded_year: \", p10)\n",
    "\n",
    "#10th percentile year is 2000, we will subset for startups founded on or after 2000\n",
    "print(len(data[data['founded_year'] < 2000]))\n",
    "data = data[data['founded_year'] >= 2000].reset_index(drop=True)"
   ]
  },
  {
   "cell_type": "markdown",
   "id": "c59e8838",
   "metadata": {},
   "source": [
    "Date data - convert to datetime:"
   ]
  },
  {
   "cell_type": "code",
   "execution_count": 718,
   "id": "c7b07127",
   "metadata": {
    "ExecuteTime": {
     "end_time": "2022-09-12T02:01:16.657553Z",
     "start_time": "2022-09-12T02:01:15.757910Z"
    }
   },
   "outputs": [],
   "source": [
    "#format_date = ('founded_at','first_funding_at','last_funding_at')\n",
    "#or i in format_date:\n",
    "#  startup_df[i] = pd.to_datetime(startup_df[i], format = '%Y-%m-%d', errors = 'coerce')\n",
    "\n",
    "\n",
    "data['founded_at'] = [datetime.strptime(day, '%Y-%m-%d') for day \\\n",
    "                      in data['founded_at'][~data['founded_at'].isnull()]]\n",
    "data['first_funding_at'] = [datetime.strptime(day, '%Y-%m-%d').date() for day \\\n",
    "                            in data['first_funding_at']]\n",
    "data['last_funding_at'] = [datetime.strptime(day, '%Y-%m-%d').date() for day \\\n",
    "                            in data['last_funding_at']]"
   ]
  },
  {
   "cell_type": "code",
   "execution_count": 719,
   "id": "d93b1a1f",
   "metadata": {
    "ExecuteTime": {
     "end_time": "2022-09-12T02:01:20.977018Z",
     "start_time": "2022-09-12T02:01:20.971547Z"
    }
   },
   "outputs": [
    {
     "data": {
      "text/plain": [
       "datetime.timedelta(days=-29)"
      ]
     },
     "execution_count": 719,
     "metadata": {},
     "output_type": "execute_result"
    }
   ],
   "source": [
    "data['founded_at'][0].date() - data['first_funding_at'][0]"
   ]
  },
  {
   "cell_type": "markdown",
   "id": "c64b88ea",
   "metadata": {},
   "source": [
    "Fill year & founded_at with simple imputer, adjust founded quarter accordingly:"
   ]
  },
  {
   "cell_type": "code",
   "execution_count": 721,
   "id": "17f9fa5c",
   "metadata": {
    "ExecuteTime": {
     "end_time": "2022-09-12T02:01:56.686699Z",
     "start_time": "2022-09-12T02:01:56.624548Z"
    }
   },
   "outputs": [
    {
     "data": {
      "text/plain": [
       "2012-01-01    2100\n",
       "2011-01-01    2096\n",
       "2010-01-01    1810\n",
       "2009-01-01    1561\n",
       "2013-01-01    1535\n",
       "              ... \n",
       "2011-02-23       1\n",
       "2007-01-11       1\n",
       "2007-01-05       1\n",
       "2005-11-19       1\n",
       "2001-08-19       1\n",
       "Name: founded_at, Length: 2935, dtype: int64"
      ]
     },
     "execution_count": 721,
     "metadata": {},
     "output_type": "execute_result"
    }
   ],
   "source": [
    "# since the data is skewed (see plot above), we will use median rather\n",
    "# than mean\n",
    "\n",
    "imp_median = SimpleImputer(missing_values=np.nan, strategy='median')\n",
    "\n",
    "data['founded_year'] = imp_median.fit_transform(data[['founded_year']])\n",
    "data['founded_at'] = imp_median.fit_transform(data[['founded_at']])\n",
    "data['founded_at'] = pd.to_datetime(data['founded_at'])\n",
    "data['founded_at'] = [day.date() for day in data['founded_at']]\n",
    "\n",
    "data['founded_year'].value_counts()\n",
    "data['founded_at'].value_counts()\n",
    "\n",
    "## quarter\n",
    "# if data['founded_at'].month < 4:\n",
    "#     data['founded_quarter'] = 'Q1'\n",
    "# elif (data['founded_at'].month >= 4) & (data['founded_at'].month < 7):\n",
    "#     data['founded_quarter'] = 'Q2'\n",
    "# elif (data['founded_at'].month >= 4) & (data['founded_at'].month < 7):\n",
    "#     data['founded_quarter'] = 'Q3'\n",
    "# else:\n",
    "#     data['founded_quarter'] = 'Q4'"
   ]
  },
  {
   "cell_type": "code",
   "execution_count": 722,
   "id": "9c616e1c",
   "metadata": {
    "ExecuteTime": {
     "end_time": "2022-09-12T02:02:19.945465Z",
     "start_time": "2022-09-12T02:02:19.910932Z"
    }
   },
   "outputs": [
    {
     "data": {
      "text/plain": [
       "name                    0\n",
       "market                  0\n",
       "funding_total_usd       0\n",
       "status                  0\n",
       "country_code            0\n",
       "state_code              0\n",
       "region                  0\n",
       "city                    0\n",
       "funding_rounds          0\n",
       "founded_at              0\n",
       "founded_year            0\n",
       "first_funding_at        0\n",
       "last_funding_at         0\n",
       "seed                    0\n",
       "venture                 0\n",
       "equity_crowdfunding     0\n",
       "undisclosed             0\n",
       "convertible_note        0\n",
       "debt_financing          0\n",
       "angel                   0\n",
       "grant                   0\n",
       "private_equity          0\n",
       "product_crowdfunding    0\n",
       "round_A                 0\n",
       "round_B                 0\n",
       "round_C                 0\n",
       "round_D                 0\n",
       "round_E                 0\n",
       "round_F                 0\n",
       "round_G                 0\n",
       "round_H                 0\n",
       "dtype: int64"
      ]
     },
     "execution_count": 722,
     "metadata": {},
     "output_type": "execute_result"
    }
   ],
   "source": [
    "data.isna().sum()"
   ]
  },
  {
   "cell_type": "markdown",
   "id": "796d6e6f",
   "metadata": {},
   "source": [
    "Basic data cleaning:"
   ]
  },
  {
   "cell_type": "code",
   "execution_count": 723,
   "id": "8796a7d5",
   "metadata": {
    "ExecuteTime": {
     "end_time": "2022-09-12T02:02:24.205033Z",
     "start_time": "2022-09-12T02:02:24.196743Z"
    }
   },
   "outputs": [
    {
     "data": {
      "text/plain": [
       "name                     object\n",
       "market                   object\n",
       "funding_total_usd        object\n",
       "status                   object\n",
       "country_code             object\n",
       "state_code               object\n",
       "region                   object\n",
       "city                     object\n",
       "funding_rounds          float64\n",
       "founded_at               object\n",
       "founded_year            float64\n",
       "first_funding_at         object\n",
       "last_funding_at          object\n",
       "seed                    float64\n",
       "venture                 float64\n",
       "equity_crowdfunding     float64\n",
       "undisclosed             float64\n",
       "convertible_note        float64\n",
       "debt_financing          float64\n",
       "angel                   float64\n",
       "grant                   float64\n",
       "private_equity          float64\n",
       "product_crowdfunding    float64\n",
       "round_A                 float64\n",
       "round_B                 float64\n",
       "round_C                 float64\n",
       "round_D                 float64\n",
       "round_E                 float64\n",
       "round_F                 float64\n",
       "round_G                 float64\n",
       "round_H                 float64\n",
       "dtype: object"
      ]
     },
     "execution_count": 723,
     "metadata": {},
     "output_type": "execute_result"
    }
   ],
   "source": [
    "data.dtypes"
   ]
  },
  {
   "cell_type": "code",
   "execution_count": 724,
   "id": "e9f9f15a",
   "metadata": {
    "ExecuteTime": {
     "end_time": "2022-09-12T02:02:40.225003Z",
     "start_time": "2022-09-12T02:02:40.129124Z"
    }
   },
   "outputs": [],
   "source": [
    "# getting rid of extra spaces in market, city, state code, region\n",
    "data['market'] = [x.strip() for x in data['market']]\n",
    "data['country_code'] = [x.strip() for x in data['country_code']]\n",
    "data['state_code'] = [x.strip() for x in data['state_code']]\n",
    "data['region'] = [x.strip() for x in data['region']]\n",
    "data['city'] = [x.strip() for x in data['city']]"
   ]
  },
  {
   "cell_type": "code",
   "execution_count": 631,
   "id": "1cde6e00",
   "metadata": {
    "ExecuteTime": {
     "end_time": "2022-09-12T01:12:49.882463Z",
     "start_time": "2022-09-12T01:12:49.863469Z"
    }
   },
   "outputs": [
    {
     "data": {
      "text/plain": [
       " -               5632\n",
       " 10,00,000        627\n",
       " 1,00,000         582\n",
       " 5,00,000         573\n",
       " 40,000           466\n",
       "                 ... \n",
       " 3,89,652           1\n",
       " 1,91,000           1\n",
       " 3,33,333           1\n",
       " 1,53,000           1\n",
       " 5,70,16,500        1\n",
       "Name: funding_total_usd, Length: 10560, dtype: int64"
      ]
     },
     "execution_count": 631,
     "metadata": {},
     "output_type": "execute_result"
    }
   ],
   "source": [
    "# need to convert this data type to integer\n",
    "data['funding_total_usd'].value_counts()"
   ]
  },
  {
   "cell_type": "code",
   "execution_count": 28,
   "id": "f9300507",
   "metadata": {
    "ExecuteTime": {
     "end_time": "2022-09-06T16:20:26.947056Z",
     "start_time": "2022-09-06T16:20:26.934123Z"
    }
   },
   "outputs": [
    {
     "data": {
      "text/plain": [
       "' -   '"
      ]
     },
     "execution_count": 28,
     "metadata": {},
     "output_type": "execute_result"
    }
   ],
   "source": [
    "data['funding_total_usd'][8]"
   ]
  },
  {
   "cell_type": "code",
   "execution_count": 725,
   "id": "a455d2ae",
   "metadata": {
    "ExecuteTime": {
     "end_time": "2022-09-12T02:02:43.794913Z",
     "start_time": "2022-09-12T02:02:43.747570Z"
    }
   },
   "outputs": [
    {
     "data": {
      "text/plain": [
       "0.000000e+00    5632\n",
       "1.000000e+09     627\n",
       "1.000000e+08     582\n",
       "5.000000e+08     573\n",
       "4.000000e+06     466\n",
       "                ... \n",
       "4.012089e+11       1\n",
       "1.003021e+11       1\n",
       "1.003016e+11       1\n",
       "1.003013e+11       1\n",
       "1.909503e+09       1\n",
       "Name: funding_total_usd, Length: 10560, dtype: int64"
      ]
     },
     "execution_count": 725,
     "metadata": {},
     "output_type": "execute_result"
    }
   ],
   "source": [
    "data['funding_total_usd'] = [float(num.replace(\" \", \"0\").replace(\",\", \"0\").\\\n",
    "                                 replace(\"-\", \"0\")) \n",
    "                             for num in data['funding_total_usd']]\n",
    "data['funding_total_usd'].value_counts()"
   ]
  },
  {
   "cell_type": "code",
   "execution_count": 249,
   "id": "061963b4",
   "metadata": {
    "ExecuteTime": {
     "end_time": "2022-09-07T21:04:28.915079Z",
     "start_time": "2022-09-07T21:04:27.247758Z"
    }
   },
   "outputs": [
    {
     "data": {
      "text/plain": [
       "array([[<AxesSubplot:title={'center':'funding_total_usd'}>]], dtype=object)"
      ]
     },
     "execution_count": 249,
     "metadata": {},
     "output_type": "execute_result"
    },
    {
     "data": {
      "image/png": "[encoded data removed]",
      "text/plain": [
       "<Figure size 432x288 with 1 Axes>"
      ]
     },
     "metadata": {
      "needs_background": "light"
     },
     "output_type": "display_data"
    }
   ],
   "source": [
    "data.hist('funding_total_usd', bins=40) # lots of outliers"
   ]
  },
  {
   "cell_type": "code",
   "execution_count": 638,
   "id": "4988e541",
   "metadata": {
    "ExecuteTime": {
     "end_time": "2022-09-12T01:14:27.688655Z",
     "start_time": "2022-09-12T01:14:27.681744Z"
    }
   },
   "outputs": [
    {
     "data": {
      "text/plain": [
       "0    Q2\n",
       "1    Q4\n",
       "2    Q2\n",
       "3    Q1\n",
       "4    Q1\n",
       "Name: founded_quarter, dtype: object"
      ]
     },
     "execution_count": 638,
     "metadata": {},
     "output_type": "execute_result"
    }
   ],
   "source": [
    "data['founded_quarter'].head()"
   ]
  },
  {
   "cell_type": "code",
   "execution_count": 726,
   "id": "8c1a2c96",
   "metadata": {
    "ExecuteTime": {
     "end_time": "2022-09-12T02:02:48.845180Z",
     "start_time": "2022-09-12T02:02:48.801844Z"
    }
   },
   "outputs": [
    {
     "ename": "KeyError",
     "evalue": "'founded_quarter'",
     "output_type": "error",
     "traceback": [
      "\u001b[0;31m---------------------------------------------------------------------------\u001b[0m",
      "\u001b[0;31mKeyError\u001b[0m                                  Traceback (most recent call last)",
      "\u001b[0;32m~/opt/anaconda3/envs/learn-env/lib/python3.8/site-packages/pandas/core/indexes/base.py\u001b[0m in \u001b[0;36mget_loc\u001b[0;34m(self, key, method, tolerance)\u001b[0m\n\u001b[1;32m   2894\u001b[0m             \u001b[0;32mtry\u001b[0m\u001b[0;34m:\u001b[0m\u001b[0;34m\u001b[0m\u001b[0;34m\u001b[0m\u001b[0m\n\u001b[0;32m-> 2895\u001b[0;31m                 \u001b[0;32mreturn\u001b[0m \u001b[0mself\u001b[0m\u001b[0;34m.\u001b[0m\u001b[0m_engine\u001b[0m\u001b[0;34m.\u001b[0m\u001b[0mget_loc\u001b[0m\u001b[0;34m(\u001b[0m\u001b[0mcasted_key\u001b[0m\u001b[0;34m)\u001b[0m\u001b[0;34m\u001b[0m\u001b[0;34m\u001b[0m\u001b[0m\n\u001b[0m\u001b[1;32m   2896\u001b[0m             \u001b[0;32mexcept\u001b[0m \u001b[0mKeyError\u001b[0m \u001b[0;32mas\u001b[0m \u001b[0merr\u001b[0m\u001b[0;34m:\u001b[0m\u001b[0;34m\u001b[0m\u001b[0;34m\u001b[0m\u001b[0m\n",
      "\u001b[0;32mpandas/_libs/index.pyx\u001b[0m in \u001b[0;36mpandas._libs.index.IndexEngine.get_loc\u001b[0;34m()\u001b[0m\n",
      "\u001b[0;32mpandas/_libs/index.pyx\u001b[0m in \u001b[0;36mpandas._libs.index.IndexEngine.get_loc\u001b[0;34m()\u001b[0m\n",
      "\u001b[0;32mpandas/_libs/hashtable_class_helper.pxi\u001b[0m in \u001b[0;36mpandas._libs.hashtable.PyObjectHashTable.get_item\u001b[0;34m()\u001b[0m\n",
      "\u001b[0;32mpandas/_libs/hashtable_class_helper.pxi\u001b[0m in \u001b[0;36mpandas._libs.hashtable.PyObjectHashTable.get_item\u001b[0;34m()\u001b[0m\n",
      "\u001b[0;31mKeyError\u001b[0m: 'founded_quarter'",
      "\nThe above exception was the direct cause of the following exception:\n",
      "\u001b[0;31mKeyError\u001b[0m                                  Traceback (most recent call last)",
      "\u001b[0;32m<ipython-input-726-291a7db4797e>\u001b[0m in \u001b[0;36m<module>\u001b[0;34m\u001b[0m\n\u001b[0;32m----> 1\u001b[0;31m \u001b[0mdata\u001b[0m\u001b[0;34m[\u001b[0m\u001b[0;34m'founded_quarter'\u001b[0m\u001b[0;34m]\u001b[0m \u001b[0;34m=\u001b[0m \u001b[0;34m[\u001b[0m\u001b[0mqtr\u001b[0m\u001b[0;34m[\u001b[0m\u001b[0;34m-\u001b[0m\u001b[0;36m2\u001b[0m\u001b[0;34m:\u001b[0m\u001b[0;34m]\u001b[0m \u001b[0;32mfor\u001b[0m \u001b[0mqtr\u001b[0m \u001b[0;32min\u001b[0m \u001b[0mdata\u001b[0m\u001b[0;34m[\u001b[0m\u001b[0;34m'founded_quarter'\u001b[0m\u001b[0;34m]\u001b[0m\u001b[0;34m]\u001b[0m\u001b[0;34m\u001b[0m\u001b[0;34m\u001b[0m\u001b[0m\n\u001b[0m\u001b[1;32m      2\u001b[0m \u001b[0mdata\u001b[0m\u001b[0;34m[\u001b[0m\u001b[0;34m'founded_quarter'\u001b[0m\u001b[0;34m]\u001b[0m\u001b[0;34m.\u001b[0m\u001b[0mhead\u001b[0m\u001b[0;34m(\u001b[0m\u001b[0;34m)\u001b[0m\u001b[0;34m\u001b[0m\u001b[0;34m\u001b[0m\u001b[0m\n",
      "\u001b[0;32m~/opt/anaconda3/envs/learn-env/lib/python3.8/site-packages/pandas/core/frame.py\u001b[0m in \u001b[0;36m__getitem__\u001b[0;34m(self, key)\u001b[0m\n\u001b[1;32m   2900\u001b[0m             \u001b[0;32mif\u001b[0m \u001b[0mself\u001b[0m\u001b[0;34m.\u001b[0m\u001b[0mcolumns\u001b[0m\u001b[0;34m.\u001b[0m\u001b[0mnlevels\u001b[0m \u001b[0;34m>\u001b[0m \u001b[0;36m1\u001b[0m\u001b[0;34m:\u001b[0m\u001b[0;34m\u001b[0m\u001b[0;34m\u001b[0m\u001b[0m\n\u001b[1;32m   2901\u001b[0m                 \u001b[0;32mreturn\u001b[0m \u001b[0mself\u001b[0m\u001b[0;34m.\u001b[0m\u001b[0m_getitem_multilevel\u001b[0m\u001b[0;34m(\u001b[0m\u001b[0mkey\u001b[0m\u001b[0;34m)\u001b[0m\u001b[0;34m\u001b[0m\u001b[0;34m\u001b[0m\u001b[0m\n\u001b[0;32m-> 2902\u001b[0;31m             \u001b[0mindexer\u001b[0m \u001b[0;34m=\u001b[0m \u001b[0mself\u001b[0m\u001b[0;34m.\u001b[0m\u001b[0mcolumns\u001b[0m\u001b[0;34m.\u001b[0m\u001b[0mget_loc\u001b[0m\u001b[0;34m(\u001b[0m\u001b[0mkey\u001b[0m\u001b[0;34m)\u001b[0m\u001b[0;34m\u001b[0m\u001b[0;34m\u001b[0m\u001b[0m\n\u001b[0m\u001b[1;32m   2903\u001b[0m             \u001b[0;32mif\u001b[0m \u001b[0mis_integer\u001b[0m\u001b[0;34m(\u001b[0m\u001b[0mindexer\u001b[0m\u001b[0;34m)\u001b[0m\u001b[0;34m:\u001b[0m\u001b[0;34m\u001b[0m\u001b[0;34m\u001b[0m\u001b[0m\n\u001b[1;32m   2904\u001b[0m                 \u001b[0mindexer\u001b[0m \u001b[0;34m=\u001b[0m \u001b[0;34m[\u001b[0m\u001b[0mindexer\u001b[0m\u001b[0;34m]\u001b[0m\u001b[0;34m\u001b[0m\u001b[0;34m\u001b[0m\u001b[0m\n",
      "\u001b[0;32m~/opt/anaconda3/envs/learn-env/lib/python3.8/site-packages/pandas/core/indexes/base.py\u001b[0m in \u001b[0;36mget_loc\u001b[0;34m(self, key, method, tolerance)\u001b[0m\n\u001b[1;32m   2895\u001b[0m                 \u001b[0;32mreturn\u001b[0m \u001b[0mself\u001b[0m\u001b[0;34m.\u001b[0m\u001b[0m_engine\u001b[0m\u001b[0;34m.\u001b[0m\u001b[0mget_loc\u001b[0m\u001b[0;34m(\u001b[0m\u001b[0mcasted_key\u001b[0m\u001b[0;34m)\u001b[0m\u001b[0;34m\u001b[0m\u001b[0;34m\u001b[0m\u001b[0m\n\u001b[1;32m   2896\u001b[0m             \u001b[0;32mexcept\u001b[0m \u001b[0mKeyError\u001b[0m \u001b[0;32mas\u001b[0m \u001b[0merr\u001b[0m\u001b[0;34m:\u001b[0m\u001b[0;34m\u001b[0m\u001b[0;34m\u001b[0m\u001b[0m\n\u001b[0;32m-> 2897\u001b[0;31m                 \u001b[0;32mraise\u001b[0m \u001b[0mKeyError\u001b[0m\u001b[0;34m(\u001b[0m\u001b[0mkey\u001b[0m\u001b[0;34m)\u001b[0m \u001b[0;32mfrom\u001b[0m \u001b[0merr\u001b[0m\u001b[0;34m\u001b[0m\u001b[0;34m\u001b[0m\u001b[0m\n\u001b[0m\u001b[1;32m   2898\u001b[0m \u001b[0;34m\u001b[0m\u001b[0m\n\u001b[1;32m   2899\u001b[0m         \u001b[0;32mif\u001b[0m \u001b[0mtolerance\u001b[0m \u001b[0;32mis\u001b[0m \u001b[0;32mnot\u001b[0m \u001b[0;32mNone\u001b[0m\u001b[0;34m:\u001b[0m\u001b[0;34m\u001b[0m\u001b[0;34m\u001b[0m\u001b[0m\n",
      "\u001b[0;31mKeyError\u001b[0m: 'founded_quarter'"
     ]
    }
   ],
   "source": [
    "#data['founded_quarter'] = [qtr[-2:] for qtr in data['founded_quarter']]\n",
    "#data['founded_quarter'].head()"
   ]
  },
  {
   "cell_type": "code",
   "execution_count": 727,
   "id": "4e3173f9",
   "metadata": {
    "ExecuteTime": {
     "end_time": "2022-09-12T02:02:58.208829Z",
     "start_time": "2022-09-12T02:02:58.106104Z"
    }
   },
   "outputs": [
    {
     "data": {
      "text/html": [
       "<div>\n",
       "<style scoped>\n",
       "    .dataframe tbody tr th:only-of-type {\n",
       "        vertical-align: middle;\n",
       "    }\n",
       "\n",
       "    .dataframe tbody tr th {\n",
       "        vertical-align: top;\n",
       "    }\n",
       "\n",
       "    .dataframe thead th {\n",
       "        text-align: right;\n",
       "    }\n",
       "</style>\n",
       "<table border=\"1\" class=\"dataframe\">\n",
       "  <thead>\n",
       "    <tr style=\"text-align: right;\">\n",
       "      <th></th>\n",
       "      <th>name</th>\n",
       "      <th>market</th>\n",
       "      <th>funding_total_usd</th>\n",
       "      <th>status</th>\n",
       "      <th>country_code</th>\n",
       "      <th>state_code</th>\n",
       "      <th>region</th>\n",
       "      <th>city</th>\n",
       "      <th>funding_rounds</th>\n",
       "      <th>founded_at</th>\n",
       "      <th>...</th>\n",
       "      <th>private_equity</th>\n",
       "      <th>product_crowdfunding</th>\n",
       "      <th>round_A</th>\n",
       "      <th>round_B</th>\n",
       "      <th>round_C</th>\n",
       "      <th>round_D</th>\n",
       "      <th>round_E</th>\n",
       "      <th>round_F</th>\n",
       "      <th>round_G</th>\n",
       "      <th>round_H</th>\n",
       "    </tr>\n",
       "  </thead>\n",
       "  <tbody>\n",
       "    <tr>\n",
       "      <th>0</th>\n",
       "      <td>#waywire</td>\n",
       "      <td>News</td>\n",
       "      <td>1.705000e+09</td>\n",
       "      <td>acquired</td>\n",
       "      <td>USA</td>\n",
       "      <td>NY</td>\n",
       "      <td>New York City</td>\n",
       "      <td>New York</td>\n",
       "      <td>1.0</td>\n",
       "      <td>2012-06-01</td>\n",
       "      <td>...</td>\n",
       "      <td>0.0</td>\n",
       "      <td>0.0</td>\n",
       "      <td>0.0</td>\n",
       "      <td>0.0</td>\n",
       "      <td>0.0</td>\n",
       "      <td>0.0</td>\n",
       "      <td>0.0</td>\n",
       "      <td>0.0</td>\n",
       "      <td>0.0</td>\n",
       "      <td>0.0</td>\n",
       "    </tr>\n",
       "    <tr>\n",
       "      <th>1</th>\n",
       "      <td>'Rock' Your Paper</td>\n",
       "      <td>Publishing</td>\n",
       "      <td>4.000000e+06</td>\n",
       "      <td>operating</td>\n",
       "      <td>EST</td>\n",
       "      <td>other</td>\n",
       "      <td>Tallinn</td>\n",
       "      <td>Tallinn</td>\n",
       "      <td>1.0</td>\n",
       "      <td>2012-10-26</td>\n",
       "      <td>...</td>\n",
       "      <td>0.0</td>\n",
       "      <td>0.0</td>\n",
       "      <td>0.0</td>\n",
       "      <td>0.0</td>\n",
       "      <td>0.0</td>\n",
       "      <td>0.0</td>\n",
       "      <td>0.0</td>\n",
       "      <td>0.0</td>\n",
       "      <td>0.0</td>\n",
       "      <td>0.0</td>\n",
       "    </tr>\n",
       "    <tr>\n",
       "      <th>2</th>\n",
       "      <td>(In)Touch Network</td>\n",
       "      <td>Electronics</td>\n",
       "      <td>1.500000e+09</td>\n",
       "      <td>operating</td>\n",
       "      <td>GBR</td>\n",
       "      <td>other</td>\n",
       "      <td>London</td>\n",
       "      <td>London</td>\n",
       "      <td>1.0</td>\n",
       "      <td>2011-04-01</td>\n",
       "      <td>...</td>\n",
       "      <td>0.0</td>\n",
       "      <td>0.0</td>\n",
       "      <td>0.0</td>\n",
       "      <td>0.0</td>\n",
       "      <td>0.0</td>\n",
       "      <td>0.0</td>\n",
       "      <td>0.0</td>\n",
       "      <td>0.0</td>\n",
       "      <td>0.0</td>\n",
       "      <td>0.0</td>\n",
       "    </tr>\n",
       "    <tr>\n",
       "      <th>3</th>\n",
       "      <td>-R- Ranch and Mine</td>\n",
       "      <td>Tourism</td>\n",
       "      <td>6.000000e+06</td>\n",
       "      <td>operating</td>\n",
       "      <td>USA</td>\n",
       "      <td>TX</td>\n",
       "      <td>Dallas</td>\n",
       "      <td>Fort Worth</td>\n",
       "      <td>2.0</td>\n",
       "      <td>2014-01-01</td>\n",
       "      <td>...</td>\n",
       "      <td>0.0</td>\n",
       "      <td>0.0</td>\n",
       "      <td>0.0</td>\n",
       "      <td>0.0</td>\n",
       "      <td>0.0</td>\n",
       "      <td>0.0</td>\n",
       "      <td>0.0</td>\n",
       "      <td>0.0</td>\n",
       "      <td>0.0</td>\n",
       "      <td>0.0</td>\n",
       "    </tr>\n",
       "    <tr>\n",
       "      <th>4</th>\n",
       "      <td>0-6.com</td>\n",
       "      <td>Curated Web</td>\n",
       "      <td>2.000000e+09</td>\n",
       "      <td>operating</td>\n",
       "      <td>other</td>\n",
       "      <td>other</td>\n",
       "      <td>other</td>\n",
       "      <td>other</td>\n",
       "      <td>1.0</td>\n",
       "      <td>2007-01-01</td>\n",
       "      <td>...</td>\n",
       "      <td>0.0</td>\n",
       "      <td>0.0</td>\n",
       "      <td>2000000.0</td>\n",
       "      <td>0.0</td>\n",
       "      <td>0.0</td>\n",
       "      <td>0.0</td>\n",
       "      <td>0.0</td>\n",
       "      <td>0.0</td>\n",
       "      <td>0.0</td>\n",
       "      <td>0.0</td>\n",
       "    </tr>\n",
       "    <tr>\n",
       "      <th>...</th>\n",
       "      <td>...</td>\n",
       "      <td>...</td>\n",
       "      <td>...</td>\n",
       "      <td>...</td>\n",
       "      <td>...</td>\n",
       "      <td>...</td>\n",
       "      <td>...</td>\n",
       "      <td>...</td>\n",
       "      <td>...</td>\n",
       "      <td>...</td>\n",
       "      <td>...</td>\n",
       "      <td>...</td>\n",
       "      <td>...</td>\n",
       "      <td>...</td>\n",
       "      <td>...</td>\n",
       "      <td>...</td>\n",
       "      <td>...</td>\n",
       "      <td>...</td>\n",
       "      <td>...</td>\n",
       "      <td>...</td>\n",
       "      <td>...</td>\n",
       "    </tr>\n",
       "    <tr>\n",
       "      <th>34040</th>\n",
       "      <td>Zyngenia</td>\n",
       "      <td>Biotechnology</td>\n",
       "      <td>2.050000e+11</td>\n",
       "      <td>operating</td>\n",
       "      <td>USA</td>\n",
       "      <td>MD</td>\n",
       "      <td>Washington, D.C.</td>\n",
       "      <td>Gaithersburg</td>\n",
       "      <td>1.0</td>\n",
       "      <td>2008-01-01</td>\n",
       "      <td>...</td>\n",
       "      <td>0.0</td>\n",
       "      <td>0.0</td>\n",
       "      <td>25000000.0</td>\n",
       "      <td>0.0</td>\n",
       "      <td>0.0</td>\n",
       "      <td>0.0</td>\n",
       "      <td>0.0</td>\n",
       "      <td>0.0</td>\n",
       "      <td>0.0</td>\n",
       "      <td>0.0</td>\n",
       "    </tr>\n",
       "    <tr>\n",
       "      <th>34041</th>\n",
       "      <td>Zynstra</td>\n",
       "      <td>Software</td>\n",
       "      <td>1.047050e+11</td>\n",
       "      <td>operating</td>\n",
       "      <td>GBR</td>\n",
       "      <td>other</td>\n",
       "      <td>Bath</td>\n",
       "      <td>Bath</td>\n",
       "      <td>4.0</td>\n",
       "      <td>2011-11-30</td>\n",
       "      <td>...</td>\n",
       "      <td>0.0</td>\n",
       "      <td>0.0</td>\n",
       "      <td>3800000.0</td>\n",
       "      <td>8400000.0</td>\n",
       "      <td>0.0</td>\n",
       "      <td>0.0</td>\n",
       "      <td>0.0</td>\n",
       "      <td>0.0</td>\n",
       "      <td>0.0</td>\n",
       "      <td>0.0</td>\n",
       "    </tr>\n",
       "    <tr>\n",
       "      <th>34042</th>\n",
       "      <td>Zytoprotec</td>\n",
       "      <td>Biotechnology</td>\n",
       "      <td>2.608606e+09</td>\n",
       "      <td>operating</td>\n",
       "      <td>AUT</td>\n",
       "      <td>other</td>\n",
       "      <td>Vienna</td>\n",
       "      <td>Gerasdorf Bei Wien</td>\n",
       "      <td>1.0</td>\n",
       "      <td>2007-01-01</td>\n",
       "      <td>...</td>\n",
       "      <td>0.0</td>\n",
       "      <td>0.0</td>\n",
       "      <td>2686600.0</td>\n",
       "      <td>0.0</td>\n",
       "      <td>0.0</td>\n",
       "      <td>0.0</td>\n",
       "      <td>0.0</td>\n",
       "      <td>0.0</td>\n",
       "      <td>0.0</td>\n",
       "      <td>0.0</td>\n",
       "    </tr>\n",
       "    <tr>\n",
       "      <th>34043</th>\n",
       "      <td>Zzish</td>\n",
       "      <td>Education</td>\n",
       "      <td>3.020000e+08</td>\n",
       "      <td>operating</td>\n",
       "      <td>GBR</td>\n",
       "      <td>other</td>\n",
       "      <td>London</td>\n",
       "      <td>London</td>\n",
       "      <td>1.0</td>\n",
       "      <td>2013-01-28</td>\n",
       "      <td>...</td>\n",
       "      <td>0.0</td>\n",
       "      <td>0.0</td>\n",
       "      <td>0.0</td>\n",
       "      <td>0.0</td>\n",
       "      <td>0.0</td>\n",
       "      <td>0.0</td>\n",
       "      <td>0.0</td>\n",
       "      <td>0.0</td>\n",
       "      <td>0.0</td>\n",
       "      <td>0.0</td>\n",
       "    </tr>\n",
       "    <tr>\n",
       "      <th>34044</th>\n",
       "      <td>Zzzzapp Wireless ltd.</td>\n",
       "      <td>Web Development</td>\n",
       "      <td>9.703980e+06</td>\n",
       "      <td>operating</td>\n",
       "      <td>HRV</td>\n",
       "      <td>other</td>\n",
       "      <td>Split</td>\n",
       "      <td>Split</td>\n",
       "      <td>5.0</td>\n",
       "      <td>2012-05-13</td>\n",
       "      <td>...</td>\n",
       "      <td>0.0</td>\n",
       "      <td>0.0</td>\n",
       "      <td>0.0</td>\n",
       "      <td>0.0</td>\n",
       "      <td>0.0</td>\n",
       "      <td>0.0</td>\n",
       "      <td>0.0</td>\n",
       "      <td>0.0</td>\n",
       "      <td>0.0</td>\n",
       "      <td>0.0</td>\n",
       "    </tr>\n",
       "  </tbody>\n",
       "</table>\n",
       "<p>34045 rows × 31 columns</p>\n",
       "</div>"
      ],
      "text/plain": [
       "                        name           market  funding_total_usd     status  \\\n",
       "0                   #waywire             News       1.705000e+09   acquired   \n",
       "1          'Rock' Your Paper       Publishing       4.000000e+06  operating   \n",
       "2          (In)Touch Network      Electronics       1.500000e+09  operating   \n",
       "3         -R- Ranch and Mine          Tourism       6.000000e+06  operating   \n",
       "4                    0-6.com      Curated Web       2.000000e+09  operating   \n",
       "...                      ...              ...                ...        ...   \n",
       "34040               Zyngenia    Biotechnology       2.050000e+11  operating   \n",
       "34041                Zynstra         Software       1.047050e+11  operating   \n",
       "34042             Zytoprotec    Biotechnology       2.608606e+09  operating   \n",
       "34043                  Zzish        Education       3.020000e+08  operating   \n",
       "34044  Zzzzapp Wireless ltd.  Web Development       9.703980e+06  operating   \n",
       "\n",
       "      country_code state_code            region                city  \\\n",
       "0              USA         NY     New York City            New York   \n",
       "1              EST      other           Tallinn             Tallinn   \n",
       "2              GBR      other            London              London   \n",
       "3              USA         TX            Dallas          Fort Worth   \n",
       "4            other      other             other               other   \n",
       "...            ...        ...               ...                 ...   \n",
       "34040          USA         MD  Washington, D.C.        Gaithersburg   \n",
       "34041          GBR      other              Bath                Bath   \n",
       "34042          AUT      other            Vienna  Gerasdorf Bei Wien   \n",
       "34043          GBR      other            London              London   \n",
       "34044          HRV      other             Split               Split   \n",
       "\n",
       "       funding_rounds  founded_at  ...  private_equity product_crowdfunding  \\\n",
       "0                 1.0  2012-06-01  ...             0.0                  0.0   \n",
       "1                 1.0  2012-10-26  ...             0.0                  0.0   \n",
       "2                 1.0  2011-04-01  ...             0.0                  0.0   \n",
       "3                 2.0  2014-01-01  ...             0.0                  0.0   \n",
       "4                 1.0  2007-01-01  ...             0.0                  0.0   \n",
       "...               ...         ...  ...             ...                  ...   \n",
       "34040             1.0  2008-01-01  ...             0.0                  0.0   \n",
       "34041             4.0  2011-11-30  ...             0.0                  0.0   \n",
       "34042             1.0  2007-01-01  ...             0.0                  0.0   \n",
       "34043             1.0  2013-01-28  ...             0.0                  0.0   \n",
       "34044             5.0  2012-05-13  ...             0.0                  0.0   \n",
       "\n",
       "          round_A    round_B  round_C  round_D  round_E  round_F  round_G  \\\n",
       "0             0.0        0.0      0.0      0.0      0.0      0.0      0.0   \n",
       "1             0.0        0.0      0.0      0.0      0.0      0.0      0.0   \n",
       "2             0.0        0.0      0.0      0.0      0.0      0.0      0.0   \n",
       "3             0.0        0.0      0.0      0.0      0.0      0.0      0.0   \n",
       "4       2000000.0        0.0      0.0      0.0      0.0      0.0      0.0   \n",
       "...           ...        ...      ...      ...      ...      ...      ...   \n",
       "34040  25000000.0        0.0      0.0      0.0      0.0      0.0      0.0   \n",
       "34041   3800000.0  8400000.0      0.0      0.0      0.0      0.0      0.0   \n",
       "34042   2686600.0        0.0      0.0      0.0      0.0      0.0      0.0   \n",
       "34043         0.0        0.0      0.0      0.0      0.0      0.0      0.0   \n",
       "34044         0.0        0.0      0.0      0.0      0.0      0.0      0.0   \n",
       "\n",
       "       round_H  \n",
       "0          0.0  \n",
       "1          0.0  \n",
       "2          0.0  \n",
       "3          0.0  \n",
       "4          0.0  \n",
       "...        ...  \n",
       "34040      0.0  \n",
       "34041      0.0  \n",
       "34042      0.0  \n",
       "34043      0.0  \n",
       "34044      0.0  \n",
       "\n",
       "[34045 rows x 31 columns]"
      ]
     },
     "execution_count": 727,
     "metadata": {},
     "output_type": "execute_result"
    }
   ],
   "source": [
    "data"
   ]
  },
  {
   "cell_type": "markdown",
   "id": "c8f943c9",
   "metadata": {},
   "source": [
    "#### Correlations"
   ]
  },
  {
   "cell_type": "markdown",
   "id": "1db17e40",
   "metadata": {},
   "source": [
    "Based on the below, the strongest correlations occur between debt_financing and funding_total_usd, round_H and round_G, followed by venture and all of the rounds of funding"
   ]
  },
  {
   "cell_type": "code",
   "execution_count": 644,
   "id": "93a4470b",
   "metadata": {
    "ExecuteTime": {
     "end_time": "2022-09-12T01:17:20.351317Z",
     "start_time": "2022-09-12T01:17:18.220843Z"
    }
   },
   "outputs": [
    {
     "data": {
      "text/plain": [
       "Text(0.5, 1.0, 'Heatmap of Correlation Between Attributes (Including Status)')"
      ]
     },
     "execution_count": 644,
     "metadata": {},
     "output_type": "execute_result"
    },
    {
     "data": {
      "image/png": "[encoded data removed]",
      "text/plain": [
       "<Figure size 1440x1440 with 2 Axes>"
      ]
     },
     "metadata": {
      "needs_background": "light"
     },
     "output_type": "display_data"
    }
   ],
   "source": [
    "# with status\n",
    "#heatmap_data = pd.concat([pd.Series(encoder.fit_transform(data['status'])), \n",
    "#                          data.drop('status', axis=1)], axis=1)\n",
    "\n",
    "# without status\n",
    "heatmap_data = data.drop('status', axis=1)\n",
    "\n",
    "h_corr = heatmap_data.corr()\n",
    "fig, ax = plt.subplots(figsize=(20, 20))\n",
    "mask = np.triu(np.ones_like(h_corr, dtype=bool))\n",
    "cmap = sns.diverging_palette(130, 50, as_cmap=True)\n",
    "cbar_kws = {'label': 'Correlation', 'orientation': 'horizontal', \n",
    "            'pad': .1, 'extend': 'both'}\n",
    "sns.heatmap(data=h_corr, mask=mask, ax=ax, annot=True, cbar_kws=cbar_kws, cmap=cmap)\n",
    "ax.set_title('Heatmap of Correlation Between Attributes (Including Status)')"
   ]
  },
  {
   "cell_type": "code",
   "execution_count": 645,
   "id": "7a9828f7",
   "metadata": {
    "ExecuteTime": {
     "end_time": "2022-09-12T01:17:34.314137Z",
     "start_time": "2022-09-12T01:17:34.298822Z"
    }
   },
   "outputs": [],
   "source": [
    "#data_corr=data.drop(columns=['status'], axis=1).corr()\n",
    "corr = h_corr.abs().stack().reset_index().sort_values(0, ascending=False)\n",
    "corr['pairs'] = list(zip(corr.level_0, corr.level_1))\n",
    "corr.set_index(['pairs'], inplace = True)\n",
    "corr.drop(columns=['level_1', 'level_0'], inplace = True)\n",
    "\n",
    "# cc for correlation coefficient\n",
    "corr.columns = ['cc']\n",
    "corr.drop_duplicates(inplace=True)"
   ]
  },
  {
   "cell_type": "code",
   "execution_count": 646,
   "id": "a378665e",
   "metadata": {
    "ExecuteTime": {
     "end_time": "2022-09-12T01:17:36.766406Z",
     "start_time": "2022-09-12T01:17:36.753667Z"
    }
   },
   "outputs": [
    {
     "data": {
      "text/html": [
       "<div>\n",
       "<style scoped>\n",
       "    .dataframe tbody tr th:only-of-type {\n",
       "        vertical-align: middle;\n",
       "    }\n",
       "\n",
       "    .dataframe tbody tr th {\n",
       "        vertical-align: top;\n",
       "    }\n",
       "\n",
       "    .dataframe thead th {\n",
       "        text-align: right;\n",
       "    }\n",
       "</style>\n",
       "<table border=\"1\" class=\"dataframe\">\n",
       "  <thead>\n",
       "    <tr style=\"text-align: right;\">\n",
       "      <th></th>\n",
       "      <th>cc</th>\n",
       "    </tr>\n",
       "    <tr>\n",
       "      <th>pairs</th>\n",
       "      <th></th>\n",
       "    </tr>\n",
       "  </thead>\n",
       "  <tbody>\n",
       "    <tr>\n",
       "      <th>(round_H, round_G)</th>\n",
       "      <td>0.859849</td>\n",
       "    </tr>\n",
       "    <tr>\n",
       "      <th>(round_D, venture)</th>\n",
       "      <td>0.615476</td>\n",
       "    </tr>\n",
       "  </tbody>\n",
       "</table>\n",
       "</div>"
      ],
      "text/plain": [
       "                          cc\n",
       "pairs                       \n",
       "(round_H, round_G)  0.859849\n",
       "(round_D, venture)  0.615476"
      ]
     },
     "execution_count": 646,
     "metadata": {},
     "output_type": "execute_result"
    }
   ],
   "source": [
    "corr[(corr['cc'] > 0.6) & (corr['cc'] < 1)]"
   ]
  },
  {
   "cell_type": "code",
   "execution_count": 647,
   "id": "e1389e69",
   "metadata": {
    "ExecuteTime": {
     "end_time": "2022-09-12T01:18:34.024678Z",
     "start_time": "2022-09-12T01:18:34.013230Z"
    }
   },
   "outputs": [],
   "source": [
    "# dropping columns with correlation coefficient greater than 0.6\n",
    "data = data.drop(columns=['venture', 'round_H'], axis=1)"
   ]
  },
  {
   "cell_type": "markdown",
   "id": "df819161",
   "metadata": {},
   "source": [
    "#### Feature Engineering"
   ]
  },
  {
   "cell_type": "code",
   "execution_count": 572,
   "id": "35231dfa",
   "metadata": {
    "ExecuteTime": {
     "end_time": "2022-09-12T00:04:29.957577Z",
     "start_time": "2022-09-12T00:04:29.907376Z"
    }
   },
   "outputs": [],
   "source": [
    "data['international'] = [0 if country=='USA' else 1 for country in data['country_code']]"
   ]
  },
  {
   "cell_type": "markdown",
   "id": "9447b2a4",
   "metadata": {},
   "source": [
    "#### TEMP - Time to First Funding"
   ]
  },
  {
   "cell_type": "code",
   "execution_count": 656,
   "id": "67925135",
   "metadata": {
    "ExecuteTime": {
     "end_time": "2022-09-12T01:22:52.525029Z",
     "start_time": "2022-09-12T01:22:52.516089Z"
    }
   },
   "outputs": [
    {
     "data": {
      "text/plain": [
       "0        2012-06-30\n",
       "1        2010-06-04\n",
       "2        2012-08-09\n",
       "3        2011-04-01\n",
       "4        2014-08-17\n",
       "            ...    \n",
       "54289           NaN\n",
       "54290           NaN\n",
       "54291           NaN\n",
       "54292           NaN\n",
       "54293           NaN\n",
       "Name: first_funding_at, Length: 54294, dtype: object"
      ]
     },
     "execution_count": 656,
     "metadata": {},
     "output_type": "execute_result"
    }
   ],
   "source": [
    "data['first_funding_at']\n",
    "#data['founded_at']\n",
    "df2['first_funding_at']"
   ]
  },
  {
   "cell_type": "code",
   "execution_count": 729,
   "id": "7bc164a3",
   "metadata": {
    "ExecuteTime": {
     "end_time": "2022-09-12T02:03:53.055303Z",
     "start_time": "2022-09-12T02:03:53.049360Z"
    }
   },
   "outputs": [
    {
     "data": {
      "text/plain": [
       "0.07945205479452055"
      ]
     },
     "execution_count": 729,
     "metadata": {},
     "output_type": "execute_result"
    }
   ],
   "source": [
    "(data['first_funding_at'][0]-data['founded_at'][0])/pd.Timedelta(days=365)"
   ]
  },
  {
   "cell_type": "code",
   "execution_count": 745,
   "id": "4bf37b60",
   "metadata": {
    "ExecuteTime": {
     "end_time": "2022-09-12T02:18:37.776722Z",
     "start_time": "2022-09-12T02:18:37.729739Z"
    }
   },
   "outputs": [
    {
     "ename": "AttributeError",
     "evalue": "'datetime.date' object has no attribute 'astype'",
     "output_type": "error",
     "traceback": [
      "\u001b[0;31m---------------------------------------------------------------------------\u001b[0m",
      "\u001b[0;31mAttributeError\u001b[0m                            Traceback (most recent call last)",
      "\u001b[0;32m<ipython-input-745-6951ca0a0a92>\u001b[0m in \u001b[0;36m<module>\u001b[0;34m\u001b[0m\n\u001b[1;32m      7\u001b[0m \u001b[0;34m\u001b[0m\u001b[0m\n\u001b[1;32m      8\u001b[0m \u001b[0;32mfor\u001b[0m \u001b[0mi\u001b[0m \u001b[0;32min\u001b[0m \u001b[0mrange\u001b[0m\u001b[0;34m(\u001b[0m\u001b[0mlen\u001b[0m\u001b[0;34m(\u001b[0m\u001b[0mdata\u001b[0m\u001b[0;34m)\u001b[0m\u001b[0;34m)\u001b[0m\u001b[0;34m:\u001b[0m\u001b[0;34m\u001b[0m\u001b[0;34m\u001b[0m\u001b[0m\n\u001b[0;32m----> 9\u001b[0;31m     \u001b[0mx\u001b[0m \u001b[0;34m=\u001b[0m \u001b[0;34m(\u001b[0m\u001b[0mdata\u001b[0m\u001b[0;34m[\u001b[0m\u001b[0;34m'first_funding_at'\u001b[0m\u001b[0;34m]\u001b[0m\u001b[0;34m[\u001b[0m\u001b[0mi\u001b[0m\u001b[0;34m]\u001b[0m\u001b[0;34m.\u001b[0m\u001b[0mastype\u001b[0m\u001b[0;34m(\u001b[0m\u001b[0mfloat\u001b[0m\u001b[0;34m)\u001b[0m \u001b[0;34m-\u001b[0m \u001b[0mdata\u001b[0m\u001b[0;34m[\u001b[0m\u001b[0;34m'founded_at'\u001b[0m\u001b[0;34m]\u001b[0m\u001b[0;34m[\u001b[0m\u001b[0mi\u001b[0m\u001b[0;34m]\u001b[0m\u001b[0;34m.\u001b[0m\u001b[0mastype\u001b[0m\u001b[0;34m(\u001b[0m\u001b[0mfloat\u001b[0m\u001b[0;34m)\u001b[0m\u001b[0;34m)\u001b[0m \u001b[0;34m/\u001b[0m \u001b[0mpd\u001b[0m\u001b[0;34m.\u001b[0m\u001b[0mTimedelta\u001b[0m\u001b[0;34m(\u001b[0m\u001b[0mdays\u001b[0m\u001b[0;34m=\u001b[0m\u001b[0;36m365\u001b[0m\u001b[0;34m)\u001b[0m\u001b[0;34m\u001b[0m\u001b[0;34m\u001b[0m\u001b[0m\n\u001b[0m\u001b[1;32m     10\u001b[0m     \u001b[0mlst\u001b[0m\u001b[0;34m.\u001b[0m\u001b[0mappend\u001b[0m\u001b[0;34m(\u001b[0m\u001b[0mx\u001b[0m\u001b[0;34m)\u001b[0m\u001b[0;34m\u001b[0m\u001b[0;34m\u001b[0m\u001b[0m\n\u001b[1;32m     11\u001b[0m \u001b[0;34m\u001b[0m\u001b[0m\n",
      "\u001b[0;31mAttributeError\u001b[0m: 'datetime.date' object has no attribute 'astype'"
     ]
    }
   ],
   "source": [
    "# time elapsed between founding and first funding\n",
    "#data['first_funding_at']\n",
    "#data['last_funding_at']\n",
    "#data['founded_at']\n",
    "\n",
    "lst = []\n",
    "\n",
    "for i in range(len(data)):\n",
    "    x = (data['first_funding_at'][i].astype(float) - data['founded_at'][i].astype(float)) / pd.Timedelta(days=365)\n",
    "    lst.append(x)\n",
    "    \n",
    "data['time_to_first_funding'] = lst\n",
    "data['time_to_first_funding']\n",
    "\n",
    "#data['age_first_funding'] = (data['first_funding_at']-data['founded_at'])/pd.Timedelta(days=365)\n",
    "#data['age_last_funding'] = (data['last_funding_at']-data['founded_at'])/pd.Timedelta(days=365)\n",
    "#data['founded_month'] = pd.DatetimeIndex(data['founded_at']).month\n",
    "#data['founded_quarter'] = pd.DatetimeIndex(data['founded_at']).quarter\n",
    "\n"
   ]
  },
  {
   "cell_type": "markdown",
   "id": "b7d35678",
   "metadata": {},
   "source": [
    "#### TEMP - Outliers"
   ]
  },
  {
   "cell_type": "code",
   "execution_count": null,
   "id": "ca7594a3",
   "metadata": {},
   "outputs": [],
   "source": [
    "# funding amount?\n",
    "# year founded? 1995 or later?"
   ]
  },
  {
   "cell_type": "markdown",
   "id": "6a74d371",
   "metadata": {},
   "source": [
    "#### TEMP - Investigating Funding total"
   ]
  },
  {
   "cell_type": "code",
   "execution_count": null,
   "id": "15ca715c",
   "metadata": {},
   "outputs": [],
   "source": [
    "# what is funding total?\n",
    "# other funding components?"
   ]
  },
  {
   "cell_type": "markdown",
   "id": "cbe60662",
   "metadata": {
    "heading_collapsed": true
   },
   "source": [
    "#### OPTIONAL - Binary Representation of Funding Rounds"
   ]
  },
  {
   "cell_type": "code",
   "execution_count": 497,
   "id": "fcbc418b",
   "metadata": {
    "ExecuteTime": {
     "end_time": "2022-09-11T17:24:41.252469Z",
     "start_time": "2022-09-11T17:24:40.851977Z"
    },
    "hidden": true
   },
   "outputs": [],
   "source": [
    "data['had_round_A'] = [0 if x==0 else 1 for x in data['round_A']]\n",
    "data['had_round_B'] = [0 if x==0 else 1 for x in data['round_B']]\n",
    "data['had_round_C'] = [0 if x==0 else 1 for x in data['round_C']]\n",
    "data['had_round_D'] = [0 if x==0 else 1 for x in data['round_D']]\n",
    "data['had_round_E'] = [0 if x==0 else 1 for x in data['round_E']]\n",
    "data['had_round_F'] = [0 if x==0 else 1 for x in data['round_F']]\n",
    "data['had_round_G'] = [0 if x==0 else 1 for x in data['round_G']]\n",
    "data['had_venture'] = [0 if x==0 else 1 for x in data['venture']]\n",
    "data['had_seed'] = [0 if x==0 else 1 for x in data['seed']]\n",
    "data['had_eq_crowdfunding'] = [0 if x==0 else 1 for x in data['equity_crowdfunding']]\n",
    "data['had_pd_crowdfunding'] = [0 if x==0 else 1 for x in data['product_crowdfunding']]\n",
    "data['had_angel'] = [0 if x==0 else 1 for x in data['angel']]\n",
    "data['had_grant'] = [0 if x==0 else 1 for x in data['grant']]\n",
    "data['had_pe'] = [0 if x==0 else 1 for x in data['private_equity']]\n",
    "data['had_convert'] = [0 if x==0 else 1 for x in data['convertible_note']]"
   ]
  },
  {
   "cell_type": "markdown",
   "id": "38229048",
   "metadata": {},
   "source": [
    "#### X/Y Split"
   ]
  },
  {
   "cell_type": "code",
   "execution_count": 573,
   "id": "5d66ce00",
   "metadata": {
    "ExecuteTime": {
     "end_time": "2022-09-12T00:04:38.298215Z",
     "start_time": "2022-09-12T00:04:38.281870Z"
    }
   },
   "outputs": [
    {
     "data": {
      "text/plain": [
       "name                     object\n",
       "market                   object\n",
       "funding_total_usd       float64\n",
       "status                   object\n",
       "country_code             object\n",
       "state_code               object\n",
       "region                   object\n",
       "city                     object\n",
       "funding_rounds          float64\n",
       "founded_at               object\n",
       "founded_quarter          object\n",
       "founded_year            float64\n",
       "first_funding_at         object\n",
       "last_funding_at          object\n",
       "seed                    float64\n",
       "venture                 float64\n",
       "equity_crowdfunding     float64\n",
       "undisclosed             float64\n",
       "convertible_note        float64\n",
       "angel                   float64\n",
       "grant                   float64\n",
       "private_equity          float64\n",
       "product_crowdfunding    float64\n",
       "round_A                 float64\n",
       "round_B                 float64\n",
       "round_C                 float64\n",
       "round_D                 float64\n",
       "round_E                 float64\n",
       "round_F                 float64\n",
       "round_G                 float64\n",
       "international             int64\n",
       "dtype: object"
      ]
     },
     "execution_count": 573,
     "metadata": {},
     "output_type": "execute_result"
    }
   ],
   "source": [
    "data.dtypes"
   ]
  },
  {
   "cell_type": "markdown",
   "id": "1eaf1f61",
   "metadata": {},
   "source": [
    "Splitting out X and Y for train-test split:"
   ]
  },
  {
   "cell_type": "code",
   "execution_count": 498,
   "id": "3877d484",
   "metadata": {
    "ExecuteTime": {
     "end_time": "2022-09-11T17:25:13.796164Z",
     "start_time": "2022-09-11T17:25:13.750743Z"
    }
   },
   "outputs": [
    {
     "data": {
      "text/plain": [
       "2602"
      ]
     },
     "execution_count": 498,
     "metadata": {},
     "output_type": "execute_result"
    }
   ],
   "source": [
    "len(data[data['status']=='closed'])"
   ]
  },
  {
   "cell_type": "code",
   "execution_count": 499,
   "id": "50a676ce",
   "metadata": {
    "ExecuteTime": {
     "end_time": "2022-09-11T17:25:17.827550Z",
     "start_time": "2022-09-11T17:25:17.649102Z"
    }
   },
   "outputs": [],
   "source": [
    "# removing irrelevant columns w/ obvious correlations, lack of insight\n",
    "X = data.drop(columns=['status', 'name', 'country_code', 'state_code', \n",
    "                       'city', 'founded_quarter'], \n",
    "              axis=1)\n",
    "\n",
    "# remove these if I go with binary version\n",
    "#'round_A', 'round_B', 'round_C', 'round_D', 'round_E', 'round_F', 'round_G'\n",
    "#'undisclosed', 'angel' ,'grant', 'venture', 'equity_crowdfunding', \n",
    "# 'convertible_note', 'seed', 'private_equity', 'product_crowdfunding'\n",
    "\n",
    "encoder = LabelEncoder()\n",
    "y = pd.Series(encoder.fit_transform(data['status'])) \n",
    "# acquired is 0, closed is 1, operating is 2\n",
    "\n",
    "# binary where 0 is acquired/operating(success), 1 is closed\n",
    "y_bin = pd.Series([1 if val==1 else 0 for val in y])"
   ]
  },
  {
   "cell_type": "code",
   "execution_count": 500,
   "id": "900c845c",
   "metadata": {
    "ExecuteTime": {
     "end_time": "2022-09-11T17:25:30.850116Z",
     "start_time": "2022-09-11T17:25:30.837897Z"
    }
   },
   "outputs": [
    {
     "name": "stdout",
     "output_type": "stream",
     "text": [
      "2    41829\n",
      "0     3692\n",
      "1     2602\n",
      "dtype: int64\n"
     ]
    },
    {
     "data": {
      "text/plain": [
       "0    45521\n",
       "1     2602\n",
       "dtype: int64"
      ]
     },
     "execution_count": 500,
     "metadata": {},
     "output_type": "execute_result"
    }
   ],
   "source": [
    "print(y.value_counts())\n",
    "y_bin.value_counts()"
   ]
  },
  {
   "cell_type": "code",
   "execution_count": 16,
   "id": "58da610d",
   "metadata": {
    "ExecuteTime": {
     "end_time": "2022-09-08T14:43:30.015283Z",
     "start_time": "2022-09-08T14:43:30.013117Z"
    }
   },
   "outputs": [],
   "source": [
    "#fig, ax = plt.subplots(figsize = (6,4))\n",
    "\n",
    "# Plots #\n",
    "    # Plot histogram\n",
    "#X['region'].plot(kind = \"hist\", density = True, bins = 15) # change density to true, because KDE uses density\n",
    "    # Plot KDE\n",
    "#X['region'].plot(kind = \"kde\")"
   ]
  },
  {
   "cell_type": "code",
   "execution_count": 501,
   "id": "74e6498a",
   "metadata": {
    "ExecuteTime": {
     "end_time": "2022-09-11T17:25:33.386977Z",
     "start_time": "2022-09-11T17:25:33.375596Z"
    }
   },
   "outputs": [
    {
     "data": {
      "text/plain": [
       "market                  object\n",
       "funding_total_usd      float64\n",
       "region                  object\n",
       "funding_rounds         float64\n",
       "founded_year           float64\n",
       "international            int64\n",
       "had_round_A              int64\n",
       "had_round_B              int64\n",
       "had_round_C              int64\n",
       "had_round_D              int64\n",
       "had_round_E              int64\n",
       "had_round_F              int64\n",
       "had_round_G              int64\n",
       "had_round_H              int64\n",
       "had_venture              int64\n",
       "had_seed                 int64\n",
       "had_eq_crowdfunding      int64\n",
       "had_pd_crowdfunding      int64\n",
       "had_angel                int64\n",
       "had_grant                int64\n",
       "had_pe                   int64\n",
       "had_debt_fin             int64\n",
       "had_convert              int64\n",
       "dtype: object"
      ]
     },
     "execution_count": 501,
     "metadata": {},
     "output_type": "execute_result"
    }
   ],
   "source": [
    "X.dtypes"
   ]
  },
  {
   "cell_type": "markdown",
   "id": "1edb40c8",
   "metadata": {},
   "source": [
    "### Optional Adjustments - Market, Region, State Code"
   ]
  },
  {
   "cell_type": "code",
   "execution_count": 502,
   "id": "086d6c83",
   "metadata": {
    "ExecuteTime": {
     "end_time": "2022-09-11T17:26:23.822246Z",
     "start_time": "2022-09-11T17:26:23.786910Z"
    }
   },
   "outputs": [
    {
     "data": {
      "text/plain": [
       "other                  27838\n",
       "Software                4527\n",
       "Biotechnology           3588\n",
       "Mobile                  1944\n",
       "E-Commerce              1739\n",
       "Curated Web             1630\n",
       "Enterprise Software     1256\n",
       "Health Care             1185\n",
       "Clean Technology        1164\n",
       "Games                   1161\n",
       "Hardware + Software     1065\n",
       "Advertising             1026\n",
       "Name: market, dtype: int64"
      ]
     },
     "execution_count": 502,
     "metadata": {},
     "output_type": "execute_result"
    }
   ],
   "source": [
    "X['market'][X['market'].map(X['market'].value_counts()) < 1000] = 'other'\n",
    "X['market'].value_counts()"
   ]
  },
  {
   "cell_type": "code",
   "execution_count": 503,
   "id": "8260e496",
   "metadata": {
    "ExecuteTime": {
     "end_time": "2022-09-11T17:26:30.921296Z",
     "start_time": "2022-09-11T17:26:30.895240Z"
    }
   },
   "outputs": [
    {
     "data": {
      "text/plain": [
       "other            34179\n",
       "SF Bay Area       6687\n",
       "New York City     2528\n",
       "Boston            1807\n",
       "London            1554\n",
       "Los Angeles       1368\n",
       "Name: region, dtype: int64"
      ]
     },
     "execution_count": 503,
     "metadata": {},
     "output_type": "execute_result"
    }
   ],
   "source": [
    "X['region'][X['region'].map(X['region'].value_counts()) < 1000] = 'other'\n",
    "# combine na and low dens for 'other' category\n",
    "X['region'].value_counts()"
   ]
  },
  {
   "cell_type": "markdown",
   "id": "fa39688e",
   "metadata": {},
   "source": [
    "### Train Test Split"
   ]
  },
  {
   "cell_type": "code",
   "execution_count": 506,
   "id": "acd4219f",
   "metadata": {
    "ExecuteTime": {
     "end_time": "2022-09-11T17:27:16.807207Z",
     "start_time": "2022-09-11T17:27:16.587958Z"
    }
   },
   "outputs": [],
   "source": [
    "X_train, X_test, y_train, y_test = train_test_split(X, y_bin, random_state=42) \n",
    "#can use y for multiclass, #y_bin for binary"
   ]
  },
  {
   "cell_type": "code",
   "execution_count": 507,
   "id": "92bd5daf",
   "metadata": {
    "ExecuteTime": {
     "end_time": "2022-09-11T17:27:18.406426Z",
     "start_time": "2022-09-11T17:27:18.399074Z"
    }
   },
   "outputs": [
    {
     "name": "stdout",
     "output_type": "stream",
     "text": [
      "X_train is a DataFrame with 36092 rows and 23 columns\n",
      "y_train is a Series with 36092 values\n"
     ]
    }
   ],
   "source": [
    "print(f\"X_train is a DataFrame with {X_train.shape[0]} rows and {X_train.shape[1]} columns\")\n",
    "print(f\"y_train is a Series with {y_train.shape[0]} values\")\n",
    "\n",
    "# Same number of rows in X as values in y\n",
    "assert X_train.shape[0] == y_train.shape[0]"
   ]
  },
  {
   "cell_type": "code",
   "execution_count": 508,
   "id": "d5032c21",
   "metadata": {
    "ExecuteTime": {
     "end_time": "2022-09-11T17:27:20.634074Z",
     "start_time": "2022-09-11T17:27:20.624641Z"
    }
   },
   "outputs": [
    {
     "name": "stdout",
     "output_type": "stream",
     "text": [
      "0    0.946692\n",
      "1    0.053308\n",
      "dtype: float64\n"
     ]
    }
   ],
   "source": [
    "print(y_train.value_counts(normalize=True))"
   ]
  },
  {
   "cell_type": "code",
   "execution_count": 509,
   "id": "3cdbd74c",
   "metadata": {
    "ExecuteTime": {
     "end_time": "2022-09-11T17:27:22.523489Z",
     "start_time": "2022-09-11T17:27:22.517646Z"
    }
   },
   "outputs": [
    {
     "data": {
      "text/plain": [
       "Index(['market', 'funding_total_usd', 'region', 'funding_rounds',\n",
       "       'founded_year', 'international', 'had_round_A', 'had_round_B',\n",
       "       'had_round_C', 'had_round_D', 'had_round_E', 'had_round_F',\n",
       "       'had_round_G', 'had_round_H', 'had_venture', 'had_seed',\n",
       "       'had_eq_crowdfunding', 'had_pd_crowdfunding', 'had_angel', 'had_grant',\n",
       "       'had_pe', 'had_debt_fin', 'had_convert'],\n",
       "      dtype='object')"
      ]
     },
     "execution_count": 509,
     "metadata": {},
     "output_type": "execute_result"
    }
   ],
   "source": [
    "X_train.columns"
   ]
  },
  {
   "cell_type": "markdown",
   "id": "b2e7f138",
   "metadata": {},
   "source": [
    "### Preprocessing with Sklearn"
   ]
  },
  {
   "cell_type": "markdown",
   "id": "7a454ca9",
   "metadata": {},
   "source": [
    "Pipeline?"
   ]
  },
  {
   "cell_type": "code",
   "execution_count": null,
   "id": "1deb6e44",
   "metadata": {},
   "outputs": [],
   "source": [
    "pipe = Pipeline([\n",
    "    (\"scaler\", MinMaxScaler()),\n",
    "    (\"model\", LogisticRegression())\n",
    "])\n",
    "\n",
    "pipe.fit(X_train, y_train)"
   ]
  },
  {
   "cell_type": "markdown",
   "id": "f4037906",
   "metadata": {},
   "source": [
    "Handle missing values:"
   ]
  },
  {
   "cell_type": "code",
   "execution_count": null,
   "id": "6598c2ae",
   "metadata": {
    "ExecuteTime": {
     "end_time": "2022-09-06T16:20:43.809798Z",
     "start_time": "2022-09-06T16:20:19.478Z"
    }
   },
   "outputs": [],
   "source": [
    "# Replace FireplaceQu NaNs with \"N/A\"s\n",
    "#X_test[\"FireplaceQu\"] = X_test[\"FireplaceQu\"].fillna(\"N/A\")\n",
    "\n",
    "# Add missing indicator for lot frontage\n",
    "#frontage_test = X_test[[\"LotFrontage\"]]\n",
    "#frontage_missing_test = missing_indicator.transform(frontage_test)\n",
    "#X_test[\"LotFrontage_Missing\"] = frontage_missing_test\n",
    "\n",
    "# Impute missing lot frontage values\n",
    "#frontage_imputed_test = imputer.transform(frontage_test)\n",
    "#X_test[\"LotFrontage\"] = frontage_imputed_test\n",
    "\n",
    "# Check that there are no more missing values\n",
    "#X_test.isna().sum()"
   ]
  },
  {
   "cell_type": "markdown",
   "id": "4c12b06b",
   "metadata": {},
   "source": [
    "All in one step --- skipping this for now"
   ]
  },
  {
   "cell_type": "code",
   "execution_count": null,
   "id": "3fa348d0",
   "metadata": {},
   "outputs": [],
   "source": [
    "# Scale continuous values using MinMaxScaler\n",
    "scaler = MinMaxScaler()\n",
    "X_train_cont = scaler.fit_transform(X_train_cont)\n",
    "X_test_cont = scaler.transform(X_test_cont)\n",
    "\n",
    "# Dummy encode categorical values using OneHotEncoder\n",
    "ohe = OneHotEncoder(handle_unknown='ignore')\n",
    "X_train_cat = ohe.fit_transform(X_train_cat)\n",
    "X_test_cat = ohe.transform(X_test_cat)\n",
    "\n",
    "# Combine everything back together\n",
    "X_train_preprocessed = np.concatenate([X_train_cont, X_train_cat.todense()], axis=1)\n",
    "X_test_preprocessed = np.concatenate([X_test_cont, X_test_cat.todense()], axis=1)"
   ]
  },
  {
   "cell_type": "markdown",
   "id": "6e6b54b0",
   "metadata": {},
   "source": [
    "Setting aside international feature as it is already processed:"
   ]
  },
  {
   "cell_type": "code",
   "execution_count": 166,
   "id": "77408034",
   "metadata": {
    "ExecuteTime": {
     "end_time": "2022-09-08T18:32:58.836594Z",
     "start_time": "2022-09-08T18:32:58.824321Z"
    }
   },
   "outputs": [],
   "source": [
    "train_int = X_train['international'].copy().reset_index(drop=True)\n",
    "test_int = X_test['international'].copy().reset_index(drop=True)"
   ]
  },
  {
   "cell_type": "markdown",
   "id": "2f69bc18",
   "metadata": {},
   "source": [
    "Feature engineered categoricals:"
   ]
  },
  {
   "cell_type": "code",
   "execution_count": 510,
   "id": "2e1b83d8",
   "metadata": {
    "ExecuteTime": {
     "end_time": "2022-09-11T17:27:34.421628Z",
     "start_time": "2022-09-11T17:27:34.373962Z"
    }
   },
   "outputs": [],
   "source": [
    "X_train_cat_eng = X_train.select_dtypes(include=['int64']).reset_index(drop=True)\n",
    "X_test_cat_eng = X_test.select_dtypes(include=['int64']).reset_index(drop=True)"
   ]
  },
  {
   "cell_type": "markdown",
   "id": "208270a4",
   "metadata": {},
   "source": [
    "Scale continuous variables using Min Max Scaler:"
   ]
  },
  {
   "cell_type": "code",
   "execution_count": 511,
   "id": "30e007ac",
   "metadata": {
    "ExecuteTime": {
     "end_time": "2022-09-11T17:27:36.378032Z",
     "start_time": "2022-09-11T17:27:36.371250Z"
    }
   },
   "outputs": [
    {
     "data": {
      "text/plain": [
       "market                  object\n",
       "funding_total_usd      float64\n",
       "region                  object\n",
       "funding_rounds         float64\n",
       "founded_year           float64\n",
       "international            int64\n",
       "had_round_A              int64\n",
       "had_round_B              int64\n",
       "had_round_C              int64\n",
       "had_round_D              int64\n",
       "had_round_E              int64\n",
       "had_round_F              int64\n",
       "had_round_G              int64\n",
       "had_round_H              int64\n",
       "had_venture              int64\n",
       "had_seed                 int64\n",
       "had_eq_crowdfunding      int64\n",
       "had_pd_crowdfunding      int64\n",
       "had_angel                int64\n",
       "had_grant                int64\n",
       "had_pe                   int64\n",
       "had_debt_fin             int64\n",
       "had_convert              int64\n",
       "dtype: object"
      ]
     },
     "execution_count": 511,
     "metadata": {},
     "output_type": "execute_result"
    }
   ],
   "source": [
    "X_train.dtypes ## GET RID OF FUNDING QUARTER? UNUSUALLY LARGE COEFFICIENTS"
   ]
  },
  {
   "cell_type": "code",
   "execution_count": 512,
   "id": "921777c9",
   "metadata": {
    "ExecuteTime": {
     "end_time": "2022-09-11T17:27:57.919805Z",
     "start_time": "2022-09-11T17:27:57.742846Z"
    }
   },
   "outputs": [],
   "source": [
    "X_train_cont = X_train.select_dtypes(exclude=['object','int64']).reset_index(drop=True)\n",
    "X_test_cont = X_test.select_dtypes(exclude=['object','int64']).reset_index(drop=True)\n",
    "\n",
    "# Instantiate MinMaxScaler\n",
    "scaler = MinMaxScaler()\n",
    "\n",
    "# Fit and transform X_train\n",
    "X_train_cont_scaled = scaler.fit_transform(X_train_cont)\n",
    "X_train_cont_scaled = pd.DataFrame(X_train_cont_scaled, columns=X_train_cont.columns)\n",
    "\n",
    "# Transform X_test\n",
    "X_test_cont_scaled = scaler.transform(X_test_cont)\n",
    "X_test_cont_scaled = pd.DataFrame(X_test_cont_scaled, columns=X_test_cont.columns)"
   ]
  },
  {
   "cell_type": "markdown",
   "id": "51fb11ad",
   "metadata": {},
   "source": [
    "One hot encode categorical variables:"
   ]
  },
  {
   "cell_type": "code",
   "execution_count": 513,
   "id": "b8a6e3ae",
   "metadata": {
    "ExecuteTime": {
     "end_time": "2022-09-11T17:27:59.795088Z",
     "start_time": "2022-09-11T17:27:59.741544Z"
    }
   },
   "outputs": [],
   "source": [
    "#cat_columns = ['market', 'country_code', 'state_code', 'region', \n",
    "#               'city', 'founded_quarter']\n",
    "\n",
    "cat_columns = ['market', 'region'] #, 'founded_quarter']\n",
    "\n",
    "cat_train = X_train[cat_columns].reset_index(drop=True)\n",
    "cat_test = X_test[cat_columns].reset_index(drop=True)"
   ]
  },
  {
   "cell_type": "code",
   "execution_count": 514,
   "id": "1f609e1e",
   "metadata": {
    "ExecuteTime": {
     "end_time": "2022-09-11T17:28:01.536001Z",
     "start_time": "2022-09-11T17:28:01.421047Z"
    },
    "scrolled": true
   },
   "outputs": [],
   "source": [
    "ohe = OneHotEncoder(handle_unknown = 'ignore')\n",
    "\n",
    "encoded_train = ohe.fit_transform(cat_train).toarray()\n",
    "\n",
    "X_train_cat = pd.DataFrame(encoded_train, columns=ohe.get_feature_names(cat_train.columns))"
   ]
  },
  {
   "cell_type": "code",
   "execution_count": 515,
   "id": "54eb7d81",
   "metadata": {
    "ExecuteTime": {
     "end_time": "2022-09-11T17:28:03.264823Z",
     "start_time": "2022-09-11T17:28:03.132914Z"
    }
   },
   "outputs": [
    {
     "data": {
      "text/html": [
       "<div>\n",
       "<style scoped>\n",
       "    .dataframe tbody tr th:only-of-type {\n",
       "        vertical-align: middle;\n",
       "    }\n",
       "\n",
       "    .dataframe tbody tr th {\n",
       "        vertical-align: top;\n",
       "    }\n",
       "\n",
       "    .dataframe thead th {\n",
       "        text-align: right;\n",
       "    }\n",
       "</style>\n",
       "<table border=\"1\" class=\"dataframe\">\n",
       "  <thead>\n",
       "    <tr style=\"text-align: right;\">\n",
       "      <th></th>\n",
       "      <th>market_Advertising</th>\n",
       "      <th>market_Biotechnology</th>\n",
       "      <th>market_Clean Technology</th>\n",
       "      <th>market_Curated Web</th>\n",
       "      <th>market_E-Commerce</th>\n",
       "      <th>market_Enterprise Software</th>\n",
       "      <th>market_Games</th>\n",
       "      <th>market_Hardware + Software</th>\n",
       "      <th>market_Health Care</th>\n",
       "      <th>market_Mobile</th>\n",
       "      <th>...</th>\n",
       "      <th>had_round_H</th>\n",
       "      <th>had_venture</th>\n",
       "      <th>had_seed</th>\n",
       "      <th>had_eq_crowdfunding</th>\n",
       "      <th>had_pd_crowdfunding</th>\n",
       "      <th>had_angel</th>\n",
       "      <th>had_grant</th>\n",
       "      <th>had_pe</th>\n",
       "      <th>had_debt_fin</th>\n",
       "      <th>had_convert</th>\n",
       "    </tr>\n",
       "  </thead>\n",
       "  <tbody>\n",
       "    <tr>\n",
       "      <th>0</th>\n",
       "      <td>0.0</td>\n",
       "      <td>0.0</td>\n",
       "      <td>0.0</td>\n",
       "      <td>0.0</td>\n",
       "      <td>0.0</td>\n",
       "      <td>0.0</td>\n",
       "      <td>0.0</td>\n",
       "      <td>1.0</td>\n",
       "      <td>0.0</td>\n",
       "      <td>0.0</td>\n",
       "      <td>...</td>\n",
       "      <td>0</td>\n",
       "      <td>1</td>\n",
       "      <td>0</td>\n",
       "      <td>0</td>\n",
       "      <td>0</td>\n",
       "      <td>0</td>\n",
       "      <td>0</td>\n",
       "      <td>0</td>\n",
       "      <td>0</td>\n",
       "      <td>0</td>\n",
       "    </tr>\n",
       "    <tr>\n",
       "      <th>1</th>\n",
       "      <td>0.0</td>\n",
       "      <td>0.0</td>\n",
       "      <td>0.0</td>\n",
       "      <td>0.0</td>\n",
       "      <td>0.0</td>\n",
       "      <td>0.0</td>\n",
       "      <td>0.0</td>\n",
       "      <td>0.0</td>\n",
       "      <td>0.0</td>\n",
       "      <td>0.0</td>\n",
       "      <td>...</td>\n",
       "      <td>0</td>\n",
       "      <td>1</td>\n",
       "      <td>0</td>\n",
       "      <td>0</td>\n",
       "      <td>0</td>\n",
       "      <td>0</td>\n",
       "      <td>0</td>\n",
       "      <td>0</td>\n",
       "      <td>0</td>\n",
       "      <td>0</td>\n",
       "    </tr>\n",
       "    <tr>\n",
       "      <th>2</th>\n",
       "      <td>0.0</td>\n",
       "      <td>0.0</td>\n",
       "      <td>0.0</td>\n",
       "      <td>0.0</td>\n",
       "      <td>0.0</td>\n",
       "      <td>0.0</td>\n",
       "      <td>0.0</td>\n",
       "      <td>0.0</td>\n",
       "      <td>0.0</td>\n",
       "      <td>0.0</td>\n",
       "      <td>...</td>\n",
       "      <td>0</td>\n",
       "      <td>1</td>\n",
       "      <td>0</td>\n",
       "      <td>0</td>\n",
       "      <td>0</td>\n",
       "      <td>0</td>\n",
       "      <td>0</td>\n",
       "      <td>0</td>\n",
       "      <td>0</td>\n",
       "      <td>0</td>\n",
       "    </tr>\n",
       "    <tr>\n",
       "      <th>3</th>\n",
       "      <td>0.0</td>\n",
       "      <td>0.0</td>\n",
       "      <td>0.0</td>\n",
       "      <td>0.0</td>\n",
       "      <td>0.0</td>\n",
       "      <td>0.0</td>\n",
       "      <td>0.0</td>\n",
       "      <td>0.0</td>\n",
       "      <td>0.0</td>\n",
       "      <td>0.0</td>\n",
       "      <td>...</td>\n",
       "      <td>0</td>\n",
       "      <td>0</td>\n",
       "      <td>1</td>\n",
       "      <td>0</td>\n",
       "      <td>0</td>\n",
       "      <td>0</td>\n",
       "      <td>0</td>\n",
       "      <td>0</td>\n",
       "      <td>0</td>\n",
       "      <td>0</td>\n",
       "    </tr>\n",
       "    <tr>\n",
       "      <th>4</th>\n",
       "      <td>0.0</td>\n",
       "      <td>0.0</td>\n",
       "      <td>0.0</td>\n",
       "      <td>0.0</td>\n",
       "      <td>0.0</td>\n",
       "      <td>0.0</td>\n",
       "      <td>0.0</td>\n",
       "      <td>0.0</td>\n",
       "      <td>0.0</td>\n",
       "      <td>0.0</td>\n",
       "      <td>...</td>\n",
       "      <td>0</td>\n",
       "      <td>0</td>\n",
       "      <td>1</td>\n",
       "      <td>0</td>\n",
       "      <td>0</td>\n",
       "      <td>0</td>\n",
       "      <td>0</td>\n",
       "      <td>0</td>\n",
       "      <td>0</td>\n",
       "      <td>0</td>\n",
       "    </tr>\n",
       "  </tbody>\n",
       "</table>\n",
       "<p>5 rows × 39 columns</p>\n",
       "</div>"
      ],
      "text/plain": [
       "   market_Advertising  market_Biotechnology  market_Clean Technology  \\\n",
       "0                 0.0                   0.0                      0.0   \n",
       "1                 0.0                   0.0                      0.0   \n",
       "2                 0.0                   0.0                      0.0   \n",
       "3                 0.0                   0.0                      0.0   \n",
       "4                 0.0                   0.0                      0.0   \n",
       "\n",
       "   market_Curated Web  market_E-Commerce  market_Enterprise Software  \\\n",
       "0                 0.0                0.0                         0.0   \n",
       "1                 0.0                0.0                         0.0   \n",
       "2                 0.0                0.0                         0.0   \n",
       "3                 0.0                0.0                         0.0   \n",
       "4                 0.0                0.0                         0.0   \n",
       "\n",
       "   market_Games  market_Hardware + Software  market_Health Care  \\\n",
       "0           0.0                         1.0                 0.0   \n",
       "1           0.0                         0.0                 0.0   \n",
       "2           0.0                         0.0                 0.0   \n",
       "3           0.0                         0.0                 0.0   \n",
       "4           0.0                         0.0                 0.0   \n",
       "\n",
       "   market_Mobile  ...  had_round_H  had_venture  had_seed  \\\n",
       "0            0.0  ...            0            1         0   \n",
       "1            0.0  ...            0            1         0   \n",
       "2            0.0  ...            0            1         0   \n",
       "3            0.0  ...            0            0         1   \n",
       "4            0.0  ...            0            0         1   \n",
       "\n",
       "   had_eq_crowdfunding  had_pd_crowdfunding  had_angel  had_grant  had_pe  \\\n",
       "0                    0                    0          0          0       0   \n",
       "1                    0                    0          0          0       0   \n",
       "2                    0                    0          0          0       0   \n",
       "3                    0                    0          0          0       0   \n",
       "4                    0                    0          0          0       0   \n",
       "\n",
       "   had_debt_fin  had_convert  \n",
       "0             0            0  \n",
       "1             0            0  \n",
       "2             0            0  \n",
       "3             0            0  \n",
       "4             0            0  \n",
       "\n",
       "[5 rows x 39 columns]"
      ]
     },
     "metadata": {},
     "output_type": "display_data"
    },
    {
     "data": {
      "text/html": [
       "<div>\n",
       "<style scoped>\n",
       "    .dataframe tbody tr th:only-of-type {\n",
       "        vertical-align: middle;\n",
       "    }\n",
       "\n",
       "    .dataframe tbody tr th {\n",
       "        vertical-align: top;\n",
       "    }\n",
       "\n",
       "    .dataframe thead th {\n",
       "        text-align: right;\n",
       "    }\n",
       "</style>\n",
       "<table border=\"1\" class=\"dataframe\">\n",
       "  <thead>\n",
       "    <tr style=\"text-align: right;\">\n",
       "      <th></th>\n",
       "      <th>market_Advertising</th>\n",
       "      <th>market_Biotechnology</th>\n",
       "      <th>market_Clean Technology</th>\n",
       "      <th>market_Curated Web</th>\n",
       "      <th>market_E-Commerce</th>\n",
       "      <th>market_Enterprise Software</th>\n",
       "      <th>market_Games</th>\n",
       "      <th>market_Hardware + Software</th>\n",
       "      <th>market_Health Care</th>\n",
       "      <th>market_Mobile</th>\n",
       "      <th>...</th>\n",
       "      <th>had_round_H</th>\n",
       "      <th>had_venture</th>\n",
       "      <th>had_seed</th>\n",
       "      <th>had_eq_crowdfunding</th>\n",
       "      <th>had_pd_crowdfunding</th>\n",
       "      <th>had_angel</th>\n",
       "      <th>had_grant</th>\n",
       "      <th>had_pe</th>\n",
       "      <th>had_debt_fin</th>\n",
       "      <th>had_convert</th>\n",
       "    </tr>\n",
       "  </thead>\n",
       "  <tbody>\n",
       "    <tr>\n",
       "      <th>0</th>\n",
       "      <td>0.0</td>\n",
       "      <td>0.0</td>\n",
       "      <td>0.0</td>\n",
       "      <td>0.0</td>\n",
       "      <td>0.0</td>\n",
       "      <td>0.0</td>\n",
       "      <td>0.0</td>\n",
       "      <td>1.0</td>\n",
       "      <td>0.0</td>\n",
       "      <td>0.0</td>\n",
       "      <td>...</td>\n",
       "      <td>0</td>\n",
       "      <td>1</td>\n",
       "      <td>0</td>\n",
       "      <td>0</td>\n",
       "      <td>0</td>\n",
       "      <td>0</td>\n",
       "      <td>0</td>\n",
       "      <td>0</td>\n",
       "      <td>0</td>\n",
       "      <td>0</td>\n",
       "    </tr>\n",
       "    <tr>\n",
       "      <th>1</th>\n",
       "      <td>0.0</td>\n",
       "      <td>0.0</td>\n",
       "      <td>0.0</td>\n",
       "      <td>0.0</td>\n",
       "      <td>0.0</td>\n",
       "      <td>0.0</td>\n",
       "      <td>0.0</td>\n",
       "      <td>0.0</td>\n",
       "      <td>0.0</td>\n",
       "      <td>0.0</td>\n",
       "      <td>...</td>\n",
       "      <td>0</td>\n",
       "      <td>1</td>\n",
       "      <td>0</td>\n",
       "      <td>0</td>\n",
       "      <td>0</td>\n",
       "      <td>0</td>\n",
       "      <td>0</td>\n",
       "      <td>0</td>\n",
       "      <td>0</td>\n",
       "      <td>0</td>\n",
       "    </tr>\n",
       "    <tr>\n",
       "      <th>2</th>\n",
       "      <td>0.0</td>\n",
       "      <td>0.0</td>\n",
       "      <td>0.0</td>\n",
       "      <td>0.0</td>\n",
       "      <td>0.0</td>\n",
       "      <td>0.0</td>\n",
       "      <td>0.0</td>\n",
       "      <td>0.0</td>\n",
       "      <td>0.0</td>\n",
       "      <td>0.0</td>\n",
       "      <td>...</td>\n",
       "      <td>0</td>\n",
       "      <td>1</td>\n",
       "      <td>0</td>\n",
       "      <td>0</td>\n",
       "      <td>0</td>\n",
       "      <td>0</td>\n",
       "      <td>0</td>\n",
       "      <td>0</td>\n",
       "      <td>0</td>\n",
       "      <td>0</td>\n",
       "    </tr>\n",
       "    <tr>\n",
       "      <th>3</th>\n",
       "      <td>0.0</td>\n",
       "      <td>0.0</td>\n",
       "      <td>0.0</td>\n",
       "      <td>0.0</td>\n",
       "      <td>0.0</td>\n",
       "      <td>0.0</td>\n",
       "      <td>0.0</td>\n",
       "      <td>0.0</td>\n",
       "      <td>0.0</td>\n",
       "      <td>0.0</td>\n",
       "      <td>...</td>\n",
       "      <td>0</td>\n",
       "      <td>0</td>\n",
       "      <td>1</td>\n",
       "      <td>0</td>\n",
       "      <td>0</td>\n",
       "      <td>0</td>\n",
       "      <td>0</td>\n",
       "      <td>0</td>\n",
       "      <td>0</td>\n",
       "      <td>0</td>\n",
       "    </tr>\n",
       "    <tr>\n",
       "      <th>4</th>\n",
       "      <td>0.0</td>\n",
       "      <td>0.0</td>\n",
       "      <td>0.0</td>\n",
       "      <td>0.0</td>\n",
       "      <td>0.0</td>\n",
       "      <td>0.0</td>\n",
       "      <td>0.0</td>\n",
       "      <td>0.0</td>\n",
       "      <td>0.0</td>\n",
       "      <td>0.0</td>\n",
       "      <td>...</td>\n",
       "      <td>0</td>\n",
       "      <td>0</td>\n",
       "      <td>1</td>\n",
       "      <td>0</td>\n",
       "      <td>0</td>\n",
       "      <td>0</td>\n",
       "      <td>0</td>\n",
       "      <td>0</td>\n",
       "      <td>0</td>\n",
       "      <td>0</td>\n",
       "    </tr>\n",
       "  </tbody>\n",
       "</table>\n",
       "<p>5 rows × 39 columns</p>\n",
       "</div>"
      ],
      "text/plain": [
       "   market_Advertising  market_Biotechnology  market_Clean Technology  \\\n",
       "0                 0.0                   0.0                      0.0   \n",
       "1                 0.0                   0.0                      0.0   \n",
       "2                 0.0                   0.0                      0.0   \n",
       "3                 0.0                   0.0                      0.0   \n",
       "4                 0.0                   0.0                      0.0   \n",
       "\n",
       "   market_Curated Web  market_E-Commerce  market_Enterprise Software  \\\n",
       "0                 0.0                0.0                         0.0   \n",
       "1                 0.0                0.0                         0.0   \n",
       "2                 0.0                0.0                         0.0   \n",
       "3                 0.0                0.0                         0.0   \n",
       "4                 0.0                0.0                         0.0   \n",
       "\n",
       "   market_Games  market_Hardware + Software  market_Health Care  \\\n",
       "0           0.0                         1.0                 0.0   \n",
       "1           0.0                         0.0                 0.0   \n",
       "2           0.0                         0.0                 0.0   \n",
       "3           0.0                         0.0                 0.0   \n",
       "4           0.0                         0.0                 0.0   \n",
       "\n",
       "   market_Mobile  ...  had_round_H  had_venture  had_seed  \\\n",
       "0            0.0  ...            0            1         0   \n",
       "1            0.0  ...            0            1         0   \n",
       "2            0.0  ...            0            1         0   \n",
       "3            0.0  ...            0            0         1   \n",
       "4            0.0  ...            0            0         1   \n",
       "\n",
       "   had_eq_crowdfunding  had_pd_crowdfunding  had_angel  had_grant  had_pe  \\\n",
       "0                    0                    0          0          0       0   \n",
       "1                    0                    0          0          0       0   \n",
       "2                    0                    0          0          0       0   \n",
       "3                    0                    0          0          0       0   \n",
       "4                    0                    0          0          0       0   \n",
       "\n",
       "   had_debt_fin  had_convert  \n",
       "0             0            0  \n",
       "1             0            0  \n",
       "2             0            0  \n",
       "3             0            0  \n",
       "4             0            0  \n",
       "\n",
       "[5 rows x 39 columns]"
      ]
     },
     "execution_count": 515,
     "metadata": {},
     "output_type": "execute_result"
    }
   ],
   "source": [
    "X_train_processed = pd.concat([X_train_cat, X_train_cont, X_train_cat_eng], axis=1)\n",
    "X_train_scaled = pd.concat([X_train_cat, X_train_cont_scaled, X_train_cat_eng], axis=1) \n",
    "\n",
    "display(X_train_processed.head())\n",
    "X_train_scaled.head()"
   ]
  },
  {
   "cell_type": "markdown",
   "id": "f6ed4271",
   "metadata": {},
   "source": [
    "#### TEMP - Correlation Check"
   ]
  },
  {
   "cell_type": "code",
   "execution_count": 414,
   "id": "6b5661f7",
   "metadata": {
    "ExecuteTime": {
     "end_time": "2022-09-09T22:00:20.585587Z",
     "start_time": "2022-09-09T21:57:19.239436Z"
    }
   },
   "outputs": [],
   "source": [
    "df_corr=X_train_processed.corr()\n",
    "#plt.figure(figsize=(25,25))\n",
    "#sns.heatmap(data_corr,annot=True)\n",
    "#plt.show()"
   ]
  },
  {
   "cell_type": "code",
   "execution_count": 418,
   "id": "c315abd0",
   "metadata": {
    "ExecuteTime": {
     "end_time": "2022-09-09T22:01:18.256781Z",
     "start_time": "2022-09-09T22:01:18.201363Z"
    }
   },
   "outputs": [
    {
     "data": {
      "text/html": [
       "<div>\n",
       "<style scoped>\n",
       "    .dataframe tbody tr th:only-of-type {\n",
       "        vertical-align: middle;\n",
       "    }\n",
       "\n",
       "    .dataframe tbody tr th {\n",
       "        vertical-align: top;\n",
       "    }\n",
       "\n",
       "    .dataframe thead th {\n",
       "        text-align: right;\n",
       "    }\n",
       "</style>\n",
       "<table border=\"1\" class=\"dataframe\">\n",
       "  <thead>\n",
       "    <tr style=\"text-align: right;\">\n",
       "      <th></th>\n",
       "      <th>market_3D</th>\n",
       "      <th>market_3D Printing</th>\n",
       "      <th>market_3D Technology</th>\n",
       "      <th>market_Accounting</th>\n",
       "      <th>market_Ad Targeting</th>\n",
       "      <th>market_Advanced Materials</th>\n",
       "      <th>market_Adventure Travel</th>\n",
       "      <th>market_Advertising</th>\n",
       "      <th>market_Advertising Exchanges</th>\n",
       "      <th>market_Advertising Networks</th>\n",
       "      <th>...</th>\n",
       "      <th>had_venture</th>\n",
       "      <th>had_seed</th>\n",
       "      <th>had_crowdfunding</th>\n",
       "      <th>had_angel</th>\n",
       "      <th>had_grant</th>\n",
       "      <th>had_pe</th>\n",
       "      <th>had_debt_fin</th>\n",
       "      <th>had_convert</th>\n",
       "      <th>had_eq_crowdfunding</th>\n",
       "      <th>had_pd_crowdfunding</th>\n",
       "    </tr>\n",
       "  </thead>\n",
       "  <tbody>\n",
       "    <tr>\n",
       "      <th>market_3D</th>\n",
       "      <td>1.000000</td>\n",
       "      <td>-0.000336</td>\n",
       "      <td>-0.000284</td>\n",
       "      <td>-0.000402</td>\n",
       "      <td>-0.000402</td>\n",
       "      <td>-0.000180</td>\n",
       "      <td>-0.000254</td>\n",
       "      <td>-0.003527</td>\n",
       "      <td>-0.000180</td>\n",
       "      <td>-0.000254</td>\n",
       "      <td>...</td>\n",
       "      <td>-0.009036</td>\n",
       "      <td>0.020787</td>\n",
       "      <td>-0.002548</td>\n",
       "      <td>0.003026</td>\n",
       "      <td>-0.003623</td>\n",
       "      <td>-0.003961</td>\n",
       "      <td>-0.007390</td>\n",
       "      <td>-0.002612</td>\n",
       "      <td>-0.002548</td>\n",
       "      <td>-0.001548</td>\n",
       "    </tr>\n",
       "    <tr>\n",
       "      <th>market_3D Printing</th>\n",
       "      <td>-0.000336</td>\n",
       "      <td>1.000000</td>\n",
       "      <td>-0.000164</td>\n",
       "      <td>-0.000232</td>\n",
       "      <td>-0.000232</td>\n",
       "      <td>-0.000104</td>\n",
       "      <td>-0.000147</td>\n",
       "      <td>-0.002036</td>\n",
       "      <td>-0.000104</td>\n",
       "      <td>-0.000147</td>\n",
       "      <td>...</td>\n",
       "      <td>0.002755</td>\n",
       "      <td>-0.004251</td>\n",
       "      <td>-0.001471</td>\n",
       "      <td>-0.003656</td>\n",
       "      <td>-0.002092</td>\n",
       "      <td>-0.002286</td>\n",
       "      <td>-0.004266</td>\n",
       "      <td>-0.001508</td>\n",
       "      <td>-0.001471</td>\n",
       "      <td>0.030242</td>\n",
       "    </tr>\n",
       "    <tr>\n",
       "      <th>market_3D Technology</th>\n",
       "      <td>-0.000284</td>\n",
       "      <td>-0.000164</td>\n",
       "      <td>1.000000</td>\n",
       "      <td>-0.000196</td>\n",
       "      <td>-0.000196</td>\n",
       "      <td>-0.000088</td>\n",
       "      <td>-0.000124</td>\n",
       "      <td>-0.001721</td>\n",
       "      <td>-0.000088</td>\n",
       "      <td>-0.000124</td>\n",
       "      <td>...</td>\n",
       "      <td>-0.011144</td>\n",
       "      <td>0.003149</td>\n",
       "      <td>-0.001243</td>\n",
       "      <td>-0.003089</td>\n",
       "      <td>-0.001768</td>\n",
       "      <td>-0.001932</td>\n",
       "      <td>0.013211</td>\n",
       "      <td>0.020729</td>\n",
       "      <td>-0.001243</td>\n",
       "      <td>-0.000755</td>\n",
       "    </tr>\n",
       "    <tr>\n",
       "      <th>market_Accounting</th>\n",
       "      <td>-0.000402</td>\n",
       "      <td>-0.000232</td>\n",
       "      <td>-0.000196</td>\n",
       "      <td>1.000000</td>\n",
       "      <td>-0.000277</td>\n",
       "      <td>-0.000124</td>\n",
       "      <td>-0.000175</td>\n",
       "      <td>-0.002433</td>\n",
       "      <td>-0.000124</td>\n",
       "      <td>-0.000175</td>\n",
       "      <td>...</td>\n",
       "      <td>0.000911</td>\n",
       "      <td>0.004454</td>\n",
       "      <td>-0.001758</td>\n",
       "      <td>0.009190</td>\n",
       "      <td>-0.002500</td>\n",
       "      <td>0.007682</td>\n",
       "      <td>-0.005099</td>\n",
       "      <td>0.029317</td>\n",
       "      <td>-0.001758</td>\n",
       "      <td>-0.001068</td>\n",
       "    </tr>\n",
       "    <tr>\n",
       "      <th>market_Ad Targeting</th>\n",
       "      <td>-0.000402</td>\n",
       "      <td>-0.000232</td>\n",
       "      <td>-0.000196</td>\n",
       "      <td>-0.000277</td>\n",
       "      <td>1.000000</td>\n",
       "      <td>-0.000124</td>\n",
       "      <td>-0.000175</td>\n",
       "      <td>-0.002433</td>\n",
       "      <td>-0.000124</td>\n",
       "      <td>-0.000175</td>\n",
       "      <td>...</td>\n",
       "      <td>-0.002424</td>\n",
       "      <td>0.008162</td>\n",
       "      <td>-0.001758</td>\n",
       "      <td>0.015970</td>\n",
       "      <td>-0.002500</td>\n",
       "      <td>-0.002733</td>\n",
       "      <td>-0.005099</td>\n",
       "      <td>-0.001802</td>\n",
       "      <td>-0.001758</td>\n",
       "      <td>-0.001068</td>\n",
       "    </tr>\n",
       "  </tbody>\n",
       "</table>\n",
       "<p>5 rows × 1750 columns</p>\n",
       "</div>"
      ],
      "text/plain": [
       "                      market_3D  market_3D Printing  market_3D Technology  \\\n",
       "market_3D              1.000000           -0.000336             -0.000284   \n",
       "market_3D Printing    -0.000336            1.000000             -0.000164   \n",
       "market_3D Technology  -0.000284           -0.000164              1.000000   \n",
       "market_Accounting     -0.000402           -0.000232             -0.000196   \n",
       "market_Ad Targeting   -0.000402           -0.000232             -0.000196   \n",
       "\n",
       "                      market_Accounting  market_Ad Targeting  \\\n",
       "market_3D                     -0.000402            -0.000402   \n",
       "market_3D Printing            -0.000232            -0.000232   \n",
       "market_3D Technology          -0.000196            -0.000196   \n",
       "market_Accounting              1.000000            -0.000277   \n",
       "market_Ad Targeting           -0.000277             1.000000   \n",
       "\n",
       "                      market_Advanced Materials  market_Adventure Travel  \\\n",
       "market_3D                             -0.000180                -0.000254   \n",
       "market_3D Printing                    -0.000104                -0.000147   \n",
       "market_3D Technology                  -0.000088                -0.000124   \n",
       "market_Accounting                     -0.000124                -0.000175   \n",
       "market_Ad Targeting                   -0.000124                -0.000175   \n",
       "\n",
       "                      market_Advertising  market_Advertising Exchanges  \\\n",
       "market_3D                      -0.003527                     -0.000180   \n",
       "market_3D Printing             -0.002036                     -0.000104   \n",
       "market_3D Technology           -0.001721                     -0.000088   \n",
       "market_Accounting              -0.002433                     -0.000124   \n",
       "market_Ad Targeting            -0.002433                     -0.000124   \n",
       "\n",
       "                      market_Advertising Networks  ...  had_venture  had_seed  \\\n",
       "market_3D                               -0.000254  ...    -0.009036  0.020787   \n",
       "market_3D Printing                      -0.000147  ...     0.002755 -0.004251   \n",
       "market_3D Technology                    -0.000124  ...    -0.011144  0.003149   \n",
       "market_Accounting                       -0.000175  ...     0.000911  0.004454   \n",
       "market_Ad Targeting                     -0.000175  ...    -0.002424  0.008162   \n",
       "\n",
       "                      had_crowdfunding  had_angel  had_grant    had_pe  \\\n",
       "market_3D                    -0.002548   0.003026  -0.003623 -0.003961   \n",
       "market_3D Printing           -0.001471  -0.003656  -0.002092 -0.002286   \n",
       "market_3D Technology         -0.001243  -0.003089  -0.001768 -0.001932   \n",
       "market_Accounting            -0.001758   0.009190  -0.002500  0.007682   \n",
       "market_Ad Targeting          -0.001758   0.015970  -0.002500 -0.002733   \n",
       "\n",
       "                      had_debt_fin  had_convert  had_eq_crowdfunding  \\\n",
       "market_3D                -0.007390    -0.002612            -0.002548   \n",
       "market_3D Printing       -0.004266    -0.001508            -0.001471   \n",
       "market_3D Technology      0.013211     0.020729            -0.001243   \n",
       "market_Accounting        -0.005099     0.029317            -0.001758   \n",
       "market_Ad Targeting      -0.005099    -0.001802            -0.001758   \n",
       "\n",
       "                      had_pd_crowdfunding  \n",
       "market_3D                       -0.001548  \n",
       "market_3D Printing               0.030242  \n",
       "market_3D Technology            -0.000755  \n",
       "market_Accounting               -0.001068  \n",
       "market_Ad Targeting             -0.001068  \n",
       "\n",
       "[5 rows x 1750 columns]"
      ]
     },
     "execution_count": 418,
     "metadata": {},
     "output_type": "execute_result"
    }
   ],
   "source": [
    "#df_corr=X_train_processed.corr()\n",
    "df_corr.head()"
   ]
  },
  {
   "cell_type": "code",
   "execution_count": 420,
   "id": "0846f19b",
   "metadata": {
    "ExecuteTime": {
     "end_time": "2022-09-09T22:05:18.863878Z",
     "start_time": "2022-09-09T22:05:15.994111Z"
    }
   },
   "outputs": [
    {
     "data": {
      "text/html": [
       "<div>\n",
       "<style scoped>\n",
       "    .dataframe tbody tr th:only-of-type {\n",
       "        vertical-align: middle;\n",
       "    }\n",
       "\n",
       "    .dataframe tbody tr th {\n",
       "        vertical-align: top;\n",
       "    }\n",
       "\n",
       "    .dataframe thead th {\n",
       "        text-align: right;\n",
       "    }\n",
       "</style>\n",
       "<table border=\"1\" class=\"dataframe\">\n",
       "  <thead>\n",
       "    <tr style=\"text-align: right;\">\n",
       "      <th></th>\n",
       "      <th>cc</th>\n",
       "    </tr>\n",
       "    <tr>\n",
       "      <th>pairs</th>\n",
       "      <th></th>\n",
       "    </tr>\n",
       "  </thead>\n",
       "  <tbody>\n",
       "    <tr>\n",
       "      <th>(region_Lucca, market_Groceries)</th>\n",
       "      <td>0.707097</td>\n",
       "    </tr>\n",
       "    <tr>\n",
       "      <th>(region_Etobicoke, market_Swimming)</th>\n",
       "      <td>0.577334</td>\n",
       "    </tr>\n",
       "    <tr>\n",
       "      <th>(region_Tasmania, market_Gold)</th>\n",
       "      <td>0.577334</td>\n",
       "    </tr>\n",
       "    <tr>\n",
       "      <th>(region_Zafirovo, market_Insurance Companies)</th>\n",
       "      <td>0.499979</td>\n",
       "    </tr>\n",
       "    <tr>\n",
       "      <th>(region_Busan, market_Shared Services)</th>\n",
       "      <td>0.499979</td>\n",
       "    </tr>\n",
       "    <tr>\n",
       "      <th>(region_Orsay, market_Physical Security)</th>\n",
       "      <td>0.499972</td>\n",
       "    </tr>\n",
       "    <tr>\n",
       "      <th>(market_Specialty Chemicals, region_NE - Other)</th>\n",
       "      <td>0.499972</td>\n",
       "    </tr>\n",
       "    <tr>\n",
       "      <th>(had_round_A, had_venture)</th>\n",
       "      <td>0.496202</td>\n",
       "    </tr>\n",
       "    <tr>\n",
       "      <th>(region_Levis, market_Digital Signage)</th>\n",
       "      <td>0.447189</td>\n",
       "    </tr>\n",
       "    <tr>\n",
       "      <th>(market_Intellectual Asset Management, region_Heathrow)</th>\n",
       "      <td>0.447189</td>\n",
       "    </tr>\n",
       "    <tr>\n",
       "      <th>(had_round_D, had_round_C)</th>\n",
       "      <td>0.440728</td>\n",
       "    </tr>\n",
       "    <tr>\n",
       "      <th>(funding_rounds, had_round_B)</th>\n",
       "      <td>0.429400</td>\n",
       "    </tr>\n",
       "    <tr>\n",
       "      <th>(had_round_C, funding_rounds)</th>\n",
       "      <td>0.424779</td>\n",
       "    </tr>\n",
       "    <tr>\n",
       "      <th>(region_Yerevan, market_Match-Making)</th>\n",
       "      <td>0.408220</td>\n",
       "    </tr>\n",
       "    <tr>\n",
       "      <th>(market_Content Syndication, region_Finchley)</th>\n",
       "      <td>0.408220</td>\n",
       "    </tr>\n",
       "    <tr>\n",
       "      <th>(market_Simulation, region_Canberra)</th>\n",
       "      <td>0.408209</td>\n",
       "    </tr>\n",
       "    <tr>\n",
       "      <th>(market_Material Science, region_Westmount)</th>\n",
       "      <td>0.408209</td>\n",
       "    </tr>\n",
       "    <tr>\n",
       "      <th>(region_Hove, market_Taxis)</th>\n",
       "      <td>0.408209</td>\n",
       "    </tr>\n",
       "    <tr>\n",
       "      <th>(region_Bhubaneswar, market_Minerals)</th>\n",
       "      <td>0.408209</td>\n",
       "    </tr>\n",
       "    <tr>\n",
       "      <th>(had_round_B, had_round_C)</th>\n",
       "      <td>0.407289</td>\n",
       "    </tr>\n",
       "    <tr>\n",
       "      <th>(international, region_na)</th>\n",
       "      <td>0.406910</td>\n",
       "    </tr>\n",
       "    <tr>\n",
       "      <th>(had_round_D, had_round_E)</th>\n",
       "      <td>0.403007</td>\n",
       "    </tr>\n",
       "    <tr>\n",
       "      <th>(market_Mass Customization, region_Ancona)</th>\n",
       "      <td>0.377933</td>\n",
       "    </tr>\n",
       "    <tr>\n",
       "      <th>(had_venture, had_round_B)</th>\n",
       "      <td>0.371036</td>\n",
       "    </tr>\n",
       "    <tr>\n",
       "      <th>(funding_rounds, had_round_D)</th>\n",
       "      <td>0.366334</td>\n",
       "    </tr>\n",
       "    <tr>\n",
       "      <th>(had_round_E, had_round_F)</th>\n",
       "      <td>0.365043</td>\n",
       "    </tr>\n",
       "    <tr>\n",
       "      <th>(had_round_A, had_round_B)</th>\n",
       "      <td>0.359587</td>\n",
       "    </tr>\n",
       "    <tr>\n",
       "      <th>(had_venture, had_seed)</th>\n",
       "      <td>0.357251</td>\n",
       "    </tr>\n",
       "    <tr>\n",
       "      <th>(region_Tampere, market_BPO Services)</th>\n",
       "      <td>0.353519</td>\n",
       "    </tr>\n",
       "    <tr>\n",
       "      <th>(market_Content Creators, region_SVN - Other)</th>\n",
       "      <td>0.353519</td>\n",
       "    </tr>\n",
       "    <tr>\n",
       "      <th>(market_Sporting Goods, region_Fribourg)</th>\n",
       "      <td>0.353504</td>\n",
       "    </tr>\n",
       "    <tr>\n",
       "      <th>(region_Antwerp, market_Deep Information Technology)</th>\n",
       "      <td>0.353504</td>\n",
       "    </tr>\n",
       "    <tr>\n",
       "      <th>(region_DE - Other, market_Boating Industry)</th>\n",
       "      <td>0.353504</td>\n",
       "    </tr>\n",
       "    <tr>\n",
       "      <th>(region_HI - Other, market_Water)</th>\n",
       "      <td>0.353504</td>\n",
       "    </tr>\n",
       "    <tr>\n",
       "      <th>(had_venture, funding_rounds)</th>\n",
       "      <td>0.347516</td>\n",
       "    </tr>\n",
       "    <tr>\n",
       "      <th>(international, region_SF Bay Area)</th>\n",
       "      <td>0.337988</td>\n",
       "    </tr>\n",
       "    <tr>\n",
       "      <th>(region_Leon, market_Business Development)</th>\n",
       "      <td>0.333296</td>\n",
       "    </tr>\n",
       "    <tr>\n",
       "      <th>(market_Tablets, region_Yverdon-les-bains)</th>\n",
       "      <td>0.333296</td>\n",
       "    </tr>\n",
       "    <tr>\n",
       "      <th>(region_Kyoto, market_Business Development)</th>\n",
       "      <td>0.333296</td>\n",
       "    </tr>\n",
       "    <tr>\n",
       "      <th>(region_Baku, market_Meeting Software)</th>\n",
       "      <td>0.333296</td>\n",
       "    </tr>\n",
       "    <tr>\n",
       "      <th>(market_Mobile Emergency&amp;Health, region_Murcia)</th>\n",
       "      <td>0.333278</td>\n",
       "    </tr>\n",
       "    <tr>\n",
       "      <th>(region_TZA - Other, market_Solar)</th>\n",
       "      <td>0.333259</td>\n",
       "    </tr>\n",
       "    <tr>\n",
       "      <th>(funding_rounds, had_debt_fin)</th>\n",
       "      <td>0.332225</td>\n",
       "    </tr>\n",
       "    <tr>\n",
       "      <th>(had_round_A, funding_rounds)</th>\n",
       "      <td>0.326327</td>\n",
       "    </tr>\n",
       "    <tr>\n",
       "      <th>(had_round_F, had_round_G)</th>\n",
       "      <td>0.324824</td>\n",
       "    </tr>\n",
       "    <tr>\n",
       "      <th>(region_Dki Jakarta, market_Promotional)</th>\n",
       "      <td>0.316188</td>\n",
       "    </tr>\n",
       "    <tr>\n",
       "      <th>(market_Wholesale, region_ZAF - Other)</th>\n",
       "      <td>0.316188</td>\n",
       "    </tr>\n",
       "    <tr>\n",
       "      <th>(region_Karlskrona, market_Promotional)</th>\n",
       "      <td>0.316188</td>\n",
       "    </tr>\n",
       "    <tr>\n",
       "      <th>(market_Clean Technology IT, region_Cork)</th>\n",
       "      <td>0.301470</td>\n",
       "    </tr>\n",
       "  </tbody>\n",
       "</table>\n",
       "</div>"
      ],
      "text/plain": [
       "                                                          cc\n",
       "pairs                                                       \n",
       "(region_Lucca, market_Groceries)                    0.707097\n",
       "(region_Etobicoke, market_Swimming)                 0.577334\n",
       "(region_Tasmania, market_Gold)                      0.577334\n",
       "(region_Zafirovo, market_Insurance Companies)       0.499979\n",
       "(region_Busan, market_Shared Services)              0.499979\n",
       "(region_Orsay, market_Physical Security)            0.499972\n",
       "(market_Specialty Chemicals, region_NE - Other)     0.499972\n",
       "(had_round_A, had_venture)                          0.496202\n",
       "(region_Levis, market_Digital Signage)              0.447189\n",
       "(market_Intellectual Asset Management, region_H...  0.447189\n",
       "(had_round_D, had_round_C)                          0.440728\n",
       "(funding_rounds, had_round_B)                       0.429400\n",
       "(had_round_C, funding_rounds)                       0.424779\n",
       "(region_Yerevan, market_Match-Making)               0.408220\n",
       "(market_Content Syndication, region_Finchley)       0.408220\n",
       "(market_Simulation, region_Canberra)                0.408209\n",
       "(market_Material Science, region_Westmount)         0.408209\n",
       "(region_Hove, market_Taxis)                         0.408209\n",
       "(region_Bhubaneswar, market_Minerals)               0.408209\n",
       "(had_round_B, had_round_C)                          0.407289\n",
       "(international, region_na)                          0.406910\n",
       "(had_round_D, had_round_E)                          0.403007\n",
       "(market_Mass Customization, region_Ancona)          0.377933\n",
       "(had_venture, had_round_B)                          0.371036\n",
       "(funding_rounds, had_round_D)                       0.366334\n",
       "(had_round_E, had_round_F)                          0.365043\n",
       "(had_round_A, had_round_B)                          0.359587\n",
       "(had_venture, had_seed)                             0.357251\n",
       "(region_Tampere, market_BPO Services)               0.353519\n",
       "(market_Content Creators, region_SVN - Other)       0.353519\n",
       "(market_Sporting Goods, region_Fribourg)            0.353504\n",
       "(region_Antwerp, market_Deep Information Techno...  0.353504\n",
       "(region_DE - Other, market_Boating Industry)        0.353504\n",
       "(region_HI - Other, market_Water)                   0.353504\n",
       "(had_venture, funding_rounds)                       0.347516\n",
       "(international, region_SF Bay Area)                 0.337988\n",
       "(region_Leon, market_Business Development)          0.333296\n",
       "(market_Tablets, region_Yverdon-les-bains)          0.333296\n",
       "(region_Kyoto, market_Business Development)         0.333296\n",
       "(region_Baku, market_Meeting Software)              0.333296\n",
       "(market_Mobile Emergency&Health, region_Murcia)     0.333278\n",
       "(region_TZA - Other, market_Solar)                  0.333259\n",
       "(funding_rounds, had_debt_fin)                      0.332225\n",
       "(had_round_A, funding_rounds)                       0.326327\n",
       "(had_round_F, had_round_G)                          0.324824\n",
       "(region_Dki Jakarta, market_Promotional)            0.316188\n",
       "(market_Wholesale, region_ZAF - Other)              0.316188\n",
       "(region_Karlskrona, market_Promotional)             0.316188\n",
       "(market_Clean Technology IT, region_Cork)           0.301470"
      ]
     },
     "execution_count": 420,
     "metadata": {},
     "output_type": "execute_result"
    }
   ],
   "source": [
    "df = df_corr.abs().stack().reset_index().sort_values(0, ascending=False)\n",
    "df['pairs'] = list(zip(df.level_0, df.level_1))\n",
    "df.set_index(['pairs'], inplace = True)\n",
    "df.drop(columns=['level_1', 'level_0'], inplace = True)\n",
    "\n",
    "# cc for correlation coefficient\n",
    "df.columns = ['cc']\n",
    "df.drop_duplicates(inplace=True)"
   ]
  },
  {
   "cell_type": "code",
   "execution_count": null,
   "id": "8caa7b1f",
   "metadata": {},
   "outputs": [],
   "source": [
    "df[(df.cc>.3) & (df.cc<1)]"
   ]
  },
  {
   "cell_type": "markdown",
   "id": "363a5d12",
   "metadata": {},
   "source": [
    "#### Transforming test data"
   ]
  },
  {
   "cell_type": "code",
   "execution_count": 333,
   "id": "5bac1fac",
   "metadata": {
    "ExecuteTime": {
     "end_time": "2022-09-09T17:14:20.712079Z",
     "start_time": "2022-09-09T17:14:20.701715Z"
    }
   },
   "outputs": [
    {
     "data": {
      "text/plain": [
       "market                  object\n",
       "funding_total_usd      float64\n",
       "region                  object\n",
       "funding_rounds         float64\n",
       "founded_year           float64\n",
       "international            int64\n",
       "had_round_A              int64\n",
       "had_round_B              int64\n",
       "had_round_C              int64\n",
       "had_round_D              int64\n",
       "had_round_E              int64\n",
       "had_round_F              int64\n",
       "had_round_G              int64\n",
       "had_round_H              int64\n",
       "had_venture              int64\n",
       "had_seed                 int64\n",
       "had_crowdfunding         int64\n",
       "had_angel                int64\n",
       "had_grant                int64\n",
       "had_pe                   int64\n",
       "had_debt_fin             int64\n",
       "had_convert              int64\n",
       "had_eq_crowdfunding      int64\n",
       "had_pd_crowdfunding      int64\n",
       "dtype: object"
      ]
     },
     "execution_count": 333,
     "metadata": {},
     "output_type": "execute_result"
    }
   ],
   "source": [
    "X_test.dtypes"
   ]
  },
  {
   "cell_type": "code",
   "execution_count": 516,
   "id": "5722327e",
   "metadata": {
    "ExecuteTime": {
     "end_time": "2022-09-11T17:29:02.366661Z",
     "start_time": "2022-09-11T17:29:02.231075Z"
    }
   },
   "outputs": [
    {
     "data": {
      "text/html": [
       "<div>\n",
       "<style scoped>\n",
       "    .dataframe tbody tr th:only-of-type {\n",
       "        vertical-align: middle;\n",
       "    }\n",
       "\n",
       "    .dataframe tbody tr th {\n",
       "        vertical-align: top;\n",
       "    }\n",
       "\n",
       "    .dataframe thead th {\n",
       "        text-align: right;\n",
       "    }\n",
       "</style>\n",
       "<table border=\"1\" class=\"dataframe\">\n",
       "  <thead>\n",
       "    <tr style=\"text-align: right;\">\n",
       "      <th></th>\n",
       "      <th>market_Advertising</th>\n",
       "      <th>market_Biotechnology</th>\n",
       "      <th>market_Clean Technology</th>\n",
       "      <th>market_Curated Web</th>\n",
       "      <th>market_E-Commerce</th>\n",
       "      <th>market_Enterprise Software</th>\n",
       "      <th>market_Games</th>\n",
       "      <th>market_Hardware + Software</th>\n",
       "      <th>market_Health Care</th>\n",
       "      <th>market_Mobile</th>\n",
       "      <th>...</th>\n",
       "      <th>had_round_H</th>\n",
       "      <th>had_venture</th>\n",
       "      <th>had_seed</th>\n",
       "      <th>had_eq_crowdfunding</th>\n",
       "      <th>had_pd_crowdfunding</th>\n",
       "      <th>had_angel</th>\n",
       "      <th>had_grant</th>\n",
       "      <th>had_pe</th>\n",
       "      <th>had_debt_fin</th>\n",
       "      <th>had_convert</th>\n",
       "    </tr>\n",
       "  </thead>\n",
       "  <tbody>\n",
       "    <tr>\n",
       "      <th>0</th>\n",
       "      <td>0.0</td>\n",
       "      <td>0.0</td>\n",
       "      <td>0.0</td>\n",
       "      <td>0.0</td>\n",
       "      <td>0.0</td>\n",
       "      <td>0.0</td>\n",
       "      <td>0.0</td>\n",
       "      <td>0.0</td>\n",
       "      <td>0.0</td>\n",
       "      <td>0.0</td>\n",
       "      <td>...</td>\n",
       "      <td>0</td>\n",
       "      <td>1</td>\n",
       "      <td>0</td>\n",
       "      <td>0</td>\n",
       "      <td>0</td>\n",
       "      <td>0</td>\n",
       "      <td>0</td>\n",
       "      <td>0</td>\n",
       "      <td>0</td>\n",
       "      <td>0</td>\n",
       "    </tr>\n",
       "    <tr>\n",
       "      <th>1</th>\n",
       "      <td>0.0</td>\n",
       "      <td>0.0</td>\n",
       "      <td>0.0</td>\n",
       "      <td>0.0</td>\n",
       "      <td>0.0</td>\n",
       "      <td>0.0</td>\n",
       "      <td>0.0</td>\n",
       "      <td>0.0</td>\n",
       "      <td>0.0</td>\n",
       "      <td>0.0</td>\n",
       "      <td>...</td>\n",
       "      <td>0</td>\n",
       "      <td>1</td>\n",
       "      <td>0</td>\n",
       "      <td>0</td>\n",
       "      <td>0</td>\n",
       "      <td>0</td>\n",
       "      <td>0</td>\n",
       "      <td>0</td>\n",
       "      <td>0</td>\n",
       "      <td>0</td>\n",
       "    </tr>\n",
       "    <tr>\n",
       "      <th>2</th>\n",
       "      <td>0.0</td>\n",
       "      <td>0.0</td>\n",
       "      <td>0.0</td>\n",
       "      <td>0.0</td>\n",
       "      <td>0.0</td>\n",
       "      <td>0.0</td>\n",
       "      <td>0.0</td>\n",
       "      <td>0.0</td>\n",
       "      <td>0.0</td>\n",
       "      <td>0.0</td>\n",
       "      <td>...</td>\n",
       "      <td>0</td>\n",
       "      <td>0</td>\n",
       "      <td>1</td>\n",
       "      <td>0</td>\n",
       "      <td>0</td>\n",
       "      <td>0</td>\n",
       "      <td>0</td>\n",
       "      <td>0</td>\n",
       "      <td>0</td>\n",
       "      <td>0</td>\n",
       "    </tr>\n",
       "    <tr>\n",
       "      <th>3</th>\n",
       "      <td>0.0</td>\n",
       "      <td>0.0</td>\n",
       "      <td>0.0</td>\n",
       "      <td>0.0</td>\n",
       "      <td>0.0</td>\n",
       "      <td>0.0</td>\n",
       "      <td>0.0</td>\n",
       "      <td>0.0</td>\n",
       "      <td>0.0</td>\n",
       "      <td>0.0</td>\n",
       "      <td>...</td>\n",
       "      <td>0</td>\n",
       "      <td>0</td>\n",
       "      <td>1</td>\n",
       "      <td>0</td>\n",
       "      <td>0</td>\n",
       "      <td>0</td>\n",
       "      <td>0</td>\n",
       "      <td>0</td>\n",
       "      <td>0</td>\n",
       "      <td>0</td>\n",
       "    </tr>\n",
       "    <tr>\n",
       "      <th>4</th>\n",
       "      <td>0.0</td>\n",
       "      <td>0.0</td>\n",
       "      <td>0.0</td>\n",
       "      <td>0.0</td>\n",
       "      <td>0.0</td>\n",
       "      <td>0.0</td>\n",
       "      <td>0.0</td>\n",
       "      <td>0.0</td>\n",
       "      <td>0.0</td>\n",
       "      <td>1.0</td>\n",
       "      <td>...</td>\n",
       "      <td>0</td>\n",
       "      <td>0</td>\n",
       "      <td>1</td>\n",
       "      <td>0</td>\n",
       "      <td>0</td>\n",
       "      <td>0</td>\n",
       "      <td>0</td>\n",
       "      <td>0</td>\n",
       "      <td>0</td>\n",
       "      <td>0</td>\n",
       "    </tr>\n",
       "  </tbody>\n",
       "</table>\n",
       "<p>5 rows × 39 columns</p>\n",
       "</div>"
      ],
      "text/plain": [
       "   market_Advertising  market_Biotechnology  market_Clean Technology  \\\n",
       "0                 0.0                   0.0                      0.0   \n",
       "1                 0.0                   0.0                      0.0   \n",
       "2                 0.0                   0.0                      0.0   \n",
       "3                 0.0                   0.0                      0.0   \n",
       "4                 0.0                   0.0                      0.0   \n",
       "\n",
       "   market_Curated Web  market_E-Commerce  market_Enterprise Software  \\\n",
       "0                 0.0                0.0                         0.0   \n",
       "1                 0.0                0.0                         0.0   \n",
       "2                 0.0                0.0                         0.0   \n",
       "3                 0.0                0.0                         0.0   \n",
       "4                 0.0                0.0                         0.0   \n",
       "\n",
       "   market_Games  market_Hardware + Software  market_Health Care  \\\n",
       "0           0.0                         0.0                 0.0   \n",
       "1           0.0                         0.0                 0.0   \n",
       "2           0.0                         0.0                 0.0   \n",
       "3           0.0                         0.0                 0.0   \n",
       "4           0.0                         0.0                 0.0   \n",
       "\n",
       "   market_Mobile  ...  had_round_H  had_venture  had_seed  \\\n",
       "0            0.0  ...            0            1         0   \n",
       "1            0.0  ...            0            1         0   \n",
       "2            0.0  ...            0            0         1   \n",
       "3            0.0  ...            0            0         1   \n",
       "4            1.0  ...            0            0         1   \n",
       "\n",
       "   had_eq_crowdfunding  had_pd_crowdfunding  had_angel  had_grant  had_pe  \\\n",
       "0                    0                    0          0          0       0   \n",
       "1                    0                    0          0          0       0   \n",
       "2                    0                    0          0          0       0   \n",
       "3                    0                    0          0          0       0   \n",
       "4                    0                    0          0          0       0   \n",
       "\n",
       "   had_debt_fin  had_convert  \n",
       "0             0            0  \n",
       "1             0            0  \n",
       "2             0            0  \n",
       "3             0            0  \n",
       "4             0            0  \n",
       "\n",
       "[5 rows x 39 columns]"
      ]
     },
     "metadata": {},
     "output_type": "display_data"
    },
    {
     "data": {
      "text/html": [
       "<div>\n",
       "<style scoped>\n",
       "    .dataframe tbody tr th:only-of-type {\n",
       "        vertical-align: middle;\n",
       "    }\n",
       "\n",
       "    .dataframe tbody tr th {\n",
       "        vertical-align: top;\n",
       "    }\n",
       "\n",
       "    .dataframe thead th {\n",
       "        text-align: right;\n",
       "    }\n",
       "</style>\n",
       "<table border=\"1\" class=\"dataframe\">\n",
       "  <thead>\n",
       "    <tr style=\"text-align: right;\">\n",
       "      <th></th>\n",
       "      <th>market_Advertising</th>\n",
       "      <th>market_Biotechnology</th>\n",
       "      <th>market_Clean Technology</th>\n",
       "      <th>market_Curated Web</th>\n",
       "      <th>market_E-Commerce</th>\n",
       "      <th>market_Enterprise Software</th>\n",
       "      <th>market_Games</th>\n",
       "      <th>market_Hardware + Software</th>\n",
       "      <th>market_Health Care</th>\n",
       "      <th>market_Mobile</th>\n",
       "      <th>...</th>\n",
       "      <th>had_round_H</th>\n",
       "      <th>had_venture</th>\n",
       "      <th>had_seed</th>\n",
       "      <th>had_eq_crowdfunding</th>\n",
       "      <th>had_pd_crowdfunding</th>\n",
       "      <th>had_angel</th>\n",
       "      <th>had_grant</th>\n",
       "      <th>had_pe</th>\n",
       "      <th>had_debt_fin</th>\n",
       "      <th>had_convert</th>\n",
       "    </tr>\n",
       "  </thead>\n",
       "  <tbody>\n",
       "    <tr>\n",
       "      <th>0</th>\n",
       "      <td>0.0</td>\n",
       "      <td>0.0</td>\n",
       "      <td>0.0</td>\n",
       "      <td>0.0</td>\n",
       "      <td>0.0</td>\n",
       "      <td>0.0</td>\n",
       "      <td>0.0</td>\n",
       "      <td>0.0</td>\n",
       "      <td>0.0</td>\n",
       "      <td>0.0</td>\n",
       "      <td>...</td>\n",
       "      <td>0</td>\n",
       "      <td>1</td>\n",
       "      <td>0</td>\n",
       "      <td>0</td>\n",
       "      <td>0</td>\n",
       "      <td>0</td>\n",
       "      <td>0</td>\n",
       "      <td>0</td>\n",
       "      <td>0</td>\n",
       "      <td>0</td>\n",
       "    </tr>\n",
       "    <tr>\n",
       "      <th>1</th>\n",
       "      <td>0.0</td>\n",
       "      <td>0.0</td>\n",
       "      <td>0.0</td>\n",
       "      <td>0.0</td>\n",
       "      <td>0.0</td>\n",
       "      <td>0.0</td>\n",
       "      <td>0.0</td>\n",
       "      <td>0.0</td>\n",
       "      <td>0.0</td>\n",
       "      <td>0.0</td>\n",
       "      <td>...</td>\n",
       "      <td>0</td>\n",
       "      <td>1</td>\n",
       "      <td>0</td>\n",
       "      <td>0</td>\n",
       "      <td>0</td>\n",
       "      <td>0</td>\n",
       "      <td>0</td>\n",
       "      <td>0</td>\n",
       "      <td>0</td>\n",
       "      <td>0</td>\n",
       "    </tr>\n",
       "    <tr>\n",
       "      <th>2</th>\n",
       "      <td>0.0</td>\n",
       "      <td>0.0</td>\n",
       "      <td>0.0</td>\n",
       "      <td>0.0</td>\n",
       "      <td>0.0</td>\n",
       "      <td>0.0</td>\n",
       "      <td>0.0</td>\n",
       "      <td>0.0</td>\n",
       "      <td>0.0</td>\n",
       "      <td>0.0</td>\n",
       "      <td>...</td>\n",
       "      <td>0</td>\n",
       "      <td>0</td>\n",
       "      <td>1</td>\n",
       "      <td>0</td>\n",
       "      <td>0</td>\n",
       "      <td>0</td>\n",
       "      <td>0</td>\n",
       "      <td>0</td>\n",
       "      <td>0</td>\n",
       "      <td>0</td>\n",
       "    </tr>\n",
       "    <tr>\n",
       "      <th>3</th>\n",
       "      <td>0.0</td>\n",
       "      <td>0.0</td>\n",
       "      <td>0.0</td>\n",
       "      <td>0.0</td>\n",
       "      <td>0.0</td>\n",
       "      <td>0.0</td>\n",
       "      <td>0.0</td>\n",
       "      <td>0.0</td>\n",
       "      <td>0.0</td>\n",
       "      <td>0.0</td>\n",
       "      <td>...</td>\n",
       "      <td>0</td>\n",
       "      <td>0</td>\n",
       "      <td>1</td>\n",
       "      <td>0</td>\n",
       "      <td>0</td>\n",
       "      <td>0</td>\n",
       "      <td>0</td>\n",
       "      <td>0</td>\n",
       "      <td>0</td>\n",
       "      <td>0</td>\n",
       "    </tr>\n",
       "    <tr>\n",
       "      <th>4</th>\n",
       "      <td>0.0</td>\n",
       "      <td>0.0</td>\n",
       "      <td>0.0</td>\n",
       "      <td>0.0</td>\n",
       "      <td>0.0</td>\n",
       "      <td>0.0</td>\n",
       "      <td>0.0</td>\n",
       "      <td>0.0</td>\n",
       "      <td>0.0</td>\n",
       "      <td>1.0</td>\n",
       "      <td>...</td>\n",
       "      <td>0</td>\n",
       "      <td>0</td>\n",
       "      <td>1</td>\n",
       "      <td>0</td>\n",
       "      <td>0</td>\n",
       "      <td>0</td>\n",
       "      <td>0</td>\n",
       "      <td>0</td>\n",
       "      <td>0</td>\n",
       "      <td>0</td>\n",
       "    </tr>\n",
       "  </tbody>\n",
       "</table>\n",
       "<p>5 rows × 39 columns</p>\n",
       "</div>"
      ],
      "text/plain": [
       "   market_Advertising  market_Biotechnology  market_Clean Technology  \\\n",
       "0                 0.0                   0.0                      0.0   \n",
       "1                 0.0                   0.0                      0.0   \n",
       "2                 0.0                   0.0                      0.0   \n",
       "3                 0.0                   0.0                      0.0   \n",
       "4                 0.0                   0.0                      0.0   \n",
       "\n",
       "   market_Curated Web  market_E-Commerce  market_Enterprise Software  \\\n",
       "0                 0.0                0.0                         0.0   \n",
       "1                 0.0                0.0                         0.0   \n",
       "2                 0.0                0.0                         0.0   \n",
       "3                 0.0                0.0                         0.0   \n",
       "4                 0.0                0.0                         0.0   \n",
       "\n",
       "   market_Games  market_Hardware + Software  market_Health Care  \\\n",
       "0           0.0                         0.0                 0.0   \n",
       "1           0.0                         0.0                 0.0   \n",
       "2           0.0                         0.0                 0.0   \n",
       "3           0.0                         0.0                 0.0   \n",
       "4           0.0                         0.0                 0.0   \n",
       "\n",
       "   market_Mobile  ...  had_round_H  had_venture  had_seed  \\\n",
       "0            0.0  ...            0            1         0   \n",
       "1            0.0  ...            0            1         0   \n",
       "2            0.0  ...            0            0         1   \n",
       "3            0.0  ...            0            0         1   \n",
       "4            1.0  ...            0            0         1   \n",
       "\n",
       "   had_eq_crowdfunding  had_pd_crowdfunding  had_angel  had_grant  had_pe  \\\n",
       "0                    0                    0          0          0       0   \n",
       "1                    0                    0          0          0       0   \n",
       "2                    0                    0          0          0       0   \n",
       "3                    0                    0          0          0       0   \n",
       "4                    0                    0          0          0       0   \n",
       "\n",
       "   had_debt_fin  had_convert  \n",
       "0             0            0  \n",
       "1             0            0  \n",
       "2             0            0  \n",
       "3             0            0  \n",
       "4             0            0  \n",
       "\n",
       "[5 rows x 39 columns]"
      ]
     },
     "execution_count": 516,
     "metadata": {},
     "output_type": "execute_result"
    }
   ],
   "source": [
    "encoded_test = ohe.transform(cat_test).toarray()\n",
    "\n",
    "X_test_cat = pd.DataFrame(encoded_test, columns=ohe.get_feature_names(cat_test.columns))\n",
    "\n",
    "X_test_scaled = pd.concat([X_test_cat, X_test_cont_scaled, X_test_cat_eng], axis=1)\n",
    "X_test_processed = pd.concat([X_test_cat, X_test_cont, X_test_cat_eng], axis=1)\n",
    "\n",
    "display(X_test_processed.head())\n",
    "X_test_scaled.head()"
   ]
  },
  {
   "cell_type": "code",
   "execution_count": 517,
   "id": "c9adf6a3",
   "metadata": {
    "ExecuteTime": {
     "end_time": "2022-09-11T17:29:05.284795Z",
     "start_time": "2022-09-11T17:29:05.275292Z"
    }
   },
   "outputs": [
    {
     "name": "stdout",
     "output_type": "stream",
     "text": [
      "There are 39 features in train set\n",
      "There are 39 features in test set\n"
     ]
    }
   ],
   "source": [
    "print(\"There are {} features in train set\".format(len(X_train_processed.columns)))\n",
    "print(\"There are {} features in test set\".format(len(X_test_processed.columns)))"
   ]
  },
  {
   "cell_type": "code",
   "execution_count": 518,
   "id": "7963bd6a",
   "metadata": {
    "ExecuteTime": {
     "end_time": "2022-09-11T17:29:06.596345Z",
     "start_time": "2022-09-11T17:29:06.589948Z"
    }
   },
   "outputs": [
    {
     "name": "stdout",
     "output_type": "stream",
     "text": [
      "There are 39 features in train set (scaled)\n",
      "There are 39 features in test set (scaled)\n"
     ]
    }
   ],
   "source": [
    "print(\"There are {} features in train set (scaled)\".format(len(X_train_scaled.columns)))\n",
    "print(\"There are {} features in test set (scaled)\".format(len(X_test_scaled.columns)))"
   ]
  },
  {
   "cell_type": "markdown",
   "id": "0e329209",
   "metadata": {},
   "source": [
    "### Feature Selection"
   ]
  },
  {
   "cell_type": "code",
   "execution_count": 520,
   "id": "50b37e2d",
   "metadata": {
    "ExecuteTime": {
     "end_time": "2022-09-11T17:29:22.893409Z",
     "start_time": "2022-09-11T17:29:22.762149Z"
    }
   },
   "outputs": [
    {
     "name": "stdout",
     "output_type": "stream",
     "text": [
      "The best features are:['market_Biotechnology', 'market_Curated Web', 'market_Games', 'market_other', 'funding_rounds', 'had_round_C', 'had_round_D', 'had_eq_crowdfunding', 'had_angel', 'had_pe']\n"
     ]
    }
   ],
   "source": [
    "from sklearn.feature_selection import SelectKBest, chi2, f_classif\n",
    "\n",
    "X_50_best= SelectKBest(f_classif, k=10).fit(X_train_processed, y_train)\n",
    "mask = X_50_best.get_support() #list of booleans for selected features\n",
    "new_feat = [] \n",
    "for bool, feature in zip(mask, X_train_processed.columns):\n",
    "    if bool:\n",
    "        new_feat.append(feature)\n",
    "print('The best features are:{}'.format(new_feat)) # The list of your 5 best features"
   ]
  },
  {
   "cell_type": "code",
   "execution_count": null,
   "id": "6813193d",
   "metadata": {},
   "outputs": [],
   "source": [
    "selector = VarianceThreshold()\n",
    "reduced_feature_train = pd.DataFrame(selector.fit_transform(X_train_processed), \n",
    "                                     columns=X_poly_train.columns, \n",
    "                                     index=X_train_processed.index)\n",
    "\n",
    "\n",
    "#reduced_feature_test = pd.DataFrame(selector.transform(X_poly_test), columns=X_poly_test.columns, index=X_poly_test.index)"
   ]
  },
  {
   "cell_type": "code",
   "execution_count": 340,
   "id": "4edc2419",
   "metadata": {
    "ExecuteTime": {
     "end_time": "2022-09-09T17:17:58.289619Z",
     "start_time": "2022-09-09T17:17:58.107029Z"
    }
   },
   "outputs": [
    {
     "data": {
      "text/html": [
       "<div>\n",
       "<style scoped>\n",
       "    .dataframe tbody tr th:only-of-type {\n",
       "        vertical-align: middle;\n",
       "    }\n",
       "\n",
       "    .dataframe tbody tr th {\n",
       "        vertical-align: top;\n",
       "    }\n",
       "\n",
       "    .dataframe thead th {\n",
       "        text-align: right;\n",
       "    }\n",
       "</style>\n",
       "<table border=\"1\" class=\"dataframe\">\n",
       "  <thead>\n",
       "    <tr style=\"text-align: right;\">\n",
       "      <th></th>\n",
       "      <th>market_3D</th>\n",
       "      <th>market_3D Printing</th>\n",
       "      <th>market_3D Technology</th>\n",
       "      <th>market_Accounting</th>\n",
       "      <th>market_Ad Targeting</th>\n",
       "      <th>market_Advanced Materials</th>\n",
       "      <th>market_Adventure Travel</th>\n",
       "      <th>market_Advertising</th>\n",
       "      <th>market_Advertising Exchanges</th>\n",
       "      <th>market_Advertising Networks</th>\n",
       "      <th>...</th>\n",
       "      <th>had_venture</th>\n",
       "      <th>had_seed</th>\n",
       "      <th>had_crowdfunding</th>\n",
       "      <th>had_angel</th>\n",
       "      <th>had_grant</th>\n",
       "      <th>had_pe</th>\n",
       "      <th>had_debt_fin</th>\n",
       "      <th>had_convert</th>\n",
       "      <th>had_eq_crowdfunding</th>\n",
       "      <th>had_pd_crowdfunding</th>\n",
       "    </tr>\n",
       "  </thead>\n",
       "  <tbody>\n",
       "    <tr>\n",
       "      <th>20986</th>\n",
       "      <td>0.0</td>\n",
       "      <td>0.0</td>\n",
       "      <td>0.0</td>\n",
       "      <td>0.0</td>\n",
       "      <td>0.0</td>\n",
       "      <td>0.0</td>\n",
       "      <td>0.0</td>\n",
       "      <td>0.0</td>\n",
       "      <td>0.0</td>\n",
       "      <td>0.0</td>\n",
       "      <td>...</td>\n",
       "      <td>1</td>\n",
       "      <td>0</td>\n",
       "      <td>0</td>\n",
       "      <td>0</td>\n",
       "      <td>0</td>\n",
       "      <td>0</td>\n",
       "      <td>0</td>\n",
       "      <td>0</td>\n",
       "      <td>0</td>\n",
       "      <td>0</td>\n",
       "    </tr>\n",
       "  </tbody>\n",
       "</table>\n",
       "<p>1 rows × 1750 columns</p>\n",
       "</div>"
      ],
      "text/plain": [
       "       market_3D  market_3D Printing  market_3D Technology  market_Accounting  \\\n",
       "20986        0.0                 0.0                   0.0                0.0   \n",
       "\n",
       "       market_Ad Targeting  market_Advanced Materials  \\\n",
       "20986                  0.0                        0.0   \n",
       "\n",
       "       market_Adventure Travel  market_Advertising  \\\n",
       "20986                      0.0                 0.0   \n",
       "\n",
       "       market_Advertising Exchanges  market_Advertising Networks  ...  \\\n",
       "20986                           0.0                          0.0  ...   \n",
       "\n",
       "       had_venture  had_seed  had_crowdfunding  had_angel  had_grant  had_pe  \\\n",
       "20986            1         0                 0          0          0       0   \n",
       "\n",
       "       had_debt_fin  had_convert  had_eq_crowdfunding  had_pd_crowdfunding  \n",
       "20986             0            0                    0                    0  \n",
       "\n",
       "[1 rows x 1750 columns]"
      ]
     },
     "execution_count": 340,
     "metadata": {},
     "output_type": "execute_result"
    }
   ],
   "source": [
    "X_train_scaled[X_train_scaled['region_Cadiz']==1]"
   ]
  },
  {
   "cell_type": "code",
   "execution_count": null,
   "id": "c2d44b18",
   "metadata": {},
   "outputs": [],
   "source": [
    "selector = SelectKBest(score_func=f_classif)\n",
    "X_k_best_train = selector.fit_transform(X_poly_train, y_train)\n",
    "X_k_best_test = selector.transform(X_poly_test)"
   ]
  },
  {
   "cell_type": "markdown",
   "id": "17cb6938",
   "metadata": {},
   "source": [
    "## Baseline Model"
   ]
  },
  {
   "cell_type": "markdown",
   "id": "43666e14",
   "metadata": {},
   "source": [
    "Logistic regression:"
   ]
  },
  {
   "cell_type": "code",
   "execution_count": 521,
   "id": "3681a1df",
   "metadata": {
    "ExecuteTime": {
     "end_time": "2022-09-11T17:30:16.541763Z",
     "start_time": "2022-09-11T17:30:15.886417Z"
    }
   },
   "outputs": [
    {
     "data": {
      "text/plain": [
       "LogisticRegression(random_state=42)"
      ]
     },
     "execution_count": 521,
     "metadata": {},
     "output_type": "execute_result"
    }
   ],
   "source": [
    "baseline_model = LogisticRegression(random_state=42)\n",
    "\n",
    "baseline_model.fit(X_train_scaled, y_train)\n",
    "\n",
    "#baseline_model.score\n",
    "\n",
    "# Use cross_val_score with scoring=\"neg_log_loss\" to evaluate the model\n",
    "# on X_train and y_train\n",
    "#baseline_neg_log_loss_cv = cross_val_score(baseline_model, X_train, y_train, scoring=\"neg_log_loss\")\n",
    "\n",
    "#baseline_log_loss = -(baseline_neg_log_loss_cv.mean())\n",
    "#baseline_log_loss"
   ]
  },
  {
   "cell_type": "code",
   "execution_count": 522,
   "id": "754a77b7",
   "metadata": {
    "ExecuteTime": {
     "end_time": "2022-09-11T17:30:17.872984Z",
     "start_time": "2022-09-11T17:30:17.859701Z"
    }
   },
   "outputs": [],
   "source": [
    "y_hat_train = baseline_model.predict(X_train_scaled)"
   ]
  },
  {
   "cell_type": "code",
   "execution_count": 523,
   "id": "cf9a14b7",
   "metadata": {
    "ExecuteTime": {
     "end_time": "2022-09-11T17:30:19.182853Z",
     "start_time": "2022-09-11T17:30:19.120878Z"
    }
   },
   "outputs": [
    {
     "name": "stdout",
     "output_type": "stream",
     "text": [
      "              precision    recall  f1-score   support\n",
      "\n",
      "           0       0.95      1.00      0.97     34168\n",
      "           1       0.00      0.00      0.00      1924\n",
      "\n",
      "    accuracy                           0.95     36092\n",
      "   macro avg       0.47      0.50      0.49     36092\n",
      "weighted avg       0.90      0.95      0.92     36092\n",
      "\n"
     ]
    }
   ],
   "source": [
    "print(classification_report(y_train, y_hat_train))"
   ]
  },
  {
   "cell_type": "code",
   "execution_count": 524,
   "id": "cead69c4",
   "metadata": {
    "ExecuteTime": {
     "end_time": "2022-09-11T17:30:31.922252Z",
     "start_time": "2022-09-11T17:30:31.878413Z"
    }
   },
   "outputs": [
    {
     "name": "stdout",
     "output_type": "stream",
     "text": [
      "              precision    recall  f1-score   support\n",
      "\n",
      "           0       0.94      1.00      0.97     11353\n",
      "           1       0.00      0.00      0.00       678\n",
      "\n",
      "    accuracy                           0.94     12031\n",
      "   macro avg       0.47      0.50      0.49     12031\n",
      "weighted avg       0.89      0.94      0.92     12031\n",
      "\n"
     ]
    }
   ],
   "source": [
    "y_hat_test = baseline_model.predict(X_test_scaled)\n",
    "print(classification_report(y_test, y_hat_test))"
   ]
  },
  {
   "cell_type": "code",
   "execution_count": 278,
   "id": "cb0a92c7",
   "metadata": {
    "ExecuteTime": {
     "end_time": "2022-09-08T22:58:36.986045Z",
     "start_time": "2022-09-08T22:58:36.963554Z"
    }
   },
   "outputs": [
    {
     "name": "stdout",
     "output_type": "stream",
     "text": [
      "0.0\n"
     ]
    }
   ],
   "source": [
    "print(recall_score(y_test, y_hat_test))"
   ]
  },
  {
   "cell_type": "code",
   "execution_count": 98,
   "id": "9d8ee4a3",
   "metadata": {
    "ExecuteTime": {
     "end_time": "2022-09-06T17:33:18.536202Z",
     "start_time": "2022-09-06T17:33:18.393676Z"
    }
   },
   "outputs": [
    {
     "name": "stdout",
     "output_type": "stream",
     "text": [
      "0    31427\n",
      "2     2758\n",
      "1     1907\n",
      "dtype: int64\n",
      "------------------------------------\n",
      "0    0.870747\n",
      "2    0.076416\n",
      "1    0.052837\n",
      "dtype: float64\n"
     ]
    }
   ],
   "source": [
    "## WHAT IS THIS SAYING??\n",
    "residuals = np.abs(y_train - y_hat_train)\n",
    "print(pd.Series(residuals).value_counts())\n",
    "print('------------------------------------')\n",
    "print(pd.Series(residuals).value_counts(normalize=True))\n",
    "#print(classification_report(y_test, y_hat_test))"
   ]
  },
  {
   "cell_type": "code",
   "execution_count": 98,
   "id": "6449eb03",
   "metadata": {
    "ExecuteTime": {
     "end_time": "2022-09-08T16:36:23.170839Z",
     "start_time": "2022-09-08T16:36:23.135969Z"
    }
   },
   "outputs": [
    {
     "data": {
      "text/plain": [
       "array([[-0.0434813 ,  0.17223978,  0.16558359, ..., -0.145476  ,\n",
       "        -0.03072474, -0.11546924],\n",
       "       [ 0.03745066, -0.23926031, -0.25030755, ...,  0.01065703,\n",
       "        -0.00812474,  0.08794948],\n",
       "       [ 0.00603065,  0.06702053,  0.08472396, ...,  0.13481897,\n",
       "         0.03884948,  0.02751976]])"
      ]
     },
     "execution_count": 98,
     "metadata": {},
     "output_type": "execute_result"
    }
   ],
   "source": [
    "baseline_model.coef_"
   ]
  },
  {
   "cell_type": "code",
   "execution_count": 100,
   "id": "972ab87e",
   "metadata": {
    "ExecuteTime": {
     "end_time": "2022-09-08T16:37:27.123090Z",
     "start_time": "2022-09-08T16:37:26.976075Z"
    }
   },
   "outputs": [],
   "source": [
    "coef_df = pd.DataFrame(baseline_model.coef_, columns=X_train_scaled.columns)\n",
    "coef_df.to_csv('coef_logreg_base4.csv')"
   ]
  },
  {
   "cell_type": "code",
   "execution_count": 101,
   "id": "94356bcf",
   "metadata": {
    "ExecuteTime": {
     "end_time": "2022-09-08T16:37:34.756158Z",
     "start_time": "2022-09-08T16:37:34.738739Z"
    }
   },
   "outputs": [
    {
     "data": {
      "text/plain": [
       "Index(['market_3D', 'market_Accounting', 'market_Ad Targeting',\n",
       "       'market_Advertising', 'market_Advertising Platforms', 'market_Advice',\n",
       "       'market_Aerospace', 'market_Agriculture', 'market_All Students',\n",
       "       'market_Analytics',\n",
       "       ...\n",
       "       'product_crowdfunding', 'round_A', 'round_B', 'round_C', 'round_D',\n",
       "       'round_E', 'round_F', 'round_G', 'round_H', 'international'],\n",
       "      dtype='object', length=804)"
      ]
     },
     "execution_count": 101,
     "metadata": {},
     "output_type": "execute_result"
    }
   ],
   "source": [
    "X_train_scaled.columns"
   ]
  },
  {
   "cell_type": "code",
   "execution_count": 525,
   "id": "e26ce93b",
   "metadata": {
    "ExecuteTime": {
     "end_time": "2022-09-11T17:31:01.007249Z",
     "start_time": "2022-09-11T17:31:00.987546Z"
    }
   },
   "outputs": [],
   "source": [
    "def print_scores(y_train, y_hat_train, y_test, y_hat_test, binary=True):\n",
    "    if binary:\n",
    "        print('Training Recall: ', \n",
    "              recall_score(y_train, y_hat_train))\n",
    "        print('Testing Recall: ', \n",
    "              recall_score(y_test, y_hat_test))\n",
    "        print('\\n')\n",
    "        print('Training F1: ', \n",
    "              f1_score(y_train, y_hat_train))\n",
    "        print('Testing F1: ', \n",
    "              f1_score(y_test, y_hat_test))\n",
    "        print('\\n')\n",
    "        \n",
    "    else:\n",
    "        print('Training Recall (weighted avg): ', \n",
    "              recall_score(y_train, y_hat_train, average='weighted'))\n",
    "        print('Testing Recall (weighted avg): ', \n",
    "              recall_score(y_test, y_hat_test, average='weighted'))\n",
    "        print('\\n')\n",
    "        print('Training Recall (macro avg): ', \n",
    "              recall_score(y_train, y_hat_train, average='macro'))\n",
    "        print('Testing Recall (macro avg): ', \n",
    "              recall_score(y_test, y_hat_test, average='macro'))\n",
    "        print('\\n')\n",
    "        print('Training F1-Score (weighted avg): ', \n",
    "              f1_score(y_train, y_hat_train, average='weighted'))\n",
    "        print('Testing F1-Score (weighted avg): ', \n",
    "              f1_score(y_test, y_hat_test, average='weighted'))\n",
    "        print('\\n')\n",
    "        print('Training F1-Score (macro avg): ', \n",
    "              f1_score(y_train, y_hat_train, average='macro'))\n",
    "        print('Testing F1-Score (macro avg): ', \n",
    "              f1_score(y_test, y_hat_test, average='macro'))\n",
    "        print('\\n')\n",
    "    \n",
    "    print('Training Accuracy: ', accuracy_score(y_train, y_hat_train))\n",
    "    print('Testing Accuracy: ', accuracy_score(y_test, y_hat_test))"
   ]
  },
  {
   "cell_type": "code",
   "execution_count": 286,
   "id": "791d533a",
   "metadata": {
    "ExecuteTime": {
     "end_time": "2022-09-08T23:08:13.198424Z",
     "start_time": "2022-09-08T23:08:13.152600Z"
    }
   },
   "outputs": [
    {
     "name": "stdout",
     "output_type": "stream",
     "text": [
      "Training Recall:  0.0\n",
      "Testing Recall:  0.0\n",
      "\n",
      "\n",
      "Training F1:  0.0\n",
      "Testing F1:  0.0\n",
      "\n",
      "\n",
      "Training Accuracy:  0.9466917876537737\n",
      "Testing Accuracy:  0.9436455822458648\n"
     ]
    }
   ],
   "source": [
    "print_scores(y_train, y_hat_train, y_test, y_hat_test)"
   ]
  },
  {
   "cell_type": "code",
   "execution_count": 102,
   "id": "5a47a42c",
   "metadata": {
    "ExecuteTime": {
     "end_time": "2022-09-06T17:35:18.117345Z",
     "start_time": "2022-09-06T17:35:18.027026Z"
    }
   },
   "outputs": [
    {
     "name": "stdout",
     "output_type": "stream",
     "text": [
      "Training Precision (weighted avg):  0.8422235083821834\n",
      "Testing Precision (weighted avg):  0.7710266272489164\n",
      "\n",
      "\n",
      "\n",
      "Training Recall (weighted avg):  0.8707469799401529\n",
      "Testing Recall (weighted avg):  0.8659296816557227\n",
      "\n",
      "\n",
      "\n",
      "Training F1-Score (weighted avg):  0.8129091819813385\n",
      "Testing F1-Score (weighted avg):  0.8053758639591745\n",
      "\n",
      "\n",
      "\n",
      "Training Accuracy:  0.8707469799401529\n",
      "Testing Accuracy:  0.8659296816557227\n"
     ]
    }
   ],
   "source": [
    "# print('Training Precision (weighted avg): ', \n",
    "#       precision_score(y_train, y_hat_train, average='weighted'))\n",
    "# print('Testing Precision (weighted avg): ', \n",
    "#       precision_score(y_test, y_hat_test, average='weighted'))\n",
    "# print('\\n\\n')\n",
    "\n",
    "# print('Training Recall (weighted avg): ', \n",
    "#       recall_score(y_train, y_hat_train, average='weighted'))\n",
    "# print('Testing Recall (weighted avg): ', \n",
    "#       recall_score(y_test, y_hat_test, average='weighted'))\n",
    "# print('\\n\\n')\n",
    "\n",
    "# print('Training F1-Score (weighted avg): ', \n",
    "#       f1_score(y_train, y_hat_train, average='weighted'))\n",
    "# print('Testing F1-Score (weighted avg): ', \n",
    "#       f1_score(y_test, y_hat_test, average='weighted'))\n",
    "# print('\\n\\n')\n",
    "\n",
    "# print('Training Accuracy: ', accuracy_score(y_train, y_hat_train))\n",
    "# print('Testing Accuracy: ', accuracy_score(y_test, y_hat_test))"
   ]
  },
  {
   "cell_type": "code",
   "execution_count": 102,
   "id": "be9e849a",
   "metadata": {
    "ExecuteTime": {
     "end_time": "2022-09-08T16:39:07.953302Z",
     "start_time": "2022-09-08T16:39:07.863161Z"
    }
   },
   "outputs": [
    {
     "name": "stdout",
     "output_type": "stream",
     "text": [
      "Training Precision (macro avg):  0.7142553584626755\n",
      "Testing Precision (macro avg):  0.40010346229168975\n",
      "\n",
      "\n",
      "\n",
      "Training Recall (macro avg):  0.33378279631804797\n",
      "Testing Recall (macro avg):  0.3336305563548214\n",
      "\n",
      "\n",
      "\n",
      "Training F1-Score (macro avg):  0.3111967979245121\n",
      "Testing F1-Score (macro avg):  0.31027555733024664\n",
      "\n",
      "\n",
      "\n",
      "Training Accuracy:  0.8698603568657874\n",
      "Testing Accuracy:  0.8668439863685479\n"
     ]
    }
   ],
   "source": [
    "# print('Training Precision (macro avg): ', \n",
    "#       precision_score(y_train, y_hat_train, average='macro'))\n",
    "# print('Testing Precision (macro avg): ', \n",
    "#       precision_score(y_test, y_hat_test, average='macro'))\n",
    "# print('\\n\\n')\n",
    "\n",
    "# print('Training Recall (macro avg): ', \n",
    "#       recall_score(y_train, y_hat_train, average='macro'))\n",
    "# print('Testing Recall (macro avg): ', \n",
    "#       recall_score(y_test, y_hat_test, average='macro'))\n",
    "# print('\\n\\n')\n",
    "\n",
    "# print('Training F1-Score (macro avg): ', \n",
    "#       f1_score(y_train, y_hat_train, average='macro'))\n",
    "# print('Testing F1-Score (macro avg): ', \n",
    "#       f1_score(y_test, y_hat_test, average='macro'))\n",
    "# print('\\n\\n')\n",
    "\n",
    "# print('Training Accuracy: ', accuracy_score(y_train, y_hat_train))\n",
    "# print('Testing Accuracy: ', accuracy_score(y_test, y_hat_test))"
   ]
  },
  {
   "cell_type": "markdown",
   "id": "52fc59e4",
   "metadata": {
    "heading_collapsed": true
   },
   "source": [
    "#### Multicollinearity - VIF"
   ]
  },
  {
   "cell_type": "code",
   "execution_count": null,
   "id": "4af54234",
   "metadata": {
    "hidden": true
   },
   "outputs": [],
   "source": [
    "## source: https://www.analyticsvidhya.com/blog/2020/03/one-hot-encoding-vs-label-encoding-using-scikit-learn/\n",
    "\n",
    "# Function to calculate VIF\n",
    "def calculate_vif(data):\n",
    "    vif_df = pd.DataFrame(columns = ['Var', 'Vif'])\n",
    "    x_var_names = data.columns\n",
    "    for i in range(0, x_var_names.shape[0]):\n",
    "        y = data[x_var_names[i]]\n",
    "        x = data[x_var_names.drop([x_var_names[i]])]\n",
    "        r_squared = sm.OLS(y,x).fit().rsquared\n",
    "        vif = round(1/(1-r_squared),2)\n",
    "        vif_df.loc[i] = [x_var_names[i], vif]\n",
    "    return vif_df.sort_values(by = 'Vif', axis = 0, ascending=False, inplace=False)\n",
    "\n",
    "X=df.drop(['Salary'],axis=1)\n",
    "calculate_vif(X)"
   ]
  },
  {
   "cell_type": "markdown",
   "id": "58e6fa8e",
   "metadata": {},
   "source": [
    "## Other Models"
   ]
  },
  {
   "cell_type": "markdown",
   "id": "c6bce09c",
   "metadata": {},
   "source": [
    "### Model 2: LogReg / Addressing Class Imbalance"
   ]
  },
  {
   "cell_type": "code",
   "execution_count": 526,
   "id": "e0d994e8",
   "metadata": {
    "ExecuteTime": {
     "end_time": "2022-09-11T17:31:13.818191Z",
     "start_time": "2022-09-11T17:31:13.290339Z"
    }
   },
   "outputs": [
    {
     "data": {
      "text/plain": [
       "LogisticRegression(class_weight='balanced', random_state=42)"
      ]
     },
     "execution_count": 526,
     "metadata": {},
     "output_type": "execute_result"
    }
   ],
   "source": [
    "# fitting a model weight balanced class weights, no regularization\n",
    "logreg2 = LogisticRegression(random_state=42, class_weight='balanced')\n",
    "logreg2.fit(X_train_scaled, y_train)"
   ]
  },
  {
   "cell_type": "code",
   "execution_count": 527,
   "id": "8ad2b7df",
   "metadata": {
    "ExecuteTime": {
     "end_time": "2022-09-11T17:31:15.013164Z",
     "start_time": "2022-09-11T17:31:14.994615Z"
    }
   },
   "outputs": [],
   "source": [
    "y_hat_train_2 = logreg2.predict(X_train_scaled)\n",
    "y_hat_test_2 = logreg2.predict(X_test_scaled)"
   ]
  },
  {
   "cell_type": "code",
   "execution_count": 528,
   "id": "e85fa81b",
   "metadata": {
    "ExecuteTime": {
     "end_time": "2022-09-11T17:31:16.276929Z",
     "start_time": "2022-09-11T17:31:16.222618Z"
    }
   },
   "outputs": [
    {
     "name": "stdout",
     "output_type": "stream",
     "text": [
      "Training Recall:  0.5738045738045738\n",
      "Testing Recall:  0.5707964601769911\n",
      "\n",
      "\n",
      "Training F1:  0.1373988799004356\n",
      "Testing F1:  0.14301552106430154\n",
      "\n",
      "\n",
      "Training Accuracy:  0.6159259669732905\n",
      "Testing Accuracy:  0.6144958856287923\n"
     ]
    }
   ],
   "source": [
    "print_scores(y_train, y_hat_train_2, y_test, y_hat_test_2)"
   ]
  },
  {
   "cell_type": "code",
   "execution_count": 529,
   "id": "b01718a7",
   "metadata": {
    "ExecuteTime": {
     "end_time": "2022-09-11T17:31:29.352160Z",
     "start_time": "2022-09-11T17:31:29.277226Z"
    }
   },
   "outputs": [
    {
     "name": "stdout",
     "output_type": "stream",
     "text": [
      "              precision    recall  f1-score   support\n",
      "\n",
      "           0       0.96      0.62      0.75     34168\n",
      "           1       0.08      0.57      0.14      1924\n",
      "\n",
      "    accuracy                           0.62     36092\n",
      "   macro avg       0.52      0.60      0.45     36092\n",
      "weighted avg       0.92      0.62      0.72     36092\n",
      "\n",
      "              precision    recall  f1-score   support\n",
      "\n",
      "           0       0.96      0.62      0.75     11353\n",
      "           1       0.08      0.57      0.14       678\n",
      "\n",
      "    accuracy                           0.61     12031\n",
      "   macro avg       0.52      0.59      0.45     12031\n",
      "weighted avg       0.91      0.61      0.72     12031\n",
      "\n"
     ]
    }
   ],
   "source": [
    "print(classification_report(y_train, y_hat_train_2))\n",
    "print(classification_report(y_test, y_hat_test_2))"
   ]
  },
  {
   "cell_type": "code",
   "execution_count": 141,
   "id": "7dac9ef5",
   "metadata": {
    "ExecuteTime": {
     "end_time": "2022-09-08T17:03:30.217833Z",
     "start_time": "2022-09-08T17:03:30.201837Z"
    }
   },
   "outputs": [],
   "source": [
    "param_grid = {'penalty':['l1', 'l2', None],\n",
    "              'solver':['lbfgs', 'newton-cg', 'sag'],\n",
    "              'C': [1.0, 1e12],\n",
    "              'class_weight': [None, 'balanced']\n",
    "             }"
   ]
  },
  {
   "cell_type": "code",
   "execution_count": 143,
   "id": "cdbaffe5",
   "metadata": {
    "ExecuteTime": {
     "end_time": "2022-09-08T18:16:32.839284Z",
     "start_time": "2022-09-08T17:03:56.728351Z"
    }
   },
   "outputs": [
    {
     "data": {
      "text/plain": [
       "GridSearchCV(cv=5, estimator=LogisticRegression(random_state=42),\n",
       "             param_grid={'C': [1.0, 1000000000000.0],\n",
       "                         'class_weight': [None, 'balanced'],\n",
       "                         'penalty': ['l1', 'l2', None],\n",
       "                         'solver': ['lbfgs', 'newton-cg', 'sag']},\n",
       "             scoring='recall_macro')"
      ]
     },
     "execution_count": 143,
     "metadata": {},
     "output_type": "execute_result"
    }
   ],
   "source": [
    "# long runtime 1hr+\n",
    "grid_logreg = GridSearchCV(baseline_model, param_grid, cv = 5, \n",
    "                           scoring='recall_macro') # macro or weighted\n",
    "grid_logreg.fit(X_train_scaled, y_train)"
   ]
  },
  {
   "cell_type": "code",
   "execution_count": 145,
   "id": "f0098863",
   "metadata": {
    "ExecuteTime": {
     "end_time": "2022-09-08T18:20:24.921927Z",
     "start_time": "2022-09-08T18:20:24.897492Z"
    }
   },
   "outputs": [
    {
     "data": {
      "text/plain": [
       "{'C': 1000000000000.0,\n",
       " 'class_weight': 'balanced',\n",
       " 'penalty': 'l2',\n",
       " 'solver': 'newton-cg'}"
      ]
     },
     "execution_count": 145,
     "metadata": {},
     "output_type": "execute_result"
    }
   ],
   "source": [
    "grid_logreg.best_params_"
   ]
  },
  {
   "cell_type": "code",
   "execution_count": 146,
   "id": "9ace3025",
   "metadata": {
    "ExecuteTime": {
     "end_time": "2022-09-08T18:21:11.030462Z",
     "start_time": "2022-09-08T18:21:10.865782Z"
    }
   },
   "outputs": [
    {
     "name": "stdout",
     "output_type": "stream",
     "text": [
      "              precision    recall  f1-score   support\n",
      "\n",
      "           0       0.18      0.59      0.28       923\n",
      "           1       0.10      0.47      0.16       678\n",
      "           2       0.94      0.52      0.67     10430\n",
      "\n",
      "    accuracy                           0.52     12031\n",
      "   macro avg       0.40      0.52      0.37     12031\n",
      "weighted avg       0.83      0.52      0.61     12031\n",
      "\n"
     ]
    }
   ],
   "source": [
    "y_preds_grid_lr = grid_logreg.predict(X_test_scaled)\n",
    "print(classification_report(y_test, y_preds_grid_lr))"
   ]
  },
  {
   "cell_type": "code",
   "execution_count": 530,
   "id": "8b4e9719",
   "metadata": {
    "ExecuteTime": {
     "end_time": "2022-09-11T17:31:46.676152Z",
     "start_time": "2022-09-11T17:31:44.157459Z"
    }
   },
   "outputs": [
    {
     "name": "stdout",
     "output_type": "stream",
     "text": [
      "Training Recall:  0.5722453222453222\n",
      "Testing Recall:  0.5737463126843658\n",
      "\n",
      "\n",
      "Training F1:  0.1362961128992325\n",
      "Testing F1:  0.14296214626975373\n",
      "\n",
      "\n",
      "Training Accuracy:  0.6133769256344896\n",
      "Testing Accuracy:  0.6123348017621145\n",
      "              precision    recall  f1-score   support\n",
      "\n",
      "           0       0.96      0.62      0.75     34168\n",
      "           1       0.08      0.57      0.14      1924\n",
      "\n",
      "    accuracy                           0.61     36092\n",
      "   macro avg       0.52      0.59      0.44     36092\n",
      "weighted avg       0.92      0.61      0.72     36092\n",
      "\n",
      "              precision    recall  f1-score   support\n",
      "\n",
      "           0       0.96      0.61      0.75     11353\n",
      "           1       0.08      0.57      0.14       678\n",
      "\n",
      "    accuracy                           0.61     12031\n",
      "   macro avg       0.52      0.59      0.45     12031\n",
      "weighted avg       0.91      0.61      0.72     12031\n",
      "\n"
     ]
    }
   ],
   "source": [
    "# best model\n",
    "\n",
    "logreg3 = LogisticRegression(random_state=42, class_weight='balanced', C=1e12, \n",
    "                             solver='newton-cg', penalty='l2')\n",
    "logreg3.fit(X_train_scaled, y_train)\n",
    "y_hat_train_3 = logreg3.predict(X_train_scaled)\n",
    "y_hat_test_3 = logreg3.predict(X_test_scaled)\n",
    "\n",
    "print_scores(y_train, y_hat_train_3, y_test, y_hat_test_3)\n",
    "print(classification_report(y_train, y_hat_train_3))\n",
    "print(classification_report(y_test, y_hat_test_3))"
   ]
  },
  {
   "cell_type": "code",
   "execution_count": 245,
   "id": "db050239",
   "metadata": {
    "ExecuteTime": {
     "end_time": "2022-09-08T19:49:46.313430Z",
     "start_time": "2022-09-08T19:49:46.170368Z"
    }
   },
   "outputs": [],
   "source": [
    "coef_df = pd.DataFrame(logreg3.coef_, columns=X_train_scaled.columns)\n",
    "coef_df.to_csv('coef_logreg_3.csv')"
   ]
  },
  {
   "cell_type": "markdown",
   "id": "360e5aab",
   "metadata": {},
   "source": [
    "### Model 3: Random Forest"
   ]
  },
  {
   "cell_type": "code",
   "execution_count": 531,
   "id": "960c9bd1",
   "metadata": {
    "ExecuteTime": {
     "end_time": "2022-09-11T17:32:03.962903Z",
     "start_time": "2022-09-11T17:31:59.425593Z"
    }
   },
   "outputs": [
    {
     "name": "stdout",
     "output_type": "stream",
     "text": [
      "Training Recall:  0.9293139293139293\n",
      "Testing Recall:  0.12094395280235988\n",
      "\n",
      "\n",
      "Training F1:  0.6992569417285881\n",
      "Testing F1:  0.12330827067669173\n",
      "\n",
      "\n",
      "Training Accuracy:  0.9573866784883076\n",
      "Testing Accuracy:  0.9030837004405287\n"
     ]
    }
   ],
   "source": [
    "rfc = RandomForestClassifier(random_state=42, class_weight='balanced') #, criterion='gini', max_depth=3, \n",
    "                             #min_samples_leaf=5)\n",
    "rfc.fit(X_train_processed, y_train)\n",
    "\n",
    "y_hat_train_3 = rfc.predict(X_train_processed)\n",
    "y_hat_test_3 = rfc.predict(X_test_processed)\n",
    "\n",
    "print_scores(y_train, y_hat_train_3, y_test, y_hat_test_3)\n",
    "#print(classification_report(y_train, y_hat_train_3))\n",
    "#print(classification_report(y_test, y_hat_test_3))\n"
   ]
  },
  {
   "cell_type": "markdown",
   "id": "bc434ae8",
   "metadata": {},
   "source": [
    "#### Feature Selection"
   ]
  },
  {
   "cell_type": "code",
   "execution_count": 532,
   "id": "f66291eb",
   "metadata": {
    "ExecuteTime": {
     "end_time": "2022-09-11T17:32:25.111810Z",
     "start_time": "2022-09-11T17:32:25.042072Z"
    }
   },
   "outputs": [],
   "source": [
    "#sorted(rfc.feature_importances_, reverse=True)[:20]\n",
    "feats = {} # a dict to hold feature_name: feature_importance\n",
    "for feature, importance in zip(X_train_processed.columns, rfc.feature_importances_):\n",
    "    feats[feature] = importance #add the name/value pair \n",
    "\n",
    "#importances = pd.DataFrame.from_dict(feats, orient='index').rename(columns={0: 'Gini-importance'})\n",
    "#importances.sort_values(by='Gini-importance').plot(kind='bar', rot=45)\n",
    "    \n",
    "feats_df = pd.DataFrame(feats.items())"
   ]
  },
  {
   "cell_type": "code",
   "execution_count": 533,
   "id": "10298b6b",
   "metadata": {
    "ExecuteTime": {
     "end_time": "2022-09-11T17:32:27.527702Z",
     "start_time": "2022-09-11T17:32:27.504270Z"
    }
   },
   "outputs": [],
   "source": [
    "feats_df.columns = ['col', 'feat_importance']\n",
    "feats_df = feats_df.sort_values(by=['feat_importance'], ascending=False)\n",
    "feats_df_20 = feats_df[:20]\n",
    "feats_df_30 = feats_df[:30]"
   ]
  },
  {
   "cell_type": "code",
   "execution_count": 534,
   "id": "616aff65",
   "metadata": {
    "ExecuteTime": {
     "end_time": "2022-09-11T17:32:30.056532Z",
     "start_time": "2022-09-11T17:32:29.575969Z"
    }
   },
   "outputs": [
    {
     "data": {
      "image/png": "[encoded data removed]",
      "text/plain": [
       "<Figure size 720x504 with 1 Axes>"
      ]
     },
     "metadata": {
      "needs_background": "light"
     },
     "output_type": "display_data"
    }
   ],
   "source": [
    "fig, ax = plt.subplots(figsize = (10,7))\n",
    "feats_df_30.plot.bar(ax=ax) # yerr=std, \n",
    "ax.set_title(\"Feature importances using MDI\")\n",
    "ax.set_ylabel(\"Mean decrease in impurity\")\n",
    "ax.set_xticklabels(feats_df_30['col'])\n",
    "fig.tight_layout()"
   ]
  },
  {
   "cell_type": "code",
   "execution_count": 351,
   "id": "69a22261",
   "metadata": {
    "ExecuteTime": {
     "end_time": "2022-09-09T18:01:51.296870Z",
     "start_time": "2022-09-09T18:01:50.904553Z"
    }
   },
   "outputs": [
    {
     "data": {
      "image/png": "[encoded data removed]",
      "text/plain": [
       "<Figure size 432x288 with 1 Axes>"
      ]
     },
     "metadata": {
      "needs_background": "light"
     },
     "output_type": "display_data"
    }
   ],
   "source": [
    "importances = rfc.feature_importances_[:20]\n",
    "feature_names = [f\"feature {i}\" for i in range(X_train_processed.shape[1])][:20]\n",
    "forest_importances = pd.Series(importances, index=feature_names)[:20]\n",
    "#std = np.std([rfc.feature_importances_ for tree in rfc.estimators_], axis=0)\n",
    "\n",
    "fig, ax = plt.subplots()\n",
    "forest_importances.plot.bar(ax=ax) # yerr=std, \n",
    "ax.set_title(\"Feature importances using MDI\")\n",
    "ax.set_ylabel(\"Mean decrease in impurity\")\n",
    "fig.tight_layout()"
   ]
  },
  {
   "cell_type": "code",
   "execution_count": 108,
   "id": "7a8aa32a",
   "metadata": {
    "ExecuteTime": {
     "end_time": "2022-09-08T16:46:29.167053Z",
     "start_time": "2022-09-08T16:46:29.155486Z"
    }
   },
   "outputs": [],
   "source": [
    "# Tuning the model with grid search\n",
    "\n",
    "param_grid = {'criterion':['gini','entropy','log_loss'],\n",
    "              'max_depth':[3,8,12],\n",
    "              'min_samples_leaf': [5,10],\n",
    "              'class_weight': [None, 'balanced']\n",
    "             }"
   ]
  },
  {
   "cell_type": "code",
   "execution_count": 110,
   "id": "c61555a2",
   "metadata": {
    "ExecuteTime": {
     "end_time": "2022-09-08T16:51:47.718915Z",
     "start_time": "2022-09-08T16:47:41.529848Z"
    }
   },
   "outputs": [
    {
     "ename": "KeyboardInterrupt",
     "evalue": "",
     "output_type": "error",
     "traceback": [
      "\u001b[0;31m---------------------------------------------------------------------------\u001b[0m",
      "\u001b[0;31mKeyboardInterrupt\u001b[0m                         Traceback (most recent call last)",
      "\u001b[0;32m<ipython-input-110-6c47f224e7a7>\u001b[0m in \u001b[0;36m<module>\u001b[0;34m\u001b[0m\n\u001b[1;32m      3\u001b[0m \u001b[0mgrid_rfc\u001b[0m \u001b[0;34m=\u001b[0m \u001b[0mGridSearchCV\u001b[0m\u001b[0;34m(\u001b[0m\u001b[0mrfc\u001b[0m\u001b[0;34m,\u001b[0m \u001b[0mparam_grid\u001b[0m\u001b[0;34m,\u001b[0m \u001b[0mcv\u001b[0m \u001b[0;34m=\u001b[0m \u001b[0;36m5\u001b[0m\u001b[0;34m,\u001b[0m \u001b[0mscoring\u001b[0m\u001b[0;34m=\u001b[0m\u001b[0;34m'recall_macro'\u001b[0m\u001b[0;34m)\u001b[0m\u001b[0;34m\u001b[0m\u001b[0;34m\u001b[0m\u001b[0m\n\u001b[1;32m      4\u001b[0m \u001b[0;31m# macro or weighted?\u001b[0m\u001b[0;34m\u001b[0m\u001b[0;34m\u001b[0m\u001b[0;34m\u001b[0m\u001b[0m\n\u001b[0;32m----> 5\u001b[0;31m \u001b[0mgrid_rfc\u001b[0m\u001b[0;34m.\u001b[0m\u001b[0mfit\u001b[0m\u001b[0;34m(\u001b[0m\u001b[0mX_train_processed\u001b[0m\u001b[0;34m,\u001b[0m \u001b[0my_train\u001b[0m\u001b[0;34m)\u001b[0m \u001b[0;31m#17 min execution\u001b[0m\u001b[0;34m\u001b[0m\u001b[0;34m\u001b[0m\u001b[0m\n\u001b[0m",
      "\u001b[0;32m~/opt/anaconda3/envs/learn-env/lib/python3.8/site-packages/sklearn/utils/validation.py\u001b[0m in \u001b[0;36minner_f\u001b[0;34m(*args, **kwargs)\u001b[0m\n\u001b[1;32m     70\u001b[0m                           FutureWarning)\n\u001b[1;32m     71\u001b[0m         \u001b[0mkwargs\u001b[0m\u001b[0;34m.\u001b[0m\u001b[0mupdate\u001b[0m\u001b[0;34m(\u001b[0m\u001b[0;34m{\u001b[0m\u001b[0mk\u001b[0m\u001b[0;34m:\u001b[0m \u001b[0marg\u001b[0m \u001b[0;32mfor\u001b[0m \u001b[0mk\u001b[0m\u001b[0;34m,\u001b[0m \u001b[0marg\u001b[0m \u001b[0;32min\u001b[0m \u001b[0mzip\u001b[0m\u001b[0;34m(\u001b[0m\u001b[0msig\u001b[0m\u001b[0;34m.\u001b[0m\u001b[0mparameters\u001b[0m\u001b[0;34m,\u001b[0m \u001b[0margs\u001b[0m\u001b[0;34m)\u001b[0m\u001b[0;34m}\u001b[0m\u001b[0;34m)\u001b[0m\u001b[0;34m\u001b[0m\u001b[0;34m\u001b[0m\u001b[0m\n\u001b[0;32m---> 72\u001b[0;31m         \u001b[0;32mreturn\u001b[0m \u001b[0mf\u001b[0m\u001b[0;34m(\u001b[0m\u001b[0;34m**\u001b[0m\u001b[0mkwargs\u001b[0m\u001b[0;34m)\u001b[0m\u001b[0;34m\u001b[0m\u001b[0;34m\u001b[0m\u001b[0m\n\u001b[0m\u001b[1;32m     73\u001b[0m     \u001b[0;32mreturn\u001b[0m \u001b[0minner_f\u001b[0m\u001b[0;34m\u001b[0m\u001b[0;34m\u001b[0m\u001b[0m\n\u001b[1;32m     74\u001b[0m \u001b[0;34m\u001b[0m\u001b[0m\n",
      "\u001b[0;32m~/opt/anaconda3/envs/learn-env/lib/python3.8/site-packages/sklearn/model_selection/_search.py\u001b[0m in \u001b[0;36mfit\u001b[0;34m(self, X, y, groups, **fit_params)\u001b[0m\n\u001b[1;32m    734\u001b[0m                 \u001b[0;32mreturn\u001b[0m \u001b[0mresults\u001b[0m\u001b[0;34m\u001b[0m\u001b[0;34m\u001b[0m\u001b[0m\n\u001b[1;32m    735\u001b[0m \u001b[0;34m\u001b[0m\u001b[0m\n\u001b[0;32m--> 736\u001b[0;31m             \u001b[0mself\u001b[0m\u001b[0;34m.\u001b[0m\u001b[0m_run_search\u001b[0m\u001b[0;34m(\u001b[0m\u001b[0mevaluate_candidates\u001b[0m\u001b[0;34m)\u001b[0m\u001b[0;34m\u001b[0m\u001b[0;34m\u001b[0m\u001b[0m\n\u001b[0m\u001b[1;32m    737\u001b[0m \u001b[0;34m\u001b[0m\u001b[0m\n\u001b[1;32m    738\u001b[0m         \u001b[0;31m# For multi-metric evaluation, store the best_index_, best_params_ and\u001b[0m\u001b[0;34m\u001b[0m\u001b[0;34m\u001b[0m\u001b[0;34m\u001b[0m\u001b[0m\n",
      "\u001b[0;32m~/opt/anaconda3/envs/learn-env/lib/python3.8/site-packages/sklearn/model_selection/_search.py\u001b[0m in \u001b[0;36m_run_search\u001b[0;34m(self, evaluate_candidates)\u001b[0m\n\u001b[1;32m   1186\u001b[0m     \u001b[0;32mdef\u001b[0m \u001b[0m_run_search\u001b[0m\u001b[0;34m(\u001b[0m\u001b[0mself\u001b[0m\u001b[0;34m,\u001b[0m \u001b[0mevaluate_candidates\u001b[0m\u001b[0;34m)\u001b[0m\u001b[0;34m:\u001b[0m\u001b[0;34m\u001b[0m\u001b[0;34m\u001b[0m\u001b[0m\n\u001b[1;32m   1187\u001b[0m         \u001b[0;34m\"\"\"Search all candidates in param_grid\"\"\"\u001b[0m\u001b[0;34m\u001b[0m\u001b[0;34m\u001b[0m\u001b[0m\n\u001b[0;32m-> 1188\u001b[0;31m         \u001b[0mevaluate_candidates\u001b[0m\u001b[0;34m(\u001b[0m\u001b[0mParameterGrid\u001b[0m\u001b[0;34m(\u001b[0m\u001b[0mself\u001b[0m\u001b[0;34m.\u001b[0m\u001b[0mparam_grid\u001b[0m\u001b[0;34m)\u001b[0m\u001b[0;34m)\u001b[0m\u001b[0;34m\u001b[0m\u001b[0;34m\u001b[0m\u001b[0m\n\u001b[0m\u001b[1;32m   1189\u001b[0m \u001b[0;34m\u001b[0m\u001b[0m\n\u001b[1;32m   1190\u001b[0m \u001b[0;34m\u001b[0m\u001b[0m\n",
      "\u001b[0;32m~/opt/anaconda3/envs/learn-env/lib/python3.8/site-packages/sklearn/model_selection/_search.py\u001b[0m in \u001b[0;36mevaluate_candidates\u001b[0;34m(candidate_params)\u001b[0m\n\u001b[1;32m    706\u001b[0m                               n_splits, n_candidates, n_candidates * n_splits))\n\u001b[1;32m    707\u001b[0m \u001b[0;34m\u001b[0m\u001b[0m\n\u001b[0;32m--> 708\u001b[0;31m                 out = parallel(delayed(_fit_and_score)(clone(base_estimator),\n\u001b[0m\u001b[1;32m    709\u001b[0m                                                        \u001b[0mX\u001b[0m\u001b[0;34m,\u001b[0m \u001b[0my\u001b[0m\u001b[0;34m,\u001b[0m\u001b[0;34m\u001b[0m\u001b[0;34m\u001b[0m\u001b[0m\n\u001b[1;32m    710\u001b[0m                                                        \u001b[0mtrain\u001b[0m\u001b[0;34m=\u001b[0m\u001b[0mtrain\u001b[0m\u001b[0;34m,\u001b[0m \u001b[0mtest\u001b[0m\u001b[0;34m=\u001b[0m\u001b[0mtest\u001b[0m\u001b[0;34m,\u001b[0m\u001b[0;34m\u001b[0m\u001b[0;34m\u001b[0m\u001b[0m\n",
      "\u001b[0;32m~/opt/anaconda3/envs/learn-env/lib/python3.8/site-packages/joblib/parallel.py\u001b[0m in \u001b[0;36m__call__\u001b[0;34m(self, iterable)\u001b[0m\n\u001b[1;32m   1049\u001b[0m                 \u001b[0mself\u001b[0m\u001b[0;34m.\u001b[0m\u001b[0m_iterating\u001b[0m \u001b[0;34m=\u001b[0m \u001b[0mself\u001b[0m\u001b[0;34m.\u001b[0m\u001b[0m_original_iterator\u001b[0m \u001b[0;32mis\u001b[0m \u001b[0;32mnot\u001b[0m \u001b[0;32mNone\u001b[0m\u001b[0;34m\u001b[0m\u001b[0;34m\u001b[0m\u001b[0m\n\u001b[1;32m   1050\u001b[0m \u001b[0;34m\u001b[0m\u001b[0m\n\u001b[0;32m-> 1051\u001b[0;31m             \u001b[0;32mwhile\u001b[0m \u001b[0mself\u001b[0m\u001b[0;34m.\u001b[0m\u001b[0mdispatch_one_batch\u001b[0m\u001b[0;34m(\u001b[0m\u001b[0miterator\u001b[0m\u001b[0;34m)\u001b[0m\u001b[0;34m:\u001b[0m\u001b[0;34m\u001b[0m\u001b[0;34m\u001b[0m\u001b[0m\n\u001b[0m\u001b[1;32m   1052\u001b[0m                 \u001b[0;32mpass\u001b[0m\u001b[0;34m\u001b[0m\u001b[0;34m\u001b[0m\u001b[0m\n\u001b[1;32m   1053\u001b[0m \u001b[0;34m\u001b[0m\u001b[0m\n",
      "\u001b[0;32m~/opt/anaconda3/envs/learn-env/lib/python3.8/site-packages/joblib/parallel.py\u001b[0m in \u001b[0;36mdispatch_one_batch\u001b[0;34m(self, iterator)\u001b[0m\n\u001b[1;32m    864\u001b[0m                 \u001b[0;32mreturn\u001b[0m \u001b[0;32mFalse\u001b[0m\u001b[0;34m\u001b[0m\u001b[0;34m\u001b[0m\u001b[0m\n\u001b[1;32m    865\u001b[0m             \u001b[0;32melse\u001b[0m\u001b[0;34m:\u001b[0m\u001b[0;34m\u001b[0m\u001b[0;34m\u001b[0m\u001b[0m\n\u001b[0;32m--> 866\u001b[0;31m                 \u001b[0mself\u001b[0m\u001b[0;34m.\u001b[0m\u001b[0m_dispatch\u001b[0m\u001b[0;34m(\u001b[0m\u001b[0mtasks\u001b[0m\u001b[0;34m)\u001b[0m\u001b[0;34m\u001b[0m\u001b[0;34m\u001b[0m\u001b[0m\n\u001b[0m\u001b[1;32m    867\u001b[0m                 \u001b[0;32mreturn\u001b[0m \u001b[0;32mTrue\u001b[0m\u001b[0;34m\u001b[0m\u001b[0;34m\u001b[0m\u001b[0m\n\u001b[1;32m    868\u001b[0m \u001b[0;34m\u001b[0m\u001b[0m\n",
      "\u001b[0;32m~/opt/anaconda3/envs/learn-env/lib/python3.8/site-packages/joblib/parallel.py\u001b[0m in \u001b[0;36m_dispatch\u001b[0;34m(self, batch)\u001b[0m\n\u001b[1;32m    782\u001b[0m         \u001b[0;32mwith\u001b[0m \u001b[0mself\u001b[0m\u001b[0;34m.\u001b[0m\u001b[0m_lock\u001b[0m\u001b[0;34m:\u001b[0m\u001b[0;34m\u001b[0m\u001b[0;34m\u001b[0m\u001b[0m\n\u001b[1;32m    783\u001b[0m             \u001b[0mjob_idx\u001b[0m \u001b[0;34m=\u001b[0m \u001b[0mlen\u001b[0m\u001b[0;34m(\u001b[0m\u001b[0mself\u001b[0m\u001b[0;34m.\u001b[0m\u001b[0m_jobs\u001b[0m\u001b[0;34m)\u001b[0m\u001b[0;34m\u001b[0m\u001b[0;34m\u001b[0m\u001b[0m\n\u001b[0;32m--> 784\u001b[0;31m             \u001b[0mjob\u001b[0m \u001b[0;34m=\u001b[0m \u001b[0mself\u001b[0m\u001b[0;34m.\u001b[0m\u001b[0m_backend\u001b[0m\u001b[0;34m.\u001b[0m\u001b[0mapply_async\u001b[0m\u001b[0;34m(\u001b[0m\u001b[0mbatch\u001b[0m\u001b[0;34m,\u001b[0m \u001b[0mcallback\u001b[0m\u001b[0;34m=\u001b[0m\u001b[0mcb\u001b[0m\u001b[0;34m)\u001b[0m\u001b[0;34m\u001b[0m\u001b[0;34m\u001b[0m\u001b[0m\n\u001b[0m\u001b[1;32m    785\u001b[0m             \u001b[0;31m# A job can complete so quickly than its callback is\u001b[0m\u001b[0;34m\u001b[0m\u001b[0;34m\u001b[0m\u001b[0;34m\u001b[0m\u001b[0m\n\u001b[1;32m    786\u001b[0m             \u001b[0;31m# called before we get here, causing self._jobs to\u001b[0m\u001b[0;34m\u001b[0m\u001b[0;34m\u001b[0m\u001b[0;34m\u001b[0m\u001b[0m\n",
      "\u001b[0;32m~/opt/anaconda3/envs/learn-env/lib/python3.8/site-packages/joblib/_parallel_backends.py\u001b[0m in \u001b[0;36mapply_async\u001b[0;34m(self, func, callback)\u001b[0m\n\u001b[1;32m    206\u001b[0m     \u001b[0;32mdef\u001b[0m \u001b[0mapply_async\u001b[0m\u001b[0;34m(\u001b[0m\u001b[0mself\u001b[0m\u001b[0;34m,\u001b[0m \u001b[0mfunc\u001b[0m\u001b[0;34m,\u001b[0m \u001b[0mcallback\u001b[0m\u001b[0;34m=\u001b[0m\u001b[0;32mNone\u001b[0m\u001b[0;34m)\u001b[0m\u001b[0;34m:\u001b[0m\u001b[0;34m\u001b[0m\u001b[0;34m\u001b[0m\u001b[0m\n\u001b[1;32m    207\u001b[0m         \u001b[0;34m\"\"\"Schedule a func to be run\"\"\"\u001b[0m\u001b[0;34m\u001b[0m\u001b[0;34m\u001b[0m\u001b[0m\n\u001b[0;32m--> 208\u001b[0;31m         \u001b[0mresult\u001b[0m \u001b[0;34m=\u001b[0m \u001b[0mImmediateResult\u001b[0m\u001b[0;34m(\u001b[0m\u001b[0mfunc\u001b[0m\u001b[0;34m)\u001b[0m\u001b[0;34m\u001b[0m\u001b[0;34m\u001b[0m\u001b[0m\n\u001b[0m\u001b[1;32m    209\u001b[0m         \u001b[0;32mif\u001b[0m \u001b[0mcallback\u001b[0m\u001b[0;34m:\u001b[0m\u001b[0;34m\u001b[0m\u001b[0;34m\u001b[0m\u001b[0m\n\u001b[1;32m    210\u001b[0m             \u001b[0mcallback\u001b[0m\u001b[0;34m(\u001b[0m\u001b[0mresult\u001b[0m\u001b[0;34m)\u001b[0m\u001b[0;34m\u001b[0m\u001b[0;34m\u001b[0m\u001b[0m\n",
      "\u001b[0;32m~/opt/anaconda3/envs/learn-env/lib/python3.8/site-packages/joblib/_parallel_backends.py\u001b[0m in \u001b[0;36m__init__\u001b[0;34m(self, batch)\u001b[0m\n\u001b[1;32m    570\u001b[0m         \u001b[0;31m# Don't delay the application, to avoid keeping the input\u001b[0m\u001b[0;34m\u001b[0m\u001b[0;34m\u001b[0m\u001b[0;34m\u001b[0m\u001b[0m\n\u001b[1;32m    571\u001b[0m         \u001b[0;31m# arguments in memory\u001b[0m\u001b[0;34m\u001b[0m\u001b[0;34m\u001b[0m\u001b[0;34m\u001b[0m\u001b[0m\n\u001b[0;32m--> 572\u001b[0;31m         \u001b[0mself\u001b[0m\u001b[0;34m.\u001b[0m\u001b[0mresults\u001b[0m \u001b[0;34m=\u001b[0m \u001b[0mbatch\u001b[0m\u001b[0;34m(\u001b[0m\u001b[0;34m)\u001b[0m\u001b[0;34m\u001b[0m\u001b[0;34m\u001b[0m\u001b[0m\n\u001b[0m\u001b[1;32m    573\u001b[0m \u001b[0;34m\u001b[0m\u001b[0m\n\u001b[1;32m    574\u001b[0m     \u001b[0;32mdef\u001b[0m \u001b[0mget\u001b[0m\u001b[0;34m(\u001b[0m\u001b[0mself\u001b[0m\u001b[0;34m)\u001b[0m\u001b[0;34m:\u001b[0m\u001b[0;34m\u001b[0m\u001b[0;34m\u001b[0m\u001b[0m\n",
      "\u001b[0;32m~/opt/anaconda3/envs/learn-env/lib/python3.8/site-packages/joblib/parallel.py\u001b[0m in \u001b[0;36m__call__\u001b[0;34m(self)\u001b[0m\n\u001b[1;32m    260\u001b[0m         \u001b[0;31m# change the default number of processes to -1\u001b[0m\u001b[0;34m\u001b[0m\u001b[0;34m\u001b[0m\u001b[0;34m\u001b[0m\u001b[0m\n\u001b[1;32m    261\u001b[0m         \u001b[0;32mwith\u001b[0m \u001b[0mparallel_backend\u001b[0m\u001b[0;34m(\u001b[0m\u001b[0mself\u001b[0m\u001b[0;34m.\u001b[0m\u001b[0m_backend\u001b[0m\u001b[0;34m,\u001b[0m \u001b[0mn_jobs\u001b[0m\u001b[0;34m=\u001b[0m\u001b[0mself\u001b[0m\u001b[0;34m.\u001b[0m\u001b[0m_n_jobs\u001b[0m\u001b[0;34m)\u001b[0m\u001b[0;34m:\u001b[0m\u001b[0;34m\u001b[0m\u001b[0;34m\u001b[0m\u001b[0m\n\u001b[0;32m--> 262\u001b[0;31m             return [func(*args, **kwargs)\n\u001b[0m\u001b[1;32m    263\u001b[0m                     for func, args, kwargs in self.items]\n\u001b[1;32m    264\u001b[0m \u001b[0;34m\u001b[0m\u001b[0m\n",
      "\u001b[0;32m~/opt/anaconda3/envs/learn-env/lib/python3.8/site-packages/joblib/parallel.py\u001b[0m in \u001b[0;36m<listcomp>\u001b[0;34m(.0)\u001b[0m\n\u001b[1;32m    260\u001b[0m         \u001b[0;31m# change the default number of processes to -1\u001b[0m\u001b[0;34m\u001b[0m\u001b[0;34m\u001b[0m\u001b[0;34m\u001b[0m\u001b[0m\n\u001b[1;32m    261\u001b[0m         \u001b[0;32mwith\u001b[0m \u001b[0mparallel_backend\u001b[0m\u001b[0;34m(\u001b[0m\u001b[0mself\u001b[0m\u001b[0;34m.\u001b[0m\u001b[0m_backend\u001b[0m\u001b[0;34m,\u001b[0m \u001b[0mn_jobs\u001b[0m\u001b[0;34m=\u001b[0m\u001b[0mself\u001b[0m\u001b[0;34m.\u001b[0m\u001b[0m_n_jobs\u001b[0m\u001b[0;34m)\u001b[0m\u001b[0;34m:\u001b[0m\u001b[0;34m\u001b[0m\u001b[0;34m\u001b[0m\u001b[0m\n\u001b[0;32m--> 262\u001b[0;31m             return [func(*args, **kwargs)\n\u001b[0m\u001b[1;32m    263\u001b[0m                     for func, args, kwargs in self.items]\n\u001b[1;32m    264\u001b[0m \u001b[0;34m\u001b[0m\u001b[0m\n",
      "\u001b[0;32m~/opt/anaconda3/envs/learn-env/lib/python3.8/site-packages/sklearn/model_selection/_validation.py\u001b[0m in \u001b[0;36m_fit_and_score\u001b[0;34m(estimator, X, y, scorer, train, test, verbose, parameters, fit_params, return_train_score, return_parameters, return_n_test_samples, return_times, return_estimator, error_score)\u001b[0m\n\u001b[1;32m    529\u001b[0m             \u001b[0mestimator\u001b[0m\u001b[0;34m.\u001b[0m\u001b[0mfit\u001b[0m\u001b[0;34m(\u001b[0m\u001b[0mX_train\u001b[0m\u001b[0;34m,\u001b[0m \u001b[0;34m**\u001b[0m\u001b[0mfit_params\u001b[0m\u001b[0;34m)\u001b[0m\u001b[0;34m\u001b[0m\u001b[0;34m\u001b[0m\u001b[0m\n\u001b[1;32m    530\u001b[0m         \u001b[0;32melse\u001b[0m\u001b[0;34m:\u001b[0m\u001b[0;34m\u001b[0m\u001b[0;34m\u001b[0m\u001b[0m\n\u001b[0;32m--> 531\u001b[0;31m             \u001b[0mestimator\u001b[0m\u001b[0;34m.\u001b[0m\u001b[0mfit\u001b[0m\u001b[0;34m(\u001b[0m\u001b[0mX_train\u001b[0m\u001b[0;34m,\u001b[0m \u001b[0my_train\u001b[0m\u001b[0;34m,\u001b[0m \u001b[0;34m**\u001b[0m\u001b[0mfit_params\u001b[0m\u001b[0;34m)\u001b[0m\u001b[0;34m\u001b[0m\u001b[0;34m\u001b[0m\u001b[0m\n\u001b[0m\u001b[1;32m    532\u001b[0m \u001b[0;34m\u001b[0m\u001b[0m\n\u001b[1;32m    533\u001b[0m     \u001b[0;32mexcept\u001b[0m \u001b[0mException\u001b[0m \u001b[0;32mas\u001b[0m \u001b[0me\u001b[0m\u001b[0;34m:\u001b[0m\u001b[0;34m\u001b[0m\u001b[0;34m\u001b[0m\u001b[0m\n",
      "\u001b[0;32m~/opt/anaconda3/envs/learn-env/lib/python3.8/site-packages/sklearn/ensemble/_forest.py\u001b[0m in \u001b[0;36mfit\u001b[0;34m(self, X, y, sample_weight)\u001b[0m\n\u001b[1;32m    384\u001b[0m             \u001b[0;31m# parallel_backend contexts set at a higher level,\u001b[0m\u001b[0;34m\u001b[0m\u001b[0;34m\u001b[0m\u001b[0;34m\u001b[0m\u001b[0m\n\u001b[1;32m    385\u001b[0m             \u001b[0;31m# since correctness does not rely on using threads.\u001b[0m\u001b[0;34m\u001b[0m\u001b[0;34m\u001b[0m\u001b[0;34m\u001b[0m\u001b[0m\n\u001b[0;32m--> 386\u001b[0;31m             trees = Parallel(n_jobs=self.n_jobs, verbose=self.verbose,\n\u001b[0m\u001b[1;32m    387\u001b[0m                              \u001b[0;34m**\u001b[0m\u001b[0m_joblib_parallel_args\u001b[0m\u001b[0;34m(\u001b[0m\u001b[0mprefer\u001b[0m\u001b[0;34m=\u001b[0m\u001b[0;34m'threads'\u001b[0m\u001b[0;34m)\u001b[0m\u001b[0;34m)\u001b[0m\u001b[0;34m(\u001b[0m\u001b[0;34m\u001b[0m\u001b[0;34m\u001b[0m\u001b[0m\n\u001b[1;32m    388\u001b[0m                 delayed(_parallel_build_trees)(\n",
      "\u001b[0;32m~/opt/anaconda3/envs/learn-env/lib/python3.8/site-packages/joblib/parallel.py\u001b[0m in \u001b[0;36m__call__\u001b[0;34m(self, iterable)\u001b[0m\n\u001b[1;32m   1049\u001b[0m                 \u001b[0mself\u001b[0m\u001b[0;34m.\u001b[0m\u001b[0m_iterating\u001b[0m \u001b[0;34m=\u001b[0m \u001b[0mself\u001b[0m\u001b[0;34m.\u001b[0m\u001b[0m_original_iterator\u001b[0m \u001b[0;32mis\u001b[0m \u001b[0;32mnot\u001b[0m \u001b[0;32mNone\u001b[0m\u001b[0;34m\u001b[0m\u001b[0;34m\u001b[0m\u001b[0m\n\u001b[1;32m   1050\u001b[0m \u001b[0;34m\u001b[0m\u001b[0m\n\u001b[0;32m-> 1051\u001b[0;31m             \u001b[0;32mwhile\u001b[0m \u001b[0mself\u001b[0m\u001b[0;34m.\u001b[0m\u001b[0mdispatch_one_batch\u001b[0m\u001b[0;34m(\u001b[0m\u001b[0miterator\u001b[0m\u001b[0;34m)\u001b[0m\u001b[0;34m:\u001b[0m\u001b[0;34m\u001b[0m\u001b[0;34m\u001b[0m\u001b[0m\n\u001b[0m\u001b[1;32m   1052\u001b[0m                 \u001b[0;32mpass\u001b[0m\u001b[0;34m\u001b[0m\u001b[0;34m\u001b[0m\u001b[0m\n\u001b[1;32m   1053\u001b[0m \u001b[0;34m\u001b[0m\u001b[0m\n",
      "\u001b[0;32m~/opt/anaconda3/envs/learn-env/lib/python3.8/site-packages/joblib/parallel.py\u001b[0m in \u001b[0;36mdispatch_one_batch\u001b[0;34m(self, iterator)\u001b[0m\n\u001b[1;32m    864\u001b[0m                 \u001b[0;32mreturn\u001b[0m \u001b[0;32mFalse\u001b[0m\u001b[0;34m\u001b[0m\u001b[0;34m\u001b[0m\u001b[0m\n\u001b[1;32m    865\u001b[0m             \u001b[0;32melse\u001b[0m\u001b[0;34m:\u001b[0m\u001b[0;34m\u001b[0m\u001b[0;34m\u001b[0m\u001b[0m\n\u001b[0;32m--> 866\u001b[0;31m                 \u001b[0mself\u001b[0m\u001b[0;34m.\u001b[0m\u001b[0m_dispatch\u001b[0m\u001b[0;34m(\u001b[0m\u001b[0mtasks\u001b[0m\u001b[0;34m)\u001b[0m\u001b[0;34m\u001b[0m\u001b[0;34m\u001b[0m\u001b[0m\n\u001b[0m\u001b[1;32m    867\u001b[0m                 \u001b[0;32mreturn\u001b[0m \u001b[0;32mTrue\u001b[0m\u001b[0;34m\u001b[0m\u001b[0;34m\u001b[0m\u001b[0m\n\u001b[1;32m    868\u001b[0m \u001b[0;34m\u001b[0m\u001b[0m\n",
      "\u001b[0;32m~/opt/anaconda3/envs/learn-env/lib/python3.8/site-packages/joblib/parallel.py\u001b[0m in \u001b[0;36m_dispatch\u001b[0;34m(self, batch)\u001b[0m\n\u001b[1;32m    782\u001b[0m         \u001b[0;32mwith\u001b[0m \u001b[0mself\u001b[0m\u001b[0;34m.\u001b[0m\u001b[0m_lock\u001b[0m\u001b[0;34m:\u001b[0m\u001b[0;34m\u001b[0m\u001b[0;34m\u001b[0m\u001b[0m\n\u001b[1;32m    783\u001b[0m             \u001b[0mjob_idx\u001b[0m \u001b[0;34m=\u001b[0m \u001b[0mlen\u001b[0m\u001b[0;34m(\u001b[0m\u001b[0mself\u001b[0m\u001b[0;34m.\u001b[0m\u001b[0m_jobs\u001b[0m\u001b[0;34m)\u001b[0m\u001b[0;34m\u001b[0m\u001b[0;34m\u001b[0m\u001b[0m\n\u001b[0;32m--> 784\u001b[0;31m             \u001b[0mjob\u001b[0m \u001b[0;34m=\u001b[0m \u001b[0mself\u001b[0m\u001b[0;34m.\u001b[0m\u001b[0m_backend\u001b[0m\u001b[0;34m.\u001b[0m\u001b[0mapply_async\u001b[0m\u001b[0;34m(\u001b[0m\u001b[0mbatch\u001b[0m\u001b[0;34m,\u001b[0m \u001b[0mcallback\u001b[0m\u001b[0;34m=\u001b[0m\u001b[0mcb\u001b[0m\u001b[0;34m)\u001b[0m\u001b[0;34m\u001b[0m\u001b[0;34m\u001b[0m\u001b[0m\n\u001b[0m\u001b[1;32m    785\u001b[0m             \u001b[0;31m# A job can complete so quickly than its callback is\u001b[0m\u001b[0;34m\u001b[0m\u001b[0;34m\u001b[0m\u001b[0;34m\u001b[0m\u001b[0m\n\u001b[1;32m    786\u001b[0m             \u001b[0;31m# called before we get here, causing self._jobs to\u001b[0m\u001b[0;34m\u001b[0m\u001b[0;34m\u001b[0m\u001b[0;34m\u001b[0m\u001b[0m\n",
      "\u001b[0;32m~/opt/anaconda3/envs/learn-env/lib/python3.8/site-packages/joblib/_parallel_backends.py\u001b[0m in \u001b[0;36mapply_async\u001b[0;34m(self, func, callback)\u001b[0m\n\u001b[1;32m    206\u001b[0m     \u001b[0;32mdef\u001b[0m \u001b[0mapply_async\u001b[0m\u001b[0;34m(\u001b[0m\u001b[0mself\u001b[0m\u001b[0;34m,\u001b[0m \u001b[0mfunc\u001b[0m\u001b[0;34m,\u001b[0m \u001b[0mcallback\u001b[0m\u001b[0;34m=\u001b[0m\u001b[0;32mNone\u001b[0m\u001b[0;34m)\u001b[0m\u001b[0;34m:\u001b[0m\u001b[0;34m\u001b[0m\u001b[0;34m\u001b[0m\u001b[0m\n\u001b[1;32m    207\u001b[0m         \u001b[0;34m\"\"\"Schedule a func to be run\"\"\"\u001b[0m\u001b[0;34m\u001b[0m\u001b[0;34m\u001b[0m\u001b[0m\n\u001b[0;32m--> 208\u001b[0;31m         \u001b[0mresult\u001b[0m \u001b[0;34m=\u001b[0m \u001b[0mImmediateResult\u001b[0m\u001b[0;34m(\u001b[0m\u001b[0mfunc\u001b[0m\u001b[0;34m)\u001b[0m\u001b[0;34m\u001b[0m\u001b[0;34m\u001b[0m\u001b[0m\n\u001b[0m\u001b[1;32m    209\u001b[0m         \u001b[0;32mif\u001b[0m \u001b[0mcallback\u001b[0m\u001b[0;34m:\u001b[0m\u001b[0;34m\u001b[0m\u001b[0;34m\u001b[0m\u001b[0m\n\u001b[1;32m    210\u001b[0m             \u001b[0mcallback\u001b[0m\u001b[0;34m(\u001b[0m\u001b[0mresult\u001b[0m\u001b[0;34m)\u001b[0m\u001b[0;34m\u001b[0m\u001b[0;34m\u001b[0m\u001b[0m\n",
      "\u001b[0;32m~/opt/anaconda3/envs/learn-env/lib/python3.8/site-packages/joblib/_parallel_backends.py\u001b[0m in \u001b[0;36m__init__\u001b[0;34m(self, batch)\u001b[0m\n\u001b[1;32m    570\u001b[0m         \u001b[0;31m# Don't delay the application, to avoid keeping the input\u001b[0m\u001b[0;34m\u001b[0m\u001b[0;34m\u001b[0m\u001b[0;34m\u001b[0m\u001b[0m\n\u001b[1;32m    571\u001b[0m         \u001b[0;31m# arguments in memory\u001b[0m\u001b[0;34m\u001b[0m\u001b[0;34m\u001b[0m\u001b[0;34m\u001b[0m\u001b[0m\n\u001b[0;32m--> 572\u001b[0;31m         \u001b[0mself\u001b[0m\u001b[0;34m.\u001b[0m\u001b[0mresults\u001b[0m \u001b[0;34m=\u001b[0m \u001b[0mbatch\u001b[0m\u001b[0;34m(\u001b[0m\u001b[0;34m)\u001b[0m\u001b[0;34m\u001b[0m\u001b[0;34m\u001b[0m\u001b[0m\n\u001b[0m\u001b[1;32m    573\u001b[0m \u001b[0;34m\u001b[0m\u001b[0m\n\u001b[1;32m    574\u001b[0m     \u001b[0;32mdef\u001b[0m \u001b[0mget\u001b[0m\u001b[0;34m(\u001b[0m\u001b[0mself\u001b[0m\u001b[0;34m)\u001b[0m\u001b[0;34m:\u001b[0m\u001b[0;34m\u001b[0m\u001b[0;34m\u001b[0m\u001b[0m\n",
      "\u001b[0;32m~/opt/anaconda3/envs/learn-env/lib/python3.8/site-packages/joblib/parallel.py\u001b[0m in \u001b[0;36m__call__\u001b[0;34m(self)\u001b[0m\n\u001b[1;32m    260\u001b[0m         \u001b[0;31m# change the default number of processes to -1\u001b[0m\u001b[0;34m\u001b[0m\u001b[0;34m\u001b[0m\u001b[0;34m\u001b[0m\u001b[0m\n\u001b[1;32m    261\u001b[0m         \u001b[0;32mwith\u001b[0m \u001b[0mparallel_backend\u001b[0m\u001b[0;34m(\u001b[0m\u001b[0mself\u001b[0m\u001b[0;34m.\u001b[0m\u001b[0m_backend\u001b[0m\u001b[0;34m,\u001b[0m \u001b[0mn_jobs\u001b[0m\u001b[0;34m=\u001b[0m\u001b[0mself\u001b[0m\u001b[0;34m.\u001b[0m\u001b[0m_n_jobs\u001b[0m\u001b[0;34m)\u001b[0m\u001b[0;34m:\u001b[0m\u001b[0;34m\u001b[0m\u001b[0;34m\u001b[0m\u001b[0m\n\u001b[0;32m--> 262\u001b[0;31m             return [func(*args, **kwargs)\n\u001b[0m\u001b[1;32m    263\u001b[0m                     for func, args, kwargs in self.items]\n\u001b[1;32m    264\u001b[0m \u001b[0;34m\u001b[0m\u001b[0m\n",
      "\u001b[0;32m~/opt/anaconda3/envs/learn-env/lib/python3.8/site-packages/joblib/parallel.py\u001b[0m in \u001b[0;36m<listcomp>\u001b[0;34m(.0)\u001b[0m\n\u001b[1;32m    260\u001b[0m         \u001b[0;31m# change the default number of processes to -1\u001b[0m\u001b[0;34m\u001b[0m\u001b[0;34m\u001b[0m\u001b[0;34m\u001b[0m\u001b[0m\n\u001b[1;32m    261\u001b[0m         \u001b[0;32mwith\u001b[0m \u001b[0mparallel_backend\u001b[0m\u001b[0;34m(\u001b[0m\u001b[0mself\u001b[0m\u001b[0;34m.\u001b[0m\u001b[0m_backend\u001b[0m\u001b[0;34m,\u001b[0m \u001b[0mn_jobs\u001b[0m\u001b[0;34m=\u001b[0m\u001b[0mself\u001b[0m\u001b[0;34m.\u001b[0m\u001b[0m_n_jobs\u001b[0m\u001b[0;34m)\u001b[0m\u001b[0;34m:\u001b[0m\u001b[0;34m\u001b[0m\u001b[0;34m\u001b[0m\u001b[0m\n\u001b[0;32m--> 262\u001b[0;31m             return [func(*args, **kwargs)\n\u001b[0m\u001b[1;32m    263\u001b[0m                     for func, args, kwargs in self.items]\n\u001b[1;32m    264\u001b[0m \u001b[0;34m\u001b[0m\u001b[0m\n",
      "\u001b[0;32m~/opt/anaconda3/envs/learn-env/lib/python3.8/site-packages/sklearn/ensemble/_forest.py\u001b[0m in \u001b[0;36m_parallel_build_trees\u001b[0;34m(tree, forest, X, y, sample_weight, tree_idx, n_trees, verbose, class_weight, n_samples_bootstrap)\u001b[0m\n\u001b[1;32m    166\u001b[0m                                                         indices=indices)\n\u001b[1;32m    167\u001b[0m \u001b[0;34m\u001b[0m\u001b[0m\n\u001b[0;32m--> 168\u001b[0;31m         \u001b[0mtree\u001b[0m\u001b[0;34m.\u001b[0m\u001b[0mfit\u001b[0m\u001b[0;34m(\u001b[0m\u001b[0mX\u001b[0m\u001b[0;34m,\u001b[0m \u001b[0my\u001b[0m\u001b[0;34m,\u001b[0m \u001b[0msample_weight\u001b[0m\u001b[0;34m=\u001b[0m\u001b[0mcurr_sample_weight\u001b[0m\u001b[0;34m,\u001b[0m \u001b[0mcheck_input\u001b[0m\u001b[0;34m=\u001b[0m\u001b[0;32mFalse\u001b[0m\u001b[0;34m)\u001b[0m\u001b[0;34m\u001b[0m\u001b[0;34m\u001b[0m\u001b[0m\n\u001b[0m\u001b[1;32m    169\u001b[0m     \u001b[0;32melse\u001b[0m\u001b[0;34m:\u001b[0m\u001b[0;34m\u001b[0m\u001b[0;34m\u001b[0m\u001b[0m\n\u001b[1;32m    170\u001b[0m         \u001b[0mtree\u001b[0m\u001b[0;34m.\u001b[0m\u001b[0mfit\u001b[0m\u001b[0;34m(\u001b[0m\u001b[0mX\u001b[0m\u001b[0;34m,\u001b[0m \u001b[0my\u001b[0m\u001b[0;34m,\u001b[0m \u001b[0msample_weight\u001b[0m\u001b[0;34m=\u001b[0m\u001b[0msample_weight\u001b[0m\u001b[0;34m,\u001b[0m \u001b[0mcheck_input\u001b[0m\u001b[0;34m=\u001b[0m\u001b[0;32mFalse\u001b[0m\u001b[0;34m)\u001b[0m\u001b[0;34m\u001b[0m\u001b[0;34m\u001b[0m\u001b[0m\n",
      "\u001b[0;32m~/opt/anaconda3/envs/learn-env/lib/python3.8/site-packages/sklearn/tree/_classes.py\u001b[0m in \u001b[0;36mfit\u001b[0;34m(self, X, y, sample_weight, check_input, X_idx_sorted)\u001b[0m\n\u001b[1;32m    888\u001b[0m         \"\"\"\n\u001b[1;32m    889\u001b[0m \u001b[0;34m\u001b[0m\u001b[0m\n\u001b[0;32m--> 890\u001b[0;31m         super().fit(\n\u001b[0m\u001b[1;32m    891\u001b[0m             \u001b[0mX\u001b[0m\u001b[0;34m,\u001b[0m \u001b[0my\u001b[0m\u001b[0;34m,\u001b[0m\u001b[0;34m\u001b[0m\u001b[0;34m\u001b[0m\u001b[0m\n\u001b[1;32m    892\u001b[0m             \u001b[0msample_weight\u001b[0m\u001b[0;34m=\u001b[0m\u001b[0msample_weight\u001b[0m\u001b[0;34m,\u001b[0m\u001b[0;34m\u001b[0m\u001b[0;34m\u001b[0m\u001b[0m\n",
      "\u001b[0;32m~/opt/anaconda3/envs/learn-env/lib/python3.8/site-packages/sklearn/tree/_classes.py\u001b[0m in \u001b[0;36mfit\u001b[0;34m(self, X, y, sample_weight, check_input, X_idx_sorted)\u001b[0m\n\u001b[1;32m    373\u001b[0m                                            min_impurity_split)\n\u001b[1;32m    374\u001b[0m \u001b[0;34m\u001b[0m\u001b[0m\n\u001b[0;32m--> 375\u001b[0;31m         \u001b[0mbuilder\u001b[0m\u001b[0;34m.\u001b[0m\u001b[0mbuild\u001b[0m\u001b[0;34m(\u001b[0m\u001b[0mself\u001b[0m\u001b[0;34m.\u001b[0m\u001b[0mtree_\u001b[0m\u001b[0;34m,\u001b[0m \u001b[0mX\u001b[0m\u001b[0;34m,\u001b[0m \u001b[0my\u001b[0m\u001b[0;34m,\u001b[0m \u001b[0msample_weight\u001b[0m\u001b[0;34m,\u001b[0m \u001b[0mX_idx_sorted\u001b[0m\u001b[0;34m)\u001b[0m\u001b[0;34m\u001b[0m\u001b[0;34m\u001b[0m\u001b[0m\n\u001b[0m\u001b[1;32m    376\u001b[0m \u001b[0;34m\u001b[0m\u001b[0m\n\u001b[1;32m    377\u001b[0m         \u001b[0;32mif\u001b[0m \u001b[0mself\u001b[0m\u001b[0;34m.\u001b[0m\u001b[0mn_outputs_\u001b[0m \u001b[0;34m==\u001b[0m \u001b[0;36m1\u001b[0m \u001b[0;32mand\u001b[0m \u001b[0mis_classifier\u001b[0m\u001b[0;34m(\u001b[0m\u001b[0mself\u001b[0m\u001b[0;34m)\u001b[0m\u001b[0;34m:\u001b[0m\u001b[0;34m\u001b[0m\u001b[0;34m\u001b[0m\u001b[0m\n",
      "\u001b[0;31mKeyboardInterrupt\u001b[0m: "
     ]
    }
   ],
   "source": [
    "## long run time\n",
    "\n",
    "grid_rfc = GridSearchCV(rfc, param_grid, cv = 5, scoring='recall_macro') \n",
    "# macro or weighted?\n",
    "grid_rfc.fit(X_train_processed, y_train) #17 min execution"
   ]
  },
  {
   "cell_type": "code",
   "execution_count": 119,
   "id": "16ff3ea4",
   "metadata": {
    "ExecuteTime": {
     "end_time": "2022-09-07T17:45:45.588032Z",
     "start_time": "2022-09-07T17:45:45.412294Z"
    }
   },
   "outputs": [
    {
     "data": {
      "text/plain": [
       "{'class_weight': None,\n",
       " 'criterion': 'gini',\n",
       " 'max_depth': 3,\n",
       " 'min_samples_leaf': 5}"
      ]
     },
     "execution_count": 119,
     "metadata": {},
     "output_type": "execute_result"
    }
   ],
   "source": [
    "grid_rfc.best_params_"
   ]
  },
  {
   "cell_type": "code",
   "execution_count": 120,
   "id": "1e3fbf70",
   "metadata": {
    "ExecuteTime": {
     "end_time": "2022-09-07T17:45:59.160951Z",
     "start_time": "2022-09-07T17:45:58.219981Z"
    }
   },
   "outputs": [],
   "source": [
    "y_preds_grid = grid_rfc.predict(X_test)"
   ]
  },
  {
   "cell_type": "code",
   "execution_count": 121,
   "id": "7fb344f2",
   "metadata": {
    "ExecuteTime": {
     "end_time": "2022-09-07T17:46:01.335550Z",
     "start_time": "2022-09-07T17:46:01.030069Z"
    }
   },
   "outputs": [
    {
     "data": {
      "text/plain": [
       "array([[    0,     0,   923],\n",
       "       [    0,     0,   678],\n",
       "       [    0,     0, 10430]])"
      ]
     },
     "metadata": {},
     "output_type": "display_data"
    },
    {
     "name": "stdout",
     "output_type": "stream",
     "text": [
      "              precision    recall  f1-score   support\n",
      "\n",
      "           0       0.00      0.00      0.00       923\n",
      "           1       0.00      0.00      0.00       678\n",
      "           2       0.87      1.00      0.93     10430\n",
      "\n",
      "    accuracy                           0.87     12031\n",
      "   macro avg       0.29      0.33      0.31     12031\n",
      "weighted avg       0.75      0.87      0.81     12031\n",
      "\n"
     ]
    }
   ],
   "source": [
    "display(confusion_matrix(y_test, y_preds_grid))\n",
    "print(classification_report(y_test, y_preds_grid))"
   ]
  },
  {
   "cell_type": "markdown",
   "id": "b4f66e6f",
   "metadata": {},
   "source": [
    "### Tree Models\n"
   ]
  },
  {
   "cell_type": "markdown",
   "id": "9ad7c491",
   "metadata": {},
   "source": [
    "#### Decision Tree Classifier"
   ]
  },
  {
   "cell_type": "code",
   "execution_count": 535,
   "id": "97edcca9",
   "metadata": {
    "ExecuteTime": {
     "end_time": "2022-09-11T17:33:09.433948Z",
     "start_time": "2022-09-11T17:33:09.033190Z"
    }
   },
   "outputs": [
    {
     "name": "stdout",
     "output_type": "stream",
     "text": [
      "Training Recall:  0.7255717255717256\n",
      "Testing Recall:  0.08702064896755163\n",
      "\n",
      "\n",
      "Training F1:  0.8369304556354916\n",
      "Testing F1:  0.100169779286927\n",
      "\n",
      "\n",
      "Training Accuracy:  0.9849274077357864\n",
      "Testing Accuracy:  0.9118942731277533\n",
      "              precision    recall  f1-score   support\n",
      "\n",
      "           0       0.98      1.00      0.99     34168\n",
      "           1       0.99      0.73      0.84      1924\n",
      "\n",
      "    accuracy                           0.98     36092\n",
      "   macro avg       0.99      0.86      0.91     36092\n",
      "weighted avg       0.98      0.98      0.98     36092\n",
      "\n",
      "              precision    recall  f1-score   support\n",
      "\n",
      "           0       0.95      0.96      0.95     11353\n",
      "           1       0.12      0.09      0.10       678\n",
      "\n",
      "    accuracy                           0.91     12031\n",
      "   macro avg       0.53      0.52      0.53     12031\n",
      "weighted avg       0.90      0.91      0.91     12031\n",
      "\n"
     ]
    }
   ],
   "source": [
    "dtc = DecisionTreeClassifier(random_state=42) \n",
    "                             #min_samples_leaf=10, max_depth=5)\n",
    "dtc.fit(X_train_processed, y_train)\n",
    "\n",
    "y_hat_train_dtc = dtc.predict(X_train_processed)\n",
    "y_hat_test_dtc = dtc.predict(X_test_processed)\n",
    "\n",
    "print_scores(y_train, y_hat_train_dtc, y_test, y_hat_test_dtc)\n",
    "print(classification_report(y_train, y_hat_train_dtc))\n",
    "print(classification_report(y_test, y_hat_test_dtc))"
   ]
  },
  {
   "cell_type": "markdown",
   "id": "e8615f78",
   "metadata": {},
   "source": [
    "#### XGBoost"
   ]
  },
  {
   "cell_type": "code",
   "execution_count": 536,
   "id": "01b94a2f",
   "metadata": {
    "ExecuteTime": {
     "end_time": "2022-09-11T17:33:20.454835Z",
     "start_time": "2022-09-11T17:33:15.682062Z"
    }
   },
   "outputs": [
    {
     "name": "stdout",
     "output_type": "stream",
     "text": [
      "              precision    recall  f1-score   support\n",
      "\n",
      "           0       0.95      1.00      0.97     34168\n",
      "           1       0.90      0.04      0.07      1924\n",
      "\n",
      "    accuracy                           0.95     36092\n",
      "   macro avg       0.93      0.52      0.52     36092\n",
      "weighted avg       0.95      0.95      0.93     36092\n",
      "\n",
      "              precision    recall  f1-score   support\n",
      "\n",
      "           0       0.94      1.00      0.97     11353\n",
      "           1       0.08      0.00      0.00       678\n",
      "\n",
      "    accuracy                           0.94     12031\n",
      "   macro avg       0.51      0.50      0.49     12031\n",
      "weighted avg       0.90      0.94      0.92     12031\n",
      "\n"
     ]
    }
   ],
   "source": [
    "clf = XGBClassifier(random_state=42) ## long run time\n",
    "clf.fit(X_train_processed, y_train)\n",
    "\n",
    "y_hat_train_clf = clf.predict(X_train_processed)\n",
    "y_hat_test_clf = clf.predict(X_test_processed)\n",
    "\n",
    "print(classification_report(y_train, y_hat_train_clf))\n",
    "print(classification_report(y_test, y_hat_test_clf))"
   ]
  },
  {
   "cell_type": "code",
   "execution_count": 302,
   "id": "01f9386a",
   "metadata": {
    "ExecuteTime": {
     "end_time": "2022-09-07T21:43:57.945698Z",
     "start_time": "2022-09-07T21:43:56.713709Z"
    }
   },
   "outputs": [
    {
     "name": "stdout",
     "output_type": "stream",
     "text": [
      "              precision    recall  f1-score   support\n",
      "\n",
      "           0       0.46      0.05      0.09       923\n",
      "           1       0.25      0.01      0.02       678\n",
      "           2       0.87      0.99      0.93     10430\n",
      "\n",
      "    accuracy                           0.87     12031\n",
      "   macro avg       0.53      0.35      0.34     12031\n",
      "weighted avg       0.80      0.87      0.81     12031\n",
      "\n"
     ]
    }
   ],
   "source": [
    "#y_hat_test_clf = clf.predict(X_test_processed)\n",
    "#print(classification_report(y_test, y_hat_test_clf))"
   ]
  },
  {
   "cell_type": "code",
   "execution_count": null,
   "id": "003d3ee8",
   "metadata": {},
   "outputs": [],
   "source": [
    "## Can grid search to find ideal weights\n",
    "\n",
    "# making it two dimensional rather than 3 dimensional?\n",
    "# reducing number of categories in city / region? i.e. if less than x companies\n",
    "# in city then include in 'other' category\n",
    "# 5000 columns too many? what's a good guideline for knowing when there are\n",
    "# too many parameters\n",
    "# how much should I be feature engineering?\n",
    "\n",
    "# business problem\n",
    "# private equity company that wants to know when a startup will fail\n",
    "# want to know warning signals if project is going to go badly"
   ]
  },
  {
   "cell_type": "markdown",
   "id": "a15cc55f",
   "metadata": {},
   "source": [
    "#### ExtraTrees"
   ]
  },
  {
   "cell_type": "code",
   "execution_count": 537,
   "id": "5d8757e4",
   "metadata": {
    "ExecuteTime": {
     "end_time": "2022-09-11T17:33:27.555476Z",
     "start_time": "2022-09-11T17:33:26.209132Z"
    }
   },
   "outputs": [
    {
     "name": "stdout",
     "output_type": "stream",
     "text": [
      "              precision    recall  f1-score   support\n",
      "\n",
      "           0       0.96      0.71      0.82     34168\n",
      "           1       0.08      0.48      0.14      1924\n",
      "\n",
      "    accuracy                           0.70     36092\n",
      "   macro avg       0.52      0.59      0.48     36092\n",
      "weighted avg       0.91      0.70      0.78     36092\n",
      "\n",
      "              precision    recall  f1-score   support\n",
      "\n",
      "           0       0.96      0.71      0.82     11353\n",
      "           1       0.09      0.48      0.15       678\n",
      "\n",
      "    accuracy                           0.70     12031\n",
      "   macro avg       0.52      0.60      0.49     12031\n",
      "weighted avg       0.91      0.70      0.78     12031\n",
      "\n"
     ]
    }
   ],
   "source": [
    "from sklearn.ensemble import ExtraTreesClassifier\n",
    "\n",
    "ext = ExtraTreesClassifier(random_state=42, class_weight='balanced', \n",
    "                           min_samples_leaf=10, max_depth=5)\n",
    "ext.fit(X_train_processed, y_train)\n",
    "\n",
    "y_hat_train_ext = ext.predict(X_train_processed)\n",
    "y_hat_test_ext = ext.predict(X_test_processed)\n",
    "\n",
    "print(classification_report(y_train, y_hat_train_ext))\n",
    "print(classification_report(y_test, y_hat_test_ext))"
   ]
  },
  {
   "cell_type": "code",
   "execution_count": 538,
   "id": "ba672f27",
   "metadata": {
    "ExecuteTime": {
     "end_time": "2022-09-11T17:35:59.268769Z",
     "start_time": "2022-09-11T17:35:58.851520Z"
    },
    "scrolled": true
   },
   "outputs": [
    {
     "data": {
      "image/png": "[encoded data removed]",
      "text/plain": [
       "<Figure size 720x504 with 1 Axes>"
      ]
     },
     "metadata": {
      "needs_background": "light"
     },
     "output_type": "display_data"
    }
   ],
   "source": [
    "## Feature Selection\n",
    "\n",
    "feats = {} # a dict to hold feature_name: feature_importance\n",
    "for feature, importance in zip(X_train_processed.columns, ext.feature_importances_):\n",
    "    feats[feature] = importance #add the name/value pair \n",
    "\n",
    "#importances = pd.DataFrame.from_dict(feats, orient='index').rename(columns={0: 'Gini-importance'})\n",
    "#importances.sort_values(by='Gini-importance').plot(kind='bar', rot=45)\n",
    "    \n",
    "feats_df = pd.DataFrame(feats.items())\n",
    "\n",
    "feats_df.columns = ['col', 'feat_importance']\n",
    "feats_df = feats_df.sort_values(by=['feat_importance'], ascending=False)\n",
    "feats_df_20 = feats_df[:20]\n",
    "feats_df_30 = feats_df[:30]\n",
    "\n",
    "fig, ax = plt.subplots(figsize = (10,7))\n",
    "feats_df_30.plot.bar(ax=ax) # yerr=std, \n",
    "ax.set_title(\"Feature importances using MDI\")\n",
    "ax.set_ylabel(\"Mean decrease in impurity\")\n",
    "ax.set_xticklabels(feats_df_30['col'])\n",
    "fig.tight_layout()"
   ]
  },
  {
   "cell_type": "code",
   "execution_count": 299,
   "id": "947c23da",
   "metadata": {
    "ExecuteTime": {
     "end_time": "2022-09-08T23:26:12.492352Z",
     "start_time": "2022-09-08T23:26:12.488815Z"
    }
   },
   "outputs": [],
   "source": [
    "param_grid = {'criterion':['gini','entropy','log_loss'],\n",
    "              'max_depth':[3,8,12],\n",
    "              'min_samples_leaf': [5,10,15],\n",
    "              'class_weight': [None, 'balanced']\n",
    "             }"
   ]
  },
  {
   "cell_type": "code",
   "execution_count": 300,
   "id": "83d454a9",
   "metadata": {
    "ExecuteTime": {
     "end_time": "2022-09-08T23:26:23.245083Z",
     "start_time": "2022-09-08T23:26:13.584918Z"
    }
   },
   "outputs": [
    {
     "data": {
      "text/plain": [
       "ExtraTreesClassifier(random_state=42)"
      ]
     },
     "execution_count": 300,
     "metadata": {},
     "output_type": "execute_result"
    }
   ],
   "source": [
    "ext = ExtraTreesClassifier(random_state=42)\n",
    "ext.fit(X_train_processed, y_train)"
   ]
  },
  {
   "cell_type": "code",
   "execution_count": 301,
   "id": "95fb2556",
   "metadata": {
    "ExecuteTime": {
     "end_time": "2022-09-08T23:31:11.062799Z",
     "start_time": "2022-09-08T23:26:41.833034Z"
    }
   },
   "outputs": [],
   "source": [
    "grid_ext = GridSearchCV(ext, param_grid, cv = 5, scoring='recall') \n",
    "grid_ext.fit(X_train_processed, y_train)\n",
    "y_hat_train_gext = grid_ext.predict(X_train_processed)\n",
    "y_hat_test_gext = grid_ext.predict(X_test_processed)\n",
    "\n",
    "# 4 min execution not bad"
   ]
  },
  {
   "cell_type": "code",
   "execution_count": 304,
   "id": "8861a7c4",
   "metadata": {
    "ExecuteTime": {
     "end_time": "2022-09-08T23:40:03.312076Z",
     "start_time": "2022-09-08T23:40:03.299742Z"
    }
   },
   "outputs": [
    {
     "data": {
      "text/plain": [
       "ExtraTreesClassifier(class_weight='balanced', criterion='entropy', max_depth=3,\n",
       "                     min_samples_leaf=15, random_state=42)"
      ]
     },
     "execution_count": 304,
     "metadata": {},
     "output_type": "execute_result"
    }
   ],
   "source": [
    "grid_ext.best_estimator_"
   ]
  },
  {
   "cell_type": "code",
   "execution_count": null,
   "id": "0b8069bf",
   "metadata": {},
   "outputs": [],
   "source": [
    "grid_ext.feature_im"
   ]
  },
  {
   "cell_type": "code",
   "execution_count": 302,
   "id": "3f1de717",
   "metadata": {
    "ExecuteTime": {
     "end_time": "2022-09-08T23:32:44.658207Z",
     "start_time": "2022-09-08T23:32:44.606922Z"
    }
   },
   "outputs": [
    {
     "name": "stdout",
     "output_type": "stream",
     "text": [
      "Training Recall:  0.6081081081081081\n",
      "Testing Recall:  0.6091445427728613\n",
      "\n",
      "\n",
      "Training F1:  0.14148376564483947\n",
      "Testing F1:  0.14755269739192567\n",
      "\n",
      "\n",
      "Training Accuracy:  0.6065887177213787\n",
      "Testing Accuracy:  0.6033579918543762\n"
     ]
    }
   ],
   "source": [
    "print_scores(y_train, y_hat_train_gext, y_test, y_hat_test_gext)"
   ]
  },
  {
   "cell_type": "markdown",
   "id": "e16df7aa",
   "metadata": {},
   "source": [
    "## Feature Selection"
   ]
  },
  {
   "cell_type": "code",
   "execution_count": 311,
   "id": "72f4e012",
   "metadata": {
    "ExecuteTime": {
     "end_time": "2022-09-09T16:58:19.402266Z",
     "start_time": "2022-09-09T16:58:19.355119Z"
    }
   },
   "outputs": [
    {
     "name": "stdout",
     "output_type": "stream",
     "text": [
      "The best features are:['market_Advertising', 'market_Biotechnology', 'market_Curated Web', 'market_Games', 'market_Manufacturing', 'market_Messaging', 'market_Music', 'market_Search', 'market_Social Media', 'market_na', 'region_na', 'founded_quarter_Q1', 'founded_quarter_Q3', 'funding_rounds', 'had_round_C', 'had_round_D', 'had_crowdfunding', 'had_angel', 'had_pe', 'had_eq_crowdfunding']\n"
     ]
    }
   ],
   "source": [
    "from sklearn.feature_selection import SelectKBest, chi2\n",
    "\n",
    "X_5_best= SelectKBest(chi2, k=20).fit(X_train_scaled, y_train)\n",
    "mask = X_5_best.get_support() #list of booleans for selected features\n",
    "new_feat = [] \n",
    "for bool, feature in zip(mask, X_train_scaled.columns):\n",
    "    if bool:\n",
    "        new_feat.append(feature)\n",
    "print('The best features are:{}'.format(new_feat)) # The list of your 5 best features"
   ]
  },
  {
   "cell_type": "code",
   "execution_count": 308,
   "id": "4903c9a5",
   "metadata": {
    "ExecuteTime": {
     "end_time": "2022-09-09T16:56:57.005572Z",
     "start_time": "2022-09-09T16:50:55.093706Z"
    }
   },
   "outputs": [
    {
     "ename": "KeyboardInterrupt",
     "evalue": "",
     "output_type": "error",
     "traceback": [
      "\u001b[0;31m---------------------------------------------------------------------------\u001b[0m",
      "\u001b[0;31mKeyboardInterrupt\u001b[0m                         Traceback (most recent call last)",
      "\u001b[0;32m<ipython-input-308-115811513caa>\u001b[0m in \u001b[0;36m<module>\u001b[0;34m\u001b[0m\n\u001b[1;32m      2\u001b[0m \u001b[0mestimator\u001b[0m \u001b[0;34m=\u001b[0m \u001b[0mlogreg3\u001b[0m\u001b[0;34m\u001b[0m\u001b[0;34m\u001b[0m\u001b[0m\n\u001b[1;32m      3\u001b[0m \u001b[0mselector\u001b[0m \u001b[0;34m=\u001b[0m \u001b[0mRFE\u001b[0m\u001b[0;34m(\u001b[0m\u001b[0mestimator\u001b[0m\u001b[0;34m,\u001b[0m \u001b[0;36m5\u001b[0m\u001b[0;34m,\u001b[0m \u001b[0mstep\u001b[0m\u001b[0;34m=\u001b[0m\u001b[0;36m1\u001b[0m\u001b[0;34m)\u001b[0m\u001b[0;34m\u001b[0m\u001b[0;34m\u001b[0m\u001b[0m\n\u001b[0;32m----> 4\u001b[0;31m \u001b[0mselector\u001b[0m \u001b[0;34m=\u001b[0m \u001b[0mselector\u001b[0m\u001b[0;34m.\u001b[0m\u001b[0mfit\u001b[0m\u001b[0;34m(\u001b[0m\u001b[0mX_train_scaled\u001b[0m\u001b[0;34m,\u001b[0m \u001b[0my_train\u001b[0m\u001b[0;34m)\u001b[0m\u001b[0;34m\u001b[0m\u001b[0;34m\u001b[0m\u001b[0m\n\u001b[0m\u001b[1;32m      5\u001b[0m \u001b[0mrfe_mask\u001b[0m \u001b[0;34m=\u001b[0m \u001b[0mselector\u001b[0m\u001b[0;34m.\u001b[0m\u001b[0mget_support\u001b[0m\u001b[0;34m(\u001b[0m\u001b[0;34m)\u001b[0m \u001b[0;31m#list of booleans for selected features\u001b[0m\u001b[0;34m\u001b[0m\u001b[0;34m\u001b[0m\u001b[0m\n\u001b[1;32m      6\u001b[0m \u001b[0;34m\u001b[0m\u001b[0m\n",
      "\u001b[0;32m~/opt/anaconda3/envs/learn-env/lib/python3.8/site-packages/sklearn/feature_selection/_rfe.py\u001b[0m in \u001b[0;36mfit\u001b[0;34m(self, X, y)\u001b[0m\n\u001b[1;32m    149\u001b[0m             \u001b[0mThe\u001b[0m \u001b[0mtarget\u001b[0m \u001b[0mvalues\u001b[0m\u001b[0;34m.\u001b[0m\u001b[0;34m\u001b[0m\u001b[0;34m\u001b[0m\u001b[0m\n\u001b[1;32m    150\u001b[0m         \"\"\"\n\u001b[0;32m--> 151\u001b[0;31m         \u001b[0;32mreturn\u001b[0m \u001b[0mself\u001b[0m\u001b[0;34m.\u001b[0m\u001b[0m_fit\u001b[0m\u001b[0;34m(\u001b[0m\u001b[0mX\u001b[0m\u001b[0;34m,\u001b[0m \u001b[0my\u001b[0m\u001b[0;34m)\u001b[0m\u001b[0;34m\u001b[0m\u001b[0;34m\u001b[0m\u001b[0m\n\u001b[0m\u001b[1;32m    152\u001b[0m \u001b[0;34m\u001b[0m\u001b[0m\n\u001b[1;32m    153\u001b[0m     \u001b[0;32mdef\u001b[0m \u001b[0m_fit\u001b[0m\u001b[0;34m(\u001b[0m\u001b[0mself\u001b[0m\u001b[0;34m,\u001b[0m \u001b[0mX\u001b[0m\u001b[0;34m,\u001b[0m \u001b[0my\u001b[0m\u001b[0;34m,\u001b[0m \u001b[0mstep_score\u001b[0m\u001b[0;34m=\u001b[0m\u001b[0;32mNone\u001b[0m\u001b[0;34m)\u001b[0m\u001b[0;34m:\u001b[0m\u001b[0;34m\u001b[0m\u001b[0;34m\u001b[0m\u001b[0m\n",
      "\u001b[0;32m~/opt/anaconda3/envs/learn-env/lib/python3.8/site-packages/sklearn/feature_selection/_rfe.py\u001b[0m in \u001b[0;36m_fit\u001b[0;34m(self, X, y, step_score)\u001b[0m\n\u001b[1;32m    194\u001b[0m                 \u001b[0mprint\u001b[0m\u001b[0;34m(\u001b[0m\u001b[0;34m\"Fitting estimator with %d features.\"\u001b[0m \u001b[0;34m%\u001b[0m \u001b[0mnp\u001b[0m\u001b[0;34m.\u001b[0m\u001b[0msum\u001b[0m\u001b[0;34m(\u001b[0m\u001b[0msupport_\u001b[0m\u001b[0;34m)\u001b[0m\u001b[0;34m)\u001b[0m\u001b[0;34m\u001b[0m\u001b[0;34m\u001b[0m\u001b[0m\n\u001b[1;32m    195\u001b[0m \u001b[0;34m\u001b[0m\u001b[0m\n\u001b[0;32m--> 196\u001b[0;31m             \u001b[0mestimator\u001b[0m\u001b[0;34m.\u001b[0m\u001b[0mfit\u001b[0m\u001b[0;34m(\u001b[0m\u001b[0mX\u001b[0m\u001b[0;34m[\u001b[0m\u001b[0;34m:\u001b[0m\u001b[0;34m,\u001b[0m \u001b[0mfeatures\u001b[0m\u001b[0;34m]\u001b[0m\u001b[0;34m,\u001b[0m \u001b[0my\u001b[0m\u001b[0;34m)\u001b[0m\u001b[0;34m\u001b[0m\u001b[0;34m\u001b[0m\u001b[0m\n\u001b[0m\u001b[1;32m    197\u001b[0m \u001b[0;34m\u001b[0m\u001b[0m\n\u001b[1;32m    198\u001b[0m             \u001b[0;31m# Get coefs\u001b[0m\u001b[0;34m\u001b[0m\u001b[0;34m\u001b[0m\u001b[0;34m\u001b[0m\u001b[0m\n",
      "\u001b[0;32m~/opt/anaconda3/envs/learn-env/lib/python3.8/site-packages/sklearn/linear_model/_logistic.py\u001b[0m in \u001b[0;36mfit\u001b[0;34m(self, X, y, sample_weight)\u001b[0m\n\u001b[1;32m   1405\u001b[0m         \u001b[0;32melse\u001b[0m\u001b[0;34m:\u001b[0m\u001b[0;34m\u001b[0m\u001b[0;34m\u001b[0m\u001b[0m\n\u001b[1;32m   1406\u001b[0m             \u001b[0mprefer\u001b[0m \u001b[0;34m=\u001b[0m \u001b[0;34m'processes'\u001b[0m\u001b[0;34m\u001b[0m\u001b[0;34m\u001b[0m\u001b[0m\n\u001b[0;32m-> 1407\u001b[0;31m         fold_coefs_ = Parallel(n_jobs=self.n_jobs, verbose=self.verbose,\n\u001b[0m\u001b[1;32m   1408\u001b[0m                                \u001b[0;34m**\u001b[0m\u001b[0m_joblib_parallel_args\u001b[0m\u001b[0;34m(\u001b[0m\u001b[0mprefer\u001b[0m\u001b[0;34m=\u001b[0m\u001b[0mprefer\u001b[0m\u001b[0;34m)\u001b[0m\u001b[0;34m)\u001b[0m\u001b[0;34m(\u001b[0m\u001b[0;34m\u001b[0m\u001b[0;34m\u001b[0m\u001b[0m\n\u001b[1;32m   1409\u001b[0m             path_func(X, y, pos_class=class_, Cs=[C_],\n",
      "\u001b[0;32m~/opt/anaconda3/envs/learn-env/lib/python3.8/site-packages/joblib/parallel.py\u001b[0m in \u001b[0;36m__call__\u001b[0;34m(self, iterable)\u001b[0m\n\u001b[1;32m   1046\u001b[0m             \u001b[0;31m# remaining jobs.\u001b[0m\u001b[0;34m\u001b[0m\u001b[0;34m\u001b[0m\u001b[0;34m\u001b[0m\u001b[0m\n\u001b[1;32m   1047\u001b[0m             \u001b[0mself\u001b[0m\u001b[0;34m.\u001b[0m\u001b[0m_iterating\u001b[0m \u001b[0;34m=\u001b[0m \u001b[0;32mFalse\u001b[0m\u001b[0;34m\u001b[0m\u001b[0;34m\u001b[0m\u001b[0m\n\u001b[0;32m-> 1048\u001b[0;31m             \u001b[0;32mif\u001b[0m \u001b[0mself\u001b[0m\u001b[0;34m.\u001b[0m\u001b[0mdispatch_one_batch\u001b[0m\u001b[0;34m(\u001b[0m\u001b[0miterator\u001b[0m\u001b[0;34m)\u001b[0m\u001b[0;34m:\u001b[0m\u001b[0;34m\u001b[0m\u001b[0;34m\u001b[0m\u001b[0m\n\u001b[0m\u001b[1;32m   1049\u001b[0m                 \u001b[0mself\u001b[0m\u001b[0;34m.\u001b[0m\u001b[0m_iterating\u001b[0m \u001b[0;34m=\u001b[0m \u001b[0mself\u001b[0m\u001b[0;34m.\u001b[0m\u001b[0m_original_iterator\u001b[0m \u001b[0;32mis\u001b[0m \u001b[0;32mnot\u001b[0m \u001b[0;32mNone\u001b[0m\u001b[0;34m\u001b[0m\u001b[0;34m\u001b[0m\u001b[0m\n\u001b[1;32m   1050\u001b[0m \u001b[0;34m\u001b[0m\u001b[0m\n",
      "\u001b[0;32m~/opt/anaconda3/envs/learn-env/lib/python3.8/site-packages/joblib/parallel.py\u001b[0m in \u001b[0;36mdispatch_one_batch\u001b[0;34m(self, iterator)\u001b[0m\n\u001b[1;32m    864\u001b[0m                 \u001b[0;32mreturn\u001b[0m \u001b[0;32mFalse\u001b[0m\u001b[0;34m\u001b[0m\u001b[0;34m\u001b[0m\u001b[0m\n\u001b[1;32m    865\u001b[0m             \u001b[0;32melse\u001b[0m\u001b[0;34m:\u001b[0m\u001b[0;34m\u001b[0m\u001b[0;34m\u001b[0m\u001b[0m\n\u001b[0;32m--> 866\u001b[0;31m                 \u001b[0mself\u001b[0m\u001b[0;34m.\u001b[0m\u001b[0m_dispatch\u001b[0m\u001b[0;34m(\u001b[0m\u001b[0mtasks\u001b[0m\u001b[0;34m)\u001b[0m\u001b[0;34m\u001b[0m\u001b[0;34m\u001b[0m\u001b[0m\n\u001b[0m\u001b[1;32m    867\u001b[0m                 \u001b[0;32mreturn\u001b[0m \u001b[0;32mTrue\u001b[0m\u001b[0;34m\u001b[0m\u001b[0;34m\u001b[0m\u001b[0m\n\u001b[1;32m    868\u001b[0m \u001b[0;34m\u001b[0m\u001b[0m\n",
      "\u001b[0;32m~/opt/anaconda3/envs/learn-env/lib/python3.8/site-packages/joblib/parallel.py\u001b[0m in \u001b[0;36m_dispatch\u001b[0;34m(self, batch)\u001b[0m\n\u001b[1;32m    782\u001b[0m         \u001b[0;32mwith\u001b[0m \u001b[0mself\u001b[0m\u001b[0;34m.\u001b[0m\u001b[0m_lock\u001b[0m\u001b[0;34m:\u001b[0m\u001b[0;34m\u001b[0m\u001b[0;34m\u001b[0m\u001b[0m\n\u001b[1;32m    783\u001b[0m             \u001b[0mjob_idx\u001b[0m \u001b[0;34m=\u001b[0m \u001b[0mlen\u001b[0m\u001b[0;34m(\u001b[0m\u001b[0mself\u001b[0m\u001b[0;34m.\u001b[0m\u001b[0m_jobs\u001b[0m\u001b[0;34m)\u001b[0m\u001b[0;34m\u001b[0m\u001b[0;34m\u001b[0m\u001b[0m\n\u001b[0;32m--> 784\u001b[0;31m             \u001b[0mjob\u001b[0m \u001b[0;34m=\u001b[0m \u001b[0mself\u001b[0m\u001b[0;34m.\u001b[0m\u001b[0m_backend\u001b[0m\u001b[0;34m.\u001b[0m\u001b[0mapply_async\u001b[0m\u001b[0;34m(\u001b[0m\u001b[0mbatch\u001b[0m\u001b[0;34m,\u001b[0m \u001b[0mcallback\u001b[0m\u001b[0;34m=\u001b[0m\u001b[0mcb\u001b[0m\u001b[0;34m)\u001b[0m\u001b[0;34m\u001b[0m\u001b[0;34m\u001b[0m\u001b[0m\n\u001b[0m\u001b[1;32m    785\u001b[0m             \u001b[0;31m# A job can complete so quickly than its callback is\u001b[0m\u001b[0;34m\u001b[0m\u001b[0;34m\u001b[0m\u001b[0;34m\u001b[0m\u001b[0m\n\u001b[1;32m    786\u001b[0m             \u001b[0;31m# called before we get here, causing self._jobs to\u001b[0m\u001b[0;34m\u001b[0m\u001b[0;34m\u001b[0m\u001b[0;34m\u001b[0m\u001b[0m\n",
      "\u001b[0;32m~/opt/anaconda3/envs/learn-env/lib/python3.8/site-packages/joblib/_parallel_backends.py\u001b[0m in \u001b[0;36mapply_async\u001b[0;34m(self, func, callback)\u001b[0m\n\u001b[1;32m    206\u001b[0m     \u001b[0;32mdef\u001b[0m \u001b[0mapply_async\u001b[0m\u001b[0;34m(\u001b[0m\u001b[0mself\u001b[0m\u001b[0;34m,\u001b[0m \u001b[0mfunc\u001b[0m\u001b[0;34m,\u001b[0m \u001b[0mcallback\u001b[0m\u001b[0;34m=\u001b[0m\u001b[0;32mNone\u001b[0m\u001b[0;34m)\u001b[0m\u001b[0;34m:\u001b[0m\u001b[0;34m\u001b[0m\u001b[0;34m\u001b[0m\u001b[0m\n\u001b[1;32m    207\u001b[0m         \u001b[0;34m\"\"\"Schedule a func to be run\"\"\"\u001b[0m\u001b[0;34m\u001b[0m\u001b[0;34m\u001b[0m\u001b[0m\n\u001b[0;32m--> 208\u001b[0;31m         \u001b[0mresult\u001b[0m \u001b[0;34m=\u001b[0m \u001b[0mImmediateResult\u001b[0m\u001b[0;34m(\u001b[0m\u001b[0mfunc\u001b[0m\u001b[0;34m)\u001b[0m\u001b[0;34m\u001b[0m\u001b[0;34m\u001b[0m\u001b[0m\n\u001b[0m\u001b[1;32m    209\u001b[0m         \u001b[0;32mif\u001b[0m \u001b[0mcallback\u001b[0m\u001b[0;34m:\u001b[0m\u001b[0;34m\u001b[0m\u001b[0;34m\u001b[0m\u001b[0m\n\u001b[1;32m    210\u001b[0m             \u001b[0mcallback\u001b[0m\u001b[0;34m(\u001b[0m\u001b[0mresult\u001b[0m\u001b[0;34m)\u001b[0m\u001b[0;34m\u001b[0m\u001b[0;34m\u001b[0m\u001b[0m\n",
      "\u001b[0;32m~/opt/anaconda3/envs/learn-env/lib/python3.8/site-packages/joblib/_parallel_backends.py\u001b[0m in \u001b[0;36m__init__\u001b[0;34m(self, batch)\u001b[0m\n\u001b[1;32m    570\u001b[0m         \u001b[0;31m# Don't delay the application, to avoid keeping the input\u001b[0m\u001b[0;34m\u001b[0m\u001b[0;34m\u001b[0m\u001b[0;34m\u001b[0m\u001b[0m\n\u001b[1;32m    571\u001b[0m         \u001b[0;31m# arguments in memory\u001b[0m\u001b[0;34m\u001b[0m\u001b[0;34m\u001b[0m\u001b[0;34m\u001b[0m\u001b[0m\n\u001b[0;32m--> 572\u001b[0;31m         \u001b[0mself\u001b[0m\u001b[0;34m.\u001b[0m\u001b[0mresults\u001b[0m \u001b[0;34m=\u001b[0m \u001b[0mbatch\u001b[0m\u001b[0;34m(\u001b[0m\u001b[0;34m)\u001b[0m\u001b[0;34m\u001b[0m\u001b[0;34m\u001b[0m\u001b[0m\n\u001b[0m\u001b[1;32m    573\u001b[0m \u001b[0;34m\u001b[0m\u001b[0m\n\u001b[1;32m    574\u001b[0m     \u001b[0;32mdef\u001b[0m \u001b[0mget\u001b[0m\u001b[0;34m(\u001b[0m\u001b[0mself\u001b[0m\u001b[0;34m)\u001b[0m\u001b[0;34m:\u001b[0m\u001b[0;34m\u001b[0m\u001b[0;34m\u001b[0m\u001b[0m\n",
      "\u001b[0;32m~/opt/anaconda3/envs/learn-env/lib/python3.8/site-packages/joblib/parallel.py\u001b[0m in \u001b[0;36m__call__\u001b[0;34m(self)\u001b[0m\n\u001b[1;32m    260\u001b[0m         \u001b[0;31m# change the default number of processes to -1\u001b[0m\u001b[0;34m\u001b[0m\u001b[0;34m\u001b[0m\u001b[0;34m\u001b[0m\u001b[0m\n\u001b[1;32m    261\u001b[0m         \u001b[0;32mwith\u001b[0m \u001b[0mparallel_backend\u001b[0m\u001b[0;34m(\u001b[0m\u001b[0mself\u001b[0m\u001b[0;34m.\u001b[0m\u001b[0m_backend\u001b[0m\u001b[0;34m,\u001b[0m \u001b[0mn_jobs\u001b[0m\u001b[0;34m=\u001b[0m\u001b[0mself\u001b[0m\u001b[0;34m.\u001b[0m\u001b[0m_n_jobs\u001b[0m\u001b[0;34m)\u001b[0m\u001b[0;34m:\u001b[0m\u001b[0;34m\u001b[0m\u001b[0;34m\u001b[0m\u001b[0m\n\u001b[0;32m--> 262\u001b[0;31m             return [func(*args, **kwargs)\n\u001b[0m\u001b[1;32m    263\u001b[0m                     for func, args, kwargs in self.items]\n\u001b[1;32m    264\u001b[0m \u001b[0;34m\u001b[0m\u001b[0m\n",
      "\u001b[0;32m~/opt/anaconda3/envs/learn-env/lib/python3.8/site-packages/joblib/parallel.py\u001b[0m in \u001b[0;36m<listcomp>\u001b[0;34m(.0)\u001b[0m\n\u001b[1;32m    260\u001b[0m         \u001b[0;31m# change the default number of processes to -1\u001b[0m\u001b[0;34m\u001b[0m\u001b[0;34m\u001b[0m\u001b[0;34m\u001b[0m\u001b[0m\n\u001b[1;32m    261\u001b[0m         \u001b[0;32mwith\u001b[0m \u001b[0mparallel_backend\u001b[0m\u001b[0;34m(\u001b[0m\u001b[0mself\u001b[0m\u001b[0;34m.\u001b[0m\u001b[0m_backend\u001b[0m\u001b[0;34m,\u001b[0m \u001b[0mn_jobs\u001b[0m\u001b[0;34m=\u001b[0m\u001b[0mself\u001b[0m\u001b[0;34m.\u001b[0m\u001b[0m_n_jobs\u001b[0m\u001b[0;34m)\u001b[0m\u001b[0;34m:\u001b[0m\u001b[0;34m\u001b[0m\u001b[0;34m\u001b[0m\u001b[0m\n\u001b[0;32m--> 262\u001b[0;31m             return [func(*args, **kwargs)\n\u001b[0m\u001b[1;32m    263\u001b[0m                     for func, args, kwargs in self.items]\n\u001b[1;32m    264\u001b[0m \u001b[0;34m\u001b[0m\u001b[0m\n",
      "\u001b[0;32m~/opt/anaconda3/envs/learn-env/lib/python3.8/site-packages/sklearn/linear_model/_logistic.py\u001b[0m in \u001b[0;36m_logistic_regression_path\u001b[0;34m(X, y, pos_class, Cs, fit_intercept, max_iter, tol, verbose, solver, coef, class_weight, dual, penalty, intercept_scaling, multi_class, random_state, check_input, max_squared_sum, sample_weight, l1_ratio)\u001b[0m\n\u001b[1;32m    766\u001b[0m         \u001b[0;32melif\u001b[0m \u001b[0msolver\u001b[0m \u001b[0;34m==\u001b[0m \u001b[0;34m'newton-cg'\u001b[0m\u001b[0;34m:\u001b[0m\u001b[0;34m\u001b[0m\u001b[0;34m\u001b[0m\u001b[0m\n\u001b[1;32m    767\u001b[0m             \u001b[0margs\u001b[0m \u001b[0;34m=\u001b[0m \u001b[0;34m(\u001b[0m\u001b[0mX\u001b[0m\u001b[0;34m,\u001b[0m \u001b[0mtarget\u001b[0m\u001b[0;34m,\u001b[0m \u001b[0;36m1.\u001b[0m \u001b[0;34m/\u001b[0m \u001b[0mC\u001b[0m\u001b[0;34m,\u001b[0m \u001b[0msample_weight\u001b[0m\u001b[0;34m)\u001b[0m\u001b[0;34m\u001b[0m\u001b[0;34m\u001b[0m\u001b[0m\n\u001b[0;32m--> 768\u001b[0;31m             w0, n_iter_i = _newton_cg(hess, func, grad, w0, args=args,\n\u001b[0m\u001b[1;32m    769\u001b[0m                                       maxiter=max_iter, tol=tol)\n\u001b[1;32m    770\u001b[0m         \u001b[0;32melif\u001b[0m \u001b[0msolver\u001b[0m \u001b[0;34m==\u001b[0m \u001b[0;34m'liblinear'\u001b[0m\u001b[0;34m:\u001b[0m\u001b[0;34m\u001b[0m\u001b[0;34m\u001b[0m\u001b[0m\n",
      "\u001b[0;32m~/opt/anaconda3/envs/learn-env/lib/python3.8/site-packages/sklearn/utils/optimize.py\u001b[0m in \u001b[0;36m_newton_cg\u001b[0;34m(grad_hess, func, grad, x0, args, tol, maxiter, maxinner, line_search, warn)\u001b[0m\n\u001b[1;32m    192\u001b[0m         \u001b[0;31m# Inner loop: solve the Newton update by conjugate gradient, to\u001b[0m\u001b[0;34m\u001b[0m\u001b[0;34m\u001b[0m\u001b[0;34m\u001b[0m\u001b[0m\n\u001b[1;32m    193\u001b[0m         \u001b[0;31m# avoid inverting the Hessian\u001b[0m\u001b[0;34m\u001b[0m\u001b[0;34m\u001b[0m\u001b[0;34m\u001b[0m\u001b[0m\n\u001b[0;32m--> 194\u001b[0;31m         \u001b[0mxsupi\u001b[0m \u001b[0;34m=\u001b[0m \u001b[0m_cg\u001b[0m\u001b[0;34m(\u001b[0m\u001b[0mfhess_p\u001b[0m\u001b[0;34m,\u001b[0m \u001b[0mfgrad\u001b[0m\u001b[0;34m,\u001b[0m \u001b[0mmaxiter\u001b[0m\u001b[0;34m=\u001b[0m\u001b[0mmaxinner\u001b[0m\u001b[0;34m,\u001b[0m \u001b[0mtol\u001b[0m\u001b[0;34m=\u001b[0m\u001b[0mtermcond\u001b[0m\u001b[0;34m)\u001b[0m\u001b[0;34m\u001b[0m\u001b[0;34m\u001b[0m\u001b[0m\n\u001b[0m\u001b[1;32m    195\u001b[0m \u001b[0;34m\u001b[0m\u001b[0m\n\u001b[1;32m    196\u001b[0m         \u001b[0malphak\u001b[0m \u001b[0;34m=\u001b[0m \u001b[0;36m1.0\u001b[0m\u001b[0;34m\u001b[0m\u001b[0;34m\u001b[0m\u001b[0m\n",
      "\u001b[0;32m~/opt/anaconda3/envs/learn-env/lib/python3.8/site-packages/sklearn/utils/optimize.py\u001b[0m in \u001b[0;36m_cg\u001b[0;34m(fhess_p, fgrad, maxiter, tol)\u001b[0m\n\u001b[1;32m     89\u001b[0m             \u001b[0;32mbreak\u001b[0m\u001b[0;34m\u001b[0m\u001b[0;34m\u001b[0m\u001b[0m\n\u001b[1;32m     90\u001b[0m \u001b[0;34m\u001b[0m\u001b[0m\n\u001b[0;32m---> 91\u001b[0;31m         \u001b[0mAp\u001b[0m \u001b[0;34m=\u001b[0m \u001b[0mfhess_p\u001b[0m\u001b[0;34m(\u001b[0m\u001b[0mpsupi\u001b[0m\u001b[0;34m)\u001b[0m\u001b[0;34m\u001b[0m\u001b[0;34m\u001b[0m\u001b[0m\n\u001b[0m\u001b[1;32m     92\u001b[0m         \u001b[0;31m# check curvature\u001b[0m\u001b[0;34m\u001b[0m\u001b[0;34m\u001b[0m\u001b[0;34m\u001b[0m\u001b[0m\n\u001b[1;32m     93\u001b[0m         \u001b[0mcurv\u001b[0m \u001b[0;34m=\u001b[0m \u001b[0mnp\u001b[0m\u001b[0;34m.\u001b[0m\u001b[0mdot\u001b[0m\u001b[0;34m(\u001b[0m\u001b[0mpsupi\u001b[0m\u001b[0;34m,\u001b[0m \u001b[0mAp\u001b[0m\u001b[0;34m)\u001b[0m\u001b[0;34m\u001b[0m\u001b[0;34m\u001b[0m\u001b[0m\n",
      "\u001b[0;32m~/opt/anaconda3/envs/learn-env/lib/python3.8/site-packages/sklearn/linear_model/_logistic.py\u001b[0m in \u001b[0;36mHs\u001b[0;34m(s)\u001b[0m\n\u001b[1;32m    233\u001b[0m     \u001b[0;32mdef\u001b[0m \u001b[0mHs\u001b[0m\u001b[0;34m(\u001b[0m\u001b[0ms\u001b[0m\u001b[0;34m)\u001b[0m\u001b[0;34m:\u001b[0m\u001b[0;34m\u001b[0m\u001b[0;34m\u001b[0m\u001b[0m\n\u001b[1;32m    234\u001b[0m         \u001b[0mret\u001b[0m \u001b[0;34m=\u001b[0m \u001b[0mnp\u001b[0m\u001b[0;34m.\u001b[0m\u001b[0mempty_like\u001b[0m\u001b[0;34m(\u001b[0m\u001b[0ms\u001b[0m\u001b[0;34m)\u001b[0m\u001b[0;34m\u001b[0m\u001b[0;34m\u001b[0m\u001b[0m\n\u001b[0;32m--> 235\u001b[0;31m         \u001b[0mret\u001b[0m\u001b[0;34m[\u001b[0m\u001b[0;34m:\u001b[0m\u001b[0mn_features\u001b[0m\u001b[0;34m]\u001b[0m \u001b[0;34m=\u001b[0m \u001b[0mX\u001b[0m\u001b[0;34m.\u001b[0m\u001b[0mT\u001b[0m\u001b[0;34m.\u001b[0m\u001b[0mdot\u001b[0m\u001b[0;34m(\u001b[0m\u001b[0mdX\u001b[0m\u001b[0;34m.\u001b[0m\u001b[0mdot\u001b[0m\u001b[0;34m(\u001b[0m\u001b[0ms\u001b[0m\u001b[0;34m[\u001b[0m\u001b[0;34m:\u001b[0m\u001b[0mn_features\u001b[0m\u001b[0;34m]\u001b[0m\u001b[0;34m)\u001b[0m\u001b[0;34m)\u001b[0m\u001b[0;34m\u001b[0m\u001b[0;34m\u001b[0m\u001b[0m\n\u001b[0m\u001b[1;32m    236\u001b[0m         \u001b[0mret\u001b[0m\u001b[0;34m[\u001b[0m\u001b[0;34m:\u001b[0m\u001b[0mn_features\u001b[0m\u001b[0;34m]\u001b[0m \u001b[0;34m+=\u001b[0m \u001b[0malpha\u001b[0m \u001b[0;34m*\u001b[0m \u001b[0ms\u001b[0m\u001b[0;34m[\u001b[0m\u001b[0;34m:\u001b[0m\u001b[0mn_features\u001b[0m\u001b[0;34m]\u001b[0m\u001b[0;34m\u001b[0m\u001b[0;34m\u001b[0m\u001b[0m\n\u001b[1;32m    237\u001b[0m \u001b[0;34m\u001b[0m\u001b[0m\n",
      "\u001b[0;31mKeyboardInterrupt\u001b[0m: "
     ]
    }
   ],
   "source": [
    "## long runtime\n",
    "\n",
    "from sklearn.feature_selection import RFE\n",
    "estimator = logreg3\n",
    "selector = RFE(estimator, 5, step=1)\n",
    "selector = selector.fit(X_train_scaled, y_train)\n",
    "rfe_mask = selector.get_support() #list of booleans for selected features\n",
    "\n",
    "new_features = [] \n",
    "for bool, feature in zip(rfe_mask, X_train_scaled.columns):\n",
    "    if bool:\n",
    "        new_features.append(feature)\n",
    "\n",
    "new_features # The list of your 5 best features"
   ]
  },
  {
   "cell_type": "markdown",
   "id": "23d859b9",
   "metadata": {},
   "source": [
    "## Build Pipeline"
   ]
  },
  {
   "cell_type": "code",
   "execution_count": null,
   "id": "9464e14b",
   "metadata": {},
   "outputs": [],
   "source": []
  },
  {
   "cell_type": "code",
   "execution_count": null,
   "id": "7babbd12",
   "metadata": {},
   "outputs": [],
   "source": [
    "# Want to create a pipeline so we can test different kinds of models \n",
    "# more easly"
   ]
  }
 ],
 "metadata": {
  "kernelspec": {
   "display_name": "Python (learn-env)",
   "language": "python",
   "name": "learn-env"
  },
  "language_info": {
   "codemirror_mode": {
    "name": "ipython",
    "version": 3
   },
   "file_extension": ".py",
   "mimetype": "text/x-python",
   "name": "python",
   "nbconvert_exporter": "python",
   "pygments_lexer": "ipython3",
   "version": "3.8.5"
  },
  "toc": {
   "base_numbering": 1,
   "nav_menu": {},
   "number_sections": true,
   "sideBar": true,
   "skip_h1_title": false,
   "title_cell": "Table of Contents",
   "title_sidebar": "Contents",
   "toc_cell": false,
   "toc_position": {},
   "toc_section_display": true,
   "toc_window_display": true
  }
 },
 "nbformat": 4,
 "nbformat_minor": 5
}
