{
 "cells": [
  {
   "cell_type": "markdown",
   "id": "175b7ae5",
   "metadata": {},
   "source": [
    "# Data Science Project 3"
   ]
  },
  {
   "cell_type": "markdown",
   "id": "cd5aec70",
   "metadata": {},
   "source": [
    "- Student Name: Natalya Doris\n",
    "- Student Pace: Flex / 40 weeks\n",
    "- Scheduled Project Review Date / Time: \n",
    "- Instructor Name: Abhineet Kulkarni\n",
    "- Blog Post URL: "
   ]
  },
  {
   "cell_type": "markdown",
   "id": "cec3a221",
   "metadata": {},
   "source": [
    "## Setup, EDA, Preprocessing"
   ]
  },
  {
   "cell_type": "code",
   "execution_count": 90,
   "id": "2c9dd57c",
   "metadata": {
    "ExecuteTime": {
     "end_time": "2022-09-15T03:03:11.243591Z",
     "start_time": "2022-09-15T03:03:11.233829Z"
    }
   },
   "outputs": [],
   "source": [
    "import pandas as pd\n",
    "import numpy as np\n",
    "import matplotlib.pyplot as plt\n",
    "%matplotlib inline\n",
    "import seaborn as sns\n",
    "from datetime import datetime\n",
    "\n",
    "from sklearn.model_selection import train_test_split, GridSearchCV, \\\n",
    "cross_val_score\n",
    "from sklearn.impute import SimpleImputer\n",
    "from sklearn.tree import DecisionTreeClassifier\n",
    "from sklearn.neighbors import KNeighborsClassifier\n",
    "from sklearn.ensemble import RandomForestClassifier, AdaBoostClassifier, \\\n",
    "BaggingClassifier, ExtraTreesClassifier\n",
    "from sklearn.linear_model import LogisticRegression\n",
    "from sklearn.metrics import accuracy_score, f1_score, recall_score, \\\n",
    "precision_score, confusion_matrix, classification_report, roc_curve, auc, \\\n",
    "average_precision_score\n",
    "from sklearn.preprocessing import StandardScaler, LabelEncoder, \\\n",
    "MinMaxScaler, OneHotEncoder\n",
    "from sklearn.pipeline import Pipeline\n",
    "from xgboost import XGBClassifier\n",
    "from imblearn.over_sampling import SMOTE\n",
    "\n",
    "import warnings\n",
    "warnings.filterwarnings('ignore')"
   ]
  },
  {
   "cell_type": "markdown",
   "id": "ecf7ad3b",
   "metadata": {},
   "source": [
    "### Load in Data"
   ]
  },
  {
   "cell_type": "code",
   "execution_count": 4,
   "id": "1115cc97",
   "metadata": {
    "ExecuteTime": {
     "end_time": "2022-09-15T02:39:59.036992Z",
     "start_time": "2022-09-15T02:39:58.386042Z"
    }
   },
   "outputs": [],
   "source": [
    "df = pd.read_csv('data/investments_VC.csv', encoding = \"ISO-8859-1\")"
   ]
  },
  {
   "cell_type": "markdown",
   "id": "9d1bd084",
   "metadata": {},
   "source": [
    "### Basic Cleaning"
   ]
  },
  {
   "cell_type": "code",
   "execution_count": 5,
   "id": "79612276",
   "metadata": {
    "ExecuteTime": {
     "end_time": "2022-09-15T02:39:59.084020Z",
     "start_time": "2022-09-15T02:39:59.041892Z"
    }
   },
   "outputs": [],
   "source": [
    "# getting rid of extra spaces in market and funding_total_usd\n",
    "df = df.rename(columns={' market ': 'market', \n",
    "                        ' funding_total_usd ': 'funding_total_usd'})"
   ]
  },
  {
   "cell_type": "markdown",
   "id": "c815157b",
   "metadata": {},
   "source": [
    "Dropping irrelevant columns:"
   ]
  },
  {
   "cell_type": "code",
   "execution_count": 6,
   "id": "1c63f474",
   "metadata": {
    "ExecuteTime": {
     "end_time": "2022-09-15T02:39:59.888680Z",
     "start_time": "2022-09-15T02:39:59.861424Z"
    }
   },
   "outputs": [],
   "source": [
    "df = df.drop(columns=['permalink', 'homepage_url', 'category_list', \n",
    "                          'founded_quarter', 'post_ipo_equity',  \n",
    "                          'post_ipo_debt', 'secondary_market'], \n",
    "                 axis=1)"
   ]
  },
  {
   "cell_type": "markdown",
   "id": "26b6d781",
   "metadata": {},
   "source": [
    "Dropping duplicates, if any:"
   ]
  },
  {
   "cell_type": "code",
   "execution_count": 7,
   "id": "961b874b",
   "metadata": {
    "ExecuteTime": {
     "end_time": "2022-09-15T02:40:04.270039Z",
     "start_time": "2022-09-15T02:40:03.984336Z"
    }
   },
   "outputs": [],
   "source": [
    "df = df.drop_duplicates()"
   ]
  },
  {
   "cell_type": "code",
   "execution_count": 9,
   "id": "f8e749bf",
   "metadata": {
    "ExecuteTime": {
     "end_time": "2022-09-15T02:40:10.613352Z",
     "start_time": "2022-09-15T02:40:10.594603Z"
    }
   },
   "outputs": [
    {
     "data": {
      "text/plain": [
       "operating    41829\n",
       "acquired      3692\n",
       "closed        2603\n",
       "Name: status, dtype: int64"
      ]
     },
     "execution_count": 9,
     "metadata": {},
     "output_type": "execute_result"
    }
   ],
   "source": [
    "df['status'].value_counts()"
   ]
  },
  {
   "cell_type": "markdown",
   "id": "c5b74049",
   "metadata": {},
   "source": [
    "### Exploratory Analysis - Full Dataset"
   ]
  },
  {
   "cell_type": "code",
   "execution_count": 10,
   "id": "c614e27f",
   "metadata": {
    "ExecuteTime": {
     "end_time": "2022-09-15T02:40:13.374688Z",
     "start_time": "2022-09-15T02:40:13.371453Z"
    }
   },
   "outputs": [],
   "source": [
    "data = df"
   ]
  },
  {
   "cell_type": "code",
   "execution_count": 11,
   "id": "75f84e89",
   "metadata": {
    "ExecuteTime": {
     "end_time": "2022-09-15T02:40:14.727286Z",
     "start_time": "2022-09-15T02:40:14.638517Z"
    }
   },
   "outputs": [
    {
     "name": "stdout",
     "output_type": "stream",
     "text": [
      "<class 'pandas.core.frame.DataFrame'>\n",
      "Int64Index: 49439 entries, 0 to 49438\n",
      "Data columns (total 32 columns):\n",
      " #   Column                Non-Null Count  Dtype  \n",
      "---  ------                --------------  -----  \n",
      " 0   name                  49437 non-null  object \n",
      " 1   market                45470 non-null  object \n",
      " 2   funding_total_usd     49438 non-null  object \n",
      " 3   status                48124 non-null  object \n",
      " 4   country_code          44165 non-null  object \n",
      " 5   state_code            30161 non-null  object \n",
      " 6   region                44165 non-null  object \n",
      " 7   city                  43322 non-null  object \n",
      " 8   funding_rounds        49438 non-null  float64\n",
      " 9   founded_at            38554 non-null  object \n",
      " 10  founded_month         38482 non-null  object \n",
      " 11  founded_year          38482 non-null  float64\n",
      " 12  first_funding_at      49438 non-null  object \n",
      " 13  last_funding_at       49438 non-null  object \n",
      " 14  seed                  49438 non-null  float64\n",
      " 15  venture               49438 non-null  float64\n",
      " 16  equity_crowdfunding   49438 non-null  float64\n",
      " 17  undisclosed           49438 non-null  float64\n",
      " 18  convertible_note      49438 non-null  float64\n",
      " 19  debt_financing        49438 non-null  float64\n",
      " 20  angel                 49438 non-null  float64\n",
      " 21  grant                 49438 non-null  float64\n",
      " 22  private_equity        49438 non-null  float64\n",
      " 23  product_crowdfunding  49438 non-null  float64\n",
      " 24  round_A               49438 non-null  float64\n",
      " 25  round_B               49438 non-null  float64\n",
      " 26  round_C               49438 non-null  float64\n",
      " 27  round_D               49438 non-null  float64\n",
      " 28  round_E               49438 non-null  float64\n",
      " 29  round_F               49438 non-null  float64\n",
      " 30  round_G               49438 non-null  float64\n",
      " 31  round_H               49438 non-null  float64\n",
      "dtypes: float64(20), object(12)\n",
      "memory usage: 12.4+ MB\n",
      "None\n"
     ]
    },
    {
     "data": {
      "text/html": [
       "<div>\n",
       "<style scoped>\n",
       "    .dataframe tbody tr th:only-of-type {\n",
       "        vertical-align: middle;\n",
       "    }\n",
       "\n",
       "    .dataframe tbody tr th {\n",
       "        vertical-align: top;\n",
       "    }\n",
       "\n",
       "    .dataframe thead th {\n",
       "        text-align: right;\n",
       "    }\n",
       "</style>\n",
       "<table border=\"1\" class=\"dataframe\">\n",
       "  <thead>\n",
       "    <tr style=\"text-align: right;\">\n",
       "      <th></th>\n",
       "      <th>name</th>\n",
       "      <th>market</th>\n",
       "      <th>funding_total_usd</th>\n",
       "      <th>status</th>\n",
       "      <th>country_code</th>\n",
       "      <th>state_code</th>\n",
       "      <th>region</th>\n",
       "      <th>city</th>\n",
       "      <th>funding_rounds</th>\n",
       "      <th>founded_at</th>\n",
       "      <th>...</th>\n",
       "      <th>private_equity</th>\n",
       "      <th>product_crowdfunding</th>\n",
       "      <th>round_A</th>\n",
       "      <th>round_B</th>\n",
       "      <th>round_C</th>\n",
       "      <th>round_D</th>\n",
       "      <th>round_E</th>\n",
       "      <th>round_F</th>\n",
       "      <th>round_G</th>\n",
       "      <th>round_H</th>\n",
       "    </tr>\n",
       "  </thead>\n",
       "  <tbody>\n",
       "    <tr>\n",
       "      <th>0</th>\n",
       "      <td>#waywire</td>\n",
       "      <td>News</td>\n",
       "      <td>17,50,000</td>\n",
       "      <td>acquired</td>\n",
       "      <td>USA</td>\n",
       "      <td>NY</td>\n",
       "      <td>New York City</td>\n",
       "      <td>New York</td>\n",
       "      <td>1.0</td>\n",
       "      <td>2012-06-01</td>\n",
       "      <td>...</td>\n",
       "      <td>0.0</td>\n",
       "      <td>0.0</td>\n",
       "      <td>0.0</td>\n",
       "      <td>0.0</td>\n",
       "      <td>0.0</td>\n",
       "      <td>0.0</td>\n",
       "      <td>0.0</td>\n",
       "      <td>0.0</td>\n",
       "      <td>0.0</td>\n",
       "      <td>0.0</td>\n",
       "    </tr>\n",
       "    <tr>\n",
       "      <th>1</th>\n",
       "      <td>&amp;TV Communications</td>\n",
       "      <td>Games</td>\n",
       "      <td>40,00,000</td>\n",
       "      <td>operating</td>\n",
       "      <td>USA</td>\n",
       "      <td>CA</td>\n",
       "      <td>Los Angeles</td>\n",
       "      <td>Los Angeles</td>\n",
       "      <td>2.0</td>\n",
       "      <td>NaN</td>\n",
       "      <td>...</td>\n",
       "      <td>0.0</td>\n",
       "      <td>0.0</td>\n",
       "      <td>0.0</td>\n",
       "      <td>0.0</td>\n",
       "      <td>0.0</td>\n",
       "      <td>0.0</td>\n",
       "      <td>0.0</td>\n",
       "      <td>0.0</td>\n",
       "      <td>0.0</td>\n",
       "      <td>0.0</td>\n",
       "    </tr>\n",
       "    <tr>\n",
       "      <th>2</th>\n",
       "      <td>'Rock' Your Paper</td>\n",
       "      <td>Publishing</td>\n",
       "      <td>40,000</td>\n",
       "      <td>operating</td>\n",
       "      <td>EST</td>\n",
       "      <td>NaN</td>\n",
       "      <td>Tallinn</td>\n",
       "      <td>Tallinn</td>\n",
       "      <td>1.0</td>\n",
       "      <td>2012-10-26</td>\n",
       "      <td>...</td>\n",
       "      <td>0.0</td>\n",
       "      <td>0.0</td>\n",
       "      <td>0.0</td>\n",
       "      <td>0.0</td>\n",
       "      <td>0.0</td>\n",
       "      <td>0.0</td>\n",
       "      <td>0.0</td>\n",
       "      <td>0.0</td>\n",
       "      <td>0.0</td>\n",
       "      <td>0.0</td>\n",
       "    </tr>\n",
       "    <tr>\n",
       "      <th>3</th>\n",
       "      <td>(In)Touch Network</td>\n",
       "      <td>Electronics</td>\n",
       "      <td>15,00,000</td>\n",
       "      <td>operating</td>\n",
       "      <td>GBR</td>\n",
       "      <td>NaN</td>\n",
       "      <td>London</td>\n",
       "      <td>London</td>\n",
       "      <td>1.0</td>\n",
       "      <td>2011-04-01</td>\n",
       "      <td>...</td>\n",
       "      <td>0.0</td>\n",
       "      <td>0.0</td>\n",
       "      <td>0.0</td>\n",
       "      <td>0.0</td>\n",
       "      <td>0.0</td>\n",
       "      <td>0.0</td>\n",
       "      <td>0.0</td>\n",
       "      <td>0.0</td>\n",
       "      <td>0.0</td>\n",
       "      <td>0.0</td>\n",
       "    </tr>\n",
       "    <tr>\n",
       "      <th>4</th>\n",
       "      <td>-R- Ranch and Mine</td>\n",
       "      <td>Tourism</td>\n",
       "      <td>60,000</td>\n",
       "      <td>operating</td>\n",
       "      <td>USA</td>\n",
       "      <td>TX</td>\n",
       "      <td>Dallas</td>\n",
       "      <td>Fort Worth</td>\n",
       "      <td>2.0</td>\n",
       "      <td>2014-01-01</td>\n",
       "      <td>...</td>\n",
       "      <td>0.0</td>\n",
       "      <td>0.0</td>\n",
       "      <td>0.0</td>\n",
       "      <td>0.0</td>\n",
       "      <td>0.0</td>\n",
       "      <td>0.0</td>\n",
       "      <td>0.0</td>\n",
       "      <td>0.0</td>\n",
       "      <td>0.0</td>\n",
       "      <td>0.0</td>\n",
       "    </tr>\n",
       "  </tbody>\n",
       "</table>\n",
       "<p>5 rows × 32 columns</p>\n",
       "</div>"
      ],
      "text/plain": [
       "                 name         market funding_total_usd     status  \\\n",
       "0            #waywire          News         17,50,000    acquired   \n",
       "1  &TV Communications         Games         40,00,000   operating   \n",
       "2   'Rock' Your Paper    Publishing            40,000   operating   \n",
       "3   (In)Touch Network   Electronics         15,00,000   operating   \n",
       "4  -R- Ranch and Mine       Tourism            60,000   operating   \n",
       "\n",
       "  country_code state_code         region         city  funding_rounds  \\\n",
       "0          USA         NY  New York City     New York             1.0   \n",
       "1          USA         CA    Los Angeles  Los Angeles             2.0   \n",
       "2          EST        NaN        Tallinn      Tallinn             1.0   \n",
       "3          GBR        NaN         London       London             1.0   \n",
       "4          USA         TX         Dallas   Fort Worth             2.0   \n",
       "\n",
       "   founded_at  ... private_equity  product_crowdfunding round_A round_B  \\\n",
       "0  2012-06-01  ...            0.0                   0.0     0.0     0.0   \n",
       "1         NaN  ...            0.0                   0.0     0.0     0.0   \n",
       "2  2012-10-26  ...            0.0                   0.0     0.0     0.0   \n",
       "3  2011-04-01  ...            0.0                   0.0     0.0     0.0   \n",
       "4  2014-01-01  ...            0.0                   0.0     0.0     0.0   \n",
       "\n",
       "   round_C  round_D  round_E  round_F  round_G  round_H  \n",
       "0      0.0      0.0      0.0      0.0      0.0      0.0  \n",
       "1      0.0      0.0      0.0      0.0      0.0      0.0  \n",
       "2      0.0      0.0      0.0      0.0      0.0      0.0  \n",
       "3      0.0      0.0      0.0      0.0      0.0      0.0  \n",
       "4      0.0      0.0      0.0      0.0      0.0      0.0  \n",
       "\n",
       "[5 rows x 32 columns]"
      ]
     },
     "execution_count": 11,
     "metadata": {},
     "output_type": "execute_result"
    }
   ],
   "source": [
    "print(data.info())\n",
    "data.head()"
   ]
  },
  {
   "cell_type": "code",
   "execution_count": 1000,
   "id": "e8d265df",
   "metadata": {
    "ExecuteTime": {
     "end_time": "2022-09-13T21:15:24.511647Z",
     "start_time": "2022-09-13T21:15:24.466616Z"
    }
   },
   "outputs": [
    {
     "data": {
      "text/plain": [
       "name                        2\n",
       "market                   3969\n",
       "funding_total_usd           1\n",
       "status                   1315\n",
       "country_code             5274\n",
       "state_code              19278\n",
       "region                   5274\n",
       "city                     6117\n",
       "funding_rounds              1\n",
       "founded_at              10885\n",
       "founded_month           10957\n",
       "founded_year            10957\n",
       "first_funding_at            1\n",
       "last_funding_at             1\n",
       "seed                        1\n",
       "venture                     1\n",
       "equity_crowdfunding         1\n",
       "undisclosed                 1\n",
       "convertible_note            1\n",
       "debt_financing              1\n",
       "angel                       1\n",
       "grant                       1\n",
       "private_equity              1\n",
       "product_crowdfunding        1\n",
       "round_A                     1\n",
       "round_B                     1\n",
       "round_C                     1\n",
       "round_D                     1\n",
       "round_E                     1\n",
       "round_F                     1\n",
       "round_G                     1\n",
       "round_H                     1\n",
       "dtype: int64"
      ]
     },
     "execution_count": 1000,
     "metadata": {},
     "output_type": "execute_result"
    }
   ],
   "source": [
    "data.isnull().sum()"
   ]
  },
  {
   "cell_type": "code",
   "execution_count": 12,
   "id": "69b3cf7c",
   "metadata": {
    "ExecuteTime": {
     "end_time": "2022-09-15T02:40:35.412746Z",
     "start_time": "2022-09-15T02:40:35.405185Z"
    }
   },
   "outputs": [
    {
     "data": {
      "text/plain": [
       "0    2012-06-01\n",
       "1           NaN\n",
       "2    2012-10-26\n",
       "3    2011-04-01\n",
       "4    2014-01-01\n",
       "Name: founded_at, dtype: object"
      ]
     },
     "execution_count": 12,
     "metadata": {},
     "output_type": "execute_result"
    }
   ],
   "source": [
    "data['founded_at'].head()"
   ]
  },
  {
   "cell_type": "code",
   "execution_count": 13,
   "id": "67c8f681",
   "metadata": {
    "ExecuteTime": {
     "end_time": "2022-09-15T02:40:37.060992Z",
     "start_time": "2022-09-15T02:40:37.046837Z"
    }
   },
   "outputs": [
    {
     "data": {
      "text/plain": [
       "SF Bay Area            6804\n",
       "New York City          2577\n",
       "Boston                 1837\n",
       "London                 1588\n",
       "Los Angeles            1389\n",
       "                       ... \n",
       "Marbella                  1\n",
       "Maroúli                   1\n",
       "Norrkoping                1\n",
       "Kolding                   1\n",
       "Castelfranco Veneto       1\n",
       "Name: region, Length: 1089, dtype: int64"
      ]
     },
     "execution_count": 13,
     "metadata": {},
     "output_type": "execute_result"
    }
   ],
   "source": [
    "data['region'].value_counts()"
   ]
  },
  {
   "cell_type": "code",
   "execution_count": 14,
   "id": "6fd88844",
   "metadata": {
    "ExecuteTime": {
     "end_time": "2022-09-15T02:40:39.708544Z",
     "start_time": "2022-09-15T02:40:39.691821Z"
    }
   },
   "outputs": [
    {
     "data": {
      "text/plain": [
       "San Francisco    2615\n",
       "New York         2334\n",
       "London           1257\n",
       "Palo Alto         597\n",
       "Austin            583\n",
       "                 ... \n",
       "Hobe Sound          1\n",
       "Millbrook           1\n",
       "Noordwijk           1\n",
       "Slinfold            1\n",
       "Orland Park         1\n",
       "Name: city, Length: 4188, dtype: int64"
      ]
     },
     "execution_count": 14,
     "metadata": {},
     "output_type": "execute_result"
    }
   ],
   "source": [
    "data['city'].value_counts()"
   ]
  },
  {
   "cell_type": "code",
   "execution_count": 15,
   "id": "c7f31b6c",
   "metadata": {
    "ExecuteTime": {
     "end_time": "2022-09-15T02:40:41.662740Z",
     "start_time": "2022-09-15T02:40:41.650341Z"
    }
   },
   "outputs": [
    {
     "data": {
      "text/plain": [
       "CA    9917\n",
       "NY    2914\n",
       "MA    1969\n",
       "TX    1466\n",
       "WA     974\n",
       "      ... \n",
       "MB      13\n",
       "AK      12\n",
       "NB       8\n",
       "SK       4\n",
       "PE       2\n",
       "Name: state_code, Length: 61, dtype: int64"
      ]
     },
     "execution_count": 15,
     "metadata": {},
     "output_type": "execute_result"
    }
   ],
   "source": [
    "data['state_code'].value_counts()"
   ]
  },
  {
   "cell_type": "code",
   "execution_count": 173,
   "id": "ff234b0f",
   "metadata": {
    "ExecuteTime": {
     "end_time": "2022-09-07T20:15:41.888596Z",
     "start_time": "2022-09-07T20:15:41.828177Z"
    }
   },
   "outputs": [
    {
     "data": {
      "text/plain": [
       "USA    28233\n",
       "na      5066\n",
       "GBR     2595\n",
       "CAN     1351\n",
       "CHN     1229\n",
       "       ...  \n",
       "LIE        1\n",
       "JAM        1\n",
       "UZB        1\n",
       "MAF        1\n",
       "MUS        1\n",
       "Name: country_code, Length: 116, dtype: int64"
      ]
     },
     "execution_count": 173,
     "metadata": {},
     "output_type": "execute_result"
    }
   ],
   "source": [
    "data['country_code'].value_counts()"
   ]
  },
  {
   "cell_type": "code",
   "execution_count": 13,
   "id": "959d11f8",
   "metadata": {
    "ExecuteTime": {
     "end_time": "2022-09-06T16:20:25.865501Z",
     "start_time": "2022-09-06T16:20:25.845499Z"
    }
   },
   "outputs": [
    {
     "data": {
      "text/plain": [
       "0.0            49419\n",
       "200000000.0        1\n",
       "7343789.0          1\n",
       "20000000.0         1\n",
       "12500000.0         1\n",
       "126700000.0        1\n",
       "680611554.0        1\n",
       "400000000.0        1\n",
       "63750000.0         1\n",
       "19300000.0         1\n",
       "4700000.0          1\n",
       "78800355.0         1\n",
       "210000000.0        1\n",
       "2500000.0          1\n",
       "156929.0           1\n",
       "700000.0           1\n",
       "7718867.0          1\n",
       "6192396.0          1\n",
       "210000.0           1\n",
       "60000000.0         1\n",
       "Name: secondary_market, dtype: int64"
      ]
     },
     "execution_count": 13,
     "metadata": {},
     "output_type": "execute_result"
    }
   ],
   "source": [
    "data['secondary_market'].value_counts()"
   ]
  },
  {
   "cell_type": "code",
   "execution_count": 16,
   "id": "82ad17b7",
   "metadata": {
    "ExecuteTime": {
     "end_time": "2022-09-15T02:40:46.598264Z",
     "start_time": "2022-09-15T02:40:46.568147Z"
    }
   },
   "outputs": [
    {
     "name": "stdout",
     "output_type": "stream",
     "text": [
      "Number of unique markets:  754\n",
      "Markets with more than 200 companies:  39\n"
     ]
    }
   ],
   "source": [
    "# inspecting market feature - lots of catgories\n",
    "print(\"Number of unique markets: \", len(set(data['market'])))\n",
    "print(\"Markets with more than 200 companies: \",      \n",
    "      str(sum(data['market'].value_counts() >= 200)))"
   ]
  },
  {
   "cell_type": "code",
   "execution_count": 17,
   "id": "a4ee406a",
   "metadata": {
    "ExecuteTime": {
     "end_time": "2022-09-15T02:40:49.492416Z",
     "start_time": "2022-09-15T02:40:49.003289Z"
    }
   },
   "outputs": [
    {
     "data": {
      "text/plain": [
       "<AxesSubplot:>"
      ]
     },
     "execution_count": 17,
     "metadata": {},
     "output_type": "execute_result"
    },
    {
     "data": {
      "image/png": "[encoded data removed]",
      "text/plain": [
       "<Figure size 720x720 with 1 Axes>"
      ]
     },
     "metadata": {
      "needs_background": "light"
     },
     "output_type": "display_data"
    }
   ],
   "source": [
    "fig, ax = plt.subplots(figsize = (10,10))\n",
    "data['market'].value_counts()[:30].plot(kind='barh')"
   ]
  },
  {
   "cell_type": "code",
   "execution_count": 18,
   "id": "1edceedf",
   "metadata": {
    "ExecuteTime": {
     "end_time": "2022-09-15T02:40:51.854341Z",
     "start_time": "2022-09-15T02:40:51.832350Z"
    }
   },
   "outputs": [
    {
     "name": "stdout",
     "output_type": "stream",
     "text": [
      "Number of unique regions:  1090\n",
      "Regions with more than 200 companies:  44\n"
     ]
    }
   ],
   "source": [
    "# same deal with region\n",
    "print(\"Number of unique regions: \", len(set(data['region'])))\n",
    "print(\"Regions with more than 200 companies: \",      \n",
    "      str(sum(data['region'].value_counts() >= 200)))"
   ]
  },
  {
   "cell_type": "code",
   "execution_count": 19,
   "id": "d28f665c",
   "metadata": {
    "ExecuteTime": {
     "end_time": "2022-09-15T02:40:53.497871Z",
     "start_time": "2022-09-15T02:40:53.123948Z"
    }
   },
   "outputs": [
    {
     "data": {
      "text/plain": [
       "<AxesSubplot:>"
      ]
     },
     "execution_count": 19,
     "metadata": {},
     "output_type": "execute_result"
    },
    {
     "data": {
      "image/png": "[encoded data removed]",
      "text/plain": [
       "<Figure size 720x720 with 1 Axes>"
      ]
     },
     "metadata": {
      "needs_background": "light"
     },
     "output_type": "display_data"
    }
   ],
   "source": [
    "fig, ax = plt.subplots(figsize = (10,10))\n",
    "data['region'].value_counts()[:30].plot(kind='barh')"
   ]
  },
  {
   "cell_type": "code",
   "execution_count": 21,
   "id": "afa737db",
   "metadata": {
    "ExecuteTime": {
     "end_time": "2022-09-15T02:41:07.699014Z",
     "start_time": "2022-09-15T02:41:07.444373Z"
    }
   },
   "outputs": [
    {
     "data": {
      "text/plain": [
       "array([[<AxesSubplot:title={'center':'equity_crowdfunding'}>]],\n",
       "      dtype=object)"
      ]
     },
     "execution_count": 21,
     "metadata": {},
     "output_type": "execute_result"
    },
    {
     "data": {
      "image/png": "[encoded data removed]",
      "text/plain": [
       "<Figure size 432x288 with 1 Axes>"
      ]
     },
     "metadata": {
      "needs_background": "light"
     },
     "output_type": "display_data"
    }
   ],
   "source": [
    "data.hist('equity_crowdfunding', bins=40) \n",
    "# there are some very skewed columns in the funding area"
   ]
  },
  {
   "cell_type": "markdown",
   "id": "b846f2e1",
   "metadata": {},
   "source": [
    "### Preprocessing & Feature Engineering"
   ]
  },
  {
   "cell_type": "code",
   "execution_count": 22,
   "id": "34130d8f",
   "metadata": {
    "ExecuteTime": {
     "end_time": "2022-09-15T02:41:32.075290Z",
     "start_time": "2022-09-15T02:41:32.068642Z"
    }
   },
   "outputs": [
    {
     "data": {
      "text/plain": [
       "Index(['name', 'market', 'funding_total_usd', 'status', 'country_code',\n",
       "       'state_code', 'region', 'city', 'funding_rounds', 'founded_at',\n",
       "       'founded_month', 'founded_year', 'first_funding_at', 'last_funding_at',\n",
       "       'seed', 'venture', 'equity_crowdfunding', 'undisclosed',\n",
       "       'convertible_note', 'debt_financing', 'angel', 'grant',\n",
       "       'private_equity', 'product_crowdfunding', 'round_A', 'round_B',\n",
       "       'round_C', 'round_D', 'round_E', 'round_F', 'round_G', 'round_H'],\n",
       "      dtype='object')"
      ]
     },
     "execution_count": 22,
     "metadata": {},
     "output_type": "execute_result"
    }
   ],
   "source": [
    "data.columns"
   ]
  },
  {
   "cell_type": "markdown",
   "id": "3d640e7c",
   "metadata": {},
   "source": [
    "#### Missing Values"
   ]
  },
  {
   "cell_type": "markdown",
   "id": "09ec2fcc",
   "metadata": {},
   "source": [
    "* I am removing rows with missing status or company name. \n",
    "* I am also dropping rows with a missing founded_year because this feature has high importance in many of the models & thus would prefer not to impute at risk of skewing the model. I tried both dropping and keeping  the missing founded_years (imputed). The proportion of companies in each status category & model results are fairly similar with & without imputing the median of year so I am comfortable dropping these rows."
   ]
  },
  {
   "cell_type": "code",
   "execution_count": 23,
   "id": "5f18b250",
   "metadata": {
    "ExecuteTime": {
     "end_time": "2022-09-15T02:41:34.910947Z",
     "start_time": "2022-09-15T02:41:34.859149Z"
    }
   },
   "outputs": [
    {
     "data": {
      "text/plain": [
       "name                        0\n",
       "market                   1801\n",
       "funding_total_usd           0\n",
       "status                      0\n",
       "country_code             2936\n",
       "state_code              13332\n",
       "region                   2936\n",
       "city                     3357\n",
       "funding_rounds              0\n",
       "founded_at                  0\n",
       "founded_month               0\n",
       "founded_year                0\n",
       "first_funding_at            0\n",
       "last_funding_at             0\n",
       "seed                        0\n",
       "venture                     0\n",
       "equity_crowdfunding         0\n",
       "undisclosed                 0\n",
       "convertible_note            0\n",
       "debt_financing              0\n",
       "angel                       0\n",
       "grant                       0\n",
       "private_equity              0\n",
       "product_crowdfunding        0\n",
       "round_A                     0\n",
       "round_B                     0\n",
       "round_C                     0\n",
       "round_D                     0\n",
       "round_E                     0\n",
       "round_F                     0\n",
       "round_G                     0\n",
       "round_H                     0\n",
       "dtype: int64"
      ]
     },
     "execution_count": 23,
     "metadata": {},
     "output_type": "execute_result"
    }
   ],
   "source": [
    "data = data.dropna(subset=['status', 'name', 'founded_year'])\n",
    "data.isnull().sum()"
   ]
  },
  {
   "cell_type": "code",
   "execution_count": 24,
   "id": "37c336ae",
   "metadata": {
    "ExecuteTime": {
     "end_time": "2022-09-15T02:41:37.580497Z",
     "start_time": "2022-09-15T02:41:37.572413Z"
    }
   },
   "outputs": [
    {
     "data": {
      "text/plain": [
       "37563"
      ]
     },
     "execution_count": 24,
     "metadata": {},
     "output_type": "execute_result"
    }
   ],
   "source": [
    "len(data)"
   ]
  },
  {
   "cell_type": "code",
   "execution_count": 25,
   "id": "bb788f7b",
   "metadata": {
    "ExecuteTime": {
     "end_time": "2022-09-15T02:41:38.719487Z",
     "start_time": "2022-09-15T02:41:38.692420Z"
    }
   },
   "outputs": [],
   "source": [
    "# filling categoricals\n",
    "data = data.fillna(value={'market': 'other', 'country_code': 'other', \n",
    "                          'region': 'other', 'city': 'other', \n",
    "                          'state_code': 'other'})"
   ]
  },
  {
   "cell_type": "code",
   "execution_count": 26,
   "id": "e8727c91",
   "metadata": {
    "ExecuteTime": {
     "end_time": "2022-09-15T02:41:41.079248Z",
     "start_time": "2022-09-15T02:41:40.564186Z"
    }
   },
   "outputs": [
    {
     "name": "stdout",
     "output_type": "stream",
     "text": [
      "10th percentile of founded_year:  2000.0\n",
      "Num Rows before 2000:  3518\n"
     ]
    },
    {
     "data": {
      "text/plain": [
       "34045"
      ]
     },
     "execution_count": 26,
     "metadata": {},
     "output_type": "execute_result"
    },
    {
     "data": {
      "image/png": "[encoded data removed]",
      "text/plain": [
       "<Figure size 432x288 with 1 Axes>"
      ]
     },
     "metadata": {
      "needs_background": "light"
     },
     "output_type": "display_data"
    }
   ],
   "source": [
    "# distribution of non NA years \n",
    "plt.hist(data['founded_year'][~data['founded_year'].isnull()], bins=30)\n",
    "plt.axvline(x=np.nanmean(data['founded_year']), color='r')\n",
    "plt.axvline(x=np.nanmedian(data['founded_year']), color='y')\n",
    "\n",
    "p10 = np.percentile(data['founded_year'][~data['founded_year'].isnull()], 10)\n",
    "print(\"10th percentile of founded_year: \", p10)\n",
    "\n",
    "#10th percentile year is 2000, we will subset for startups founded on or after 2000\n",
    "print(\"Num Rows before 2000: \", len(data[data['founded_year'] < 2000]))\n",
    "data = data[data['founded_year'] >= 2000].reset_index(drop=True)\n",
    "len(data)"
   ]
  },
  {
   "cell_type": "code",
   "execution_count": 43,
   "id": "8f10a3ec",
   "metadata": {
    "ExecuteTime": {
     "end_time": "2022-09-15T02:44:47.694298Z",
     "start_time": "2022-09-15T02:44:47.678287Z"
    }
   },
   "outputs": [
    {
     "data": {
      "text/plain": [
       "838"
      ]
     },
     "execution_count": 43,
     "metadata": {},
     "output_type": "execute_result"
    }
   ],
   "source": [
    "len(df[(df['founded_year'] < 2000) & (df['status'] != 'operating')])"
   ]
  },
  {
   "cell_type": "markdown",
   "id": "db4008b8",
   "metadata": {
    "ExecuteTime": {
     "end_time": "2022-09-13T21:15:09.958455Z",
     "start_time": "2022-09-13T21:15:09.880607Z"
    }
   },
   "source": [
    "Date data - convert to datetime:"
   ]
  },
  {
   "cell_type": "code",
   "execution_count": 27,
   "id": "ff1e388a",
   "metadata": {
    "ExecuteTime": {
     "end_time": "2022-09-15T02:41:44.414676Z",
     "start_time": "2022-09-15T02:41:43.329958Z"
    }
   },
   "outputs": [],
   "source": [
    "data['founded_at'] = [datetime.strptime(day, '%Y-%m-%d') for day \\\n",
    "                      in data['founded_at'][~data['founded_at'].isnull()]]\n",
    "data['first_funding_at'] = [datetime.strptime(day, '%Y-%m-%d').date() for day \\\n",
    "                            in data['first_funding_at']]\n",
    "data['last_funding_at'] = [datetime.strptime(day, '%Y-%m-%d').date() for day \\\n",
    "                            in data['last_funding_at']]\n",
    "data['founded_month'] = [datetime.strptime(mth, \"%Y-%m\").month for mth in data['founded_month']]"
   ]
  },
  {
   "cell_type": "markdown",
   "id": "c64b88ea",
   "metadata": {},
   "source": [
    "Fill year & founded_at with simple imputer (only if not removing NaN rows). Since the data is skewed (see plot above), we will use median rather than mean."
   ]
  },
  {
   "cell_type": "code",
   "execution_count": 636,
   "id": "17f9fa5c",
   "metadata": {
    "ExecuteTime": {
     "end_time": "2022-09-13T16:35:08.500501Z",
     "start_time": "2022-09-13T16:35:08.414129Z"
    }
   },
   "outputs": [],
   "source": [
    "# uncomment the below to impute founded_year with mean, only if we are not \n",
    "# dropping nans for this feature\n",
    "\n",
    "#imp_median = SimpleImputer(missing_values=np.nan, strategy='median')\n",
    "\n",
    "#data['founded_year'] = imp_median.fit_transform(data[['founded_year']])\n",
    "#data['founded_at'] = imp_median.fit_transform(data[['founded_at']])"
   ]
  },
  {
   "cell_type": "code",
   "execution_count": 28,
   "id": "7c7484f1",
   "metadata": {
    "ExecuteTime": {
     "end_time": "2022-09-15T02:41:46.895549Z",
     "start_time": "2022-09-15T02:41:46.798297Z"
    }
   },
   "outputs": [],
   "source": [
    "data['founded_at'] = pd.to_datetime(data['founded_at'])\n",
    "data['founded_year'] = [day.year for day in data['founded_at']]"
   ]
  },
  {
   "cell_type": "code",
   "execution_count": 29,
   "id": "d4a5ae59",
   "metadata": {
    "ExecuteTime": {
     "end_time": "2022-09-15T02:41:48.279290Z",
     "start_time": "2022-09-15T02:41:48.263941Z"
    }
   },
   "outputs": [
    {
     "data": {
      "text/plain": [
       "2012-01-01    2100\n",
       "2011-01-01    2096\n",
       "2010-01-01    1810\n",
       "2009-01-01    1561\n",
       "2013-01-01    1535\n",
       "              ... \n",
       "2004-04-25       1\n",
       "2009-08-12       1\n",
       "2014-08-04       1\n",
       "2002-08-02       1\n",
       "2010-11-06       1\n",
       "Name: founded_at, Length: 2935, dtype: int64"
      ]
     },
     "execution_count": 29,
     "metadata": {},
     "output_type": "execute_result"
    }
   ],
   "source": [
    "data['founded_at'].value_counts()"
   ]
  },
  {
   "cell_type": "code",
   "execution_count": 30,
   "id": "9c616e1c",
   "metadata": {
    "ExecuteTime": {
     "end_time": "2022-09-15T02:41:51.107748Z",
     "start_time": "2022-09-15T02:41:51.081460Z"
    }
   },
   "outputs": [
    {
     "data": {
      "text/plain": [
       "name                    0\n",
       "market                  0\n",
       "funding_total_usd       0\n",
       "status                  0\n",
       "country_code            0\n",
       "state_code              0\n",
       "region                  0\n",
       "city                    0\n",
       "funding_rounds          0\n",
       "founded_at              0\n",
       "founded_month           0\n",
       "founded_year            0\n",
       "first_funding_at        0\n",
       "last_funding_at         0\n",
       "seed                    0\n",
       "venture                 0\n",
       "equity_crowdfunding     0\n",
       "undisclosed             0\n",
       "convertible_note        0\n",
       "debt_financing          0\n",
       "angel                   0\n",
       "grant                   0\n",
       "private_equity          0\n",
       "product_crowdfunding    0\n",
       "round_A                 0\n",
       "round_B                 0\n",
       "round_C                 0\n",
       "round_D                 0\n",
       "round_E                 0\n",
       "round_F                 0\n",
       "round_G                 0\n",
       "round_H                 0\n",
       "dtype: int64"
      ]
     },
     "execution_count": 30,
     "metadata": {},
     "output_type": "execute_result"
    }
   ],
   "source": [
    "data.isna().sum()"
   ]
  },
  {
   "cell_type": "markdown",
   "id": "796d6e6f",
   "metadata": {},
   "source": [
    "Basic data cleaning:"
   ]
  },
  {
   "cell_type": "code",
   "execution_count": 31,
   "id": "87d80b02",
   "metadata": {
    "ExecuteTime": {
     "end_time": "2022-09-15T02:41:53.953164Z",
     "start_time": "2022-09-15T02:41:53.908379Z"
    }
   },
   "outputs": [],
   "source": [
    "# getting rid of extra spaces in market, city, state code, region\n",
    "data['market'] = [x.strip() for x in data['market']]\n",
    "data['country_code'] = [x.strip() for x in data['country_code']]\n",
    "data['state_code'] = [x.strip() for x in data['state_code']]\n",
    "data['region'] = [x.strip() for x in data['region']]\n",
    "data['city'] = [x.strip() for x in data['city']]"
   ]
  },
  {
   "cell_type": "code",
   "execution_count": 1008,
   "id": "8796a7d5",
   "metadata": {
    "ExecuteTime": {
     "end_time": "2022-09-13T21:17:53.553948Z",
     "start_time": "2022-09-13T21:17:53.546328Z"
    }
   },
   "outputs": [
    {
     "data": {
      "text/plain": [
       "name                            object\n",
       "market                          object\n",
       "funding_total_usd               object\n",
       "status                          object\n",
       "country_code                    object\n",
       "state_code                      object\n",
       "region                          object\n",
       "city                            object\n",
       "funding_rounds                 float64\n",
       "founded_at              datetime64[ns]\n",
       "founded_month                   object\n",
       "founded_year                     int64\n",
       "first_funding_at                object\n",
       "last_funding_at                 object\n",
       "seed                           float64\n",
       "venture                        float64\n",
       "equity_crowdfunding            float64\n",
       "undisclosed                    float64\n",
       "convertible_note               float64\n",
       "debt_financing                 float64\n",
       "angel                          float64\n",
       "grant                          float64\n",
       "private_equity                 float64\n",
       "product_crowdfunding           float64\n",
       "round_A                        float64\n",
       "round_B                        float64\n",
       "round_C                        float64\n",
       "round_D                        float64\n",
       "round_E                        float64\n",
       "round_F                        float64\n",
       "round_G                        float64\n",
       "round_H                        float64\n",
       "dtype: object"
      ]
     },
     "execution_count": 1008,
     "metadata": {},
     "output_type": "execute_result"
    }
   ],
   "source": [
    "data.dtypes"
   ]
  },
  {
   "cell_type": "code",
   "execution_count": 1025,
   "id": "1cde6e00",
   "metadata": {
    "ExecuteTime": {
     "end_time": "2022-09-13T21:20:36.988039Z",
     "start_time": "2022-09-13T21:20:36.968974Z"
    }
   },
   "outputs": [
    {
     "data": {
      "text/plain": [
       " -               5632\n",
       " 10,00,000        627\n",
       " 1,00,000         582\n",
       " 5,00,000         573\n",
       " 40,000           466\n",
       "                 ... \n",
       " 2,46,97,455        1\n",
       " 15,42,386          1\n",
       " 59,70,053          1\n",
       " 9,88,17,742        1\n",
       " 3,88,99,998        1\n",
       "Name: funding_total_usd, Length: 10560, dtype: int64"
      ]
     },
     "execution_count": 1025,
     "metadata": {},
     "output_type": "execute_result"
    }
   ],
   "source": [
    "# need to convert this data type to integer\n",
    "data['funding_total_usd'].value_counts()"
   ]
  },
  {
   "cell_type": "code",
   "execution_count": 34,
   "id": "a455d2ae",
   "metadata": {
    "ExecuteTime": {
     "end_time": "2022-09-15T02:42:16.029155Z",
     "start_time": "2022-09-15T02:42:16.022920Z"
    }
   },
   "outputs": [
    {
     "data": {
      "text/plain": [
       "dtype('float64')"
      ]
     },
     "execution_count": 34,
     "metadata": {},
     "output_type": "execute_result"
    }
   ],
   "source": [
    "data['funding_total_usd'] = [float(num.replace(\" \", \"0\").replace(\",\", \"0\").\\\n",
    "                                   replace(\"-\", \"0\")) \n",
    "                             for num in data['funding_total_usd']]\n",
    "data['funding_total_usd'].dtypes"
   ]
  },
  {
   "cell_type": "markdown",
   "id": "df819161",
   "metadata": {},
   "source": [
    "#### Feature Engineering"
   ]
  },
  {
   "cell_type": "code",
   "execution_count": 35,
   "id": "35231dfa",
   "metadata": {
    "ExecuteTime": {
     "end_time": "2022-09-15T02:42:38.297131Z",
     "start_time": "2022-09-15T02:42:38.279283Z"
    }
   },
   "outputs": [],
   "source": [
    "# creating column that labels country as domestic or international\n",
    "data['international'] = [0 if country=='USA' else 1 for country in data['country_code']]"
   ]
  },
  {
   "cell_type": "code",
   "execution_count": 36,
   "id": "7bc164a3",
   "metadata": {
    "ExecuteTime": {
     "end_time": "2022-09-15T02:42:39.629324Z",
     "start_time": "2022-09-15T02:42:39.541020Z"
    }
   },
   "outputs": [],
   "source": [
    "# creating temporary columns to aid in calculation of time to first funding\n",
    "\n",
    "data['founded_at_temp'] = [day.date() for day in data['founded_at']]\n",
    "data['founded_at_temp'] = pd.to_datetime(data['founded_at_temp'], \n",
    "                                         format = '%Y-%m-%d')\n",
    "\n",
    "data['first_funding_at_temp'] = pd.to_datetime(data['first_funding_at'], \n",
    "                                               format = '%Y-%m-%d', \n",
    "                                               errors='coerce')\n",
    "data['last_funding_at_temp'] = pd.to_datetime(data['last_funding_at'], \n",
    "                                              format = '%Y-%m-%d', \n",
    "                                              errors='coerce')\n",
    "\n",
    "data['time_to_first_funding'] = (data['first_funding_at_temp'] - \\\n",
    "                                 data['founded_at_temp']) / pd.Timedelta(days=365)\n",
    "\n",
    "data['time_first_to_last_funding'] = (data['last_funding_at_temp'] - \\\n",
    "                                      data['first_funding_at_temp']) / pd.Timedelta(days=365)"
   ]
  },
  {
   "cell_type": "code",
   "execution_count": 37,
   "id": "03e40fd2",
   "metadata": {
    "ExecuteTime": {
     "end_time": "2022-09-15T02:42:41.305558Z",
     "start_time": "2022-09-15T02:42:41.296883Z"
    }
   },
   "outputs": [
    {
     "name": "stdout",
     "output_type": "stream",
     "text": [
      "1030     0020-06-14\n",
      "4514     0019-11-20\n",
      "9863     0201-01-01\n",
      "20287    0007-05-13\n",
      "21784    0001-05-14\n",
      "Name: first_funding_at, dtype: object\n",
      "1030     2013-06-01\n",
      "4514     2013-04-01\n",
      "9863     0201-01-01\n",
      "20287    2014-09-25\n",
      "21784    0001-05-14\n",
      "Name: last_funding_at, dtype: object\n"
     ]
    }
   ],
   "source": [
    "# checking for nulls\n",
    "print(data['first_funding_at'][data['time_to_first_funding'].isnull()])\n",
    "print(data['last_funding_at'][data['time_first_to_last_funding'].isnull()])"
   ]
  },
  {
   "cell_type": "code",
   "execution_count": 38,
   "id": "28cebed8",
   "metadata": {
    "ExecuteTime": {
     "end_time": "2022-09-15T02:42:45.293261Z",
     "start_time": "2022-09-15T02:42:45.261577Z"
    }
   },
   "outputs": [],
   "source": [
    "# dropping these\n",
    "data = data.dropna(subset=['time_to_first_funding'])"
   ]
  },
  {
   "cell_type": "markdown",
   "id": "e066b407",
   "metadata": {},
   "source": [
    "#### OPTIONAL - Outliers"
   ]
  },
  {
   "cell_type": "code",
   "execution_count": 718,
   "id": "6062d6b2",
   "metadata": {
    "ExecuteTime": {
     "end_time": "2022-09-13T18:54:10.692072Z",
     "start_time": "2022-09-13T18:54:10.335875Z"
    }
   },
   "outputs": [
    {
     "name": "stdout",
     "output_type": "stream",
     "text": [
      "408206869399.0\n",
      "32338\n",
      "34040\n"
     ]
    },
    {
     "data": {
      "image/png": "[encoded data removed]",
      "text/plain": [
       "<Figure size 432x288 with 1 Axes>"
      ]
     },
     "metadata": {
      "needs_background": "light"
     },
     "output_type": "display_data"
    }
   ],
   "source": [
    "# Funding total USD\n",
    "print(np.percentile(data['funding_total_usd'], 95))\n",
    "\n",
    "plt.hist(data['funding_total_usd'][data['funding_total_usd'] < 408206869399.0])\n",
    "print(len(data[data['funding_total_usd'] < 408206869399.0]))\n",
    "print(len(data))"
   ]
  },
  {
   "cell_type": "code",
   "execution_count": 717,
   "id": "3d2d70b5",
   "metadata": {
    "ExecuteTime": {
     "end_time": "2022-09-13T18:53:56.376535Z",
     "start_time": "2022-09-13T18:53:55.781588Z"
    }
   },
   "outputs": [
    {
     "name": "stdout",
     "output_type": "stream",
     "text": [
      "32301\n",
      "31990\n",
      "34040\n"
     ]
    },
    {
     "data": {
      "image/png": "[encoded data removed]",
      "text/plain": [
       "<Figure size 432x288 with 1 Axes>"
      ]
     },
     "metadata": {
      "needs_background": "light"
     },
     "output_type": "display_data"
    }
   ],
   "source": [
    "np.percentile(data['venture'], 95)\n",
    "\n",
    "plt.hist(data['venture'][data['venture'] < 40000000.0])\n",
    "print(len(data[data['venture'] < 40000000.0]))\n",
    "print(len(data[(data['venture'] < 40000000.0) & \n",
    "               (data['funding_total_usd'] < 408206869399.0)]))\n",
    "print(len(data))"
   ]
  },
  {
   "cell_type": "code",
   "execution_count": null,
   "id": "b47469f5",
   "metadata": {},
   "outputs": [],
   "source": [
    "### THIS DOESN'T HELP THE MODELS, SO I COMMENTED THIS OUT"
   ]
  },
  {
   "cell_type": "code",
   "execution_count": 719,
   "id": "eeb2ef3b",
   "metadata": {
    "ExecuteTime": {
     "end_time": "2022-09-13T18:55:25.583177Z",
     "start_time": "2022-09-13T18:55:25.555117Z"
    }
   },
   "outputs": [
    {
     "data": {
      "text/plain": [
       "31990"
      ]
     },
     "execution_count": 719,
     "metadata": {},
     "output_type": "execute_result"
    }
   ],
   "source": [
    "# uncomment to remove outliers\n",
    "\n",
    "#data = data[(data['venture'] < 40000000.0) & \n",
    "#            (data['funding_total_usd'] < 408206869399.0)].reset_index(drop=True)\n",
    "#len(data)"
   ]
  },
  {
   "cell_type": "markdown",
   "id": "c8f943c9",
   "metadata": {},
   "source": [
    "#### Correlations"
   ]
  },
  {
   "cell_type": "markdown",
   "id": "1db17e40",
   "metadata": {},
   "source": [
    "Based on the below, the strongest correlations occur between debt_financing and funding_total_usd, round_H and round_G, followed by venture and all of the rounds of funding"
   ]
  },
  {
   "cell_type": "code",
   "execution_count": 39,
   "id": "93a4470b",
   "metadata": {
    "ExecuteTime": {
     "end_time": "2022-09-15T02:42:51.144170Z",
     "start_time": "2022-09-15T02:42:47.801266Z"
    }
   },
   "outputs": [
    {
     "data": {
      "text/plain": [
       "Text(0.5, 1.0, 'Heatmap of Correlation Between Attributes (Including Status)')"
      ]
     },
     "execution_count": 39,
     "metadata": {},
     "output_type": "execute_result"
    },
    {
     "data": {
      "image/png": "[encoded data removed]",
      "text/plain": [
       "<Figure size 1440x1440 with 2 Axes>"
      ]
     },
     "metadata": {
      "needs_background": "light"
     },
     "output_type": "display_data"
    }
   ],
   "source": [
    "# with status\n",
    "encoder = LabelEncoder()\n",
    "heatmap_data = pd.concat([pd.Series(encoder.fit_transform(data['status'])), \n",
    "                          data.drop('status', axis=1)], axis=1)\n",
    "\n",
    "# without status\n",
    "#heatmap_data = data.drop('status', axis=1)\n",
    "\n",
    "h_corr = heatmap_data.corr()\n",
    "fig, ax = plt.subplots(figsize=(20, 20))\n",
    "mask = np.triu(np.ones_like(h_corr, dtype=bool))\n",
    "cmap = sns.diverging_palette(130, 50, as_cmap=True)\n",
    "cbar_kws = {'label': 'Correlation', 'orientation': 'horizontal', \n",
    "            'pad': .1, 'extend': 'both'}\n",
    "sns.heatmap(data=h_corr, mask=mask, ax=ax, annot=True, cbar_kws=cbar_kws, cmap=cmap)\n",
    "ax.set_title('Heatmap of Correlation Between Attributes (Including Status)')"
   ]
  },
  {
   "cell_type": "code",
   "execution_count": 40,
   "id": "7a9828f7",
   "metadata": {
    "ExecuteTime": {
     "end_time": "2022-09-15T02:42:55.416625Z",
     "start_time": "2022-09-15T02:42:55.391879Z"
    }
   },
   "outputs": [
    {
     "data": {
      "text/html": [
       "<div>\n",
       "<style scoped>\n",
       "    .dataframe tbody tr th:only-of-type {\n",
       "        vertical-align: middle;\n",
       "    }\n",
       "\n",
       "    .dataframe tbody tr th {\n",
       "        vertical-align: top;\n",
       "    }\n",
       "\n",
       "    .dataframe thead th {\n",
       "        text-align: right;\n",
       "    }\n",
       "</style>\n",
       "<table border=\"1\" class=\"dataframe\">\n",
       "  <thead>\n",
       "    <tr style=\"text-align: right;\">\n",
       "      <th></th>\n",
       "      <th>cc</th>\n",
       "    </tr>\n",
       "    <tr>\n",
       "      <th>pairs</th>\n",
       "      <th></th>\n",
       "    </tr>\n",
       "  </thead>\n",
       "  <tbody>\n",
       "    <tr>\n",
       "      <th>(round_H, round_G)</th>\n",
       "      <td>0.859849</td>\n",
       "    </tr>\n",
       "    <tr>\n",
       "      <th>(time_first_to_last_funding, funding_rounds)</th>\n",
       "      <td>0.793787</td>\n",
       "    </tr>\n",
       "  </tbody>\n",
       "</table>\n",
       "</div>"
      ],
      "text/plain": [
       "                                                    cc\n",
       "pairs                                                 \n",
       "(round_H, round_G)                            0.859849\n",
       "(time_first_to_last_funding, funding_rounds)  0.793787"
      ]
     },
     "execution_count": 40,
     "metadata": {},
     "output_type": "execute_result"
    }
   ],
   "source": [
    "#data_corr=data.drop(columns=['status'], axis=1).corr()\n",
    "corr = h_corr.abs().stack().reset_index().sort_values(0, ascending=False)\n",
    "corr['pairs'] = list(zip(corr.level_0, corr.level_1))\n",
    "corr.set_index(['pairs'], inplace = True)\n",
    "corr.drop(columns=['level_1', 'level_0'], inplace = True)\n",
    "\n",
    "# cc for correlation coefficient\n",
    "corr.columns = ['cc']\n",
    "corr.drop_duplicates(inplace=True)\n",
    "\n",
    "corr[(corr['cc'] > 0.7) & (corr['cc'] < 1)]"
   ]
  },
  {
   "cell_type": "code",
   "execution_count": 139,
   "id": "9f58ea1c",
   "metadata": {
    "ExecuteTime": {
     "end_time": "2022-09-15T03:40:42.085671Z",
     "start_time": "2022-09-15T03:40:41.221177Z"
    }
   },
   "outputs": [],
   "source": [
    "# dropping temp columns \n",
    "data = data.drop(columns=['founded_at', 'first_funding_at', 'last_funding_at', \n",
    "                          'first_funding_at_temp', 'last_funding_at_temp', \n",
    "                          'founded_at_temp'], axis=1).reset_index(drop=True)\n",
    "\n",
    "# creating csv file to work from\n",
    "data.to_csv('data/final_working_data.csv')"
   ]
  },
  {
   "cell_type": "code",
   "execution_count": null,
   "id": "2d680245",
   "metadata": {},
   "outputs": [],
   "source": [
    "# dropping columns with correlation coefficient greater than 0.7\n",
    "data_uncorr = data.drop(columns=['round_H', 'time_first_to_last_funding'], \n",
    "                        axis=1).reset_index(drop=True)\n",
    "\n",
    "#renaming full dataset\n",
    "data_full = data"
   ]
  },
  {
   "cell_type": "markdown",
   "id": "cbe60662",
   "metadata": {
    "heading_collapsed": true
   },
   "source": [
    "#### OPTIONAL - Binary Representation of Funding Rounds"
   ]
  },
  {
   "cell_type": "code",
   "execution_count": 497,
   "id": "fcbc418b",
   "metadata": {
    "ExecuteTime": {
     "end_time": "2022-09-11T17:24:41.252469Z",
     "start_time": "2022-09-11T17:24:40.851977Z"
    },
    "hidden": true
   },
   "outputs": [],
   "source": [
    "# data['had_round_A'] = [0 if x==0 else 1 for x in data['round_A']]\n",
    "# data['had_round_B'] = [0 if x==0 else 1 for x in data['round_B']]\n",
    "# data['had_round_C'] = [0 if x==0 else 1 for x in data['round_C']]\n",
    "# data['had_round_D'] = [0 if x==0 else 1 for x in data['round_D']]\n",
    "# data['had_round_E'] = [0 if x==0 else 1 for x in data['round_E']]\n",
    "# data['had_round_F'] = [0 if x==0 else 1 for x in data['round_F']]\n",
    "# data['had_round_G'] = [0 if x==0 else 1 for x in data['round_G']]\n",
    "# data['had_venture'] = [0 if x==0 else 1 for x in data['venture']]\n",
    "# data['had_seed'] = [0 if x==0 else 1 for x in data['seed']]\n",
    "# data['had_eq_crowdfunding'] = [0 if x==0 else 1 for x in data['equity_crowdfunding']]\n",
    "# data['had_pd_crowdfunding'] = [0 if x==0 else 1 for x in data['product_crowdfunding']]\n",
    "# data['had_angel'] = [0 if x==0 else 1 for x in data['angel']]\n",
    "# data['had_grant'] = [0 if x==0 else 1 for x in data['grant']]\n",
    "# data['had_pe'] = [0 if x==0 else 1 for x in data['private_equity']]\n",
    "# data['had_convert'] = [0 if x==0 else 1 for x in data['convertible_note']]"
   ]
  },
  {
   "cell_type": "markdown",
   "id": "dd499783",
   "metadata": {},
   "source": [
    "## Functions"
   ]
  },
  {
   "cell_type": "markdown",
   "id": "3423b716",
   "metadata": {},
   "source": [
    "#### train_test_preprocess"
   ]
  },
  {
   "cell_type": "code",
   "execution_count": 1,
   "id": "35f5fdf8",
   "metadata": {
    "ExecuteTime": {
     "end_time": "2022-09-15T02:11:08.228703Z",
     "start_time": "2022-09-15T02:11:08.209528Z"
    }
   },
   "outputs": [],
   "source": [
    "''' \n",
    "Function to perform train_test_split and necessary preprocessing / scaling\n",
    "'''\n",
    "\n",
    "def train_test_preprocess(X, y):\n",
    "    X_train, X_test, y_train, y_test = train_test_split(X, y, random_state=42)\n",
    "    \n",
    "    # check that there are the same number of rows in X as values in y\n",
    "    assert X_train.shape[0] == y_train.shape[0]\n",
    "    \n",
    "    # Categorizing features in preparation for scaling / encoding\n",
    "    X_train_cat_eng = X_train.select_dtypes(include=['int64']).reset_index(drop=True)\n",
    "    X_test_cat_eng = X_test.select_dtypes(include=['int64']).reset_index(drop=True)\n",
    "\n",
    "    X_train_cont = X_train.select_dtypes(exclude=['object','int64']).reset_index(drop=True)\n",
    "    X_test_cont = X_test.select_dtypes(exclude=['object','int64']).reset_index(drop=True)\n",
    "\n",
    "    cat_columns = ['market', 'region']\n",
    "    cat_train = X_train[cat_columns].reset_index(drop=True)\n",
    "    cat_test = X_test[cat_columns].reset_index(drop=True)\n",
    "\n",
    "    # Scale continuous variables using Min Max Scaler:\n",
    "    scaler = MinMaxScaler() # instantiate MinMaxScaler\n",
    "\n",
    "    ## TRAIN\n",
    "    # Fit and transform X_train\n",
    "    X_train_cont_scaled = scaler.fit_transform(X_train_cont)\n",
    "    X_train_cont_scaled = pd.DataFrame(X_train_cont_scaled, columns=X_train_cont.columns)\n",
    "\n",
    "    # One hot encode categoricals\n",
    "    ohe = OneHotEncoder(handle_unknown = 'ignore')\n",
    "    encoded_train = ohe.fit_transform(cat_train).toarray()\n",
    "    X_train_cat = pd.DataFrame(encoded_train, columns=ohe.get_feature_names(cat_train.columns))\n",
    "\n",
    "    # Putting it all together:\n",
    "    X_train_processed = pd.concat([X_train_cat, X_train_cont, X_train_cat_eng], axis=1)\n",
    "    X_train_scaled = pd.concat([X_train_cat, X_train_cont_scaled, X_train_cat_eng], axis=1) \n",
    "\n",
    "    ## TEST\n",
    "    # Scale continuous features\n",
    "    X_test_cont_scaled = scaler.transform(X_test_cont)\n",
    "    X_test_cont_scaled = pd.DataFrame(X_test_cont_scaled, columns=X_test_cont.columns)\n",
    "\n",
    "    # One hot encoding categoricals\n",
    "    encoded_test = ohe.transform(cat_test).toarray()\n",
    "    X_test_cat = pd.DataFrame(encoded_test, columns=ohe.get_feature_names(cat_test.columns))\n",
    "\n",
    "    # Putting it all together\n",
    "    X_test_scaled = pd.concat([X_test_cat, X_test_cont_scaled, X_test_cat_eng], axis=1)\n",
    "    X_test_processed = pd.concat([X_test_cat, X_test_cont, X_test_cat_eng], axis=1)\n",
    "    \n",
    "    return X_train_processed, X_train_scaled, X_test_processed, X_test_scaled, y_train, y_test"
   ]
  },
  {
   "cell_type": "markdown",
   "id": "9fcbfbba",
   "metadata": {},
   "source": [
    "#### print_scores"
   ]
  },
  {
   "cell_type": "code",
   "execution_count": 81,
   "id": "e26ce93b",
   "metadata": {
    "ExecuteTime": {
     "end_time": "2022-09-15T03:01:52.183818Z",
     "start_time": "2022-09-15T03:01:52.170857Z"
    }
   },
   "outputs": [],
   "source": [
    "''' \n",
    "Function to print relevant scoring metrics\n",
    "'''\n",
    "\n",
    "def print_scores(y_train, y_hat_train, y_test, y_hat_test, binary=True):\n",
    "    if binary:\n",
    "        print('Training Recall: ', \n",
    "              recall_score(y_train, y_hat_train))\n",
    "        print('Testing Recall: ', \n",
    "              recall_score(y_test, y_hat_test))\n",
    "        print('\\n')\n",
    "        print('Training F1: ', \n",
    "              f1_score(y_train, y_hat_train))\n",
    "        print('Testing F1: ', \n",
    "              f1_score(y_test, y_hat_test))\n",
    "        print('\\n')\n",
    "        false_positive_rate, true_positive_rate, thresholds = \\\n",
    "        roc_curve(y_test, y_hat_test)\n",
    "        roc_auc = auc(false_positive_rate, true_positive_rate)\n",
    "        print('ROC AUC: ', roc_auc)\n",
    "        print('PR AUC: ', average_precision_score(y_test, y_hat_test))\n",
    "        print('\\n')\n",
    "        \n",
    "    else:\n",
    "        print('Training Recall (weighted avg): ', \n",
    "              recall_score(y_train, y_hat_train, average='weighted'))\n",
    "        print('Testing Recall (weighted avg): ', \n",
    "              recall_score(y_test, y_hat_test, average='weighted'))\n",
    "        print('\\n')\n",
    "        print('Training Recall (macro avg): ', \n",
    "              recall_score(y_train, y_hat_train, average='macro'))\n",
    "        print('Testing Recall (macro avg): ', \n",
    "              recall_score(y_test, y_hat_test, average='macro'))\n",
    "        print('\\n')\n",
    "        print('Training F1-Score (weighted avg): ', \n",
    "              f1_score(y_train, y_hat_train, average='weighted'))\n",
    "        print('Testing F1-Score (weighted avg): ', \n",
    "              f1_score(y_test, y_hat_test, average='weighted'))\n",
    "        print('\\n')\n",
    "        print('Training F1-Score (macro avg): ', \n",
    "              f1_score(y_train, y_hat_train, average='macro'))\n",
    "        print('Testing F1-Score (macro avg): ', \n",
    "              f1_score(y_test, y_hat_test, average='macro'))\n",
    "        print('\\n')\n",
    "        print('Testing Recall (failure class): ', \n",
    "              recall_score(y_test, y_hat_test, average=None, labels=[1]))\n",
    "        print('\\n')\n",
    "    \n",
    "    print('Training Accuracy: ', accuracy_score(y_train, y_hat_train))\n",
    "    print('Testing Accuracy: ', accuracy_score(y_test, y_hat_test))"
   ]
  },
  {
   "cell_type": "markdown",
   "id": "a108aede",
   "metadata": {},
   "source": [
    "#### return_scores"
   ]
  },
  {
   "cell_type": "code",
   "execution_count": 82,
   "id": "f596a076",
   "metadata": {
    "ExecuteTime": {
     "end_time": "2022-09-15T03:01:54.639609Z",
     "start_time": "2022-09-15T03:01:54.632344Z"
    }
   },
   "outputs": [],
   "source": [
    "''' \n",
    "Function that stores relevant scoring metrics\n",
    "'''\n",
    "\n",
    "def return_scores(y_train, y_hat_train, y_test, y_hat_test):\n",
    "    r_train = recall_score(y_train, y_hat_train)\n",
    "    r_test = recall_score(y_test, y_hat_test)\n",
    "         \n",
    "    f1_train = f1_score(y_train, y_hat_train)\n",
    "    f1_test = f1_score(y_test, y_hat_test)\n",
    "\n",
    "    false_positive_rate, true_positive_rate, thresholds = roc_curve(y_test, y_hat_test)\n",
    "    roc_auc = auc(false_positive_rate, true_positive_rate)\n",
    "    \n",
    "    pr_auc = average_precision_score(y_test, y_hat_test)\n",
    "    \n",
    "    ac_train = accuracy_score(y_train, y_hat_train)\n",
    "    ac_test = accuracy_score(y_test, y_hat_test)\n",
    "    \n",
    "    return r_train, r_test, f1_train, f1_test, ac_train, ac_test, roc_auc, pr_auc"
   ]
  },
  {
   "cell_type": "markdown",
   "id": "cd703f1a",
   "metadata": {},
   "source": [
    "#### train_test_check"
   ]
  },
  {
   "cell_type": "code",
   "execution_count": null,
   "id": "89cbd4cd",
   "metadata": {},
   "outputs": [],
   "source": [
    "''' \n",
    "Function that checks new train & test splits for proper shape\n",
    "'''\n",
    "\n",
    "def train_test_check(X_train_processed, X_train_scaled, X_test_processed, \n",
    "                     X_test_scaled, y_train, y_test):\n",
    "    \n",
    "    assert X_train_processed.shape[0] == y_train.shape[0]\n",
    "    assert X_train_scaled.shape[0] == y_train.shape[0]\n",
    "    \n",
    "    assert X_test_processed.shape[0] == y_test.shape[0]\n",
    "    assert X_test_scaled.shape[0] == y_test.shape[0]\n",
    "\n",
    "    print(\"There are {} features in train set\".format(len(X_train_processed.columns)))\n",
    "    print(\"There are {} features in test set\".format(len(X_test_processed.columns)))\n",
    "\n",
    "    print(\"There are {} features in train set (scaled)\".format(len(X_train_scaled.columns)))\n",
    "    print(\"There are {} features in test set (scaled)\".format(len(X_test_scaled.columns)))\n",
    "    \n",
    "    print(f\"y_train is a Series with {y_train.shape[0]} values\")\n",
    "    print(\"target breakdown: \", y_train.value_counts(normalize=True))\n",
    "\n",
    "    display(X_train_processed.head())\n",
    "    display(X_train_scaled.head())"
   ]
  },
  {
   "cell_type": "markdown",
   "id": "8c1b15bd",
   "metadata": {},
   "source": [
    "#### correlation_check"
   ]
  },
  {
   "cell_type": "code",
   "execution_count": 937,
   "id": "f1b09ad9",
   "metadata": {
    "ExecuteTime": {
     "end_time": "2022-09-13T20:36:06.559412Z",
     "start_time": "2022-09-13T20:36:06.438568Z"
    }
   },
   "outputs": [
    {
     "data": {
      "text/html": [
       "<div>\n",
       "<style scoped>\n",
       "    .dataframe tbody tr th:only-of-type {\n",
       "        vertical-align: middle;\n",
       "    }\n",
       "\n",
       "    .dataframe tbody tr th {\n",
       "        vertical-align: top;\n",
       "    }\n",
       "\n",
       "    .dataframe thead th {\n",
       "        text-align: right;\n",
       "    }\n",
       "</style>\n",
       "<table border=\"1\" class=\"dataframe\">\n",
       "  <thead>\n",
       "    <tr style=\"text-align: right;\">\n",
       "      <th></th>\n",
       "      <th>cc</th>\n",
       "    </tr>\n",
       "    <tr>\n",
       "      <th>pairs</th>\n",
       "      <th></th>\n",
       "    </tr>\n",
       "  </thead>\n",
       "  <tbody>\n",
       "    <tr>\n",
       "      <th>(round_E, round_F)</th>\n",
       "      <td>0.734840</td>\n",
       "    </tr>\n",
       "    <tr>\n",
       "      <th>(round_F, debt_financing)</th>\n",
       "      <td>0.721803</td>\n",
       "    </tr>\n",
       "    <tr>\n",
       "      <th>(venture, round_B)</th>\n",
       "      <td>0.710362</td>\n",
       "    </tr>\n",
       "    <tr>\n",
       "      <th>(venture, round_C)</th>\n",
       "      <td>0.672736</td>\n",
       "    </tr>\n",
       "    <tr>\n",
       "      <th>(founded_year, time_to_first_funding)</th>\n",
       "      <td>0.640687</td>\n",
       "    </tr>\n",
       "    <tr>\n",
       "      <th>(round_E, debt_financing)</th>\n",
       "      <td>0.598267</td>\n",
       "    </tr>\n",
       "    <tr>\n",
       "      <th>(international, region_other)</th>\n",
       "      <td>0.578850</td>\n",
       "    </tr>\n",
       "    <tr>\n",
       "      <th>(round_D, venture)</th>\n",
       "      <td>0.542664</td>\n",
       "    </tr>\n",
       "    <tr>\n",
       "      <th>(round_A, round_B)</th>\n",
       "      <td>0.541239</td>\n",
       "    </tr>\n",
       "    <tr>\n",
       "      <th>(debt_financing, private_equity)</th>\n",
       "      <td>0.536710</td>\n",
       "    </tr>\n",
       "    <tr>\n",
       "      <th>(region_SF Bay Area, region_other)</th>\n",
       "      <td>0.527065</td>\n",
       "    </tr>\n",
       "    <tr>\n",
       "      <th>(round_A, venture)</th>\n",
       "      <td>0.526738</td>\n",
       "    </tr>\n",
       "  </tbody>\n",
       "</table>\n",
       "</div>"
      ],
      "text/plain": [
       "                                             cc\n",
       "pairs                                          \n",
       "(round_E, round_F)                     0.734840\n",
       "(round_F, debt_financing)              0.721803\n",
       "(venture, round_B)                     0.710362\n",
       "(venture, round_C)                     0.672736\n",
       "(founded_year, time_to_first_funding)  0.640687\n",
       "(round_E, debt_financing)              0.598267\n",
       "(international, region_other)          0.578850\n",
       "(round_D, venture)                     0.542664\n",
       "(round_A, round_B)                     0.541239\n",
       "(debt_financing, private_equity)       0.536710\n",
       "(region_SF Bay Area, region_other)     0.527065\n",
       "(round_A, venture)                     0.526738"
      ]
     },
     "execution_count": 937,
     "metadata": {},
     "output_type": "execute_result"
    }
   ],
   "source": [
    "''' \n",
    "Function that checks for excessive correlations across features\n",
    "'''\n",
    "def correlation_check(X_train_preprocessed):\n",
    "    \n",
    "    df_corr=X_train_processed.corr()\n",
    "\n",
    "    df = df_corr.abs().stack().reset_index().sort_values(0, ascending=False)\n",
    "    df['pairs'] = list(zip(df.level_0, df.level_1))\n",
    "    df.set_index(['pairs'], inplace = True)\n",
    "    df.drop(columns=['level_1', 'level_0'], inplace = True)\n",
    "\n",
    "    # cc for correlation coefficient\n",
    "    df.columns = ['cc']\n",
    "    df.drop_duplicates(inplace=True)\n",
    "\n",
    "    display(df[(df.cc>.5) & (df.cc<1)])"
   ]
  },
  {
   "cell_type": "markdown",
   "id": "548abff4",
   "metadata": {},
   "source": [
    "# Acquired or Closed Dataset"
   ]
  },
  {
   "cell_type": "code",
   "execution_count": 44,
   "id": "f91e8bed",
   "metadata": {
    "ExecuteTime": {
     "end_time": "2022-09-15T02:46:06.925747Z",
     "start_time": "2022-09-15T02:46:06.914757Z"
    }
   },
   "outputs": [],
   "source": [
    "data_ac = df[df['status'] != 'operating']"
   ]
  },
  {
   "cell_type": "markdown",
   "id": "82b35dea",
   "metadata": {},
   "source": [
    "## EDA / Preprocessing"
   ]
  },
  {
   "cell_type": "code",
   "execution_count": 45,
   "id": "58dc659f",
   "metadata": {
    "ExecuteTime": {
     "end_time": "2022-09-15T02:46:12.965479Z",
     "start_time": "2022-09-15T02:46:12.952887Z"
    }
   },
   "outputs": [
    {
     "data": {
      "text/plain": [
       "name                       2\n",
       "market                   611\n",
       "funding_total_usd          1\n",
       "status                  1315\n",
       "country_code             835\n",
       "state_code              2582\n",
       "region                   835\n",
       "city                     951\n",
       "funding_rounds             1\n",
       "founded_at              1720\n",
       "founded_month           1725\n",
       "founded_year            1725\n",
       "first_funding_at           1\n",
       "last_funding_at            1\n",
       "seed                       1\n",
       "venture                    1\n",
       "equity_crowdfunding        1\n",
       "undisclosed                1\n",
       "convertible_note           1\n",
       "debt_financing             1\n",
       "angel                      1\n",
       "grant                      1\n",
       "private_equity             1\n",
       "product_crowdfunding       1\n",
       "round_A                    1\n",
       "round_B                    1\n",
       "round_C                    1\n",
       "round_D                    1\n",
       "round_E                    1\n",
       "round_F                    1\n",
       "round_G                    1\n",
       "round_H                    1\n",
       "dtype: int64"
      ]
     },
     "execution_count": 45,
     "metadata": {},
     "output_type": "execute_result"
    }
   ],
   "source": [
    "data_ac.isnull().sum()"
   ]
  },
  {
   "cell_type": "code",
   "execution_count": 46,
   "id": "5b306a39",
   "metadata": {
    "ExecuteTime": {
     "end_time": "2022-09-15T02:46:15.359363Z",
     "start_time": "2022-09-15T02:46:15.352744Z"
    }
   },
   "outputs": [
    {
     "data": {
      "text/plain": [
       "7610"
      ]
     },
     "execution_count": 46,
     "metadata": {},
     "output_type": "execute_result"
    }
   ],
   "source": [
    "len(data_ac)"
   ]
  },
  {
   "cell_type": "code",
   "execution_count": 47,
   "id": "664351ec",
   "metadata": {
    "ExecuteTime": {
     "end_time": "2022-09-15T02:46:16.614469Z",
     "start_time": "2022-09-15T02:46:16.601741Z"
    }
   },
   "outputs": [
    {
     "data": {
      "text/plain": [
       "6294"
      ]
     },
     "execution_count": 47,
     "metadata": {},
     "output_type": "execute_result"
    }
   ],
   "source": [
    "data_ac = data_ac.dropna(subset=['status', 'name'])\n",
    "len(data_ac)"
   ]
  },
  {
   "cell_type": "code",
   "execution_count": 48,
   "id": "a60c512e",
   "metadata": {
    "ExecuteTime": {
     "end_time": "2022-09-15T02:46:18.633403Z",
     "start_time": "2022-09-15T02:46:18.624089Z"
    }
   },
   "outputs": [
    {
     "data": {
      "text/plain": [
       "acquired    0.58659\n",
       "closed      0.41341\n",
       "Name: status, dtype: float64"
      ]
     },
     "execution_count": 48,
     "metadata": {},
     "output_type": "execute_result"
    }
   ],
   "source": [
    "data_ac['status'].value_counts(normalize=True)"
   ]
  },
  {
   "cell_type": "code",
   "execution_count": 49,
   "id": "37854118",
   "metadata": {
    "ExecuteTime": {
     "end_time": "2022-09-15T02:46:21.505554Z",
     "start_time": "2022-09-15T02:46:21.495232Z"
    }
   },
   "outputs": [],
   "source": [
    "# filling categoricals\n",
    "data_ac = data_ac.fillna(value={'market': 'other', 'country_code': 'other', \n",
    "                                'region': 'other', 'city': 'other', \n",
    "                                'state_code': 'other'})"
   ]
  },
  {
   "cell_type": "code",
   "execution_count": 50,
   "id": "b3ec06e3",
   "metadata": {
    "ExecuteTime": {
     "end_time": "2022-09-15T02:46:23.494613Z",
     "start_time": "2022-09-15T02:46:23.234753Z"
    }
   },
   "outputs": [
    {
     "name": "stdout",
     "output_type": "stream",
     "text": [
      "1st percentile of founded_year:  1982.0\n",
      "Num Rows before 1980:  35\n"
     ]
    },
    {
     "data": {
      "image/png": "[encoded data removed]",
      "text/plain": [
       "<Figure size 432x288 with 1 Axes>"
      ]
     },
     "metadata": {
      "needs_background": "light"
     },
     "output_type": "display_data"
    }
   ],
   "source": [
    "# distribution of non NA years \n",
    "plt.hist(data_ac['founded_year'][~data_ac['founded_year'].isnull()], bins=30)\n",
    "plt.axvline(x=np.nanmean(data_ac['founded_year']), color='r')\n",
    "plt.axvline(x=np.nanmedian(data_ac['founded_year']), color='y')\n",
    "\n",
    "p1 = np.percentile(data_ac['founded_year'][~data_ac['founded_year'].isnull()], 1)\n",
    "print(\"1st percentile of founded_year: \", p1)\n",
    "\n",
    "#1980 looks like a good cutoff point\n",
    "print(\"Num Rows before 1980: \", len(data_ac[data_ac['founded_year'] < 1980]))\n",
    "data_ac = data_ac[data_ac['founded_year'] >= 1980].reset_index(drop=True)"
   ]
  },
  {
   "cell_type": "code",
   "execution_count": 51,
   "id": "bca810ba",
   "metadata": {
    "ExecuteTime": {
     "end_time": "2022-09-15T02:46:26.540417Z",
     "start_time": "2022-09-15T02:46:26.344991Z"
    }
   },
   "outputs": [],
   "source": [
    "data_ac['founded_at'] = [datetime.strptime(day, '%Y-%m-%d') for day \\\n",
    "                         in data_ac['founded_at'][~data_ac['founded_at'].isnull()]]\n",
    "data_ac['first_funding_at'] = [datetime.strptime(day, '%Y-%m-%d').date() for day \\\n",
    "                               in data_ac['first_funding_at']]\n",
    "data_ac['last_funding_at'] = [datetime.strptime(day, '%Y-%m-%d').date() for day \\\n",
    "                              in data_ac['last_funding_at']]\n",
    "data_ac['founded_month'] = [datetime.strptime(mth, \"%Y-%m\").month for mth in data_ac['founded_month']]"
   ]
  },
  {
   "cell_type": "code",
   "execution_count": 52,
   "id": "224b66b1",
   "metadata": {
    "ExecuteTime": {
     "end_time": "2022-09-15T02:46:28.379478Z",
     "start_time": "2022-09-15T02:46:28.347786Z"
    }
   },
   "outputs": [],
   "source": [
    "# imputing median for day, then pulling founded year and month from that\n",
    "imp_median = SimpleImputer(missing_values=np.nan, strategy='median')\n",
    "\n",
    "data_ac['founded_at'] = imp_median.fit_transform(data_ac[['founded_at']])\n",
    "\n",
    "data_ac['founded_at'] = pd.to_datetime(data_ac['founded_at'])\n",
    "data_ac['founded_year'] = [day.year for day in data_ac['founded_at']]\n",
    "data_ac['founded_month'] = [day.month for day in data_ac['founded_at']]"
   ]
  },
  {
   "cell_type": "code",
   "execution_count": 53,
   "id": "acbeaec9",
   "metadata": {
    "ExecuteTime": {
     "end_time": "2022-09-15T02:46:29.930899Z",
     "start_time": "2022-09-15T02:46:29.924713Z"
    }
   },
   "outputs": [],
   "source": [
    "# creating column that labels country as domestic or international\n",
    "data_ac['international'] = [0 if country=='USA' else 1 for country in data_ac['country_code']]"
   ]
  },
  {
   "cell_type": "code",
   "execution_count": 54,
   "id": "4d34de84",
   "metadata": {
    "ExecuteTime": {
     "end_time": "2022-09-15T02:46:31.661678Z",
     "start_time": "2022-09-15T02:46:31.639114Z"
    }
   },
   "outputs": [],
   "source": [
    "# creating temporary columns to aid in calcuation of time to first funding\n",
    "\n",
    "data_ac['founded_at_temp'] = [day.date() for day in data_ac['founded_at']]\n",
    "data_ac['founded_at_temp'] = pd.to_datetime(data_ac['founded_at_temp'], \n",
    "                                            format = '%Y-%m-%d')\n",
    "\n",
    "data_ac['first_funding_at_temp'] = pd.to_datetime(data_ac['first_funding_at'], \n",
    "                                                  format = '%Y-%m-%d', \n",
    "                                                  errors='coerce')\n",
    "data_ac['last_funding_at_temp'] = pd.to_datetime(data_ac['last_funding_at'], \n",
    "                                                 format = '%Y-%m-%d', \n",
    "                                                 errors='coerce')\n",
    "\n",
    "data_ac['time_to_first_funding'] = (data_ac['first_funding_at_temp'] - \\\n",
    "                                    data_ac['founded_at_temp']) / pd.Timedelta(days=365)\n",
    "\n",
    "data_ac['time_first_to_last_funding'] = (data_ac['last_funding_at_temp'] - \\\n",
    "                                         data_ac['first_funding_at_temp']) / pd.Timedelta(days=365)"
   ]
  },
  {
   "cell_type": "code",
   "execution_count": 55,
   "id": "fb52f68f",
   "metadata": {
    "ExecuteTime": {
     "end_time": "2022-09-15T02:46:33.961200Z",
     "start_time": "2022-09-15T02:46:33.952638Z"
    }
   },
   "outputs": [
    {
     "name": "stdout",
     "output_type": "stream",
     "text": [
      "3697    0011-11-14\n",
      "Name: first_funding_at, dtype: object\n",
      "3697    2012-07-24\n",
      "Name: last_funding_at, dtype: object\n"
     ]
    }
   ],
   "source": [
    "# checking for nulls\n",
    "print(data_ac['first_funding_at'][data_ac['time_to_first_funding'].isnull()])\n",
    "print(data_ac['last_funding_at'][data_ac['time_first_to_last_funding'].isnull()])"
   ]
  },
  {
   "cell_type": "code",
   "execution_count": 56,
   "id": "5ce65ff6",
   "metadata": {
    "ExecuteTime": {
     "end_time": "2022-09-15T02:46:35.666448Z",
     "start_time": "2022-09-15T02:46:35.655150Z"
    }
   },
   "outputs": [],
   "source": [
    "data_ac = data_ac.dropna(subset=['time_to_first_funding']).reset_index(drop=True)"
   ]
  },
  {
   "cell_type": "code",
   "execution_count": 57,
   "id": "019893c8",
   "metadata": {
    "ExecuteTime": {
     "end_time": "2022-09-15T02:46:40.201297Z",
     "start_time": "2022-09-15T02:46:37.529683Z"
    }
   },
   "outputs": [
    {
     "data": {
      "text/plain": [
       "Text(0.5, 1.0, 'Heatmap of Correlation Between Attributes (Including Status)')"
      ]
     },
     "execution_count": 57,
     "metadata": {},
     "output_type": "execute_result"
    },
    {
     "data": {
      "image/png": "[encoded data removed]",
      "text/plain": [
       "<Figure size 1440x1440 with 2 Axes>"
      ]
     },
     "metadata": {
      "needs_background": "light"
     },
     "output_type": "display_data"
    }
   ],
   "source": [
    "# with status\n",
    "encoder = LabelEncoder()\n",
    "heatmap_data = pd.concat([pd.Series(encoder.fit_transform(data_ac['status'])), \n",
    "                          data_ac.drop('status', axis=1)], axis=1)\n",
    "\n",
    "# without status\n",
    "#heatmap_data = data.drop('status', axis=1)\n",
    "\n",
    "h_corr = heatmap_data.corr()\n",
    "fig, ax = plt.subplots(figsize=(20, 20))\n",
    "mask = np.triu(np.ones_like(h_corr, dtype=bool))\n",
    "cmap = sns.diverging_palette(130, 50, as_cmap=True)\n",
    "cbar_kws = {'label': 'Correlation', 'orientation': 'horizontal', \n",
    "            'pad': .1, 'extend': 'both'}\n",
    "sns.heatmap(data=h_corr, mask=mask, ax=ax, annot=True, cbar_kws=cbar_kws, cmap=cmap)\n",
    "ax.set_title('Heatmap of Correlation Between Attributes (Including Status)')"
   ]
  },
  {
   "cell_type": "code",
   "execution_count": 58,
   "id": "da21c403",
   "metadata": {
    "ExecuteTime": {
     "end_time": "2022-09-15T02:46:43.562769Z",
     "start_time": "2022-09-15T02:46:43.541975Z"
    }
   },
   "outputs": [
    {
     "data": {
      "text/html": [
       "<div>\n",
       "<style scoped>\n",
       "    .dataframe tbody tr th:only-of-type {\n",
       "        vertical-align: middle;\n",
       "    }\n",
       "\n",
       "    .dataframe tbody tr th {\n",
       "        vertical-align: top;\n",
       "    }\n",
       "\n",
       "    .dataframe thead th {\n",
       "        text-align: right;\n",
       "    }\n",
       "</style>\n",
       "<table border=\"1\" class=\"dataframe\">\n",
       "  <thead>\n",
       "    <tr style=\"text-align: right;\">\n",
       "      <th></th>\n",
       "      <th>cc</th>\n",
       "    </tr>\n",
       "    <tr>\n",
       "      <th>pairs</th>\n",
       "      <th></th>\n",
       "    </tr>\n",
       "  </thead>\n",
       "  <tbody>\n",
       "    <tr>\n",
       "      <th>(founded_year, time_to_first_funding)</th>\n",
       "      <td>0.819908</td>\n",
       "    </tr>\n",
       "    <tr>\n",
       "      <th>(time_first_to_last_funding, funding_rounds)</th>\n",
       "      <td>0.812019</td>\n",
       "    </tr>\n",
       "  </tbody>\n",
       "</table>\n",
       "</div>"
      ],
      "text/plain": [
       "                                                    cc\n",
       "pairs                                                 \n",
       "(founded_year, time_to_first_funding)         0.819908\n",
       "(time_first_to_last_funding, funding_rounds)  0.812019"
      ]
     },
     "execution_count": 58,
     "metadata": {},
     "output_type": "execute_result"
    }
   ],
   "source": [
    "corr = h_corr.abs().stack().reset_index().sort_values(0, ascending=False)\n",
    "corr['pairs'] = list(zip(corr.level_0, corr.level_1))\n",
    "corr.set_index(['pairs'], inplace = True)\n",
    "corr.drop(columns=['level_1', 'level_0'], inplace = True)\n",
    "\n",
    "# cc for correlation coefficient\n",
    "corr.columns = ['cc']\n",
    "corr.drop_duplicates(inplace=True)\n",
    "\n",
    "corr[(corr['cc'] > 0.7) & (corr['cc'] < 1)]"
   ]
  },
  {
   "cell_type": "code",
   "execution_count": 71,
   "id": "5492266f",
   "metadata": {
    "ExecuteTime": {
     "end_time": "2022-09-15T03:01:06.619449Z",
     "start_time": "2022-09-15T03:01:06.593325Z"
    }
   },
   "outputs": [
    {
     "name": "stdout",
     "output_type": "stream",
     "text": [
      "48\n",
      "other                      1162\n",
      " Software                   569\n",
      " Curated Web                347\n",
      " Mobile                     281\n",
      " Enterprise Software        200\n",
      " Biotechnology              189\n",
      " Advertising                173\n",
      " Games                      172\n",
      " E-Commerce                 164\n",
      " Social Media               136\n",
      " Hardware + Software        100\n",
      " Semiconductors              96\n",
      " Security                    92\n",
      " Web Hosting                 84\n",
      " Clean Technology            78\n",
      " Health Care                 75\n",
      " Finance                     71\n",
      " Analytics                   59\n",
      " Messaging                   55\n",
      " Search                      54\n",
      " News                        47\n",
      " Music                       45\n",
      " Education                   43\n",
      " Public Relations            42\n",
      " Video                       41\n",
      " Travel                      40\n",
      " Networking                  38\n",
      " Photography                 36\n",
      " Social Network Media        34\n",
      " Consulting                  33\n",
      " Health and Wellness         32\n",
      " SaaS                        29\n",
      " Sports                      25\n",
      " Internet                    23\n",
      " Web Development             23\n",
      " Sales and Marketing         23\n",
      " Manufacturing               21\n",
      " Android                     20\n",
      " Cloud Computing             20\n",
      " iPhone                      19\n",
      " Fashion                     19\n",
      " Apps                        18\n",
      " Facebook Applications       18\n",
      " Marketplaces                18\n",
      " Hospitality                 17\n",
      " Automotive                  17\n",
      " Shopping                    17\n",
      " Real Estate                 15\n",
      "Name: market, dtype: int64\n",
      "13\n",
      "other               2128\n",
      "SF Bay Area         1250\n",
      "New York City        338\n",
      "Boston               260\n",
      "Los Angeles          186\n",
      "London               146\n",
      "Seattle              143\n",
      "Washington, D.C.      85\n",
      "Chicago               85\n",
      "Austin                84\n",
      "San Diego             77\n",
      "Denver                75\n",
      "Tel Aviv              73\n",
      "Name: region, dtype: int64\n"
     ]
    }
   ],
   "source": [
    "# reducing number of categories in market & region\n",
    "\n",
    "print(sum(data_ac['market'].value_counts() >= 15))\n",
    "data_ac['market'][data_ac['market'].map(data_ac['market'].value_counts()) < 15] = 'other'\n",
    "print(data_ac['market'].value_counts())\n",
    "\n",
    "print(sum(data_ac['region'].value_counts() >= 60))\n",
    "data_ac['region'][data_ac['region'].map(data_ac['region'].value_counts()) < 60] = 'other'\n",
    "print(data_ac['region'].value_counts())"
   ]
  },
  {
   "cell_type": "code",
   "execution_count": 72,
   "id": "90c0db90",
   "metadata": {
    "ExecuteTime": {
     "end_time": "2022-09-15T03:01:26.858052Z",
     "start_time": "2022-09-15T03:01:26.845938Z"
    }
   },
   "outputs": [],
   "source": [
    "# dropping correlated columns for logistic regression, which can be\n",
    "# sensitive to correlated features\n",
    "data_final = data_ac.drop(columns=['founded_at', 'first_funding_at', 'last_funding_at', \n",
    "                                   'first_funding_at_temp', 'last_funding_at_temp', \n",
    "                                   'founded_at_temp', 'round_H', 'founded_year',  \n",
    "                                   'time_first_to_last_funding'], \n",
    "                       axis=1)\n",
    "# all inclusive\n",
    "data_final2 = data_ac.drop(columns=['founded_at', 'first_funding_at', 'last_funding_at', \n",
    "                                    'first_funding_at_temp', 'last_funding_at_temp', \n",
    "                                    'founded_at_temp', 'round_H'], \n",
    "                       axis=1)"
   ]
  },
  {
   "cell_type": "code",
   "execution_count": 73,
   "id": "6f4e6fa6",
   "metadata": {
    "ExecuteTime": {
     "end_time": "2022-09-15T03:01:28.598972Z",
     "start_time": "2022-09-15T03:01:28.587236Z"
    }
   },
   "outputs": [
    {
     "data": {
      "text/plain": [
       "Index(['name', 'market', 'funding_total_usd', 'status', 'country_code',\n",
       "       'state_code', 'region', 'city', 'funding_rounds', 'founded_month',\n",
       "       'seed', 'venture', 'equity_crowdfunding', 'undisclosed',\n",
       "       'convertible_note', 'debt_financing', 'angel', 'grant',\n",
       "       'private_equity', 'product_crowdfunding', 'round_A', 'round_B',\n",
       "       'round_C', 'round_D', 'round_E', 'round_F', 'round_G', 'international',\n",
       "       'time_to_first_funding'],\n",
       "      dtype='object')"
      ]
     },
     "execution_count": 73,
     "metadata": {},
     "output_type": "execute_result"
    }
   ],
   "source": [
    "data_final.columns"
   ]
  },
  {
   "cell_type": "code",
   "execution_count": 74,
   "id": "949c0b4b",
   "metadata": {
    "ExecuteTime": {
     "end_time": "2022-09-15T03:01:30.574353Z",
     "start_time": "2022-09-15T03:01:30.567934Z"
    }
   },
   "outputs": [
    {
     "data": {
      "text/plain": [
       "Index(['name', 'market', 'funding_total_usd', 'status', 'country_code',\n",
       "       'state_code', 'region', 'city', 'funding_rounds', 'founded_month',\n",
       "       'founded_year', 'seed', 'venture', 'equity_crowdfunding', 'undisclosed',\n",
       "       'convertible_note', 'debt_financing', 'angel', 'grant',\n",
       "       'private_equity', 'product_crowdfunding', 'round_A', 'round_B',\n",
       "       'round_C', 'round_D', 'round_E', 'round_F', 'round_G', 'international',\n",
       "       'time_to_first_funding', 'time_first_to_last_funding'],\n",
       "      dtype='object')"
      ]
     },
     "execution_count": 74,
     "metadata": {},
     "output_type": "execute_result"
    }
   ],
   "source": [
    "data_final2.columns"
   ]
  },
  {
   "cell_type": "markdown",
   "id": "3cdd1bee",
   "metadata": {},
   "source": [
    "## X/Y Split"
   ]
  },
  {
   "cell_type": "code",
   "execution_count": 75,
   "id": "637f7f03",
   "metadata": {
    "ExecuteTime": {
     "end_time": "2022-09-15T03:01:33.585227Z",
     "start_time": "2022-09-15T03:01:33.571879Z"
    }
   },
   "outputs": [
    {
     "data": {
      "text/plain": [
       "0    0.59716\n",
       "1    0.40284\n",
       "dtype: float64"
      ]
     },
     "execution_count": 75,
     "metadata": {},
     "output_type": "execute_result"
    }
   ],
   "source": [
    "X_ac_lr = data_final.drop(columns=['status', 'name', 'country_code', \n",
    "                                   'state_code', 'city'], axis=1)\n",
    "\n",
    "encoder = LabelEncoder()\n",
    "y_ac_lr = pd.Series(encoder.fit_transform(data_final['status'])) \n",
    "# acquired is 0, closed is 1\n",
    "\n",
    "y_ac_lr.value_counts(normalize=True)"
   ]
  },
  {
   "cell_type": "code",
   "execution_count": 76,
   "id": "0fc99e9e",
   "metadata": {
    "ExecuteTime": {
     "end_time": "2022-09-15T03:01:35.403742Z",
     "start_time": "2022-09-15T03:01:35.388893Z"
    }
   },
   "outputs": [
    {
     "data": {
      "text/plain": [
       "0    0.59716\n",
       "1    0.40284\n",
       "dtype: float64"
      ]
     },
     "execution_count": 76,
     "metadata": {},
     "output_type": "execute_result"
    }
   ],
   "source": [
    "X_ac = data_final2.drop(columns=['status', 'name', 'country_code', 'state_code', \n",
    "                             'city'], axis=1)\n",
    "\n",
    "encoder = LabelEncoder()\n",
    "y_ac = pd.Series(encoder.fit_transform(data_final2['status'])) \n",
    "# acquired is 0, closed is 1\n",
    "\n",
    "y_ac.value_counts(normalize=True)"
   ]
  },
  {
   "cell_type": "markdown",
   "id": "cdc093d3",
   "metadata": {},
   "source": [
    "## Baseline Model"
   ]
  },
  {
   "cell_type": "code",
   "execution_count": 77,
   "id": "f1d1c370",
   "metadata": {
    "ExecuteTime": {
     "end_time": "2022-09-15T03:01:37.819645Z",
     "start_time": "2022-09-15T03:01:37.769245Z"
    }
   },
   "outputs": [],
   "source": [
    "X_train_processed, X_train_scaled, X_test_processed, \\\n",
    "X_test_scaled, y_train, y_test = train_test_preprocess(X_ac_lr, y_ac_lr)"
   ]
  },
  {
   "cell_type": "code",
   "execution_count": 78,
   "id": "20a7a0df",
   "metadata": {
    "ExecuteTime": {
     "end_time": "2022-09-15T03:01:38.886500Z",
     "start_time": "2022-09-15T03:01:38.881399Z"
    }
   },
   "outputs": [
    {
     "name": "stdout",
     "output_type": "stream",
     "text": [
      "There are 82 features in train set\n",
      "There are 82 features in test set\n",
      "There are 82 features in train set (scaled)\n",
      "There are 82 features in test set (scaled)\n"
     ]
    }
   ],
   "source": [
    "print(\"There are {} features in train set\".format(len(X_train_processed.columns)))\n",
    "print(\"There are {} features in test set\".format(len(X_test_processed.columns)))\n",
    "\n",
    "print(\"There are {} features in train set (scaled)\".format(len(X_train_scaled.columns)))\n",
    "print(\"There are {} features in test set (scaled)\".format(len(X_test_scaled.columns)))"
   ]
  },
  {
   "cell_type": "code",
   "execution_count": 79,
   "id": "8c80cddf",
   "metadata": {
    "ExecuteTime": {
     "end_time": "2022-09-15T03:01:42.772661Z",
     "start_time": "2022-09-15T03:01:42.595396Z"
    }
   },
   "outputs": [
    {
     "data": {
      "text/plain": [
       "LogisticRegression(random_state=42)"
      ]
     },
     "execution_count": 79,
     "metadata": {},
     "output_type": "execute_result"
    }
   ],
   "source": [
    "baseline_model = LogisticRegression(random_state=42)\n",
    "baseline_model.fit(X_train_scaled, y_train)"
   ]
  },
  {
   "cell_type": "code",
   "execution_count": 83,
   "id": "8e5433c7",
   "metadata": {
    "ExecuteTime": {
     "end_time": "2022-09-15T03:02:02.059199Z",
     "start_time": "2022-09-15T03:02:02.019129Z"
    }
   },
   "outputs": [
    {
     "name": "stdout",
     "output_type": "stream",
     "text": [
      "Training Recall:  0.5843981170141224\n",
      "Testing Recall:  0.5571142284569138\n",
      "\n",
      "\n",
      "Training F1:  0.6329206117989803\n",
      "Testing F1:  0.601081081081081\n",
      "\n",
      "\n",
      "ROC AUC:  0.6777396755363587\n",
      "PR AUC:  0.5428004381562778\n",
      "\n",
      "\n",
      "Training Accuracy:  0.7273464971598593\n",
      "Testing Accuracy:  0.7007299270072993\n"
     ]
    }
   ],
   "source": [
    "y_hat_train = baseline_model.predict(X_train_scaled)\n",
    "y_hat_test = baseline_model.predict(X_test_scaled)\n",
    "\n",
    "print_scores(y_train, y_hat_train, y_test, y_hat_test)"
   ]
  },
  {
   "cell_type": "markdown",
   "id": "a3be48a2",
   "metadata": {},
   "source": [
    "### Baseline Analysis\n",
    "\n",
    "* point A\n",
    "* point B\n",
    "* point C"
   ]
  },
  {
   "cell_type": "markdown",
   "id": "6f9af917",
   "metadata": {},
   "source": [
    "### Grid Search on Baseline"
   ]
  },
  {
   "cell_type": "code",
   "execution_count": 84,
   "id": "fb3eafee",
   "metadata": {
    "ExecuteTime": {
     "end_time": "2022-09-15T03:02:14.280134Z",
     "start_time": "2022-09-15T03:02:14.274952Z"
    }
   },
   "outputs": [],
   "source": [
    "param_grid = {'penalty':['l2', None],\n",
    "              'solver':['lbfgs', 'sag'],\n",
    "              'C': [1.0, 1e12], \n",
    "              'class_weight': [None, 'balanced']\n",
    "             }"
   ]
  },
  {
   "cell_type": "code",
   "execution_count": 85,
   "id": "010c2363",
   "metadata": {
    "ExecuteTime": {
     "end_time": "2022-09-15T03:02:21.612048Z",
     "start_time": "2022-09-15T03:02:15.780150Z"
    }
   },
   "outputs": [
    {
     "data": {
      "text/plain": [
       "{'C': 1000000000000.0,\n",
       " 'class_weight': 'balanced',\n",
       " 'penalty': 'l2',\n",
       " 'solver': 'lbfgs'}"
      ]
     },
     "execution_count": 85,
     "metadata": {},
     "output_type": "execute_result"
    }
   ],
   "source": [
    "grid_logreg = GridSearchCV(baseline_model, param_grid, cv = 5, \n",
    "                           scoring='recall') # macro or weighted\n",
    "grid_logreg.fit(X_train_scaled, y_train)\n",
    "grid_logreg.best_params_"
   ]
  },
  {
   "cell_type": "code",
   "execution_count": 86,
   "id": "b35ff47d",
   "metadata": {
    "ExecuteTime": {
     "end_time": "2022-09-15T03:02:26.858977Z",
     "start_time": "2022-09-15T03:02:26.821045Z"
    }
   },
   "outputs": [
    {
     "name": "stdout",
     "output_type": "stream",
     "text": [
      "Training Recall:  0.753866845998655\n",
      "Testing Recall:  0.7114228456913828\n",
      "\n",
      "\n",
      "Training F1:  0.6812518991188088\n",
      "Testing F1:  0.6472196900638104\n",
      "\n",
      "\n",
      "ROC AUC:  0.6901800876958277\n",
      "PR AUC:  0.5391212814027342\n",
      "\n",
      "\n",
      "Training Accuracy:  0.7162564241276711\n",
      "Testing Accuracy:  0.6861313868613139\n"
     ]
    }
   ],
   "source": [
    "y_preds_grid_lr_train = grid_logreg.predict(X_train_scaled)\n",
    "y_preds_grid_lr = grid_logreg.predict(X_test_scaled)\n",
    "\n",
    "print_scores(y_train, y_preds_grid_lr_train, y_test, y_preds_grid_lr)"
   ]
  },
  {
   "cell_type": "markdown",
   "id": "cb1563f1",
   "metadata": {},
   "source": [
    "## Custom Pipeline"
   ]
  },
  {
   "cell_type": "code",
   "execution_count": 87,
   "id": "858f977a",
   "metadata": {
    "ExecuteTime": {
     "end_time": "2022-09-15T03:02:34.881918Z",
     "start_time": "2022-09-15T03:02:34.876037Z"
    }
   },
   "outputs": [],
   "source": [
    "scores = pd.DataFrame(columns = ['recall_train', 'recall_test', 'f1_train', \n",
    "                                 'f1_test', 'accuracy_train', 'accuracy_test', \n",
    "                                 'roc_auc', 'pr_auc', 'params'])"
   ]
  },
  {
   "cell_type": "code",
   "execution_count": 88,
   "id": "412cb3a6",
   "metadata": {
    "ExecuteTime": {
     "end_time": "2022-09-15T03:02:36.833804Z",
     "start_time": "2022-09-15T03:02:36.823888Z"
    }
   },
   "outputs": [],
   "source": [
    "# creates a data frame with various scores for each model\n",
    "def customPipe(model, model_name, X, y):\n",
    "    X_train_processed, X_train_scaled, X_test_processed, X_test_scaled, \\\n",
    "    y_train, y_test = train_test_preprocess(X, y)\n",
    "    \n",
    "    if ('lr' in model_name) | ('knn' in model_name):\n",
    "    #(model_name == 'lr') | (model_name == 'knn'):\n",
    "        model.fit(X_train_scaled, y_train)\n",
    "        y_hat_train = model.predict(X_train_scaled)\n",
    "        y_hat_test = model.predict(X_test_scaled)\n",
    "\n",
    "    else:\n",
    "        model.fit(X_train_processed, y_train)\n",
    "        y_hat_train = model.predict(X_train_processed)\n",
    "        y_hat_test = model.predict(X_test_processed)\n",
    "    \n",
    "    r_train, r_test, f1_train, f1_test, ac_train, ac_test, roc_auc, pr_auc = \\\n",
    "    return_scores(y_train, y_hat_train, y_test, y_hat_test)\n",
    "    \n",
    "    score_list = []\n",
    "    score_list.extend((r_train, r_test, f1_train, f1_test, \n",
    "                       ac_train, ac_test, roc_auc, pr_auc, str(model)))\n",
    "    \n",
    "    scores.loc[model_name] = score_list\n",
    "    return scores"
   ]
  },
  {
   "cell_type": "code",
   "execution_count": 91,
   "id": "0ff104d5",
   "metadata": {
    "ExecuteTime": {
     "end_time": "2022-09-15T03:03:19.011574Z",
     "start_time": "2022-09-15T03:03:19.007133Z"
    }
   },
   "outputs": [],
   "source": [
    "# model inputs\n",
    "lr = LogisticRegression(random_state=42, class_weight='balanced', solver='sag')\n",
    "rf = RandomForestClassifier(random_state=42)\n",
    "dtc = DecisionTreeClassifier(random_state=42)\n",
    "ext = ExtraTreesClassifier(random_state=42)\n",
    "xgb = XGBClassifier(random_state=42)\n",
    "knn = KNeighborsClassifier()"
   ]
  },
  {
   "cell_type": "code",
   "execution_count": 92,
   "id": "33802e63",
   "metadata": {
    "ExecuteTime": {
     "end_time": "2022-09-15T03:03:28.977079Z",
     "start_time": "2022-09-15T03:03:24.242189Z"
    }
   },
   "outputs": [
    {
     "data": {
      "text/html": [
       "<div>\n",
       "<style scoped>\n",
       "    .dataframe tbody tr th:only-of-type {\n",
       "        vertical-align: middle;\n",
       "    }\n",
       "\n",
       "    .dataframe tbody tr th {\n",
       "        vertical-align: top;\n",
       "    }\n",
       "\n",
       "    .dataframe thead th {\n",
       "        text-align: right;\n",
       "    }\n",
       "</style>\n",
       "<table border=\"1\" class=\"dataframe\">\n",
       "  <thead>\n",
       "    <tr style=\"text-align: right;\">\n",
       "      <th></th>\n",
       "      <th>recall_train</th>\n",
       "      <th>recall_test</th>\n",
       "      <th>f1_train</th>\n",
       "      <th>f1_test</th>\n",
       "      <th>accuracy_train</th>\n",
       "      <th>accuracy_test</th>\n",
       "      <th>roc_auc</th>\n",
       "      <th>pr_auc</th>\n",
       "      <th>params</th>\n",
       "    </tr>\n",
       "  </thead>\n",
       "  <tbody>\n",
       "    <tr>\n",
       "      <th>lr_base</th>\n",
       "      <td>0.750504</td>\n",
       "      <td>0.711423</td>\n",
       "      <td>0.678626</td>\n",
       "      <td>0.644868</td>\n",
       "      <td>0.714093</td>\n",
       "      <td>0.682887</td>\n",
       "      <td>0.687455</td>\n",
       "      <td>0.536315</td>\n",
       "      <td>LogisticRegression(class_weight='balanced', ra...</td>\n",
       "    </tr>\n",
       "    <tr>\n",
       "      <th>rf</th>\n",
       "      <td>1.000000</td>\n",
       "      <td>0.595190</td>\n",
       "      <td>1.000000</td>\n",
       "      <td>0.645652</td>\n",
       "      <td>1.000000</td>\n",
       "      <td>0.735604</td>\n",
       "      <td>0.713127</td>\n",
       "      <td>0.583713</td>\n",
       "      <td>RandomForestClassifier(random_state=42)</td>\n",
       "    </tr>\n",
       "    <tr>\n",
       "      <th>dtc</th>\n",
       "      <td>1.000000</td>\n",
       "      <td>0.551102</td>\n",
       "      <td>1.000000</td>\n",
       "      <td>0.554435</td>\n",
       "      <td>1.000000</td>\n",
       "      <td>0.641525</td>\n",
       "      <td>0.627050</td>\n",
       "      <td>0.489081</td>\n",
       "      <td>DecisionTreeClassifier(random_state=42)</td>\n",
       "    </tr>\n",
       "    <tr>\n",
       "      <th>ext</th>\n",
       "      <td>1.000000</td>\n",
       "      <td>0.573146</td>\n",
       "      <td>1.000000</td>\n",
       "      <td>0.612420</td>\n",
       "      <td>1.000000</td>\n",
       "      <td>0.706407</td>\n",
       "      <td>0.685075</td>\n",
       "      <td>0.549577</td>\n",
       "      <td>ExtraTreesClassifier(random_state=42)</td>\n",
       "    </tr>\n",
       "    <tr>\n",
       "      <th>xgb</th>\n",
       "      <td>0.911903</td>\n",
       "      <td>0.605210</td>\n",
       "      <td>0.907327</td>\n",
       "      <td>0.626556</td>\n",
       "      <td>0.925074</td>\n",
       "      <td>0.708029</td>\n",
       "      <td>0.691570</td>\n",
       "      <td>0.552834</td>\n",
       "      <td>XGBClassifier(base_score=0.5, booster='gbtree'...</td>\n",
       "    </tr>\n",
       "    <tr>\n",
       "      <th>knn</th>\n",
       "      <td>0.709482</td>\n",
       "      <td>0.577154</td>\n",
       "      <td>0.714528</td>\n",
       "      <td>0.576577</td>\n",
       "      <td>0.771977</td>\n",
       "      <td>0.656934</td>\n",
       "      <td>0.644163</td>\n",
       "      <td>0.503568</td>\n",
       "      <td>KNeighborsClassifier()</td>\n",
       "    </tr>\n",
       "  </tbody>\n",
       "</table>\n",
       "</div>"
      ],
      "text/plain": [
       "         recall_train  recall_test  f1_train   f1_test  accuracy_train  \\\n",
       "lr_base      0.750504     0.711423  0.678626  0.644868        0.714093   \n",
       "rf           1.000000     0.595190  1.000000  0.645652        1.000000   \n",
       "dtc          1.000000     0.551102  1.000000  0.554435        1.000000   \n",
       "ext          1.000000     0.573146  1.000000  0.612420        1.000000   \n",
       "xgb          0.911903     0.605210  0.907327  0.626556        0.925074   \n",
       "knn          0.709482     0.577154  0.714528  0.576577        0.771977   \n",
       "\n",
       "         accuracy_test   roc_auc    pr_auc  \\\n",
       "lr_base       0.682887  0.687455  0.536315   \n",
       "rf            0.735604  0.713127  0.583713   \n",
       "dtc           0.641525  0.627050  0.489081   \n",
       "ext           0.706407  0.685075  0.549577   \n",
       "xgb           0.708029  0.691570  0.552834   \n",
       "knn           0.656934  0.644163  0.503568   \n",
       "\n",
       "                                                    params  \n",
       "lr_base  LogisticRegression(class_weight='balanced', ra...  \n",
       "rf                 RandomForestClassifier(random_state=42)  \n",
       "dtc                DecisionTreeClassifier(random_state=42)  \n",
       "ext                  ExtraTreesClassifier(random_state=42)  \n",
       "xgb      XGBClassifier(base_score=0.5, booster='gbtree'...  \n",
       "knn                                 KNeighborsClassifier()  "
      ]
     },
     "execution_count": 92,
     "metadata": {},
     "output_type": "execute_result"
    }
   ],
   "source": [
    "# running the function\n",
    "customPipe(lr, 'lr_base', X_ac_lr, y_ac_lr)\n",
    "customPipe(rf, 'rf', X_ac, y_ac)\n",
    "customPipe(dtc, 'dtc', X_ac, y_ac)\n",
    "customPipe(ext, 'ext', X_ac, y_ac)\n",
    "customPipe(xgb, 'xgb', X_ac, y_ac)\n",
    "customPipe(knn, 'knn', X_ac, y_ac)"
   ]
  },
  {
   "cell_type": "markdown",
   "id": "18674a28",
   "metadata": {},
   "source": [
    "Looking at recall and accuracy, the Random Forest and XGBoost models seem to yield the best scores. Will hyper tune each of these models."
   ]
  },
  {
   "cell_type": "code",
   "execution_count": 93,
   "id": "44506728",
   "metadata": {
    "ExecuteTime": {
     "end_time": "2022-09-15T03:03:41.388023Z",
     "start_time": "2022-09-15T03:03:41.384444Z"
    }
   },
   "outputs": [],
   "source": [
    "# storing dataframe for easy access\n",
    "scores_base = scores # models pre hyper parameter tuning"
   ]
  },
  {
   "cell_type": "markdown",
   "id": "2bd6a8b7",
   "metadata": {},
   "source": [
    "## Other Models - Hypertuning"
   ]
  },
  {
   "cell_type": "markdown",
   "id": "aabde300",
   "metadata": {},
   "source": [
    "### Random Forest"
   ]
  },
  {
   "cell_type": "code",
   "execution_count": 111,
   "id": "a0494c87",
   "metadata": {
    "ExecuteTime": {
     "end_time": "2022-09-15T03:16:06.750136Z",
     "start_time": "2022-09-15T03:15:41.088378Z"
    }
   },
   "outputs": [
    {
     "data": {
      "text/plain": [
       "{'class_weight': 'balanced',\n",
       " 'criterion': 'gini',\n",
       " 'max_depth': 20,\n",
       " 'min_samples_leaf': 15,\n",
       " 'n_estimators': 100}"
      ]
     },
     "execution_count": 111,
     "metadata": {},
     "output_type": "execute_result"
    }
   ],
   "source": [
    "rf = RandomForestClassifier(random_state=42)\n",
    "\n",
    "# Initial search\n",
    "rf_param_grid = {\n",
    "    'criterion':['gini','entropy','log_loss'],\n",
    "    'max_depth':[8,12,20],\n",
    "    'min_samples_leaf': [5,10],\n",
    "    'class_weight': [None, 'balanced']\n",
    "}\n",
    "\n",
    "# Fine tuning\n",
    "rf_param_grid2 = {\n",
    "    'criterion':['gini'],\n",
    "    'max_depth':[20,25],\n",
    "    'min_samples_leaf': [10,15,20],\n",
    "    'class_weight': ['balanced'],\n",
    "    'n_estimators': [100, 200]\n",
    "}\n",
    "\n",
    "grid_rfc = GridSearchCV(rf, rf_param_grid2, cv = 5, scoring='recall') \n",
    "grid_rfc.fit(X_train_processed, y_train)\n",
    "\n",
    "grid_rfc.best_params_"
   ]
  },
  {
   "cell_type": "code",
   "execution_count": 113,
   "id": "3da8ba0b",
   "metadata": {
    "ExecuteTime": {
     "end_time": "2022-09-15T03:16:18.510580Z",
     "start_time": "2022-09-15T03:16:18.043050Z"
    }
   },
   "outputs": [
    {
     "data": {
      "text/html": [
       "<div>\n",
       "<style scoped>\n",
       "    .dataframe tbody tr th:only-of-type {\n",
       "        vertical-align: middle;\n",
       "    }\n",
       "\n",
       "    .dataframe tbody tr th {\n",
       "        vertical-align: top;\n",
       "    }\n",
       "\n",
       "    .dataframe thead th {\n",
       "        text-align: right;\n",
       "    }\n",
       "</style>\n",
       "<table border=\"1\" class=\"dataframe\">\n",
       "  <thead>\n",
       "    <tr style=\"text-align: right;\">\n",
       "      <th></th>\n",
       "      <th>recall_train</th>\n",
       "      <th>recall_test</th>\n",
       "      <th>f1_train</th>\n",
       "      <th>f1_test</th>\n",
       "      <th>accuracy_train</th>\n",
       "      <th>accuracy_test</th>\n",
       "      <th>roc_auc</th>\n",
       "      <th>pr_auc</th>\n",
       "      <th>params</th>\n",
       "    </tr>\n",
       "  </thead>\n",
       "  <tbody>\n",
       "    <tr>\n",
       "      <th>lr_base</th>\n",
       "      <td>0.750504</td>\n",
       "      <td>0.711423</td>\n",
       "      <td>0.678626</td>\n",
       "      <td>0.644868</td>\n",
       "      <td>0.714093</td>\n",
       "      <td>0.682887</td>\n",
       "      <td>0.687455</td>\n",
       "      <td>0.536315</td>\n",
       "      <td>LogisticRegression(class_weight='balanced', ra...</td>\n",
       "    </tr>\n",
       "    <tr>\n",
       "      <th>rf</th>\n",
       "      <td>1.000000</td>\n",
       "      <td>0.595190</td>\n",
       "      <td>1.000000</td>\n",
       "      <td>0.645652</td>\n",
       "      <td>1.000000</td>\n",
       "      <td>0.735604</td>\n",
       "      <td>0.713127</td>\n",
       "      <td>0.583713</td>\n",
       "      <td>RandomForestClassifier(random_state=42)</td>\n",
       "    </tr>\n",
       "    <tr>\n",
       "      <th>dtc</th>\n",
       "      <td>1.000000</td>\n",
       "      <td>0.551102</td>\n",
       "      <td>1.000000</td>\n",
       "      <td>0.554435</td>\n",
       "      <td>1.000000</td>\n",
       "      <td>0.641525</td>\n",
       "      <td>0.627050</td>\n",
       "      <td>0.489081</td>\n",
       "      <td>DecisionTreeClassifier(random_state=42)</td>\n",
       "    </tr>\n",
       "    <tr>\n",
       "      <th>ext</th>\n",
       "      <td>1.000000</td>\n",
       "      <td>0.573146</td>\n",
       "      <td>1.000000</td>\n",
       "      <td>0.612420</td>\n",
       "      <td>1.000000</td>\n",
       "      <td>0.706407</td>\n",
       "      <td>0.685075</td>\n",
       "      <td>0.549577</td>\n",
       "      <td>ExtraTreesClassifier(random_state=42)</td>\n",
       "    </tr>\n",
       "    <tr>\n",
       "      <th>xgb</th>\n",
       "      <td>0.911903</td>\n",
       "      <td>0.605210</td>\n",
       "      <td>0.907327</td>\n",
       "      <td>0.626556</td>\n",
       "      <td>0.925074</td>\n",
       "      <td>0.708029</td>\n",
       "      <td>0.691570</td>\n",
       "      <td>0.552834</td>\n",
       "      <td>XGBClassifier(base_score=0.5, booster='gbtree'...</td>\n",
       "    </tr>\n",
       "    <tr>\n",
       "      <th>knn</th>\n",
       "      <td>0.709482</td>\n",
       "      <td>0.577154</td>\n",
       "      <td>0.714528</td>\n",
       "      <td>0.576577</td>\n",
       "      <td>0.771977</td>\n",
       "      <td>0.656934</td>\n",
       "      <td>0.644163</td>\n",
       "      <td>0.503568</td>\n",
       "      <td>KNeighborsClassifier()</td>\n",
       "    </tr>\n",
       "    <tr>\n",
       "      <th>rf_best</th>\n",
       "      <td>0.741762</td>\n",
       "      <td>0.711423</td>\n",
       "      <td>0.708641</td>\n",
       "      <td>0.685328</td>\n",
       "      <td>0.754666</td>\n",
       "      <td>0.735604</td>\n",
       "      <td>0.731733</td>\n",
       "      <td>0.587096</td>\n",
       "      <td>RandomForestClassifier(class_weight='balanced'...</td>\n",
       "    </tr>\n",
       "    <tr>\n",
       "      <th>xgb_best</th>\n",
       "      <td>0.815064</td>\n",
       "      <td>0.811623</td>\n",
       "      <td>0.708151</td>\n",
       "      <td>0.694683</td>\n",
       "      <td>0.729781</td>\n",
       "      <td>0.711273</td>\n",
       "      <td>0.727338</td>\n",
       "      <td>0.569052</td>\n",
       "      <td>XGBClassifier(base_score=0.5, booster='gbtree'...</td>\n",
       "    </tr>\n",
       "    <tr>\n",
       "      <th>ext_best</th>\n",
       "      <td>0.760592</td>\n",
       "      <td>0.705411</td>\n",
       "      <td>0.723377</td>\n",
       "      <td>0.669202</td>\n",
       "      <td>0.766027</td>\n",
       "      <td>0.717762</td>\n",
       "      <td>0.715784</td>\n",
       "      <td>0.568235</td>\n",
       "      <td>ExtraTreesClassifier(class_weight='balanced', ...</td>\n",
       "    </tr>\n",
       "    <tr>\n",
       "      <th>dtc_best</th>\n",
       "      <td>0.738399</td>\n",
       "      <td>0.735471</td>\n",
       "      <td>0.701149</td>\n",
       "      <td>0.689202</td>\n",
       "      <td>0.746822</td>\n",
       "      <td>0.731549</td>\n",
       "      <td>0.732177</td>\n",
       "      <td>0.583943</td>\n",
       "      <td>DecisionTreeClassifier(class_weight='balanced'...</td>\n",
       "    </tr>\n",
       "  </tbody>\n",
       "</table>\n",
       "</div>"
      ],
      "text/plain": [
       "          recall_train  recall_test  f1_train   f1_test  accuracy_train  \\\n",
       "lr_base       0.750504     0.711423  0.678626  0.644868        0.714093   \n",
       "rf            1.000000     0.595190  1.000000  0.645652        1.000000   \n",
       "dtc           1.000000     0.551102  1.000000  0.554435        1.000000   \n",
       "ext           1.000000     0.573146  1.000000  0.612420        1.000000   \n",
       "xgb           0.911903     0.605210  0.907327  0.626556        0.925074   \n",
       "knn           0.709482     0.577154  0.714528  0.576577        0.771977   \n",
       "rf_best       0.741762     0.711423  0.708641  0.685328        0.754666   \n",
       "xgb_best      0.815064     0.811623  0.708151  0.694683        0.729781   \n",
       "ext_best      0.760592     0.705411  0.723377  0.669202        0.766027   \n",
       "dtc_best      0.738399     0.735471  0.701149  0.689202        0.746822   \n",
       "\n",
       "          accuracy_test   roc_auc    pr_auc  \\\n",
       "lr_base        0.682887  0.687455  0.536315   \n",
       "rf             0.735604  0.713127  0.583713   \n",
       "dtc            0.641525  0.627050  0.489081   \n",
       "ext            0.706407  0.685075  0.549577   \n",
       "xgb            0.708029  0.691570  0.552834   \n",
       "knn            0.656934  0.644163  0.503568   \n",
       "rf_best        0.735604  0.731733  0.587096   \n",
       "xgb_best       0.711273  0.727338  0.569052   \n",
       "ext_best       0.717762  0.715784  0.568235   \n",
       "dtc_best       0.731549  0.732177  0.583943   \n",
       "\n",
       "                                                     params  \n",
       "lr_base   LogisticRegression(class_weight='balanced', ra...  \n",
       "rf                  RandomForestClassifier(random_state=42)  \n",
       "dtc                 DecisionTreeClassifier(random_state=42)  \n",
       "ext                   ExtraTreesClassifier(random_state=42)  \n",
       "xgb       XGBClassifier(base_score=0.5, booster='gbtree'...  \n",
       "knn                                  KNeighborsClassifier()  \n",
       "rf_best   RandomForestClassifier(class_weight='balanced'...  \n",
       "xgb_best  XGBClassifier(base_score=0.5, booster='gbtree'...  \n",
       "ext_best  ExtraTreesClassifier(class_weight='balanced', ...  \n",
       "dtc_best  DecisionTreeClassifier(class_weight='balanced'...  "
      ]
     },
     "execution_count": 113,
     "metadata": {},
     "output_type": "execute_result"
    }
   ],
   "source": [
    "rf_best = RandomForestClassifier(random_state = 42, class_weight='balanced', \n",
    "                                 criterion='gini', max_depth=20, #12\n",
    "                                 min_samples_leaf=15, n_estimators=100) #100\n",
    "customPipe(rf_best, 'rf_best', X_ac, y_ac)"
   ]
  },
  {
   "cell_type": "markdown",
   "id": "11f917a2",
   "metadata": {},
   "source": [
    "#### Feature Importance"
   ]
  },
  {
   "cell_type": "code",
   "execution_count": 97,
   "id": "7d8ac73d",
   "metadata": {
    "ExecuteTime": {
     "end_time": "2022-09-15T03:08:04.360812Z",
     "start_time": "2022-09-15T03:08:04.331703Z"
    }
   },
   "outputs": [],
   "source": [
    "feats = {} # a dict to hold feature_name: feature_importance\n",
    "for feature, importance in zip(X_train_processed.columns, rf_best.feature_importances_):\n",
    "    feats[feature] = importance #add the name/value pair \n",
    "\n",
    "feats_rf = pd.DataFrame(feats.items())\n",
    "\n",
    "feats_rf.columns = ['col', 'feat_importance']\n",
    "feats_rf = feats_rf.sort_values(by=['feat_importance'], ascending=False)\n",
    "feats_rf_20 = feats_rf[:20]\n",
    "feats_rf_30 = feats_rf[:30]"
   ]
  },
  {
   "cell_type": "code",
   "execution_count": 99,
   "id": "528b3297",
   "metadata": {
    "ExecuteTime": {
     "end_time": "2022-09-15T03:08:17.544203Z",
     "start_time": "2022-09-15T03:08:17.106360Z"
    }
   },
   "outputs": [
    {
     "data": {
      "image/png": "[encoded data removed]",
      "text/plain": [
       "<Figure size 720x504 with 1 Axes>"
      ]
     },
     "metadata": {
      "needs_background": "light"
     },
     "output_type": "display_data"
    }
   ],
   "source": [
    "fig, ax = plt.subplots(figsize = (10,7))\n",
    "feats_rf_30.plot.bar(ax=ax) # yerr=std, \n",
    "ax.set_title(\"Feature importances using MDI\")\n",
    "ax.set_ylabel(\"Mean decrease in impurity\")\n",
    "ax.set_xticklabels(feats_rf_30['col'])\n",
    "fig.tight_layout()"
   ]
  },
  {
   "cell_type": "code",
   "execution_count": 1420,
   "id": "76c07f42",
   "metadata": {
    "ExecuteTime": {
     "end_time": "2022-09-14T20:31:13.537029Z",
     "start_time": "2022-09-14T20:31:13.529435Z"
    }
   },
   "outputs": [
    {
     "data": {
      "text/plain": [
       "['venture',\n",
       " 'founded_month',\n",
       " 'funding_rounds',\n",
       " 'time_to_first_funding',\n",
       " 'round_B',\n",
       " 'round_A',\n",
       " 'international',\n",
       " 'round_C',\n",
       " 'seed',\n",
       " 'region_other']"
      ]
     },
     "execution_count": 1420,
     "metadata": {},
     "output_type": "execute_result"
    }
   ],
   "source": [
    "list(feats_rf['col'][:10])"
   ]
  },
  {
   "cell_type": "markdown",
   "id": "5f318aa2",
   "metadata": {},
   "source": [
    "### XG Boost**"
   ]
  },
  {
   "cell_type": "code",
   "execution_count": 1303,
   "id": "42a96796",
   "metadata": {
    "ExecuteTime": {
     "end_time": "2022-09-14T18:49:39.710329Z",
     "start_time": "2022-09-14T18:42:30.860469Z"
    }
   },
   "outputs": [
    {
     "data": {
      "text/plain": [
       "{'learning_rate': 0.1,\n",
       " 'max_depth': 4,\n",
       " 'min_child_weight': 5,\n",
       " 'scale_pos_weight': 1.5,\n",
       " 'subsample': 0.7}"
      ]
     },
     "execution_count": 1303,
     "metadata": {},
     "output_type": "execute_result"
    }
   ],
   "source": [
    "# 45+ runtime\n",
    "xgb = XGBClassifier(random_state=42)\n",
    "\n",
    "# initial grid search\n",
    "xgb_param_grid = {\n",
    "    'learning_rate': [0.1, 0.2],\n",
    "    'max_depth': [4,6,8],\n",
    "    'min_child_weight': [3,5,7],\n",
    "    'subsample': [0.5, 0.7],\n",
    "    'scale_pos_weight':[1.5,2]\n",
    "}\n",
    "\n",
    "# fine tuning\n",
    "xgb_param_grid2 = {\n",
    "    'learning_rate': [0.1],\n",
    "    'max_depth': [1,2,4],\n",
    "    'min_child_weight': [1,5,10],\n",
    "    'subsample': [0.7, 0.9],\n",
    "    'scale_pos_weight':[2]\n",
    "}\n",
    "\n",
    "grid_xgb = GridSearchCV(xgb, xgb_param_grid2, cv = 5, scoring='recall') \n",
    "grid_xgb.fit(X_train_processed, y_train)\n",
    "\n",
    "grid_xgb.best_params_"
   ]
  },
  {
   "cell_type": "code",
   "execution_count": 101,
   "id": "2dc35d8c",
   "metadata": {
    "ExecuteTime": {
     "end_time": "2022-09-15T03:08:44.406696Z",
     "start_time": "2022-09-15T03:08:43.986728Z"
    }
   },
   "outputs": [
    {
     "data": {
      "text/html": [
       "<div>\n",
       "<style scoped>\n",
       "    .dataframe tbody tr th:only-of-type {\n",
       "        vertical-align: middle;\n",
       "    }\n",
       "\n",
       "    .dataframe tbody tr th {\n",
       "        vertical-align: top;\n",
       "    }\n",
       "\n",
       "    .dataframe thead th {\n",
       "        text-align: right;\n",
       "    }\n",
       "</style>\n",
       "<table border=\"1\" class=\"dataframe\">\n",
       "  <thead>\n",
       "    <tr style=\"text-align: right;\">\n",
       "      <th></th>\n",
       "      <th>recall_train</th>\n",
       "      <th>recall_test</th>\n",
       "      <th>f1_train</th>\n",
       "      <th>f1_test</th>\n",
       "      <th>accuracy_train</th>\n",
       "      <th>accuracy_test</th>\n",
       "      <th>roc_auc</th>\n",
       "      <th>pr_auc</th>\n",
       "      <th>params</th>\n",
       "    </tr>\n",
       "  </thead>\n",
       "  <tbody>\n",
       "    <tr>\n",
       "      <th>lr_base</th>\n",
       "      <td>0.750504</td>\n",
       "      <td>0.711423</td>\n",
       "      <td>0.678626</td>\n",
       "      <td>0.644868</td>\n",
       "      <td>0.714093</td>\n",
       "      <td>0.682887</td>\n",
       "      <td>0.687455</td>\n",
       "      <td>0.536315</td>\n",
       "      <td>LogisticRegression(class_weight='balanced', ra...</td>\n",
       "    </tr>\n",
       "    <tr>\n",
       "      <th>rf</th>\n",
       "      <td>1.000000</td>\n",
       "      <td>0.595190</td>\n",
       "      <td>1.000000</td>\n",
       "      <td>0.645652</td>\n",
       "      <td>1.000000</td>\n",
       "      <td>0.735604</td>\n",
       "      <td>0.713127</td>\n",
       "      <td>0.583713</td>\n",
       "      <td>RandomForestClassifier(random_state=42)</td>\n",
       "    </tr>\n",
       "    <tr>\n",
       "      <th>dtc</th>\n",
       "      <td>1.000000</td>\n",
       "      <td>0.551102</td>\n",
       "      <td>1.000000</td>\n",
       "      <td>0.554435</td>\n",
       "      <td>1.000000</td>\n",
       "      <td>0.641525</td>\n",
       "      <td>0.627050</td>\n",
       "      <td>0.489081</td>\n",
       "      <td>DecisionTreeClassifier(random_state=42)</td>\n",
       "    </tr>\n",
       "    <tr>\n",
       "      <th>ext</th>\n",
       "      <td>1.000000</td>\n",
       "      <td>0.573146</td>\n",
       "      <td>1.000000</td>\n",
       "      <td>0.612420</td>\n",
       "      <td>1.000000</td>\n",
       "      <td>0.706407</td>\n",
       "      <td>0.685075</td>\n",
       "      <td>0.549577</td>\n",
       "      <td>ExtraTreesClassifier(random_state=42)</td>\n",
       "    </tr>\n",
       "    <tr>\n",
       "      <th>xgb</th>\n",
       "      <td>0.911903</td>\n",
       "      <td>0.605210</td>\n",
       "      <td>0.907327</td>\n",
       "      <td>0.626556</td>\n",
       "      <td>0.925074</td>\n",
       "      <td>0.708029</td>\n",
       "      <td>0.691570</td>\n",
       "      <td>0.552834</td>\n",
       "      <td>XGBClassifier(base_score=0.5, booster='gbtree'...</td>\n",
       "    </tr>\n",
       "    <tr>\n",
       "      <th>knn</th>\n",
       "      <td>0.709482</td>\n",
       "      <td>0.577154</td>\n",
       "      <td>0.714528</td>\n",
       "      <td>0.576577</td>\n",
       "      <td>0.771977</td>\n",
       "      <td>0.656934</td>\n",
       "      <td>0.644163</td>\n",
       "      <td>0.503568</td>\n",
       "      <td>KNeighborsClassifier()</td>\n",
       "    </tr>\n",
       "    <tr>\n",
       "      <th>rf_best</th>\n",
       "      <td>0.749159</td>\n",
       "      <td>0.713427</td>\n",
       "      <td>0.720103</td>\n",
       "      <td>0.689922</td>\n",
       "      <td>0.765756</td>\n",
       "      <td>0.740470</td>\n",
       "      <td>0.736141</td>\n",
       "      <td>0.592488</td>\n",
       "      <td>RandomForestClassifier(class_weight='balanced'...</td>\n",
       "    </tr>\n",
       "    <tr>\n",
       "      <th>xgb_best</th>\n",
       "      <td>0.815064</td>\n",
       "      <td>0.811623</td>\n",
       "      <td>0.708151</td>\n",
       "      <td>0.694683</td>\n",
       "      <td>0.729781</td>\n",
       "      <td>0.711273</td>\n",
       "      <td>0.727338</td>\n",
       "      <td>0.569052</td>\n",
       "      <td>XGBClassifier(base_score=0.5, booster='gbtree'...</td>\n",
       "    </tr>\n",
       "  </tbody>\n",
       "</table>\n",
       "</div>"
      ],
      "text/plain": [
       "          recall_train  recall_test  f1_train   f1_test  accuracy_train  \\\n",
       "lr_base       0.750504     0.711423  0.678626  0.644868        0.714093   \n",
       "rf            1.000000     0.595190  1.000000  0.645652        1.000000   \n",
       "dtc           1.000000     0.551102  1.000000  0.554435        1.000000   \n",
       "ext           1.000000     0.573146  1.000000  0.612420        1.000000   \n",
       "xgb           0.911903     0.605210  0.907327  0.626556        0.925074   \n",
       "knn           0.709482     0.577154  0.714528  0.576577        0.771977   \n",
       "rf_best       0.749159     0.713427  0.720103  0.689922        0.765756   \n",
       "xgb_best      0.815064     0.811623  0.708151  0.694683        0.729781   \n",
       "\n",
       "          accuracy_test   roc_auc    pr_auc  \\\n",
       "lr_base        0.682887  0.687455  0.536315   \n",
       "rf             0.735604  0.713127  0.583713   \n",
       "dtc            0.641525  0.627050  0.489081   \n",
       "ext            0.706407  0.685075  0.549577   \n",
       "xgb            0.708029  0.691570  0.552834   \n",
       "knn            0.656934  0.644163  0.503568   \n",
       "rf_best        0.740470  0.736141  0.592488   \n",
       "xgb_best       0.711273  0.727338  0.569052   \n",
       "\n",
       "                                                     params  \n",
       "lr_base   LogisticRegression(class_weight='balanced', ra...  \n",
       "rf                  RandomForestClassifier(random_state=42)  \n",
       "dtc                 DecisionTreeClassifier(random_state=42)  \n",
       "ext                   ExtraTreesClassifier(random_state=42)  \n",
       "xgb       XGBClassifier(base_score=0.5, booster='gbtree'...  \n",
       "knn                                  KNeighborsClassifier()  \n",
       "rf_best   RandomForestClassifier(class_weight='balanced'...  \n",
       "xgb_best  XGBClassifier(base_score=0.5, booster='gbtree'...  "
      ]
     },
     "execution_count": 101,
     "metadata": {},
     "output_type": "execute_result"
    }
   ],
   "source": [
    "xgb_best = XGBClassifier(random_state=42, max_depth=1, min_child_weight=10, \n",
    "                         subsample=0.7, learning_rate=0.2, scale_pos_weight=2)\n",
    "\n",
    "customPipe(xgb_best, 'xgb_best', X_ac, y_ac)"
   ]
  },
  {
   "cell_type": "markdown",
   "id": "cf8edb2b",
   "metadata": {},
   "source": [
    "#### Feature Importance"
   ]
  },
  {
   "cell_type": "code",
   "execution_count": 102,
   "id": "417e3d56",
   "metadata": {
    "ExecuteTime": {
     "end_time": "2022-09-15T03:09:20.067593Z",
     "start_time": "2022-09-15T03:09:19.740114Z"
    }
   },
   "outputs": [
    {
     "data": {
      "text/plain": [
       "XGBClassifier(base_score=0.5, booster='gbtree', colsample_bylevel=1,\n",
       "              colsample_bynode=1, colsample_bytree=1, gamma=0, gpu_id=-1,\n",
       "              importance_type='gain', interaction_constraints='',\n",
       "              learning_rate=0.2, max_delta_step=0, max_depth=1,\n",
       "              min_child_weight=10, missing=nan, monotone_constraints='()',\n",
       "              n_estimators=100, n_jobs=0, num_parallel_tree=1, random_state=42,\n",
       "              reg_alpha=0, reg_lambda=1, scale_pos_weight=2, subsample=0.7,\n",
       "              tree_method='exact', validate_parameters=1, verbosity=None)"
      ]
     },
     "execution_count": 102,
     "metadata": {},
     "output_type": "execute_result"
    }
   ],
   "source": [
    "xgb_best.fit(X_train_processed, y_train)"
   ]
  },
  {
   "cell_type": "code",
   "execution_count": 103,
   "id": "ffbab614",
   "metadata": {
    "ExecuteTime": {
     "end_time": "2022-09-15T03:09:21.715070Z",
     "start_time": "2022-09-15T03:09:21.699514Z"
    }
   },
   "outputs": [
    {
     "data": {
      "text/html": [
       "<div>\n",
       "<style scoped>\n",
       "    .dataframe tbody tr th:only-of-type {\n",
       "        vertical-align: middle;\n",
       "    }\n",
       "\n",
       "    .dataframe tbody tr th {\n",
       "        vertical-align: top;\n",
       "    }\n",
       "\n",
       "    .dataframe thead th {\n",
       "        text-align: right;\n",
       "    }\n",
       "</style>\n",
       "<table border=\"1\" class=\"dataframe\">\n",
       "  <thead>\n",
       "    <tr style=\"text-align: right;\">\n",
       "      <th></th>\n",
       "      <th>col</th>\n",
       "      <th>feat_importance</th>\n",
       "    </tr>\n",
       "  </thead>\n",
       "  <tbody>\n",
       "    <tr>\n",
       "      <th>0</th>\n",
       "      <td>venture</td>\n",
       "      <td>134.900483</td>\n",
       "    </tr>\n",
       "    <tr>\n",
       "      <th>1</th>\n",
       "      <td>international</td>\n",
       "      <td>77.368477</td>\n",
       "    </tr>\n",
       "    <tr>\n",
       "      <th>2</th>\n",
       "      <td>time_to_first_funding</td>\n",
       "      <td>39.460186</td>\n",
       "    </tr>\n",
       "    <tr>\n",
       "      <th>3</th>\n",
       "      <td>funding_rounds</td>\n",
       "      <td>38.109841</td>\n",
       "    </tr>\n",
       "    <tr>\n",
       "      <th>4</th>\n",
       "      <td>region_other</td>\n",
       "      <td>33.013571</td>\n",
       "    </tr>\n",
       "    <tr>\n",
       "      <th>5</th>\n",
       "      <td>market_ Clean Technology</td>\n",
       "      <td>19.729716</td>\n",
       "    </tr>\n",
       "    <tr>\n",
       "      <th>6</th>\n",
       "      <td>seed</td>\n",
       "      <td>18.691132</td>\n",
       "    </tr>\n",
       "    <tr>\n",
       "      <th>7</th>\n",
       "      <td>round_D</td>\n",
       "      <td>18.596737</td>\n",
       "    </tr>\n",
       "    <tr>\n",
       "      <th>8</th>\n",
       "      <td>market_other</td>\n",
       "      <td>18.351200</td>\n",
       "    </tr>\n",
       "    <tr>\n",
       "      <th>9</th>\n",
       "      <td>round_B</td>\n",
       "      <td>16.784238</td>\n",
       "    </tr>\n",
       "    <tr>\n",
       "      <th>10</th>\n",
       "      <td>market_ Biotechnology</td>\n",
       "      <td>16.442935</td>\n",
       "    </tr>\n",
       "    <tr>\n",
       "      <th>11</th>\n",
       "      <td>private_equity</td>\n",
       "      <td>14.701151</td>\n",
       "    </tr>\n",
       "    <tr>\n",
       "      <th>12</th>\n",
       "      <td>region_SF Bay Area</td>\n",
       "      <td>13.921106</td>\n",
       "    </tr>\n",
       "    <tr>\n",
       "      <th>13</th>\n",
       "      <td>market_ Advertising</td>\n",
       "      <td>13.384049</td>\n",
       "    </tr>\n",
       "    <tr>\n",
       "      <th>14</th>\n",
       "      <td>market_ Enterprise Software</td>\n",
       "      <td>12.926447</td>\n",
       "    </tr>\n",
       "  </tbody>\n",
       "</table>\n",
       "</div>"
      ],
      "text/plain": [
       "                             col  feat_importance\n",
       "0                        venture       134.900483\n",
       "1                  international        77.368477\n",
       "2          time_to_first_funding        39.460186\n",
       "3                 funding_rounds        38.109841\n",
       "4                   region_other        33.013571\n",
       "5      market_ Clean Technology         19.729716\n",
       "6                           seed        18.691132\n",
       "7                        round_D        18.596737\n",
       "8                   market_other        18.351200\n",
       "9                        round_B        16.784238\n",
       "10        market_ Biotechnology         16.442935\n",
       "11                private_equity        14.701151\n",
       "12            region_SF Bay Area        13.921106\n",
       "13          market_ Advertising         13.384049\n",
       "14  market_ Enterprise Software         12.926447"
      ]
     },
     "execution_count": 103,
     "metadata": {},
     "output_type": "execute_result"
    }
   ],
   "source": [
    "f = 'gain' # importance type\n",
    "feat_imp = xgb_best.get_booster().get_score(importance_type= f)\n",
    "feats_xg = pd.DataFrame(sorted(feat_imp.items(), key=lambda item: item[1], \n",
    "                            reverse=True))\n",
    "feats_xg.columns = ['col', 'feat_importance']\n",
    "feats_xg[:15]"
   ]
  },
  {
   "cell_type": "code",
   "execution_count": 104,
   "id": "044d0a55",
   "metadata": {
    "ExecuteTime": {
     "end_time": "2022-09-15T03:09:45.948170Z",
     "start_time": "2022-09-15T03:09:45.645255Z"
    }
   },
   "outputs": [
    {
     "data": {
      "image/png": "[encoded data removed]",
      "text/plain": [
       "<Figure size 432x288 with 1 Axes>"
      ]
     },
     "metadata": {
      "needs_background": "light"
     },
     "output_type": "display_data"
    }
   ],
   "source": [
    "from xgboost import plot_importance\n",
    "plot_importance(xgb_best, max_num_features=20, importance_type=f, \n",
    "                show_values=False)\n",
    "plt.show()"
   ]
  },
  {
   "cell_type": "markdown",
   "id": "d6ac6f17",
   "metadata": {
    "heading_collapsed": true
   },
   "source": [
    "### ExtraTrees"
   ]
  },
  {
   "cell_type": "code",
   "execution_count": 106,
   "id": "68790eb7",
   "metadata": {
    "ExecuteTime": {
     "end_time": "2022-09-15T03:11:28.216343Z",
     "start_time": "2022-09-15T03:11:07.910108Z"
    },
    "hidden": true
   },
   "outputs": [
    {
     "data": {
      "text/plain": [
       "{'class_weight': 'balanced',\n",
       " 'criterion': 'gini',\n",
       " 'max_depth': 25,\n",
       " 'max_features': 'auto',\n",
       " 'min_samples_leaf': 5}"
      ]
     },
     "execution_count": 106,
     "metadata": {},
     "output_type": "execute_result"
    }
   ],
   "source": [
    "ext_param_grid = {'criterion':['entropy','gini'],\n",
    "              'max_depth':[15,20,25],\n",
    "              'min_samples_leaf': [1,5],\n",
    "              'class_weight': ['balanced'],\n",
    "              'max_features': ['auto']\n",
    "             }\n",
    "\n",
    "ext = ExtraTreesClassifier(random_state=42)\n",
    "\n",
    "grid_ext = GridSearchCV(ext, ext_param_grid, cv = 5, scoring='recall') \n",
    "grid_ext.fit(X_train_processed, y_train)\n",
    "\n",
    "grid_ext.best_params_"
   ]
  },
  {
   "cell_type": "code",
   "execution_count": 107,
   "id": "2f62e7dc",
   "metadata": {
    "ExecuteTime": {
     "end_time": "2022-09-15T03:11:49.251380Z",
     "start_time": "2022-09-15T03:11:48.721386Z"
    },
    "hidden": true
   },
   "outputs": [
    {
     "data": {
      "text/html": [
       "<div>\n",
       "<style scoped>\n",
       "    .dataframe tbody tr th:only-of-type {\n",
       "        vertical-align: middle;\n",
       "    }\n",
       "\n",
       "    .dataframe tbody tr th {\n",
       "        vertical-align: top;\n",
       "    }\n",
       "\n",
       "    .dataframe thead th {\n",
       "        text-align: right;\n",
       "    }\n",
       "</style>\n",
       "<table border=\"1\" class=\"dataframe\">\n",
       "  <thead>\n",
       "    <tr style=\"text-align: right;\">\n",
       "      <th></th>\n",
       "      <th>recall_train</th>\n",
       "      <th>recall_test</th>\n",
       "      <th>f1_train</th>\n",
       "      <th>f1_test</th>\n",
       "      <th>accuracy_train</th>\n",
       "      <th>accuracy_test</th>\n",
       "      <th>roc_auc</th>\n",
       "      <th>pr_auc</th>\n",
       "      <th>params</th>\n",
       "    </tr>\n",
       "  </thead>\n",
       "  <tbody>\n",
       "    <tr>\n",
       "      <th>lr_base</th>\n",
       "      <td>0.750504</td>\n",
       "      <td>0.711423</td>\n",
       "      <td>0.678626</td>\n",
       "      <td>0.644868</td>\n",
       "      <td>0.714093</td>\n",
       "      <td>0.682887</td>\n",
       "      <td>0.687455</td>\n",
       "      <td>0.536315</td>\n",
       "      <td>LogisticRegression(class_weight='balanced', ra...</td>\n",
       "    </tr>\n",
       "    <tr>\n",
       "      <th>rf</th>\n",
       "      <td>1.000000</td>\n",
       "      <td>0.595190</td>\n",
       "      <td>1.000000</td>\n",
       "      <td>0.645652</td>\n",
       "      <td>1.000000</td>\n",
       "      <td>0.735604</td>\n",
       "      <td>0.713127</td>\n",
       "      <td>0.583713</td>\n",
       "      <td>RandomForestClassifier(random_state=42)</td>\n",
       "    </tr>\n",
       "    <tr>\n",
       "      <th>dtc</th>\n",
       "      <td>1.000000</td>\n",
       "      <td>0.551102</td>\n",
       "      <td>1.000000</td>\n",
       "      <td>0.554435</td>\n",
       "      <td>1.000000</td>\n",
       "      <td>0.641525</td>\n",
       "      <td>0.627050</td>\n",
       "      <td>0.489081</td>\n",
       "      <td>DecisionTreeClassifier(random_state=42)</td>\n",
       "    </tr>\n",
       "    <tr>\n",
       "      <th>ext</th>\n",
       "      <td>1.000000</td>\n",
       "      <td>0.573146</td>\n",
       "      <td>1.000000</td>\n",
       "      <td>0.612420</td>\n",
       "      <td>1.000000</td>\n",
       "      <td>0.706407</td>\n",
       "      <td>0.685075</td>\n",
       "      <td>0.549577</td>\n",
       "      <td>ExtraTreesClassifier(random_state=42)</td>\n",
       "    </tr>\n",
       "    <tr>\n",
       "      <th>xgb</th>\n",
       "      <td>0.911903</td>\n",
       "      <td>0.605210</td>\n",
       "      <td>0.907327</td>\n",
       "      <td>0.626556</td>\n",
       "      <td>0.925074</td>\n",
       "      <td>0.708029</td>\n",
       "      <td>0.691570</td>\n",
       "      <td>0.552834</td>\n",
       "      <td>XGBClassifier(base_score=0.5, booster='gbtree'...</td>\n",
       "    </tr>\n",
       "    <tr>\n",
       "      <th>knn</th>\n",
       "      <td>0.709482</td>\n",
       "      <td>0.577154</td>\n",
       "      <td>0.714528</td>\n",
       "      <td>0.576577</td>\n",
       "      <td>0.771977</td>\n",
       "      <td>0.656934</td>\n",
       "      <td>0.644163</td>\n",
       "      <td>0.503568</td>\n",
       "      <td>KNeighborsClassifier()</td>\n",
       "    </tr>\n",
       "    <tr>\n",
       "      <th>rf_best</th>\n",
       "      <td>0.749159</td>\n",
       "      <td>0.713427</td>\n",
       "      <td>0.720103</td>\n",
       "      <td>0.689922</td>\n",
       "      <td>0.765756</td>\n",
       "      <td>0.740470</td>\n",
       "      <td>0.736141</td>\n",
       "      <td>0.592488</td>\n",
       "      <td>RandomForestClassifier(class_weight='balanced'...</td>\n",
       "    </tr>\n",
       "    <tr>\n",
       "      <th>xgb_best</th>\n",
       "      <td>0.815064</td>\n",
       "      <td>0.811623</td>\n",
       "      <td>0.708151</td>\n",
       "      <td>0.694683</td>\n",
       "      <td>0.729781</td>\n",
       "      <td>0.711273</td>\n",
       "      <td>0.727338</td>\n",
       "      <td>0.569052</td>\n",
       "      <td>XGBClassifier(base_score=0.5, booster='gbtree'...</td>\n",
       "    </tr>\n",
       "    <tr>\n",
       "      <th>ext_best</th>\n",
       "      <td>0.760592</td>\n",
       "      <td>0.705411</td>\n",
       "      <td>0.723377</td>\n",
       "      <td>0.669202</td>\n",
       "      <td>0.766027</td>\n",
       "      <td>0.717762</td>\n",
       "      <td>0.715784</td>\n",
       "      <td>0.568235</td>\n",
       "      <td>ExtraTreesClassifier(class_weight='balanced', ...</td>\n",
       "    </tr>\n",
       "  </tbody>\n",
       "</table>\n",
       "</div>"
      ],
      "text/plain": [
       "          recall_train  recall_test  f1_train   f1_test  accuracy_train  \\\n",
       "lr_base       0.750504     0.711423  0.678626  0.644868        0.714093   \n",
       "rf            1.000000     0.595190  1.000000  0.645652        1.000000   \n",
       "dtc           1.000000     0.551102  1.000000  0.554435        1.000000   \n",
       "ext           1.000000     0.573146  1.000000  0.612420        1.000000   \n",
       "xgb           0.911903     0.605210  0.907327  0.626556        0.925074   \n",
       "knn           0.709482     0.577154  0.714528  0.576577        0.771977   \n",
       "rf_best       0.749159     0.713427  0.720103  0.689922        0.765756   \n",
       "xgb_best      0.815064     0.811623  0.708151  0.694683        0.729781   \n",
       "ext_best      0.760592     0.705411  0.723377  0.669202        0.766027   \n",
       "\n",
       "          accuracy_test   roc_auc    pr_auc  \\\n",
       "lr_base        0.682887  0.687455  0.536315   \n",
       "rf             0.735604  0.713127  0.583713   \n",
       "dtc            0.641525  0.627050  0.489081   \n",
       "ext            0.706407  0.685075  0.549577   \n",
       "xgb            0.708029  0.691570  0.552834   \n",
       "knn            0.656934  0.644163  0.503568   \n",
       "rf_best        0.740470  0.736141  0.592488   \n",
       "xgb_best       0.711273  0.727338  0.569052   \n",
       "ext_best       0.717762  0.715784  0.568235   \n",
       "\n",
       "                                                     params  \n",
       "lr_base   LogisticRegression(class_weight='balanced', ra...  \n",
       "rf                  RandomForestClassifier(random_state=42)  \n",
       "dtc                 DecisionTreeClassifier(random_state=42)  \n",
       "ext                   ExtraTreesClassifier(random_state=42)  \n",
       "xgb       XGBClassifier(base_score=0.5, booster='gbtree'...  \n",
       "knn                                  KNeighborsClassifier()  \n",
       "rf_best   RandomForestClassifier(class_weight='balanced'...  \n",
       "xgb_best  XGBClassifier(base_score=0.5, booster='gbtree'...  \n",
       "ext_best  ExtraTreesClassifier(class_weight='balanced', ...  "
      ]
     },
     "execution_count": 107,
     "metadata": {},
     "output_type": "execute_result"
    }
   ],
   "source": [
    "ext_grid = ExtraTreesClassifier(random_state=42, class_weight='balanced',\n",
    "                                criterion='gini', max_depth= 25,\n",
    "                                max_features='auto', min_samples_leaf= 5)\n",
    "customPipe(ext_grid, 'ext_best', X_ac, y_ac)"
   ]
  },
  {
   "cell_type": "markdown",
   "id": "e5d9e72d",
   "metadata": {},
   "source": [
    "### Decision Tree**"
   ]
  },
  {
   "cell_type": "code",
   "execution_count": 109,
   "id": "4d80d2c2",
   "metadata": {
    "ExecuteTime": {
     "end_time": "2022-09-15T03:13:17.204703Z",
     "start_time": "2022-09-15T03:13:13.238721Z"
    }
   },
   "outputs": [
    {
     "data": {
      "text/plain": [
       "{'class_weight': 'balanced',\n",
       " 'criterion': 'gini',\n",
       " 'max_depth': 5,\n",
       " 'min_samples_leaf': 20}"
      ]
     },
     "execution_count": 109,
     "metadata": {},
     "output_type": "execute_result"
    }
   ],
   "source": [
    "dtc_param_grid = {'criterion':['gini','entropy'],\n",
    "                  'max_depth':[5,10,15],\n",
    "                  'min_samples_leaf': [15,20,25],\n",
    "                  'class_weight': [None, 'balanced']\n",
    "             }\n",
    "\n",
    "dtc = DecisionTreeClassifier(random_state=42)\n",
    "\n",
    "grid_dtc = GridSearchCV(dtc, dtc_param_grid, cv = 5, scoring='recall') \n",
    "grid_dtc.fit(X_train_processed, y_train)\n",
    "\n",
    "grid_dtc.best_params_"
   ]
  },
  {
   "cell_type": "code",
   "execution_count": 117,
   "id": "3c0e91d7",
   "metadata": {
    "ExecuteTime": {
     "end_time": "2022-09-15T03:20:38.175219Z",
     "start_time": "2022-09-15T03:20:38.062969Z"
    }
   },
   "outputs": [
    {
     "data": {
      "text/html": [
       "<div>\n",
       "<style scoped>\n",
       "    .dataframe tbody tr th:only-of-type {\n",
       "        vertical-align: middle;\n",
       "    }\n",
       "\n",
       "    .dataframe tbody tr th {\n",
       "        vertical-align: top;\n",
       "    }\n",
       "\n",
       "    .dataframe thead th {\n",
       "        text-align: right;\n",
       "    }\n",
       "</style>\n",
       "<table border=\"1\" class=\"dataframe\">\n",
       "  <thead>\n",
       "    <tr style=\"text-align: right;\">\n",
       "      <th></th>\n",
       "      <th>recall_train</th>\n",
       "      <th>recall_test</th>\n",
       "      <th>f1_train</th>\n",
       "      <th>f1_test</th>\n",
       "      <th>accuracy_train</th>\n",
       "      <th>accuracy_test</th>\n",
       "      <th>roc_auc</th>\n",
       "      <th>pr_auc</th>\n",
       "      <th>params</th>\n",
       "    </tr>\n",
       "  </thead>\n",
       "  <tbody>\n",
       "    <tr>\n",
       "      <th>lr_base</th>\n",
       "      <td>0.750504</td>\n",
       "      <td>0.711423</td>\n",
       "      <td>0.678626</td>\n",
       "      <td>0.644868</td>\n",
       "      <td>0.714093</td>\n",
       "      <td>0.682887</td>\n",
       "      <td>0.687455</td>\n",
       "      <td>0.536315</td>\n",
       "      <td>LogisticRegression(class_weight='balanced', ra...</td>\n",
       "    </tr>\n",
       "    <tr>\n",
       "      <th>rf</th>\n",
       "      <td>1.000000</td>\n",
       "      <td>0.595190</td>\n",
       "      <td>1.000000</td>\n",
       "      <td>0.645652</td>\n",
       "      <td>1.000000</td>\n",
       "      <td>0.735604</td>\n",
       "      <td>0.713127</td>\n",
       "      <td>0.583713</td>\n",
       "      <td>RandomForestClassifier(random_state=42)</td>\n",
       "    </tr>\n",
       "    <tr>\n",
       "      <th>dtc</th>\n",
       "      <td>1.000000</td>\n",
       "      <td>0.551102</td>\n",
       "      <td>1.000000</td>\n",
       "      <td>0.554435</td>\n",
       "      <td>1.000000</td>\n",
       "      <td>0.641525</td>\n",
       "      <td>0.627050</td>\n",
       "      <td>0.489081</td>\n",
       "      <td>DecisionTreeClassifier(random_state=42)</td>\n",
       "    </tr>\n",
       "    <tr>\n",
       "      <th>ext</th>\n",
       "      <td>1.000000</td>\n",
       "      <td>0.573146</td>\n",
       "      <td>1.000000</td>\n",
       "      <td>0.612420</td>\n",
       "      <td>1.000000</td>\n",
       "      <td>0.706407</td>\n",
       "      <td>0.685075</td>\n",
       "      <td>0.549577</td>\n",
       "      <td>ExtraTreesClassifier(random_state=42)</td>\n",
       "    </tr>\n",
       "    <tr>\n",
       "      <th>xgb</th>\n",
       "      <td>0.911903</td>\n",
       "      <td>0.605210</td>\n",
       "      <td>0.907327</td>\n",
       "      <td>0.626556</td>\n",
       "      <td>0.925074</td>\n",
       "      <td>0.708029</td>\n",
       "      <td>0.691570</td>\n",
       "      <td>0.552834</td>\n",
       "      <td>XGBClassifier(base_score=0.5, booster='gbtree'...</td>\n",
       "    </tr>\n",
       "    <tr>\n",
       "      <th>knn</th>\n",
       "      <td>0.709482</td>\n",
       "      <td>0.577154</td>\n",
       "      <td>0.714528</td>\n",
       "      <td>0.576577</td>\n",
       "      <td>0.771977</td>\n",
       "      <td>0.656934</td>\n",
       "      <td>0.644163</td>\n",
       "      <td>0.503568</td>\n",
       "      <td>KNeighborsClassifier()</td>\n",
       "    </tr>\n",
       "    <tr>\n",
       "      <th>rf_best</th>\n",
       "      <td>0.741762</td>\n",
       "      <td>0.711423</td>\n",
       "      <td>0.708641</td>\n",
       "      <td>0.685328</td>\n",
       "      <td>0.754666</td>\n",
       "      <td>0.735604</td>\n",
       "      <td>0.731733</td>\n",
       "      <td>0.587096</td>\n",
       "      <td>RandomForestClassifier(class_weight='balanced'...</td>\n",
       "    </tr>\n",
       "    <tr>\n",
       "      <th>xgb_best</th>\n",
       "      <td>0.815064</td>\n",
       "      <td>0.811623</td>\n",
       "      <td>0.708151</td>\n",
       "      <td>0.694683</td>\n",
       "      <td>0.729781</td>\n",
       "      <td>0.711273</td>\n",
       "      <td>0.727338</td>\n",
       "      <td>0.569052</td>\n",
       "      <td>XGBClassifier(base_score=0.5, booster='gbtree'...</td>\n",
       "    </tr>\n",
       "    <tr>\n",
       "      <th>ext_best</th>\n",
       "      <td>0.760592</td>\n",
       "      <td>0.705411</td>\n",
       "      <td>0.723377</td>\n",
       "      <td>0.669202</td>\n",
       "      <td>0.766027</td>\n",
       "      <td>0.717762</td>\n",
       "      <td>0.715784</td>\n",
       "      <td>0.568235</td>\n",
       "      <td>ExtraTreesClassifier(class_weight='balanced', ...</td>\n",
       "    </tr>\n",
       "    <tr>\n",
       "      <th>dtc_best</th>\n",
       "      <td>0.738399</td>\n",
       "      <td>0.735471</td>\n",
       "      <td>0.701149</td>\n",
       "      <td>0.689202</td>\n",
       "      <td>0.746822</td>\n",
       "      <td>0.731549</td>\n",
       "      <td>0.732177</td>\n",
       "      <td>0.583943</td>\n",
       "      <td>DecisionTreeClassifier(class_weight='balanced'...</td>\n",
       "    </tr>\n",
       "  </tbody>\n",
       "</table>\n",
       "</div>"
      ],
      "text/plain": [
       "          recall_train  recall_test  f1_train   f1_test  accuracy_train  \\\n",
       "lr_base       0.750504     0.711423  0.678626  0.644868        0.714093   \n",
       "rf            1.000000     0.595190  1.000000  0.645652        1.000000   \n",
       "dtc           1.000000     0.551102  1.000000  0.554435        1.000000   \n",
       "ext           1.000000     0.573146  1.000000  0.612420        1.000000   \n",
       "xgb           0.911903     0.605210  0.907327  0.626556        0.925074   \n",
       "knn           0.709482     0.577154  0.714528  0.576577        0.771977   \n",
       "rf_best       0.741762     0.711423  0.708641  0.685328        0.754666   \n",
       "xgb_best      0.815064     0.811623  0.708151  0.694683        0.729781   \n",
       "ext_best      0.760592     0.705411  0.723377  0.669202        0.766027   \n",
       "dtc_best      0.738399     0.735471  0.701149  0.689202        0.746822   \n",
       "\n",
       "          accuracy_test   roc_auc    pr_auc  \\\n",
       "lr_base        0.682887  0.687455  0.536315   \n",
       "rf             0.735604  0.713127  0.583713   \n",
       "dtc            0.641525  0.627050  0.489081   \n",
       "ext            0.706407  0.685075  0.549577   \n",
       "xgb            0.708029  0.691570  0.552834   \n",
       "knn            0.656934  0.644163  0.503568   \n",
       "rf_best        0.735604  0.731733  0.587096   \n",
       "xgb_best       0.711273  0.727338  0.569052   \n",
       "ext_best       0.717762  0.715784  0.568235   \n",
       "dtc_best       0.731549  0.732177  0.583943   \n",
       "\n",
       "                                                     params  \n",
       "lr_base   LogisticRegression(class_weight='balanced', ra...  \n",
       "rf                  RandomForestClassifier(random_state=42)  \n",
       "dtc                 DecisionTreeClassifier(random_state=42)  \n",
       "ext                   ExtraTreesClassifier(random_state=42)  \n",
       "xgb       XGBClassifier(base_score=0.5, booster='gbtree'...  \n",
       "knn                                  KNeighborsClassifier()  \n",
       "rf_best   RandomForestClassifier(class_weight='balanced'...  \n",
       "xgb_best  XGBClassifier(base_score=0.5, booster='gbtree'...  \n",
       "ext_best  ExtraTreesClassifier(class_weight='balanced', ...  \n",
       "dtc_best  DecisionTreeClassifier(class_weight='balanced'...  "
      ]
     },
     "execution_count": 117,
     "metadata": {},
     "output_type": "execute_result"
    }
   ],
   "source": [
    "dtc_best = DecisionTreeClassifier(random_state=42, class_weight='balanced',\n",
    "                                  criterion='gini', max_depth= 5,\n",
    "                                  min_samples_leaf= 20)\n",
    "\n",
    "dtc_best.fit(X_train_processed, y_train)\n",
    "customPipe(dtc_grid, 'dtc_best', X_ac, y_ac)"
   ]
  },
  {
   "cell_type": "markdown",
   "id": "30dfd2f5",
   "metadata": {
    "ExecuteTime": {
     "end_time": "2022-09-15T03:17:55.936200Z",
     "start_time": "2022-09-15T03:17:55.929360Z"
    }
   },
   "source": [
    "#### Feature Importance"
   ]
  },
  {
   "cell_type": "code",
   "execution_count": 118,
   "id": "d2cf4f43",
   "metadata": {
    "ExecuteTime": {
     "end_time": "2022-09-15T03:20:42.163356Z",
     "start_time": "2022-09-15T03:20:42.156638Z"
    }
   },
   "outputs": [],
   "source": [
    "feats = {} # a dict to hold feature_name: feature_importance\n",
    "for feature, importance in zip(X_train_processed.columns, dtc_best.feature_importances_):\n",
    "    feats[feature] = importance #add the name/value pair \n",
    "\n",
    "feats_dtc = pd.DataFrame(feats.items())\n",
    "\n",
    "feats_dtc.columns = ['col', 'feat_importance']\n",
    "feats_dtc = feats_dtc.sort_values(by=['feat_importance'], ascending=False)\n",
    "feats_dtc_30 = feats_dtc[:30]"
   ]
  },
  {
   "cell_type": "code",
   "execution_count": 119,
   "id": "db44de8a",
   "metadata": {
    "ExecuteTime": {
     "end_time": "2022-09-15T03:20:44.049740Z",
     "start_time": "2022-09-15T03:20:43.621222Z"
    }
   },
   "outputs": [
    {
     "data": {
      "image/png": "[encoded data removed]",
      "text/plain": [
       "<Figure size 720x504 with 1 Axes>"
      ]
     },
     "metadata": {
      "needs_background": "light"
     },
     "output_type": "display_data"
    }
   ],
   "source": [
    "fig, ax = plt.subplots(figsize = (10,7))\n",
    "feats_dtc_30.plot.bar(ax=ax) # yerr=std, \n",
    "ax.set_title(\"Feature importances using MDI\")\n",
    "ax.set_ylabel(\"Mean decrease in impurity\")\n",
    "ax.set_xticklabels(feats_dtc_30['col'])\n",
    "fig.tight_layout()"
   ]
  },
  {
   "cell_type": "markdown",
   "id": "fa675940",
   "metadata": {},
   "source": [
    "## Final Model"
   ]
  },
  {
   "cell_type": "markdown",
   "id": "a791c0e4",
   "metadata": {},
   "source": [
    "* XG Boost is the best model, with ~80% recall, 70% accuracy and 70% AUC\n",
    "* Random Forest comes in second with --\n",
    "* Now that we have narrowed down the best models, we will run then with reduced features & SMOTE to see if that generates any improvement"
   ]
  },
  {
   "cell_type": "code",
   "execution_count": 135,
   "id": "89d88020",
   "metadata": {
    "ExecuteTime": {
     "end_time": "2022-09-15T03:29:03.342239Z",
     "start_time": "2022-09-15T03:29:03.296938Z"
    }
   },
   "outputs": [],
   "source": [
    "X_train_processed, X_train_scaled, X_test_processed, \\\n",
    "X_test_scaled, y_train, y_test = train_test_preprocess(X_ac, y_ac)"
   ]
  },
  {
   "cell_type": "markdown",
   "id": "18058e42",
   "metadata": {},
   "source": [
    "### Feature Reduction"
   ]
  },
  {
   "cell_type": "code",
   "execution_count": 123,
   "id": "a8693f3d",
   "metadata": {
    "ExecuteTime": {
     "end_time": "2022-09-15T03:23:36.156476Z",
     "start_time": "2022-09-15T03:23:36.146521Z"
    }
   },
   "outputs": [],
   "source": [
    "# top 20 features\n",
    "X_train_xg = X_train_processed[list(feats_xg['col'][:20])]\n",
    "X_train_dtc = X_train_processed[list(feats_dtc['col'][:20])]\n",
    "\n",
    "X_test_xg = X_test_processed[list(feats_xg['col'][:20])]\n",
    "X_test_dtc = X_test_processed[list(feats_dtc['col'][:20])]"
   ]
  },
  {
   "cell_type": "code",
   "execution_count": 125,
   "id": "3771d6f9",
   "metadata": {
    "ExecuteTime": {
     "end_time": "2022-09-15T03:24:04.943764Z",
     "start_time": "2022-09-15T03:24:04.738934Z"
    }
   },
   "outputs": [
    {
     "name": "stdout",
     "output_type": "stream",
     "text": [
      "Training Recall:  0.7942165433759247\n",
      "Testing Recall:  0.7995991983967936\n",
      "\n",
      "\n",
      "Training F1:  0.6920597714620569\n",
      "Testing F1:  0.6861564918314704\n",
      "\n",
      "\n",
      "ROC AUC:  0.7192818880267347\n",
      "PR AUC:  0.5615850492452479\n",
      "\n",
      "\n",
      "Training Accuracy:  0.7157154449553692\n",
      "Testing Accuracy:  0.7039740470397404\n"
     ]
    }
   ],
   "source": [
    "# XG Boost\n",
    "final_model = XGBClassifier(random_state=42, max_depth=1, min_child_weight=10, \n",
    "                            subsample=0.7, learning_rate=0.2, scale_pos_weight=2)\n",
    "\n",
    "final_model.fit(X_train_xg, y_train)\n",
    "\n",
    "y_hat_train = final_model.predict(X_train_xg)\n",
    "y_hat_test = final_model.predict(X_test_xg)\n",
    "\n",
    "print_scores(y_train, y_hat_train, y_test, y_hat_test)"
   ]
  },
  {
   "cell_type": "code",
   "execution_count": 124,
   "id": "6e685fbe",
   "metadata": {
    "ExecuteTime": {
     "end_time": "2022-09-15T03:23:48.919440Z",
     "start_time": "2022-09-15T03:23:48.883748Z"
    }
   },
   "outputs": [
    {
     "name": "stdout",
     "output_type": "stream",
     "text": [
      "Training Recall:  0.7081371889710827\n",
      "Testing Recall:  0.6913827655310621\n",
      "\n",
      "\n",
      "Training F1:  0.6929911154985193\n",
      "Testing F1:  0.6660231660231661\n",
      "\n",
      "\n",
      "ROC AUC:  0.7149011920298363\n",
      "PR AUC:  0.5690830795510653\n",
      "\n",
      "\n",
      "Training Accuracy:  0.7476332161211794\n",
      "Testing Accuracy:  0.7193836171938361\n"
     ]
    }
   ],
   "source": [
    "# Decision Trees - 2nd place\n",
    "final_model = dtc_best\n",
    "final_model.fit(X_train_dtc, y_train)\n",
    "\n",
    "y_hat_train = final_model.predict(X_train_dtc)\n",
    "y_hat_test = final_model.predict(X_test_dtc)\n",
    "\n",
    "print_scores(y_train, y_hat_train, y_test, y_hat_test)"
   ]
  },
  {
   "cell_type": "markdown",
   "id": "b8f76632",
   "metadata": {},
   "source": [
    "Feature reduction doesn't improve the models."
   ]
  },
  {
   "cell_type": "markdown",
   "id": "ada5e189",
   "metadata": {},
   "source": [
    "### SMOTE"
   ]
  },
  {
   "cell_type": "code",
   "execution_count": 1379,
   "id": "9dfb5507",
   "metadata": {
    "ExecuteTime": {
     "end_time": "2022-09-14T19:38:49.024910Z",
     "start_time": "2022-09-14T19:38:47.400115Z"
    }
   },
   "outputs": [],
   "source": [
    "#Using SMOTE to further reduce class imbalance\n",
    "smote = SMOTE(random_state=42)\n",
    "X_train_resampled, y_train_resampled = smote.fit_sample(X_train_processed, y_train) "
   ]
  },
  {
   "cell_type": "code",
   "execution_count": 1376,
   "id": "f3e65938",
   "metadata": {
    "ExecuteTime": {
     "end_time": "2022-09-14T19:34:23.867566Z",
     "start_time": "2022-09-14T19:34:22.375208Z"
    }
   },
   "outputs": [
    {
     "name": "stdout",
     "output_type": "stream",
     "text": [
      "Training Recall:  0.7515837104072398\n",
      "Testing Recall:  0.717434869739479\n",
      "\n",
      "\n",
      "Training F1:  0.7538007714998864\n",
      "Testing F1:  0.6878001921229587\n",
      "\n",
      "\n",
      "ROC AUC:  0.7333768354146988\n",
      "PR AUC:  0.5882328757316215\n",
      "\n",
      "\n",
      "Training Accuracy:  0.754524886877828\n",
      "Testing Accuracy:  0.7364152473641524\n"
     ]
    }
   ],
   "source": [
    "final_model_smote = XGBClassifier(random_state=42, max_depth=1, min_child_weight=10, \n",
    "                                  subsample=0.7, learning_rate=0.2)\n",
    "\n",
    "final_model_smote.fit(X_train_resampled, y_train_resampled)\n",
    "\n",
    "y_hat_train = final_model_smote.predict(X_train_resampled)\n",
    "y_hat_test = final_model_smote.predict(X_test_processed)\n",
    "\n",
    "print_scores(y_train_resampled, y_hat_train, y_test, y_hat_test)"
   ]
  },
  {
   "cell_type": "markdown",
   "id": "1fdef51b",
   "metadata": {},
   "source": [
    "### Model Selection"
   ]
  },
  {
   "cell_type": "code",
   "execution_count": 133,
   "id": "1c6d4bb0",
   "metadata": {
    "ExecuteTime": {
     "end_time": "2022-09-15T03:27:22.558729Z",
     "start_time": "2022-09-15T03:27:22.137518Z"
    }
   },
   "outputs": [
    {
     "data": {
      "text/html": [
       "<div>\n",
       "<style scoped>\n",
       "    .dataframe tbody tr th:only-of-type {\n",
       "        vertical-align: middle;\n",
       "    }\n",
       "\n",
       "    .dataframe tbody tr th {\n",
       "        vertical-align: top;\n",
       "    }\n",
       "\n",
       "    .dataframe thead th {\n",
       "        text-align: right;\n",
       "    }\n",
       "</style>\n",
       "<table border=\"1\" class=\"dataframe\">\n",
       "  <thead>\n",
       "    <tr style=\"text-align: right;\">\n",
       "      <th></th>\n",
       "      <th>recall_train</th>\n",
       "      <th>recall_test</th>\n",
       "      <th>f1_train</th>\n",
       "      <th>f1_test</th>\n",
       "      <th>accuracy_train</th>\n",
       "      <th>accuracy_test</th>\n",
       "      <th>roc_auc</th>\n",
       "      <th>pr_auc</th>\n",
       "      <th>params</th>\n",
       "    </tr>\n",
       "  </thead>\n",
       "  <tbody>\n",
       "    <tr>\n",
       "      <th>lr_base</th>\n",
       "      <td>0.750504</td>\n",
       "      <td>0.711423</td>\n",
       "      <td>0.678626</td>\n",
       "      <td>0.644868</td>\n",
       "      <td>0.714093</td>\n",
       "      <td>0.682887</td>\n",
       "      <td>0.687455</td>\n",
       "      <td>0.536315</td>\n",
       "      <td>LogisticRegression(class_weight='balanced', ra...</td>\n",
       "    </tr>\n",
       "    <tr>\n",
       "      <th>rf</th>\n",
       "      <td>1.000000</td>\n",
       "      <td>0.595190</td>\n",
       "      <td>1.000000</td>\n",
       "      <td>0.645652</td>\n",
       "      <td>1.000000</td>\n",
       "      <td>0.735604</td>\n",
       "      <td>0.713127</td>\n",
       "      <td>0.583713</td>\n",
       "      <td>RandomForestClassifier(random_state=42)</td>\n",
       "    </tr>\n",
       "    <tr>\n",
       "      <th>dtc</th>\n",
       "      <td>1.000000</td>\n",
       "      <td>0.551102</td>\n",
       "      <td>1.000000</td>\n",
       "      <td>0.554435</td>\n",
       "      <td>1.000000</td>\n",
       "      <td>0.641525</td>\n",
       "      <td>0.627050</td>\n",
       "      <td>0.489081</td>\n",
       "      <td>DecisionTreeClassifier(random_state=42)</td>\n",
       "    </tr>\n",
       "    <tr>\n",
       "      <th>ext</th>\n",
       "      <td>1.000000</td>\n",
       "      <td>0.573146</td>\n",
       "      <td>1.000000</td>\n",
       "      <td>0.612420</td>\n",
       "      <td>1.000000</td>\n",
       "      <td>0.706407</td>\n",
       "      <td>0.685075</td>\n",
       "      <td>0.549577</td>\n",
       "      <td>ExtraTreesClassifier(random_state=42)</td>\n",
       "    </tr>\n",
       "    <tr>\n",
       "      <th>xgb</th>\n",
       "      <td>0.911903</td>\n",
       "      <td>0.605210</td>\n",
       "      <td>0.907327</td>\n",
       "      <td>0.626556</td>\n",
       "      <td>0.925074</td>\n",
       "      <td>0.708029</td>\n",
       "      <td>0.691570</td>\n",
       "      <td>0.552834</td>\n",
       "      <td>XGBClassifier(base_score=0.5, booster='gbtree'...</td>\n",
       "    </tr>\n",
       "    <tr>\n",
       "      <th>knn</th>\n",
       "      <td>0.709482</td>\n",
       "      <td>0.577154</td>\n",
       "      <td>0.714528</td>\n",
       "      <td>0.576577</td>\n",
       "      <td>0.771977</td>\n",
       "      <td>0.656934</td>\n",
       "      <td>0.644163</td>\n",
       "      <td>0.503568</td>\n",
       "      <td>KNeighborsClassifier()</td>\n",
       "    </tr>\n",
       "    <tr>\n",
       "      <th>rf_best</th>\n",
       "      <td>0.741762</td>\n",
       "      <td>0.711423</td>\n",
       "      <td>0.708641</td>\n",
       "      <td>0.685328</td>\n",
       "      <td>0.754666</td>\n",
       "      <td>0.735604</td>\n",
       "      <td>0.731733</td>\n",
       "      <td>0.587096</td>\n",
       "      <td>RandomForestClassifier(class_weight='balanced'...</td>\n",
       "    </tr>\n",
       "    <tr>\n",
       "      <th>xgb_best</th>\n",
       "      <td>0.815064</td>\n",
       "      <td>0.811623</td>\n",
       "      <td>0.708151</td>\n",
       "      <td>0.694683</td>\n",
       "      <td>0.729781</td>\n",
       "      <td>0.711273</td>\n",
       "      <td>0.727338</td>\n",
       "      <td>0.569052</td>\n",
       "      <td>XGBClassifier(base_score=0.5, booster='gbtree'...</td>\n",
       "    </tr>\n",
       "    <tr>\n",
       "      <th>ext_best</th>\n",
       "      <td>0.760592</td>\n",
       "      <td>0.705411</td>\n",
       "      <td>0.723377</td>\n",
       "      <td>0.669202</td>\n",
       "      <td>0.766027</td>\n",
       "      <td>0.717762</td>\n",
       "      <td>0.715784</td>\n",
       "      <td>0.568235</td>\n",
       "      <td>ExtraTreesClassifier(class_weight='balanced', ...</td>\n",
       "    </tr>\n",
       "    <tr>\n",
       "      <th>dtc_best</th>\n",
       "      <td>0.738399</td>\n",
       "      <td>0.735471</td>\n",
       "      <td>0.701149</td>\n",
       "      <td>0.689202</td>\n",
       "      <td>0.746822</td>\n",
       "      <td>0.731549</td>\n",
       "      <td>0.732177</td>\n",
       "      <td>0.583943</td>\n",
       "      <td>DecisionTreeClassifier(class_weight='balanced'...</td>\n",
       "    </tr>\n",
       "    <tr>\n",
       "      <th>final_model</th>\n",
       "      <td>0.815064</td>\n",
       "      <td>0.811623</td>\n",
       "      <td>0.708151</td>\n",
       "      <td>0.694683</td>\n",
       "      <td>0.729781</td>\n",
       "      <td>0.711273</td>\n",
       "      <td>0.727338</td>\n",
       "      <td>0.569052</td>\n",
       "      <td>XGBClassifier(base_score=0.5, booster='gbtree'...</td>\n",
       "    </tr>\n",
       "  </tbody>\n",
       "</table>\n",
       "</div>"
      ],
      "text/plain": [
       "             recall_train  recall_test  f1_train   f1_test  accuracy_train  \\\n",
       "lr_base          0.750504     0.711423  0.678626  0.644868        0.714093   \n",
       "rf               1.000000     0.595190  1.000000  0.645652        1.000000   \n",
       "dtc              1.000000     0.551102  1.000000  0.554435        1.000000   \n",
       "ext              1.000000     0.573146  1.000000  0.612420        1.000000   \n",
       "xgb              0.911903     0.605210  0.907327  0.626556        0.925074   \n",
       "knn              0.709482     0.577154  0.714528  0.576577        0.771977   \n",
       "rf_best          0.741762     0.711423  0.708641  0.685328        0.754666   \n",
       "xgb_best         0.815064     0.811623  0.708151  0.694683        0.729781   \n",
       "ext_best         0.760592     0.705411  0.723377  0.669202        0.766027   \n",
       "dtc_best         0.738399     0.735471  0.701149  0.689202        0.746822   \n",
       "final_model      0.815064     0.811623  0.708151  0.694683        0.729781   \n",
       "\n",
       "             accuracy_test   roc_auc    pr_auc  \\\n",
       "lr_base           0.682887  0.687455  0.536315   \n",
       "rf                0.735604  0.713127  0.583713   \n",
       "dtc               0.641525  0.627050  0.489081   \n",
       "ext               0.706407  0.685075  0.549577   \n",
       "xgb               0.708029  0.691570  0.552834   \n",
       "knn               0.656934  0.644163  0.503568   \n",
       "rf_best           0.735604  0.731733  0.587096   \n",
       "xgb_best          0.711273  0.727338  0.569052   \n",
       "ext_best          0.717762  0.715784  0.568235   \n",
       "dtc_best          0.731549  0.732177  0.583943   \n",
       "final_model       0.711273  0.727338  0.569052   \n",
       "\n",
       "                                                        params  \n",
       "lr_base      LogisticRegression(class_weight='balanced', ra...  \n",
       "rf                     RandomForestClassifier(random_state=42)  \n",
       "dtc                    DecisionTreeClassifier(random_state=42)  \n",
       "ext                      ExtraTreesClassifier(random_state=42)  \n",
       "xgb          XGBClassifier(base_score=0.5, booster='gbtree'...  \n",
       "knn                                     KNeighborsClassifier()  \n",
       "rf_best      RandomForestClassifier(class_weight='balanced'...  \n",
       "xgb_best     XGBClassifier(base_score=0.5, booster='gbtree'...  \n",
       "ext_best     ExtraTreesClassifier(class_weight='balanced', ...  \n",
       "dtc_best     DecisionTreeClassifier(class_weight='balanced'...  \n",
       "final_model  XGBClassifier(base_score=0.5, booster='gbtree'...  "
      ]
     },
     "execution_count": 133,
     "metadata": {},
     "output_type": "execute_result"
    }
   ],
   "source": [
    "final_model = XGBClassifier(random_state=42, max_depth=1, min_child_weight=10, \n",
    "                            subsample=0.7, learning_rate=0.2, scale_pos_weight=2)\n",
    "\n",
    "customPipe(final_model, 'final_model', X_ac, y_ac)"
   ]
  },
  {
   "cell_type": "code",
   "execution_count": 131,
   "id": "2c7f38ce",
   "metadata": {
    "ExecuteTime": {
     "end_time": "2022-09-15T03:25:58.774901Z",
     "start_time": "2022-09-15T03:25:58.754011Z"
    }
   },
   "outputs": [
    {
     "data": {
      "text/html": [
       "<div>\n",
       "<style scoped>\n",
       "    .dataframe tbody tr th:only-of-type {\n",
       "        vertical-align: middle;\n",
       "    }\n",
       "\n",
       "    .dataframe tbody tr th {\n",
       "        vertical-align: top;\n",
       "    }\n",
       "\n",
       "    .dataframe thead th {\n",
       "        text-align: right;\n",
       "    }\n",
       "</style>\n",
       "<table border=\"1\" class=\"dataframe\">\n",
       "  <thead>\n",
       "    <tr style=\"text-align: right;\">\n",
       "      <th></th>\n",
       "      <th>recall_train</th>\n",
       "      <th>recall_test</th>\n",
       "      <th>f1_train</th>\n",
       "      <th>f1_test</th>\n",
       "      <th>accuracy_train</th>\n",
       "      <th>accuracy_test</th>\n",
       "      <th>roc_auc</th>\n",
       "      <th>pr_auc</th>\n",
       "      <th>params</th>\n",
       "    </tr>\n",
       "  </thead>\n",
       "  <tbody>\n",
       "    <tr>\n",
       "      <th>final_model</th>\n",
       "      <td>0.815064</td>\n",
       "      <td>0.811623</td>\n",
       "      <td>0.708151</td>\n",
       "      <td>0.694683</td>\n",
       "      <td>0.729781</td>\n",
       "      <td>0.711273</td>\n",
       "      <td>0.727338</td>\n",
       "      <td>0.569052</td>\n",
       "      <td>XGBClassifier(base_score=0.5, booster='gbtree'...</td>\n",
       "    </tr>\n",
       "    <tr>\n",
       "      <th>dtc_best</th>\n",
       "      <td>0.738399</td>\n",
       "      <td>0.735471</td>\n",
       "      <td>0.701149</td>\n",
       "      <td>0.689202</td>\n",
       "      <td>0.746822</td>\n",
       "      <td>0.731549</td>\n",
       "      <td>0.732177</td>\n",
       "      <td>0.583943</td>\n",
       "      <td>DecisionTreeClassifier(class_weight='balanced'...</td>\n",
       "    </tr>\n",
       "    <tr>\n",
       "      <th>lr_base</th>\n",
       "      <td>0.750504</td>\n",
       "      <td>0.711423</td>\n",
       "      <td>0.678626</td>\n",
       "      <td>0.644868</td>\n",
       "      <td>0.714093</td>\n",
       "      <td>0.682887</td>\n",
       "      <td>0.687455</td>\n",
       "      <td>0.536315</td>\n",
       "      <td>LogisticRegression(class_weight='balanced', ra...</td>\n",
       "    </tr>\n",
       "    <tr>\n",
       "      <th>rf_best</th>\n",
       "      <td>0.741762</td>\n",
       "      <td>0.711423</td>\n",
       "      <td>0.708641</td>\n",
       "      <td>0.685328</td>\n",
       "      <td>0.754666</td>\n",
       "      <td>0.735604</td>\n",
       "      <td>0.731733</td>\n",
       "      <td>0.587096</td>\n",
       "      <td>RandomForestClassifier(class_weight='balanced'...</td>\n",
       "    </tr>\n",
       "    <tr>\n",
       "      <th>ext_best</th>\n",
       "      <td>0.760592</td>\n",
       "      <td>0.705411</td>\n",
       "      <td>0.723377</td>\n",
       "      <td>0.669202</td>\n",
       "      <td>0.766027</td>\n",
       "      <td>0.717762</td>\n",
       "      <td>0.715784</td>\n",
       "      <td>0.568235</td>\n",
       "      <td>ExtraTreesClassifier(class_weight='balanced', ...</td>\n",
       "    </tr>\n",
       "    <tr>\n",
       "      <th>xgb</th>\n",
       "      <td>0.911903</td>\n",
       "      <td>0.605210</td>\n",
       "      <td>0.907327</td>\n",
       "      <td>0.626556</td>\n",
       "      <td>0.925074</td>\n",
       "      <td>0.708029</td>\n",
       "      <td>0.691570</td>\n",
       "      <td>0.552834</td>\n",
       "      <td>XGBClassifier(base_score=0.5, booster='gbtree'...</td>\n",
       "    </tr>\n",
       "    <tr>\n",
       "      <th>rf</th>\n",
       "      <td>1.000000</td>\n",
       "      <td>0.595190</td>\n",
       "      <td>1.000000</td>\n",
       "      <td>0.645652</td>\n",
       "      <td>1.000000</td>\n",
       "      <td>0.735604</td>\n",
       "      <td>0.713127</td>\n",
       "      <td>0.583713</td>\n",
       "      <td>RandomForestClassifier(random_state=42)</td>\n",
       "    </tr>\n",
       "    <tr>\n",
       "      <th>knn</th>\n",
       "      <td>0.709482</td>\n",
       "      <td>0.577154</td>\n",
       "      <td>0.714528</td>\n",
       "      <td>0.576577</td>\n",
       "      <td>0.771977</td>\n",
       "      <td>0.656934</td>\n",
       "      <td>0.644163</td>\n",
       "      <td>0.503568</td>\n",
       "      <td>KNeighborsClassifier()</td>\n",
       "    </tr>\n",
       "    <tr>\n",
       "      <th>ext</th>\n",
       "      <td>1.000000</td>\n",
       "      <td>0.573146</td>\n",
       "      <td>1.000000</td>\n",
       "      <td>0.612420</td>\n",
       "      <td>1.000000</td>\n",
       "      <td>0.706407</td>\n",
       "      <td>0.685075</td>\n",
       "      <td>0.549577</td>\n",
       "      <td>ExtraTreesClassifier(random_state=42)</td>\n",
       "    </tr>\n",
       "    <tr>\n",
       "      <th>dtc</th>\n",
       "      <td>1.000000</td>\n",
       "      <td>0.551102</td>\n",
       "      <td>1.000000</td>\n",
       "      <td>0.554435</td>\n",
       "      <td>1.000000</td>\n",
       "      <td>0.641525</td>\n",
       "      <td>0.627050</td>\n",
       "      <td>0.489081</td>\n",
       "      <td>DecisionTreeClassifier(random_state=42)</td>\n",
       "    </tr>\n",
       "  </tbody>\n",
       "</table>\n",
       "</div>"
      ],
      "text/plain": [
       "             recall_train  recall_test  f1_train   f1_test  accuracy_train  \\\n",
       "final_model      0.815064     0.811623  0.708151  0.694683        0.729781   \n",
       "dtc_best         0.738399     0.735471  0.701149  0.689202        0.746822   \n",
       "lr_base          0.750504     0.711423  0.678626  0.644868        0.714093   \n",
       "rf_best          0.741762     0.711423  0.708641  0.685328        0.754666   \n",
       "ext_best         0.760592     0.705411  0.723377  0.669202        0.766027   \n",
       "xgb              0.911903     0.605210  0.907327  0.626556        0.925074   \n",
       "rf               1.000000     0.595190  1.000000  0.645652        1.000000   \n",
       "knn              0.709482     0.577154  0.714528  0.576577        0.771977   \n",
       "ext              1.000000     0.573146  1.000000  0.612420        1.000000   \n",
       "dtc              1.000000     0.551102  1.000000  0.554435        1.000000   \n",
       "\n",
       "             accuracy_test   roc_auc    pr_auc  \\\n",
       "final_model       0.711273  0.727338  0.569052   \n",
       "dtc_best          0.731549  0.732177  0.583943   \n",
       "lr_base           0.682887  0.687455  0.536315   \n",
       "rf_best           0.735604  0.731733  0.587096   \n",
       "ext_best          0.717762  0.715784  0.568235   \n",
       "xgb               0.708029  0.691570  0.552834   \n",
       "rf                0.735604  0.713127  0.583713   \n",
       "knn               0.656934  0.644163  0.503568   \n",
       "ext               0.706407  0.685075  0.549577   \n",
       "dtc               0.641525  0.627050  0.489081   \n",
       "\n",
       "                                                        params  \n",
       "final_model  XGBClassifier(base_score=0.5, booster='gbtree'...  \n",
       "dtc_best     DecisionTreeClassifier(class_weight='balanced'...  \n",
       "lr_base      LogisticRegression(class_weight='balanced', ra...  \n",
       "rf_best      RandomForestClassifier(class_weight='balanced'...  \n",
       "ext_best     ExtraTreesClassifier(class_weight='balanced', ...  \n",
       "xgb          XGBClassifier(base_score=0.5, booster='gbtree'...  \n",
       "rf                     RandomForestClassifier(random_state=42)  \n",
       "knn                                     KNeighborsClassifier()  \n",
       "ext                      ExtraTreesClassifier(random_state=42)  \n",
       "dtc                    DecisionTreeClassifier(random_state=42)  "
      ]
     },
     "execution_count": 131,
     "metadata": {},
     "output_type": "execute_result"
    }
   ],
   "source": [
    "# storing dataframe for easy access\n",
    "scores_final = scores\n",
    "scores_final.to_csv('final_scores.csv')\n",
    "scores_final.sort_values(by=['recall_test'], ascending=False)[1:]"
   ]
  },
  {
   "cell_type": "code",
   "execution_count": 136,
   "id": "14ca3511",
   "metadata": {
    "ExecuteTime": {
     "end_time": "2022-09-15T03:29:17.342075Z",
     "start_time": "2022-09-15T03:29:17.071773Z"
    }
   },
   "outputs": [
    {
     "data": {
      "image/png": "[encoded data removed]",
      "text/plain": [
       "<Figure size 360x360 with 2 Axes>"
      ]
     },
     "metadata": {
      "needs_background": "light"
     },
     "output_type": "display_data"
    }
   ],
   "source": [
    "# visualizing predictions\n",
    "\n",
    "y_hat_test = final_model.predict(X_test_processed)\n",
    "\n",
    "conf_matrix = confusion_matrix(y_test, y_hat_test)\n",
    "\n",
    "fig, ax = plt.subplots(figsize=(5,5))\n",
    "\n",
    "ax = sns.heatmap(conf_matrix, annot=True, cmap='Greens', fmt='d')\n",
    "\n",
    "ax.set_title('Final Model Confusion Matrix', fontsize=16);\n",
    "ax.set_xlabel('Predicted Values',fontsize=13)\n",
    "ax.set_ylabel('Actual Values ', fontsize=13);\n",
    "\n",
    "## Ticket labels - List must be in alphabetical order\n",
    "ax.xaxis.set_ticklabels(['Succeeded','Failed'])\n",
    "ax.yaxis.set_ticklabels(['Succeeded','Failed'])\n",
    "\n",
    "## Display the visualization of the Confusion Matrix.\n",
    "plt.show()"
   ]
  }
 ],
 "metadata": {
  "kernelspec": {
   "display_name": "Python (learn-env)",
   "language": "python",
   "name": "learn-env"
  },
  "language_info": {
   "codemirror_mode": {
    "name": "ipython",
    "version": 3
   },
   "file_extension": ".py",
   "mimetype": "text/x-python",
   "name": "python",
   "nbconvert_exporter": "python",
   "pygments_lexer": "ipython3",
   "version": "3.8.5"
  },
  "toc": {
   "base_numbering": 1,
   "nav_menu": {},
   "number_sections": true,
   "sideBar": true,
   "skip_h1_title": false,
   "title_cell": "Table of Contents",
   "title_sidebar": "Contents",
   "toc_cell": false,
   "toc_position": {},
   "toc_section_display": true,
   "toc_window_display": true
  }
 },
 "nbformat": 4,
 "nbformat_minor": 5
}
