{
 "cells": [
  {
   "cell_type": "markdown",
   "id": "175b7ae5",
   "metadata": {},
   "source": [
    "# Data Science Project 3"
   ]
  },
  {
   "cell_type": "markdown",
   "id": "cd5aec70",
   "metadata": {},
   "source": [
    "- Student Name: Natalya Doris\n",
    "- Student Pace: Flex / 40 weeks\n",
    "- Scheduled Project Review Date / Time: \n",
    "- Instructor Name: Abhineet Kulkarni\n",
    "- Blog Post URL: "
   ]
  },
  {
   "cell_type": "markdown",
   "id": "cec3a221",
   "metadata": {},
   "source": [
    "## Import Statments & Setup"
   ]
  },
  {
   "cell_type": "code",
   "execution_count": 57,
   "id": "2c9dd57c",
   "metadata": {
    "ExecuteTime": {
     "end_time": "2022-09-06T16:48:05.942984Z",
     "start_time": "2022-09-06T16:48:04.500621Z"
    }
   },
   "outputs": [],
   "source": [
    "import pandas as pd\n",
    "import numpy as np\n",
    "import matplotlib.pyplot as plt\n",
    "%matplotlib inline\n",
    "import seaborn as sns\n",
    "\n",
    "from sklearn.model_selection import train_test_split, GridSearchCV, \\\n",
    "cross_val_score\n",
    "from sklearn.tree import DecisionTreeClassifier\n",
    "from sklearn.neighbors import KNeighborsClassifier\n",
    "from sklearn.ensemble import RandomForestClassifier, AdaBoostClassifier, \\\n",
    "BaggingClassifier\n",
    "from sklearn.linear_model import LogisticRegression\n",
    "from sklearn.metrics import accuracy_score, f1_score, recall_score, \\\n",
    "precision_score, confusion_matrix, classification_report\n",
    "from sklearn.preprocessing import StandardScaler, LabelEncoder, \\\n",
    "MinMaxScaler, OneHotEncoder\n",
    "from sklearn.pipeline import Pipeline\n",
    "from xgboost import XGBClassifier\n",
    "from imblearn.over_sampling import SMOTE\n",
    "\n",
    "import warnings\n",
    "warnings.filterwarnings('ignore')"
   ]
  },
  {
   "cell_type": "markdown",
   "id": "b61e0d24",
   "metadata": {
    "heading_collapsed": true
   },
   "source": [
    "### Possible Data Sources"
   ]
  },
  {
   "cell_type": "markdown",
   "id": "d07e481a",
   "metadata": {
    "hidden": true
   },
   "source": [
    "Startup data - predict success / failure\n",
    "- https://www.kaggle.com/datasets/chhinna/crunchbase-data?select=round.csv\n",
    "- https://www.kaggle.com/code/mohammadfikri/startup-success-prediction-precision-recall-94/data?select=startup+data.csv\n",
    "- https://www.kaggle.com/datasets/arindam235/startup-investments-crunchbase"
   ]
  },
  {
   "cell_type": "markdown",
   "id": "61e09705",
   "metadata": {
    "hidden": true
   },
   "source": [
    "This dataset is too short, though nice and clean."
   ]
  },
  {
   "cell_type": "code",
   "execution_count": 2,
   "id": "d398adef",
   "metadata": {
    "ExecuteTime": {
     "end_time": "2022-09-06T16:20:24.836311Z",
     "start_time": "2022-09-06T16:20:24.780035Z"
    },
    "hidden": true
   },
   "outputs": [
    {
     "data": {
      "text/html": [
       "<div>\n",
       "<style scoped>\n",
       "    .dataframe tbody tr th:only-of-type {\n",
       "        vertical-align: middle;\n",
       "    }\n",
       "\n",
       "    .dataframe tbody tr th {\n",
       "        vertical-align: top;\n",
       "    }\n",
       "\n",
       "    .dataframe thead th {\n",
       "        text-align: right;\n",
       "    }\n",
       "</style>\n",
       "<table border=\"1\" class=\"dataframe\">\n",
       "  <thead>\n",
       "    <tr style=\"text-align: right;\">\n",
       "      <th></th>\n",
       "      <th>Unnamed: 0</th>\n",
       "      <th>state_code</th>\n",
       "      <th>latitude</th>\n",
       "      <th>longitude</th>\n",
       "      <th>zip_code</th>\n",
       "      <th>id</th>\n",
       "      <th>city</th>\n",
       "      <th>Unnamed: 6</th>\n",
       "      <th>name</th>\n",
       "      <th>labels</th>\n",
       "      <th>...</th>\n",
       "      <th>object_id</th>\n",
       "      <th>has_VC</th>\n",
       "      <th>has_angel</th>\n",
       "      <th>has_roundA</th>\n",
       "      <th>has_roundB</th>\n",
       "      <th>has_roundC</th>\n",
       "      <th>has_roundD</th>\n",
       "      <th>avg_participants</th>\n",
       "      <th>is_top500</th>\n",
       "      <th>status</th>\n",
       "    </tr>\n",
       "  </thead>\n",
       "  <tbody>\n",
       "    <tr>\n",
       "      <th>0</th>\n",
       "      <td>1005</td>\n",
       "      <td>CA</td>\n",
       "      <td>42.358880</td>\n",
       "      <td>-71.056820</td>\n",
       "      <td>92101</td>\n",
       "      <td>c:6669</td>\n",
       "      <td>San Diego</td>\n",
       "      <td>NaN</td>\n",
       "      <td>Bandsintown</td>\n",
       "      <td>1</td>\n",
       "      <td>...</td>\n",
       "      <td>c:6669</td>\n",
       "      <td>0</td>\n",
       "      <td>1</td>\n",
       "      <td>0</td>\n",
       "      <td>0</td>\n",
       "      <td>0</td>\n",
       "      <td>0</td>\n",
       "      <td>1.0000</td>\n",
       "      <td>0</td>\n",
       "      <td>acquired</td>\n",
       "    </tr>\n",
       "    <tr>\n",
       "      <th>1</th>\n",
       "      <td>204</td>\n",
       "      <td>CA</td>\n",
       "      <td>37.238916</td>\n",
       "      <td>-121.973718</td>\n",
       "      <td>95032</td>\n",
       "      <td>c:16283</td>\n",
       "      <td>Los Gatos</td>\n",
       "      <td>NaN</td>\n",
       "      <td>TriCipher</td>\n",
       "      <td>1</td>\n",
       "      <td>...</td>\n",
       "      <td>c:16283</td>\n",
       "      <td>1</td>\n",
       "      <td>0</td>\n",
       "      <td>0</td>\n",
       "      <td>1</td>\n",
       "      <td>1</td>\n",
       "      <td>1</td>\n",
       "      <td>4.7500</td>\n",
       "      <td>1</td>\n",
       "      <td>acquired</td>\n",
       "    </tr>\n",
       "    <tr>\n",
       "      <th>2</th>\n",
       "      <td>1001</td>\n",
       "      <td>CA</td>\n",
       "      <td>32.901049</td>\n",
       "      <td>-117.192656</td>\n",
       "      <td>92121</td>\n",
       "      <td>c:65620</td>\n",
       "      <td>San Diego</td>\n",
       "      <td>San Diego CA 92121</td>\n",
       "      <td>Plixi</td>\n",
       "      <td>1</td>\n",
       "      <td>...</td>\n",
       "      <td>c:65620</td>\n",
       "      <td>0</td>\n",
       "      <td>0</td>\n",
       "      <td>1</td>\n",
       "      <td>0</td>\n",
       "      <td>0</td>\n",
       "      <td>0</td>\n",
       "      <td>4.0000</td>\n",
       "      <td>1</td>\n",
       "      <td>acquired</td>\n",
       "    </tr>\n",
       "    <tr>\n",
       "      <th>3</th>\n",
       "      <td>738</td>\n",
       "      <td>CA</td>\n",
       "      <td>37.320309</td>\n",
       "      <td>-122.050040</td>\n",
       "      <td>95014</td>\n",
       "      <td>c:42668</td>\n",
       "      <td>Cupertino</td>\n",
       "      <td>Cupertino CA 95014</td>\n",
       "      <td>Solidcore Systems</td>\n",
       "      <td>1</td>\n",
       "      <td>...</td>\n",
       "      <td>c:42668</td>\n",
       "      <td>0</td>\n",
       "      <td>0</td>\n",
       "      <td>0</td>\n",
       "      <td>1</td>\n",
       "      <td>1</td>\n",
       "      <td>1</td>\n",
       "      <td>3.3333</td>\n",
       "      <td>1</td>\n",
       "      <td>acquired</td>\n",
       "    </tr>\n",
       "    <tr>\n",
       "      <th>4</th>\n",
       "      <td>1002</td>\n",
       "      <td>CA</td>\n",
       "      <td>37.779281</td>\n",
       "      <td>-122.419236</td>\n",
       "      <td>94105</td>\n",
       "      <td>c:65806</td>\n",
       "      <td>San Francisco</td>\n",
       "      <td>San Francisco CA 94105</td>\n",
       "      <td>Inhale Digital</td>\n",
       "      <td>0</td>\n",
       "      <td>...</td>\n",
       "      <td>c:65806</td>\n",
       "      <td>1</td>\n",
       "      <td>1</td>\n",
       "      <td>0</td>\n",
       "      <td>0</td>\n",
       "      <td>0</td>\n",
       "      <td>0</td>\n",
       "      <td>1.0000</td>\n",
       "      <td>1</td>\n",
       "      <td>closed</td>\n",
       "    </tr>\n",
       "  </tbody>\n",
       "</table>\n",
       "<p>5 rows × 49 columns</p>\n",
       "</div>"
      ],
      "text/plain": [
       "   Unnamed: 0 state_code   latitude   longitude zip_code       id  \\\n",
       "0        1005         CA  42.358880  -71.056820    92101   c:6669   \n",
       "1         204         CA  37.238916 -121.973718    95032  c:16283   \n",
       "2        1001         CA  32.901049 -117.192656    92121  c:65620   \n",
       "3         738         CA  37.320309 -122.050040    95014  c:42668   \n",
       "4        1002         CA  37.779281 -122.419236    94105  c:65806   \n",
       "\n",
       "            city              Unnamed: 6               name  labels  ...  \\\n",
       "0      San Diego                     NaN        Bandsintown       1  ...   \n",
       "1      Los Gatos                     NaN          TriCipher       1  ...   \n",
       "2      San Diego      San Diego CA 92121              Plixi       1  ...   \n",
       "3      Cupertino      Cupertino CA 95014  Solidcore Systems       1  ...   \n",
       "4  San Francisco  San Francisco CA 94105     Inhale Digital       0  ...   \n",
       "\n",
       "  object_id has_VC has_angel has_roundA  has_roundB  has_roundC  has_roundD  \\\n",
       "0    c:6669      0         1          0           0           0           0   \n",
       "1   c:16283      1         0          0           1           1           1   \n",
       "2   c:65620      0         0          1           0           0           0   \n",
       "3   c:42668      0         0          0           1           1           1   \n",
       "4   c:65806      1         1          0           0           0           0   \n",
       "\n",
       "   avg_participants  is_top500    status  \n",
       "0            1.0000          0  acquired  \n",
       "1            4.7500          1  acquired  \n",
       "2            4.0000          1  acquired  \n",
       "3            3.3333          1  acquired  \n",
       "4            1.0000          1    closed  \n",
       "\n",
       "[5 rows x 49 columns]"
      ]
     },
     "execution_count": 2,
     "metadata": {},
     "output_type": "execute_result"
    }
   ],
   "source": [
    "df1 = pd.read_csv('data/startup data.csv')\n",
    "df1.head()"
   ]
  },
  {
   "cell_type": "code",
   "execution_count": 3,
   "id": "5713b575",
   "metadata": {
    "ExecuteTime": {
     "end_time": "2022-09-06T16:20:24.963342Z",
     "start_time": "2022-09-06T16:20:24.841819Z"
    },
    "hidden": true
   },
   "outputs": [
    {
     "name": "stdout",
     "output_type": "stream",
     "text": [
      "<class 'pandas.core.frame.DataFrame'>\n",
      "RangeIndex: 923 entries, 0 to 922\n",
      "Data columns (total 49 columns):\n",
      " #   Column                    Non-Null Count  Dtype  \n",
      "---  ------                    --------------  -----  \n",
      " 0   Unnamed: 0                923 non-null    int64  \n",
      " 1   state_code                923 non-null    object \n",
      " 2   latitude                  923 non-null    float64\n",
      " 3   longitude                 923 non-null    float64\n",
      " 4   zip_code                  923 non-null    object \n",
      " 5   id                        923 non-null    object \n",
      " 6   city                      923 non-null    object \n",
      " 7   Unnamed: 6                430 non-null    object \n",
      " 8   name                      923 non-null    object \n",
      " 9   labels                    923 non-null    int64  \n",
      " 10  founded_at                923 non-null    object \n",
      " 11  closed_at                 335 non-null    object \n",
      " 12  first_funding_at          923 non-null    object \n",
      " 13  last_funding_at           923 non-null    object \n",
      " 14  age_first_funding_year    923 non-null    float64\n",
      " 15  age_last_funding_year     923 non-null    float64\n",
      " 16  age_first_milestone_year  771 non-null    float64\n",
      " 17  age_last_milestone_year   771 non-null    float64\n",
      " 18  relationships             923 non-null    int64  \n",
      " 19  funding_rounds            923 non-null    int64  \n",
      " 20  funding_total_usd         923 non-null    int64  \n",
      " 21  milestones                923 non-null    int64  \n",
      " 22  state_code.1              922 non-null    object \n",
      " 23  is_CA                     923 non-null    int64  \n",
      " 24  is_NY                     923 non-null    int64  \n",
      " 25  is_MA                     923 non-null    int64  \n",
      " 26  is_TX                     923 non-null    int64  \n",
      " 27  is_otherstate             923 non-null    int64  \n",
      " 28  category_code             923 non-null    object \n",
      " 29  is_software               923 non-null    int64  \n",
      " 30  is_web                    923 non-null    int64  \n",
      " 31  is_mobile                 923 non-null    int64  \n",
      " 32  is_enterprise             923 non-null    int64  \n",
      " 33  is_advertising            923 non-null    int64  \n",
      " 34  is_gamesvideo             923 non-null    int64  \n",
      " 35  is_ecommerce              923 non-null    int64  \n",
      " 36  is_biotech                923 non-null    int64  \n",
      " 37  is_consulting             923 non-null    int64  \n",
      " 38  is_othercategory          923 non-null    int64  \n",
      " 39  object_id                 923 non-null    object \n",
      " 40  has_VC                    923 non-null    int64  \n",
      " 41  has_angel                 923 non-null    int64  \n",
      " 42  has_roundA                923 non-null    int64  \n",
      " 43  has_roundB                923 non-null    int64  \n",
      " 44  has_roundC                923 non-null    int64  \n",
      " 45  has_roundD                923 non-null    int64  \n",
      " 46  avg_participants          923 non-null    float64\n",
      " 47  is_top500                 923 non-null    int64  \n",
      " 48  status                    923 non-null    object \n",
      "dtypes: float64(7), int64(28), object(14)\n",
      "memory usage: 353.5+ KB\n",
      "None\n"
     ]
    },
    {
     "data": {
      "text/html": [
       "<div>\n",
       "<style scoped>\n",
       "    .dataframe tbody tr th:only-of-type {\n",
       "        vertical-align: middle;\n",
       "    }\n",
       "\n",
       "    .dataframe tbody tr th {\n",
       "        vertical-align: top;\n",
       "    }\n",
       "\n",
       "    .dataframe thead th {\n",
       "        text-align: right;\n",
       "    }\n",
       "</style>\n",
       "<table border=\"1\" class=\"dataframe\">\n",
       "  <thead>\n",
       "    <tr style=\"text-align: right;\">\n",
       "      <th></th>\n",
       "      <th>Unnamed: 0</th>\n",
       "      <th>latitude</th>\n",
       "      <th>longitude</th>\n",
       "      <th>labels</th>\n",
       "      <th>age_first_funding_year</th>\n",
       "      <th>age_last_funding_year</th>\n",
       "      <th>age_first_milestone_year</th>\n",
       "      <th>age_last_milestone_year</th>\n",
       "      <th>relationships</th>\n",
       "      <th>funding_rounds</th>\n",
       "      <th>...</th>\n",
       "      <th>is_consulting</th>\n",
       "      <th>is_othercategory</th>\n",
       "      <th>has_VC</th>\n",
       "      <th>has_angel</th>\n",
       "      <th>has_roundA</th>\n",
       "      <th>has_roundB</th>\n",
       "      <th>has_roundC</th>\n",
       "      <th>has_roundD</th>\n",
       "      <th>avg_participants</th>\n",
       "      <th>is_top500</th>\n",
       "    </tr>\n",
       "  </thead>\n",
       "  <tbody>\n",
       "    <tr>\n",
       "      <th>count</th>\n",
       "      <td>923.000000</td>\n",
       "      <td>923.000000</td>\n",
       "      <td>923.000000</td>\n",
       "      <td>923.000000</td>\n",
       "      <td>923.000000</td>\n",
       "      <td>923.000000</td>\n",
       "      <td>771.000000</td>\n",
       "      <td>771.000000</td>\n",
       "      <td>923.000000</td>\n",
       "      <td>923.000000</td>\n",
       "      <td>...</td>\n",
       "      <td>923.000000</td>\n",
       "      <td>923.000000</td>\n",
       "      <td>923.000000</td>\n",
       "      <td>923.000000</td>\n",
       "      <td>923.000000</td>\n",
       "      <td>923.000000</td>\n",
       "      <td>923.000000</td>\n",
       "      <td>923.000000</td>\n",
       "      <td>923.000000</td>\n",
       "      <td>923.000000</td>\n",
       "    </tr>\n",
       "    <tr>\n",
       "      <th>mean</th>\n",
       "      <td>572.297941</td>\n",
       "      <td>38.517442</td>\n",
       "      <td>-103.539212</td>\n",
       "      <td>0.646804</td>\n",
       "      <td>2.235630</td>\n",
       "      <td>3.931456</td>\n",
       "      <td>3.055353</td>\n",
       "      <td>4.754423</td>\n",
       "      <td>7.710726</td>\n",
       "      <td>2.310943</td>\n",
       "      <td>...</td>\n",
       "      <td>0.003250</td>\n",
       "      <td>0.322860</td>\n",
       "      <td>0.326111</td>\n",
       "      <td>0.254605</td>\n",
       "      <td>0.508126</td>\n",
       "      <td>0.392199</td>\n",
       "      <td>0.232936</td>\n",
       "      <td>0.099675</td>\n",
       "      <td>2.838586</td>\n",
       "      <td>0.809317</td>\n",
       "    </tr>\n",
       "    <tr>\n",
       "      <th>std</th>\n",
       "      <td>333.585431</td>\n",
       "      <td>3.741497</td>\n",
       "      <td>22.394167</td>\n",
       "      <td>0.478222</td>\n",
       "      <td>2.510449</td>\n",
       "      <td>2.967910</td>\n",
       "      <td>2.977057</td>\n",
       "      <td>3.212107</td>\n",
       "      <td>7.265776</td>\n",
       "      <td>1.390922</td>\n",
       "      <td>...</td>\n",
       "      <td>0.056949</td>\n",
       "      <td>0.467823</td>\n",
       "      <td>0.469042</td>\n",
       "      <td>0.435875</td>\n",
       "      <td>0.500205</td>\n",
       "      <td>0.488505</td>\n",
       "      <td>0.422931</td>\n",
       "      <td>0.299729</td>\n",
       "      <td>1.874601</td>\n",
       "      <td>0.393052</td>\n",
       "    </tr>\n",
       "    <tr>\n",
       "      <th>min</th>\n",
       "      <td>1.000000</td>\n",
       "      <td>25.752358</td>\n",
       "      <td>-122.756956</td>\n",
       "      <td>0.000000</td>\n",
       "      <td>-9.046600</td>\n",
       "      <td>-9.046600</td>\n",
       "      <td>-14.169900</td>\n",
       "      <td>-7.005500</td>\n",
       "      <td>0.000000</td>\n",
       "      <td>1.000000</td>\n",
       "      <td>...</td>\n",
       "      <td>0.000000</td>\n",
       "      <td>0.000000</td>\n",
       "      <td>0.000000</td>\n",
       "      <td>0.000000</td>\n",
       "      <td>0.000000</td>\n",
       "      <td>0.000000</td>\n",
       "      <td>0.000000</td>\n",
       "      <td>0.000000</td>\n",
       "      <td>1.000000</td>\n",
       "      <td>0.000000</td>\n",
       "    </tr>\n",
       "    <tr>\n",
       "      <th>25%</th>\n",
       "      <td>283.500000</td>\n",
       "      <td>37.388869</td>\n",
       "      <td>-122.198732</td>\n",
       "      <td>0.000000</td>\n",
       "      <td>0.576700</td>\n",
       "      <td>1.669850</td>\n",
       "      <td>1.000000</td>\n",
       "      <td>2.411000</td>\n",
       "      <td>3.000000</td>\n",
       "      <td>1.000000</td>\n",
       "      <td>...</td>\n",
       "      <td>0.000000</td>\n",
       "      <td>0.000000</td>\n",
       "      <td>0.000000</td>\n",
       "      <td>0.000000</td>\n",
       "      <td>0.000000</td>\n",
       "      <td>0.000000</td>\n",
       "      <td>0.000000</td>\n",
       "      <td>0.000000</td>\n",
       "      <td>1.500000</td>\n",
       "      <td>1.000000</td>\n",
       "    </tr>\n",
       "    <tr>\n",
       "      <th>50%</th>\n",
       "      <td>577.000000</td>\n",
       "      <td>37.779281</td>\n",
       "      <td>-118.374037</td>\n",
       "      <td>1.000000</td>\n",
       "      <td>1.446600</td>\n",
       "      <td>3.528800</td>\n",
       "      <td>2.520500</td>\n",
       "      <td>4.476700</td>\n",
       "      <td>5.000000</td>\n",
       "      <td>2.000000</td>\n",
       "      <td>...</td>\n",
       "      <td>0.000000</td>\n",
       "      <td>0.000000</td>\n",
       "      <td>0.000000</td>\n",
       "      <td>0.000000</td>\n",
       "      <td>1.000000</td>\n",
       "      <td>0.000000</td>\n",
       "      <td>0.000000</td>\n",
       "      <td>0.000000</td>\n",
       "      <td>2.500000</td>\n",
       "      <td>1.000000</td>\n",
       "    </tr>\n",
       "    <tr>\n",
       "      <th>75%</th>\n",
       "      <td>866.500000</td>\n",
       "      <td>40.730646</td>\n",
       "      <td>-77.214731</td>\n",
       "      <td>1.000000</td>\n",
       "      <td>3.575350</td>\n",
       "      <td>5.560250</td>\n",
       "      <td>4.686300</td>\n",
       "      <td>6.753400</td>\n",
       "      <td>10.000000</td>\n",
       "      <td>3.000000</td>\n",
       "      <td>...</td>\n",
       "      <td>0.000000</td>\n",
       "      <td>1.000000</td>\n",
       "      <td>1.000000</td>\n",
       "      <td>1.000000</td>\n",
       "      <td>1.000000</td>\n",
       "      <td>1.000000</td>\n",
       "      <td>0.000000</td>\n",
       "      <td>0.000000</td>\n",
       "      <td>3.800000</td>\n",
       "      <td>1.000000</td>\n",
       "    </tr>\n",
       "    <tr>\n",
       "      <th>max</th>\n",
       "      <td>1153.000000</td>\n",
       "      <td>59.335232</td>\n",
       "      <td>18.057121</td>\n",
       "      <td>1.000000</td>\n",
       "      <td>21.895900</td>\n",
       "      <td>21.895900</td>\n",
       "      <td>24.684900</td>\n",
       "      <td>24.684900</td>\n",
       "      <td>63.000000</td>\n",
       "      <td>10.000000</td>\n",
       "      <td>...</td>\n",
       "      <td>1.000000</td>\n",
       "      <td>1.000000</td>\n",
       "      <td>1.000000</td>\n",
       "      <td>1.000000</td>\n",
       "      <td>1.000000</td>\n",
       "      <td>1.000000</td>\n",
       "      <td>1.000000</td>\n",
       "      <td>1.000000</td>\n",
       "      <td>16.000000</td>\n",
       "      <td>1.000000</td>\n",
       "    </tr>\n",
       "  </tbody>\n",
       "</table>\n",
       "<p>8 rows × 35 columns</p>\n",
       "</div>"
      ],
      "text/plain": [
       "        Unnamed: 0    latitude   longitude      labels  \\\n",
       "count   923.000000  923.000000  923.000000  923.000000   \n",
       "mean    572.297941   38.517442 -103.539212    0.646804   \n",
       "std     333.585431    3.741497   22.394167    0.478222   \n",
       "min       1.000000   25.752358 -122.756956    0.000000   \n",
       "25%     283.500000   37.388869 -122.198732    0.000000   \n",
       "50%     577.000000   37.779281 -118.374037    1.000000   \n",
       "75%     866.500000   40.730646  -77.214731    1.000000   \n",
       "max    1153.000000   59.335232   18.057121    1.000000   \n",
       "\n",
       "       age_first_funding_year  age_last_funding_year  \\\n",
       "count              923.000000             923.000000   \n",
       "mean                 2.235630               3.931456   \n",
       "std                  2.510449               2.967910   \n",
       "min                 -9.046600              -9.046600   \n",
       "25%                  0.576700               1.669850   \n",
       "50%                  1.446600               3.528800   \n",
       "75%                  3.575350               5.560250   \n",
       "max                 21.895900              21.895900   \n",
       "\n",
       "       age_first_milestone_year  age_last_milestone_year  relationships  \\\n",
       "count                771.000000               771.000000     923.000000   \n",
       "mean                   3.055353                 4.754423       7.710726   \n",
       "std                    2.977057                 3.212107       7.265776   \n",
       "min                  -14.169900                -7.005500       0.000000   \n",
       "25%                    1.000000                 2.411000       3.000000   \n",
       "50%                    2.520500                 4.476700       5.000000   \n",
       "75%                    4.686300                 6.753400      10.000000   \n",
       "max                   24.684900                24.684900      63.000000   \n",
       "\n",
       "       funding_rounds  ...  is_consulting  is_othercategory      has_VC  \\\n",
       "count      923.000000  ...     923.000000        923.000000  923.000000   \n",
       "mean         2.310943  ...       0.003250          0.322860    0.326111   \n",
       "std          1.390922  ...       0.056949          0.467823    0.469042   \n",
       "min          1.000000  ...       0.000000          0.000000    0.000000   \n",
       "25%          1.000000  ...       0.000000          0.000000    0.000000   \n",
       "50%          2.000000  ...       0.000000          0.000000    0.000000   \n",
       "75%          3.000000  ...       0.000000          1.000000    1.000000   \n",
       "max         10.000000  ...       1.000000          1.000000    1.000000   \n",
       "\n",
       "        has_angel  has_roundA  has_roundB  has_roundC  has_roundD  \\\n",
       "count  923.000000  923.000000  923.000000  923.000000  923.000000   \n",
       "mean     0.254605    0.508126    0.392199    0.232936    0.099675   \n",
       "std      0.435875    0.500205    0.488505    0.422931    0.299729   \n",
       "min      0.000000    0.000000    0.000000    0.000000    0.000000   \n",
       "25%      0.000000    0.000000    0.000000    0.000000    0.000000   \n",
       "50%      0.000000    1.000000    0.000000    0.000000    0.000000   \n",
       "75%      1.000000    1.000000    1.000000    0.000000    0.000000   \n",
       "max      1.000000    1.000000    1.000000    1.000000    1.000000   \n",
       "\n",
       "       avg_participants   is_top500  \n",
       "count        923.000000  923.000000  \n",
       "mean           2.838586    0.809317  \n",
       "std            1.874601    0.393052  \n",
       "min            1.000000    0.000000  \n",
       "25%            1.500000    1.000000  \n",
       "50%            2.500000    1.000000  \n",
       "75%            3.800000    1.000000  \n",
       "max           16.000000    1.000000  \n",
       "\n",
       "[8 rows x 35 columns]"
      ]
     },
     "execution_count": 3,
     "metadata": {},
     "output_type": "execute_result"
    }
   ],
   "source": [
    "print(df1.info())\n",
    "df1.describe()"
   ]
  },
  {
   "cell_type": "code",
   "execution_count": 4,
   "id": "5e058cb1",
   "metadata": {
    "ExecuteTime": {
     "end_time": "2022-09-06T16:20:24.986324Z",
     "start_time": "2022-09-06T16:20:24.977352Z"
    },
    "hidden": true
   },
   "outputs": [
    {
     "data": {
      "text/plain": [
       "acquired    597\n",
       "closed      326\n",
       "Name: status, dtype: int64"
      ]
     },
     "execution_count": 4,
     "metadata": {},
     "output_type": "execute_result"
    }
   ],
   "source": [
    "df1['status'].value_counts()"
   ]
  },
  {
   "cell_type": "code",
   "execution_count": 5,
   "id": "ed33d3c2",
   "metadata": {
    "ExecuteTime": {
     "end_time": "2022-09-06T16:20:25.436317Z",
     "start_time": "2022-09-06T16:20:24.996461Z"
    },
    "hidden": true
   },
   "outputs": [
    {
     "data": {
      "text/html": [
       "<div>\n",
       "<style scoped>\n",
       "    .dataframe tbody tr th:only-of-type {\n",
       "        vertical-align: middle;\n",
       "    }\n",
       "\n",
       "    .dataframe tbody tr th {\n",
       "        vertical-align: top;\n",
       "    }\n",
       "\n",
       "    .dataframe thead th {\n",
       "        text-align: right;\n",
       "    }\n",
       "</style>\n",
       "<table border=\"1\" class=\"dataframe\">\n",
       "  <thead>\n",
       "    <tr style=\"text-align: right;\">\n",
       "      <th></th>\n",
       "      <th>permalink</th>\n",
       "      <th>name</th>\n",
       "      <th>homepage_url</th>\n",
       "      <th>category_list</th>\n",
       "      <th>market</th>\n",
       "      <th>funding_total_usd</th>\n",
       "      <th>status</th>\n",
       "      <th>country_code</th>\n",
       "      <th>state_code</th>\n",
       "      <th>region</th>\n",
       "      <th>...</th>\n",
       "      <th>secondary_market</th>\n",
       "      <th>product_crowdfunding</th>\n",
       "      <th>round_A</th>\n",
       "      <th>round_B</th>\n",
       "      <th>round_C</th>\n",
       "      <th>round_D</th>\n",
       "      <th>round_E</th>\n",
       "      <th>round_F</th>\n",
       "      <th>round_G</th>\n",
       "      <th>round_H</th>\n",
       "    </tr>\n",
       "  </thead>\n",
       "  <tbody>\n",
       "    <tr>\n",
       "      <th>0</th>\n",
       "      <td>/organization/waywire</td>\n",
       "      <td>#waywire</td>\n",
       "      <td>http://www.waywire.com</td>\n",
       "      <td>|Entertainment|Politics|Social Media|News|</td>\n",
       "      <td>News</td>\n",
       "      <td>17,50,000</td>\n",
       "      <td>acquired</td>\n",
       "      <td>USA</td>\n",
       "      <td>NY</td>\n",
       "      <td>New York City</td>\n",
       "      <td>...</td>\n",
       "      <td>0.0</td>\n",
       "      <td>0.0</td>\n",
       "      <td>0.0</td>\n",
       "      <td>0.0</td>\n",
       "      <td>0.0</td>\n",
       "      <td>0.0</td>\n",
       "      <td>0.0</td>\n",
       "      <td>0.0</td>\n",
       "      <td>0.0</td>\n",
       "      <td>0.0</td>\n",
       "    </tr>\n",
       "    <tr>\n",
       "      <th>1</th>\n",
       "      <td>/organization/tv-communications</td>\n",
       "      <td>&amp;TV Communications</td>\n",
       "      <td>http://enjoyandtv.com</td>\n",
       "      <td>|Games|</td>\n",
       "      <td>Games</td>\n",
       "      <td>40,00,000</td>\n",
       "      <td>operating</td>\n",
       "      <td>USA</td>\n",
       "      <td>CA</td>\n",
       "      <td>Los Angeles</td>\n",
       "      <td>...</td>\n",
       "      <td>0.0</td>\n",
       "      <td>0.0</td>\n",
       "      <td>0.0</td>\n",
       "      <td>0.0</td>\n",
       "      <td>0.0</td>\n",
       "      <td>0.0</td>\n",
       "      <td>0.0</td>\n",
       "      <td>0.0</td>\n",
       "      <td>0.0</td>\n",
       "      <td>0.0</td>\n",
       "    </tr>\n",
       "    <tr>\n",
       "      <th>2</th>\n",
       "      <td>/organization/rock-your-paper</td>\n",
       "      <td>'Rock' Your Paper</td>\n",
       "      <td>http://www.rockyourpaper.org</td>\n",
       "      <td>|Publishing|Education|</td>\n",
       "      <td>Publishing</td>\n",
       "      <td>40,000</td>\n",
       "      <td>operating</td>\n",
       "      <td>EST</td>\n",
       "      <td>NaN</td>\n",
       "      <td>Tallinn</td>\n",
       "      <td>...</td>\n",
       "      <td>0.0</td>\n",
       "      <td>0.0</td>\n",
       "      <td>0.0</td>\n",
       "      <td>0.0</td>\n",
       "      <td>0.0</td>\n",
       "      <td>0.0</td>\n",
       "      <td>0.0</td>\n",
       "      <td>0.0</td>\n",
       "      <td>0.0</td>\n",
       "      <td>0.0</td>\n",
       "    </tr>\n",
       "    <tr>\n",
       "      <th>3</th>\n",
       "      <td>/organization/in-touch-network</td>\n",
       "      <td>(In)Touch Network</td>\n",
       "      <td>http://www.InTouchNetwork.com</td>\n",
       "      <td>|Electronics|Guides|Coffee|Restaurants|Music|i...</td>\n",
       "      <td>Electronics</td>\n",
       "      <td>15,00,000</td>\n",
       "      <td>operating</td>\n",
       "      <td>GBR</td>\n",
       "      <td>NaN</td>\n",
       "      <td>London</td>\n",
       "      <td>...</td>\n",
       "      <td>0.0</td>\n",
       "      <td>0.0</td>\n",
       "      <td>0.0</td>\n",
       "      <td>0.0</td>\n",
       "      <td>0.0</td>\n",
       "      <td>0.0</td>\n",
       "      <td>0.0</td>\n",
       "      <td>0.0</td>\n",
       "      <td>0.0</td>\n",
       "      <td>0.0</td>\n",
       "    </tr>\n",
       "    <tr>\n",
       "      <th>4</th>\n",
       "      <td>/organization/r-ranch-and-mine</td>\n",
       "      <td>-R- Ranch and Mine</td>\n",
       "      <td>NaN</td>\n",
       "      <td>|Tourism|Entertainment|Games|</td>\n",
       "      <td>Tourism</td>\n",
       "      <td>60,000</td>\n",
       "      <td>operating</td>\n",
       "      <td>USA</td>\n",
       "      <td>TX</td>\n",
       "      <td>Dallas</td>\n",
       "      <td>...</td>\n",
       "      <td>0.0</td>\n",
       "      <td>0.0</td>\n",
       "      <td>0.0</td>\n",
       "      <td>0.0</td>\n",
       "      <td>0.0</td>\n",
       "      <td>0.0</td>\n",
       "      <td>0.0</td>\n",
       "      <td>0.0</td>\n",
       "      <td>0.0</td>\n",
       "      <td>0.0</td>\n",
       "    </tr>\n",
       "  </tbody>\n",
       "</table>\n",
       "<p>5 rows × 39 columns</p>\n",
       "</div>"
      ],
      "text/plain": [
       "                         permalink                name  \\\n",
       "0            /organization/waywire            #waywire   \n",
       "1  /organization/tv-communications  &TV Communications   \n",
       "2    /organization/rock-your-paper   'Rock' Your Paper   \n",
       "3   /organization/in-touch-network   (In)Touch Network   \n",
       "4   /organization/r-ranch-and-mine  -R- Ranch and Mine   \n",
       "\n",
       "                    homepage_url  \\\n",
       "0         http://www.waywire.com   \n",
       "1          http://enjoyandtv.com   \n",
       "2   http://www.rockyourpaper.org   \n",
       "3  http://www.InTouchNetwork.com   \n",
       "4                            NaN   \n",
       "\n",
       "                                       category_list        market   \\\n",
       "0         |Entertainment|Politics|Social Media|News|          News    \n",
       "1                                            |Games|         Games    \n",
       "2                             |Publishing|Education|    Publishing    \n",
       "3  |Electronics|Guides|Coffee|Restaurants|Music|i...   Electronics    \n",
       "4                      |Tourism|Entertainment|Games|       Tourism    \n",
       "\n",
       "   funding_total_usd      status country_code state_code         region  ...  \\\n",
       "0          17,50,000    acquired          USA         NY  New York City  ...   \n",
       "1          40,00,000   operating          USA         CA    Los Angeles  ...   \n",
       "2             40,000   operating          EST        NaN        Tallinn  ...   \n",
       "3          15,00,000   operating          GBR        NaN         London  ...   \n",
       "4             60,000   operating          USA         TX         Dallas  ...   \n",
       "\n",
       "  secondary_market  product_crowdfunding round_A round_B round_C  round_D  \\\n",
       "0              0.0                   0.0     0.0     0.0     0.0      0.0   \n",
       "1              0.0                   0.0     0.0     0.0     0.0      0.0   \n",
       "2              0.0                   0.0     0.0     0.0     0.0      0.0   \n",
       "3              0.0                   0.0     0.0     0.0     0.0      0.0   \n",
       "4              0.0                   0.0     0.0     0.0     0.0      0.0   \n",
       "\n",
       "  round_E round_F  round_G  round_H  \n",
       "0     0.0     0.0      0.0      0.0  \n",
       "1     0.0     0.0      0.0      0.0  \n",
       "2     0.0     0.0      0.0      0.0  \n",
       "3     0.0     0.0      0.0      0.0  \n",
       "4     0.0     0.0      0.0      0.0  \n",
       "\n",
       "[5 rows x 39 columns]"
      ]
     },
     "execution_count": 5,
     "metadata": {},
     "output_type": "execute_result"
    }
   ],
   "source": [
    "df2 = pd.read_csv('data/investments_VC.csv', encoding = \"ISO-8859-1\")\n",
    "df2.head()"
   ]
  },
  {
   "cell_type": "code",
   "execution_count": 6,
   "id": "6ccab063",
   "metadata": {
    "ExecuteTime": {
     "end_time": "2022-09-06T16:20:25.615769Z",
     "start_time": "2022-09-06T16:20:25.441226Z"
    },
    "hidden": true
   },
   "outputs": [
    {
     "name": "stdout",
     "output_type": "stream",
     "text": [
      "<class 'pandas.core.frame.DataFrame'>\n",
      "RangeIndex: 54294 entries, 0 to 54293\n",
      "Data columns (total 39 columns):\n",
      " #   Column                Non-Null Count  Dtype  \n",
      "---  ------                --------------  -----  \n",
      " 0   permalink             49438 non-null  object \n",
      " 1   name                  49437 non-null  object \n",
      " 2   homepage_url          45989 non-null  object \n",
      " 3   category_list         45477 non-null  object \n",
      " 4    market               45470 non-null  object \n",
      " 5    funding_total_usd    49438 non-null  object \n",
      " 6   status                48124 non-null  object \n",
      " 7   country_code          44165 non-null  object \n",
      " 8   state_code            30161 non-null  object \n",
      " 9   region                44165 non-null  object \n",
      " 10  city                  43322 non-null  object \n",
      " 11  funding_rounds        49438 non-null  float64\n",
      " 12  founded_at            38554 non-null  object \n",
      " 13  founded_month         38482 non-null  object \n",
      " 14  founded_quarter       38482 non-null  object \n",
      " 15  founded_year          38482 non-null  float64\n",
      " 16  first_funding_at      49438 non-null  object \n",
      " 17  last_funding_at       49438 non-null  object \n",
      " 18  seed                  49438 non-null  float64\n",
      " 19  venture               49438 non-null  float64\n",
      " 20  equity_crowdfunding   49438 non-null  float64\n",
      " 21  undisclosed           49438 non-null  float64\n",
      " 22  convertible_note      49438 non-null  float64\n",
      " 23  debt_financing        49438 non-null  float64\n",
      " 24  angel                 49438 non-null  float64\n",
      " 25  grant                 49438 non-null  float64\n",
      " 26  private_equity        49438 non-null  float64\n",
      " 27  post_ipo_equity       49438 non-null  float64\n",
      " 28  post_ipo_debt         49438 non-null  float64\n",
      " 29  secondary_market      49438 non-null  float64\n",
      " 30  product_crowdfunding  49438 non-null  float64\n",
      " 31  round_A               49438 non-null  float64\n",
      " 32  round_B               49438 non-null  float64\n",
      " 33  round_C               49438 non-null  float64\n",
      " 34  round_D               49438 non-null  float64\n",
      " 35  round_E               49438 non-null  float64\n",
      " 36  round_F               49438 non-null  float64\n",
      " 37  round_G               49438 non-null  float64\n",
      " 38  round_H               49438 non-null  float64\n",
      "dtypes: float64(23), object(16)\n",
      "memory usage: 16.2+ MB\n",
      "None\n"
     ]
    },
    {
     "data": {
      "text/html": [
       "<div>\n",
       "<style scoped>\n",
       "    .dataframe tbody tr th:only-of-type {\n",
       "        vertical-align: middle;\n",
       "    }\n",
       "\n",
       "    .dataframe tbody tr th {\n",
       "        vertical-align: top;\n",
       "    }\n",
       "\n",
       "    .dataframe thead th {\n",
       "        text-align: right;\n",
       "    }\n",
       "</style>\n",
       "<table border=\"1\" class=\"dataframe\">\n",
       "  <thead>\n",
       "    <tr style=\"text-align: right;\">\n",
       "      <th></th>\n",
       "      <th>funding_rounds</th>\n",
       "      <th>founded_year</th>\n",
       "      <th>seed</th>\n",
       "      <th>venture</th>\n",
       "      <th>equity_crowdfunding</th>\n",
       "      <th>undisclosed</th>\n",
       "      <th>convertible_note</th>\n",
       "      <th>debt_financing</th>\n",
       "      <th>angel</th>\n",
       "      <th>grant</th>\n",
       "      <th>...</th>\n",
       "      <th>secondary_market</th>\n",
       "      <th>product_crowdfunding</th>\n",
       "      <th>round_A</th>\n",
       "      <th>round_B</th>\n",
       "      <th>round_C</th>\n",
       "      <th>round_D</th>\n",
       "      <th>round_E</th>\n",
       "      <th>round_F</th>\n",
       "      <th>round_G</th>\n",
       "      <th>round_H</th>\n",
       "    </tr>\n",
       "  </thead>\n",
       "  <tbody>\n",
       "    <tr>\n",
       "      <th>count</th>\n",
       "      <td>49438.000000</td>\n",
       "      <td>38482.000000</td>\n",
       "      <td>4.943800e+04</td>\n",
       "      <td>4.943800e+04</td>\n",
       "      <td>4.943800e+04</td>\n",
       "      <td>4.943800e+04</td>\n",
       "      <td>4.943800e+04</td>\n",
       "      <td>4.943800e+04</td>\n",
       "      <td>4.943800e+04</td>\n",
       "      <td>4.943800e+04</td>\n",
       "      <td>...</td>\n",
       "      <td>4.943800e+04</td>\n",
       "      <td>4.943800e+04</td>\n",
       "      <td>4.943800e+04</td>\n",
       "      <td>4.943800e+04</td>\n",
       "      <td>4.943800e+04</td>\n",
       "      <td>4.943800e+04</td>\n",
       "      <td>4.943800e+04</td>\n",
       "      <td>4.943800e+04</td>\n",
       "      <td>4.943800e+04</td>\n",
       "      <td>4.943800e+04</td>\n",
       "    </tr>\n",
       "    <tr>\n",
       "      <th>mean</th>\n",
       "      <td>1.696205</td>\n",
       "      <td>2007.359129</td>\n",
       "      <td>2.173215e+05</td>\n",
       "      <td>7.501051e+06</td>\n",
       "      <td>6.163322e+03</td>\n",
       "      <td>1.302213e+05</td>\n",
       "      <td>2.336410e+04</td>\n",
       "      <td>1.888157e+06</td>\n",
       "      <td>6.541898e+04</td>\n",
       "      <td>1.628453e+05</td>\n",
       "      <td>...</td>\n",
       "      <td>3.845592e+04</td>\n",
       "      <td>7.074227e+03</td>\n",
       "      <td>1.243955e+06</td>\n",
       "      <td>1.492891e+06</td>\n",
       "      <td>1.205356e+06</td>\n",
       "      <td>7.375261e+05</td>\n",
       "      <td>3.424682e+05</td>\n",
       "      <td>1.697692e+05</td>\n",
       "      <td>5.767067e+04</td>\n",
       "      <td>1.423197e+04</td>\n",
       "    </tr>\n",
       "    <tr>\n",
       "      <th>std</th>\n",
       "      <td>1.294213</td>\n",
       "      <td>7.579203</td>\n",
       "      <td>1.056985e+06</td>\n",
       "      <td>2.847112e+07</td>\n",
       "      <td>1.999048e+05</td>\n",
       "      <td>2.981404e+06</td>\n",
       "      <td>1.432046e+06</td>\n",
       "      <td>1.382046e+08</td>\n",
       "      <td>6.582908e+05</td>\n",
       "      <td>5.612088e+06</td>\n",
       "      <td>...</td>\n",
       "      <td>3.864461e+06</td>\n",
       "      <td>4.282166e+05</td>\n",
       "      <td>5.531974e+06</td>\n",
       "      <td>7.472704e+06</td>\n",
       "      <td>7.993592e+06</td>\n",
       "      <td>9.815218e+06</td>\n",
       "      <td>5.406915e+06</td>\n",
       "      <td>6.277905e+06</td>\n",
       "      <td>5.252312e+06</td>\n",
       "      <td>2.716865e+06</td>\n",
       "    </tr>\n",
       "    <tr>\n",
       "      <th>min</th>\n",
       "      <td>1.000000</td>\n",
       "      <td>1902.000000</td>\n",
       "      <td>0.000000e+00</td>\n",
       "      <td>0.000000e+00</td>\n",
       "      <td>0.000000e+00</td>\n",
       "      <td>0.000000e+00</td>\n",
       "      <td>0.000000e+00</td>\n",
       "      <td>0.000000e+00</td>\n",
       "      <td>0.000000e+00</td>\n",
       "      <td>0.000000e+00</td>\n",
       "      <td>...</td>\n",
       "      <td>0.000000e+00</td>\n",
       "      <td>0.000000e+00</td>\n",
       "      <td>0.000000e+00</td>\n",
       "      <td>0.000000e+00</td>\n",
       "      <td>0.000000e+00</td>\n",
       "      <td>0.000000e+00</td>\n",
       "      <td>0.000000e+00</td>\n",
       "      <td>0.000000e+00</td>\n",
       "      <td>0.000000e+00</td>\n",
       "      <td>0.000000e+00</td>\n",
       "    </tr>\n",
       "    <tr>\n",
       "      <th>25%</th>\n",
       "      <td>1.000000</td>\n",
       "      <td>2006.000000</td>\n",
       "      <td>0.000000e+00</td>\n",
       "      <td>0.000000e+00</td>\n",
       "      <td>0.000000e+00</td>\n",
       "      <td>0.000000e+00</td>\n",
       "      <td>0.000000e+00</td>\n",
       "      <td>0.000000e+00</td>\n",
       "      <td>0.000000e+00</td>\n",
       "      <td>0.000000e+00</td>\n",
       "      <td>...</td>\n",
       "      <td>0.000000e+00</td>\n",
       "      <td>0.000000e+00</td>\n",
       "      <td>0.000000e+00</td>\n",
       "      <td>0.000000e+00</td>\n",
       "      <td>0.000000e+00</td>\n",
       "      <td>0.000000e+00</td>\n",
       "      <td>0.000000e+00</td>\n",
       "      <td>0.000000e+00</td>\n",
       "      <td>0.000000e+00</td>\n",
       "      <td>0.000000e+00</td>\n",
       "    </tr>\n",
       "    <tr>\n",
       "      <th>50%</th>\n",
       "      <td>1.000000</td>\n",
       "      <td>2010.000000</td>\n",
       "      <td>0.000000e+00</td>\n",
       "      <td>0.000000e+00</td>\n",
       "      <td>0.000000e+00</td>\n",
       "      <td>0.000000e+00</td>\n",
       "      <td>0.000000e+00</td>\n",
       "      <td>0.000000e+00</td>\n",
       "      <td>0.000000e+00</td>\n",
       "      <td>0.000000e+00</td>\n",
       "      <td>...</td>\n",
       "      <td>0.000000e+00</td>\n",
       "      <td>0.000000e+00</td>\n",
       "      <td>0.000000e+00</td>\n",
       "      <td>0.000000e+00</td>\n",
       "      <td>0.000000e+00</td>\n",
       "      <td>0.000000e+00</td>\n",
       "      <td>0.000000e+00</td>\n",
       "      <td>0.000000e+00</td>\n",
       "      <td>0.000000e+00</td>\n",
       "      <td>0.000000e+00</td>\n",
       "    </tr>\n",
       "    <tr>\n",
       "      <th>75%</th>\n",
       "      <td>2.000000</td>\n",
       "      <td>2012.000000</td>\n",
       "      <td>2.500000e+04</td>\n",
       "      <td>5.000000e+06</td>\n",
       "      <td>0.000000e+00</td>\n",
       "      <td>0.000000e+00</td>\n",
       "      <td>0.000000e+00</td>\n",
       "      <td>0.000000e+00</td>\n",
       "      <td>0.000000e+00</td>\n",
       "      <td>0.000000e+00</td>\n",
       "      <td>...</td>\n",
       "      <td>0.000000e+00</td>\n",
       "      <td>0.000000e+00</td>\n",
       "      <td>0.000000e+00</td>\n",
       "      <td>0.000000e+00</td>\n",
       "      <td>0.000000e+00</td>\n",
       "      <td>0.000000e+00</td>\n",
       "      <td>0.000000e+00</td>\n",
       "      <td>0.000000e+00</td>\n",
       "      <td>0.000000e+00</td>\n",
       "      <td>0.000000e+00</td>\n",
       "    </tr>\n",
       "    <tr>\n",
       "      <th>max</th>\n",
       "      <td>18.000000</td>\n",
       "      <td>2014.000000</td>\n",
       "      <td>1.300000e+08</td>\n",
       "      <td>2.351000e+09</td>\n",
       "      <td>2.500000e+07</td>\n",
       "      <td>2.924328e+08</td>\n",
       "      <td>3.000000e+08</td>\n",
       "      <td>3.007950e+10</td>\n",
       "      <td>6.359026e+07</td>\n",
       "      <td>7.505000e+08</td>\n",
       "      <td>...</td>\n",
       "      <td>6.806116e+08</td>\n",
       "      <td>7.200000e+07</td>\n",
       "      <td>3.190000e+08</td>\n",
       "      <td>5.420000e+08</td>\n",
       "      <td>4.900000e+08</td>\n",
       "      <td>1.200000e+09</td>\n",
       "      <td>4.000000e+08</td>\n",
       "      <td>1.060000e+09</td>\n",
       "      <td>1.000000e+09</td>\n",
       "      <td>6.000000e+08</td>\n",
       "    </tr>\n",
       "  </tbody>\n",
       "</table>\n",
       "<p>8 rows × 23 columns</p>\n",
       "</div>"
      ],
      "text/plain": [
       "       funding_rounds  founded_year          seed       venture  \\\n",
       "count    49438.000000  38482.000000  4.943800e+04  4.943800e+04   \n",
       "mean         1.696205   2007.359129  2.173215e+05  7.501051e+06   \n",
       "std          1.294213      7.579203  1.056985e+06  2.847112e+07   \n",
       "min          1.000000   1902.000000  0.000000e+00  0.000000e+00   \n",
       "25%          1.000000   2006.000000  0.000000e+00  0.000000e+00   \n",
       "50%          1.000000   2010.000000  0.000000e+00  0.000000e+00   \n",
       "75%          2.000000   2012.000000  2.500000e+04  5.000000e+06   \n",
       "max         18.000000   2014.000000  1.300000e+08  2.351000e+09   \n",
       "\n",
       "       equity_crowdfunding   undisclosed  convertible_note  debt_financing  \\\n",
       "count         4.943800e+04  4.943800e+04      4.943800e+04    4.943800e+04   \n",
       "mean          6.163322e+03  1.302213e+05      2.336410e+04    1.888157e+06   \n",
       "std           1.999048e+05  2.981404e+06      1.432046e+06    1.382046e+08   \n",
       "min           0.000000e+00  0.000000e+00      0.000000e+00    0.000000e+00   \n",
       "25%           0.000000e+00  0.000000e+00      0.000000e+00    0.000000e+00   \n",
       "50%           0.000000e+00  0.000000e+00      0.000000e+00    0.000000e+00   \n",
       "75%           0.000000e+00  0.000000e+00      0.000000e+00    0.000000e+00   \n",
       "max           2.500000e+07  2.924328e+08      3.000000e+08    3.007950e+10   \n",
       "\n",
       "              angel         grant  ...  secondary_market  \\\n",
       "count  4.943800e+04  4.943800e+04  ...      4.943800e+04   \n",
       "mean   6.541898e+04  1.628453e+05  ...      3.845592e+04   \n",
       "std    6.582908e+05  5.612088e+06  ...      3.864461e+06   \n",
       "min    0.000000e+00  0.000000e+00  ...      0.000000e+00   \n",
       "25%    0.000000e+00  0.000000e+00  ...      0.000000e+00   \n",
       "50%    0.000000e+00  0.000000e+00  ...      0.000000e+00   \n",
       "75%    0.000000e+00  0.000000e+00  ...      0.000000e+00   \n",
       "max    6.359026e+07  7.505000e+08  ...      6.806116e+08   \n",
       "\n",
       "       product_crowdfunding       round_A       round_B       round_C  \\\n",
       "count          4.943800e+04  4.943800e+04  4.943800e+04  4.943800e+04   \n",
       "mean           7.074227e+03  1.243955e+06  1.492891e+06  1.205356e+06   \n",
       "std            4.282166e+05  5.531974e+06  7.472704e+06  7.993592e+06   \n",
       "min            0.000000e+00  0.000000e+00  0.000000e+00  0.000000e+00   \n",
       "25%            0.000000e+00  0.000000e+00  0.000000e+00  0.000000e+00   \n",
       "50%            0.000000e+00  0.000000e+00  0.000000e+00  0.000000e+00   \n",
       "75%            0.000000e+00  0.000000e+00  0.000000e+00  0.000000e+00   \n",
       "max            7.200000e+07  3.190000e+08  5.420000e+08  4.900000e+08   \n",
       "\n",
       "            round_D       round_E       round_F       round_G       round_H  \n",
       "count  4.943800e+04  4.943800e+04  4.943800e+04  4.943800e+04  4.943800e+04  \n",
       "mean   7.375261e+05  3.424682e+05  1.697692e+05  5.767067e+04  1.423197e+04  \n",
       "std    9.815218e+06  5.406915e+06  6.277905e+06  5.252312e+06  2.716865e+06  \n",
       "min    0.000000e+00  0.000000e+00  0.000000e+00  0.000000e+00  0.000000e+00  \n",
       "25%    0.000000e+00  0.000000e+00  0.000000e+00  0.000000e+00  0.000000e+00  \n",
       "50%    0.000000e+00  0.000000e+00  0.000000e+00  0.000000e+00  0.000000e+00  \n",
       "75%    0.000000e+00  0.000000e+00  0.000000e+00  0.000000e+00  0.000000e+00  \n",
       "max    1.200000e+09  4.000000e+08  1.060000e+09  1.000000e+09  6.000000e+08  \n",
       "\n",
       "[8 rows x 23 columns]"
      ]
     },
     "execution_count": 6,
     "metadata": {},
     "output_type": "execute_result"
    }
   ],
   "source": [
    "print(df2.info())\n",
    "df2.describe()"
   ]
  },
  {
   "cell_type": "code",
   "execution_count": 7,
   "id": "0b897fd8",
   "metadata": {
    "ExecuteTime": {
     "end_time": "2022-09-06T16:20:25.633324Z",
     "start_time": "2022-09-06T16:20:25.618820Z"
    },
    "hidden": true
   },
   "outputs": [
    {
     "data": {
      "text/plain": [
       "operating    41829\n",
       "acquired      3692\n",
       "closed        2603\n",
       "Name: status, dtype: int64"
      ]
     },
     "execution_count": 7,
     "metadata": {},
     "output_type": "execute_result"
    }
   ],
   "source": [
    "df2['status'].value_counts()"
   ]
  },
  {
   "cell_type": "code",
   "execution_count": 8,
   "id": "84e52753",
   "metadata": {
    "ExecuteTime": {
     "end_time": "2022-09-06T16:20:25.666350Z",
     "start_time": "2022-09-06T16:20:25.642311Z"
    },
    "hidden": true
   },
   "outputs": [
    {
     "data": {
      "text/plain": [
       "CA    9917\n",
       "NY    2914\n",
       "MA    1969\n",
       "TX    1466\n",
       "WA     974\n",
       "      ... \n",
       "MB      13\n",
       "AK      12\n",
       "NB       8\n",
       "SK       4\n",
       "PE       2\n",
       "Name: state_code, Length: 61, dtype: int64"
      ]
     },
     "execution_count": 8,
     "metadata": {},
     "output_type": "execute_result"
    }
   ],
   "source": [
    "df2['state_code'].value_counts()"
   ]
  },
  {
   "cell_type": "markdown",
   "id": "cf0cc6a5",
   "metadata": {
    "hidden": true
   },
   "source": [
    "I am going to use this dataset, as it has many features I can play with and enough rows. It is also decently clean and interpretable from the start."
   ]
  },
  {
   "cell_type": "markdown",
   "id": "c5b74049",
   "metadata": {},
   "source": [
    "### Exploratory Analysis"
   ]
  },
  {
   "cell_type": "code",
   "execution_count": 237,
   "id": "1115cc97",
   "metadata": {
    "ExecuteTime": {
     "end_time": "2022-09-07T21:03:12.101888Z",
     "start_time": "2022-09-07T21:03:08.715313Z"
    }
   },
   "outputs": [
    {
     "name": "stdout",
     "output_type": "stream",
     "text": [
      "<class 'pandas.core.frame.DataFrame'>\n",
      "RangeIndex: 54294 entries, 0 to 54293\n",
      "Data columns (total 39 columns):\n",
      " #   Column                Non-Null Count  Dtype  \n",
      "---  ------                --------------  -----  \n",
      " 0   permalink             49438 non-null  object \n",
      " 1   name                  49437 non-null  object \n",
      " 2   homepage_url          45989 non-null  object \n",
      " 3   category_list         45477 non-null  object \n",
      " 4    market               45470 non-null  object \n",
      " 5    funding_total_usd    49438 non-null  object \n",
      " 6   status                48124 non-null  object \n",
      " 7   country_code          44165 non-null  object \n",
      " 8   state_code            30161 non-null  object \n",
      " 9   region                44165 non-null  object \n",
      " 10  city                  43322 non-null  object \n",
      " 11  funding_rounds        49438 non-null  float64\n",
      " 12  founded_at            38554 non-null  object \n",
      " 13  founded_month         38482 non-null  object \n",
      " 14  founded_quarter       38482 non-null  object \n",
      " 15  founded_year          38482 non-null  float64\n",
      " 16  first_funding_at      49438 non-null  object \n",
      " 17  last_funding_at       49438 non-null  object \n",
      " 18  seed                  49438 non-null  float64\n",
      " 19  venture               49438 non-null  float64\n",
      " 20  equity_crowdfunding   49438 non-null  float64\n",
      " 21  undisclosed           49438 non-null  float64\n",
      " 22  convertible_note      49438 non-null  float64\n",
      " 23  debt_financing        49438 non-null  float64\n",
      " 24  angel                 49438 non-null  float64\n",
      " 25  grant                 49438 non-null  float64\n",
      " 26  private_equity        49438 non-null  float64\n",
      " 27  post_ipo_equity       49438 non-null  float64\n",
      " 28  post_ipo_debt         49438 non-null  float64\n",
      " 29  secondary_market      49438 non-null  float64\n",
      " 30  product_crowdfunding  49438 non-null  float64\n",
      " 31  round_A               49438 non-null  float64\n",
      " 32  round_B               49438 non-null  float64\n",
      " 33  round_C               49438 non-null  float64\n",
      " 34  round_D               49438 non-null  float64\n",
      " 35  round_E               49438 non-null  float64\n",
      " 36  round_F               49438 non-null  float64\n",
      " 37  round_G               49438 non-null  float64\n",
      " 38  round_H               49438 non-null  float64\n",
      "dtypes: float64(23), object(16)\n",
      "memory usage: 16.2+ MB\n",
      "None\n"
     ]
    },
    {
     "data": {
      "text/html": [
       "<div>\n",
       "<style scoped>\n",
       "    .dataframe tbody tr th:only-of-type {\n",
       "        vertical-align: middle;\n",
       "    }\n",
       "\n",
       "    .dataframe tbody tr th {\n",
       "        vertical-align: top;\n",
       "    }\n",
       "\n",
       "    .dataframe thead th {\n",
       "        text-align: right;\n",
       "    }\n",
       "</style>\n",
       "<table border=\"1\" class=\"dataframe\">\n",
       "  <thead>\n",
       "    <tr style=\"text-align: right;\">\n",
       "      <th></th>\n",
       "      <th>permalink</th>\n",
       "      <th>name</th>\n",
       "      <th>homepage_url</th>\n",
       "      <th>category_list</th>\n",
       "      <th>market</th>\n",
       "      <th>funding_total_usd</th>\n",
       "      <th>status</th>\n",
       "      <th>country_code</th>\n",
       "      <th>state_code</th>\n",
       "      <th>region</th>\n",
       "      <th>...</th>\n",
       "      <th>secondary_market</th>\n",
       "      <th>product_crowdfunding</th>\n",
       "      <th>round_A</th>\n",
       "      <th>round_B</th>\n",
       "      <th>round_C</th>\n",
       "      <th>round_D</th>\n",
       "      <th>round_E</th>\n",
       "      <th>round_F</th>\n",
       "      <th>round_G</th>\n",
       "      <th>round_H</th>\n",
       "    </tr>\n",
       "  </thead>\n",
       "  <tbody>\n",
       "    <tr>\n",
       "      <th>0</th>\n",
       "      <td>/organization/waywire</td>\n",
       "      <td>#waywire</td>\n",
       "      <td>http://www.waywire.com</td>\n",
       "      <td>|Entertainment|Politics|Social Media|News|</td>\n",
       "      <td>News</td>\n",
       "      <td>17,50,000</td>\n",
       "      <td>acquired</td>\n",
       "      <td>USA</td>\n",
       "      <td>NY</td>\n",
       "      <td>New York City</td>\n",
       "      <td>...</td>\n",
       "      <td>0.0</td>\n",
       "      <td>0.0</td>\n",
       "      <td>0.0</td>\n",
       "      <td>0.0</td>\n",
       "      <td>0.0</td>\n",
       "      <td>0.0</td>\n",
       "      <td>0.0</td>\n",
       "      <td>0.0</td>\n",
       "      <td>0.0</td>\n",
       "      <td>0.0</td>\n",
       "    </tr>\n",
       "    <tr>\n",
       "      <th>1</th>\n",
       "      <td>/organization/tv-communications</td>\n",
       "      <td>&amp;TV Communications</td>\n",
       "      <td>http://enjoyandtv.com</td>\n",
       "      <td>|Games|</td>\n",
       "      <td>Games</td>\n",
       "      <td>40,00,000</td>\n",
       "      <td>operating</td>\n",
       "      <td>USA</td>\n",
       "      <td>CA</td>\n",
       "      <td>Los Angeles</td>\n",
       "      <td>...</td>\n",
       "      <td>0.0</td>\n",
       "      <td>0.0</td>\n",
       "      <td>0.0</td>\n",
       "      <td>0.0</td>\n",
       "      <td>0.0</td>\n",
       "      <td>0.0</td>\n",
       "      <td>0.0</td>\n",
       "      <td>0.0</td>\n",
       "      <td>0.0</td>\n",
       "      <td>0.0</td>\n",
       "    </tr>\n",
       "    <tr>\n",
       "      <th>2</th>\n",
       "      <td>/organization/rock-your-paper</td>\n",
       "      <td>'Rock' Your Paper</td>\n",
       "      <td>http://www.rockyourpaper.org</td>\n",
       "      <td>|Publishing|Education|</td>\n",
       "      <td>Publishing</td>\n",
       "      <td>40,000</td>\n",
       "      <td>operating</td>\n",
       "      <td>EST</td>\n",
       "      <td>NaN</td>\n",
       "      <td>Tallinn</td>\n",
       "      <td>...</td>\n",
       "      <td>0.0</td>\n",
       "      <td>0.0</td>\n",
       "      <td>0.0</td>\n",
       "      <td>0.0</td>\n",
       "      <td>0.0</td>\n",
       "      <td>0.0</td>\n",
       "      <td>0.0</td>\n",
       "      <td>0.0</td>\n",
       "      <td>0.0</td>\n",
       "      <td>0.0</td>\n",
       "    </tr>\n",
       "    <tr>\n",
       "      <th>3</th>\n",
       "      <td>/organization/in-touch-network</td>\n",
       "      <td>(In)Touch Network</td>\n",
       "      <td>http://www.InTouchNetwork.com</td>\n",
       "      <td>|Electronics|Guides|Coffee|Restaurants|Music|i...</td>\n",
       "      <td>Electronics</td>\n",
       "      <td>15,00,000</td>\n",
       "      <td>operating</td>\n",
       "      <td>GBR</td>\n",
       "      <td>NaN</td>\n",
       "      <td>London</td>\n",
       "      <td>...</td>\n",
       "      <td>0.0</td>\n",
       "      <td>0.0</td>\n",
       "      <td>0.0</td>\n",
       "      <td>0.0</td>\n",
       "      <td>0.0</td>\n",
       "      <td>0.0</td>\n",
       "      <td>0.0</td>\n",
       "      <td>0.0</td>\n",
       "      <td>0.0</td>\n",
       "      <td>0.0</td>\n",
       "    </tr>\n",
       "    <tr>\n",
       "      <th>4</th>\n",
       "      <td>/organization/r-ranch-and-mine</td>\n",
       "      <td>-R- Ranch and Mine</td>\n",
       "      <td>NaN</td>\n",
       "      <td>|Tourism|Entertainment|Games|</td>\n",
       "      <td>Tourism</td>\n",
       "      <td>60,000</td>\n",
       "      <td>operating</td>\n",
       "      <td>USA</td>\n",
       "      <td>TX</td>\n",
       "      <td>Dallas</td>\n",
       "      <td>...</td>\n",
       "      <td>0.0</td>\n",
       "      <td>0.0</td>\n",
       "      <td>0.0</td>\n",
       "      <td>0.0</td>\n",
       "      <td>0.0</td>\n",
       "      <td>0.0</td>\n",
       "      <td>0.0</td>\n",
       "      <td>0.0</td>\n",
       "      <td>0.0</td>\n",
       "      <td>0.0</td>\n",
       "    </tr>\n",
       "  </tbody>\n",
       "</table>\n",
       "<p>5 rows × 39 columns</p>\n",
       "</div>"
      ],
      "text/plain": [
       "                         permalink                name  \\\n",
       "0            /organization/waywire            #waywire   \n",
       "1  /organization/tv-communications  &TV Communications   \n",
       "2    /organization/rock-your-paper   'Rock' Your Paper   \n",
       "3   /organization/in-touch-network   (In)Touch Network   \n",
       "4   /organization/r-ranch-and-mine  -R- Ranch and Mine   \n",
       "\n",
       "                    homepage_url  \\\n",
       "0         http://www.waywire.com   \n",
       "1          http://enjoyandtv.com   \n",
       "2   http://www.rockyourpaper.org   \n",
       "3  http://www.InTouchNetwork.com   \n",
       "4                            NaN   \n",
       "\n",
       "                                       category_list        market   \\\n",
       "0         |Entertainment|Politics|Social Media|News|          News    \n",
       "1                                            |Games|         Games    \n",
       "2                             |Publishing|Education|    Publishing    \n",
       "3  |Electronics|Guides|Coffee|Restaurants|Music|i...   Electronics    \n",
       "4                      |Tourism|Entertainment|Games|       Tourism    \n",
       "\n",
       "   funding_total_usd      status country_code state_code         region  ...  \\\n",
       "0          17,50,000    acquired          USA         NY  New York City  ...   \n",
       "1          40,00,000   operating          USA         CA    Los Angeles  ...   \n",
       "2             40,000   operating          EST        NaN        Tallinn  ...   \n",
       "3          15,00,000   operating          GBR        NaN         London  ...   \n",
       "4             60,000   operating          USA         TX         Dallas  ...   \n",
       "\n",
       "  secondary_market  product_crowdfunding round_A round_B round_C  round_D  \\\n",
       "0              0.0                   0.0     0.0     0.0     0.0      0.0   \n",
       "1              0.0                   0.0     0.0     0.0     0.0      0.0   \n",
       "2              0.0                   0.0     0.0     0.0     0.0      0.0   \n",
       "3              0.0                   0.0     0.0     0.0     0.0      0.0   \n",
       "4              0.0                   0.0     0.0     0.0     0.0      0.0   \n",
       "\n",
       "  round_E round_F  round_G  round_H  \n",
       "0     0.0     0.0      0.0      0.0  \n",
       "1     0.0     0.0      0.0      0.0  \n",
       "2     0.0     0.0      0.0      0.0  \n",
       "3     0.0     0.0      0.0      0.0  \n",
       "4     0.0     0.0      0.0      0.0  \n",
       "\n",
       "[5 rows x 39 columns]"
      ]
     },
     "execution_count": 237,
     "metadata": {},
     "output_type": "execute_result"
    }
   ],
   "source": [
    "data = df2\n",
    "print(data.info())\n",
    "data.head()"
   ]
  },
  {
   "cell_type": "code",
   "execution_count": 10,
   "id": "e8d265df",
   "metadata": {
    "ExecuteTime": {
     "end_time": "2022-09-06T16:20:25.801816Z",
     "start_time": "2022-09-06T16:20:25.752877Z"
    }
   },
   "outputs": [
    {
     "data": {
      "text/plain": [
       "permalink                4856\n",
       "name                     4857\n",
       "homepage_url             8305\n",
       "category_list            8817\n",
       " market                  8824\n",
       " funding_total_usd       4856\n",
       "status                   6170\n",
       "country_code            10129\n",
       "state_code              24133\n",
       "region                  10129\n",
       "city                    10972\n",
       "funding_rounds           4856\n",
       "founded_at              15740\n",
       "founded_month           15812\n",
       "founded_quarter         15812\n",
       "founded_year            15812\n",
       "first_funding_at         4856\n",
       "last_funding_at          4856\n",
       "seed                     4856\n",
       "venture                  4856\n",
       "equity_crowdfunding      4856\n",
       "undisclosed              4856\n",
       "convertible_note         4856\n",
       "debt_financing           4856\n",
       "angel                    4856\n",
       "grant                    4856\n",
       "private_equity           4856\n",
       "post_ipo_equity          4856\n",
       "post_ipo_debt            4856\n",
       "secondary_market         4856\n",
       "product_crowdfunding     4856\n",
       "round_A                  4856\n",
       "round_B                  4856\n",
       "round_C                  4856\n",
       "round_D                  4856\n",
       "round_E                  4856\n",
       "round_F                  4856\n",
       "round_G                  4856\n",
       "round_H                  4856\n",
       "dtype: int64"
      ]
     },
     "execution_count": 10,
     "metadata": {},
     "output_type": "execute_result"
    }
   ],
   "source": [
    "data.isnull().sum()"
   ]
  },
  {
   "cell_type": "code",
   "execution_count": 11,
   "id": "69b3cf7c",
   "metadata": {
    "ExecuteTime": {
     "end_time": "2022-09-06T16:20:25.813151Z",
     "start_time": "2022-09-06T16:20:25.804810Z"
    }
   },
   "outputs": [
    {
     "data": {
      "text/plain": [
       "0    2012-06-01\n",
       "1           NaN\n",
       "2    2012-10-26\n",
       "3    2011-04-01\n",
       "4    2014-01-01\n",
       "Name: founded_at, dtype: object"
      ]
     },
     "execution_count": 11,
     "metadata": {},
     "output_type": "execute_result"
    }
   ],
   "source": [
    "data['founded_at'].head()"
   ]
  },
  {
   "cell_type": "code",
   "execution_count": 12,
   "id": "67c8f681",
   "metadata": {
    "ExecuteTime": {
     "end_time": "2022-09-06T16:20:25.831073Z",
     "start_time": "2022-09-06T16:20:25.816814Z"
    }
   },
   "outputs": [
    {
     "data": {
      "text/plain": [
       "SF Bay Area      6804\n",
       "New York City    2577\n",
       "Boston           1837\n",
       "London           1588\n",
       "Los Angeles      1389\n",
       "                 ... \n",
       "Wetzlar             1\n",
       "West End            1\n",
       "Enfield Lock        1\n",
       "GTM - Other         1\n",
       "Ilford              1\n",
       "Name: region, Length: 1089, dtype: int64"
      ]
     },
     "execution_count": 12,
     "metadata": {},
     "output_type": "execute_result"
    }
   ],
   "source": [
    "data['region'].value_counts()"
   ]
  },
  {
   "cell_type": "code",
   "execution_count": 171,
   "id": "6fd88844",
   "metadata": {
    "ExecuteTime": {
     "end_time": "2022-09-07T20:13:38.327632Z",
     "start_time": "2022-09-07T20:13:38.012951Z"
    }
   },
   "outputs": [
    {
     "data": {
      "text/plain": [
       "na                      5856\n",
       "San Francisco           2576\n",
       "New York                2291\n",
       "London                  1227\n",
       "Palo Alto                586\n",
       "                        ... \n",
       "Cantemir                   1\n",
       "Laupheim                   1\n",
       "Richmond Upon Thames       1\n",
       "Cave City                  1\n",
       "Barrowford                 1\n",
       "Name: city, Length: 4128, dtype: int64"
      ]
     },
     "execution_count": 171,
     "metadata": {},
     "output_type": "execute_result"
    }
   ],
   "source": [
    "data['city'].value_counts()"
   ]
  },
  {
   "cell_type": "code",
   "execution_count": 172,
   "id": "c7f31b6c",
   "metadata": {
    "ExecuteTime": {
     "end_time": "2022-09-07T20:14:08.642381Z",
     "start_time": "2022-09-07T20:14:08.583538Z"
    }
   },
   "outputs": [
    {
     "data": {
      "text/plain": [
       "na    18573\n",
       "CA     9732\n",
       "NY     2858\n",
       "MA     1937\n",
       "TX     1436\n",
       "      ...  \n",
       "MB       13\n",
       "AK       12\n",
       "NB        8\n",
       "SK        4\n",
       "PE        2\n",
       "Name: state_code, Length: 62, dtype: int64"
      ]
     },
     "execution_count": 172,
     "metadata": {},
     "output_type": "execute_result"
    }
   ],
   "source": [
    "data['state_code'].value_counts()"
   ]
  },
  {
   "cell_type": "code",
   "execution_count": 173,
   "id": "ff234b0f",
   "metadata": {
    "ExecuteTime": {
     "end_time": "2022-09-07T20:15:41.888596Z",
     "start_time": "2022-09-07T20:15:41.828177Z"
    }
   },
   "outputs": [
    {
     "data": {
      "text/plain": [
       "USA    28233\n",
       "na      5066\n",
       "GBR     2595\n",
       "CAN     1351\n",
       "CHN     1229\n",
       "       ...  \n",
       "LIE        1\n",
       "JAM        1\n",
       "UZB        1\n",
       "MAF        1\n",
       "MUS        1\n",
       "Name: country_code, Length: 116, dtype: int64"
      ]
     },
     "execution_count": 173,
     "metadata": {},
     "output_type": "execute_result"
    }
   ],
   "source": [
    "data['country_code'].value_counts()"
   ]
  },
  {
   "cell_type": "code",
   "execution_count": 13,
   "id": "959d11f8",
   "metadata": {
    "ExecuteTime": {
     "end_time": "2022-09-06T16:20:25.865501Z",
     "start_time": "2022-09-06T16:20:25.845499Z"
    }
   },
   "outputs": [
    {
     "data": {
      "text/plain": [
       "0.0            49419\n",
       "200000000.0        1\n",
       "7343789.0          1\n",
       "20000000.0         1\n",
       "12500000.0         1\n",
       "126700000.0        1\n",
       "680611554.0        1\n",
       "400000000.0        1\n",
       "63750000.0         1\n",
       "19300000.0         1\n",
       "4700000.0          1\n",
       "78800355.0         1\n",
       "210000000.0        1\n",
       "2500000.0          1\n",
       "156929.0           1\n",
       "700000.0           1\n",
       "7718867.0          1\n",
       "6192396.0          1\n",
       "210000.0           1\n",
       "60000000.0         1\n",
       "Name: secondary_market, dtype: int64"
      ]
     },
     "execution_count": 13,
     "metadata": {},
     "output_type": "execute_result"
    }
   ],
   "source": [
    "data['secondary_market'].value_counts()"
   ]
  },
  {
   "cell_type": "code",
   "execution_count": 14,
   "id": "dae7c22b",
   "metadata": {
    "ExecuteTime": {
     "end_time": "2022-09-06T16:20:25.882061Z",
     "start_time": "2022-09-06T16:20:25.868324Z"
    }
   },
   "outputs": [
    {
     "data": {
      "text/plain": [
       "operating    247\n",
       "acquired       7\n",
       "closed         2\n",
       "Name: status, dtype: int64"
      ]
     },
     "execution_count": 14,
     "metadata": {},
     "output_type": "execute_result"
    }
   ],
   "source": [
    "data['status'][data['post_ipo_equity'] > 0].value_counts()"
   ]
  },
  {
   "cell_type": "code",
   "execution_count": 15,
   "id": "5e806dca",
   "metadata": {
    "ExecuteTime": {
     "end_time": "2022-09-06T16:20:25.906257Z",
     "start_time": "2022-09-06T16:20:25.888194Z"
    }
   },
   "outputs": [
    {
     "data": {
      "text/plain": [
       "operating    59\n",
       "acquired      2\n",
       "Name: status, dtype: int64"
      ]
     },
     "execution_count": 15,
     "metadata": {},
     "output_type": "execute_result"
    }
   ],
   "source": [
    "data['status'][data['post_ipo_debt'] > 0].value_counts()"
   ]
  },
  {
   "cell_type": "code",
   "execution_count": 16,
   "id": "60f31bd5",
   "metadata": {
    "ExecuteTime": {
     "end_time": "2022-09-06T16:20:25.932438Z",
     "start_time": "2022-09-06T16:20:25.912876Z"
    }
   },
   "outputs": [
    {
     "data": {
      "text/plain": [
       "2012-Q1    2904\n",
       "2011-Q1    2768\n",
       "2010-Q1    2259\n",
       "2013-Q1    2206\n",
       "2009-Q1    1852\n",
       "           ... \n",
       "1988-Q2       1\n",
       "1973-Q4       1\n",
       "1919-Q2       1\n",
       "1992-Q4       1\n",
       "1939-Q1       1\n",
       "Name: founded_quarter, Length: 218, dtype: int64"
      ]
     },
     "execution_count": 16,
     "metadata": {},
     "output_type": "execute_result"
    }
   ],
   "source": [
    "data['founded_quarter'].value_counts()"
   ]
  },
  {
   "cell_type": "code",
   "execution_count": 17,
   "id": "afa737db",
   "metadata": {
    "ExecuteTime": {
     "end_time": "2022-09-06T16:20:26.355313Z",
     "start_time": "2022-09-06T16:20:25.940496Z"
    }
   },
   "outputs": [
    {
     "data": {
      "text/plain": [
       "array([[<AxesSubplot:title={'center':'equity_crowdfunding'}>]],\n",
       "      dtype=object)"
      ]
     },
     "execution_count": 17,
     "metadata": {},
     "output_type": "execute_result"
    },
    {
     "data": {
      "image/png": "[encoded data removed]",
      "text/plain": [
       "<Figure size 432x288 with 1 Axes>"
      ]
     },
     "metadata": {
      "needs_background": "light"
     },
     "output_type": "display_data"
    }
   ],
   "source": [
    "data.hist('equity_crowdfunding', bins=40)"
   ]
  },
  {
   "cell_type": "markdown",
   "id": "b846f2e1",
   "metadata": {},
   "source": [
    "### Preprocessing"
   ]
  },
  {
   "cell_type": "code",
   "execution_count": 238,
   "id": "34130d8f",
   "metadata": {
    "ExecuteTime": {
     "end_time": "2022-09-07T21:03:23.164197Z",
     "start_time": "2022-09-07T21:03:23.157427Z"
    }
   },
   "outputs": [
    {
     "data": {
      "text/plain": [
       "Index(['permalink', 'name', 'homepage_url', 'category_list', ' market ',\n",
       "       ' funding_total_usd ', 'status', 'country_code', 'state_code', 'region',\n",
       "       'city', 'funding_rounds', 'founded_at', 'founded_month',\n",
       "       'founded_quarter', 'founded_year', 'first_funding_at',\n",
       "       'last_funding_at', 'seed', 'venture', 'equity_crowdfunding',\n",
       "       'undisclosed', 'convertible_note', 'debt_financing', 'angel', 'grant',\n",
       "       'private_equity', 'post_ipo_equity', 'post_ipo_debt',\n",
       "       'secondary_market', 'product_crowdfunding', 'round_A', 'round_B',\n",
       "       'round_C', 'round_D', 'round_E', 'round_F', 'round_G', 'round_H'],\n",
       "      dtype='object')"
      ]
     },
     "execution_count": 238,
     "metadata": {},
     "output_type": "execute_result"
    }
   ],
   "source": [
    "data.columns"
   ]
  },
  {
   "cell_type": "code",
   "execution_count": 239,
   "id": "aa4f7105",
   "metadata": {
    "ExecuteTime": {
     "end_time": "2022-09-07T21:03:26.658112Z",
     "start_time": "2022-09-07T21:03:26.631362Z"
    }
   },
   "outputs": [],
   "source": [
    "# getting rid of extra spaces in market and funding_total_usd\n",
    "data = data.rename(columns={' market ': 'market', \n",
    "                            ' funding_total_usd ': 'funding_total_usd'})"
   ]
  },
  {
   "cell_type": "markdown",
   "id": "37cea7d1",
   "metadata": {},
   "source": [
    "Dropping unnecessary columns:"
   ]
  },
  {
   "cell_type": "code",
   "execution_count": 240,
   "id": "4195eae6",
   "metadata": {
    "ExecuteTime": {
     "end_time": "2022-09-07T21:03:27.921096Z",
     "start_time": "2022-09-07T21:03:27.876489Z"
    }
   },
   "outputs": [],
   "source": [
    "data = data.drop(columns=['permalink', 'homepage_url', 'category_list', \n",
    "                          'founded_at', 'founded_month', 'post_ipo_equity', \n",
    "                          'post_ipo_debt', 'secondary_market', \n",
    "                          'first_funding_at', 'last_funding_at'], \n",
    "                 axis=1)"
   ]
  },
  {
   "cell_type": "markdown",
   "id": "3d640e7c",
   "metadata": {},
   "source": [
    "Dealing with missing values:"
   ]
  },
  {
   "cell_type": "code",
   "execution_count": 241,
   "id": "5f18b250",
   "metadata": {
    "ExecuteTime": {
     "end_time": "2022-09-07T21:03:31.725788Z",
     "start_time": "2022-09-07T21:03:31.653573Z"
    }
   },
   "outputs": [
    {
     "data": {
      "text/plain": [
       "name                        0\n",
       "market                   3589\n",
       "funding_total_usd           0\n",
       "status                      0\n",
       "country_code             5066\n",
       "state_code              18573\n",
       "region                   5066\n",
       "city                     5856\n",
       "funding_rounds              0\n",
       "founded_quarter         10560\n",
       "founded_year            10560\n",
       "seed                        0\n",
       "venture                     0\n",
       "equity_crowdfunding         0\n",
       "undisclosed                 0\n",
       "convertible_note            0\n",
       "debt_financing              0\n",
       "angel                       0\n",
       "grant                       0\n",
       "private_equity              0\n",
       "product_crowdfunding        0\n",
       "round_A                     0\n",
       "round_B                     0\n",
       "round_C                     0\n",
       "round_D                     0\n",
       "round_E                     0\n",
       "round_F                     0\n",
       "round_G                     0\n",
       "round_H                     0\n",
       "dtype: int64"
      ]
     },
     "execution_count": 241,
     "metadata": {},
     "output_type": "execute_result"
    }
   ],
   "source": [
    "data = data.dropna(subset=['status', 'name'])\n",
    "data.isnull().sum()"
   ]
  },
  {
   "cell_type": "code",
   "execution_count": 242,
   "id": "37c336ae",
   "metadata": {
    "ExecuteTime": {
     "end_time": "2022-09-07T21:03:37.587564Z",
     "start_time": "2022-09-07T21:03:37.581411Z"
    }
   },
   "outputs": [
    {
     "data": {
      "text/plain": [
       "48123"
      ]
     },
     "execution_count": 242,
     "metadata": {},
     "output_type": "execute_result"
    }
   ],
   "source": [
    "len(data)"
   ]
  },
  {
   "cell_type": "code",
   "execution_count": 243,
   "id": "bb788f7b",
   "metadata": {
    "ExecuteTime": {
     "end_time": "2022-09-07T21:03:38.763077Z",
     "start_time": "2022-09-07T21:03:38.712715Z"
    }
   },
   "outputs": [],
   "source": [
    "data = data.fillna(value={'market': 'na', 'country_code': 'na', \n",
    "                          'region': 'na', 'city': 'na', 'founded_quarter': 'na', \n",
    "                          'founded_year': 0, 'state_code': 'na'})"
   ]
  },
  {
   "cell_type": "code",
   "execution_count": 244,
   "id": "9c616e1c",
   "metadata": {
    "ExecuteTime": {
     "end_time": "2022-09-07T21:03:41.627938Z",
     "start_time": "2022-09-07T21:03:41.601236Z"
    }
   },
   "outputs": [
    {
     "data": {
      "text/plain": [
       "name                    0\n",
       "market                  0\n",
       "funding_total_usd       0\n",
       "status                  0\n",
       "country_code            0\n",
       "state_code              0\n",
       "region                  0\n",
       "city                    0\n",
       "funding_rounds          0\n",
       "founded_quarter         0\n",
       "founded_year            0\n",
       "seed                    0\n",
       "venture                 0\n",
       "equity_crowdfunding     0\n",
       "undisclosed             0\n",
       "convertible_note        0\n",
       "debt_financing          0\n",
       "angel                   0\n",
       "grant                   0\n",
       "private_equity          0\n",
       "product_crowdfunding    0\n",
       "round_A                 0\n",
       "round_B                 0\n",
       "round_C                 0\n",
       "round_D                 0\n",
       "round_E                 0\n",
       "round_F                 0\n",
       "round_G                 0\n",
       "round_H                 0\n",
       "dtype: int64"
      ]
     },
     "execution_count": 244,
     "metadata": {},
     "output_type": "execute_result"
    }
   ],
   "source": [
    "data.isna().sum()"
   ]
  },
  {
   "cell_type": "code",
   "execution_count": 245,
   "id": "5c1e38b6",
   "metadata": {
    "ExecuteTime": {
     "end_time": "2022-09-07T21:03:46.872619Z",
     "start_time": "2022-09-07T21:03:46.841696Z"
    }
   },
   "outputs": [
    {
     "data": {
      "text/html": [
       "<div>\n",
       "<style scoped>\n",
       "    .dataframe tbody tr th:only-of-type {\n",
       "        vertical-align: middle;\n",
       "    }\n",
       "\n",
       "    .dataframe tbody tr th {\n",
       "        vertical-align: top;\n",
       "    }\n",
       "\n",
       "    .dataframe thead th {\n",
       "        text-align: right;\n",
       "    }\n",
       "</style>\n",
       "<table border=\"1\" class=\"dataframe\">\n",
       "  <thead>\n",
       "    <tr style=\"text-align: right;\">\n",
       "      <th></th>\n",
       "      <th>name</th>\n",
       "      <th>market</th>\n",
       "      <th>funding_total_usd</th>\n",
       "      <th>status</th>\n",
       "      <th>country_code</th>\n",
       "      <th>state_code</th>\n",
       "      <th>region</th>\n",
       "      <th>city</th>\n",
       "      <th>funding_rounds</th>\n",
       "      <th>founded_quarter</th>\n",
       "      <th>...</th>\n",
       "      <th>private_equity</th>\n",
       "      <th>product_crowdfunding</th>\n",
       "      <th>round_A</th>\n",
       "      <th>round_B</th>\n",
       "      <th>round_C</th>\n",
       "      <th>round_D</th>\n",
       "      <th>round_E</th>\n",
       "      <th>round_F</th>\n",
       "      <th>round_G</th>\n",
       "      <th>round_H</th>\n",
       "    </tr>\n",
       "  </thead>\n",
       "  <tbody>\n",
       "  </tbody>\n",
       "</table>\n",
       "<p>0 rows × 29 columns</p>\n",
       "</div>"
      ],
      "text/plain": [
       "Empty DataFrame\n",
       "Columns: [name, market, funding_total_usd, status, country_code, state_code, region, city, funding_rounds, founded_quarter, founded_year, seed, venture, equity_crowdfunding, undisclosed, convertible_note, debt_financing, angel, grant, private_equity, product_crowdfunding, round_A, round_B, round_C, round_D, round_E, round_F, round_G, round_H]\n",
       "Index: []\n",
       "\n",
       "[0 rows x 29 columns]"
      ]
     },
     "execution_count": 245,
     "metadata": {},
     "output_type": "execute_result"
    }
   ],
   "source": [
    "# these seem to be international cities, which makes sense\n",
    "data[data['state_code'].isna()]"
   ]
  },
  {
   "cell_type": "markdown",
   "id": "796d6e6f",
   "metadata": {},
   "source": [
    "Basic data cleaning:"
   ]
  },
  {
   "cell_type": "code",
   "execution_count": 246,
   "id": "8796a7d5",
   "metadata": {
    "ExecuteTime": {
     "end_time": "2022-09-07T21:03:50.009589Z",
     "start_time": "2022-09-07T21:03:50.002193Z"
    }
   },
   "outputs": [
    {
     "data": {
      "text/plain": [
       "name                     object\n",
       "market                   object\n",
       "funding_total_usd        object\n",
       "status                   object\n",
       "country_code             object\n",
       "state_code               object\n",
       "region                   object\n",
       "city                     object\n",
       "funding_rounds          float64\n",
       "founded_quarter          object\n",
       "founded_year            float64\n",
       "seed                    float64\n",
       "venture                 float64\n",
       "equity_crowdfunding     float64\n",
       "undisclosed             float64\n",
       "convertible_note        float64\n",
       "debt_financing          float64\n",
       "angel                   float64\n",
       "grant                   float64\n",
       "private_equity          float64\n",
       "product_crowdfunding    float64\n",
       "round_A                 float64\n",
       "round_B                 float64\n",
       "round_C                 float64\n",
       "round_D                 float64\n",
       "round_E                 float64\n",
       "round_F                 float64\n",
       "round_G                 float64\n",
       "round_H                 float64\n",
       "dtype: object"
      ]
     },
     "execution_count": 246,
     "metadata": {},
     "output_type": "execute_result"
    }
   ],
   "source": [
    "data.dtypes"
   ]
  },
  {
   "cell_type": "code",
   "execution_count": 247,
   "id": "1cde6e00",
   "metadata": {
    "ExecuteTime": {
     "end_time": "2022-09-07T21:04:05.889040Z",
     "start_time": "2022-09-07T21:04:05.864272Z"
    }
   },
   "outputs": [
    {
     "data": {
      "text/plain": [
       " -               8322\n",
       " 10,00,000        886\n",
       " 5,00,000         742\n",
       " 1,00,000         729\n",
       " 40,000           676\n",
       "                 ... \n",
       " 9,40,00,100        1\n",
       " 57,312             1\n",
       " 1,95,607           1\n",
       " 8,12,35,886        1\n",
       " 28,17,781          1\n",
       "Name: funding_total_usd, Length: 14293, dtype: int64"
      ]
     },
     "execution_count": 247,
     "metadata": {},
     "output_type": "execute_result"
    }
   ],
   "source": [
    "# need to convert this data type to integer\n",
    "data['funding_total_usd'].value_counts()"
   ]
  },
  {
   "cell_type": "code",
   "execution_count": 28,
   "id": "f9300507",
   "metadata": {
    "ExecuteTime": {
     "end_time": "2022-09-06T16:20:26.947056Z",
     "start_time": "2022-09-06T16:20:26.934123Z"
    }
   },
   "outputs": [
    {
     "data": {
      "text/plain": [
       "' -   '"
      ]
     },
     "execution_count": 28,
     "metadata": {},
     "output_type": "execute_result"
    }
   ],
   "source": [
    "data['funding_total_usd'][8]"
   ]
  },
  {
   "cell_type": "code",
   "execution_count": 248,
   "id": "a455d2ae",
   "metadata": {
    "ExecuteTime": {
     "end_time": "2022-09-07T21:04:07.419564Z",
     "start_time": "2022-09-07T21:04:07.334519Z"
    }
   },
   "outputs": [
    {
     "data": {
      "text/plain": [
       "0.000000e+00    8322\n",
       "1.000000e+09     886\n",
       "5.000000e+08     742\n",
       "1.000000e+08     729\n",
       "4.000000e+06     676\n",
       "                ... \n",
       "1.700910e+09       1\n",
       "1.700905e+09       1\n",
       "1.700900e+09       1\n",
       "1.063052e+08       1\n",
       "7.050056e+08       1\n",
       "Name: funding_total_usd, Length: 14293, dtype: int64"
      ]
     },
     "execution_count": 248,
     "metadata": {},
     "output_type": "execute_result"
    }
   ],
   "source": [
    "data['funding_total_usd'] = [float(num.replace(\" \", \"0\").replace(\",\", \"0\").\\\n",
    "                                 replace(\"-\", \"0\")) \n",
    "                             for num in data['funding_total_usd']]\n",
    "data['funding_total_usd'].value_counts()"
   ]
  },
  {
   "cell_type": "code",
   "execution_count": 249,
   "id": "061963b4",
   "metadata": {
    "ExecuteTime": {
     "end_time": "2022-09-07T21:04:28.915079Z",
     "start_time": "2022-09-07T21:04:27.247758Z"
    }
   },
   "outputs": [
    {
     "data": {
      "text/plain": [
       "array([[<AxesSubplot:title={'center':'funding_total_usd'}>]], dtype=object)"
      ]
     },
     "execution_count": 249,
     "metadata": {},
     "output_type": "execute_result"
    },
    {
     "data": {
      "image/png": "[encoded data removed]",
      "text/plain": [
       "<Figure size 432x288 with 1 Axes>"
      ]
     },
     "metadata": {
      "needs_background": "light"
     },
     "output_type": "display_data"
    }
   ],
   "source": [
    "data.hist('funding_total_usd', bins=40)"
   ]
  },
  {
   "cell_type": "code",
   "execution_count": 250,
   "id": "4988e541",
   "metadata": {
    "ExecuteTime": {
     "end_time": "2022-09-07T21:04:32.776544Z",
     "start_time": "2022-09-07T21:04:32.767405Z"
    }
   },
   "outputs": [
    {
     "data": {
      "text/plain": [
       "0    2012-Q2\n",
       "1         na\n",
       "2    2012-Q4\n",
       "3    2011-Q2\n",
       "4    2014-Q1\n",
       "Name: founded_quarter, dtype: object"
      ]
     },
     "execution_count": 250,
     "metadata": {},
     "output_type": "execute_result"
    }
   ],
   "source": [
    "data['founded_quarter'].head()"
   ]
  },
  {
   "cell_type": "code",
   "execution_count": 251,
   "id": "8c1a2c96",
   "metadata": {
    "ExecuteTime": {
     "end_time": "2022-09-07T21:04:33.927284Z",
     "start_time": "2022-09-07T21:04:33.832737Z"
    }
   },
   "outputs": [
    {
     "data": {
      "text/plain": [
       "0    Q2\n",
       "1    na\n",
       "2    Q4\n",
       "3    Q2\n",
       "4    Q1\n",
       "Name: founded_quarter, dtype: object"
      ]
     },
     "execution_count": 251,
     "metadata": {},
     "output_type": "execute_result"
    }
   ],
   "source": [
    "data['founded_quarter'] = [qtr[-2:] for qtr in data['founded_quarter']]\n",
    "data['founded_quarter'].head()"
   ]
  },
  {
   "cell_type": "code",
   "execution_count": 252,
   "id": "35231dfa",
   "metadata": {
    "ExecuteTime": {
     "end_time": "2022-09-07T21:04:39.638070Z",
     "start_time": "2022-09-07T21:04:39.606539Z"
    }
   },
   "outputs": [],
   "source": [
    "data['international'] = [0 if country=='USA' else 1 for country in data['country_code']]"
   ]
  },
  {
   "cell_type": "markdown",
   "id": "fa39688e",
   "metadata": {},
   "source": [
    "### Train Test Split"
   ]
  },
  {
   "cell_type": "markdown",
   "id": "1eaf1f61",
   "metadata": {},
   "source": [
    "Splitting out X and Y for train-test split:"
   ]
  },
  {
   "cell_type": "code",
   "execution_count": 253,
   "id": "50a676ce",
   "metadata": {
    "ExecuteTime": {
     "end_time": "2022-09-07T21:04:42.643804Z",
     "start_time": "2022-09-07T21:04:42.601959Z"
    }
   },
   "outputs": [],
   "source": [
    "X = data.drop(columns=['status', 'name', 'country_code', 'state_code', \n",
    "                       'city'], axis=1)\n",
    "\n",
    "encoder = LabelEncoder()\n",
    "y = pd.Series(encoder.fit_transform(data['status'])) \n",
    "# acquired is 0, closed is 1, operating is 2"
   ]
  },
  {
   "cell_type": "code",
   "execution_count": 254,
   "id": "d36bff2d",
   "metadata": {
    "ExecuteTime": {
     "end_time": "2022-09-07T21:04:44.656618Z",
     "start_time": "2022-09-07T21:04:44.643138Z"
    }
   },
   "outputs": [
    {
     "data": {
      "text/plain": [
       "SF Bay Area       6687\n",
       "na                5066\n",
       "New York City     2528\n",
       "Boston            1807\n",
       "London            1554\n",
       "                  ... \n",
       "Hanover              7\n",
       "Grand Junction       7\n",
       "Kent                 7\n",
       "Bordeaux             7\n",
       "Aachen               7\n",
       "Name: region, Length: 400, dtype: int64"
      ]
     },
     "execution_count": 254,
     "metadata": {},
     "output_type": "execute_result"
    }
   ],
   "source": [
    "X['region'].value_counts().head(400)"
   ]
  },
  {
   "cell_type": "code",
   "execution_count": 36,
   "id": "58da610d",
   "metadata": {
    "ExecuteTime": {
     "end_time": "2022-09-06T16:20:43.794126Z",
     "start_time": "2022-09-06T16:20:43.404900Z"
    }
   },
   "outputs": [
    {
     "ename": "TypeError",
     "evalue": "no numeric data to plot",
     "output_type": "error",
     "traceback": [
      "\u001b[0;31m---------------------------------------------------------------------------\u001b[0m",
      "\u001b[0;31mTypeError\u001b[0m                                 Traceback (most recent call last)",
      "\u001b[0;32m<ipython-input-36-1efe0f07f406>\u001b[0m in \u001b[0;36m<module>\u001b[0;34m\u001b[0m\n\u001b[1;32m      5\u001b[0m \u001b[0;31m#X['region'].plot(kind = \"hist\", density = True, bins = 15) # change density to true, because KDE uses density\u001b[0m\u001b[0;34m\u001b[0m\u001b[0;34m\u001b[0m\u001b[0;34m\u001b[0m\u001b[0m\n\u001b[1;32m      6\u001b[0m     \u001b[0;31m# Plot KDE\u001b[0m\u001b[0;34m\u001b[0m\u001b[0;34m\u001b[0m\u001b[0;34m\u001b[0m\u001b[0m\n\u001b[0;32m----> 7\u001b[0;31m \u001b[0mX\u001b[0m\u001b[0;34m[\u001b[0m\u001b[0;34m'region'\u001b[0m\u001b[0;34m]\u001b[0m\u001b[0;34m.\u001b[0m\u001b[0mplot\u001b[0m\u001b[0;34m(\u001b[0m\u001b[0mkind\u001b[0m \u001b[0;34m=\u001b[0m \u001b[0;34m\"kde\"\u001b[0m\u001b[0;34m)\u001b[0m\u001b[0;34m\u001b[0m\u001b[0;34m\u001b[0m\u001b[0m\n\u001b[0m",
      "\u001b[0;32m~/opt/anaconda3/envs/learn-env/lib/python3.8/site-packages/pandas/plotting/_core.py\u001b[0m in \u001b[0;36m__call__\u001b[0;34m(self, *args, **kwargs)\u001b[0m\n\u001b[1;32m    947\u001b[0m                     \u001b[0mdata\u001b[0m\u001b[0;34m.\u001b[0m\u001b[0mcolumns\u001b[0m \u001b[0;34m=\u001b[0m \u001b[0mlabel_name\u001b[0m\u001b[0;34m\u001b[0m\u001b[0;34m\u001b[0m\u001b[0m\n\u001b[1;32m    948\u001b[0m \u001b[0;34m\u001b[0m\u001b[0m\n\u001b[0;32m--> 949\u001b[0;31m         \u001b[0;32mreturn\u001b[0m \u001b[0mplot_backend\u001b[0m\u001b[0;34m.\u001b[0m\u001b[0mplot\u001b[0m\u001b[0;34m(\u001b[0m\u001b[0mdata\u001b[0m\u001b[0;34m,\u001b[0m \u001b[0mkind\u001b[0m\u001b[0;34m=\u001b[0m\u001b[0mkind\u001b[0m\u001b[0;34m,\u001b[0m \u001b[0;34m**\u001b[0m\u001b[0mkwargs\u001b[0m\u001b[0;34m)\u001b[0m\u001b[0;34m\u001b[0m\u001b[0;34m\u001b[0m\u001b[0m\n\u001b[0m\u001b[1;32m    950\u001b[0m \u001b[0;34m\u001b[0m\u001b[0m\n\u001b[1;32m    951\u001b[0m     \u001b[0m__call__\u001b[0m\u001b[0;34m.\u001b[0m\u001b[0m__doc__\u001b[0m \u001b[0;34m=\u001b[0m \u001b[0m__doc__\u001b[0m\u001b[0;34m\u001b[0m\u001b[0;34m\u001b[0m\u001b[0m\n",
      "\u001b[0;32m~/opt/anaconda3/envs/learn-env/lib/python3.8/site-packages/pandas/plotting/_matplotlib/__init__.py\u001b[0m in \u001b[0;36mplot\u001b[0;34m(data, kind, **kwargs)\u001b[0m\n\u001b[1;32m     59\u001b[0m             \u001b[0mkwargs\u001b[0m\u001b[0;34m[\u001b[0m\u001b[0;34m\"ax\"\u001b[0m\u001b[0;34m]\u001b[0m \u001b[0;34m=\u001b[0m \u001b[0mgetattr\u001b[0m\u001b[0;34m(\u001b[0m\u001b[0max\u001b[0m\u001b[0;34m,\u001b[0m \u001b[0;34m\"left_ax\"\u001b[0m\u001b[0;34m,\u001b[0m \u001b[0max\u001b[0m\u001b[0;34m)\u001b[0m\u001b[0;34m\u001b[0m\u001b[0;34m\u001b[0m\u001b[0m\n\u001b[1;32m     60\u001b[0m     \u001b[0mplot_obj\u001b[0m \u001b[0;34m=\u001b[0m \u001b[0mPLOT_CLASSES\u001b[0m\u001b[0;34m[\u001b[0m\u001b[0mkind\u001b[0m\u001b[0;34m]\u001b[0m\u001b[0;34m(\u001b[0m\u001b[0mdata\u001b[0m\u001b[0;34m,\u001b[0m \u001b[0;34m**\u001b[0m\u001b[0mkwargs\u001b[0m\u001b[0;34m)\u001b[0m\u001b[0;34m\u001b[0m\u001b[0;34m\u001b[0m\u001b[0m\n\u001b[0;32m---> 61\u001b[0;31m     \u001b[0mplot_obj\u001b[0m\u001b[0;34m.\u001b[0m\u001b[0mgenerate\u001b[0m\u001b[0;34m(\u001b[0m\u001b[0;34m)\u001b[0m\u001b[0;34m\u001b[0m\u001b[0;34m\u001b[0m\u001b[0m\n\u001b[0m\u001b[1;32m     62\u001b[0m     \u001b[0mplot_obj\u001b[0m\u001b[0;34m.\u001b[0m\u001b[0mdraw\u001b[0m\u001b[0;34m(\u001b[0m\u001b[0;34m)\u001b[0m\u001b[0;34m\u001b[0m\u001b[0;34m\u001b[0m\u001b[0m\n\u001b[1;32m     63\u001b[0m     \u001b[0;32mreturn\u001b[0m \u001b[0mplot_obj\u001b[0m\u001b[0;34m.\u001b[0m\u001b[0mresult\u001b[0m\u001b[0;34m\u001b[0m\u001b[0;34m\u001b[0m\u001b[0m\n",
      "\u001b[0;32m~/opt/anaconda3/envs/learn-env/lib/python3.8/site-packages/pandas/plotting/_matplotlib/core.py\u001b[0m in \u001b[0;36mgenerate\u001b[0;34m(self)\u001b[0m\n\u001b[1;32m    267\u001b[0m     \u001b[0;32mdef\u001b[0m \u001b[0mgenerate\u001b[0m\u001b[0;34m(\u001b[0m\u001b[0mself\u001b[0m\u001b[0;34m)\u001b[0m\u001b[0;34m:\u001b[0m\u001b[0;34m\u001b[0m\u001b[0;34m\u001b[0m\u001b[0m\n\u001b[1;32m    268\u001b[0m         \u001b[0mself\u001b[0m\u001b[0;34m.\u001b[0m\u001b[0m_args_adjust\u001b[0m\u001b[0;34m(\u001b[0m\u001b[0;34m)\u001b[0m\u001b[0;34m\u001b[0m\u001b[0;34m\u001b[0m\u001b[0m\n\u001b[0;32m--> 269\u001b[0;31m         \u001b[0mself\u001b[0m\u001b[0;34m.\u001b[0m\u001b[0m_compute_plot_data\u001b[0m\u001b[0;34m(\u001b[0m\u001b[0;34m)\u001b[0m\u001b[0;34m\u001b[0m\u001b[0;34m\u001b[0m\u001b[0m\n\u001b[0m\u001b[1;32m    270\u001b[0m         \u001b[0mself\u001b[0m\u001b[0;34m.\u001b[0m\u001b[0m_setup_subplots\u001b[0m\u001b[0;34m(\u001b[0m\u001b[0;34m)\u001b[0m\u001b[0;34m\u001b[0m\u001b[0;34m\u001b[0m\u001b[0m\n\u001b[1;32m    271\u001b[0m         \u001b[0mself\u001b[0m\u001b[0;34m.\u001b[0m\u001b[0m_make_plot\u001b[0m\u001b[0;34m(\u001b[0m\u001b[0;34m)\u001b[0m\u001b[0;34m\u001b[0m\u001b[0;34m\u001b[0m\u001b[0m\n",
      "\u001b[0;32m~/opt/anaconda3/envs/learn-env/lib/python3.8/site-packages/pandas/plotting/_matplotlib/core.py\u001b[0m in \u001b[0;36m_compute_plot_data\u001b[0;34m(self)\u001b[0m\n\u001b[1;32m    416\u001b[0m         \u001b[0;31m# no non-numeric frames or series allowed\u001b[0m\u001b[0;34m\u001b[0m\u001b[0;34m\u001b[0m\u001b[0;34m\u001b[0m\u001b[0m\n\u001b[1;32m    417\u001b[0m         \u001b[0;32mif\u001b[0m \u001b[0mis_empty\u001b[0m\u001b[0;34m:\u001b[0m\u001b[0;34m\u001b[0m\u001b[0;34m\u001b[0m\u001b[0m\n\u001b[0;32m--> 418\u001b[0;31m             \u001b[0;32mraise\u001b[0m \u001b[0mTypeError\u001b[0m\u001b[0;34m(\u001b[0m\u001b[0;34m\"no numeric data to plot\"\u001b[0m\u001b[0;34m)\u001b[0m\u001b[0;34m\u001b[0m\u001b[0;34m\u001b[0m\u001b[0m\n\u001b[0m\u001b[1;32m    419\u001b[0m \u001b[0;34m\u001b[0m\u001b[0m\n\u001b[1;32m    420\u001b[0m         \u001b[0;31m# GH25587: cast ExtensionArray of pandas (IntegerArray, etc.) to\u001b[0m\u001b[0;34m\u001b[0m\u001b[0;34m\u001b[0m\u001b[0;34m\u001b[0m\u001b[0m\n",
      "\u001b[0;31mTypeError\u001b[0m: no numeric data to plot"
     ]
    },
    {
     "data": {
      "image/png": "[encoded data removed]",
      "text/plain": [
       "<Figure size 432x288 with 1 Axes>"
      ]
     },
     "metadata": {
      "needs_background": "light"
     },
     "output_type": "display_data"
    }
   ],
   "source": [
    "fig, ax = plt.subplots(figsize = (6,4))\n",
    "\n",
    "# Plots #\n",
    "    # Plot histogram\n",
    "#X['region'].plot(kind = \"hist\", density = True, bins = 15) # change density to true, because KDE uses density\n",
    "    # Plot KDE\n",
    "#X['region'].plot(kind = \"kde\")"
   ]
  },
  {
   "cell_type": "code",
   "execution_count": 35,
   "id": "a87be6c9",
   "metadata": {
    "ExecuteTime": {
     "end_time": "2022-09-06T16:20:43.402158Z",
     "start_time": "2022-09-06T16:20:27.563242Z"
    },
    "scrolled": true
   },
   "outputs": [
    {
     "data": {
      "text/plain": [
       "(array([26051.,  5471.,  4788.,  2406.,  2106.,  1364.,   942.,   717.,\n",
       "          482.,   523.,   433.,   404.,   405.,   310.,   239.,   188.,\n",
       "          198.,   134.,   109.,   143.,   110.,    92.,    99.,    73.,\n",
       "           79.,    65.,    58.,    52.,    42.,    40.]),\n",
       " array([   0. ,   36.2,   72.4,  108.6,  144.8,  181. ,  217.2,  253.4,\n",
       "         289.6,  325.8,  362. ,  398.2,  434.4,  470.6,  506.8,  543. ,\n",
       "         579.2,  615.4,  651.6,  687.8,  724. ,  760.2,  796.4,  832.6,\n",
       "         868.8,  905. ,  941.2,  977.4, 1013.6, 1049.8, 1086. ]),\n",
       " <BarContainer object of 30 artists>)"
      ]
     },
     "execution_count": 35,
     "metadata": {},
     "output_type": "execute_result"
    },
    {
     "data": {
      "image/png": "[encoded data removed]",
      "text/plain": [
       "<Figure size 432x288 with 1 Axes>"
      ]
     },
     "metadata": {
      "needs_background": "light"
     },
     "output_type": "display_data"
    }
   ],
   "source": [
    "#sns.catplot(x=\"region\", kind=\"count\", palette=\"ch:.25\", data=X)\n",
    "plt.hist(X['region'], bins=30)"
   ]
  },
  {
   "cell_type": "code",
   "execution_count": 255,
   "id": "74e6498a",
   "metadata": {
    "ExecuteTime": {
     "end_time": "2022-09-07T21:04:51.591257Z",
     "start_time": "2022-09-07T21:04:51.582861Z"
    }
   },
   "outputs": [
    {
     "data": {
      "text/plain": [
       "market                   object\n",
       "funding_total_usd       float64\n",
       "region                   object\n",
       "funding_rounds          float64\n",
       "founded_quarter          object\n",
       "founded_year            float64\n",
       "seed                    float64\n",
       "venture                 float64\n",
       "equity_crowdfunding     float64\n",
       "undisclosed             float64\n",
       "convertible_note        float64\n",
       "debt_financing          float64\n",
       "angel                   float64\n",
       "grant                   float64\n",
       "private_equity          float64\n",
       "product_crowdfunding    float64\n",
       "round_A                 float64\n",
       "round_B                 float64\n",
       "round_C                 float64\n",
       "round_D                 float64\n",
       "round_E                 float64\n",
       "round_F                 float64\n",
       "round_G                 float64\n",
       "round_H                 float64\n",
       "international             int64\n",
       "dtype: object"
      ]
     },
     "execution_count": 255,
     "metadata": {},
     "output_type": "execute_result"
    }
   ],
   "source": [
    "X.dtypes"
   ]
  },
  {
   "cell_type": "code",
   "execution_count": 274,
   "id": "acd4219f",
   "metadata": {
    "ExecuteTime": {
     "end_time": "2022-09-07T21:11:53.982034Z",
     "start_time": "2022-09-07T21:11:53.931362Z"
    }
   },
   "outputs": [],
   "source": [
    "X_train, X_test, y_train, y_test = train_test_split(X, y, random_state=42)"
   ]
  },
  {
   "cell_type": "code",
   "execution_count": 260,
   "id": "92bd5daf",
   "metadata": {
    "ExecuteTime": {
     "end_time": "2022-09-07T21:06:21.235065Z",
     "start_time": "2022-09-07T21:06:21.227080Z"
    }
   },
   "outputs": [
    {
     "name": "stdout",
     "output_type": "stream",
     "text": [
      "X_train is a DataFrame with 36092 rows and 25 columns\n",
      "y_train is a Series with 36092 values\n"
     ]
    }
   ],
   "source": [
    "print(f\"X_train is a DataFrame with {X_train.shape[0]} rows and {X_train.shape[1]} columns\")\n",
    "print(f\"y_train is a Series with {y_train.shape[0]} values\")\n",
    "\n",
    "# Same number of rows in X as values in y\n",
    "assert X_train.shape[0] == y_train.shape[0]"
   ]
  },
  {
   "cell_type": "code",
   "execution_count": 181,
   "id": "d5032c21",
   "metadata": {
    "ExecuteTime": {
     "end_time": "2022-09-07T20:20:28.134158Z",
     "start_time": "2022-09-07T20:20:28.111676Z"
    }
   },
   "outputs": [
    {
     "name": "stdout",
     "output_type": "stream",
     "text": [
      "2    0.869971\n",
      "0    0.076721\n",
      "1    0.053308\n",
      "dtype: float64\n"
     ]
    }
   ],
   "source": [
    "print(y_train.value_counts(normalize=True))"
   ]
  },
  {
   "cell_type": "code",
   "execution_count": 234,
   "id": "3cdbd74c",
   "metadata": {
    "ExecuteTime": {
     "end_time": "2022-09-07T21:02:01.957633Z",
     "start_time": "2022-09-07T21:02:01.951241Z"
    }
   },
   "outputs": [
    {
     "data": {
      "text/plain": [
       "Index(['market', 'funding_total_usd', 'region', 'funding_rounds',\n",
       "       'founded_quarter', 'founded_year', 'seed', 'venture',\n",
       "       'equity_crowdfunding', 'undisclosed', 'convertible_note',\n",
       "       'debt_financing', 'angel', 'grant', 'private_equity',\n",
       "       'product_crowdfunding', 'round_A', 'round_B', 'round_C', 'round_D',\n",
       "       'round_E', 'round_F', 'round_G', 'round_H', 'international'],\n",
       "      dtype='object')"
      ]
     },
     "execution_count": 234,
     "metadata": {},
     "output_type": "execute_result"
    }
   ],
   "source": [
    "X_train.columns"
   ]
  },
  {
   "cell_type": "markdown",
   "id": "b2e7f138",
   "metadata": {},
   "source": [
    "### Preprocessing with Sklearn"
   ]
  },
  {
   "cell_type": "markdown",
   "id": "7a454ca9",
   "metadata": {},
   "source": [
    "Pipeline?"
   ]
  },
  {
   "cell_type": "code",
   "execution_count": null,
   "id": "1deb6e44",
   "metadata": {},
   "outputs": [],
   "source": [
    "pipe = Pipeline([\n",
    "    (\"scaler\", MinMaxScaler()),\n",
    "    (\"model\", LogisticRegression())\n",
    "])\n",
    "\n",
    "pipe.fit(X_train, y_train)"
   ]
  },
  {
   "cell_type": "markdown",
   "id": "f4037906",
   "metadata": {},
   "source": [
    "Handle missing values:"
   ]
  },
  {
   "cell_type": "code",
   "execution_count": null,
   "id": "6598c2ae",
   "metadata": {
    "ExecuteTime": {
     "end_time": "2022-09-06T16:20:43.809798Z",
     "start_time": "2022-09-06T16:20:19.478Z"
    }
   },
   "outputs": [],
   "source": [
    "# Replace FireplaceQu NaNs with \"N/A\"s\n",
    "#X_test[\"FireplaceQu\"] = X_test[\"FireplaceQu\"].fillna(\"N/A\")\n",
    "\n",
    "# Add missing indicator for lot frontage\n",
    "#frontage_test = X_test[[\"LotFrontage\"]]\n",
    "#frontage_missing_test = missing_indicator.transform(frontage_test)\n",
    "#X_test[\"LotFrontage_Missing\"] = frontage_missing_test\n",
    "\n",
    "# Impute missing lot frontage values\n",
    "#frontage_imputed_test = imputer.transform(frontage_test)\n",
    "#X_test[\"LotFrontage\"] = frontage_imputed_test\n",
    "\n",
    "# Check that there are no more missing values\n",
    "#X_test.isna().sum()"
   ]
  },
  {
   "cell_type": "markdown",
   "id": "4c12b06b",
   "metadata": {},
   "source": [
    "All in one step --- skipping this for now"
   ]
  },
  {
   "cell_type": "code",
   "execution_count": null,
   "id": "3fa348d0",
   "metadata": {},
   "outputs": [],
   "source": [
    "# Scale continuous values using MinMaxScaler\n",
    "scaler = MinMaxScaler()\n",
    "X_train_cont = scaler.fit_transform(X_train_cont)\n",
    "X_test_cont = scaler.transform(X_test_cont)\n",
    "\n",
    "# Dummy encode categorical values using OneHotEncoder\n",
    "ohe = OneHotEncoder(handle_unknown='ignore')\n",
    "X_train_cat = ohe.fit_transform(X_train_cat)\n",
    "X_test_cat = ohe.transform(X_test_cat)\n",
    "\n",
    "# Combine everything back together\n",
    "X_train_preprocessed = np.concatenate([X_train_cont, X_train_cat.todense()], axis=1)\n",
    "X_test_preprocessed = np.concatenate([X_test_cont, X_test_cat.todense()], axis=1)"
   ]
  },
  {
   "cell_type": "markdown",
   "id": "6e6b54b0",
   "metadata": {},
   "source": [
    "Setting aside international feature as it is already processed:"
   ]
  },
  {
   "cell_type": "code",
   "execution_count": null,
   "id": "77408034",
   "metadata": {},
   "outputs": [],
   "source": [
    "train_int = X_train['international'].copy().reset_index(drop=True)\n",
    "test_int = X_test['international'].copy().reset_index(drop=True)"
   ]
  },
  {
   "cell_type": "markdown",
   "id": "208270a4",
   "metadata": {},
   "source": [
    "Scale continuous variables using Min Max Scaler:"
   ]
  },
  {
   "cell_type": "code",
   "execution_count": 235,
   "id": "30e007ac",
   "metadata": {
    "ExecuteTime": {
     "end_time": "2022-09-07T21:02:17.628020Z",
     "start_time": "2022-09-07T21:02:17.606074Z"
    }
   },
   "outputs": [
    {
     "data": {
      "text/plain": [
       "market                   object\n",
       "funding_total_usd         int64\n",
       "region                   object\n",
       "funding_rounds          float64\n",
       "founded_quarter          object\n",
       "founded_year            float64\n",
       "seed                    float64\n",
       "venture                 float64\n",
       "equity_crowdfunding     float64\n",
       "undisclosed             float64\n",
       "convertible_note        float64\n",
       "debt_financing          float64\n",
       "angel                   float64\n",
       "grant                   float64\n",
       "private_equity          float64\n",
       "product_crowdfunding    float64\n",
       "round_A                 float64\n",
       "round_B                 float64\n",
       "round_C                 float64\n",
       "round_D                 float64\n",
       "round_E                 float64\n",
       "round_F                 float64\n",
       "round_G                 float64\n",
       "round_H                 float64\n",
       "international             int64\n",
       "dtype: object"
      ]
     },
     "execution_count": 235,
     "metadata": {},
     "output_type": "execute_result"
    }
   ],
   "source": [
    "X_train.dtypes"
   ]
  },
  {
   "cell_type": "code",
   "execution_count": 275,
   "id": "921777c9",
   "metadata": {
    "ExecuteTime": {
     "end_time": "2022-09-07T21:12:09.236797Z",
     "start_time": "2022-09-07T21:12:09.181214Z"
    }
   },
   "outputs": [],
   "source": [
    "X_train_cont = X_train.select_dtypes(exclude=['object','int64']).reset_index(drop=True)\n",
    "X_test_cont = X_test.select_dtypes(exclude=['object','int64']).reset_index(drop=True)\n",
    "\n",
    "# Instantiate MinMaxScaler\n",
    "scaler = MinMaxScaler()\n",
    "\n",
    "# Fit and transform X_train\n",
    "X_train_cont_scaled = scaler.fit_transform(X_train_cont)\n",
    "X_train_cont_scaled = pd.DataFrame(X_train_cont_scaled, columns=X_train_cont.columns)\n",
    "\n",
    "# Transform X_test\n",
    "X_test_cont_scaled = scaler.transform(X_test_cont)\n",
    "X_test_cont_scaled = pd.DataFrame(X_test_cont_scaled, columns=X_test_cont.columns)"
   ]
  },
  {
   "cell_type": "code",
   "execution_count": 279,
   "id": "c9afeaef",
   "metadata": {
    "ExecuteTime": {
     "end_time": "2022-09-07T21:12:39.108252Z",
     "start_time": "2022-09-07T21:12:39.036031Z"
    }
   },
   "outputs": [
    {
     "data": {
      "text/html": [
       "<div>\n",
       "<style scoped>\n",
       "    .dataframe tbody tr th:only-of-type {\n",
       "        vertical-align: middle;\n",
       "    }\n",
       "\n",
       "    .dataframe tbody tr th {\n",
       "        vertical-align: top;\n",
       "    }\n",
       "\n",
       "    .dataframe thead th {\n",
       "        text-align: right;\n",
       "    }\n",
       "</style>\n",
       "<table border=\"1\" class=\"dataframe\">\n",
       "  <thead>\n",
       "    <tr style=\"text-align: right;\">\n",
       "      <th></th>\n",
       "      <th>market</th>\n",
       "      <th>funding_total_usd</th>\n",
       "      <th>region</th>\n",
       "      <th>funding_rounds</th>\n",
       "      <th>founded_quarter</th>\n",
       "      <th>founded_year</th>\n",
       "      <th>seed</th>\n",
       "      <th>venture</th>\n",
       "      <th>equity_crowdfunding</th>\n",
       "      <th>undisclosed</th>\n",
       "      <th>...</th>\n",
       "      <th>product_crowdfunding</th>\n",
       "      <th>round_A</th>\n",
       "      <th>round_B</th>\n",
       "      <th>round_C</th>\n",
       "      <th>round_D</th>\n",
       "      <th>round_E</th>\n",
       "      <th>round_F</th>\n",
       "      <th>round_G</th>\n",
       "      <th>round_H</th>\n",
       "      <th>international</th>\n",
       "    </tr>\n",
       "  </thead>\n",
       "  <tbody>\n",
       "    <tr>\n",
       "      <th>0</th>\n",
       "      <td>Hardware + Software</td>\n",
       "      <td>1.407500e+09</td>\n",
       "      <td>Napa Valley</td>\n",
       "      <td>1.0</td>\n",
       "      <td>Q1</td>\n",
       "      <td>2007.0</td>\n",
       "      <td>0.0</td>\n",
       "      <td>1475000.0</td>\n",
       "      <td>0.0</td>\n",
       "      <td>0.0</td>\n",
       "      <td>...</td>\n",
       "      <td>0.0</td>\n",
       "      <td>0.0</td>\n",
       "      <td>0.0</td>\n",
       "      <td>0.0</td>\n",
       "      <td>0.0</td>\n",
       "      <td>0.0</td>\n",
       "      <td>0.0</td>\n",
       "      <td>0.0</td>\n",
       "      <td>0.0</td>\n",
       "      <td>0</td>\n",
       "    </tr>\n",
       "    <tr>\n",
       "      <th>1</th>\n",
       "      <td>Manufacturing</td>\n",
       "      <td>4.600000e+09</td>\n",
       "      <td>Los Angeles</td>\n",
       "      <td>1.0</td>\n",
       "      <td>Q1</td>\n",
       "      <td>2007.0</td>\n",
       "      <td>0.0</td>\n",
       "      <td>4600000.0</td>\n",
       "      <td>0.0</td>\n",
       "      <td>0.0</td>\n",
       "      <td>...</td>\n",
       "      <td>0.0</td>\n",
       "      <td>0.0</td>\n",
       "      <td>0.0</td>\n",
       "      <td>0.0</td>\n",
       "      <td>0.0</td>\n",
       "      <td>0.0</td>\n",
       "      <td>0.0</td>\n",
       "      <td>0.0</td>\n",
       "      <td>0.0</td>\n",
       "      <td>0</td>\n",
       "    </tr>\n",
       "    <tr>\n",
       "      <th>2</th>\n",
       "      <td>Personalization</td>\n",
       "      <td>3.800000e+09</td>\n",
       "      <td>SF Bay Area</td>\n",
       "      <td>2.0</td>\n",
       "      <td>Q4</td>\n",
       "      <td>2008.0</td>\n",
       "      <td>0.0</td>\n",
       "      <td>3800000.0</td>\n",
       "      <td>0.0</td>\n",
       "      <td>0.0</td>\n",
       "      <td>...</td>\n",
       "      <td>0.0</td>\n",
       "      <td>1500000.0</td>\n",
       "      <td>2300000.0</td>\n",
       "      <td>0.0</td>\n",
       "      <td>0.0</td>\n",
       "      <td>0.0</td>\n",
       "      <td>0.0</td>\n",
       "      <td>0.0</td>\n",
       "      <td>0.0</td>\n",
       "      <td>0</td>\n",
       "    </tr>\n",
       "    <tr>\n",
       "      <th>3</th>\n",
       "      <td>na</td>\n",
       "      <td>2.000000e+06</td>\n",
       "      <td>Honolulu</td>\n",
       "      <td>1.0</td>\n",
       "      <td>na</td>\n",
       "      <td>0.0</td>\n",
       "      <td>20000.0</td>\n",
       "      <td>0.0</td>\n",
       "      <td>0.0</td>\n",
       "      <td>0.0</td>\n",
       "      <td>...</td>\n",
       "      <td>0.0</td>\n",
       "      <td>0.0</td>\n",
       "      <td>0.0</td>\n",
       "      <td>0.0</td>\n",
       "      <td>0.0</td>\n",
       "      <td>0.0</td>\n",
       "      <td>0.0</td>\n",
       "      <td>0.0</td>\n",
       "      <td>0.0</td>\n",
       "      <td>0</td>\n",
       "    </tr>\n",
       "    <tr>\n",
       "      <th>4</th>\n",
       "      <td>Reviews and Recommendations</td>\n",
       "      <td>5.204300e+06</td>\n",
       "      <td>Madrid</td>\n",
       "      <td>1.0</td>\n",
       "      <td>Q1</td>\n",
       "      <td>2012.0</td>\n",
       "      <td>52430.0</td>\n",
       "      <td>0.0</td>\n",
       "      <td>0.0</td>\n",
       "      <td>0.0</td>\n",
       "      <td>...</td>\n",
       "      <td>0.0</td>\n",
       "      <td>0.0</td>\n",
       "      <td>0.0</td>\n",
       "      <td>0.0</td>\n",
       "      <td>0.0</td>\n",
       "      <td>0.0</td>\n",
       "      <td>0.0</td>\n",
       "      <td>0.0</td>\n",
       "      <td>0.0</td>\n",
       "      <td>1</td>\n",
       "    </tr>\n",
       "    <tr>\n",
       "      <th>...</th>\n",
       "      <td>...</td>\n",
       "      <td>...</td>\n",
       "      <td>...</td>\n",
       "      <td>...</td>\n",
       "      <td>...</td>\n",
       "      <td>...</td>\n",
       "      <td>...</td>\n",
       "      <td>...</td>\n",
       "      <td>...</td>\n",
       "      <td>...</td>\n",
       "      <td>...</td>\n",
       "      <td>...</td>\n",
       "      <td>...</td>\n",
       "      <td>...</td>\n",
       "      <td>...</td>\n",
       "      <td>...</td>\n",
       "      <td>...</td>\n",
       "      <td>...</td>\n",
       "      <td>...</td>\n",
       "      <td>...</td>\n",
       "      <td>...</td>\n",
       "    </tr>\n",
       "    <tr>\n",
       "      <th>36087</th>\n",
       "      <td>Messaging</td>\n",
       "      <td>1.030000e+11</td>\n",
       "      <td>Beijing</td>\n",
       "      <td>2.0</td>\n",
       "      <td>na</td>\n",
       "      <td>0.0</td>\n",
       "      <td>0.0</td>\n",
       "      <td>13000000.0</td>\n",
       "      <td>0.0</td>\n",
       "      <td>0.0</td>\n",
       "      <td>...</td>\n",
       "      <td>0.0</td>\n",
       "      <td>13000000.0</td>\n",
       "      <td>0.0</td>\n",
       "      <td>0.0</td>\n",
       "      <td>0.0</td>\n",
       "      <td>0.0</td>\n",
       "      <td>0.0</td>\n",
       "      <td>0.0</td>\n",
       "      <td>0.0</td>\n",
       "      <td>1</td>\n",
       "    </tr>\n",
       "    <tr>\n",
       "      <th>36088</th>\n",
       "      <td>Video Streaming</td>\n",
       "      <td>5.800000e+12</td>\n",
       "      <td>New York City</td>\n",
       "      <td>4.0</td>\n",
       "      <td>Q4</td>\n",
       "      <td>2006.0</td>\n",
       "      <td>0.0</td>\n",
       "      <td>10000000.0</td>\n",
       "      <td>0.0</td>\n",
       "      <td>0.0</td>\n",
       "      <td>...</td>\n",
       "      <td>0.0</td>\n",
       "      <td>0.0</td>\n",
       "      <td>0.0</td>\n",
       "      <td>0.0</td>\n",
       "      <td>0.0</td>\n",
       "      <td>0.0</td>\n",
       "      <td>0.0</td>\n",
       "      <td>0.0</td>\n",
       "      <td>0.0</td>\n",
       "      <td>0</td>\n",
       "    </tr>\n",
       "    <tr>\n",
       "      <th>36089</th>\n",
       "      <td>Finance</td>\n",
       "      <td>5.030084e+11</td>\n",
       "      <td>Beijing</td>\n",
       "      <td>3.0</td>\n",
       "      <td>na</td>\n",
       "      <td>0.0</td>\n",
       "      <td>0.0</td>\n",
       "      <td>53084832.0</td>\n",
       "      <td>0.0</td>\n",
       "      <td>0.0</td>\n",
       "      <td>...</td>\n",
       "      <td>0.0</td>\n",
       "      <td>3084832.0</td>\n",
       "      <td>10000000.0</td>\n",
       "      <td>40000000.0</td>\n",
       "      <td>0.0</td>\n",
       "      <td>0.0</td>\n",
       "      <td>0.0</td>\n",
       "      <td>0.0</td>\n",
       "      <td>0.0</td>\n",
       "      <td>1</td>\n",
       "    </tr>\n",
       "    <tr>\n",
       "      <th>36090</th>\n",
       "      <td>Social Media</td>\n",
       "      <td>0.000000e+00</td>\n",
       "      <td>Seattle</td>\n",
       "      <td>1.0</td>\n",
       "      <td>Q1</td>\n",
       "      <td>1983.0</td>\n",
       "      <td>0.0</td>\n",
       "      <td>0.0</td>\n",
       "      <td>0.0</td>\n",
       "      <td>0.0</td>\n",
       "      <td>...</td>\n",
       "      <td>0.0</td>\n",
       "      <td>0.0</td>\n",
       "      <td>0.0</td>\n",
       "      <td>0.0</td>\n",
       "      <td>0.0</td>\n",
       "      <td>0.0</td>\n",
       "      <td>0.0</td>\n",
       "      <td>0.0</td>\n",
       "      <td>0.0</td>\n",
       "      <td>0</td>\n",
       "    </tr>\n",
       "    <tr>\n",
       "      <th>36091</th>\n",
       "      <td>Cloud Computing</td>\n",
       "      <td>0.000000e+00</td>\n",
       "      <td>Paris</td>\n",
       "      <td>1.0</td>\n",
       "      <td>Q4</td>\n",
       "      <td>2009.0</td>\n",
       "      <td>0.0</td>\n",
       "      <td>0.0</td>\n",
       "      <td>0.0</td>\n",
       "      <td>0.0</td>\n",
       "      <td>...</td>\n",
       "      <td>0.0</td>\n",
       "      <td>0.0</td>\n",
       "      <td>0.0</td>\n",
       "      <td>0.0</td>\n",
       "      <td>0.0</td>\n",
       "      <td>0.0</td>\n",
       "      <td>0.0</td>\n",
       "      <td>0.0</td>\n",
       "      <td>0.0</td>\n",
       "      <td>1</td>\n",
       "    </tr>\n",
       "  </tbody>\n",
       "</table>\n",
       "<p>36092 rows × 25 columns</p>\n",
       "</div>"
      ],
      "text/plain": [
       "                              market  funding_total_usd         region  \\\n",
       "0               Hardware + Software        1.407500e+09    Napa Valley   \n",
       "1                     Manufacturing        4.600000e+09    Los Angeles   \n",
       "2                   Personalization        3.800000e+09    SF Bay Area   \n",
       "3                                 na       2.000000e+06       Honolulu   \n",
       "4       Reviews and Recommendations        5.204300e+06         Madrid   \n",
       "...                              ...                ...            ...   \n",
       "36087                     Messaging        1.030000e+11        Beijing   \n",
       "36088               Video Streaming        5.800000e+12  New York City   \n",
       "36089                       Finance        5.030084e+11        Beijing   \n",
       "36090                  Social Media        0.000000e+00        Seattle   \n",
       "36091               Cloud Computing        0.000000e+00          Paris   \n",
       "\n",
       "       funding_rounds founded_quarter  founded_year     seed     venture  \\\n",
       "0                 1.0              Q1        2007.0      0.0   1475000.0   \n",
       "1                 1.0              Q1        2007.0      0.0   4600000.0   \n",
       "2                 2.0              Q4        2008.0      0.0   3800000.0   \n",
       "3                 1.0              na           0.0  20000.0         0.0   \n",
       "4                 1.0              Q1        2012.0  52430.0         0.0   \n",
       "...               ...             ...           ...      ...         ...   \n",
       "36087             2.0              na           0.0      0.0  13000000.0   \n",
       "36088             4.0              Q4        2006.0      0.0  10000000.0   \n",
       "36089             3.0              na           0.0      0.0  53084832.0   \n",
       "36090             1.0              Q1        1983.0      0.0         0.0   \n",
       "36091             1.0              Q4        2009.0      0.0         0.0   \n",
       "\n",
       "       equity_crowdfunding  undisclosed  ...  product_crowdfunding  \\\n",
       "0                      0.0          0.0  ...                   0.0   \n",
       "1                      0.0          0.0  ...                   0.0   \n",
       "2                      0.0          0.0  ...                   0.0   \n",
       "3                      0.0          0.0  ...                   0.0   \n",
       "4                      0.0          0.0  ...                   0.0   \n",
       "...                    ...          ...  ...                   ...   \n",
       "36087                  0.0          0.0  ...                   0.0   \n",
       "36088                  0.0          0.0  ...                   0.0   \n",
       "36089                  0.0          0.0  ...                   0.0   \n",
       "36090                  0.0          0.0  ...                   0.0   \n",
       "36091                  0.0          0.0  ...                   0.0   \n",
       "\n",
       "          round_A     round_B     round_C  round_D  round_E  round_F  round_G  \\\n",
       "0             0.0         0.0         0.0      0.0      0.0      0.0      0.0   \n",
       "1             0.0         0.0         0.0      0.0      0.0      0.0      0.0   \n",
       "2       1500000.0   2300000.0         0.0      0.0      0.0      0.0      0.0   \n",
       "3             0.0         0.0         0.0      0.0      0.0      0.0      0.0   \n",
       "4             0.0         0.0         0.0      0.0      0.0      0.0      0.0   \n",
       "...           ...         ...         ...      ...      ...      ...      ...   \n",
       "36087  13000000.0         0.0         0.0      0.0      0.0      0.0      0.0   \n",
       "36088         0.0         0.0         0.0      0.0      0.0      0.0      0.0   \n",
       "36089   3084832.0  10000000.0  40000000.0      0.0      0.0      0.0      0.0   \n",
       "36090         0.0         0.0         0.0      0.0      0.0      0.0      0.0   \n",
       "36091         0.0         0.0         0.0      0.0      0.0      0.0      0.0   \n",
       "\n",
       "       round_H  international  \n",
       "0          0.0              0  \n",
       "1          0.0              0  \n",
       "2          0.0              0  \n",
       "3          0.0              0  \n",
       "4          0.0              1  \n",
       "...        ...            ...  \n",
       "36087      0.0              1  \n",
       "36088      0.0              0  \n",
       "36089      0.0              1  \n",
       "36090      0.0              0  \n",
       "36091      0.0              1  \n",
       "\n",
       "[36092 rows x 25 columns]"
      ]
     },
     "execution_count": 279,
     "metadata": {},
     "output_type": "execute_result"
    }
   ],
   "source": [
    "X_train.reset_index(drop=True)"
   ]
  },
  {
   "cell_type": "markdown",
   "id": "51fb11ad",
   "metadata": {},
   "source": [
    "One hot encode categorical variables:"
   ]
  },
  {
   "cell_type": "code",
   "execution_count": 280,
   "id": "b8a6e3ae",
   "metadata": {
    "ExecuteTime": {
     "end_time": "2022-09-07T21:13:05.444366Z",
     "start_time": "2022-09-07T21:13:05.425558Z"
    }
   },
   "outputs": [],
   "source": [
    "#cat_columns = ['market', 'country_code', 'state_code', 'region', \n",
    "#               'city', 'founded_quarter']\n",
    "\n",
    "cat_columns = ['market', 'region', 'founded_quarter']\n",
    "\n",
    "cat_train = X_train[cat_columns].reset_index(drop=True)\n",
    "cat_test = X_test[cat_columns].reset_index(drop=True)"
   ]
  },
  {
   "cell_type": "code",
   "execution_count": 281,
   "id": "1f609e1e",
   "metadata": {
    "ExecuteTime": {
     "end_time": "2022-09-07T21:13:07.042442Z",
     "start_time": "2022-09-07T21:13:06.672897Z"
    },
    "scrolled": true
   },
   "outputs": [],
   "source": [
    "ohe = OneHotEncoder(handle_unknown = 'ignore')\n",
    "\n",
    "encoded_train = ohe.fit_transform(cat_train).toarray()\n",
    "\n",
    "X_train_cat = pd.DataFrame(encoded_train, columns=ohe.get_feature_names(cat_train.columns))"
   ]
  },
  {
   "cell_type": "code",
   "execution_count": 290,
   "id": "54eb7d81",
   "metadata": {
    "ExecuteTime": {
     "end_time": "2022-09-07T21:20:09.082879Z",
     "start_time": "2022-09-07T21:20:06.675340Z"
    }
   },
   "outputs": [
    {
     "data": {
      "text/html": [
       "<div>\n",
       "<style scoped>\n",
       "    .dataframe tbody tr th:only-of-type {\n",
       "        vertical-align: middle;\n",
       "    }\n",
       "\n",
       "    .dataframe tbody tr th {\n",
       "        vertical-align: top;\n",
       "    }\n",
       "\n",
       "    .dataframe thead th {\n",
       "        text-align: right;\n",
       "    }\n",
       "</style>\n",
       "<table border=\"1\" class=\"dataframe\">\n",
       "  <thead>\n",
       "    <tr style=\"text-align: right;\">\n",
       "      <th></th>\n",
       "      <th>market_ 3D</th>\n",
       "      <th>market_ 3D Printing</th>\n",
       "      <th>market_ 3D Technology</th>\n",
       "      <th>market_ Accounting</th>\n",
       "      <th>market_ Ad Targeting</th>\n",
       "      <th>market_ Advanced Materials</th>\n",
       "      <th>market_ Adventure Travel</th>\n",
       "      <th>market_ Advertising</th>\n",
       "      <th>market_ Advertising Exchanges</th>\n",
       "      <th>market_ Advertising Networks</th>\n",
       "      <th>...</th>\n",
       "      <th>product_crowdfunding</th>\n",
       "      <th>round_A</th>\n",
       "      <th>round_B</th>\n",
       "      <th>round_C</th>\n",
       "      <th>round_D</th>\n",
       "      <th>round_E</th>\n",
       "      <th>round_F</th>\n",
       "      <th>round_G</th>\n",
       "      <th>round_H</th>\n",
       "      <th>international</th>\n",
       "    </tr>\n",
       "  </thead>\n",
       "  <tbody>\n",
       "    <tr>\n",
       "      <th>0</th>\n",
       "      <td>0.0</td>\n",
       "      <td>0.0</td>\n",
       "      <td>0.0</td>\n",
       "      <td>0.0</td>\n",
       "      <td>0.0</td>\n",
       "      <td>0.0</td>\n",
       "      <td>0.0</td>\n",
       "      <td>0.0</td>\n",
       "      <td>0.0</td>\n",
       "      <td>0.0</td>\n",
       "      <td>...</td>\n",
       "      <td>0.0</td>\n",
       "      <td>0.0</td>\n",
       "      <td>0.0</td>\n",
       "      <td>0.0</td>\n",
       "      <td>0.0</td>\n",
       "      <td>0.0</td>\n",
       "      <td>0.0</td>\n",
       "      <td>0.0</td>\n",
       "      <td>0.0</td>\n",
       "      <td>0</td>\n",
       "    </tr>\n",
       "    <tr>\n",
       "      <th>1</th>\n",
       "      <td>0.0</td>\n",
       "      <td>0.0</td>\n",
       "      <td>0.0</td>\n",
       "      <td>0.0</td>\n",
       "      <td>0.0</td>\n",
       "      <td>0.0</td>\n",
       "      <td>0.0</td>\n",
       "      <td>0.0</td>\n",
       "      <td>0.0</td>\n",
       "      <td>0.0</td>\n",
       "      <td>...</td>\n",
       "      <td>0.0</td>\n",
       "      <td>0.0</td>\n",
       "      <td>0.0</td>\n",
       "      <td>0.0</td>\n",
       "      <td>0.0</td>\n",
       "      <td>0.0</td>\n",
       "      <td>0.0</td>\n",
       "      <td>0.0</td>\n",
       "      <td>0.0</td>\n",
       "      <td>0</td>\n",
       "    </tr>\n",
       "    <tr>\n",
       "      <th>2</th>\n",
       "      <td>0.0</td>\n",
       "      <td>0.0</td>\n",
       "      <td>0.0</td>\n",
       "      <td>0.0</td>\n",
       "      <td>0.0</td>\n",
       "      <td>0.0</td>\n",
       "      <td>0.0</td>\n",
       "      <td>0.0</td>\n",
       "      <td>0.0</td>\n",
       "      <td>0.0</td>\n",
       "      <td>...</td>\n",
       "      <td>0.0</td>\n",
       "      <td>1500000.0</td>\n",
       "      <td>2300000.0</td>\n",
       "      <td>0.0</td>\n",
       "      <td>0.0</td>\n",
       "      <td>0.0</td>\n",
       "      <td>0.0</td>\n",
       "      <td>0.0</td>\n",
       "      <td>0.0</td>\n",
       "      <td>0</td>\n",
       "    </tr>\n",
       "    <tr>\n",
       "      <th>3</th>\n",
       "      <td>0.0</td>\n",
       "      <td>0.0</td>\n",
       "      <td>0.0</td>\n",
       "      <td>0.0</td>\n",
       "      <td>0.0</td>\n",
       "      <td>0.0</td>\n",
       "      <td>0.0</td>\n",
       "      <td>0.0</td>\n",
       "      <td>0.0</td>\n",
       "      <td>0.0</td>\n",
       "      <td>...</td>\n",
       "      <td>0.0</td>\n",
       "      <td>0.0</td>\n",
       "      <td>0.0</td>\n",
       "      <td>0.0</td>\n",
       "      <td>0.0</td>\n",
       "      <td>0.0</td>\n",
       "      <td>0.0</td>\n",
       "      <td>0.0</td>\n",
       "      <td>0.0</td>\n",
       "      <td>0</td>\n",
       "    </tr>\n",
       "    <tr>\n",
       "      <th>4</th>\n",
       "      <td>0.0</td>\n",
       "      <td>0.0</td>\n",
       "      <td>0.0</td>\n",
       "      <td>0.0</td>\n",
       "      <td>0.0</td>\n",
       "      <td>0.0</td>\n",
       "      <td>0.0</td>\n",
       "      <td>0.0</td>\n",
       "      <td>0.0</td>\n",
       "      <td>0.0</td>\n",
       "      <td>...</td>\n",
       "      <td>0.0</td>\n",
       "      <td>0.0</td>\n",
       "      <td>0.0</td>\n",
       "      <td>0.0</td>\n",
       "      <td>0.0</td>\n",
       "      <td>0.0</td>\n",
       "      <td>0.0</td>\n",
       "      <td>0.0</td>\n",
       "      <td>0.0</td>\n",
       "      <td>1</td>\n",
       "    </tr>\n",
       "  </tbody>\n",
       "</table>\n",
       "<p>5 rows × 1755 columns</p>\n",
       "</div>"
      ],
      "text/plain": [
       "   market_ 3D   market_ 3D Printing   market_ 3D Technology   \\\n",
       "0          0.0                   0.0                     0.0   \n",
       "1          0.0                   0.0                     0.0   \n",
       "2          0.0                   0.0                     0.0   \n",
       "3          0.0                   0.0                     0.0   \n",
       "4          0.0                   0.0                     0.0   \n",
       "\n",
       "   market_ Accounting   market_ Ad Targeting   market_ Advanced Materials   \\\n",
       "0                  0.0                    0.0                          0.0   \n",
       "1                  0.0                    0.0                          0.0   \n",
       "2                  0.0                    0.0                          0.0   \n",
       "3                  0.0                    0.0                          0.0   \n",
       "4                  0.0                    0.0                          0.0   \n",
       "\n",
       "   market_ Adventure Travel   market_ Advertising   \\\n",
       "0                        0.0                   0.0   \n",
       "1                        0.0                   0.0   \n",
       "2                        0.0                   0.0   \n",
       "3                        0.0                   0.0   \n",
       "4                        0.0                   0.0   \n",
       "\n",
       "   market_ Advertising Exchanges   market_ Advertising Networks   ...  \\\n",
       "0                             0.0                            0.0  ...   \n",
       "1                             0.0                            0.0  ...   \n",
       "2                             0.0                            0.0  ...   \n",
       "3                             0.0                            0.0  ...   \n",
       "4                             0.0                            0.0  ...   \n",
       "\n",
       "   product_crowdfunding    round_A    round_B  round_C  round_D  round_E  \\\n",
       "0                   0.0        0.0        0.0      0.0      0.0      0.0   \n",
       "1                   0.0        0.0        0.0      0.0      0.0      0.0   \n",
       "2                   0.0  1500000.0  2300000.0      0.0      0.0      0.0   \n",
       "3                   0.0        0.0        0.0      0.0      0.0      0.0   \n",
       "4                   0.0        0.0        0.0      0.0      0.0      0.0   \n",
       "\n",
       "   round_F  round_G  round_H  international  \n",
       "0      0.0      0.0      0.0              0  \n",
       "1      0.0      0.0      0.0              0  \n",
       "2      0.0      0.0      0.0              0  \n",
       "3      0.0      0.0      0.0              0  \n",
       "4      0.0      0.0      0.0              1  \n",
       "\n",
       "[5 rows x 1755 columns]"
      ]
     },
     "metadata": {},
     "output_type": "display_data"
    },
    {
     "data": {
      "text/html": [
       "<div>\n",
       "<style scoped>\n",
       "    .dataframe tbody tr th:only-of-type {\n",
       "        vertical-align: middle;\n",
       "    }\n",
       "\n",
       "    .dataframe tbody tr th {\n",
       "        vertical-align: top;\n",
       "    }\n",
       "\n",
       "    .dataframe thead th {\n",
       "        text-align: right;\n",
       "    }\n",
       "</style>\n",
       "<table border=\"1\" class=\"dataframe\">\n",
       "  <thead>\n",
       "    <tr style=\"text-align: right;\">\n",
       "      <th></th>\n",
       "      <th>market_ 3D</th>\n",
       "      <th>market_ 3D Printing</th>\n",
       "      <th>market_ 3D Technology</th>\n",
       "      <th>market_ Accounting</th>\n",
       "      <th>market_ Ad Targeting</th>\n",
       "      <th>market_ Advanced Materials</th>\n",
       "      <th>market_ Adventure Travel</th>\n",
       "      <th>market_ Advertising</th>\n",
       "      <th>market_ Advertising Exchanges</th>\n",
       "      <th>market_ Advertising Networks</th>\n",
       "      <th>...</th>\n",
       "      <th>product_crowdfunding</th>\n",
       "      <th>round_A</th>\n",
       "      <th>round_B</th>\n",
       "      <th>round_C</th>\n",
       "      <th>round_D</th>\n",
       "      <th>round_E</th>\n",
       "      <th>round_F</th>\n",
       "      <th>round_G</th>\n",
       "      <th>round_H</th>\n",
       "      <th>international</th>\n",
       "    </tr>\n",
       "  </thead>\n",
       "  <tbody>\n",
       "    <tr>\n",
       "      <th>0</th>\n",
       "      <td>0.0</td>\n",
       "      <td>0.0</td>\n",
       "      <td>0.0</td>\n",
       "      <td>0.0</td>\n",
       "      <td>0.0</td>\n",
       "      <td>0.0</td>\n",
       "      <td>0.0</td>\n",
       "      <td>0.0</td>\n",
       "      <td>0.0</td>\n",
       "      <td>0.0</td>\n",
       "      <td>...</td>\n",
       "      <td>0.0</td>\n",
       "      <td>0.000000</td>\n",
       "      <td>0.000000</td>\n",
       "      <td>0.0</td>\n",
       "      <td>0.0</td>\n",
       "      <td>0.0</td>\n",
       "      <td>0.0</td>\n",
       "      <td>0.0</td>\n",
       "      <td>0.0</td>\n",
       "      <td>0</td>\n",
       "    </tr>\n",
       "    <tr>\n",
       "      <th>1</th>\n",
       "      <td>0.0</td>\n",
       "      <td>0.0</td>\n",
       "      <td>0.0</td>\n",
       "      <td>0.0</td>\n",
       "      <td>0.0</td>\n",
       "      <td>0.0</td>\n",
       "      <td>0.0</td>\n",
       "      <td>0.0</td>\n",
       "      <td>0.0</td>\n",
       "      <td>0.0</td>\n",
       "      <td>...</td>\n",
       "      <td>0.0</td>\n",
       "      <td>0.000000</td>\n",
       "      <td>0.000000</td>\n",
       "      <td>0.0</td>\n",
       "      <td>0.0</td>\n",
       "      <td>0.0</td>\n",
       "      <td>0.0</td>\n",
       "      <td>0.0</td>\n",
       "      <td>0.0</td>\n",
       "      <td>0</td>\n",
       "    </tr>\n",
       "    <tr>\n",
       "      <th>2</th>\n",
       "      <td>0.0</td>\n",
       "      <td>0.0</td>\n",
       "      <td>0.0</td>\n",
       "      <td>0.0</td>\n",
       "      <td>0.0</td>\n",
       "      <td>0.0</td>\n",
       "      <td>0.0</td>\n",
       "      <td>0.0</td>\n",
       "      <td>0.0</td>\n",
       "      <td>0.0</td>\n",
       "      <td>...</td>\n",
       "      <td>0.0</td>\n",
       "      <td>0.004702</td>\n",
       "      <td>0.004244</td>\n",
       "      <td>0.0</td>\n",
       "      <td>0.0</td>\n",
       "      <td>0.0</td>\n",
       "      <td>0.0</td>\n",
       "      <td>0.0</td>\n",
       "      <td>0.0</td>\n",
       "      <td>0</td>\n",
       "    </tr>\n",
       "    <tr>\n",
       "      <th>3</th>\n",
       "      <td>0.0</td>\n",
       "      <td>0.0</td>\n",
       "      <td>0.0</td>\n",
       "      <td>0.0</td>\n",
       "      <td>0.0</td>\n",
       "      <td>0.0</td>\n",
       "      <td>0.0</td>\n",
       "      <td>0.0</td>\n",
       "      <td>0.0</td>\n",
       "      <td>0.0</td>\n",
       "      <td>...</td>\n",
       "      <td>0.0</td>\n",
       "      <td>0.000000</td>\n",
       "      <td>0.000000</td>\n",
       "      <td>0.0</td>\n",
       "      <td>0.0</td>\n",
       "      <td>0.0</td>\n",
       "      <td>0.0</td>\n",
       "      <td>0.0</td>\n",
       "      <td>0.0</td>\n",
       "      <td>0</td>\n",
       "    </tr>\n",
       "    <tr>\n",
       "      <th>4</th>\n",
       "      <td>0.0</td>\n",
       "      <td>0.0</td>\n",
       "      <td>0.0</td>\n",
       "      <td>0.0</td>\n",
       "      <td>0.0</td>\n",
       "      <td>0.0</td>\n",
       "      <td>0.0</td>\n",
       "      <td>0.0</td>\n",
       "      <td>0.0</td>\n",
       "      <td>0.0</td>\n",
       "      <td>...</td>\n",
       "      <td>0.0</td>\n",
       "      <td>0.000000</td>\n",
       "      <td>0.000000</td>\n",
       "      <td>0.0</td>\n",
       "      <td>0.0</td>\n",
       "      <td>0.0</td>\n",
       "      <td>0.0</td>\n",
       "      <td>0.0</td>\n",
       "      <td>0.0</td>\n",
       "      <td>1</td>\n",
       "    </tr>\n",
       "  </tbody>\n",
       "</table>\n",
       "<p>5 rows × 1755 columns</p>\n",
       "</div>"
      ],
      "text/plain": [
       "   market_ 3D   market_ 3D Printing   market_ 3D Technology   \\\n",
       "0          0.0                   0.0                     0.0   \n",
       "1          0.0                   0.0                     0.0   \n",
       "2          0.0                   0.0                     0.0   \n",
       "3          0.0                   0.0                     0.0   \n",
       "4          0.0                   0.0                     0.0   \n",
       "\n",
       "   market_ Accounting   market_ Ad Targeting   market_ Advanced Materials   \\\n",
       "0                  0.0                    0.0                          0.0   \n",
       "1                  0.0                    0.0                          0.0   \n",
       "2                  0.0                    0.0                          0.0   \n",
       "3                  0.0                    0.0                          0.0   \n",
       "4                  0.0                    0.0                          0.0   \n",
       "\n",
       "   market_ Adventure Travel   market_ Advertising   \\\n",
       "0                        0.0                   0.0   \n",
       "1                        0.0                   0.0   \n",
       "2                        0.0                   0.0   \n",
       "3                        0.0                   0.0   \n",
       "4                        0.0                   0.0   \n",
       "\n",
       "   market_ Advertising Exchanges   market_ Advertising Networks   ...  \\\n",
       "0                             0.0                            0.0  ...   \n",
       "1                             0.0                            0.0  ...   \n",
       "2                             0.0                            0.0  ...   \n",
       "3                             0.0                            0.0  ...   \n",
       "4                             0.0                            0.0  ...   \n",
       "\n",
       "   product_crowdfunding   round_A   round_B  round_C  round_D  round_E  \\\n",
       "0                   0.0  0.000000  0.000000      0.0      0.0      0.0   \n",
       "1                   0.0  0.000000  0.000000      0.0      0.0      0.0   \n",
       "2                   0.0  0.004702  0.004244      0.0      0.0      0.0   \n",
       "3                   0.0  0.000000  0.000000      0.0      0.0      0.0   \n",
       "4                   0.0  0.000000  0.000000      0.0      0.0      0.0   \n",
       "\n",
       "   round_F  round_G  round_H  international  \n",
       "0      0.0      0.0      0.0              0  \n",
       "1      0.0      0.0      0.0              0  \n",
       "2      0.0      0.0      0.0              0  \n",
       "3      0.0      0.0      0.0              0  \n",
       "4      0.0      0.0      0.0              1  \n",
       "\n",
       "[5 rows x 1755 columns]"
      ]
     },
     "execution_count": 290,
     "metadata": {},
     "output_type": "execute_result"
    }
   ],
   "source": [
    "X_train_processed = pd.concat([X_train_cat, X_train_cont, train_int], axis=1)\n",
    "X_train_scaled = pd.concat([X_train_cat, X_train_cont_scaled, train_int], axis=1) \n",
    "\n",
    "display(X_train_processed.head())\n",
    "X_train_scaled.head()"
   ]
  },
  {
   "cell_type": "markdown",
   "id": "363a5d12",
   "metadata": {},
   "source": [
    "Transforming test data:"
   ]
  },
  {
   "cell_type": "code",
   "execution_count": 204,
   "id": "5bac1fac",
   "metadata": {
    "ExecuteTime": {
     "end_time": "2022-09-07T20:38:18.469607Z",
     "start_time": "2022-09-07T20:38:18.448987Z"
    }
   },
   "outputs": [
    {
     "data": {
      "text/plain": [
       "market                   object\n",
       "funding_total_usd         int64\n",
       "region                   object\n",
       "funding_rounds          float64\n",
       "founded_quarter          object\n",
       "founded_year            float64\n",
       "seed                    float64\n",
       "venture                 float64\n",
       "equity_crowdfunding     float64\n",
       "undisclosed             float64\n",
       "convertible_note        float64\n",
       "debt_financing          float64\n",
       "angel                   float64\n",
       "grant                   float64\n",
       "private_equity          float64\n",
       "product_crowdfunding    float64\n",
       "round_A                 float64\n",
       "round_B                 float64\n",
       "round_C                 float64\n",
       "round_D                 float64\n",
       "round_E                 float64\n",
       "round_F                 float64\n",
       "round_G                 float64\n",
       "round_H                 float64\n",
       "international             int64\n",
       "dtype: object"
      ]
     },
     "execution_count": 204,
     "metadata": {},
     "output_type": "execute_result"
    }
   ],
   "source": [
    "X_test.dtypes"
   ]
  },
  {
   "cell_type": "code",
   "execution_count": 288,
   "id": "5722327e",
   "metadata": {
    "ExecuteTime": {
     "end_time": "2022-09-07T21:19:04.070417Z",
     "start_time": "2022-09-07T21:19:03.389204Z"
    }
   },
   "outputs": [
    {
     "data": {
      "text/html": [
       "<div>\n",
       "<style scoped>\n",
       "    .dataframe tbody tr th:only-of-type {\n",
       "        vertical-align: middle;\n",
       "    }\n",
       "\n",
       "    .dataframe tbody tr th {\n",
       "        vertical-align: top;\n",
       "    }\n",
       "\n",
       "    .dataframe thead th {\n",
       "        text-align: right;\n",
       "    }\n",
       "</style>\n",
       "<table border=\"1\" class=\"dataframe\">\n",
       "  <thead>\n",
       "    <tr style=\"text-align: right;\">\n",
       "      <th></th>\n",
       "      <th>market_ 3D</th>\n",
       "      <th>market_ 3D Printing</th>\n",
       "      <th>market_ 3D Technology</th>\n",
       "      <th>market_ Accounting</th>\n",
       "      <th>market_ Ad Targeting</th>\n",
       "      <th>market_ Advanced Materials</th>\n",
       "      <th>market_ Adventure Travel</th>\n",
       "      <th>market_ Advertising</th>\n",
       "      <th>market_ Advertising Exchanges</th>\n",
       "      <th>market_ Advertising Networks</th>\n",
       "      <th>...</th>\n",
       "      <th>product_crowdfunding</th>\n",
       "      <th>round_A</th>\n",
       "      <th>round_B</th>\n",
       "      <th>round_C</th>\n",
       "      <th>round_D</th>\n",
       "      <th>round_E</th>\n",
       "      <th>round_F</th>\n",
       "      <th>round_G</th>\n",
       "      <th>round_H</th>\n",
       "      <th>international</th>\n",
       "    </tr>\n",
       "  </thead>\n",
       "  <tbody>\n",
       "    <tr>\n",
       "      <th>0</th>\n",
       "      <td>0.0</td>\n",
       "      <td>0.0</td>\n",
       "      <td>0.0</td>\n",
       "      <td>0.0</td>\n",
       "      <td>0.0</td>\n",
       "      <td>0.0</td>\n",
       "      <td>0.0</td>\n",
       "      <td>0.0</td>\n",
       "      <td>0.0</td>\n",
       "      <td>0.0</td>\n",
       "      <td>...</td>\n",
       "      <td>0.0</td>\n",
       "      <td>5000000.0</td>\n",
       "      <td>0.0</td>\n",
       "      <td>0.0</td>\n",
       "      <td>0.0</td>\n",
       "      <td>0.0</td>\n",
       "      <td>0.0</td>\n",
       "      <td>0.0</td>\n",
       "      <td>0.0</td>\n",
       "      <td>0</td>\n",
       "    </tr>\n",
       "    <tr>\n",
       "      <th>1</th>\n",
       "      <td>0.0</td>\n",
       "      <td>0.0</td>\n",
       "      <td>0.0</td>\n",
       "      <td>0.0</td>\n",
       "      <td>0.0</td>\n",
       "      <td>0.0</td>\n",
       "      <td>0.0</td>\n",
       "      <td>0.0</td>\n",
       "      <td>0.0</td>\n",
       "      <td>0.0</td>\n",
       "      <td>...</td>\n",
       "      <td>0.0</td>\n",
       "      <td>0.0</td>\n",
       "      <td>0.0</td>\n",
       "      <td>0.0</td>\n",
       "      <td>0.0</td>\n",
       "      <td>0.0</td>\n",
       "      <td>0.0</td>\n",
       "      <td>0.0</td>\n",
       "      <td>0.0</td>\n",
       "      <td>1</td>\n",
       "    </tr>\n",
       "    <tr>\n",
       "      <th>2</th>\n",
       "      <td>0.0</td>\n",
       "      <td>0.0</td>\n",
       "      <td>0.0</td>\n",
       "      <td>0.0</td>\n",
       "      <td>0.0</td>\n",
       "      <td>0.0</td>\n",
       "      <td>0.0</td>\n",
       "      <td>0.0</td>\n",
       "      <td>0.0</td>\n",
       "      <td>0.0</td>\n",
       "      <td>...</td>\n",
       "      <td>0.0</td>\n",
       "      <td>0.0</td>\n",
       "      <td>0.0</td>\n",
       "      <td>0.0</td>\n",
       "      <td>0.0</td>\n",
       "      <td>0.0</td>\n",
       "      <td>0.0</td>\n",
       "      <td>0.0</td>\n",
       "      <td>0.0</td>\n",
       "      <td>1</td>\n",
       "    </tr>\n",
       "    <tr>\n",
       "      <th>3</th>\n",
       "      <td>0.0</td>\n",
       "      <td>0.0</td>\n",
       "      <td>0.0</td>\n",
       "      <td>0.0</td>\n",
       "      <td>0.0</td>\n",
       "      <td>0.0</td>\n",
       "      <td>0.0</td>\n",
       "      <td>0.0</td>\n",
       "      <td>0.0</td>\n",
       "      <td>0.0</td>\n",
       "      <td>...</td>\n",
       "      <td>0.0</td>\n",
       "      <td>0.0</td>\n",
       "      <td>0.0</td>\n",
       "      <td>0.0</td>\n",
       "      <td>0.0</td>\n",
       "      <td>0.0</td>\n",
       "      <td>0.0</td>\n",
       "      <td>0.0</td>\n",
       "      <td>0.0</td>\n",
       "      <td>1</td>\n",
       "    </tr>\n",
       "    <tr>\n",
       "      <th>4</th>\n",
       "      <td>0.0</td>\n",
       "      <td>0.0</td>\n",
       "      <td>0.0</td>\n",
       "      <td>0.0</td>\n",
       "      <td>0.0</td>\n",
       "      <td>0.0</td>\n",
       "      <td>0.0</td>\n",
       "      <td>0.0</td>\n",
       "      <td>0.0</td>\n",
       "      <td>0.0</td>\n",
       "      <td>...</td>\n",
       "      <td>0.0</td>\n",
       "      <td>0.0</td>\n",
       "      <td>0.0</td>\n",
       "      <td>0.0</td>\n",
       "      <td>0.0</td>\n",
       "      <td>0.0</td>\n",
       "      <td>0.0</td>\n",
       "      <td>0.0</td>\n",
       "      <td>0.0</td>\n",
       "      <td>1</td>\n",
       "    </tr>\n",
       "  </tbody>\n",
       "</table>\n",
       "<p>5 rows × 1755 columns</p>\n",
       "</div>"
      ],
      "text/plain": [
       "   market_ 3D   market_ 3D Printing   market_ 3D Technology   \\\n",
       "0          0.0                   0.0                     0.0   \n",
       "1          0.0                   0.0                     0.0   \n",
       "2          0.0                   0.0                     0.0   \n",
       "3          0.0                   0.0                     0.0   \n",
       "4          0.0                   0.0                     0.0   \n",
       "\n",
       "   market_ Accounting   market_ Ad Targeting   market_ Advanced Materials   \\\n",
       "0                  0.0                    0.0                          0.0   \n",
       "1                  0.0                    0.0                          0.0   \n",
       "2                  0.0                    0.0                          0.0   \n",
       "3                  0.0                    0.0                          0.0   \n",
       "4                  0.0                    0.0                          0.0   \n",
       "\n",
       "   market_ Adventure Travel   market_ Advertising   \\\n",
       "0                        0.0                   0.0   \n",
       "1                        0.0                   0.0   \n",
       "2                        0.0                   0.0   \n",
       "3                        0.0                   0.0   \n",
       "4                        0.0                   0.0   \n",
       "\n",
       "   market_ Advertising Exchanges   market_ Advertising Networks   ...  \\\n",
       "0                             0.0                            0.0  ...   \n",
       "1                             0.0                            0.0  ...   \n",
       "2                             0.0                            0.0  ...   \n",
       "3                             0.0                            0.0  ...   \n",
       "4                             0.0                            0.0  ...   \n",
       "\n",
       "   product_crowdfunding    round_A  round_B  round_C  round_D  round_E  \\\n",
       "0                   0.0  5000000.0      0.0      0.0      0.0      0.0   \n",
       "1                   0.0        0.0      0.0      0.0      0.0      0.0   \n",
       "2                   0.0        0.0      0.0      0.0      0.0      0.0   \n",
       "3                   0.0        0.0      0.0      0.0      0.0      0.0   \n",
       "4                   0.0        0.0      0.0      0.0      0.0      0.0   \n",
       "\n",
       "   round_F  round_G  round_H  international  \n",
       "0      0.0      0.0      0.0              0  \n",
       "1      0.0      0.0      0.0              1  \n",
       "2      0.0      0.0      0.0              1  \n",
       "3      0.0      0.0      0.0              1  \n",
       "4      0.0      0.0      0.0              1  \n",
       "\n",
       "[5 rows x 1755 columns]"
      ]
     },
     "metadata": {},
     "output_type": "display_data"
    },
    {
     "data": {
      "text/html": [
       "<div>\n",
       "<style scoped>\n",
       "    .dataframe tbody tr th:only-of-type {\n",
       "        vertical-align: middle;\n",
       "    }\n",
       "\n",
       "    .dataframe tbody tr th {\n",
       "        vertical-align: top;\n",
       "    }\n",
       "\n",
       "    .dataframe thead th {\n",
       "        text-align: right;\n",
       "    }\n",
       "</style>\n",
       "<table border=\"1\" class=\"dataframe\">\n",
       "  <thead>\n",
       "    <tr style=\"text-align: right;\">\n",
       "      <th></th>\n",
       "      <th>market_ 3D</th>\n",
       "      <th>market_ 3D Printing</th>\n",
       "      <th>market_ 3D Technology</th>\n",
       "      <th>market_ Accounting</th>\n",
       "      <th>market_ Ad Targeting</th>\n",
       "      <th>market_ Advanced Materials</th>\n",
       "      <th>market_ Adventure Travel</th>\n",
       "      <th>market_ Advertising</th>\n",
       "      <th>market_ Advertising Exchanges</th>\n",
       "      <th>market_ Advertising Networks</th>\n",
       "      <th>...</th>\n",
       "      <th>product_crowdfunding</th>\n",
       "      <th>round_A</th>\n",
       "      <th>round_B</th>\n",
       "      <th>round_C</th>\n",
       "      <th>round_D</th>\n",
       "      <th>round_E</th>\n",
       "      <th>round_F</th>\n",
       "      <th>round_G</th>\n",
       "      <th>round_H</th>\n",
       "      <th>international</th>\n",
       "    </tr>\n",
       "  </thead>\n",
       "  <tbody>\n",
       "    <tr>\n",
       "      <th>0</th>\n",
       "      <td>0.0</td>\n",
       "      <td>0.0</td>\n",
       "      <td>0.0</td>\n",
       "      <td>0.0</td>\n",
       "      <td>0.0</td>\n",
       "      <td>0.0</td>\n",
       "      <td>0.0</td>\n",
       "      <td>0.0</td>\n",
       "      <td>0.0</td>\n",
       "      <td>0.0</td>\n",
       "      <td>...</td>\n",
       "      <td>0.0</td>\n",
       "      <td>0.015674</td>\n",
       "      <td>0.0</td>\n",
       "      <td>0.0</td>\n",
       "      <td>0.0</td>\n",
       "      <td>0.0</td>\n",
       "      <td>0.0</td>\n",
       "      <td>0.0</td>\n",
       "      <td>0.0</td>\n",
       "      <td>0</td>\n",
       "    </tr>\n",
       "    <tr>\n",
       "      <th>1</th>\n",
       "      <td>0.0</td>\n",
       "      <td>0.0</td>\n",
       "      <td>0.0</td>\n",
       "      <td>0.0</td>\n",
       "      <td>0.0</td>\n",
       "      <td>0.0</td>\n",
       "      <td>0.0</td>\n",
       "      <td>0.0</td>\n",
       "      <td>0.0</td>\n",
       "      <td>0.0</td>\n",
       "      <td>...</td>\n",
       "      <td>0.0</td>\n",
       "      <td>0.000000</td>\n",
       "      <td>0.0</td>\n",
       "      <td>0.0</td>\n",
       "      <td>0.0</td>\n",
       "      <td>0.0</td>\n",
       "      <td>0.0</td>\n",
       "      <td>0.0</td>\n",
       "      <td>0.0</td>\n",
       "      <td>1</td>\n",
       "    </tr>\n",
       "    <tr>\n",
       "      <th>2</th>\n",
       "      <td>0.0</td>\n",
       "      <td>0.0</td>\n",
       "      <td>0.0</td>\n",
       "      <td>0.0</td>\n",
       "      <td>0.0</td>\n",
       "      <td>0.0</td>\n",
       "      <td>0.0</td>\n",
       "      <td>0.0</td>\n",
       "      <td>0.0</td>\n",
       "      <td>0.0</td>\n",
       "      <td>...</td>\n",
       "      <td>0.0</td>\n",
       "      <td>0.000000</td>\n",
       "      <td>0.0</td>\n",
       "      <td>0.0</td>\n",
       "      <td>0.0</td>\n",
       "      <td>0.0</td>\n",
       "      <td>0.0</td>\n",
       "      <td>0.0</td>\n",
       "      <td>0.0</td>\n",
       "      <td>1</td>\n",
       "    </tr>\n",
       "    <tr>\n",
       "      <th>3</th>\n",
       "      <td>0.0</td>\n",
       "      <td>0.0</td>\n",
       "      <td>0.0</td>\n",
       "      <td>0.0</td>\n",
       "      <td>0.0</td>\n",
       "      <td>0.0</td>\n",
       "      <td>0.0</td>\n",
       "      <td>0.0</td>\n",
       "      <td>0.0</td>\n",
       "      <td>0.0</td>\n",
       "      <td>...</td>\n",
       "      <td>0.0</td>\n",
       "      <td>0.000000</td>\n",
       "      <td>0.0</td>\n",
       "      <td>0.0</td>\n",
       "      <td>0.0</td>\n",
       "      <td>0.0</td>\n",
       "      <td>0.0</td>\n",
       "      <td>0.0</td>\n",
       "      <td>0.0</td>\n",
       "      <td>1</td>\n",
       "    </tr>\n",
       "    <tr>\n",
       "      <th>4</th>\n",
       "      <td>0.0</td>\n",
       "      <td>0.0</td>\n",
       "      <td>0.0</td>\n",
       "      <td>0.0</td>\n",
       "      <td>0.0</td>\n",
       "      <td>0.0</td>\n",
       "      <td>0.0</td>\n",
       "      <td>0.0</td>\n",
       "      <td>0.0</td>\n",
       "      <td>0.0</td>\n",
       "      <td>...</td>\n",
       "      <td>0.0</td>\n",
       "      <td>0.000000</td>\n",
       "      <td>0.0</td>\n",
       "      <td>0.0</td>\n",
       "      <td>0.0</td>\n",
       "      <td>0.0</td>\n",
       "      <td>0.0</td>\n",
       "      <td>0.0</td>\n",
       "      <td>0.0</td>\n",
       "      <td>1</td>\n",
       "    </tr>\n",
       "  </tbody>\n",
       "</table>\n",
       "<p>5 rows × 1755 columns</p>\n",
       "</div>"
      ],
      "text/plain": [
       "   market_ 3D   market_ 3D Printing   market_ 3D Technology   \\\n",
       "0          0.0                   0.0                     0.0   \n",
       "1          0.0                   0.0                     0.0   \n",
       "2          0.0                   0.0                     0.0   \n",
       "3          0.0                   0.0                     0.0   \n",
       "4          0.0                   0.0                     0.0   \n",
       "\n",
       "   market_ Accounting   market_ Ad Targeting   market_ Advanced Materials   \\\n",
       "0                  0.0                    0.0                          0.0   \n",
       "1                  0.0                    0.0                          0.0   \n",
       "2                  0.0                    0.0                          0.0   \n",
       "3                  0.0                    0.0                          0.0   \n",
       "4                  0.0                    0.0                          0.0   \n",
       "\n",
       "   market_ Adventure Travel   market_ Advertising   \\\n",
       "0                        0.0                   0.0   \n",
       "1                        0.0                   0.0   \n",
       "2                        0.0                   0.0   \n",
       "3                        0.0                   0.0   \n",
       "4                        0.0                   0.0   \n",
       "\n",
       "   market_ Advertising Exchanges   market_ Advertising Networks   ...  \\\n",
       "0                             0.0                            0.0  ...   \n",
       "1                             0.0                            0.0  ...   \n",
       "2                             0.0                            0.0  ...   \n",
       "3                             0.0                            0.0  ...   \n",
       "4                             0.0                            0.0  ...   \n",
       "\n",
       "   product_crowdfunding   round_A  round_B  round_C  round_D  round_E  \\\n",
       "0                   0.0  0.015674      0.0      0.0      0.0      0.0   \n",
       "1                   0.0  0.000000      0.0      0.0      0.0      0.0   \n",
       "2                   0.0  0.000000      0.0      0.0      0.0      0.0   \n",
       "3                   0.0  0.000000      0.0      0.0      0.0      0.0   \n",
       "4                   0.0  0.000000      0.0      0.0      0.0      0.0   \n",
       "\n",
       "   round_F  round_G  round_H  international  \n",
       "0      0.0      0.0      0.0              0  \n",
       "1      0.0      0.0      0.0              1  \n",
       "2      0.0      0.0      0.0              1  \n",
       "3      0.0      0.0      0.0              1  \n",
       "4      0.0      0.0      0.0              1  \n",
       "\n",
       "[5 rows x 1755 columns]"
      ]
     },
     "execution_count": 288,
     "metadata": {},
     "output_type": "execute_result"
    }
   ],
   "source": [
    "encoded_test = ohe.transform(cat_test).toarray()\n",
    "\n",
    "X_test_cat = pd.DataFrame(encoded_test, columns=ohe.get_feature_names(cat_test.columns))\n",
    "\n",
    "X_test_scaled = pd.concat([X_test_cat, X_test_cont_scaled, test_int], axis=1)\n",
    "X_test_processed = pd.concat([X_test_cat, X_test_cont, test_int], axis=1)\n",
    "\n",
    "display(X_test_processed.head())\n",
    "X_test_scaled.head()"
   ]
  },
  {
   "cell_type": "code",
   "execution_count": 291,
   "id": "c9adf6a3",
   "metadata": {
    "ExecuteTime": {
     "end_time": "2022-09-07T21:20:26.283723Z",
     "start_time": "2022-09-07T21:20:26.277766Z"
    }
   },
   "outputs": [
    {
     "name": "stdout",
     "output_type": "stream",
     "text": [
      "There are 1755 features in train set\n",
      "There are 1755 features in test set\n"
     ]
    }
   ],
   "source": [
    "print(\"There are {} features in train set\".format(len(X_train_processed.columns)))\n",
    "print(\"There are {} features in test set\".format(len(X_test_processed.columns)))"
   ]
  },
  {
   "cell_type": "code",
   "execution_count": 292,
   "id": "7963bd6a",
   "metadata": {
    "ExecuteTime": {
     "end_time": "2022-09-07T21:20:27.307502Z",
     "start_time": "2022-09-07T21:20:27.303730Z"
    }
   },
   "outputs": [
    {
     "name": "stdout",
     "output_type": "stream",
     "text": [
      "There are 1755 features in train set (scaled)\n",
      "There are 1755 features in test set (scaled)\n"
     ]
    }
   ],
   "source": [
    "print(\"There are {} features in train set (scaled)\".format(len(X_train_scaled.columns)))\n",
    "print(\"There are {} features in test set (scaled)\".format(len(X_test_scaled.columns)))"
   ]
  },
  {
   "cell_type": "markdown",
   "id": "17cb6938",
   "metadata": {},
   "source": [
    "## Baseline Model"
   ]
  },
  {
   "cell_type": "markdown",
   "id": "43666e14",
   "metadata": {},
   "source": [
    "Logistic regression:"
   ]
  },
  {
   "cell_type": "code",
   "execution_count": 293,
   "id": "3681a1df",
   "metadata": {
    "ExecuteTime": {
     "end_time": "2022-09-07T21:21:00.274089Z",
     "start_time": "2022-09-07T21:20:34.495260Z"
    }
   },
   "outputs": [
    {
     "data": {
      "text/plain": [
       "LogisticRegression(random_state=42)"
      ]
     },
     "execution_count": 293,
     "metadata": {},
     "output_type": "execute_result"
    }
   ],
   "source": [
    "baseline_model = LogisticRegression(random_state=42)\n",
    "\n",
    "baseline_model.fit(X_train_scaled, y_train)\n",
    "\n",
    "#baseline_model.score\n",
    "\n",
    "# Use cross_val_score with scoring=\"neg_log_loss\" to evaluate the model\n",
    "# on X_train and y_train\n",
    "#baseline_neg_log_loss_cv = cross_val_score(baseline_model, X_train, y_train, scoring=\"neg_log_loss\")\n",
    "\n",
    "#baseline_log_loss = -(baseline_neg_log_loss_cv.mean())\n",
    "#baseline_log_loss"
   ]
  },
  {
   "cell_type": "code",
   "execution_count": 294,
   "id": "754a77b7",
   "metadata": {
    "ExecuteTime": {
     "end_time": "2022-09-07T21:21:01.402958Z",
     "start_time": "2022-09-07T21:21:00.279067Z"
    }
   },
   "outputs": [],
   "source": [
    "y_hat_train = baseline_model.predict(X_train_scaled)"
   ]
  },
  {
   "cell_type": "code",
   "execution_count": 295,
   "id": "cf9a14b7",
   "metadata": {
    "ExecuteTime": {
     "end_time": "2022-09-07T21:21:01.494848Z",
     "start_time": "2022-09-07T21:21:01.407158Z"
    }
   },
   "outputs": [
    {
     "name": "stdout",
     "output_type": "stream",
     "text": [
      "              precision    recall  f1-score   support\n",
      "\n",
      "           0       0.25      0.00      0.00      2769\n",
      "           1       1.00      0.00      0.00      1924\n",
      "           2       0.87      1.00      0.93     31399\n",
      "\n",
      "    accuracy                           0.87     36092\n",
      "   macro avg       0.71      0.33      0.31     36092\n",
      "weighted avg       0.83      0.87      0.81     36092\n",
      "\n"
     ]
    }
   ],
   "source": [
    "print(classification_report(y_train, y_hat_train))"
   ]
  },
  {
   "cell_type": "code",
   "execution_count": 296,
   "id": "cead69c4",
   "metadata": {
    "ExecuteTime": {
     "end_time": "2022-09-07T21:21:02.180593Z",
     "start_time": "2022-09-07T21:21:01.499106Z"
    }
   },
   "outputs": [
    {
     "name": "stdout",
     "output_type": "stream",
     "text": [
      "              precision    recall  f1-score   support\n",
      "\n",
      "           0       0.33      0.00      0.00       923\n",
      "           1       0.00      0.00      0.00       678\n",
      "           2       0.87      1.00      0.93     10430\n",
      "\n",
      "    accuracy                           0.87     12031\n",
      "   macro avg       0.40      0.33      0.31     12031\n",
      "weighted avg       0.78      0.87      0.81     12031\n",
      "\n"
     ]
    }
   ],
   "source": [
    "y_hat_test = baseline_model.predict(X_test_scaled)\n",
    "print(classification_report(y_test, y_hat_test))"
   ]
  },
  {
   "cell_type": "code",
   "execution_count": 98,
   "id": "9d8ee4a3",
   "metadata": {
    "ExecuteTime": {
     "end_time": "2022-09-06T17:33:18.536202Z",
     "start_time": "2022-09-06T17:33:18.393676Z"
    }
   },
   "outputs": [
    {
     "name": "stdout",
     "output_type": "stream",
     "text": [
      "0    31427\n",
      "2     2758\n",
      "1     1907\n",
      "dtype: int64\n",
      "------------------------------------\n",
      "0    0.870747\n",
      "2    0.076416\n",
      "1    0.052837\n",
      "dtype: float64\n"
     ]
    }
   ],
   "source": [
    "## WHAT IS THIS SAYING??\n",
    "residuals = np.abs(y_train - y_hat_train)\n",
    "print(pd.Series(residuals).value_counts())\n",
    "print('------------------------------------')\n",
    "print(pd.Series(residuals).value_counts(normalize=True))\n",
    "#print(classification_report(y_test, y_hat_test))"
   ]
  },
  {
   "cell_type": "code",
   "execution_count": 164,
   "id": "6449eb03",
   "metadata": {
    "ExecuteTime": {
     "end_time": "2022-09-07T20:07:39.300779Z",
     "start_time": "2022-09-07T20:07:39.290997Z"
    }
   },
   "outputs": [
    {
     "data": {
      "text/plain": [
       "array([[-0.07426328, -0.15487386, -0.07249464, ..., -0.43627175,\n",
       "        -0.12198941, -0.02738445],\n",
       "       [ 0.06810978, -0.14269419, -0.06940142, ...,  0.17538423,\n",
       "         0.00863807, -0.00825094],\n",
       "       [ 0.0061535 ,  0.29756805,  0.14189606, ...,  0.26088752,\n",
       "         0.11335135,  0.03563539]])"
      ]
     },
     "execution_count": 164,
     "metadata": {},
     "output_type": "execute_result"
    }
   ],
   "source": [
    "baseline_model.coef_"
   ]
  },
  {
   "cell_type": "code",
   "execution_count": 170,
   "id": "972ab87e",
   "metadata": {
    "ExecuteTime": {
     "end_time": "2022-09-07T20:10:13.650633Z",
     "start_time": "2022-09-07T20:10:12.971494Z"
    }
   },
   "outputs": [],
   "source": [
    "coef_df = pd.DataFrame(baseline_model.coef_, columns=X_train.columns)\n",
    "coef_df.to_csv('coef_logreg_base2.csv')"
   ]
  },
  {
   "cell_type": "code",
   "execution_count": 167,
   "id": "94356bcf",
   "metadata": {
    "ExecuteTime": {
     "end_time": "2022-09-07T20:08:22.241919Z",
     "start_time": "2022-09-07T20:08:22.161134Z"
    }
   },
   "outputs": [
    {
     "data": {
      "text/plain": [
       "Index(['market_ 3D ', 'market_ 3D Printing ', 'market_ 3D Technology ',\n",
       "       'market_ Accounting ', 'market_ Ad Targeting ',\n",
       "       'market_ Advanced Materials ', 'market_ Adventure Travel ',\n",
       "       'market_ Advertising ', 'market_ Advertising Exchanges ',\n",
       "       'market_ Advertising Networks ',\n",
       "       ...\n",
       "       'private_equity', 'product_crowdfunding', 'round_A', 'round_B',\n",
       "       'round_C', 'round_D', 'round_E', 'round_F', 'round_G', 'round_H'],\n",
       "      dtype='object', length=5508)"
      ]
     },
     "execution_count": 167,
     "metadata": {},
     "output_type": "execute_result"
    }
   ],
   "source": [
    "X_train.columns"
   ]
  },
  {
   "cell_type": "code",
   "execution_count": 102,
   "id": "5a47a42c",
   "metadata": {
    "ExecuteTime": {
     "end_time": "2022-09-06T17:35:18.117345Z",
     "start_time": "2022-09-06T17:35:18.027026Z"
    }
   },
   "outputs": [
    {
     "name": "stdout",
     "output_type": "stream",
     "text": [
      "Training Precision (weighted avg):  0.8422235083821834\n",
      "Testing Precision (weighted avg):  0.7710266272489164\n",
      "\n",
      "\n",
      "\n",
      "Training Recall (weighted avg):  0.8707469799401529\n",
      "Testing Recall (weighted avg):  0.8659296816557227\n",
      "\n",
      "\n",
      "\n",
      "Training F1-Score (weighted avg):  0.8129091819813385\n",
      "Testing F1-Score (weighted avg):  0.8053758639591745\n",
      "\n",
      "\n",
      "\n",
      "Training Accuracy:  0.8707469799401529\n",
      "Testing Accuracy:  0.8659296816557227\n"
     ]
    }
   ],
   "source": [
    "print('Training Precision (weighted avg): ', \n",
    "      precision_score(y_train, y_hat_train, average='weighted'))\n",
    "print('Testing Precision (weighted avg): ', \n",
    "      precision_score(y_test, y_hat_test, average='weighted'))\n",
    "print('\\n\\n')\n",
    "\n",
    "print('Training Recall (weighted avg): ', \n",
    "      recall_score(y_train, y_hat_train, average='weighted'))\n",
    "print('Testing Recall (weighted avg): ', \n",
    "      recall_score(y_test, y_hat_test, average='weighted'))\n",
    "print('\\n\\n')\n",
    "\n",
    "print('Training F1-Score (weighted avg): ', \n",
    "      f1_score(y_train, y_hat_train, average='weighted'))\n",
    "print('Testing F1-Score (weighted avg): ', \n",
    "      f1_score(y_test, y_hat_test, average='weighted'))\n",
    "print('\\n\\n')\n",
    "\n",
    "print('Training Accuracy: ', accuracy_score(y_train, y_hat_train))\n",
    "print('Testing Accuracy: ', accuracy_score(y_test, y_hat_test))"
   ]
  },
  {
   "cell_type": "code",
   "execution_count": 101,
   "id": "be9e849a",
   "metadata": {
    "ExecuteTime": {
     "end_time": "2022-09-06T17:34:47.411880Z",
     "start_time": "2022-09-06T17:34:47.223159Z"
    }
   },
   "outputs": [
    {
     "name": "stdout",
     "output_type": "stream",
     "text": [
      "Training Precision (macro avg):  0.7349520211232621\n",
      "Testing Precision (macro avg):  0.3724183877415057\n",
      "\n",
      "\n",
      "\n",
      "Training Recall (macro avg):  0.3411560253287069\n",
      "Testing Recall (macro avg):  0.3342665526803914\n",
      "\n",
      "\n",
      "\n",
      "Training F1-Score (macro avg):  0.3262457337001421\n",
      "Testing F1-Score (macro avg):  0.31225547537247195\n",
      "\n",
      "\n",
      "\n",
      "Training Accuracy:  0.8707469799401529\n",
      "Testing Accuracy:  0.8659296816557227\n"
     ]
    }
   ],
   "source": [
    "print('Training Precision (macro avg): ', \n",
    "      precision_score(y_train, y_hat_train, average='macro'))\n",
    "print('Testing Precision (macro avg): ', \n",
    "      precision_score(y_test, y_hat_test, average='macro'))\n",
    "print('\\n\\n')\n",
    "\n",
    "print('Training Recall (macro avg): ', \n",
    "      recall_score(y_train, y_hat_train, average='macro'))\n",
    "print('Testing Recall (macro avg): ', \n",
    "      recall_score(y_test, y_hat_test, average='macro'))\n",
    "print('\\n\\n')\n",
    "\n",
    "print('Training F1-Score (macro avg): ', \n",
    "      f1_score(y_train, y_hat_train, average='macro'))\n",
    "print('Testing F1-Score (macro avg): ', \n",
    "      f1_score(y_test, y_hat_test, average='macro'))\n",
    "print('\\n\\n')\n",
    "\n",
    "print('Training Accuracy: ', accuracy_score(y_train, y_hat_train))\n",
    "print('Testing Accuracy: ', accuracy_score(y_test, y_hat_test))"
   ]
  },
  {
   "cell_type": "markdown",
   "id": "58e6fa8e",
   "metadata": {},
   "source": [
    "## Other Models"
   ]
  },
  {
   "cell_type": "markdown",
   "id": "c6bce09c",
   "metadata": {},
   "source": [
    "### Model 2: LogReg / Addressing Class Imbalance"
   ]
  },
  {
   "cell_type": "code",
   "execution_count": 297,
   "id": "e0d994e8",
   "metadata": {
    "ExecuteTime": {
     "end_time": "2022-09-07T21:22:49.545468Z",
     "start_time": "2022-09-07T21:22:23.376620Z"
    }
   },
   "outputs": [
    {
     "data": {
      "text/plain": [
       "LogisticRegression(class_weight='balanced', random_state=42)"
      ]
     },
     "execution_count": 297,
     "metadata": {},
     "output_type": "execute_result"
    }
   ],
   "source": [
    "# fitting a model weight balanced class weights, no regularization\n",
    "logreg2 = LogisticRegression(random_state=42, class_weight='balanced')\n",
    "logreg2.fit(X_train_scaled, y_train)"
   ]
  },
  {
   "cell_type": "code",
   "execution_count": 298,
   "id": "8ad2b7df",
   "metadata": {
    "ExecuteTime": {
     "end_time": "2022-09-07T21:22:50.344131Z",
     "start_time": "2022-09-07T21:22:49.549625Z"
    }
   },
   "outputs": [],
   "source": [
    "y_hat_train_2 = logreg2.predict(X_train_scaled)\n",
    "y_hat_test_2 = logreg2.predict(X_test_scaled)"
   ]
  },
  {
   "cell_type": "code",
   "execution_count": 299,
   "id": "b01718a7",
   "metadata": {
    "ExecuteTime": {
     "end_time": "2022-09-07T21:22:50.433362Z",
     "start_time": "2022-09-07T21:22:50.347264Z"
    }
   },
   "outputs": [
    {
     "name": "stdout",
     "output_type": "stream",
     "text": [
      "              precision    recall  f1-score   support\n",
      "\n",
      "           0       0.17      0.61      0.26      2769\n",
      "           1       0.13      0.61      0.21      1924\n",
      "           2       0.95      0.52      0.67     31399\n",
      "\n",
      "    accuracy                           0.53     36092\n",
      "   macro avg       0.42      0.58      0.38     36092\n",
      "weighted avg       0.85      0.53      0.62     36092\n",
      "\n",
      "              precision    recall  f1-score   support\n",
      "\n",
      "           0       0.15      0.53      0.23       923\n",
      "           1       0.10      0.43      0.16       678\n",
      "           2       0.93      0.50      0.65     10430\n",
      "\n",
      "    accuracy                           0.50     12031\n",
      "   macro avg       0.39      0.49      0.35     12031\n",
      "weighted avg       0.82      0.50      0.59     12031\n",
      "\n"
     ]
    }
   ],
   "source": [
    "print(classification_report(y_train, y_hat_train_2))\n",
    "print(classification_report(y_test, y_hat_test_2))"
   ]
  },
  {
   "cell_type": "code",
   "execution_count": 112,
   "id": "8b4e9719",
   "metadata": {
    "ExecuteTime": {
     "end_time": "2022-09-06T18:20:17.639870Z",
     "start_time": "2022-09-06T18:18:49.367077Z"
    }
   },
   "outputs": [
    {
     "name": "stdout",
     "output_type": "stream",
     "text": [
      "              precision    recall  f1-score   support\n",
      "\n",
      "           0       0.20      0.67      0.31      2769\n",
      "           1       0.16      0.68      0.25      1924\n",
      "           2       0.96      0.56      0.71     31399\n",
      "\n",
      "    accuracy                           0.58     36092\n",
      "   macro avg       0.44      0.64      0.42     36092\n",
      "weighted avg       0.86      0.58      0.65     36092\n",
      "\n",
      "              precision    recall  f1-score   support\n",
      "\n",
      "           0       0.15      0.49      0.23       923\n",
      "           1       0.09      0.39      0.15       678\n",
      "           2       0.92      0.54      0.68     10430\n",
      "\n",
      "    accuracy                           0.53     12031\n",
      "   macro avg       0.39      0.47      0.35     12031\n",
      "weighted avg       0.81      0.53      0.62     12031\n",
      "\n"
     ]
    }
   ],
   "source": [
    "# Without regularization - better for training, worse for test - overfit\n",
    "\n",
    "logreg3 = LogisticRegression(random_state=42, class_weight='balanced', C=1e12)\n",
    "logreg3.fit(X_train_scaled, y_train)\n",
    "y_hat_train_3 = logreg3.predict(X_train_scaled)\n",
    "y_hat_test_3 = logreg3.predict(X_test_scaled)\n",
    "print(classification_report(y_train, y_hat_train_3))\n",
    "print(classification_report(y_test, y_hat_test_3))"
   ]
  },
  {
   "cell_type": "markdown",
   "id": "360e5aab",
   "metadata": {},
   "source": [
    "### Model 3: Random Forest"
   ]
  },
  {
   "cell_type": "code",
   "execution_count": 300,
   "id": "960c9bd1",
   "metadata": {
    "ExecuteTime": {
     "end_time": "2022-09-07T21:26:52.283947Z",
     "start_time": "2022-09-07T21:25:43.921738Z"
    }
   },
   "outputs": [
    {
     "name": "stdout",
     "output_type": "stream",
     "text": [
      "              precision    recall  f1-score   support\n",
      "\n",
      "           0       1.00      0.98      0.99      2769\n",
      "           1       0.99      0.96      0.98      1924\n",
      "           2       1.00      1.00      1.00     31399\n",
      "\n",
      "    accuracy                           1.00     36092\n",
      "   macro avg       1.00      0.98      0.99     36092\n",
      "weighted avg       1.00      1.00      1.00     36092\n",
      "\n",
      "              precision    recall  f1-score   support\n",
      "\n",
      "           0       0.26      0.03      0.05       923\n",
      "           1       0.24      0.02      0.03       678\n",
      "           2       0.87      0.99      0.93     10430\n",
      "\n",
      "    accuracy                           0.86     12031\n",
      "   macro avg       0.46      0.35      0.34     12031\n",
      "weighted avg       0.79      0.86      0.81     12031\n",
      "\n"
     ]
    }
   ],
   "source": [
    "rfc = RandomForestClassifier(random_state=42)\n",
    "rfc.fit(X_train_processed, y_train)\n",
    "\n",
    "y_hat_train_3 = rfc.predict(X_train_processed)\n",
    "y_hat_test_3 = rfc.predict(X_test_processed)\n",
    "\n",
    "print(classification_report(y_train, y_hat_train_3))\n",
    "print(classification_report(y_test, y_hat_test_3))"
   ]
  },
  {
   "cell_type": "code",
   "execution_count": 114,
   "id": "7a8aa32a",
   "metadata": {
    "ExecuteTime": {
     "end_time": "2022-09-07T17:20:52.053877Z",
     "start_time": "2022-09-07T17:20:51.916026Z"
    }
   },
   "outputs": [],
   "source": [
    "# Tuning the model with grid search\n",
    "\n",
    "param_grid = {'criterion':['gini','entropy','log_loss'],\n",
    "              'max_depth':[3,8,12],\n",
    "              'min_samples_leaf': [5,10],\n",
    "              'class_weight': [None, 'balanced']\n",
    "             }"
   ]
  },
  {
   "cell_type": "code",
   "execution_count": 118,
   "id": "c61555a2",
   "metadata": {
    "ExecuteTime": {
     "end_time": "2022-09-07T17:45:32.136471Z",
     "start_time": "2022-09-07T17:27:35.414668Z"
    }
   },
   "outputs": [
    {
     "data": {
      "text/plain": [
       "GridSearchCV(cv=5, estimator=RandomForestClassifier(random_state=42),\n",
       "             param_grid={'class_weight': [None, 'balanced'],\n",
       "                         'criterion': ['gini', 'entropy', 'log_loss'],\n",
       "                         'max_depth': [3, 8, 12], 'min_samples_leaf': [5, 10]},\n",
       "             scoring='recall_weighted')"
      ]
     },
     "execution_count": 118,
     "metadata": {},
     "output_type": "execute_result"
    }
   ],
   "source": [
    "## long run time\n",
    "\n",
    "grid_rfc = GridSearchCV(rfc, param_grid, cv = 5, scoring='recall_weighted') \n",
    "# macro or weighted?\n",
    "grid_rfc.fit(X_train, y_train) #17 min execution"
   ]
  },
  {
   "cell_type": "code",
   "execution_count": 119,
   "id": "16ff3ea4",
   "metadata": {
    "ExecuteTime": {
     "end_time": "2022-09-07T17:45:45.588032Z",
     "start_time": "2022-09-07T17:45:45.412294Z"
    }
   },
   "outputs": [
    {
     "data": {
      "text/plain": [
       "{'class_weight': None,\n",
       " 'criterion': 'gini',\n",
       " 'max_depth': 3,\n",
       " 'min_samples_leaf': 5}"
      ]
     },
     "execution_count": 119,
     "metadata": {},
     "output_type": "execute_result"
    }
   ],
   "source": [
    "grid_rfc.best_params_"
   ]
  },
  {
   "cell_type": "code",
   "execution_count": 120,
   "id": "1e3fbf70",
   "metadata": {
    "ExecuteTime": {
     "end_time": "2022-09-07T17:45:59.160951Z",
     "start_time": "2022-09-07T17:45:58.219981Z"
    }
   },
   "outputs": [],
   "source": [
    "y_preds_grid = grid_rfc.predict(X_test)"
   ]
  },
  {
   "cell_type": "code",
   "execution_count": 121,
   "id": "7fb344f2",
   "metadata": {
    "ExecuteTime": {
     "end_time": "2022-09-07T17:46:01.335550Z",
     "start_time": "2022-09-07T17:46:01.030069Z"
    }
   },
   "outputs": [
    {
     "data": {
      "text/plain": [
       "array([[    0,     0,   923],\n",
       "       [    0,     0,   678],\n",
       "       [    0,     0, 10430]])"
      ]
     },
     "metadata": {},
     "output_type": "display_data"
    },
    {
     "name": "stdout",
     "output_type": "stream",
     "text": [
      "              precision    recall  f1-score   support\n",
      "\n",
      "           0       0.00      0.00      0.00       923\n",
      "           1       0.00      0.00      0.00       678\n",
      "           2       0.87      1.00      0.93     10430\n",
      "\n",
      "    accuracy                           0.87     12031\n",
      "   macro avg       0.29      0.33      0.31     12031\n",
      "weighted avg       0.75      0.87      0.81     12031\n",
      "\n"
     ]
    }
   ],
   "source": [
    "display(confusion_matrix(y_test, y_preds_grid))\n",
    "print(classification_report(y_test, y_preds_grid))"
   ]
  },
  {
   "cell_type": "markdown",
   "id": "15ac7516",
   "metadata": {},
   "source": [
    "### Model 4: Gradient Boosted Trees"
   ]
  },
  {
   "cell_type": "code",
   "execution_count": 301,
   "id": "f13baefe",
   "metadata": {
    "ExecuteTime": {
     "end_time": "2022-09-07T21:43:56.511482Z",
     "start_time": "2022-09-07T21:34:58.140093Z"
    }
   },
   "outputs": [
    {
     "name": "stdout",
     "output_type": "stream",
     "text": [
      "              precision    recall  f1-score   support\n",
      "\n",
      "           0       0.85      0.11      0.20      2769\n",
      "           1       0.89      0.05      0.10      1924\n",
      "           2       0.88      1.00      0.94     31399\n",
      "\n",
      "    accuracy                           0.88     36092\n",
      "   macro avg       0.87      0.39      0.41     36092\n",
      "weighted avg       0.88      0.88      0.83     36092\n",
      "\n"
     ]
    }
   ],
   "source": [
    "clf = XGBClassifier(random_state=42) ## long run time\n",
    "clf.fit(X_train_processed, y_train)\n",
    "\n",
    "y_hat_train_clf = clf.predict(X_train_processed)\n",
    "y_hat_test_clf = clf.predict(X_test_processed)\n",
    "\n",
    "print(classification_report(y_train, y_hat_train_clf))\n",
    "print(classification_report(y_test, y_hat_test_clf))"
   ]
  },
  {
   "cell_type": "code",
   "execution_count": 302,
   "id": "01f9386a",
   "metadata": {
    "ExecuteTime": {
     "end_time": "2022-09-07T21:43:57.945698Z",
     "start_time": "2022-09-07T21:43:56.713709Z"
    }
   },
   "outputs": [
    {
     "name": "stdout",
     "output_type": "stream",
     "text": [
      "              precision    recall  f1-score   support\n",
      "\n",
      "           0       0.46      0.05      0.09       923\n",
      "           1       0.25      0.01      0.02       678\n",
      "           2       0.87      0.99      0.93     10430\n",
      "\n",
      "    accuracy                           0.87     12031\n",
      "   macro avg       0.53      0.35      0.34     12031\n",
      "weighted avg       0.80      0.87      0.81     12031\n",
      "\n"
     ]
    }
   ],
   "source": [
    "y_hat_test_clf = clf.predict(X_test_processedcessedocessed)\n",
    "print(classification_report(y_test, y_hat_test_clf))"
   ]
  },
  {
   "cell_type": "code",
   "execution_count": null,
   "id": "003d3ee8",
   "metadata": {},
   "outputs": [],
   "source": [
    "## Can grid search to find ideal weights\n",
    "\n",
    "# making it two dimensional rather than 3 dimensional?\n",
    "# reducing number of categories in city / region? i.e. if less than x companies\n",
    "# in city then include in 'other' category\n",
    "# 5000 columns too many? what's a good guideline for knowing when there are\n",
    "# too many parameters\n",
    "# how much should I be feature engineering?\n",
    "\n",
    "# business problem\n",
    "# private equity company that wants to know when a startup will fail\n",
    "# want to know warning signals if project is going to go badly"
   ]
  },
  {
   "cell_type": "markdown",
   "id": "23d859b9",
   "metadata": {},
   "source": [
    "## Build Pipeline"
   ]
  },
  {
   "cell_type": "code",
   "execution_count": null,
   "id": "7babbd12",
   "metadata": {},
   "outputs": [],
   "source": [
    "# Want to create a pipeline so we can test different kinds of models \n",
    "# more easly"
   ]
  }
 ],
 "metadata": {
  "kernelspec": {
   "display_name": "Python (learn-env)",
   "language": "python",
   "name": "learn-env"
  },
  "language_info": {
   "codemirror_mode": {
    "name": "ipython",
    "version": 3
   },
   "file_extension": ".py",
   "mimetype": "text/x-python",
   "name": "python",
   "nbconvert_exporter": "python",
   "pygments_lexer": "ipython3",
   "version": "3.8.5"
  },
  "toc": {
   "base_numbering": 1,
   "nav_menu": {},
   "number_sections": true,
   "sideBar": true,
   "skip_h1_title": false,
   "title_cell": "Table of Contents",
   "title_sidebar": "Contents",
   "toc_cell": false,
   "toc_position": {},
   "toc_section_display": true,
   "toc_window_display": true
  }
 },
 "nbformat": 4,
 "nbformat_minor": 5
}
