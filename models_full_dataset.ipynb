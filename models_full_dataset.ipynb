{
 "cells": [
  {
   "cell_type": "markdown",
   "id": "d1202f2a",
   "metadata": {},
   "source": [
    "## Import Statements"
   ]
  },
  {
   "cell_type": "code",
   "execution_count": 1,
   "id": "a14983e5",
   "metadata": {
    "ExecuteTime": {
     "end_time": "2022-09-15T03:36:05.603262Z",
     "start_time": "2022-09-15T03:35:59.711940Z"
    }
   },
   "outputs": [],
   "source": [
    "import pandas as pd\n",
    "import numpy as np\n",
    "import matplotlib.pyplot as plt\n",
    "%matplotlib inline\n",
    "import seaborn as sns\n",
    "from datetime import datetime\n",
    "\n",
    "from sklearn.model_selection import train_test_split, GridSearchCV, \\\n",
    "cross_val_score\n",
    "from sklearn.impute import SimpleImputer\n",
    "from sklearn.tree import DecisionTreeClassifier\n",
    "from sklearn.neighbors import KNeighborsClassifier\n",
    "from sklearn.ensemble import RandomForestClassifier, AdaBoostClassifier, \\\n",
    "BaggingClassifier, ExtraTreesClassifier\n",
    "from sklearn.linear_model import LogisticRegression\n",
    "from sklearn.metrics import accuracy_score, f1_score, recall_score, \\\n",
    "precision_score, confusion_matrix, classification_report, roc_curve, auc, \\\n",
    "average_precision_score\n",
    "from sklearn.preprocessing import StandardScaler, LabelEncoder, \\\n",
    "MinMaxScaler, OneHotEncoder\n",
    "from sklearn.pipeline import Pipeline\n",
    "from xgboost import XGBClassifier\n",
    "from imblearn.over_sampling import SMOTE\n",
    "\n",
    "import warnings\n",
    "warnings.filterwarnings('ignore')"
   ]
  },
  {
   "cell_type": "markdown",
   "id": "6e040faa",
   "metadata": {},
   "source": [
    "## Loading Data"
   ]
  },
  {
   "cell_type": "code",
   "execution_count": 2,
   "id": "20e5525b",
   "metadata": {
    "ExecuteTime": {
     "end_time": "2022-09-15T03:41:40.064087Z",
     "start_time": "2022-09-15T03:41:39.817539Z"
    }
   },
   "outputs": [],
   "source": [
    "# load in data\n",
    "data = pd.read_csv('data/final_working_data.csv')"
   ]
  },
  {
   "cell_type": "code",
   "execution_count": 3,
   "id": "17dfabdf",
   "metadata": {
    "ExecuteTime": {
     "end_time": "2022-09-15T03:41:45.126942Z",
     "start_time": "2022-09-15T03:41:45.100739Z"
    }
   },
   "outputs": [],
   "source": [
    "# dropping columns with correlation coefficient greater than 0.7\n",
    "# see nd_project_3 notebook for more details\n",
    "data_uncorr = data.drop(columns=['round_H', 'time_first_to_last_funding'], \n",
    "\n",
    "#renaming full dataset\n",
    "data_full = data"
   ]
  },
  {
   "cell_type": "markdown",
   "id": "38229048",
   "metadata": {},
   "source": [
    "## X/Y Split"
   ]
  },
  {
   "cell_type": "code",
   "execution_count": 804,
   "id": "3877d484",
   "metadata": {
    "ExecuteTime": {
     "end_time": "2022-09-13T19:19:52.701575Z",
     "start_time": "2022-09-13T19:19:52.690133Z"
    }
   },
   "outputs": [
    {
     "data": {
      "text/plain": [
       "1893"
      ]
     },
     "execution_count": 804,
     "metadata": {},
     "output_type": "execute_result"
    }
   ],
   "source": [
    "len(data[data['status']=='closed'])"
   ]
  },
  {
   "cell_type": "code",
   "execution_count": null,
   "id": "359dce71",
   "metadata": {},
   "outputs": [],
   "source": [
    "# choosing the dataset I want to work with\n",
    "data = data_uncorr"
   ]
  },
  {
   "cell_type": "markdown",
   "id": "1eaf1f61",
   "metadata": {},
   "source": [
    "Splitting out X and Y for train-test split:"
   ]
  },
  {
   "cell_type": "code",
   "execution_count": 805,
   "id": "50a676ce",
   "metadata": {
    "ExecuteTime": {
     "end_time": "2022-09-13T19:19:58.868462Z",
     "start_time": "2022-09-13T19:19:58.838452Z"
    }
   },
   "outputs": [],
   "source": [
    "# removinglen(da irrelevant columns w/ obvious correlations, lack of insight\n",
    "X = data.drop(columns=['status', 'name', 'country_code', 'state_code', \n",
    "                       'city'], \n",
    "              axis=1)\n",
    "\n",
    "# need to drop these rows if I go with binary version\n",
    "#'round_A', 'round_B', 'round_C', 'round_D', 'round_E', 'round_F', 'round_G'\n",
    "#'undisclosed', 'angel' ,'grant', 'venture', 'equity_crowdfunding', \n",
    "# 'convertible_note', 'seed', 'private_equity', 'product_crowdfunding'\n",
    "\n",
    "encoder = LabelEncoder()\n",
    "y = pd.Series(encoder.fit_transform(data['status'])) \n",
    "# acquired is 0, closed is 1, operating is 2\n",
    "\n",
    "# binary where 0 is acquired/operating(success), 1 is closed\n",
    "y_bin = pd.Series([1 if val==1 else 0 for val in y])"
   ]
  },
  {
   "cell_type": "code",
   "execution_count": 806,
   "id": "900c845c",
   "metadata": {
    "ExecuteTime": {
     "end_time": "2022-09-13T19:20:00.624331Z",
     "start_time": "2022-09-13T19:20:00.611818Z"
    }
   },
   "outputs": [
    {
     "name": "stdout",
     "output_type": "stream",
     "text": [
      "2    0.874589\n",
      "0    0.069800\n",
      "1    0.055611\n",
      "dtype: float64\n"
     ]
    },
    {
     "data": {
      "text/plain": [
       "0    0.944389\n",
       "1    0.055611\n",
       "dtype: float64"
      ]
     },
     "execution_count": 806,
     "metadata": {},
     "output_type": "execute_result"
    }
   ],
   "source": [
    "print(y.value_counts(normalize=True))\n",
    "y_bin.value_counts(normalize=True)"
   ]
  },
  {
   "cell_type": "code",
   "execution_count": 748,
   "id": "74e6498a",
   "metadata": {
    "ExecuteTime": {
     "end_time": "2022-09-13T19:02:22.427852Z",
     "start_time": "2022-09-13T19:02:22.417813Z"
    }
   },
   "outputs": [
    {
     "data": {
      "text/plain": [
       "market                    object\n",
       "region                    object\n",
       "funding_rounds           float64\n",
       "founded_month              int64\n",
       "founded_year               int64\n",
       "seed                     float64\n",
       "venture                  float64\n",
       "equity_crowdfunding      float64\n",
       "undisclosed              float64\n",
       "convertible_note         float64\n",
       "debt_financing           float64\n",
       "angel                    float64\n",
       "grant                    float64\n",
       "private_equity           float64\n",
       "product_crowdfunding     float64\n",
       "round_A                  float64\n",
       "round_B                  float64\n",
       "round_C                  float64\n",
       "round_D                  float64\n",
       "round_E                  float64\n",
       "round_F                  float64\n",
       "round_G                  float64\n",
       "international              int64\n",
       "time_to_first_funding    float64\n",
       "dtype: object"
      ]
     },
     "execution_count": 748,
     "metadata": {},
     "output_type": "execute_result"
    }
   ],
   "source": [
    "X.dtypes"
   ]
  },
  {
   "cell_type": "code",
   "execution_count": 807,
   "id": "450ca097",
   "metadata": {
    "ExecuteTime": {
     "end_time": "2022-09-13T19:20:05.602174Z",
     "start_time": "2022-09-13T19:20:05.570029Z"
    }
   },
   "outputs": [
    {
     "data": {
      "text/plain": [
       "market                    object\n",
       "funding_total_usd        float64\n",
       "region                    object\n",
       "funding_rounds           float64\n",
       "founded_month            float64\n",
       "founded_year             float64\n",
       "seed                     float64\n",
       "venture                  float64\n",
       "equity_crowdfunding      float64\n",
       "undisclosed              float64\n",
       "convertible_note         float64\n",
       "debt_financing           float64\n",
       "angel                    float64\n",
       "grant                    float64\n",
       "private_equity           float64\n",
       "product_crowdfunding     float64\n",
       "round_A                  float64\n",
       "round_B                  float64\n",
       "round_C                  float64\n",
       "round_D                  float64\n",
       "round_E                  float64\n",
       "round_F                  float64\n",
       "round_G                  float64\n",
       "international              int64\n",
       "time_to_first_funding    float64\n",
       "dtype: object"
      ]
     },
     "execution_count": 807,
     "metadata": {},
     "output_type": "execute_result"
    }
   ],
   "source": [
    "# Transforming founded_year to float for one hot encoding\n",
    "X['founded_year'] = [float(x) for x in X['founded_year']]\n",
    "X['founded_month'] = [float(x) for x in X['founded_month']]\n",
    "X.dtypes"
   ]
  },
  {
   "cell_type": "markdown",
   "id": "1edb40c8",
   "metadata": {},
   "source": [
    "### Feature Reduction - Market, Region"
   ]
  },
  {
   "cell_type": "code",
   "execution_count": 808,
   "id": "dd438b53",
   "metadata": {
    "ExecuteTime": {
     "end_time": "2022-09-13T19:20:10.464968Z",
     "start_time": "2022-09-13T19:20:10.451809Z"
    }
   },
   "outputs": [
    {
     "data": {
      "text/plain": [
       "50"
      ]
     },
     "execution_count": 808,
     "metadata": {},
     "output_type": "execute_result"
    }
   ],
   "source": [
    "sum(X['market'].value_counts() >= 100)"
   ]
  },
  {
   "cell_type": "code",
   "execution_count": 809,
   "id": "086d6c83",
   "metadata": {
    "ExecuteTime": {
     "end_time": "2022-09-13T19:20:11.556756Z",
     "start_time": "2022-09-13T19:20:11.518203Z"
    }
   },
   "outputs": [
    {
     "data": {
      "text/plain": [
       "other                   10318\n",
       "Software                 3138\n",
       "Biotechnology            2014\n",
       "Mobile                   1465\n",
       "E-Commerce               1308\n",
       "Curated Web              1257\n",
       "Enterprise Software       911\n",
       "Games                     832\n",
       "Advertising               804\n",
       "Health Care               742\n",
       "Social Media              702\n",
       "Hardware + Software       685\n",
       "Clean Technology          660\n",
       "Education                 596\n",
       "Finance                   592\n",
       "Health and Wellness       555\n",
       "Analytics                 482\n",
       "Manufacturing             408\n",
       "Security                  348\n",
       "Hospitality               330\n",
       "Real Estate               318\n",
       "Consulting                305\n",
       "Fashion                   301\n",
       "Semiconductors            294\n",
       "Travel                    277\n",
       "News                      276\n",
       "Web Hosting               251\n",
       "SaaS                      227\n",
       "Search                    220\n",
       "Messaging                 212\n",
       "Music                     211\n",
       "Sports                    209\n",
       "Internet                  199\n",
       "Medical                   198\n",
       "Apps                      195\n",
       "Entertainment             194\n",
       "Technology                186\n",
       "Marketplaces              185\n",
       "Photography               184\n",
       "Video                     179\n",
       "Networking                161\n",
       "Social Network Media      151\n",
       "Automotive                132\n",
       "Transportation            128\n",
       "Big Data                  128\n",
       "Startups                  125\n",
       "Cloud Computing           122\n",
       "Public Relations          115\n",
       "Design                    109\n",
       "Sales and Marketing       101\n",
       "Name: market, dtype: int64"
      ]
     },
     "execution_count": 809,
     "metadata": {},
     "output_type": "execute_result"
    }
   ],
   "source": [
    "X['market'][X['market'].map(X['market'].value_counts()) < 100] = 'other'\n",
    "X['market'].value_counts()"
   ]
  },
  {
   "cell_type": "code",
   "execution_count": 811,
   "id": "1c5340ac",
   "metadata": {
    "ExecuteTime": {
     "end_time": "2022-09-13T19:20:17.276280Z",
     "start_time": "2022-09-13T19:20:17.264939Z"
    }
   },
   "outputs": [
    {
     "data": {
      "text/plain": [
       "11"
      ]
     },
     "execution_count": 811,
     "metadata": {},
     "output_type": "execute_result"
    }
   ],
   "source": [
    "sum(X['region'].value_counts() > 450) # top 10 regions"
   ]
  },
  {
   "cell_type": "code",
   "execution_count": 812,
   "id": "8260e496",
   "metadata": {
    "ExecuteTime": {
     "end_time": "2022-09-13T19:20:18.345913Z",
     "start_time": "2022-09-13T19:20:18.324910Z"
    }
   },
   "outputs": [
    {
     "data": {
      "text/plain": [
       "other               19618\n",
       "SF Bay Area          5289\n",
       "New York City        2089\n",
       "Boston               1267\n",
       "London               1202\n",
       "Los Angeles          1050\n",
       "Seattle               687\n",
       "Washington, D.C.      532\n",
       "Chicago               526\n",
       "Denver                462\n",
       "Austin                460\n",
       "San Diego             435\n",
       "Tel Aviv              423\n",
       "Name: region, dtype: int64"
      ]
     },
     "execution_count": 812,
     "metadata": {},
     "output_type": "execute_result"
    }
   ],
   "source": [
    "X['region'][X['region'].map(X['region'].value_counts()) <= 420] = 'other'\n",
    "# combine na and low dens for 'other' category\n",
    "X['region'].value_counts()"
   ]
  },
  {
   "cell_type": "markdown",
   "id": "5c0b497a",
   "metadata": {},
   "source": [
    "## Train Test Split - Function"
   ]
  },
  {
   "cell_type": "code",
   "execution_count": 1,
   "id": "35f5fdf8",
   "metadata": {
    "ExecuteTime": {
     "end_time": "2022-09-15T02:11:08.228703Z",
     "start_time": "2022-09-15T02:11:08.209528Z"
    }
   },
   "outputs": [],
   "source": [
    "def train_test_preprocess(X, y):\n",
    "    X_train, X_test, y_train, y_test = train_test_split(X, y, random_state=42)\n",
    "    \n",
    "    # check that there are the same number of rows in X as values in y\n",
    "    assert X_train.shape[0] == y_train.shape[0]\n",
    "    \n",
    "    # Categorizing features in preparation for scaling / encoding\n",
    "    X_train_cat_eng = X_train.select_dtypes(include=['int64']).reset_index(drop=True)\n",
    "    X_test_cat_eng = X_test.select_dtypes(include=['int64']).reset_index(drop=True)\n",
    "\n",
    "    X_train_cont = X_train.select_dtypes(exclude=['object','int64']).reset_index(drop=True)\n",
    "    X_test_cont = X_test.select_dtypes(exclude=['object','int64']).reset_index(drop=True)\n",
    "\n",
    "    cat_columns = ['market', 'region']\n",
    "    cat_train = X_train[cat_columns].reset_index(drop=True)\n",
    "    cat_test = X_test[cat_columns].reset_index(drop=True)\n",
    "\n",
    "    # Scale continuous variables using Min Max Scaler:\n",
    "    scaler = MinMaxScaler() # instantiate MinMaxScaler\n",
    "\n",
    "    ## TRAIN\n",
    "    # Fit and transform X_train\n",
    "    X_train_cont_scaled = scaler.fit_transform(X_train_cont)\n",
    "    X_train_cont_scaled = pd.DataFrame(X_train_cont_scaled, columns=X_train_cont.columns)\n",
    "\n",
    "    # One hot encode categoricals\n",
    "    ohe = OneHotEncoder(handle_unknown = 'ignore')\n",
    "    encoded_train = ohe.fit_transform(cat_train).toarray()\n",
    "    X_train_cat = pd.DataFrame(encoded_train, columns=ohe.get_feature_names(cat_train.columns))\n",
    "\n",
    "    # Putting it all together:\n",
    "    X_train_processed = pd.concat([X_train_cat, X_train_cont, X_train_cat_eng], axis=1)\n",
    "    X_train_scaled = pd.concat([X_train_cat, X_train_cont_scaled, X_train_cat_eng], axis=1) \n",
    "\n",
    "    ## TEST\n",
    "    # Scale continuous features\n",
    "    X_test_cont_scaled = scaler.transform(X_test_cont)\n",
    "    X_test_cont_scaled = pd.DataFrame(X_test_cont_scaled, columns=X_test_cont.columns)\n",
    "\n",
    "    # One hot encoding categoricals\n",
    "    encoded_test = ohe.transform(cat_test).toarray()\n",
    "    X_test_cat = pd.DataFrame(encoded_test, columns=ohe.get_feature_names(cat_test.columns))\n",
    "\n",
    "    # Putting it all together\n",
    "    X_test_scaled = pd.concat([X_test_cat, X_test_cont_scaled, X_test_cat_eng], axis=1)\n",
    "    X_test_processed = pd.concat([X_test_cat, X_test_cont, X_test_cat_eng], axis=1)\n",
    "    \n",
    "    return X_train_processed, X_train_scaled, X_test_processed, X_test_scaled, y_train, y_test"
   ]
  },
  {
   "cell_type": "code",
   "execution_count": 2,
   "id": "2090c3c2",
   "metadata": {
    "ExecuteTime": {
     "end_time": "2022-09-15T02:11:35.929667Z",
     "start_time": "2022-09-15T02:11:35.745478Z"
    }
   },
   "outputs": [
    {
     "ename": "NameError",
     "evalue": "name 'X' is not defined",
     "output_type": "error",
     "traceback": [
      "\u001b[0;31m---------------------------------------------------------------------------\u001b[0m",
      "\u001b[0;31mNameError\u001b[0m                                 Traceback (most recent call last)",
      "\u001b[0;32m<ipython-input-2-f03d0c1944c0>\u001b[0m in \u001b[0;36m<module>\u001b[0;34m\u001b[0m\n\u001b[1;32m      1\u001b[0m \u001b[0mX_train_processed\u001b[0m\u001b[0;34m,\u001b[0m \u001b[0mX_train_scaled\u001b[0m\u001b[0;34m,\u001b[0m \u001b[0mX_test_processed\u001b[0m\u001b[0;34m,\u001b[0m \u001b[0mX_test_scaled\u001b[0m\u001b[0;34m,\u001b[0m\u001b[0;31m \u001b[0m\u001b[0;31m\\\u001b[0m\u001b[0;34m\u001b[0m\u001b[0;34m\u001b[0m\u001b[0m\n\u001b[0;32m----> 2\u001b[0;31m \u001b[0my_train\u001b[0m\u001b[0;34m,\u001b[0m \u001b[0my_test\u001b[0m \u001b[0;34m=\u001b[0m \u001b[0mtrain_test_preprocess\u001b[0m\u001b[0;34m(\u001b[0m\u001b[0mX\u001b[0m\u001b[0;34m,\u001b[0m \u001b[0my\u001b[0m\u001b[0;34m)\u001b[0m\u001b[0;34m\u001b[0m\u001b[0;34m\u001b[0m\u001b[0m\n\u001b[0m",
      "\u001b[0;31mNameError\u001b[0m: name 'X' is not defined"
     ]
    }
   ],
   "source": [
    "X_train_processed, X_train_scaled, X_test_processed, X_test_scaled, \\\n",
    "y_train, y_test = train_test_preprocess(X, y)"
   ]
  },
  {
   "cell_type": "code",
   "execution_count": null,
   "id": "57df4d8f",
   "metadata": {},
   "outputs": [],
   "source": [
    "print(f\"X_train is a DataFrame with {X_train.shape[0]} rows and \\\n",
    "      {X_train.shape[1]} columns\")\n",
    "print(f\"y_train is a Series with {y_train.shape[0]} values\")\n",
    "\n",
    "print(\"There are {} features in train set\".format(len(X_train_processed.columns)))\n",
    "print(\"There are {} features in test set\".format(len(X_test_processed.columns)))\n",
    "\n",
    "print(\"There are {} features in train set (scaled)\".format(len(X_train_scaled.columns)))\n",
    "print(\"There are {} features in test set (scaled)\".format(len(X_test_scaled.columns)))\n",
    "\n",
    "print(\"target breakdown: \", y_train.value_counts(normalize=True))\n",
    "\n",
    "display(X_train_processed.head())\n",
    "display(X_train_scaled.head())"
   ]
  },
  {
   "cell_type": "code",
   "execution_count": 937,
   "id": "f1b09ad9",
   "metadata": {
    "ExecuteTime": {
     "end_time": "2022-09-13T20:36:06.559412Z",
     "start_time": "2022-09-13T20:36:06.438568Z"
    }
   },
   "outputs": [
    {
     "data": {
      "text/html": [
       "<div>\n",
       "<style scoped>\n",
       "    .dataframe tbody tr th:only-of-type {\n",
       "        vertical-align: middle;\n",
       "    }\n",
       "\n",
       "    .dataframe tbody tr th {\n",
       "        vertical-align: top;\n",
       "    }\n",
       "\n",
       "    .dataframe thead th {\n",
       "        text-align: right;\n",
       "    }\n",
       "</style>\n",
       "<table border=\"1\" class=\"dataframe\">\n",
       "  <thead>\n",
       "    <tr style=\"text-align: right;\">\n",
       "      <th></th>\n",
       "      <th>cc</th>\n",
       "    </tr>\n",
       "    <tr>\n",
       "      <th>pairs</th>\n",
       "      <th></th>\n",
       "    </tr>\n",
       "  </thead>\n",
       "  <tbody>\n",
       "    <tr>\n",
       "      <th>(round_E, round_F)</th>\n",
       "      <td>0.734840</td>\n",
       "    </tr>\n",
       "    <tr>\n",
       "      <th>(round_F, debt_financing)</th>\n",
       "      <td>0.721803</td>\n",
       "    </tr>\n",
       "    <tr>\n",
       "      <th>(venture, round_B)</th>\n",
       "      <td>0.710362</td>\n",
       "    </tr>\n",
       "    <tr>\n",
       "      <th>(venture, round_C)</th>\n",
       "      <td>0.672736</td>\n",
       "    </tr>\n",
       "    <tr>\n",
       "      <th>(founded_year, time_to_first_funding)</th>\n",
       "      <td>0.640687</td>\n",
       "    </tr>\n",
       "    <tr>\n",
       "      <th>(round_E, debt_financing)</th>\n",
       "      <td>0.598267</td>\n",
       "    </tr>\n",
       "    <tr>\n",
       "      <th>(international, region_other)</th>\n",
       "      <td>0.578850</td>\n",
       "    </tr>\n",
       "    <tr>\n",
       "      <th>(round_D, venture)</th>\n",
       "      <td>0.542664</td>\n",
       "    </tr>\n",
       "    <tr>\n",
       "      <th>(round_A, round_B)</th>\n",
       "      <td>0.541239</td>\n",
       "    </tr>\n",
       "    <tr>\n",
       "      <th>(debt_financing, private_equity)</th>\n",
       "      <td>0.536710</td>\n",
       "    </tr>\n",
       "    <tr>\n",
       "      <th>(region_SF Bay Area, region_other)</th>\n",
       "      <td>0.527065</td>\n",
       "    </tr>\n",
       "    <tr>\n",
       "      <th>(round_A, venture)</th>\n",
       "      <td>0.526738</td>\n",
       "    </tr>\n",
       "  </tbody>\n",
       "</table>\n",
       "</div>"
      ],
      "text/plain": [
       "                                             cc\n",
       "pairs                                          \n",
       "(round_E, round_F)                     0.734840\n",
       "(round_F, debt_financing)              0.721803\n",
       "(venture, round_B)                     0.710362\n",
       "(venture, round_C)                     0.672736\n",
       "(founded_year, time_to_first_funding)  0.640687\n",
       "(round_E, debt_financing)              0.598267\n",
       "(international, region_other)          0.578850\n",
       "(round_D, venture)                     0.542664\n",
       "(round_A, round_B)                     0.541239\n",
       "(debt_financing, private_equity)       0.536710\n",
       "(region_SF Bay Area, region_other)     0.527065\n",
       "(round_A, venture)                     0.526738"
      ]
     },
     "execution_count": 937,
     "metadata": {},
     "output_type": "execute_result"
    }
   ],
   "source": [
    "# correlation check\n",
    "df_corr=X_train_processed.corr()\n",
    "\n",
    "df = df_corr.abs().stack().reset_index().sort_values(0, ascending=False)\n",
    "df['pairs'] = list(zip(df.level_0, df.level_1))\n",
    "df.set_index(['pairs'], inplace = True)\n",
    "df.drop(columns=['level_1', 'level_0'], inplace = True)\n",
    "\n",
    "# cc for correlation coefficient\n",
    "df.columns = ['cc']\n",
    "df.drop_duplicates(inplace=True)\n",
    "\n",
    "df[(df.cc>.5) & (df.cc<1)]"
   ]
  },
  {
   "cell_type": "markdown",
   "id": "17cb6938",
   "metadata": {},
   "source": [
    "## Baseline Model"
   ]
  },
  {
   "cell_type": "code",
   "execution_count": 2,
   "id": "569ab301",
   "metadata": {
    "ExecuteTime": {
     "end_time": "2022-09-15T02:11:35.929667Z",
     "start_time": "2022-09-15T02:11:35.745478Z"
    },
    "scrolled": true
   },
   "outputs": [
    {
     "ename": "NameError",
     "evalue": "name 'X' is not defined",
     "output_type": "error",
     "traceback": [
      "\u001b[0;31m---------------------------------------------------------------------------\u001b[0m",
      "\u001b[0;31mNameError\u001b[0m                                 Traceback (most recent call last)",
      "\u001b[0;32m<ipython-input-2-f03d0c1944c0>\u001b[0m in \u001b[0;36m<module>\u001b[0;34m\u001b[0m\n\u001b[1;32m      1\u001b[0m \u001b[0mX_train_processed\u001b[0m\u001b[0;34m,\u001b[0m \u001b[0mX_train_scaled\u001b[0m\u001b[0;34m,\u001b[0m \u001b[0mX_test_processed\u001b[0m\u001b[0;34m,\u001b[0m \u001b[0mX_test_scaled\u001b[0m\u001b[0;34m,\u001b[0m\u001b[0;31m \u001b[0m\u001b[0;31m\\\u001b[0m\u001b[0;34m\u001b[0m\u001b[0;34m\u001b[0m\u001b[0m\n\u001b[0;32m----> 2\u001b[0;31m \u001b[0my_train\u001b[0m\u001b[0;34m,\u001b[0m \u001b[0my_test\u001b[0m \u001b[0;34m=\u001b[0m \u001b[0mtrain_test_preprocess\u001b[0m\u001b[0;34m(\u001b[0m\u001b[0mX\u001b[0m\u001b[0;34m,\u001b[0m \u001b[0my\u001b[0m\u001b[0;34m)\u001b[0m\u001b[0;34m\u001b[0m\u001b[0;34m\u001b[0m\u001b[0m\n\u001b[0m",
      "\u001b[0;31mNameError\u001b[0m: name 'X' is not defined"
     ]
    }
   ],
   "source": [
    "X_train_processed, X_train_scaled, X_test_processed, X_test_scaled, \\\n",
    "y_train, y_test = train_test_preprocess(X, y)"
   ]
  },
  {
   "cell_type": "markdown",
   "id": "43666e14",
   "metadata": {},
   "source": [
    "Logistic regression:"
   ]
  },
  {
   "cell_type": "code",
   "execution_count": 902,
   "id": "3681a1df",
   "metadata": {
    "ExecuteTime": {
     "end_time": "2022-09-13T20:17:26.171664Z",
     "start_time": "2022-09-13T20:17:24.762314Z"
    }
   },
   "outputs": [
    {
     "data": {
      "text/plain": [
       "LogisticRegression(class_weight='balanced', random_state=42)"
      ]
     },
     "execution_count": 902,
     "metadata": {},
     "output_type": "execute_result"
    }
   ],
   "source": [
    "baseline_model = LogisticRegression(random_state=42, class_weight='balanced')\n",
    "baseline_model.fit(X_train_scaled, y_train)"
   ]
  },
  {
   "cell_type": "code",
   "execution_count": 903,
   "id": "754a77b7",
   "metadata": {
    "ExecuteTime": {
     "end_time": "2022-09-13T20:17:26.853528Z",
     "start_time": "2022-09-13T20:17:26.821755Z"
    }
   },
   "outputs": [],
   "source": [
    "y_hat_train = baseline_model.predict(X_train_scaled)\n",
    "y_hat_test = baseline_model.predict(X_test_scaled)"
   ]
  },
  {
   "cell_type": "code",
   "execution_count": 904,
   "id": "cf9a14b7",
   "metadata": {
    "ExecuteTime": {
     "end_time": "2022-09-13T20:17:27.792782Z",
     "start_time": "2022-09-13T20:17:27.733461Z"
    }
   },
   "outputs": [
    {
     "name": "stdout",
     "output_type": "stream",
     "text": [
      "              precision    recall  f1-score   support\n",
      "\n",
      "           0       0.98      0.76      0.85     24123\n",
      "           1       0.15      0.76      0.26      1407\n",
      "\n",
      "    accuracy                           0.76     25530\n",
      "   macro avg       0.57      0.76      0.56     25530\n",
      "weighted avg       0.94      0.76      0.82     25530\n",
      "\n",
      "              precision    recall  f1-score   support\n",
      "\n",
      "           0       0.98      0.75      0.85      8024\n",
      "           1       0.15      0.73      0.25       486\n",
      "\n",
      "    accuracy                           0.75      8510\n",
      "   macro avg       0.56      0.74      0.55      8510\n",
      "weighted avg       0.93      0.75      0.81      8510\n",
      "\n"
     ]
    }
   ],
   "source": [
    "print(classification_report(y_train, y_hat_train))\n",
    "print(classification_report(y_test, y_hat_test))"
   ]
  },
  {
   "cell_type": "code",
   "execution_count": 826,
   "id": "972ab87e",
   "metadata": {
    "ExecuteTime": {
     "end_time": "2022-09-13T19:21:02.870190Z",
     "start_time": "2022-09-13T19:21:02.859621Z"
    }
   },
   "outputs": [],
   "source": [
    "coef_df = pd.DataFrame(baseline_model.coef_, columns=X_train_scaled.columns)\n",
    "coef_df.to_csv('coef_logreg_base.csv')"
   ]
  },
  {
   "cell_type": "markdown",
   "id": "9671857b",
   "metadata": {},
   "source": [
    "#### Function to Print Scores"
   ]
  },
  {
   "cell_type": "code",
   "execution_count": 81,
   "id": "e26ce93b",
   "metadata": {
    "ExecuteTime": {
     "end_time": "2022-09-15T03:01:52.183818Z",
     "start_time": "2022-09-15T03:01:52.170857Z"
    }
   },
   "outputs": [],
   "source": [
    "def print_scores(y_train, y_hat_train, y_test, y_hat_test, binary=True):\n",
    "    if binary:\n",
    "        print('Training Recall: ', \n",
    "              recall_score(y_train, y_hat_train))\n",
    "        print('Testing Recall: ', \n",
    "              recall_score(y_test, y_hat_test))\n",
    "        print('\\n')\n",
    "        print('Training F1: ', \n",
    "              f1_score(y_train, y_hat_train))\n",
    "        print('Testing F1: ', \n",
    "              f1_score(y_test, y_hat_test))\n",
    "        print('\\n')\n",
    "        false_positive_rate, true_positive_rate, thresholds = \\\n",
    "        roc_curve(y_test, y_hat_test)\n",
    "        roc_auc = auc(false_positive_rate, true_positive_rate)\n",
    "        print('ROC AUC: ', roc_auc)\n",
    "        print('PR AUC: ', average_precision_score(y_test, y_hat_test))\n",
    "        print('\\n')\n",
    "        \n",
    "    else:\n",
    "        print('Training Recall (weighted avg): ', \n",
    "              recall_score(y_train, y_hat_train, average='weighted'))\n",
    "        print('Testing Recall (weighted avg): ', \n",
    "              recall_score(y_test, y_hat_test, average='weighted'))\n",
    "        print('\\n')\n",
    "        print('Training Recall (macro avg): ', \n",
    "              recall_score(y_train, y_hat_train, average='macro'))\n",
    "        print('Testing Recall (macro avg): ', \n",
    "              recall_score(y_test, y_hat_test, average='macro'))\n",
    "        print('\\n')\n",
    "        print('Training F1-Score (weighted avg): ', \n",
    "              f1_score(y_train, y_hat_train, average='weighted'))\n",
    "        print('Testing F1-Score (weighted avg): ', \n",
    "              f1_score(y_test, y_hat_test, average='weighted'))\n",
    "        print('\\n')\n",
    "        print('Training F1-Score (macro avg): ', \n",
    "              f1_score(y_train, y_hat_train, average='macro'))\n",
    "        print('Testing F1-Score (macro avg): ', \n",
    "              f1_score(y_test, y_hat_test, average='macro'))\n",
    "        print('\\n')\n",
    "        print('Testing Recall (failure class): ', \n",
    "              recall_score(y_test, y_hat_test, average=None, labels=[1]))\n",
    "        print('\\n')\n",
    "    \n",
    "    print('Training Accuracy: ', accuracy_score(y_train, y_hat_train))\n",
    "    print('Testing Accuracy: ', accuracy_score(y_test, y_hat_test))"
   ]
  },
  {
   "cell_type": "code",
   "execution_count": 907,
   "id": "791d533a",
   "metadata": {
    "ExecuteTime": {
     "end_time": "2022-09-13T20:17:44.700985Z",
     "start_time": "2022-09-13T20:17:44.649118Z"
    }
   },
   "outputs": [
    {
     "name": "stdout",
     "output_type": "stream",
     "text": [
      "Training Recall:  0.7604832977967306\n",
      "Testing Recall:  0.7304526748971193\n",
      "\n",
      "\n",
      "Training F1:  0.255827854154214\n",
      "Testing F1:  0.24938531787846854\n",
      "\n",
      "\n",
      "PR AUC:  0.12522453109693021\n",
      "\n",
      "\n",
      "Training Accuracy:  0.7561692126909518\n",
      "Testing Accuracy:  0.7488836662749706\n"
     ]
    }
   ],
   "source": [
    "print_scores(y_train, y_hat_train, y_test, y_hat_test)"
   ]
  },
  {
   "cell_type": "markdown",
   "id": "893e14f8",
   "metadata": {},
   "source": [
    "#### Function to Return Scores - Binary"
   ]
  },
  {
   "cell_type": "code",
   "execution_count": 82,
   "id": "9821837f",
   "metadata": {
    "ExecuteTime": {
     "end_time": "2022-09-15T03:01:54.639609Z",
     "start_time": "2022-09-15T03:01:54.632344Z"
    }
   },
   "outputs": [],
   "source": [
    "def return_scores(y_train, y_hat_train, y_test, y_hat_test):\n",
    "    r_train = recall_score(y_train, y_hat_train)\n",
    "    r_test = recall_score(y_test, y_hat_test)\n",
    "         \n",
    "    f1_train = f1_score(y_train, y_hat_train)\n",
    "    f1_test = f1_score(y_test, y_hat_test)\n",
    "\n",
    "    false_positive_rate, true_positive_rate, thresholds = roc_curve(y_test, y_hat_test)\n",
    "    roc_auc = auc(false_positive_rate, true_positive_rate)\n",
    "    \n",
    "    pr_auc = average_precision_score(y_test, y_hat_test)\n",
    "    \n",
    "    ac_train = accuracy_score(y_train, y_hat_train)\n",
    "    ac_test = accuracy_score(y_test, y_hat_test)\n",
    "    \n",
    "    return r_train, r_test, f1_train, f1_test, ac_train, ac_test, roc_auc, pr_auc"
   ]
  },
  {
   "cell_type": "markdown",
   "id": "58e6fa8e",
   "metadata": {},
   "source": [
    "## Other Models"
   ]
  },
  {
   "cell_type": "markdown",
   "id": "0314d810",
   "metadata": {},
   "source": [
    "### Logistic Regression"
   ]
  },
  {
   "cell_type": "code",
   "execution_count": null,
   "id": "12159335",
   "metadata": {},
   "outputs": [],
   "source": [
    "# Grid search on baseline for hyperparameter tuning"
   ]
  },
  {
   "cell_type": "code",
   "execution_count": 769,
   "id": "7dac9ef5",
   "metadata": {
    "ExecuteTime": {
     "end_time": "2022-09-13T19:04:25.300227Z",
     "start_time": "2022-09-13T19:04:25.291877Z"
    }
   },
   "outputs": [],
   "source": [
    "param_grid = {'penalty':['l1', 'l2', None],\n",
    "              'solver':['lbfgs', 'newton-cg', 'sag'],\n",
    "              'C': [1.0, 1e12],\n",
    "             }"
   ]
  },
  {
   "cell_type": "code",
   "execution_count": 770,
   "id": "cdbaffe5",
   "metadata": {
    "ExecuteTime": {
     "end_time": "2022-09-13T19:06:48.720519Z",
     "start_time": "2022-09-13T19:04:36.023929Z"
    }
   },
   "outputs": [
    {
     "data": {
      "text/plain": [
       "GridSearchCV(cv=5,\n",
       "             estimator=LogisticRegression(class_weight='balanced',\n",
       "                                          random_state=42),\n",
       "             param_grid={'C': [1.0, 1000000000000.0],\n",
       "                         'penalty': ['l1', 'l2', None],\n",
       "                         'solver': ['lbfgs', 'newton-cg', 'sag']},\n",
       "             scoring='average_precision')"
      ]
     },
     "execution_count": 770,
     "metadata": {},
     "output_type": "execute_result"
    }
   ],
   "source": [
    "# 3min runtime\n",
    "grid_logreg = GridSearchCV(baseline_model, param_grid, cv = 5, \n",
    "                           scoring='average_precision') # macro or weighted\n",
    "grid_logreg.fit(X_train_scaled, y_train)"
   ]
  },
  {
   "cell_type": "code",
   "execution_count": 771,
   "id": "f0098863",
   "metadata": {
    "ExecuteTime": {
     "end_time": "2022-09-13T19:08:22.041364Z",
     "start_time": "2022-09-13T19:08:22.034090Z"
    }
   },
   "outputs": [
    {
     "data": {
      "text/plain": [
       "{'C': 1000000000000.0, 'penalty': 'l2', 'solver': 'newton-cg'}"
      ]
     },
     "execution_count": 771,
     "metadata": {},
     "output_type": "execute_result"
    }
   ],
   "source": [
    "grid_logreg.best_params_ # recall, f1 same params"
   ]
  },
  {
   "cell_type": "code",
   "execution_count": 772,
   "id": "9ace3025",
   "metadata": {
    "ExecuteTime": {
     "end_time": "2022-09-13T19:08:29.848010Z",
     "start_time": "2022-09-13T19:08:29.801766Z"
    }
   },
   "outputs": [
    {
     "name": "stdout",
     "output_type": "stream",
     "text": [
      "              precision    recall  f1-score   support\n",
      "\n",
      "           0       0.98      0.76      0.85      7552\n",
      "           1       0.15      0.73      0.25       446\n",
      "\n",
      "    accuracy                           0.75      7998\n",
      "   macro avg       0.56      0.74      0.55      7998\n",
      "weighted avg       0.93      0.75      0.82      7998\n",
      "\n"
     ]
    },
    {
     "data": {
      "text/plain": [
       "0.1246618252661721"
      ]
     },
     "execution_count": 772,
     "metadata": {},
     "output_type": "execute_result"
    }
   ],
   "source": [
    "y_preds_grid_lr = grid_logreg.predict(X_test_scaled)\n",
    "print(classification_report(y_test, y_preds_grid_lr))\n",
    "average_precision_score(y_test, y_preds_grid_lr)"
   ]
  },
  {
   "cell_type": "code",
   "execution_count": 908,
   "id": "8b4e9719",
   "metadata": {
    "ExecuteTime": {
     "end_time": "2022-09-13T20:17:57.181304Z",
     "start_time": "2022-09-13T20:17:56.441518Z"
    }
   },
   "outputs": [
    {
     "name": "stdout",
     "output_type": "stream",
     "text": [
      "Training Recall:  0.7746979388770433\n",
      "Testing Recall:  0.7407407407407407\n",
      "\n",
      "\n",
      "Training F1:  0.2587537091988131\n",
      "Testing F1:  0.2527202527202527\n",
      "\n",
      "\n",
      "PR AUC:  0.1276570062122694\n",
      "\n",
      "\n",
      "Training Accuracy:  0.7553858206032119\n",
      "Testing Accuracy:  0.7498237367802585\n",
      "              precision    recall  f1-score   support\n",
      "\n",
      "           0       0.98      0.75      0.85     24123\n",
      "           1       0.16      0.77      0.26      1407\n",
      "\n",
      "    accuracy                           0.76     25530\n",
      "   macro avg       0.57      0.76      0.56     25530\n",
      "weighted avg       0.94      0.76      0.82     25530\n",
      "\n",
      "              precision    recall  f1-score   support\n",
      "\n",
      "           0       0.98      0.75      0.85      8024\n",
      "           1       0.15      0.74      0.25       486\n",
      "\n",
      "    accuracy                           0.75      8510\n",
      "   macro avg       0.57      0.75      0.55      8510\n",
      "weighted avg       0.93      0.75      0.82      8510\n",
      "\n"
     ]
    }
   ],
   "source": [
    "# best logreg\n",
    "logreg_best = LogisticRegression(random_state=42, class_weight='balanced', \n",
    "                                 C=1e12,  penalty='l2')\n",
    "logreg_best.fit(X_train_scaled, y_train)\n",
    "\n",
    "y_hat_train_2 = logreg_best.predict(X_train_scaled)\n",
    "y_hat_test_2 = logreg_best.predict(X_test_scaled)\n",
    "\n",
    "print_scores(y_train, y_hat_train_2, y_test, y_hat_test_2)\n",
    "print(classification_report(y_test, y_hat_test_2))"
   ]
  },
  {
   "cell_type": "code",
   "execution_count": 775,
   "id": "db050239",
   "metadata": {
    "ExecuteTime": {
     "end_time": "2022-09-13T19:09:35.329817Z",
     "start_time": "2022-09-13T19:09:35.320310Z"
    }
   },
   "outputs": [],
   "source": [
    "coef_df = pd.DataFrame(logreg_best.coef_, columns=X_train_scaled.columns)\n",
    "coef_df.to_csv('coef_logreg_best.csv')"
   ]
  },
  {
   "cell_type": "code",
   "execution_count": 830,
   "id": "2fa53548",
   "metadata": {
    "ExecuteTime": {
     "end_time": "2022-09-13T19:22:37.086694Z",
     "start_time": "2022-09-13T19:22:36.864789Z"
    }
   },
   "outputs": [
    {
     "data": {
      "image/png": "[encoded data removed]",
      "text/plain": [
       "<Figure size 360x360 with 2 Axes>"
      ]
     },
     "metadata": {
      "needs_background": "light"
     },
     "output_type": "display_data"
    }
   ],
   "source": [
    "# visualizing predictions\n",
    "conf_matrix = confusion_matrix(y_test, y_hat_test_2)\n",
    "\n",
    "fig, ax = plt.subplots(figsize=(5,5))\n",
    "\n",
    "ax = sns.heatmap(conf_matrix, annot=True, cmap='Greens', fmt='d')\n",
    "\n",
    "ax.set_title('Logistic Regression Model Confusion Matrix', fontsize=16);\n",
    "ax.set_xlabel('Predicted Values',fontsize=13)\n",
    "ax.set_ylabel('Actual Values ', fontsize=13);\n",
    "\n",
    "## Ticket labels - List must be in alphabetical order\n",
    "ax.xaxis.set_ticklabels(['Succeeded','Failed'])\n",
    "ax.yaxis.set_ticklabels(['Succeeded','Failed'])\n",
    "\n",
    "## Display the visualization of the Confusion Matrix.\n",
    "plt.show()"
   ]
  },
  {
   "cell_type": "markdown",
   "id": "360e5aab",
   "metadata": {},
   "source": [
    "### Random Forest"
   ]
  },
  {
   "cell_type": "code",
   "execution_count": 831,
   "id": "960c9bd1",
   "metadata": {
    "ExecuteTime": {
     "end_time": "2022-09-13T19:22:54.313601Z",
     "start_time": "2022-09-13T19:22:53.022029Z"
    }
   },
   "outputs": [
    {
     "name": "stdout",
     "output_type": "stream",
     "text": [
      "Training Recall:  0.7107320540156361\n",
      "Testing Recall:  0.6790123456790124\n",
      "\n",
      "\n",
      "Training F1:  0.2389486260454002\n",
      "Testing F1:  0.2335456475583864\n",
      "\n",
      "\n",
      "PR AUC:  0.11408952616682085\n",
      "\n",
      "\n",
      "Training Accuracy:  0.7504896200548374\n",
      "Testing Accuracy:  0.745475910693302\n"
     ]
    }
   ],
   "source": [
    "rfc = RandomForestClassifier(random_state=42, criterion='gini', \n",
    "                             min_samples_leaf=10, max_depth=5,\n",
    "                             class_weight='balanced')\n",
    "\n",
    "rfc.fit(X_train_processed, y_train)\n",
    "\n",
    "y_hat_train_3 = rfc.predict(X_train_processed)\n",
    "y_hat_test_3 = rfc.predict(X_test_processed)\n",
    "\n",
    "print_scores(y_train, y_hat_train_3, y_test, y_hat_test_3)"
   ]
  },
  {
   "cell_type": "code",
   "execution_count": 108,
   "id": "7a8aa32a",
   "metadata": {
    "ExecuteTime": {
     "end_time": "2022-09-08T16:46:29.167053Z",
     "start_time": "2022-09-08T16:46:29.155486Z"
    }
   },
   "outputs": [],
   "source": [
    "# Tuning the model with grid search\n",
    "param_grid = {'criterion':['gini','entropy','log_loss'],\n",
    "              'max_depth':[3,8,12],\n",
    "              'min_samples_leaf': [5,10],\n",
    "              'class_weight': [None, 'balanced']\n",
    "             }"
   ]
  },
  {
   "cell_type": "code",
   "execution_count": 110,
   "id": "c61555a2",
   "metadata": {
    "ExecuteTime": {
     "end_time": "2022-09-08T16:51:47.718915Z",
     "start_time": "2022-09-08T16:47:41.529848Z"
    }
   },
   "outputs": [
    {
     "ename": "KeyboardInterrupt",
     "evalue": "",
     "output_type": "error",
     "traceback": [
      "\u001b[0;31m---------------------------------------------------------------------------\u001b[0m",
      "\u001b[0;31mKeyboardInterrupt\u001b[0m                         Traceback (most recent call last)",
      "\u001b[0;32m<ipython-input-110-6c47f224e7a7>\u001b[0m in \u001b[0;36m<module>\u001b[0;34m\u001b[0m\n\u001b[1;32m      3\u001b[0m \u001b[0mgrid_rfc\u001b[0m \u001b[0;34m=\u001b[0m \u001b[0mGridSearchCV\u001b[0m\u001b[0;34m(\u001b[0m\u001b[0mrfc\u001b[0m\u001b[0;34m,\u001b[0m \u001b[0mparam_grid\u001b[0m\u001b[0;34m,\u001b[0m \u001b[0mcv\u001b[0m \u001b[0;34m=\u001b[0m \u001b[0;36m5\u001b[0m\u001b[0;34m,\u001b[0m \u001b[0mscoring\u001b[0m\u001b[0;34m=\u001b[0m\u001b[0;34m'recall_macro'\u001b[0m\u001b[0;34m)\u001b[0m\u001b[0;34m\u001b[0m\u001b[0;34m\u001b[0m\u001b[0m\n\u001b[1;32m      4\u001b[0m \u001b[0;31m# macro or weighted?\u001b[0m\u001b[0;34m\u001b[0m\u001b[0;34m\u001b[0m\u001b[0;34m\u001b[0m\u001b[0m\n\u001b[0;32m----> 5\u001b[0;31m \u001b[0mgrid_rfc\u001b[0m\u001b[0;34m.\u001b[0m\u001b[0mfit\u001b[0m\u001b[0;34m(\u001b[0m\u001b[0mX_train_processed\u001b[0m\u001b[0;34m,\u001b[0m \u001b[0my_train\u001b[0m\u001b[0;34m)\u001b[0m \u001b[0;31m#17 min execution\u001b[0m\u001b[0;34m\u001b[0m\u001b[0;34m\u001b[0m\u001b[0m\n\u001b[0m",
      "\u001b[0;32m~/opt/anaconda3/envs/learn-env/lib/python3.8/site-packages/sklearn/utils/validation.py\u001b[0m in \u001b[0;36minner_f\u001b[0;34m(*args, **kwargs)\u001b[0m\n\u001b[1;32m     70\u001b[0m                           FutureWarning)\n\u001b[1;32m     71\u001b[0m         \u001b[0mkwargs\u001b[0m\u001b[0;34m.\u001b[0m\u001b[0mupdate\u001b[0m\u001b[0;34m(\u001b[0m\u001b[0;34m{\u001b[0m\u001b[0mk\u001b[0m\u001b[0;34m:\u001b[0m \u001b[0marg\u001b[0m \u001b[0;32mfor\u001b[0m \u001b[0mk\u001b[0m\u001b[0;34m,\u001b[0m \u001b[0marg\u001b[0m \u001b[0;32min\u001b[0m \u001b[0mzip\u001b[0m\u001b[0;34m(\u001b[0m\u001b[0msig\u001b[0m\u001b[0;34m.\u001b[0m\u001b[0mparameters\u001b[0m\u001b[0;34m,\u001b[0m \u001b[0margs\u001b[0m\u001b[0;34m)\u001b[0m\u001b[0;34m}\u001b[0m\u001b[0;34m)\u001b[0m\u001b[0;34m\u001b[0m\u001b[0;34m\u001b[0m\u001b[0m\n\u001b[0;32m---> 72\u001b[0;31m         \u001b[0;32mreturn\u001b[0m \u001b[0mf\u001b[0m\u001b[0;34m(\u001b[0m\u001b[0;34m**\u001b[0m\u001b[0mkwargs\u001b[0m\u001b[0;34m)\u001b[0m\u001b[0;34m\u001b[0m\u001b[0;34m\u001b[0m\u001b[0m\n\u001b[0m\u001b[1;32m     73\u001b[0m     \u001b[0;32mreturn\u001b[0m \u001b[0minner_f\u001b[0m\u001b[0;34m\u001b[0m\u001b[0;34m\u001b[0m\u001b[0m\n\u001b[1;32m     74\u001b[0m \u001b[0;34m\u001b[0m\u001b[0m\n",
      "\u001b[0;32m~/opt/anaconda3/envs/learn-env/lib/python3.8/site-packages/sklearn/model_selection/_search.py\u001b[0m in \u001b[0;36mfit\u001b[0;34m(self, X, y, groups, **fit_params)\u001b[0m\n\u001b[1;32m    734\u001b[0m                 \u001b[0;32mreturn\u001b[0m \u001b[0mresults\u001b[0m\u001b[0;34m\u001b[0m\u001b[0;34m\u001b[0m\u001b[0m\n\u001b[1;32m    735\u001b[0m \u001b[0;34m\u001b[0m\u001b[0m\n\u001b[0;32m--> 736\u001b[0;31m             \u001b[0mself\u001b[0m\u001b[0;34m.\u001b[0m\u001b[0m_run_search\u001b[0m\u001b[0;34m(\u001b[0m\u001b[0mevaluate_candidates\u001b[0m\u001b[0;34m)\u001b[0m\u001b[0;34m\u001b[0m\u001b[0;34m\u001b[0m\u001b[0m\n\u001b[0m\u001b[1;32m    737\u001b[0m \u001b[0;34m\u001b[0m\u001b[0m\n\u001b[1;32m    738\u001b[0m         \u001b[0;31m# For multi-metric evaluation, store the best_index_, best_params_ and\u001b[0m\u001b[0;34m\u001b[0m\u001b[0;34m\u001b[0m\u001b[0;34m\u001b[0m\u001b[0m\n",
      "\u001b[0;32m~/opt/anaconda3/envs/learn-env/lib/python3.8/site-packages/sklearn/model_selection/_search.py\u001b[0m in \u001b[0;36m_run_search\u001b[0;34m(self, evaluate_candidates)\u001b[0m\n\u001b[1;32m   1186\u001b[0m     \u001b[0;32mdef\u001b[0m \u001b[0m_run_search\u001b[0m\u001b[0;34m(\u001b[0m\u001b[0mself\u001b[0m\u001b[0;34m,\u001b[0m \u001b[0mevaluate_candidates\u001b[0m\u001b[0;34m)\u001b[0m\u001b[0;34m:\u001b[0m\u001b[0;34m\u001b[0m\u001b[0;34m\u001b[0m\u001b[0m\n\u001b[1;32m   1187\u001b[0m         \u001b[0;34m\"\"\"Search all candidates in param_grid\"\"\"\u001b[0m\u001b[0;34m\u001b[0m\u001b[0;34m\u001b[0m\u001b[0m\n\u001b[0;32m-> 1188\u001b[0;31m         \u001b[0mevaluate_candidates\u001b[0m\u001b[0;34m(\u001b[0m\u001b[0mParameterGrid\u001b[0m\u001b[0;34m(\u001b[0m\u001b[0mself\u001b[0m\u001b[0;34m.\u001b[0m\u001b[0mparam_grid\u001b[0m\u001b[0;34m)\u001b[0m\u001b[0;34m)\u001b[0m\u001b[0;34m\u001b[0m\u001b[0;34m\u001b[0m\u001b[0m\n\u001b[0m\u001b[1;32m   1189\u001b[0m \u001b[0;34m\u001b[0m\u001b[0m\n\u001b[1;32m   1190\u001b[0m \u001b[0;34m\u001b[0m\u001b[0m\n",
      "\u001b[0;32m~/opt/anaconda3/envs/learn-env/lib/python3.8/site-packages/sklearn/model_selection/_search.py\u001b[0m in \u001b[0;36mevaluate_candidates\u001b[0;34m(candidate_params)\u001b[0m\n\u001b[1;32m    706\u001b[0m                               n_splits, n_candidates, n_candidates * n_splits))\n\u001b[1;32m    707\u001b[0m \u001b[0;34m\u001b[0m\u001b[0m\n\u001b[0;32m--> 708\u001b[0;31m                 out = parallel(delayed(_fit_and_score)(clone(base_estimator),\n\u001b[0m\u001b[1;32m    709\u001b[0m                                                        \u001b[0mX\u001b[0m\u001b[0;34m,\u001b[0m \u001b[0my\u001b[0m\u001b[0;34m,\u001b[0m\u001b[0;34m\u001b[0m\u001b[0;34m\u001b[0m\u001b[0m\n\u001b[1;32m    710\u001b[0m                                                        \u001b[0mtrain\u001b[0m\u001b[0;34m=\u001b[0m\u001b[0mtrain\u001b[0m\u001b[0;34m,\u001b[0m \u001b[0mtest\u001b[0m\u001b[0;34m=\u001b[0m\u001b[0mtest\u001b[0m\u001b[0;34m,\u001b[0m\u001b[0;34m\u001b[0m\u001b[0;34m\u001b[0m\u001b[0m\n",
      "\u001b[0;32m~/opt/anaconda3/envs/learn-env/lib/python3.8/site-packages/joblib/parallel.py\u001b[0m in \u001b[0;36m__call__\u001b[0;34m(self, iterable)\u001b[0m\n\u001b[1;32m   1049\u001b[0m                 \u001b[0mself\u001b[0m\u001b[0;34m.\u001b[0m\u001b[0m_iterating\u001b[0m \u001b[0;34m=\u001b[0m \u001b[0mself\u001b[0m\u001b[0;34m.\u001b[0m\u001b[0m_original_iterator\u001b[0m \u001b[0;32mis\u001b[0m \u001b[0;32mnot\u001b[0m \u001b[0;32mNone\u001b[0m\u001b[0;34m\u001b[0m\u001b[0;34m\u001b[0m\u001b[0m\n\u001b[1;32m   1050\u001b[0m \u001b[0;34m\u001b[0m\u001b[0m\n\u001b[0;32m-> 1051\u001b[0;31m             \u001b[0;32mwhile\u001b[0m \u001b[0mself\u001b[0m\u001b[0;34m.\u001b[0m\u001b[0mdispatch_one_batch\u001b[0m\u001b[0;34m(\u001b[0m\u001b[0miterator\u001b[0m\u001b[0;34m)\u001b[0m\u001b[0;34m:\u001b[0m\u001b[0;34m\u001b[0m\u001b[0;34m\u001b[0m\u001b[0m\n\u001b[0m\u001b[1;32m   1052\u001b[0m                 \u001b[0;32mpass\u001b[0m\u001b[0;34m\u001b[0m\u001b[0;34m\u001b[0m\u001b[0m\n\u001b[1;32m   1053\u001b[0m \u001b[0;34m\u001b[0m\u001b[0m\n",
      "\u001b[0;32m~/opt/anaconda3/envs/learn-env/lib/python3.8/site-packages/joblib/parallel.py\u001b[0m in \u001b[0;36mdispatch_one_batch\u001b[0;34m(self, iterator)\u001b[0m\n\u001b[1;32m    864\u001b[0m                 \u001b[0;32mreturn\u001b[0m \u001b[0;32mFalse\u001b[0m\u001b[0;34m\u001b[0m\u001b[0;34m\u001b[0m\u001b[0m\n\u001b[1;32m    865\u001b[0m             \u001b[0;32melse\u001b[0m\u001b[0;34m:\u001b[0m\u001b[0;34m\u001b[0m\u001b[0;34m\u001b[0m\u001b[0m\n\u001b[0;32m--> 866\u001b[0;31m                 \u001b[0mself\u001b[0m\u001b[0;34m.\u001b[0m\u001b[0m_dispatch\u001b[0m\u001b[0;34m(\u001b[0m\u001b[0mtasks\u001b[0m\u001b[0;34m)\u001b[0m\u001b[0;34m\u001b[0m\u001b[0;34m\u001b[0m\u001b[0m\n\u001b[0m\u001b[1;32m    867\u001b[0m                 \u001b[0;32mreturn\u001b[0m \u001b[0;32mTrue\u001b[0m\u001b[0;34m\u001b[0m\u001b[0;34m\u001b[0m\u001b[0m\n\u001b[1;32m    868\u001b[0m \u001b[0;34m\u001b[0m\u001b[0m\n",
      "\u001b[0;32m~/opt/anaconda3/envs/learn-env/lib/python3.8/site-packages/joblib/parallel.py\u001b[0m in \u001b[0;36m_dispatch\u001b[0;34m(self, batch)\u001b[0m\n\u001b[1;32m    782\u001b[0m         \u001b[0;32mwith\u001b[0m \u001b[0mself\u001b[0m\u001b[0;34m.\u001b[0m\u001b[0m_lock\u001b[0m\u001b[0;34m:\u001b[0m\u001b[0;34m\u001b[0m\u001b[0;34m\u001b[0m\u001b[0m\n\u001b[1;32m    783\u001b[0m             \u001b[0mjob_idx\u001b[0m \u001b[0;34m=\u001b[0m \u001b[0mlen\u001b[0m\u001b[0;34m(\u001b[0m\u001b[0mself\u001b[0m\u001b[0;34m.\u001b[0m\u001b[0m_jobs\u001b[0m\u001b[0;34m)\u001b[0m\u001b[0;34m\u001b[0m\u001b[0;34m\u001b[0m\u001b[0m\n\u001b[0;32m--> 784\u001b[0;31m             \u001b[0mjob\u001b[0m \u001b[0;34m=\u001b[0m \u001b[0mself\u001b[0m\u001b[0;34m.\u001b[0m\u001b[0m_backend\u001b[0m\u001b[0;34m.\u001b[0m\u001b[0mapply_async\u001b[0m\u001b[0;34m(\u001b[0m\u001b[0mbatch\u001b[0m\u001b[0;34m,\u001b[0m \u001b[0mcallback\u001b[0m\u001b[0;34m=\u001b[0m\u001b[0mcb\u001b[0m\u001b[0;34m)\u001b[0m\u001b[0;34m\u001b[0m\u001b[0;34m\u001b[0m\u001b[0m\n\u001b[0m\u001b[1;32m    785\u001b[0m             \u001b[0;31m# A job can complete so quickly than its callback is\u001b[0m\u001b[0;34m\u001b[0m\u001b[0;34m\u001b[0m\u001b[0;34m\u001b[0m\u001b[0m\n\u001b[1;32m    786\u001b[0m             \u001b[0;31m# called before we get here, causing self._jobs to\u001b[0m\u001b[0;34m\u001b[0m\u001b[0;34m\u001b[0m\u001b[0;34m\u001b[0m\u001b[0m\n",
      "\u001b[0;32m~/opt/anaconda3/envs/learn-env/lib/python3.8/site-packages/joblib/_parallel_backends.py\u001b[0m in \u001b[0;36mapply_async\u001b[0;34m(self, func, callback)\u001b[0m\n\u001b[1;32m    206\u001b[0m     \u001b[0;32mdef\u001b[0m \u001b[0mapply_async\u001b[0m\u001b[0;34m(\u001b[0m\u001b[0mself\u001b[0m\u001b[0;34m,\u001b[0m \u001b[0mfunc\u001b[0m\u001b[0;34m,\u001b[0m \u001b[0mcallback\u001b[0m\u001b[0;34m=\u001b[0m\u001b[0;32mNone\u001b[0m\u001b[0;34m)\u001b[0m\u001b[0;34m:\u001b[0m\u001b[0;34m\u001b[0m\u001b[0;34m\u001b[0m\u001b[0m\n\u001b[1;32m    207\u001b[0m         \u001b[0;34m\"\"\"Schedule a func to be run\"\"\"\u001b[0m\u001b[0;34m\u001b[0m\u001b[0;34m\u001b[0m\u001b[0m\n\u001b[0;32m--> 208\u001b[0;31m         \u001b[0mresult\u001b[0m \u001b[0;34m=\u001b[0m \u001b[0mImmediateResult\u001b[0m\u001b[0;34m(\u001b[0m\u001b[0mfunc\u001b[0m\u001b[0;34m)\u001b[0m\u001b[0;34m\u001b[0m\u001b[0;34m\u001b[0m\u001b[0m\n\u001b[0m\u001b[1;32m    209\u001b[0m         \u001b[0;32mif\u001b[0m \u001b[0mcallback\u001b[0m\u001b[0;34m:\u001b[0m\u001b[0;34m\u001b[0m\u001b[0;34m\u001b[0m\u001b[0m\n\u001b[1;32m    210\u001b[0m             \u001b[0mcallback\u001b[0m\u001b[0;34m(\u001b[0m\u001b[0mresult\u001b[0m\u001b[0;34m)\u001b[0m\u001b[0;34m\u001b[0m\u001b[0;34m\u001b[0m\u001b[0m\n",
      "\u001b[0;32m~/opt/anaconda3/envs/learn-env/lib/python3.8/site-packages/joblib/_parallel_backends.py\u001b[0m in \u001b[0;36m__init__\u001b[0;34m(self, batch)\u001b[0m\n\u001b[1;32m    570\u001b[0m         \u001b[0;31m# Don't delay the application, to avoid keeping the input\u001b[0m\u001b[0;34m\u001b[0m\u001b[0;34m\u001b[0m\u001b[0;34m\u001b[0m\u001b[0m\n\u001b[1;32m    571\u001b[0m         \u001b[0;31m# arguments in memory\u001b[0m\u001b[0;34m\u001b[0m\u001b[0;34m\u001b[0m\u001b[0;34m\u001b[0m\u001b[0m\n\u001b[0;32m--> 572\u001b[0;31m         \u001b[0mself\u001b[0m\u001b[0;34m.\u001b[0m\u001b[0mresults\u001b[0m \u001b[0;34m=\u001b[0m \u001b[0mbatch\u001b[0m\u001b[0;34m(\u001b[0m\u001b[0;34m)\u001b[0m\u001b[0;34m\u001b[0m\u001b[0;34m\u001b[0m\u001b[0m\n\u001b[0m\u001b[1;32m    573\u001b[0m \u001b[0;34m\u001b[0m\u001b[0m\n\u001b[1;32m    574\u001b[0m     \u001b[0;32mdef\u001b[0m \u001b[0mget\u001b[0m\u001b[0;34m(\u001b[0m\u001b[0mself\u001b[0m\u001b[0;34m)\u001b[0m\u001b[0;34m:\u001b[0m\u001b[0;34m\u001b[0m\u001b[0;34m\u001b[0m\u001b[0m\n",
      "\u001b[0;32m~/opt/anaconda3/envs/learn-env/lib/python3.8/site-packages/joblib/parallel.py\u001b[0m in \u001b[0;36m__call__\u001b[0;34m(self)\u001b[0m\n\u001b[1;32m    260\u001b[0m         \u001b[0;31m# change the default number of processes to -1\u001b[0m\u001b[0;34m\u001b[0m\u001b[0;34m\u001b[0m\u001b[0;34m\u001b[0m\u001b[0m\n\u001b[1;32m    261\u001b[0m         \u001b[0;32mwith\u001b[0m \u001b[0mparallel_backend\u001b[0m\u001b[0;34m(\u001b[0m\u001b[0mself\u001b[0m\u001b[0;34m.\u001b[0m\u001b[0m_backend\u001b[0m\u001b[0;34m,\u001b[0m \u001b[0mn_jobs\u001b[0m\u001b[0;34m=\u001b[0m\u001b[0mself\u001b[0m\u001b[0;34m.\u001b[0m\u001b[0m_n_jobs\u001b[0m\u001b[0;34m)\u001b[0m\u001b[0;34m:\u001b[0m\u001b[0;34m\u001b[0m\u001b[0;34m\u001b[0m\u001b[0m\n\u001b[0;32m--> 262\u001b[0;31m             return [func(*args, **kwargs)\n\u001b[0m\u001b[1;32m    263\u001b[0m                     for func, args, kwargs in self.items]\n\u001b[1;32m    264\u001b[0m \u001b[0;34m\u001b[0m\u001b[0m\n",
      "\u001b[0;32m~/opt/anaconda3/envs/learn-env/lib/python3.8/site-packages/joblib/parallel.py\u001b[0m in \u001b[0;36m<listcomp>\u001b[0;34m(.0)\u001b[0m\n\u001b[1;32m    260\u001b[0m         \u001b[0;31m# change the default number of processes to -1\u001b[0m\u001b[0;34m\u001b[0m\u001b[0;34m\u001b[0m\u001b[0;34m\u001b[0m\u001b[0m\n\u001b[1;32m    261\u001b[0m         \u001b[0;32mwith\u001b[0m \u001b[0mparallel_backend\u001b[0m\u001b[0;34m(\u001b[0m\u001b[0mself\u001b[0m\u001b[0;34m.\u001b[0m\u001b[0m_backend\u001b[0m\u001b[0;34m,\u001b[0m \u001b[0mn_jobs\u001b[0m\u001b[0;34m=\u001b[0m\u001b[0mself\u001b[0m\u001b[0;34m.\u001b[0m\u001b[0m_n_jobs\u001b[0m\u001b[0;34m)\u001b[0m\u001b[0;34m:\u001b[0m\u001b[0;34m\u001b[0m\u001b[0;34m\u001b[0m\u001b[0m\n\u001b[0;32m--> 262\u001b[0;31m             return [func(*args, **kwargs)\n\u001b[0m\u001b[1;32m    263\u001b[0m                     for func, args, kwargs in self.items]\n\u001b[1;32m    264\u001b[0m \u001b[0;34m\u001b[0m\u001b[0m\n",
      "\u001b[0;32m~/opt/anaconda3/envs/learn-env/lib/python3.8/site-packages/sklearn/model_selection/_validation.py\u001b[0m in \u001b[0;36m_fit_and_score\u001b[0;34m(estimator, X, y, scorer, train, test, verbose, parameters, fit_params, return_train_score, return_parameters, return_n_test_samples, return_times, return_estimator, error_score)\u001b[0m\n\u001b[1;32m    529\u001b[0m             \u001b[0mestimator\u001b[0m\u001b[0;34m.\u001b[0m\u001b[0mfit\u001b[0m\u001b[0;34m(\u001b[0m\u001b[0mX_train\u001b[0m\u001b[0;34m,\u001b[0m \u001b[0;34m**\u001b[0m\u001b[0mfit_params\u001b[0m\u001b[0;34m)\u001b[0m\u001b[0;34m\u001b[0m\u001b[0;34m\u001b[0m\u001b[0m\n\u001b[1;32m    530\u001b[0m         \u001b[0;32melse\u001b[0m\u001b[0;34m:\u001b[0m\u001b[0;34m\u001b[0m\u001b[0;34m\u001b[0m\u001b[0m\n\u001b[0;32m--> 531\u001b[0;31m             \u001b[0mestimator\u001b[0m\u001b[0;34m.\u001b[0m\u001b[0mfit\u001b[0m\u001b[0;34m(\u001b[0m\u001b[0mX_train\u001b[0m\u001b[0;34m,\u001b[0m \u001b[0my_train\u001b[0m\u001b[0;34m,\u001b[0m \u001b[0;34m**\u001b[0m\u001b[0mfit_params\u001b[0m\u001b[0;34m)\u001b[0m\u001b[0;34m\u001b[0m\u001b[0;34m\u001b[0m\u001b[0m\n\u001b[0m\u001b[1;32m    532\u001b[0m \u001b[0;34m\u001b[0m\u001b[0m\n\u001b[1;32m    533\u001b[0m     \u001b[0;32mexcept\u001b[0m \u001b[0mException\u001b[0m \u001b[0;32mas\u001b[0m \u001b[0me\u001b[0m\u001b[0;34m:\u001b[0m\u001b[0;34m\u001b[0m\u001b[0;34m\u001b[0m\u001b[0m\n",
      "\u001b[0;32m~/opt/anaconda3/envs/learn-env/lib/python3.8/site-packages/sklearn/ensemble/_forest.py\u001b[0m in \u001b[0;36mfit\u001b[0;34m(self, X, y, sample_weight)\u001b[0m\n\u001b[1;32m    384\u001b[0m             \u001b[0;31m# parallel_backend contexts set at a higher level,\u001b[0m\u001b[0;34m\u001b[0m\u001b[0;34m\u001b[0m\u001b[0;34m\u001b[0m\u001b[0m\n\u001b[1;32m    385\u001b[0m             \u001b[0;31m# since correctness does not rely on using threads.\u001b[0m\u001b[0;34m\u001b[0m\u001b[0;34m\u001b[0m\u001b[0;34m\u001b[0m\u001b[0m\n\u001b[0;32m--> 386\u001b[0;31m             trees = Parallel(n_jobs=self.n_jobs, verbose=self.verbose,\n\u001b[0m\u001b[1;32m    387\u001b[0m                              \u001b[0;34m**\u001b[0m\u001b[0m_joblib_parallel_args\u001b[0m\u001b[0;34m(\u001b[0m\u001b[0mprefer\u001b[0m\u001b[0;34m=\u001b[0m\u001b[0;34m'threads'\u001b[0m\u001b[0;34m)\u001b[0m\u001b[0;34m)\u001b[0m\u001b[0;34m(\u001b[0m\u001b[0;34m\u001b[0m\u001b[0;34m\u001b[0m\u001b[0m\n\u001b[1;32m    388\u001b[0m                 delayed(_parallel_build_trees)(\n",
      "\u001b[0;32m~/opt/anaconda3/envs/learn-env/lib/python3.8/site-packages/joblib/parallel.py\u001b[0m in \u001b[0;36m__call__\u001b[0;34m(self, iterable)\u001b[0m\n\u001b[1;32m   1049\u001b[0m                 \u001b[0mself\u001b[0m\u001b[0;34m.\u001b[0m\u001b[0m_iterating\u001b[0m \u001b[0;34m=\u001b[0m \u001b[0mself\u001b[0m\u001b[0;34m.\u001b[0m\u001b[0m_original_iterator\u001b[0m \u001b[0;32mis\u001b[0m \u001b[0;32mnot\u001b[0m \u001b[0;32mNone\u001b[0m\u001b[0;34m\u001b[0m\u001b[0;34m\u001b[0m\u001b[0m\n\u001b[1;32m   1050\u001b[0m \u001b[0;34m\u001b[0m\u001b[0m\n\u001b[0;32m-> 1051\u001b[0;31m             \u001b[0;32mwhile\u001b[0m \u001b[0mself\u001b[0m\u001b[0;34m.\u001b[0m\u001b[0mdispatch_one_batch\u001b[0m\u001b[0;34m(\u001b[0m\u001b[0miterator\u001b[0m\u001b[0;34m)\u001b[0m\u001b[0;34m:\u001b[0m\u001b[0;34m\u001b[0m\u001b[0;34m\u001b[0m\u001b[0m\n\u001b[0m\u001b[1;32m   1052\u001b[0m                 \u001b[0;32mpass\u001b[0m\u001b[0;34m\u001b[0m\u001b[0;34m\u001b[0m\u001b[0m\n\u001b[1;32m   1053\u001b[0m \u001b[0;34m\u001b[0m\u001b[0m\n",
      "\u001b[0;32m~/opt/anaconda3/envs/learn-env/lib/python3.8/site-packages/joblib/parallel.py\u001b[0m in \u001b[0;36mdispatch_one_batch\u001b[0;34m(self, iterator)\u001b[0m\n\u001b[1;32m    864\u001b[0m                 \u001b[0;32mreturn\u001b[0m \u001b[0;32mFalse\u001b[0m\u001b[0;34m\u001b[0m\u001b[0;34m\u001b[0m\u001b[0m\n\u001b[1;32m    865\u001b[0m             \u001b[0;32melse\u001b[0m\u001b[0;34m:\u001b[0m\u001b[0;34m\u001b[0m\u001b[0;34m\u001b[0m\u001b[0m\n\u001b[0;32m--> 866\u001b[0;31m                 \u001b[0mself\u001b[0m\u001b[0;34m.\u001b[0m\u001b[0m_dispatch\u001b[0m\u001b[0;34m(\u001b[0m\u001b[0mtasks\u001b[0m\u001b[0;34m)\u001b[0m\u001b[0;34m\u001b[0m\u001b[0;34m\u001b[0m\u001b[0m\n\u001b[0m\u001b[1;32m    867\u001b[0m                 \u001b[0;32mreturn\u001b[0m \u001b[0;32mTrue\u001b[0m\u001b[0;34m\u001b[0m\u001b[0;34m\u001b[0m\u001b[0m\n\u001b[1;32m    868\u001b[0m \u001b[0;34m\u001b[0m\u001b[0m\n",
      "\u001b[0;32m~/opt/anaconda3/envs/learn-env/lib/python3.8/site-packages/joblib/parallel.py\u001b[0m in \u001b[0;36m_dispatch\u001b[0;34m(self, batch)\u001b[0m\n\u001b[1;32m    782\u001b[0m         \u001b[0;32mwith\u001b[0m \u001b[0mself\u001b[0m\u001b[0;34m.\u001b[0m\u001b[0m_lock\u001b[0m\u001b[0;34m:\u001b[0m\u001b[0;34m\u001b[0m\u001b[0;34m\u001b[0m\u001b[0m\n\u001b[1;32m    783\u001b[0m             \u001b[0mjob_idx\u001b[0m \u001b[0;34m=\u001b[0m \u001b[0mlen\u001b[0m\u001b[0;34m(\u001b[0m\u001b[0mself\u001b[0m\u001b[0;34m.\u001b[0m\u001b[0m_jobs\u001b[0m\u001b[0;34m)\u001b[0m\u001b[0;34m\u001b[0m\u001b[0;34m\u001b[0m\u001b[0m\n\u001b[0;32m--> 784\u001b[0;31m             \u001b[0mjob\u001b[0m \u001b[0;34m=\u001b[0m \u001b[0mself\u001b[0m\u001b[0;34m.\u001b[0m\u001b[0m_backend\u001b[0m\u001b[0;34m.\u001b[0m\u001b[0mapply_async\u001b[0m\u001b[0;34m(\u001b[0m\u001b[0mbatch\u001b[0m\u001b[0;34m,\u001b[0m \u001b[0mcallback\u001b[0m\u001b[0;34m=\u001b[0m\u001b[0mcb\u001b[0m\u001b[0;34m)\u001b[0m\u001b[0;34m\u001b[0m\u001b[0;34m\u001b[0m\u001b[0m\n\u001b[0m\u001b[1;32m    785\u001b[0m             \u001b[0;31m# A job can complete so quickly than its callback is\u001b[0m\u001b[0;34m\u001b[0m\u001b[0;34m\u001b[0m\u001b[0;34m\u001b[0m\u001b[0m\n\u001b[1;32m    786\u001b[0m             \u001b[0;31m# called before we get here, causing self._jobs to\u001b[0m\u001b[0;34m\u001b[0m\u001b[0;34m\u001b[0m\u001b[0;34m\u001b[0m\u001b[0m\n",
      "\u001b[0;32m~/opt/anaconda3/envs/learn-env/lib/python3.8/site-packages/joblib/_parallel_backends.py\u001b[0m in \u001b[0;36mapply_async\u001b[0;34m(self, func, callback)\u001b[0m\n\u001b[1;32m    206\u001b[0m     \u001b[0;32mdef\u001b[0m \u001b[0mapply_async\u001b[0m\u001b[0;34m(\u001b[0m\u001b[0mself\u001b[0m\u001b[0;34m,\u001b[0m \u001b[0mfunc\u001b[0m\u001b[0;34m,\u001b[0m \u001b[0mcallback\u001b[0m\u001b[0;34m=\u001b[0m\u001b[0;32mNone\u001b[0m\u001b[0;34m)\u001b[0m\u001b[0;34m:\u001b[0m\u001b[0;34m\u001b[0m\u001b[0;34m\u001b[0m\u001b[0m\n\u001b[1;32m    207\u001b[0m         \u001b[0;34m\"\"\"Schedule a func to be run\"\"\"\u001b[0m\u001b[0;34m\u001b[0m\u001b[0;34m\u001b[0m\u001b[0m\n\u001b[0;32m--> 208\u001b[0;31m         \u001b[0mresult\u001b[0m \u001b[0;34m=\u001b[0m \u001b[0mImmediateResult\u001b[0m\u001b[0;34m(\u001b[0m\u001b[0mfunc\u001b[0m\u001b[0;34m)\u001b[0m\u001b[0;34m\u001b[0m\u001b[0;34m\u001b[0m\u001b[0m\n\u001b[0m\u001b[1;32m    209\u001b[0m         \u001b[0;32mif\u001b[0m \u001b[0mcallback\u001b[0m\u001b[0;34m:\u001b[0m\u001b[0;34m\u001b[0m\u001b[0;34m\u001b[0m\u001b[0m\n\u001b[1;32m    210\u001b[0m             \u001b[0mcallback\u001b[0m\u001b[0;34m(\u001b[0m\u001b[0mresult\u001b[0m\u001b[0;34m)\u001b[0m\u001b[0;34m\u001b[0m\u001b[0;34m\u001b[0m\u001b[0m\n",
      "\u001b[0;32m~/opt/anaconda3/envs/learn-env/lib/python3.8/site-packages/joblib/_parallel_backends.py\u001b[0m in \u001b[0;36m__init__\u001b[0;34m(self, batch)\u001b[0m\n\u001b[1;32m    570\u001b[0m         \u001b[0;31m# Don't delay the application, to avoid keeping the input\u001b[0m\u001b[0;34m\u001b[0m\u001b[0;34m\u001b[0m\u001b[0;34m\u001b[0m\u001b[0m\n\u001b[1;32m    571\u001b[0m         \u001b[0;31m# arguments in memory\u001b[0m\u001b[0;34m\u001b[0m\u001b[0;34m\u001b[0m\u001b[0;34m\u001b[0m\u001b[0m\n\u001b[0;32m--> 572\u001b[0;31m         \u001b[0mself\u001b[0m\u001b[0;34m.\u001b[0m\u001b[0mresults\u001b[0m \u001b[0;34m=\u001b[0m \u001b[0mbatch\u001b[0m\u001b[0;34m(\u001b[0m\u001b[0;34m)\u001b[0m\u001b[0;34m\u001b[0m\u001b[0;34m\u001b[0m\u001b[0m\n\u001b[0m\u001b[1;32m    573\u001b[0m \u001b[0;34m\u001b[0m\u001b[0m\n\u001b[1;32m    574\u001b[0m     \u001b[0;32mdef\u001b[0m \u001b[0mget\u001b[0m\u001b[0;34m(\u001b[0m\u001b[0mself\u001b[0m\u001b[0;34m)\u001b[0m\u001b[0;34m:\u001b[0m\u001b[0;34m\u001b[0m\u001b[0;34m\u001b[0m\u001b[0m\n",
      "\u001b[0;32m~/opt/anaconda3/envs/learn-env/lib/python3.8/site-packages/joblib/parallel.py\u001b[0m in \u001b[0;36m__call__\u001b[0;34m(self)\u001b[0m\n\u001b[1;32m    260\u001b[0m         \u001b[0;31m# change the default number of processes to -1\u001b[0m\u001b[0;34m\u001b[0m\u001b[0;34m\u001b[0m\u001b[0;34m\u001b[0m\u001b[0m\n\u001b[1;32m    261\u001b[0m         \u001b[0;32mwith\u001b[0m \u001b[0mparallel_backend\u001b[0m\u001b[0;34m(\u001b[0m\u001b[0mself\u001b[0m\u001b[0;34m.\u001b[0m\u001b[0m_backend\u001b[0m\u001b[0;34m,\u001b[0m \u001b[0mn_jobs\u001b[0m\u001b[0;34m=\u001b[0m\u001b[0mself\u001b[0m\u001b[0;34m.\u001b[0m\u001b[0m_n_jobs\u001b[0m\u001b[0;34m)\u001b[0m\u001b[0;34m:\u001b[0m\u001b[0;34m\u001b[0m\u001b[0;34m\u001b[0m\u001b[0m\n\u001b[0;32m--> 262\u001b[0;31m             return [func(*args, **kwargs)\n\u001b[0m\u001b[1;32m    263\u001b[0m                     for func, args, kwargs in self.items]\n\u001b[1;32m    264\u001b[0m \u001b[0;34m\u001b[0m\u001b[0m\n",
      "\u001b[0;32m~/opt/anaconda3/envs/learn-env/lib/python3.8/site-packages/joblib/parallel.py\u001b[0m in \u001b[0;36m<listcomp>\u001b[0;34m(.0)\u001b[0m\n\u001b[1;32m    260\u001b[0m         \u001b[0;31m# change the default number of processes to -1\u001b[0m\u001b[0;34m\u001b[0m\u001b[0;34m\u001b[0m\u001b[0;34m\u001b[0m\u001b[0m\n\u001b[1;32m    261\u001b[0m         \u001b[0;32mwith\u001b[0m \u001b[0mparallel_backend\u001b[0m\u001b[0;34m(\u001b[0m\u001b[0mself\u001b[0m\u001b[0;34m.\u001b[0m\u001b[0m_backend\u001b[0m\u001b[0;34m,\u001b[0m \u001b[0mn_jobs\u001b[0m\u001b[0;34m=\u001b[0m\u001b[0mself\u001b[0m\u001b[0;34m.\u001b[0m\u001b[0m_n_jobs\u001b[0m\u001b[0;34m)\u001b[0m\u001b[0;34m:\u001b[0m\u001b[0;34m\u001b[0m\u001b[0;34m\u001b[0m\u001b[0m\n\u001b[0;32m--> 262\u001b[0;31m             return [func(*args, **kwargs)\n\u001b[0m\u001b[1;32m    263\u001b[0m                     for func, args, kwargs in self.items]\n\u001b[1;32m    264\u001b[0m \u001b[0;34m\u001b[0m\u001b[0m\n",
      "\u001b[0;32m~/opt/anaconda3/envs/learn-env/lib/python3.8/site-packages/sklearn/ensemble/_forest.py\u001b[0m in \u001b[0;36m_parallel_build_trees\u001b[0;34m(tree, forest, X, y, sample_weight, tree_idx, n_trees, verbose, class_weight, n_samples_bootstrap)\u001b[0m\n\u001b[1;32m    166\u001b[0m                                                         indices=indices)\n\u001b[1;32m    167\u001b[0m \u001b[0;34m\u001b[0m\u001b[0m\n\u001b[0;32m--> 168\u001b[0;31m         \u001b[0mtree\u001b[0m\u001b[0;34m.\u001b[0m\u001b[0mfit\u001b[0m\u001b[0;34m(\u001b[0m\u001b[0mX\u001b[0m\u001b[0;34m,\u001b[0m \u001b[0my\u001b[0m\u001b[0;34m,\u001b[0m \u001b[0msample_weight\u001b[0m\u001b[0;34m=\u001b[0m\u001b[0mcurr_sample_weight\u001b[0m\u001b[0;34m,\u001b[0m \u001b[0mcheck_input\u001b[0m\u001b[0;34m=\u001b[0m\u001b[0;32mFalse\u001b[0m\u001b[0;34m)\u001b[0m\u001b[0;34m\u001b[0m\u001b[0;34m\u001b[0m\u001b[0m\n\u001b[0m\u001b[1;32m    169\u001b[0m     \u001b[0;32melse\u001b[0m\u001b[0;34m:\u001b[0m\u001b[0;34m\u001b[0m\u001b[0;34m\u001b[0m\u001b[0m\n\u001b[1;32m    170\u001b[0m         \u001b[0mtree\u001b[0m\u001b[0;34m.\u001b[0m\u001b[0mfit\u001b[0m\u001b[0;34m(\u001b[0m\u001b[0mX\u001b[0m\u001b[0;34m,\u001b[0m \u001b[0my\u001b[0m\u001b[0;34m,\u001b[0m \u001b[0msample_weight\u001b[0m\u001b[0;34m=\u001b[0m\u001b[0msample_weight\u001b[0m\u001b[0;34m,\u001b[0m \u001b[0mcheck_input\u001b[0m\u001b[0;34m=\u001b[0m\u001b[0;32mFalse\u001b[0m\u001b[0;34m)\u001b[0m\u001b[0;34m\u001b[0m\u001b[0;34m\u001b[0m\u001b[0m\n",
      "\u001b[0;32m~/opt/anaconda3/envs/learn-env/lib/python3.8/site-packages/sklearn/tree/_classes.py\u001b[0m in \u001b[0;36mfit\u001b[0;34m(self, X, y, sample_weight, check_input, X_idx_sorted)\u001b[0m\n\u001b[1;32m    888\u001b[0m         \"\"\"\n\u001b[1;32m    889\u001b[0m \u001b[0;34m\u001b[0m\u001b[0m\n\u001b[0;32m--> 890\u001b[0;31m         super().fit(\n\u001b[0m\u001b[1;32m    891\u001b[0m             \u001b[0mX\u001b[0m\u001b[0;34m,\u001b[0m \u001b[0my\u001b[0m\u001b[0;34m,\u001b[0m\u001b[0;34m\u001b[0m\u001b[0;34m\u001b[0m\u001b[0m\n\u001b[1;32m    892\u001b[0m             \u001b[0msample_weight\u001b[0m\u001b[0;34m=\u001b[0m\u001b[0msample_weight\u001b[0m\u001b[0;34m,\u001b[0m\u001b[0;34m\u001b[0m\u001b[0;34m\u001b[0m\u001b[0m\n",
      "\u001b[0;32m~/opt/anaconda3/envs/learn-env/lib/python3.8/site-packages/sklearn/tree/_classes.py\u001b[0m in \u001b[0;36mfit\u001b[0;34m(self, X, y, sample_weight, check_input, X_idx_sorted)\u001b[0m\n\u001b[1;32m    373\u001b[0m                                            min_impurity_split)\n\u001b[1;32m    374\u001b[0m \u001b[0;34m\u001b[0m\u001b[0m\n\u001b[0;32m--> 375\u001b[0;31m         \u001b[0mbuilder\u001b[0m\u001b[0;34m.\u001b[0m\u001b[0mbuild\u001b[0m\u001b[0;34m(\u001b[0m\u001b[0mself\u001b[0m\u001b[0;34m.\u001b[0m\u001b[0mtree_\u001b[0m\u001b[0;34m,\u001b[0m \u001b[0mX\u001b[0m\u001b[0;34m,\u001b[0m \u001b[0my\u001b[0m\u001b[0;34m,\u001b[0m \u001b[0msample_weight\u001b[0m\u001b[0;34m,\u001b[0m \u001b[0mX_idx_sorted\u001b[0m\u001b[0;34m)\u001b[0m\u001b[0;34m\u001b[0m\u001b[0;34m\u001b[0m\u001b[0m\n\u001b[0m\u001b[1;32m    376\u001b[0m \u001b[0;34m\u001b[0m\u001b[0m\n\u001b[1;32m    377\u001b[0m         \u001b[0;32mif\u001b[0m \u001b[0mself\u001b[0m\u001b[0;34m.\u001b[0m\u001b[0mn_outputs_\u001b[0m \u001b[0;34m==\u001b[0m \u001b[0;36m1\u001b[0m \u001b[0;32mand\u001b[0m \u001b[0mis_classifier\u001b[0m\u001b[0;34m(\u001b[0m\u001b[0mself\u001b[0m\u001b[0;34m)\u001b[0m\u001b[0;34m:\u001b[0m\u001b[0;34m\u001b[0m\u001b[0;34m\u001b[0m\u001b[0m\n",
      "\u001b[0;31mKeyboardInterrupt\u001b[0m: "
     ]
    }
   ],
   "source": [
    "## long run time\n",
    "\n",
    "grid_rfc = GridSearchCV(rfc, param_grid, cv = 5, scoring='recall') \n",
    "# macro or weighted?\n",
    "grid_rfc.fit(X_train_processed, y_train) #17 min execution"
   ]
  },
  {
   "cell_type": "code",
   "execution_count": 119,
   "id": "16ff3ea4",
   "metadata": {
    "ExecuteTime": {
     "end_time": "2022-09-07T17:45:45.588032Z",
     "start_time": "2022-09-07T17:45:45.412294Z"
    }
   },
   "outputs": [
    {
     "data": {
      "text/plain": [
       "{'class_weight': None,\n",
       " 'criterion': 'gini',\n",
       " 'max_depth': 3,\n",
       " 'min_samples_leaf': 5}"
      ]
     },
     "execution_count": 119,
     "metadata": {},
     "output_type": "execute_result"
    }
   ],
   "source": [
    "grid_rfc.best_params_"
   ]
  },
  {
   "cell_type": "code",
   "execution_count": 120,
   "id": "1e3fbf70",
   "metadata": {
    "ExecuteTime": {
     "end_time": "2022-09-07T17:45:59.160951Z",
     "start_time": "2022-09-07T17:45:58.219981Z"
    }
   },
   "outputs": [],
   "source": [
    "y_preds_grid_rfc = grid_rfc.predict(X_test)"
   ]
  },
  {
   "cell_type": "code",
   "execution_count": 121,
   "id": "7fb344f2",
   "metadata": {
    "ExecuteTime": {
     "end_time": "2022-09-07T17:46:01.335550Z",
     "start_time": "2022-09-07T17:46:01.030069Z"
    }
   },
   "outputs": [
    {
     "data": {
      "text/plain": [
       "array([[    0,     0,   923],\n",
       "       [    0,     0,   678],\n",
       "       [    0,     0, 10430]])"
      ]
     },
     "metadata": {},
     "output_type": "display_data"
    },
    {
     "name": "stdout",
     "output_type": "stream",
     "text": [
      "              precision    recall  f1-score   support\n",
      "\n",
      "           0       0.00      0.00      0.00       923\n",
      "           1       0.00      0.00      0.00       678\n",
      "           2       0.87      1.00      0.93     10430\n",
      "\n",
      "    accuracy                           0.87     12031\n",
      "   macro avg       0.29      0.33      0.31     12031\n",
      "weighted avg       0.75      0.87      0.81     12031\n",
      "\n"
     ]
    }
   ],
   "source": [
    "display(confusion_matrix(y_test, y_preds_grid_rfc))\n",
    "print(classification_report(y_test, y_preds_grid_rfc))"
   ]
  },
  {
   "cell_type": "code",
   "execution_count": null,
   "id": "dac92e04",
   "metadata": {},
   "outputs": [],
   "source": [
    "# visualizing predictions\n",
    "conf_matrix = confusion_matrix(y_test, y_preds_grid_rfc)\n",
    "\n",
    "fig, ax = plt.subplots(figsize=(5,5))\n",
    "\n",
    "ax = sns.heatmap(conf_matrix, annot=True, cmap='Greens', fmt='d')\n",
    "\n",
    "# Title & Axis Labels\n",
    "ax.set_title('Best RFC Model Confusion Matrix', fontsize=17);\n",
    "ax.set_xlabel('Predicted Values',fontsize=13)\n",
    "ax.set_ylabel('Actual Values ', fontsize=13);\n",
    "\n",
    "## Set tick labels\n",
    "ax.xaxis.set_ticklabels(['Succeeded','Failed'])\n",
    "ax.yaxis.set_ticklabels(['Succeeded','Failed'])\n",
    "\n",
    "## Display the visualization of the Confusion Matrix.\n",
    "plt.show()"
   ]
  },
  {
   "cell_type": "markdown",
   "id": "1a0d1390",
   "metadata": {},
   "source": [
    "#### Feature Importance"
   ]
  },
  {
   "cell_type": "code",
   "execution_count": 342,
   "id": "274adc24",
   "metadata": {
    "ExecuteTime": {
     "end_time": "2022-09-12T18:29:43.036599Z",
     "start_time": "2022-09-12T18:29:43.021615Z"
    }
   },
   "outputs": [],
   "source": [
    "feats = {} # a dict to hold feature_name: feature_importance\n",
    "for feature, importance in zip(X_train_processed.columns, rfc.feature_importances_):\n",
    "    feats[feature] = importance #add the name/value pair \n",
    "\n",
    "feats_df = pd.DataFrame(feats.items())"
   ]
  },
  {
   "cell_type": "code",
   "execution_count": 343,
   "id": "630c25e4",
   "metadata": {
    "ExecuteTime": {
     "end_time": "2022-09-12T18:29:44.382032Z",
     "start_time": "2022-09-12T18:29:44.376757Z"
    }
   },
   "outputs": [],
   "source": [
    "feats_df.columns = ['col', 'feat_importance']\n",
    "feats_df = feats_df.sort_values(by=['feat_importance'], ascending=False)\n",
    "feats_df_20 = feats_df[:20]\n",
    "feats_df_30 = feats_df[:30]"
   ]
  },
  {
   "cell_type": "code",
   "execution_count": 344,
   "id": "ebc8110f",
   "metadata": {
    "ExecuteTime": {
     "end_time": "2022-09-12T18:29:51.857782Z",
     "start_time": "2022-09-12T18:29:51.460368Z"
    }
   },
   "outputs": [
    {
     "data": {
      "image/png": "[encoded data removed]",
      "text/plain": [
       "<Figure size 720x504 with 1 Axes>"
      ]
     },
     "metadata": {
      "needs_background": "light"
     },
     "output_type": "display_data"
    }
   ],
   "source": [
    "fig, ax = plt.subplots(figsize = (10,7))\n",
    "feats_df_30.plot.bar(ax=ax) # yerr=std, \n",
    "ax.set_title(\"Feature importances using MDI\")\n",
    "ax.set_ylabel(\"Mean decrease in impurity\")\n",
    "ax.set_xticklabels(feats_df_30['col'])\n",
    "fig.tight_layout()"
   ]
  },
  {
   "cell_type": "markdown",
   "id": "b4f66e6f",
   "metadata": {},
   "source": [
    "### Tree Models\n"
   ]
  },
  {
   "cell_type": "markdown",
   "id": "9ad7c491",
   "metadata": {},
   "source": [
    "#### Decision Tree Classifier**"
   ]
  },
  {
   "cell_type": "markdown",
   "id": "e4e17bd6",
   "metadata": {},
   "source": [
    "This model seems to be the best compromise, with recall at around 80% and accuracy at 70% / PR AUC at 12%"
   ]
  },
  {
   "cell_type": "code",
   "execution_count": 909,
   "id": "97edcca9",
   "metadata": {
    "ExecuteTime": {
     "end_time": "2022-09-13T20:18:09.630453Z",
     "start_time": "2022-09-13T20:18:09.235968Z"
    }
   },
   "outputs": [
    {
     "name": "stdout",
     "output_type": "stream",
     "text": [
      "Training Recall:  0.9303482587064676\n",
      "Testing Recall:  0.7592592592592593\n",
      "\n",
      "\n",
      "Training F1:  0.289505695012717\n",
      "Testing F1:  0.24062601891098792\n",
      "\n",
      "\n",
      "PR AUC:  0.12229818889522745\n",
      "\n",
      "\n",
      "Training Accuracy:  0.7483352918135526\n",
      "Testing Accuracy:  0.7263219741480611\n",
      "              precision    recall  f1-score   support\n",
      "\n",
      "           0       0.99      0.74      0.85     24123\n",
      "           1       0.17      0.93      0.29      1407\n",
      "\n",
      "    accuracy                           0.75     25530\n",
      "   macro avg       0.58      0.83      0.57     25530\n",
      "weighted avg       0.95      0.75      0.82     25530\n",
      "\n",
      "              precision    recall  f1-score   support\n",
      "\n",
      "           0       0.98      0.72      0.83      8024\n",
      "           1       0.14      0.76      0.24       486\n",
      "\n",
      "    accuracy                           0.73      8510\n",
      "   macro avg       0.56      0.74      0.54      8510\n",
      "weighted avg       0.93      0.73      0.80      8510\n",
      "\n"
     ]
    }
   ],
   "source": [
    "dtc = DecisionTreeClassifier(random_state=42, class_weight='balanced',\n",
    "                             min_samples_leaf=5, max_depth=10)\n",
    "dtc.fit(X_train_processed, y_train)\n",
    "\n",
    "y_hat_train_dtc = dtc.predict(X_train_processed)\n",
    "y_hat_test_dtc = dtc.predict(X_test_processed)\n",
    "\n",
    "print_scores(y_train, y_hat_train_dtc, y_test, y_hat_test_dtc)\n",
    "print(classification_report(y_train, y_hat_train_dtc))\n",
    "print(classification_report(y_test, y_hat_test_dtc))"
   ]
  },
  {
   "cell_type": "code",
   "execution_count": 371,
   "id": "bed7f262",
   "metadata": {
    "ExecuteTime": {
     "end_time": "2022-09-12T20:31:44.629159Z",
     "start_time": "2022-09-12T20:30:50.470717Z"
    }
   },
   "outputs": [
    {
     "name": "stdout",
     "output_type": "stream",
     "text": [
      "              precision    recall  f1-score   support\n",
      "\n",
      "           0       0.98      0.68      0.80      8024\n",
      "           1       0.13      0.80      0.22       486\n",
      "\n",
      "    accuracy                           0.68      8510\n",
      "   macro avg       0.56      0.74      0.51      8510\n",
      "weighted avg       0.93      0.68      0.77      8510\n",
      "\n"
     ]
    }
   ],
   "source": [
    "# Grid search\n",
    "param_grid = {'criterion':['gini','entropy'],\n",
    "              'max_depth':[None,3,8,12],\n",
    "              'min_samples_leaf': [1,5,10,15],\n",
    "              'class_weight': [None, 'balanced']\n",
    "             }\n",
    "\n",
    "grid_dtc = GridSearchCV(dtc, param_grid, cv = 5, scoring='recall') \n",
    "grid_dtc.fit(X_train_processed, y_train)\n",
    "y_preds_grid_train_dtc = grid_dtc.predict(X_train_processed)\n",
    "y_preds_grid_dtc = grid_dtc.predict(X_test_processed)\n",
    "\n",
    "print(classification_report(y_test, y_preds_grid_dtc))"
   ]
  },
  {
   "cell_type": "code",
   "execution_count": 373,
   "id": "ac06de40",
   "metadata": {
    "ExecuteTime": {
     "end_time": "2022-09-12T20:36:01.218989Z",
     "start_time": "2022-09-12T20:36:01.212737Z"
    }
   },
   "outputs": [
    {
     "data": {
      "text/plain": [
       "{'class_weight': 'balanced',\n",
       " 'criterion': 'entropy',\n",
       " 'max_depth': 8,\n",
       " 'min_samples_leaf': 15}"
      ]
     },
     "execution_count": 373,
     "metadata": {},
     "output_type": "execute_result"
    }
   ],
   "source": [
    "grid_dtc.best_params_"
   ]
  },
  {
   "cell_type": "code",
   "execution_count": 910,
   "id": "ae9fa00c",
   "metadata": {
    "ExecuteTime": {
     "end_time": "2022-09-13T20:18:46.865212Z",
     "start_time": "2022-09-13T20:18:46.525024Z"
    }
   },
   "outputs": [
    {
     "name": "stdout",
     "output_type": "stream",
     "text": [
      "Training Recall:  0.8770433546552949\n",
      "Testing Recall:  0.8024691358024691\n",
      "\n",
      "\n",
      "Training F1:  0.25117036433950746\n",
      "Testing F1:  0.2333931777378815\n",
      "\n",
      "\n",
      "PR AUC:  0.1208617154482457\n",
      "\n",
      "\n",
      "Training Accuracy:  0.7117900509204858\n",
      "Testing Accuracy:  0.6989424206815511\n",
      "              precision    recall  f1-score   support\n",
      "\n",
      "           0       0.99      0.70      0.82     24123\n",
      "           1       0.15      0.88      0.25      1407\n",
      "\n",
      "    accuracy                           0.71     25530\n",
      "   macro avg       0.57      0.79      0.54     25530\n",
      "weighted avg       0.94      0.71      0.79     25530\n",
      "\n",
      "              precision    recall  f1-score   support\n",
      "\n",
      "           0       0.98      0.69      0.81      8024\n",
      "           1       0.14      0.80      0.23       486\n",
      "\n",
      "    accuracy                           0.70      8510\n",
      "   macro avg       0.56      0.75      0.52      8510\n",
      "weighted avg       0.93      0.70      0.78      8510\n",
      "\n"
     ]
    }
   ],
   "source": [
    "dtc_best = DecisionTreeClassifier(random_state=42, class_weight='balanced',\n",
    "                                  min_samples_leaf=15, max_depth=8, \n",
    "                                  criterion='entropy')\n",
    "dtc_best.fit(X_train_processed, y_train)\n",
    "\n",
    "y_hat_train_dtc_best = dtc_best.predict(X_train_processed)\n",
    "y_hat_test_dtc_best = dtc_best.predict(X_test_processed)\n",
    "\n",
    "print_scores(y_train, y_hat_train_dtc_best, y_test, y_hat_test_dtc_best)\n",
    "print(classification_report(y_train, y_hat_train_dtc_best))\n",
    "print(classification_report(y_test, y_hat_test_dtc_best))"
   ]
  },
  {
   "cell_type": "markdown",
   "id": "a15cc55f",
   "metadata": {},
   "source": [
    "#### ExtraTrees"
   ]
  },
  {
   "cell_type": "code",
   "execution_count": 834,
   "id": "5d8757e4",
   "metadata": {
    "ExecuteTime": {
     "end_time": "2022-09-13T19:23:54.178996Z",
     "start_time": "2022-09-13T19:23:47.515417Z"
    }
   },
   "outputs": [
    {
     "name": "stdout",
     "output_type": "stream",
     "text": [
      "              precision    recall  f1-score   support\n",
      "\n",
      "           0       1.00      1.00      1.00     24123\n",
      "           1       0.99      1.00      1.00      1407\n",
      "\n",
      "    accuracy                           1.00     25530\n",
      "   macro avg       1.00      1.00      1.00     25530\n",
      "weighted avg       1.00      1.00      1.00     25530\n",
      "\n",
      "              precision    recall  f1-score   support\n",
      "\n",
      "           0       0.94      0.99      0.97      8024\n",
      "           1       0.14      0.03      0.04       486\n",
      "\n",
      "    accuracy                           0.93      8510\n",
      "   macro avg       0.54      0.51      0.51      8510\n",
      "weighted avg       0.90      0.93      0.91      8510\n",
      "\n"
     ]
    }
   ],
   "source": [
    "from sklearn.ensemble import ExtraTreesClassifier\n",
    "\n",
    "ext = ExtraTreesClassifier(random_state=42, class_weight='balanced', \n",
    "                           criterion='entropy')#, min_samples_leaf=10, \n",
    "                           #max_depth=5)\n",
    "ext.fit(X_train_processed, y_train)\n",
    "\n",
    "y_hat_train_ext = ext.predict(X_train_processed)\n",
    "y_hat_test_ext = ext.predict(X_test_processed)\n",
    "\n",
    "print(classification_report(y_train, y_hat_train_ext))\n",
    "print(classification_report(y_test, y_hat_test_ext))"
   ]
  },
  {
   "cell_type": "code",
   "execution_count": 462,
   "id": "947c23da",
   "metadata": {
    "ExecuteTime": {
     "end_time": "2022-09-13T01:52:24.058395Z",
     "start_time": "2022-09-13T01:52:24.054454Z"
    }
   },
   "outputs": [],
   "source": [
    "param_grid = {#'criterion':['gini','entropy','log_loss'],\n",
    "              'max_depth':[12,20,50],\n",
    "              'min_samples_leaf': [30,50,100],\n",
    "              #'class_weight': [None, 'balanced'],\n",
    "              'max_features': ['auto']\n",
    "             }"
   ]
  },
  {
   "cell_type": "code",
   "execution_count": 300,
   "id": "83d454a9",
   "metadata": {
    "ExecuteTime": {
     "end_time": "2022-09-08T23:26:23.245083Z",
     "start_time": "2022-09-08T23:26:13.584918Z"
    }
   },
   "outputs": [
    {
     "data": {
      "text/plain": [
       "ExtraTreesClassifier(random_state=42)"
      ]
     },
     "execution_count": 300,
     "metadata": {},
     "output_type": "execute_result"
    }
   ],
   "source": [
    "ext = ExtraTreesClassifier(random_state=42)\n",
    "ext.fit(X_train_processed, y_train)"
   ]
  },
  {
   "cell_type": "code",
   "execution_count": 463,
   "id": "95fb2556",
   "metadata": {
    "ExecuteTime": {
     "end_time": "2022-09-13T01:53:37.793917Z",
     "start_time": "2022-09-13T01:52:30.335288Z"
    }
   },
   "outputs": [],
   "source": [
    "grid_ext = GridSearchCV(ext, param_grid, cv = 5, scoring='recall') \n",
    "grid_ext.fit(X_train_processed, y_train)\n",
    "y_hat_train_gext = grid_ext.predict(X_train_processed)\n",
    "y_hat_test_gext = grid_ext.predict(X_test_processed)"
   ]
  },
  {
   "cell_type": "code",
   "execution_count": 459,
   "id": "8861a7c4",
   "metadata": {
    "ExecuteTime": {
     "end_time": "2022-09-13T01:49:13.992804Z",
     "start_time": "2022-09-13T01:49:13.913522Z"
    }
   },
   "outputs": [
    {
     "data": {
      "text/plain": [
       "ExtraTreesClassifier(class_weight='balanced', criterion='entropy', max_depth=12,\n",
       "                     min_samples_leaf=30, random_state=42)"
      ]
     },
     "execution_count": 459,
     "metadata": {},
     "output_type": "execute_result"
    }
   ],
   "source": [
    "grid_ext.best_estimator_"
   ]
  },
  {
   "cell_type": "code",
   "execution_count": 464,
   "id": "aff18a9b",
   "metadata": {
    "ExecuteTime": {
     "end_time": "2022-09-13T01:53:37.805464Z",
     "start_time": "2022-09-13T01:53:37.797055Z"
    }
   },
   "outputs": [
    {
     "data": {
      "text/plain": [
       "{'max_depth': 50, 'max_features': 'auto', 'min_samples_leaf': 50}"
      ]
     },
     "execution_count": 464,
     "metadata": {},
     "output_type": "execute_result"
    }
   ],
   "source": [
    "grid_ext.best_params_"
   ]
  },
  {
   "cell_type": "code",
   "execution_count": null,
   "id": "0b8069bf",
   "metadata": {},
   "outputs": [],
   "source": [
    "grid_ext.feature_im"
   ]
  },
  {
   "cell_type": "code",
   "execution_count": 465,
   "id": "3f1de717",
   "metadata": {
    "ExecuteTime": {
     "end_time": "2022-09-13T01:54:02.672672Z",
     "start_time": "2022-09-13T01:54:02.625442Z"
    }
   },
   "outputs": [
    {
     "name": "stdout",
     "output_type": "stream",
     "text": [
      "Training Recall:  0.7604832977967306\n",
      "Testing Recall:  0.7304526748971193\n",
      "\n",
      "\n",
      "Training F1:  0.23268457105577905\n",
      "Testing F1:  0.2248258391386954\n",
      "\n",
      "\n",
      "ROC AUC Score:  0.7208469755343023\n",
      "\n",
      "\n",
      "Training Accuracy:  0.7235801018409714\n",
      "Testing Accuracy:  0.7123384253819036\n"
     ]
    }
   ],
   "source": [
    "print_scores(y_train, y_hat_train_gext, y_test, y_hat_test_gext)"
   ]
  },
  {
   "cell_type": "code",
   "execution_count": 835,
   "id": "51c507b4",
   "metadata": {
    "ExecuteTime": {
     "end_time": "2022-09-13T19:24:09.186876Z",
     "start_time": "2022-09-13T19:24:06.905349Z"
    }
   },
   "outputs": [
    {
     "data": {
      "text/plain": [
       "ExtraTreesClassifier(class_weight='balanced', criterion='entropy', max_depth=50,\n",
       "                     min_samples_leaf=50, random_state=42)"
      ]
     },
     "execution_count": 835,
     "metadata": {},
     "output_type": "execute_result"
    }
   ],
   "source": [
    "ext_best = ExtraTreesClassifier(class_weight='balanced', criterion='entropy', \n",
    "                                max_depth=50, min_samples_leaf=50, \n",
    "                                random_state=42, max_features='auto')\n",
    "ext_best.fit(X_train_processed, y_train)"
   ]
  },
  {
   "cell_type": "code",
   "execution_count": 836,
   "id": "b80032d4",
   "metadata": {
    "ExecuteTime": {
     "end_time": "2022-09-13T19:24:11.657031Z",
     "start_time": "2022-09-13T19:24:11.200032Z"
    }
   },
   "outputs": [
    {
     "name": "stdout",
     "output_type": "stream",
     "text": [
      "Training Recall:  0.7604832977967306\n",
      "Testing Recall:  0.7304526748971193\n",
      "\n",
      "\n",
      "Training F1:  0.23268457105577905\n",
      "Testing F1:  0.2248258391386954\n",
      "\n",
      "\n",
      "PR AUC:  0.112441072034747\n",
      "\n",
      "\n",
      "Training Accuracy:  0.7235801018409714\n",
      "Testing Accuracy:  0.7123384253819036\n"
     ]
    }
   ],
   "source": [
    "y_pred_gext_train = ext_best.predict(X_train_processed)\n",
    "y_pred_gext_test = ext_best.predict(X_test_processed)\n",
    "print_scores(y_train, y_hat_train_gext, y_test, y_hat_test_gext)"
   ]
  },
  {
   "cell_type": "code",
   "execution_count": 837,
   "id": "ba672f27",
   "metadata": {
    "ExecuteTime": {
     "end_time": "2022-09-13T19:24:34.566346Z",
     "start_time": "2022-09-13T19:24:33.996116Z"
    },
    "scrolled": true
   },
   "outputs": [
    {
     "data": {
      "image/png": "[encoded data removed]",
      "text/plain": [
       "<Figure size 720x504 with 1 Axes>"
      ]
     },
     "metadata": {
      "needs_background": "light"
     },
     "output_type": "display_data"
    }
   ],
   "source": [
    "## Feature Selection\n",
    "\n",
    "feats = {} # a dict to hold feature_name: feature_importance\n",
    "for feature, importance in zip(X_train_processed.columns, ext_best.feature_importances_):\n",
    "    feats[feature] = importance #add the name/value pair \n",
    "\n",
    "feats_df = pd.DataFrame(feats.items())\n",
    "\n",
    "feats_df.columns = ['col', 'feat_importance']\n",
    "feats_df = feats_df.sort_values(by=['feat_importance'], ascending=False)\n",
    "feats_df_20 = feats_df[:20]\n",
    "feats_df_30 = feats_df[:30]\n",
    "\n",
    "fig, ax = plt.subplots(figsize = (10,7))\n",
    "feats_df_30.plot.bar(ax=ax) # yerr=std, \n",
    "ax.set_title(\"Feature importances using MDI\")\n",
    "ax.set_ylabel(\"Mean decrease in impurity\")\n",
    "ax.set_xticklabels(feats_df_30['col'])\n",
    "fig.tight_layout()"
   ]
  },
  {
   "cell_type": "markdown",
   "id": "160e23b6",
   "metadata": {},
   "source": [
    "### Gradient Boosted Models"
   ]
  },
  {
   "cell_type": "markdown",
   "id": "5b226474",
   "metadata": {},
   "source": [
    "#### XGBoost**"
   ]
  },
  {
   "cell_type": "markdown",
   "id": "3e8a26da",
   "metadata": {},
   "source": [
    "This model has best recall, but seems that is the case because we are casting a wide net. Accuracy and precision are sacrificed for the sake of boosting recall."
   ]
  },
  {
   "cell_type": "code",
   "execution_count": 912,
   "id": "7866d790",
   "metadata": {
    "ExecuteTime": {
     "end_time": "2022-09-13T20:19:57.881439Z",
     "start_time": "2022-09-13T20:19:53.442213Z"
    }
   },
   "outputs": [
    {
     "name": "stdout",
     "output_type": "stream",
     "text": [
      "              precision    recall  f1-score   support\n",
      "\n",
      "           0       1.00      0.60      0.75     24123\n",
      "           1       0.13      0.98      0.22      1407\n",
      "\n",
      "    accuracy                           0.62     25530\n",
      "   macro avg       0.56      0.79      0.49     25530\n",
      "weighted avg       0.95      0.62      0.72     25530\n",
      "\n",
      "              precision    recall  f1-score   support\n",
      "\n",
      "           0       0.99      0.59      0.74      8024\n",
      "           1       0.12      0.93      0.21       486\n",
      "\n",
      "    accuracy                           0.61      8510\n",
      "   macro avg       0.56      0.76      0.48      8510\n",
      "weighted avg       0.94      0.61      0.71      8510\n",
      "\n",
      "Training Recall:  0.9815209665955935\n",
      "Testing Recall:  0.9300411522633745\n",
      "\n",
      "\n",
      "Training F1:  0.22313782517369526\n",
      "Testing F1:  0.21275594257472344\n",
      "\n",
      "\n",
      "PR AUC:  0.11570898575511247\n",
      "\n",
      "\n",
      "Training Accuracy:  0.6233450842146494\n",
      "Testing Accuracy:  0.6069330199764983\n"
     ]
    }
   ],
   "source": [
    "clf = XGBClassifier(random_state=42, max_depth=4, scale_pos_weight=50, \n",
    "                    min_child_weight=3, learning_rate=0.1, subsample= 0.7)\n",
    "clf.fit(X_train_processed, y_train)\n",
    "\n",
    "y_hat_train_clf = clf.predict(X_train_processed)\n",
    "y_hat_test_clf = clf.predict(X_test_processed)\n",
    "\n",
    "print(classification_report(y_train, y_hat_train_clf))\n",
    "print(classification_report(y_test, y_hat_test_clf))\n",
    "print_scores(y_train, y_hat_train_clf, y_test, y_hat_test_clf)"
   ]
  },
  {
   "cell_type": "markdown",
   "id": "e75594da",
   "metadata": {},
   "source": [
    "Grid search for hyperparameter tuning"
   ]
  },
  {
   "cell_type": "code",
   "execution_count": null,
   "id": "9166227e",
   "metadata": {},
   "outputs": [],
   "source": [
    "xgb = XGBClassifier(random_state=42)\n",
    "xgb.fit(X_train_processed, y_train)"
   ]
  },
  {
   "cell_type": "code",
   "execution_count": 700,
   "id": "f1fd5018",
   "metadata": {
    "ExecuteTime": {
     "end_time": "2022-09-13T16:52:46.344382Z",
     "start_time": "2022-09-13T16:52:46.340998Z"
    }
   },
   "outputs": [],
   "source": [
    "# setting up grid search\n",
    "param_grid = {\n",
    "    'learning_rate': [0.1, 0.2],\n",
    "    'max_depth': [4,6,8],\n",
    "    'min_child_weight': [3,5,7],\n",
    "    'subsample': [0.5, 0.7],\n",
    "    'scale_pos_weight':[20,50,100]\n",
    "}"
   ]
  },
  {
   "cell_type": "code",
   "execution_count": null,
   "id": "3adc1021",
   "metadata": {},
   "outputs": [],
   "source": [
    "# Hypertuning parameters with Grid Search"
   ]
  },
  {
   "cell_type": "code",
   "execution_count": 701,
   "id": "65f844a0",
   "metadata": {
    "ExecuteTime": {
     "end_time": "2022-09-13T17:46:26.490693Z",
     "start_time": "2022-09-13T16:52:48.550122Z"
    }
   },
   "outputs": [],
   "source": [
    "grid_xgb = GridSearchCV(xgb, param_grid, cv = 5, scoring='recall') \n",
    "grid_xgb.fit(X_train_processed, y_train)"
   ]
  },
  {
   "cell_type": "code",
   "execution_count": 702,
   "id": "d4b74d93",
   "metadata": {
    "ExecuteTime": {
     "end_time": "2022-09-13T17:46:26.609068Z",
     "start_time": "2022-09-13T17:46:26.501503Z"
    }
   },
   "outputs": [
    {
     "name": "stdout",
     "output_type": "stream",
     "text": [
      "Training Recall:  0.8933901918976546\n",
      "Testing Recall:  0.8148148148148148\n",
      "\n",
      "\n",
      "Training F1:  0.27797434763379036\n",
      "Testing F1:  0.2549903412749517\n",
      "\n",
      "\n",
      "PR AUC:  0.1337310094694761\n",
      "\n",
      "\n",
      "Training Accuracy:  0.7442224833529182\n",
      "Testing Accuracy:  0.7280846063454759\n"
     ]
    }
   ],
   "source": [
    "y_hat_train_xgb = grid_xgb.predict(X_train_processed)\n",
    "y_hat_test_xgb = grid_xgb.predict(X_test_processed)\n",
    "\n",
    "print_scores(y_train, y_hat_train_xgb, y_test, y_hat_test_xgb)"
   ]
  },
  {
   "cell_type": "code",
   "execution_count": 704,
   "id": "72f3db32",
   "metadata": {
    "ExecuteTime": {
     "end_time": "2022-09-13T17:54:24.323871Z",
     "start_time": "2022-09-13T17:54:24.285411Z"
    }
   },
   "outputs": [
    {
     "data": {
      "text/plain": [
       "{'learning_rate': 0.1,\n",
       " 'max_depth': 4,\n",
       " 'min_child_weight': 3,\n",
       " 'scale_pos_weight': 20,\n",
       " 'subsample': 0.7}"
      ]
     },
     "execution_count": 704,
     "metadata": {},
     "output_type": "execute_result"
    }
   ],
   "source": [
    "grid_xgb.best_params_"
   ]
  },
  {
   "cell_type": "code",
   "execution_count": 911,
   "id": "348f0a78",
   "metadata": {
    "ExecuteTime": {
     "end_time": "2022-09-13T20:19:11.869796Z",
     "start_time": "2022-09-13T20:19:07.488788Z"
    }
   },
   "outputs": [
    {
     "name": "stdout",
     "output_type": "stream",
     "text": [
      "Training Recall:  0.8862828713574982\n",
      "Testing Recall:  0.8271604938271605\n",
      "\n",
      "\n",
      "Training F1:  0.2755496630206607\n",
      "Testing F1:  0.2581059390048154\n",
      "\n",
      "\n",
      "PR AUC:  0.1363517287111975\n",
      "\n",
      "\n",
      "Training Accuracy:  0.7431649040344692\n",
      "Testing Accuracy:  0.7284371327849589\n"
     ]
    }
   ],
   "source": [
    "# Storing best performing model from grid search\n",
    "# xgb_best = XGBClassifier(random_state=42, learning_rate=0.1, \n",
    "#                          max_depth= 4, min_child_weight= 7,\n",
    "#                          scale_pos_weight= 100, subsample= 0.5)\n",
    "\n",
    "xgb_best = XGBClassifier(random_state=42, learning_rate=0.1, \n",
    "                         max_depth= 4, min_child_weight= 3,\n",
    "                         scale_pos_weight= 20, subsample= 0.7)\n",
    "\n",
    "xgb_best.fit(X_train_processed, y_train)\n",
    "\n",
    "y_hat_train_xgb_best = xgb_best.predict(X_train_processed)\n",
    "y_hat_test_xgb_best = xgb_best.predict(X_test_processed)\n",
    "\n",
    "print_scores(y_train, y_hat_train_xgb_best, y_test, y_hat_test_xgb_best)"
   ]
  },
  {
   "cell_type": "code",
   "execution_count": null,
   "id": "111bf46b",
   "metadata": {},
   "outputs": [],
   "source": [
    "# Feature importance using best model"
   ]
  },
  {
   "cell_type": "code",
   "execution_count": 841,
   "id": "164a4326",
   "metadata": {
    "ExecuteTime": {
     "end_time": "2022-09-13T19:26:11.026889Z",
     "start_time": "2022-09-13T19:26:10.992649Z"
    }
   },
   "outputs": [
    {
     "data": {
      "text/plain": [
       "[('founded_year', 215.02996173380004),\n",
       " ('funding_rounds', 211.90692118380005),\n",
       " ('time_to_first_funding', 149.1557620872671),\n",
       " ('market_Curated Web', 94.98529302222222),\n",
       " ('funding_total_usd', 85.35961955777476),\n",
       " ('international', 65.95872238333334),\n",
       " ('market_Enterprise Software', 64.97660825),\n",
       " ('round_C', 64.93544948),\n",
       " ('market_Advertising', 63.1362457),\n",
       " ('undisclosed', 63.124936116666674),\n",
       " ('market_Hardware + Software', 62.17092422500001),\n",
       " ('debt_financing', 59.25259103833336),\n",
       " ('market_Biotechnology', 58.582680679999996),\n",
       " ('market_Video', 57.4144745),\n",
       " ('round_D', 56.64323220000001),\n",
       " ('market_Analytics', 56.367070379999994),\n",
       " ('venture', 55.99698201000001),\n",
       " ('region_Denver', 55.9817276),\n",
       " ('market_Mobile', 55.62001216666666),\n",
       " ('market_other', 53.560516361)]"
      ]
     },
     "execution_count": 841,
     "metadata": {},
     "output_type": "execute_result"
    }
   ],
   "source": [
    "f = 'gain' # importance type\n",
    "feat_imp = xgb_best.get_booster().get_score(importance_type= f)\n",
    "sorted(feat_imp.items(), key=lambda item: item[1], reverse=True)[:20]"
   ]
  },
  {
   "cell_type": "code",
   "execution_count": 842,
   "id": "9123c2ad",
   "metadata": {
    "ExecuteTime": {
     "end_time": "2022-09-13T19:26:15.195888Z",
     "start_time": "2022-09-13T19:26:14.920302Z"
    }
   },
   "outputs": [
    {
     "data": {
      "image/png": "[encoded data removed]",
      "text/plain": [
       "<Figure size 432x288 with 1 Axes>"
      ]
     },
     "metadata": {
      "needs_background": "light"
     },
     "output_type": "display_data"
    }
   ],
   "source": [
    "from xgboost import plot_importance\n",
    "plot_importance(xgb_best, max_num_features=20, importance_type=f, \n",
    "                show_values=False)\n",
    "plt.show()"
   ]
  },
  {
   "cell_type": "markdown",
   "id": "e16df7aa",
   "metadata": {},
   "source": [
    "## Feature Selection"
   ]
  },
  {
   "cell_type": "code",
   "execution_count": null,
   "id": "8c19b3ea",
   "metadata": {},
   "outputs": [],
   "source": [
    "### In general, market seems to generate greater feature importance than region.\n",
    "### Thus willing to do top 5 or 10 regions rather than top 40 and see if that\n",
    "### reduces overfitting"
   ]
  },
  {
   "cell_type": "code",
   "execution_count": 162,
   "id": "72f4e012",
   "metadata": {
    "ExecuteTime": {
     "end_time": "2022-09-12T17:48:31.935258Z",
     "start_time": "2022-09-12T17:48:31.875125Z"
    }
   },
   "outputs": [
    {
     "name": "stdout",
     "output_type": "stream",
     "text": [
      "The best features are:['market_Analytics', 'market_Biotechnology', 'market_Curated Web', 'market_Education', 'market_Games', 'market_Health and Wellness', 'market_Medical', 'market_Messaging', 'market_Mobile', 'market_Music', 'market_Networking', 'market_Public Relations', 'market_Search', 'market_Social Media', 'market_Social Network Media', 'market_Technology', 'market_Video', 'market_other', 'funding_rounds', 'founded_year']\n"
     ]
    }
   ],
   "source": [
    "from sklearn.feature_selection import SelectKBest, chi2\n",
    "\n",
    "X_5_best= SelectKBest(chi2, k=20).fit(X_train_scaled, y_train)\n",
    "mask = X_5_best.get_support() #list of booleans for selected features\n",
    "new_feat = [] \n",
    "for bool, feature in zip(mask, X_train_scaled.columns):\n",
    "    if bool:\n",
    "        new_feat.append(feature)\n",
    "print('The best features are:{}'.format(new_feat)) # The list of your 5 best features"
   ]
  },
  {
   "cell_type": "markdown",
   "id": "23d859b9",
   "metadata": {},
   "source": [
    "## SMOTE With Best Model"
   ]
  },
  {
   "cell_type": "code",
   "execution_count": null,
   "id": "f1608efd",
   "metadata": {},
   "outputs": [],
   "source": [
    "smote = SMOTE(random_state=42)\n",
    "X_train_resampled, y_train_resampled = smote.fit_sample(X_train_processed, y_train) "
   ]
  },
  {
   "cell_type": "code",
   "execution_count": null,
   "id": "08cfc3dc",
   "metadata": {},
   "outputs": [],
   "source": [
    "final_model = DecisionTreeClassifier(random_state=42, \n",
    "                                     min_samples_leaf=15, max_depth=8, \n",
    "                                     criterion='entropy')\n",
    "\n",
    "final_model.fit(X_train_resampled, y_train_resampled)\n",
    "\n",
    "y_hat_train = final_model.predict(X_train_resampled)\n",
    "y_hat_test = final_model.predict(X_test_processed)\n",
    "\n",
    "print_scores(y_train_resampled, y_hat_train, y_test, y_hat_test)"
   ]
  },
  {
   "cell_type": "markdown",
   "id": "3a8ef7cf",
   "metadata": {},
   "source": [
    "## Final Model"
   ]
  },
  {
   "cell_type": "code",
   "execution_count": null,
   "id": "75b346c5",
   "metadata": {},
   "outputs": [],
   "source": [
    "final_model = DecisionTreeClassifier(random_state=42, class_weight='balanced',\n",
    "                                     min_samples_leaf=15, max_depth=8, \n",
    "                                     criterion='entropy')\n",
    "\n",
    "final_model.fit(X_train_processed, y_train)\n",
    "\n",
    "y_hat_train = final_model.predict(X_train_processed)\n",
    "y_hat_test = final_model.predict(X_test_processed)\n",
    "\n",
    "print_scores(y_train, y_hat_train, y_test, y_hat_test)"
   ]
  },
  {
   "cell_type": "markdown",
   "id": "0fe2efa2",
   "metadata": {},
   "source": [
    "## Appendix - Extra"
   ]
  },
  {
   "cell_type": "code",
   "execution_count": null,
   "id": "88492ca6",
   "metadata": {},
   "outputs": [],
   "source": [
    "pipe = Pipeline([\n",
    "    (\"scaler\", MinMaxScaler()),\n",
    "    (\"model\", LogisticRegression())\n",
    "])\n",
    "\n",
    "pipe.fit(X_train, y_train)"
   ]
  },
  {
   "cell_type": "code",
   "execution_count": null,
   "id": "819b41df",
   "metadata": {
    "ExecuteTime": {
     "end_time": "2022-09-06T16:20:43.809798Z",
     "start_time": "2022-09-06T16:20:19.478Z"
    }
   },
   "outputs": [],
   "source": [
    "# Replace FireplaceQu NaNs with \"N/A\"s\n",
    "#X_test[\"FireplaceQu\"] = X_test[\"FireplaceQu\"].fillna(\"N/A\")\n",
    "\n",
    "# Add missing indicator for lot frontage\n",
    "#frontage_test = X_test[[\"LotFrontage\"]]\n",
    "#frontage_missing_test = missing_indicator.transform(frontage_test)\n",
    "#X_test[\"LotFrontage_Missing\"] = frontage_missing_test\n",
    "\n",
    "# Impute missing lot frontage values\n",
    "#frontage_imputed_test = imputer.transform(frontage_test)\n",
    "#X_test[\"LotFrontage\"] = frontage_imputed_test\n",
    "\n",
    "# Check that there are no more missing values\n",
    "#X_test.isna().sum()"
   ]
  },
  {
   "cell_type": "code",
   "execution_count": null,
   "id": "ced4b797",
   "metadata": {},
   "outputs": [],
   "source": [
    "# Scale continuous values using MinMaxScaler\n",
    "scaler = MinMaxScaler()\n",
    "X_train_cont = scaler.fit_transform(X_train_cont)\n",
    "X_test_cont = scaler.transform(X_test_cont)\n",
    "\n",
    "# Dummy encode categorical values using OneHotEncoder\n",
    "ohe = OneHotEncoder(handle_unknown='ignore')\n",
    "X_train_cat = ohe.fit_transform(X_train_cat)\n",
    "X_test_cat = ohe.transform(X_test_cat)\n",
    "\n",
    "# Combine everything back together\n",
    "X_train_preprocessed = np.concatenate([X_train_cont, X_train_cat.todense()], axis=1)\n",
    "X_test_preprocessed = np.concatenate([X_test_cont, X_test_cat.todense()], axis=1)"
   ]
  },
  {
   "cell_type": "code",
   "execution_count": 679,
   "id": "f08f9664",
   "metadata": {
    "ExecuteTime": {
     "end_time": "2022-09-13T16:42:51.320456Z",
     "start_time": "2022-09-13T16:42:51.307658Z"
    }
   },
   "outputs": [],
   "source": [
    "cat_columns = ['market', 'region'] #, 'founded_quarter']\n",
    "\n",
    "cat_train = X_train[cat_columns].reset_index(drop=True)\n",
    "cat_test = X_test[cat_columns].reset_index(drop=True)\n",
    "\n",
    "ohe = OneHotEncoder(handle_unknown = 'ignore')\n",
    "\n",
    "encoded_train = ohe.fit_transform(cat_train).toarray()\n",
    "\n",
    "X_train_cat = pd.DataFrame(encoded_train, columns=ohe.get_feature_names(cat_train.columns))\n",
    "\n",
    "X_train_processed = pd.concat([X_train_cat, X_train_cont, X_train_cat_eng], axis=1)\n",
    "X_train_scaled = pd.concat([X_train_cat, X_train_cont_scaled, X_train_cat_eng], axis=1) \n",
    "\n",
    "display(X_train_processed.head())\n",
    "X_train_scaled.head()"
   ]
  },
  {
   "cell_type": "code",
   "execution_count": null,
   "id": "fe3a32f2",
   "metadata": {},
   "outputs": [],
   "source": [
    "selector = VarianceThreshold()\n",
    "reduced_feature_train = pd.DataFrame(selector.fit_transform(X_train_processed), \n",
    "                                     columns=X_poly_train.columns, \n",
    "                                     index=X_train_processed.index)\n",
    "\n",
    "\n",
    "#reduced_feature_test = pd.DataFrame(selector.transform(X_poly_test), columns=X_poly_test.columns, index=X_poly_test.index)"
   ]
  },
  {
   "cell_type": "code",
   "execution_count": null,
   "id": "e12ba449",
   "metadata": {},
   "outputs": [],
   "source": [
    "selector = SelectKBest(score_func=f_classif)\n",
    "X_k_best_train = selector.fit_transform(X_poly_train, y_train)\n",
    "X_k_best_test = selector.transform(X_poly_test)"
   ]
  },
  {
   "cell_type": "code",
   "execution_count": null,
   "id": "9c2abe56",
   "metadata": {},
   "outputs": [],
   "source": [
    "\n",
    "#baseline_model.score\n",
    "\n",
    "# Use cross_val_score with scoring=\"neg_log_loss\" to evaluate the model\n",
    "# on X_train and y_train\n",
    "#baseline_neg_log_loss_cv = cross_val_score(baseline_model, X_train, y_train, scoring=\"neg_log_loss\")\n",
    "\n",
    "#baseline_log_loss = -(baseline_neg_log_loss_cv.mean())\n",
    "#baseline_log_loss"
   ]
  },
  {
   "cell_type": "code",
   "execution_count": 98,
   "id": "0b40b573",
   "metadata": {
    "ExecuteTime": {
     "end_time": "2022-09-06T17:33:18.536202Z",
     "start_time": "2022-09-06T17:33:18.393676Z"
    }
   },
   "outputs": [
    {
     "name": "stdout",
     "output_type": "stream",
     "text": [
      "0    31427\n",
      "2     2758\n",
      "1     1907\n",
      "dtype: int64\n",
      "------------------------------------\n",
      "0    0.870747\n",
      "2    0.076416\n",
      "1    0.052837\n",
      "dtype: float64\n"
     ]
    }
   ],
   "source": [
    "## WHAT IS THIS SAYING??\n",
    "residuals = np.abs(y_train - y_hat_train)\n",
    "print(pd.Series(residuals).value_counts())\n",
    "print('------------------------------------')\n",
    "print(pd.Series(residuals).value_counts(normalize=True))\n",
    "#print(classification_report(y_test, y_hat_test))"
   ]
  },
  {
   "cell_type": "code",
   "execution_count": null,
   "id": "6ec7ce5a",
   "metadata": {},
   "outputs": [],
   "source": [
    "## source: https://www.analyticsvidhya.com/blog/2020/03/one-hot-encoding-vs-label-encoding-using-scikit-learn/\n",
    "\n",
    "# Function to calculate VIF\n",
    "def calculate_vif(data):\n",
    "    vif_df = pd.DataFrame(columns = ['Var', 'Vif'])\n",
    "    x_var_names = data.columns\n",
    "    for i in range(0, x_var_names.shape[0]):\n",
    "        y = data[x_var_names[i]]\n",
    "        x = data[x_var_names.drop([x_var_names[i]])]\n",
    "        r_squared = sm.OLS(y,x).fit().rsquared\n",
    "        vif = round(1/(1-r_squared),2)\n",
    "        vif_df.loc[i] = [x_var_names[i], vif]\n",
    "    return vif_df.sort_values(by = 'Vif', axis = 0, ascending=False, inplace=False)\n",
    "\n",
    "X=df.drop(['Salary'],axis=1)\n",
    "calculate_vif(X)"
   ]
  },
  {
   "cell_type": "code",
   "execution_count": 166,
   "id": "49e59010",
   "metadata": {
    "ExecuteTime": {
     "end_time": "2022-09-12T17:50:34.023701Z",
     "start_time": "2022-09-12T17:50:33.728184Z"
    }
   },
   "outputs": [
    {
     "data": {
      "image/png": "[encoded data removed]",
      "text/plain": [
       "<Figure size 432x288 with 1 Axes>"
      ]
     },
     "metadata": {
      "needs_background": "light"
     },
     "output_type": "display_data"
    }
   ],
   "source": [
    "importances = rfc.feature_importances_[:20]\n",
    "feature_names = [f\"feature {i}\" for i in range(X_train_processed.shape[1])][:20]\n",
    "forest_importances = pd.Series(importances, index=feature_names)[:20]\n",
    "#std = np.std([rfc.feature_importances_ for tree in rfc.estimators_], axis=0)\n",
    "\n",
    "fig, ax = plt.subplots()\n",
    "forest_importances.plot.bar(ax=ax) # yerr=std, \n",
    "ax.set_title(\"Feature importances using MDI\")\n",
    "ax.set_ylabel(\"Mean decrease in impurity\")\n",
    "fig.tight_layout()"
   ]
  },
  {
   "cell_type": "code",
   "execution_count": 604,
   "id": "ac3ae0c2",
   "metadata": {
    "ExecuteTime": {
     "end_time": "2022-09-13T16:18:24.210673Z",
     "start_time": "2022-09-13T16:18:23.240720Z"
    }
   },
   "outputs": [
    {
     "name": "stdout",
     "output_type": "stream",
     "text": [
      "\u001b[31mERROR: Could not find a version that satisfies the requirement neptune (from versions: none)\u001b[0m\n",
      "\u001b[31mERROR: No matching distribution found for neptune\u001b[0m\n",
      "Note: you may need to restart the kernel to use updated packages.\n"
     ]
    },
    {
     "ename": "ModuleNotFoundError",
     "evalue": "No module named 'neptune'",
     "output_type": "error",
     "traceback": [
      "\u001b[0;31m---------------------------------------------------------------------------\u001b[0m",
      "\u001b[0;31mModuleNotFoundError\u001b[0m                       Traceback (most recent call last)",
      "\u001b[0;32m<ipython-input-604-9569e61c4d63>\u001b[0m in \u001b[0;36m<module>\u001b[0;34m\u001b[0m\n\u001b[1;32m      3\u001b[0m \u001b[0;31m# https://stackoverflow.com/questions/44937698/lightgbm-oserror-library-not-loaded\u001b[0m\u001b[0;34m\u001b[0m\u001b[0;34m\u001b[0m\u001b[0;34m\u001b[0m\u001b[0m\n\u001b[1;32m      4\u001b[0m \u001b[0mget_ipython\u001b[0m\u001b[0;34m(\u001b[0m\u001b[0;34m)\u001b[0m\u001b[0;34m.\u001b[0m\u001b[0mrun_line_magic\u001b[0m\u001b[0;34m(\u001b[0m\u001b[0;34m'pip'\u001b[0m\u001b[0;34m,\u001b[0m \u001b[0;34m'install neptune'\u001b[0m\u001b[0;34m)\u001b[0m\u001b[0;34m\u001b[0m\u001b[0;34m\u001b[0m\u001b[0m\n\u001b[0;32m----> 5\u001b[0;31m \u001b[0;32mimport\u001b[0m \u001b[0mneptune\u001b[0m\u001b[0;34m.\u001b[0m\u001b[0mnew\u001b[0m \u001b[0;32mas\u001b[0m \u001b[0mneptune\u001b[0m\u001b[0;34m\u001b[0m\u001b[0;34m\u001b[0m\u001b[0m\n\u001b[0m\u001b[1;32m      6\u001b[0m \u001b[0;34m\u001b[0m\u001b[0m\n\u001b[1;32m      7\u001b[0m \u001b[0;32mfrom\u001b[0m \u001b[0mxgboost\u001b[0m \u001b[0;32mimport\u001b[0m \u001b[0mXGBClassifier\u001b[0m\u001b[0;34m\u001b[0m\u001b[0;34m\u001b[0m\u001b[0m\n",
      "\u001b[0;31mModuleNotFoundError\u001b[0m: No module named 'neptune'"
     ]
    }
   ],
   "source": [
    "# need to do this in command line\n",
    "# brew install libomp \n",
    "# https://stackoverflow.com/questions/44937698/lightgbm-oserror-library-not-loaded\n",
    "import neptune.new as neptune\n",
    " \n",
    "from xgboost import XGBClassifier\n",
    "from lightgbm import LGBMClassifier\n",
    "#import lightgbm\n",
    "\n",
    "MODEL_PARAMS = {'random_state': 42,\n",
    "                'learning_rate': 0.1,\n",
    "                'n_estimators': 200, \n",
    "                'scale_pos_weight': 100}\n",
    "\n",
    "# Train model\n",
    "model = lightgbm.LGBMClassifier(**MODEL_PARAMS)\n",
    "model.fit(X_train_processed, y_train)\n",
    "\n",
    "# Evaluate model\n",
    "y_test_pred = model.predict_proba(X_test_processed)\n",
    "y_train_pred = model.predict_proba(X_train_processed)\n",
    "\n",
    "print_scores(y_train, y_train_pred, y_test, y_test_pred)"
   ]
  },
  {
   "cell_type": "code",
   "execution_count": 1144,
   "id": "c9849b3a",
   "metadata": {
    "ExecuteTime": {
     "end_time": "2022-09-13T23:00:31.402665Z",
     "start_time": "2022-09-13T23:00:30.778463Z"
    }
   },
   "outputs": [
    {
     "ename": "AttributeError",
     "evalue": "'Pipeline' object has no attribute 'recall_score'",
     "output_type": "error",
     "traceback": [
      "\u001b[0;31m---------------------------------------------------------------------------\u001b[0m",
      "\u001b[0;31mAttributeError\u001b[0m                            Traceback (most recent call last)",
      "\u001b[0;32m<ipython-input-1144-ee9162c4a57f>\u001b[0m in \u001b[0;36m<module>\u001b[0;34m\u001b[0m\n\u001b[1;32m      7\u001b[0m \u001b[0mpipe\u001b[0m\u001b[0;34m.\u001b[0m\u001b[0mfit\u001b[0m\u001b[0;34m(\u001b[0m\u001b[0mX_train_processed\u001b[0m\u001b[0;34m,\u001b[0m \u001b[0my_train\u001b[0m\u001b[0;34m)\u001b[0m\u001b[0;34m\u001b[0m\u001b[0;34m\u001b[0m\u001b[0m\n\u001b[1;32m      8\u001b[0m \u001b[0mpipe\u001b[0m\u001b[0;34m.\u001b[0m\u001b[0mscore\u001b[0m\u001b[0;34m(\u001b[0m\u001b[0mX_test_processed\u001b[0m\u001b[0;34m,\u001b[0m \u001b[0my_test\u001b[0m\u001b[0;34m)\u001b[0m\u001b[0;34m\u001b[0m\u001b[0;34m\u001b[0m\u001b[0m\n\u001b[0;32m----> 9\u001b[0;31m \u001b[0mpipe\u001b[0m\u001b[0;34m.\u001b[0m\u001b[0mrecall_score\u001b[0m\u001b[0;34m(\u001b[0m\u001b[0mX_test_processed\u001b[0m\u001b[0;34m,\u001b[0m \u001b[0my_test\u001b[0m\u001b[0;34m)\u001b[0m\u001b[0;34m\u001b[0m\u001b[0;34m\u001b[0m\u001b[0m\n\u001b[0m",
      "\u001b[0;31mAttributeError\u001b[0m: 'Pipeline' object has no attribute 'recall_score'"
     ]
    }
   ],
   "source": [
    "pipe = Pipeline(steps=[\n",
    "    (\"lr\", LogisticRegression(random_state=42, class_weight=)),\n",
    "    #(\"dt\", DecisionTreeClassifier(random_state=42))\n",
    "])\n",
    "\n",
    "# Use the pipeline to fit the model and score it\n",
    "pipe.fit(X_train_processed, y_train)\n",
    "pipe.score(X_test_processed, y_test)"
   ]
  },
  {
   "cell_type": "code",
   "execution_count": 735,
   "id": "bef4c39b",
   "metadata": {
    "ExecuteTime": {
     "end_time": "2022-09-13T18:56:53.894074Z",
     "start_time": "2022-09-13T18:56:53.354072Z"
    }
   },
   "outputs": [
    {
     "ename": "ValueError",
     "evalue": "Found input variables with inconsistent numbers of samples: [25530, 23992]",
     "output_type": "error",
     "traceback": [
      "\u001b[0;31m---------------------------------------------------------------------------\u001b[0m",
      "\u001b[0;31mValueError\u001b[0m                                Traceback (most recent call last)",
      "\u001b[0;32m<ipython-input-735-325f5f151980>\u001b[0m in \u001b[0;36m<module>\u001b[0;34m\u001b[0m\n\u001b[1;32m      1\u001b[0m \u001b[0;32mfrom\u001b[0m \u001b[0msklearn\u001b[0m\u001b[0;34m.\u001b[0m\u001b[0mfeature_selection\u001b[0m \u001b[0;32mimport\u001b[0m \u001b[0mSelectKBest\u001b[0m\u001b[0;34m,\u001b[0m \u001b[0mchi2\u001b[0m\u001b[0;34m,\u001b[0m \u001b[0mf_classif\u001b[0m\u001b[0;34m\u001b[0m\u001b[0;34m\u001b[0m\u001b[0m\n\u001b[1;32m      2\u001b[0m \u001b[0;34m\u001b[0m\u001b[0m\n\u001b[0;32m----> 3\u001b[0;31m \u001b[0mX_10_best\u001b[0m\u001b[0;34m=\u001b[0m \u001b[0mSelectKBest\u001b[0m\u001b[0;34m(\u001b[0m\u001b[0mf_classif\u001b[0m\u001b[0;34m,\u001b[0m \u001b[0mk\u001b[0m\u001b[0;34m=\u001b[0m\u001b[0;36m10\u001b[0m\u001b[0;34m)\u001b[0m\u001b[0;34m.\u001b[0m\u001b[0mfit\u001b[0m\u001b[0;34m(\u001b[0m\u001b[0mX_train_processed\u001b[0m\u001b[0;34m,\u001b[0m \u001b[0my_train\u001b[0m\u001b[0;34m)\u001b[0m\u001b[0;34m\u001b[0m\u001b[0;34m\u001b[0m\u001b[0m\n\u001b[0m\u001b[1;32m      4\u001b[0m \u001b[0mmask\u001b[0m \u001b[0;34m=\u001b[0m \u001b[0mX_10_best\u001b[0m\u001b[0;34m.\u001b[0m\u001b[0mget_support\u001b[0m\u001b[0;34m(\u001b[0m\u001b[0;34m)\u001b[0m \u001b[0;31m#list of booleans for selected features\u001b[0m\u001b[0;34m\u001b[0m\u001b[0;34m\u001b[0m\u001b[0m\n\u001b[1;32m      5\u001b[0m \u001b[0mnew_feat\u001b[0m \u001b[0;34m=\u001b[0m \u001b[0;34m[\u001b[0m\u001b[0;34m]\u001b[0m\u001b[0;34m\u001b[0m\u001b[0;34m\u001b[0m\u001b[0m\n",
      "\u001b[0;32m~/opt/anaconda3/envs/learn-env/lib/python3.8/site-packages/sklearn/feature_selection/_univariate_selection.py\u001b[0m in \u001b[0;36mfit\u001b[0;34m(self, X, y)\u001b[0m\n\u001b[1;32m    342\u001b[0m         \u001b[0mself\u001b[0m \u001b[0;34m:\u001b[0m \u001b[0mobject\u001b[0m\u001b[0;34m\u001b[0m\u001b[0;34m\u001b[0m\u001b[0m\n\u001b[1;32m    343\u001b[0m         \"\"\"\n\u001b[0;32m--> 344\u001b[0;31m         X, y = self._validate_data(X, y, accept_sparse=['csr', 'csc'],\n\u001b[0m\u001b[1;32m    345\u001b[0m                                    multi_output=True)\n\u001b[1;32m    346\u001b[0m \u001b[0;34m\u001b[0m\u001b[0m\n",
      "\u001b[0;32m~/opt/anaconda3/envs/learn-env/lib/python3.8/site-packages/sklearn/base.py\u001b[0m in \u001b[0;36m_validate_data\u001b[0;34m(self, X, y, reset, validate_separately, **check_params)\u001b[0m\n\u001b[1;32m    430\u001b[0m                 \u001b[0my\u001b[0m \u001b[0;34m=\u001b[0m \u001b[0mcheck_array\u001b[0m\u001b[0;34m(\u001b[0m\u001b[0my\u001b[0m\u001b[0;34m,\u001b[0m \u001b[0;34m**\u001b[0m\u001b[0mcheck_y_params\u001b[0m\u001b[0;34m)\u001b[0m\u001b[0;34m\u001b[0m\u001b[0;34m\u001b[0m\u001b[0m\n\u001b[1;32m    431\u001b[0m             \u001b[0;32melse\u001b[0m\u001b[0;34m:\u001b[0m\u001b[0;34m\u001b[0m\u001b[0;34m\u001b[0m\u001b[0m\n\u001b[0;32m--> 432\u001b[0;31m                 \u001b[0mX\u001b[0m\u001b[0;34m,\u001b[0m \u001b[0my\u001b[0m \u001b[0;34m=\u001b[0m \u001b[0mcheck_X_y\u001b[0m\u001b[0;34m(\u001b[0m\u001b[0mX\u001b[0m\u001b[0;34m,\u001b[0m \u001b[0my\u001b[0m\u001b[0;34m,\u001b[0m \u001b[0;34m**\u001b[0m\u001b[0mcheck_params\u001b[0m\u001b[0;34m)\u001b[0m\u001b[0;34m\u001b[0m\u001b[0;34m\u001b[0m\u001b[0m\n\u001b[0m\u001b[1;32m    433\u001b[0m             \u001b[0mout\u001b[0m \u001b[0;34m=\u001b[0m \u001b[0mX\u001b[0m\u001b[0;34m,\u001b[0m \u001b[0my\u001b[0m\u001b[0;34m\u001b[0m\u001b[0;34m\u001b[0m\u001b[0m\n\u001b[1;32m    434\u001b[0m \u001b[0;34m\u001b[0m\u001b[0m\n",
      "\u001b[0;32m~/opt/anaconda3/envs/learn-env/lib/python3.8/site-packages/sklearn/utils/validation.py\u001b[0m in \u001b[0;36minner_f\u001b[0;34m(*args, **kwargs)\u001b[0m\n\u001b[1;32m     70\u001b[0m                           FutureWarning)\n\u001b[1;32m     71\u001b[0m         \u001b[0mkwargs\u001b[0m\u001b[0;34m.\u001b[0m\u001b[0mupdate\u001b[0m\u001b[0;34m(\u001b[0m\u001b[0;34m{\u001b[0m\u001b[0mk\u001b[0m\u001b[0;34m:\u001b[0m \u001b[0marg\u001b[0m \u001b[0;32mfor\u001b[0m \u001b[0mk\u001b[0m\u001b[0;34m,\u001b[0m \u001b[0marg\u001b[0m \u001b[0;32min\u001b[0m \u001b[0mzip\u001b[0m\u001b[0;34m(\u001b[0m\u001b[0msig\u001b[0m\u001b[0;34m.\u001b[0m\u001b[0mparameters\u001b[0m\u001b[0;34m,\u001b[0m \u001b[0margs\u001b[0m\u001b[0;34m)\u001b[0m\u001b[0;34m}\u001b[0m\u001b[0;34m)\u001b[0m\u001b[0;34m\u001b[0m\u001b[0;34m\u001b[0m\u001b[0m\n\u001b[0;32m---> 72\u001b[0;31m         \u001b[0;32mreturn\u001b[0m \u001b[0mf\u001b[0m\u001b[0;34m(\u001b[0m\u001b[0;34m**\u001b[0m\u001b[0mkwargs\u001b[0m\u001b[0;34m)\u001b[0m\u001b[0;34m\u001b[0m\u001b[0;34m\u001b[0m\u001b[0m\n\u001b[0m\u001b[1;32m     73\u001b[0m     \u001b[0;32mreturn\u001b[0m \u001b[0minner_f\u001b[0m\u001b[0;34m\u001b[0m\u001b[0;34m\u001b[0m\u001b[0m\n\u001b[1;32m     74\u001b[0m \u001b[0;34m\u001b[0m\u001b[0m\n",
      "\u001b[0;32m~/opt/anaconda3/envs/learn-env/lib/python3.8/site-packages/sklearn/utils/validation.py\u001b[0m in \u001b[0;36mcheck_X_y\u001b[0;34m(X, y, accept_sparse, accept_large_sparse, dtype, order, copy, force_all_finite, ensure_2d, allow_nd, multi_output, ensure_min_samples, ensure_min_features, y_numeric, estimator)\u001b[0m\n\u001b[1;32m    810\u001b[0m         \u001b[0my\u001b[0m \u001b[0;34m=\u001b[0m \u001b[0my\u001b[0m\u001b[0;34m.\u001b[0m\u001b[0mastype\u001b[0m\u001b[0;34m(\u001b[0m\u001b[0mnp\u001b[0m\u001b[0;34m.\u001b[0m\u001b[0mfloat64\u001b[0m\u001b[0;34m)\u001b[0m\u001b[0;34m\u001b[0m\u001b[0;34m\u001b[0m\u001b[0m\n\u001b[1;32m    811\u001b[0m \u001b[0;34m\u001b[0m\u001b[0m\n\u001b[0;32m--> 812\u001b[0;31m     \u001b[0mcheck_consistent_length\u001b[0m\u001b[0;34m(\u001b[0m\u001b[0mX\u001b[0m\u001b[0;34m,\u001b[0m \u001b[0my\u001b[0m\u001b[0;34m)\u001b[0m\u001b[0;34m\u001b[0m\u001b[0;34m\u001b[0m\u001b[0m\n\u001b[0m\u001b[1;32m    813\u001b[0m \u001b[0;34m\u001b[0m\u001b[0m\n\u001b[1;32m    814\u001b[0m     \u001b[0;32mreturn\u001b[0m \u001b[0mX\u001b[0m\u001b[0;34m,\u001b[0m \u001b[0my\u001b[0m\u001b[0;34m\u001b[0m\u001b[0;34m\u001b[0m\u001b[0m\n",
      "\u001b[0;32m~/opt/anaconda3/envs/learn-env/lib/python3.8/site-packages/sklearn/utils/validation.py\u001b[0m in \u001b[0;36mcheck_consistent_length\u001b[0;34m(*arrays)\u001b[0m\n\u001b[1;32m    253\u001b[0m     \u001b[0muniques\u001b[0m \u001b[0;34m=\u001b[0m \u001b[0mnp\u001b[0m\u001b[0;34m.\u001b[0m\u001b[0munique\u001b[0m\u001b[0;34m(\u001b[0m\u001b[0mlengths\u001b[0m\u001b[0;34m)\u001b[0m\u001b[0;34m\u001b[0m\u001b[0;34m\u001b[0m\u001b[0m\n\u001b[1;32m    254\u001b[0m     \u001b[0;32mif\u001b[0m \u001b[0mlen\u001b[0m\u001b[0;34m(\u001b[0m\u001b[0muniques\u001b[0m\u001b[0;34m)\u001b[0m \u001b[0;34m>\u001b[0m \u001b[0;36m1\u001b[0m\u001b[0;34m:\u001b[0m\u001b[0;34m\u001b[0m\u001b[0;34m\u001b[0m\u001b[0m\n\u001b[0;32m--> 255\u001b[0;31m         raise ValueError(\"Found input variables with inconsistent numbers of\"\n\u001b[0m\u001b[1;32m    256\u001b[0m                          \" samples: %r\" % [int(l) for l in lengths])\n\u001b[1;32m    257\u001b[0m \u001b[0;34m\u001b[0m\u001b[0m\n",
      "\u001b[0;31mValueError\u001b[0m: Found input variables with inconsistent numbers of samples: [25530, 23992]"
     ]
    }
   ],
   "source": [
    "from sklearn.feature_selection import SelectKBest, chi2, f_classif\n",
    "\n",
    "X_10_best= SelectKBest(f_classif, k=10).fit(X_train_processed, y_train)\n",
    "mask = X_10_best.get_support() #list of booleans for selected features\n",
    "new_feat = [] \n",
    "for bool, feature in zip(mask, X_train_processed.columns):\n",
    "    if bool:\n",
    "        new_feat.append(feature)\n",
    "print('The best features (using f_classif score) are: {}'.format(new_feat)) \n",
    "# The list of 10 best features"
   ]
  },
  {
   "cell_type": "code",
   "execution_count": 308,
   "id": "c7e0eedd",
   "metadata": {
    "ExecuteTime": {
     "end_time": "2022-09-09T16:56:57.005572Z",
     "start_time": "2022-09-09T16:50:55.093706Z"
    }
   },
   "outputs": [
    {
     "ename": "KeyboardInterrupt",
     "evalue": "",
     "output_type": "error",
     "traceback": [
      "\u001b[0;31m---------------------------------------------------------------------------\u001b[0m",
      "\u001b[0;31mKeyboardInterrupt\u001b[0m                         Traceback (most recent call last)",
      "\u001b[0;32m<ipython-input-308-115811513caa>\u001b[0m in \u001b[0;36m<module>\u001b[0;34m\u001b[0m\n\u001b[1;32m      2\u001b[0m \u001b[0mestimator\u001b[0m \u001b[0;34m=\u001b[0m \u001b[0mlogreg3\u001b[0m\u001b[0;34m\u001b[0m\u001b[0;34m\u001b[0m\u001b[0m\n\u001b[1;32m      3\u001b[0m \u001b[0mselector\u001b[0m \u001b[0;34m=\u001b[0m \u001b[0mRFE\u001b[0m\u001b[0;34m(\u001b[0m\u001b[0mestimator\u001b[0m\u001b[0;34m,\u001b[0m \u001b[0;36m5\u001b[0m\u001b[0;34m,\u001b[0m \u001b[0mstep\u001b[0m\u001b[0;34m=\u001b[0m\u001b[0;36m1\u001b[0m\u001b[0;34m)\u001b[0m\u001b[0;34m\u001b[0m\u001b[0;34m\u001b[0m\u001b[0m\n\u001b[0;32m----> 4\u001b[0;31m \u001b[0mselector\u001b[0m \u001b[0;34m=\u001b[0m \u001b[0mselector\u001b[0m\u001b[0;34m.\u001b[0m\u001b[0mfit\u001b[0m\u001b[0;34m(\u001b[0m\u001b[0mX_train_scaled\u001b[0m\u001b[0;34m,\u001b[0m \u001b[0my_train\u001b[0m\u001b[0;34m)\u001b[0m\u001b[0;34m\u001b[0m\u001b[0;34m\u001b[0m\u001b[0m\n\u001b[0m\u001b[1;32m      5\u001b[0m \u001b[0mrfe_mask\u001b[0m \u001b[0;34m=\u001b[0m \u001b[0mselector\u001b[0m\u001b[0;34m.\u001b[0m\u001b[0mget_support\u001b[0m\u001b[0;34m(\u001b[0m\u001b[0;34m)\u001b[0m \u001b[0;31m#list of booleans for selected features\u001b[0m\u001b[0;34m\u001b[0m\u001b[0;34m\u001b[0m\u001b[0m\n\u001b[1;32m      6\u001b[0m \u001b[0;34m\u001b[0m\u001b[0m\n",
      "\u001b[0;32m~/opt/anaconda3/envs/learn-env/lib/python3.8/site-packages/sklearn/feature_selection/_rfe.py\u001b[0m in \u001b[0;36mfit\u001b[0;34m(self, X, y)\u001b[0m\n\u001b[1;32m    149\u001b[0m             \u001b[0mThe\u001b[0m \u001b[0mtarget\u001b[0m \u001b[0mvalues\u001b[0m\u001b[0;34m.\u001b[0m\u001b[0;34m\u001b[0m\u001b[0;34m\u001b[0m\u001b[0m\n\u001b[1;32m    150\u001b[0m         \"\"\"\n\u001b[0;32m--> 151\u001b[0;31m         \u001b[0;32mreturn\u001b[0m \u001b[0mself\u001b[0m\u001b[0;34m.\u001b[0m\u001b[0m_fit\u001b[0m\u001b[0;34m(\u001b[0m\u001b[0mX\u001b[0m\u001b[0;34m,\u001b[0m \u001b[0my\u001b[0m\u001b[0;34m)\u001b[0m\u001b[0;34m\u001b[0m\u001b[0;34m\u001b[0m\u001b[0m\n\u001b[0m\u001b[1;32m    152\u001b[0m \u001b[0;34m\u001b[0m\u001b[0m\n\u001b[1;32m    153\u001b[0m     \u001b[0;32mdef\u001b[0m \u001b[0m_fit\u001b[0m\u001b[0;34m(\u001b[0m\u001b[0mself\u001b[0m\u001b[0;34m,\u001b[0m \u001b[0mX\u001b[0m\u001b[0;34m,\u001b[0m \u001b[0my\u001b[0m\u001b[0;34m,\u001b[0m \u001b[0mstep_score\u001b[0m\u001b[0;34m=\u001b[0m\u001b[0;32mNone\u001b[0m\u001b[0;34m)\u001b[0m\u001b[0;34m:\u001b[0m\u001b[0;34m\u001b[0m\u001b[0;34m\u001b[0m\u001b[0m\n",
      "\u001b[0;32m~/opt/anaconda3/envs/learn-env/lib/python3.8/site-packages/sklearn/feature_selection/_rfe.py\u001b[0m in \u001b[0;36m_fit\u001b[0;34m(self, X, y, step_score)\u001b[0m\n\u001b[1;32m    194\u001b[0m                 \u001b[0mprint\u001b[0m\u001b[0;34m(\u001b[0m\u001b[0;34m\"Fitting estimator with %d features.\"\u001b[0m \u001b[0;34m%\u001b[0m \u001b[0mnp\u001b[0m\u001b[0;34m.\u001b[0m\u001b[0msum\u001b[0m\u001b[0;34m(\u001b[0m\u001b[0msupport_\u001b[0m\u001b[0;34m)\u001b[0m\u001b[0;34m)\u001b[0m\u001b[0;34m\u001b[0m\u001b[0;34m\u001b[0m\u001b[0m\n\u001b[1;32m    195\u001b[0m \u001b[0;34m\u001b[0m\u001b[0m\n\u001b[0;32m--> 196\u001b[0;31m             \u001b[0mestimator\u001b[0m\u001b[0;34m.\u001b[0m\u001b[0mfit\u001b[0m\u001b[0;34m(\u001b[0m\u001b[0mX\u001b[0m\u001b[0;34m[\u001b[0m\u001b[0;34m:\u001b[0m\u001b[0;34m,\u001b[0m \u001b[0mfeatures\u001b[0m\u001b[0;34m]\u001b[0m\u001b[0;34m,\u001b[0m \u001b[0my\u001b[0m\u001b[0;34m)\u001b[0m\u001b[0;34m\u001b[0m\u001b[0;34m\u001b[0m\u001b[0m\n\u001b[0m\u001b[1;32m    197\u001b[0m \u001b[0;34m\u001b[0m\u001b[0m\n\u001b[1;32m    198\u001b[0m             \u001b[0;31m# Get coefs\u001b[0m\u001b[0;34m\u001b[0m\u001b[0;34m\u001b[0m\u001b[0;34m\u001b[0m\u001b[0m\n",
      "\u001b[0;32m~/opt/anaconda3/envs/learn-env/lib/python3.8/site-packages/sklearn/linear_model/_logistic.py\u001b[0m in \u001b[0;36mfit\u001b[0;34m(self, X, y, sample_weight)\u001b[0m\n\u001b[1;32m   1405\u001b[0m         \u001b[0;32melse\u001b[0m\u001b[0;34m:\u001b[0m\u001b[0;34m\u001b[0m\u001b[0;34m\u001b[0m\u001b[0m\n\u001b[1;32m   1406\u001b[0m             \u001b[0mprefer\u001b[0m \u001b[0;34m=\u001b[0m \u001b[0;34m'processes'\u001b[0m\u001b[0;34m\u001b[0m\u001b[0;34m\u001b[0m\u001b[0m\n\u001b[0;32m-> 1407\u001b[0;31m         fold_coefs_ = Parallel(n_jobs=self.n_jobs, verbose=self.verbose,\n\u001b[0m\u001b[1;32m   1408\u001b[0m                                \u001b[0;34m**\u001b[0m\u001b[0m_joblib_parallel_args\u001b[0m\u001b[0;34m(\u001b[0m\u001b[0mprefer\u001b[0m\u001b[0;34m=\u001b[0m\u001b[0mprefer\u001b[0m\u001b[0;34m)\u001b[0m\u001b[0;34m)\u001b[0m\u001b[0;34m(\u001b[0m\u001b[0;34m\u001b[0m\u001b[0;34m\u001b[0m\u001b[0m\n\u001b[1;32m   1409\u001b[0m             path_func(X, y, pos_class=class_, Cs=[C_],\n",
      "\u001b[0;32m~/opt/anaconda3/envs/learn-env/lib/python3.8/site-packages/joblib/parallel.py\u001b[0m in \u001b[0;36m__call__\u001b[0;34m(self, iterable)\u001b[0m\n\u001b[1;32m   1046\u001b[0m             \u001b[0;31m# remaining jobs.\u001b[0m\u001b[0;34m\u001b[0m\u001b[0;34m\u001b[0m\u001b[0;34m\u001b[0m\u001b[0m\n\u001b[1;32m   1047\u001b[0m             \u001b[0mself\u001b[0m\u001b[0;34m.\u001b[0m\u001b[0m_iterating\u001b[0m \u001b[0;34m=\u001b[0m \u001b[0;32mFalse\u001b[0m\u001b[0;34m\u001b[0m\u001b[0;34m\u001b[0m\u001b[0m\n\u001b[0;32m-> 1048\u001b[0;31m             \u001b[0;32mif\u001b[0m \u001b[0mself\u001b[0m\u001b[0;34m.\u001b[0m\u001b[0mdispatch_one_batch\u001b[0m\u001b[0;34m(\u001b[0m\u001b[0miterator\u001b[0m\u001b[0;34m)\u001b[0m\u001b[0;34m:\u001b[0m\u001b[0;34m\u001b[0m\u001b[0;34m\u001b[0m\u001b[0m\n\u001b[0m\u001b[1;32m   1049\u001b[0m                 \u001b[0mself\u001b[0m\u001b[0;34m.\u001b[0m\u001b[0m_iterating\u001b[0m \u001b[0;34m=\u001b[0m \u001b[0mself\u001b[0m\u001b[0;34m.\u001b[0m\u001b[0m_original_iterator\u001b[0m \u001b[0;32mis\u001b[0m \u001b[0;32mnot\u001b[0m \u001b[0;32mNone\u001b[0m\u001b[0;34m\u001b[0m\u001b[0;34m\u001b[0m\u001b[0m\n\u001b[1;32m   1050\u001b[0m \u001b[0;34m\u001b[0m\u001b[0m\n",
      "\u001b[0;32m~/opt/anaconda3/envs/learn-env/lib/python3.8/site-packages/joblib/parallel.py\u001b[0m in \u001b[0;36mdispatch_one_batch\u001b[0;34m(self, iterator)\u001b[0m\n\u001b[1;32m    864\u001b[0m                 \u001b[0;32mreturn\u001b[0m \u001b[0;32mFalse\u001b[0m\u001b[0;34m\u001b[0m\u001b[0;34m\u001b[0m\u001b[0m\n\u001b[1;32m    865\u001b[0m             \u001b[0;32melse\u001b[0m\u001b[0;34m:\u001b[0m\u001b[0;34m\u001b[0m\u001b[0;34m\u001b[0m\u001b[0m\n\u001b[0;32m--> 866\u001b[0;31m                 \u001b[0mself\u001b[0m\u001b[0;34m.\u001b[0m\u001b[0m_dispatch\u001b[0m\u001b[0;34m(\u001b[0m\u001b[0mtasks\u001b[0m\u001b[0;34m)\u001b[0m\u001b[0;34m\u001b[0m\u001b[0;34m\u001b[0m\u001b[0m\n\u001b[0m\u001b[1;32m    867\u001b[0m                 \u001b[0;32mreturn\u001b[0m \u001b[0;32mTrue\u001b[0m\u001b[0;34m\u001b[0m\u001b[0;34m\u001b[0m\u001b[0m\n\u001b[1;32m    868\u001b[0m \u001b[0;34m\u001b[0m\u001b[0m\n",
      "\u001b[0;32m~/opt/anaconda3/envs/learn-env/lib/python3.8/site-packages/joblib/parallel.py\u001b[0m in \u001b[0;36m_dispatch\u001b[0;34m(self, batch)\u001b[0m\n\u001b[1;32m    782\u001b[0m         \u001b[0;32mwith\u001b[0m \u001b[0mself\u001b[0m\u001b[0;34m.\u001b[0m\u001b[0m_lock\u001b[0m\u001b[0;34m:\u001b[0m\u001b[0;34m\u001b[0m\u001b[0;34m\u001b[0m\u001b[0m\n\u001b[1;32m    783\u001b[0m             \u001b[0mjob_idx\u001b[0m \u001b[0;34m=\u001b[0m \u001b[0mlen\u001b[0m\u001b[0;34m(\u001b[0m\u001b[0mself\u001b[0m\u001b[0;34m.\u001b[0m\u001b[0m_jobs\u001b[0m\u001b[0;34m)\u001b[0m\u001b[0;34m\u001b[0m\u001b[0;34m\u001b[0m\u001b[0m\n\u001b[0;32m--> 784\u001b[0;31m             \u001b[0mjob\u001b[0m \u001b[0;34m=\u001b[0m \u001b[0mself\u001b[0m\u001b[0;34m.\u001b[0m\u001b[0m_backend\u001b[0m\u001b[0;34m.\u001b[0m\u001b[0mapply_async\u001b[0m\u001b[0;34m(\u001b[0m\u001b[0mbatch\u001b[0m\u001b[0;34m,\u001b[0m \u001b[0mcallback\u001b[0m\u001b[0;34m=\u001b[0m\u001b[0mcb\u001b[0m\u001b[0;34m)\u001b[0m\u001b[0;34m\u001b[0m\u001b[0;34m\u001b[0m\u001b[0m\n\u001b[0m\u001b[1;32m    785\u001b[0m             \u001b[0;31m# A job can complete so quickly than its callback is\u001b[0m\u001b[0;34m\u001b[0m\u001b[0;34m\u001b[0m\u001b[0;34m\u001b[0m\u001b[0m\n\u001b[1;32m    786\u001b[0m             \u001b[0;31m# called before we get here, causing self._jobs to\u001b[0m\u001b[0;34m\u001b[0m\u001b[0;34m\u001b[0m\u001b[0;34m\u001b[0m\u001b[0m\n",
      "\u001b[0;32m~/opt/anaconda3/envs/learn-env/lib/python3.8/site-packages/joblib/_parallel_backends.py\u001b[0m in \u001b[0;36mapply_async\u001b[0;34m(self, func, callback)\u001b[0m\n\u001b[1;32m    206\u001b[0m     \u001b[0;32mdef\u001b[0m \u001b[0mapply_async\u001b[0m\u001b[0;34m(\u001b[0m\u001b[0mself\u001b[0m\u001b[0;34m,\u001b[0m \u001b[0mfunc\u001b[0m\u001b[0;34m,\u001b[0m \u001b[0mcallback\u001b[0m\u001b[0;34m=\u001b[0m\u001b[0;32mNone\u001b[0m\u001b[0;34m)\u001b[0m\u001b[0;34m:\u001b[0m\u001b[0;34m\u001b[0m\u001b[0;34m\u001b[0m\u001b[0m\n\u001b[1;32m    207\u001b[0m         \u001b[0;34m\"\"\"Schedule a func to be run\"\"\"\u001b[0m\u001b[0;34m\u001b[0m\u001b[0;34m\u001b[0m\u001b[0m\n\u001b[0;32m--> 208\u001b[0;31m         \u001b[0mresult\u001b[0m \u001b[0;34m=\u001b[0m \u001b[0mImmediateResult\u001b[0m\u001b[0;34m(\u001b[0m\u001b[0mfunc\u001b[0m\u001b[0;34m)\u001b[0m\u001b[0;34m\u001b[0m\u001b[0;34m\u001b[0m\u001b[0m\n\u001b[0m\u001b[1;32m    209\u001b[0m         \u001b[0;32mif\u001b[0m \u001b[0mcallback\u001b[0m\u001b[0;34m:\u001b[0m\u001b[0;34m\u001b[0m\u001b[0;34m\u001b[0m\u001b[0m\n\u001b[1;32m    210\u001b[0m             \u001b[0mcallback\u001b[0m\u001b[0;34m(\u001b[0m\u001b[0mresult\u001b[0m\u001b[0;34m)\u001b[0m\u001b[0;34m\u001b[0m\u001b[0;34m\u001b[0m\u001b[0m\n",
      "\u001b[0;32m~/opt/anaconda3/envs/learn-env/lib/python3.8/site-packages/joblib/_parallel_backends.py\u001b[0m in \u001b[0;36m__init__\u001b[0;34m(self, batch)\u001b[0m\n\u001b[1;32m    570\u001b[0m         \u001b[0;31m# Don't delay the application, to avoid keeping the input\u001b[0m\u001b[0;34m\u001b[0m\u001b[0;34m\u001b[0m\u001b[0;34m\u001b[0m\u001b[0m\n\u001b[1;32m    571\u001b[0m         \u001b[0;31m# arguments in memory\u001b[0m\u001b[0;34m\u001b[0m\u001b[0;34m\u001b[0m\u001b[0;34m\u001b[0m\u001b[0m\n\u001b[0;32m--> 572\u001b[0;31m         \u001b[0mself\u001b[0m\u001b[0;34m.\u001b[0m\u001b[0mresults\u001b[0m \u001b[0;34m=\u001b[0m \u001b[0mbatch\u001b[0m\u001b[0;34m(\u001b[0m\u001b[0;34m)\u001b[0m\u001b[0;34m\u001b[0m\u001b[0;34m\u001b[0m\u001b[0m\n\u001b[0m\u001b[1;32m    573\u001b[0m \u001b[0;34m\u001b[0m\u001b[0m\n\u001b[1;32m    574\u001b[0m     \u001b[0;32mdef\u001b[0m \u001b[0mget\u001b[0m\u001b[0;34m(\u001b[0m\u001b[0mself\u001b[0m\u001b[0;34m)\u001b[0m\u001b[0;34m:\u001b[0m\u001b[0;34m\u001b[0m\u001b[0;34m\u001b[0m\u001b[0m\n",
      "\u001b[0;32m~/opt/anaconda3/envs/learn-env/lib/python3.8/site-packages/joblib/parallel.py\u001b[0m in \u001b[0;36m__call__\u001b[0;34m(self)\u001b[0m\n\u001b[1;32m    260\u001b[0m         \u001b[0;31m# change the default number of processes to -1\u001b[0m\u001b[0;34m\u001b[0m\u001b[0;34m\u001b[0m\u001b[0;34m\u001b[0m\u001b[0m\n\u001b[1;32m    261\u001b[0m         \u001b[0;32mwith\u001b[0m \u001b[0mparallel_backend\u001b[0m\u001b[0;34m(\u001b[0m\u001b[0mself\u001b[0m\u001b[0;34m.\u001b[0m\u001b[0m_backend\u001b[0m\u001b[0;34m,\u001b[0m \u001b[0mn_jobs\u001b[0m\u001b[0;34m=\u001b[0m\u001b[0mself\u001b[0m\u001b[0;34m.\u001b[0m\u001b[0m_n_jobs\u001b[0m\u001b[0;34m)\u001b[0m\u001b[0;34m:\u001b[0m\u001b[0;34m\u001b[0m\u001b[0;34m\u001b[0m\u001b[0m\n\u001b[0;32m--> 262\u001b[0;31m             return [func(*args, **kwargs)\n\u001b[0m\u001b[1;32m    263\u001b[0m                     for func, args, kwargs in self.items]\n\u001b[1;32m    264\u001b[0m \u001b[0;34m\u001b[0m\u001b[0m\n",
      "\u001b[0;32m~/opt/anaconda3/envs/learn-env/lib/python3.8/site-packages/joblib/parallel.py\u001b[0m in \u001b[0;36m<listcomp>\u001b[0;34m(.0)\u001b[0m\n\u001b[1;32m    260\u001b[0m         \u001b[0;31m# change the default number of processes to -1\u001b[0m\u001b[0;34m\u001b[0m\u001b[0;34m\u001b[0m\u001b[0;34m\u001b[0m\u001b[0m\n\u001b[1;32m    261\u001b[0m         \u001b[0;32mwith\u001b[0m \u001b[0mparallel_backend\u001b[0m\u001b[0;34m(\u001b[0m\u001b[0mself\u001b[0m\u001b[0;34m.\u001b[0m\u001b[0m_backend\u001b[0m\u001b[0;34m,\u001b[0m \u001b[0mn_jobs\u001b[0m\u001b[0;34m=\u001b[0m\u001b[0mself\u001b[0m\u001b[0;34m.\u001b[0m\u001b[0m_n_jobs\u001b[0m\u001b[0;34m)\u001b[0m\u001b[0;34m:\u001b[0m\u001b[0;34m\u001b[0m\u001b[0;34m\u001b[0m\u001b[0m\n\u001b[0;32m--> 262\u001b[0;31m             return [func(*args, **kwargs)\n\u001b[0m\u001b[1;32m    263\u001b[0m                     for func, args, kwargs in self.items]\n\u001b[1;32m    264\u001b[0m \u001b[0;34m\u001b[0m\u001b[0m\n",
      "\u001b[0;32m~/opt/anaconda3/envs/learn-env/lib/python3.8/site-packages/sklearn/linear_model/_logistic.py\u001b[0m in \u001b[0;36m_logistic_regression_path\u001b[0;34m(X, y, pos_class, Cs, fit_intercept, max_iter, tol, verbose, solver, coef, class_weight, dual, penalty, intercept_scaling, multi_class, random_state, check_input, max_squared_sum, sample_weight, l1_ratio)\u001b[0m\n\u001b[1;32m    766\u001b[0m         \u001b[0;32melif\u001b[0m \u001b[0msolver\u001b[0m \u001b[0;34m==\u001b[0m \u001b[0;34m'newton-cg'\u001b[0m\u001b[0;34m:\u001b[0m\u001b[0;34m\u001b[0m\u001b[0;34m\u001b[0m\u001b[0m\n\u001b[1;32m    767\u001b[0m             \u001b[0margs\u001b[0m \u001b[0;34m=\u001b[0m \u001b[0;34m(\u001b[0m\u001b[0mX\u001b[0m\u001b[0;34m,\u001b[0m \u001b[0mtarget\u001b[0m\u001b[0;34m,\u001b[0m \u001b[0;36m1.\u001b[0m \u001b[0;34m/\u001b[0m \u001b[0mC\u001b[0m\u001b[0;34m,\u001b[0m \u001b[0msample_weight\u001b[0m\u001b[0;34m)\u001b[0m\u001b[0;34m\u001b[0m\u001b[0;34m\u001b[0m\u001b[0m\n\u001b[0;32m--> 768\u001b[0;31m             w0, n_iter_i = _newton_cg(hess, func, grad, w0, args=args,\n\u001b[0m\u001b[1;32m    769\u001b[0m                                       maxiter=max_iter, tol=tol)\n\u001b[1;32m    770\u001b[0m         \u001b[0;32melif\u001b[0m \u001b[0msolver\u001b[0m \u001b[0;34m==\u001b[0m \u001b[0;34m'liblinear'\u001b[0m\u001b[0;34m:\u001b[0m\u001b[0;34m\u001b[0m\u001b[0;34m\u001b[0m\u001b[0m\n",
      "\u001b[0;32m~/opt/anaconda3/envs/learn-env/lib/python3.8/site-packages/sklearn/utils/optimize.py\u001b[0m in \u001b[0;36m_newton_cg\u001b[0;34m(grad_hess, func, grad, x0, args, tol, maxiter, maxinner, line_search, warn)\u001b[0m\n\u001b[1;32m    192\u001b[0m         \u001b[0;31m# Inner loop: solve the Newton update by conjugate gradient, to\u001b[0m\u001b[0;34m\u001b[0m\u001b[0;34m\u001b[0m\u001b[0;34m\u001b[0m\u001b[0m\n\u001b[1;32m    193\u001b[0m         \u001b[0;31m# avoid inverting the Hessian\u001b[0m\u001b[0;34m\u001b[0m\u001b[0;34m\u001b[0m\u001b[0;34m\u001b[0m\u001b[0m\n\u001b[0;32m--> 194\u001b[0;31m         \u001b[0mxsupi\u001b[0m \u001b[0;34m=\u001b[0m \u001b[0m_cg\u001b[0m\u001b[0;34m(\u001b[0m\u001b[0mfhess_p\u001b[0m\u001b[0;34m,\u001b[0m \u001b[0mfgrad\u001b[0m\u001b[0;34m,\u001b[0m \u001b[0mmaxiter\u001b[0m\u001b[0;34m=\u001b[0m\u001b[0mmaxinner\u001b[0m\u001b[0;34m,\u001b[0m \u001b[0mtol\u001b[0m\u001b[0;34m=\u001b[0m\u001b[0mtermcond\u001b[0m\u001b[0;34m)\u001b[0m\u001b[0;34m\u001b[0m\u001b[0;34m\u001b[0m\u001b[0m\n\u001b[0m\u001b[1;32m    195\u001b[0m \u001b[0;34m\u001b[0m\u001b[0m\n\u001b[1;32m    196\u001b[0m         \u001b[0malphak\u001b[0m \u001b[0;34m=\u001b[0m \u001b[0;36m1.0\u001b[0m\u001b[0;34m\u001b[0m\u001b[0;34m\u001b[0m\u001b[0m\n",
      "\u001b[0;32m~/opt/anaconda3/envs/learn-env/lib/python3.8/site-packages/sklearn/utils/optimize.py\u001b[0m in \u001b[0;36m_cg\u001b[0;34m(fhess_p, fgrad, maxiter, tol)\u001b[0m\n\u001b[1;32m     89\u001b[0m             \u001b[0;32mbreak\u001b[0m\u001b[0;34m\u001b[0m\u001b[0;34m\u001b[0m\u001b[0m\n\u001b[1;32m     90\u001b[0m \u001b[0;34m\u001b[0m\u001b[0m\n\u001b[0;32m---> 91\u001b[0;31m         \u001b[0mAp\u001b[0m \u001b[0;34m=\u001b[0m \u001b[0mfhess_p\u001b[0m\u001b[0;34m(\u001b[0m\u001b[0mpsupi\u001b[0m\u001b[0;34m)\u001b[0m\u001b[0;34m\u001b[0m\u001b[0;34m\u001b[0m\u001b[0m\n\u001b[0m\u001b[1;32m     92\u001b[0m         \u001b[0;31m# check curvature\u001b[0m\u001b[0;34m\u001b[0m\u001b[0;34m\u001b[0m\u001b[0;34m\u001b[0m\u001b[0m\n\u001b[1;32m     93\u001b[0m         \u001b[0mcurv\u001b[0m \u001b[0;34m=\u001b[0m \u001b[0mnp\u001b[0m\u001b[0;34m.\u001b[0m\u001b[0mdot\u001b[0m\u001b[0;34m(\u001b[0m\u001b[0mpsupi\u001b[0m\u001b[0;34m,\u001b[0m \u001b[0mAp\u001b[0m\u001b[0;34m)\u001b[0m\u001b[0;34m\u001b[0m\u001b[0;34m\u001b[0m\u001b[0m\n",
      "\u001b[0;32m~/opt/anaconda3/envs/learn-env/lib/python3.8/site-packages/sklearn/linear_model/_logistic.py\u001b[0m in \u001b[0;36mHs\u001b[0;34m(s)\u001b[0m\n\u001b[1;32m    233\u001b[0m     \u001b[0;32mdef\u001b[0m \u001b[0mHs\u001b[0m\u001b[0;34m(\u001b[0m\u001b[0ms\u001b[0m\u001b[0;34m)\u001b[0m\u001b[0;34m:\u001b[0m\u001b[0;34m\u001b[0m\u001b[0;34m\u001b[0m\u001b[0m\n\u001b[1;32m    234\u001b[0m         \u001b[0mret\u001b[0m \u001b[0;34m=\u001b[0m \u001b[0mnp\u001b[0m\u001b[0;34m.\u001b[0m\u001b[0mempty_like\u001b[0m\u001b[0;34m(\u001b[0m\u001b[0ms\u001b[0m\u001b[0;34m)\u001b[0m\u001b[0;34m\u001b[0m\u001b[0;34m\u001b[0m\u001b[0m\n\u001b[0;32m--> 235\u001b[0;31m         \u001b[0mret\u001b[0m\u001b[0;34m[\u001b[0m\u001b[0;34m:\u001b[0m\u001b[0mn_features\u001b[0m\u001b[0;34m]\u001b[0m \u001b[0;34m=\u001b[0m \u001b[0mX\u001b[0m\u001b[0;34m.\u001b[0m\u001b[0mT\u001b[0m\u001b[0;34m.\u001b[0m\u001b[0mdot\u001b[0m\u001b[0;34m(\u001b[0m\u001b[0mdX\u001b[0m\u001b[0;34m.\u001b[0m\u001b[0mdot\u001b[0m\u001b[0;34m(\u001b[0m\u001b[0ms\u001b[0m\u001b[0;34m[\u001b[0m\u001b[0;34m:\u001b[0m\u001b[0mn_features\u001b[0m\u001b[0;34m]\u001b[0m\u001b[0;34m)\u001b[0m\u001b[0;34m)\u001b[0m\u001b[0;34m\u001b[0m\u001b[0;34m\u001b[0m\u001b[0m\n\u001b[0m\u001b[1;32m    236\u001b[0m         \u001b[0mret\u001b[0m\u001b[0;34m[\u001b[0m\u001b[0;34m:\u001b[0m\u001b[0mn_features\u001b[0m\u001b[0;34m]\u001b[0m \u001b[0;34m+=\u001b[0m \u001b[0malpha\u001b[0m \u001b[0;34m*\u001b[0m \u001b[0ms\u001b[0m\u001b[0;34m[\u001b[0m\u001b[0;34m:\u001b[0m\u001b[0mn_features\u001b[0m\u001b[0;34m]\u001b[0m\u001b[0;34m\u001b[0m\u001b[0;34m\u001b[0m\u001b[0m\n\u001b[1;32m    237\u001b[0m \u001b[0;34m\u001b[0m\u001b[0m\n",
      "\u001b[0;31mKeyboardInterrupt\u001b[0m: "
     ]
    }
   ],
   "source": [
    "## long runtime\n",
    "\n",
    "from sklearn.feature_selection import RFE\n",
    "estimator = logreg3\n",
    "selector = RFE(estimator, 5, step=1)\n",
    "selector = selector.fit(X_train_scaled, y_train)\n",
    "rfe_mask = selector.get_support() #list of booleans for selected features\n",
    "\n",
    "new_features = [] \n",
    "for bool, feature in zip(rfe_mask, X_train_scaled.columns):\n",
    "    if bool:\n",
    "        new_features.append(feature)\n",
    "\n",
    "new_features # The list of your 5 best features"
   ]
  }
 ],
 "metadata": {
  "kernelspec": {
   "display_name": "Python (learn-env)",
   "language": "python",
   "name": "learn-env"
  },
  "language_info": {
   "codemirror_mode": {
    "name": "ipython",
    "version": 3
   },
   "file_extension": ".py",
   "mimetype": "text/x-python",
   "name": "python",
   "nbconvert_exporter": "python",
   "pygments_lexer": "ipython3",
   "version": "3.8.5"
  },
  "toc": {
   "base_numbering": 1,
   "nav_menu": {},
   "number_sections": true,
   "sideBar": true,
   "skip_h1_title": false,
   "title_cell": "Table of Contents",
   "title_sidebar": "Contents",
   "toc_cell": false,
   "toc_position": {},
   "toc_section_display": true,
   "toc_window_display": true
  }
 },
 "nbformat": 4,
 "nbformat_minor": 5
}
